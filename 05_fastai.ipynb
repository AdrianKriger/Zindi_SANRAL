{
  "nbformat": 4,
  "nbformat_minor": 0,
  "metadata": {
    "colab": {
      "name": "05_fastai.ipynb",
      "provenance": [],
      "collapsed_sections": [],
      "machine_shape": "hm"
    },
    "kernelspec": {
      "display_name": "Python 3",
      "language": "python",
      "name": "python3"
    },
    "language_info": {
      "codemirror_mode": {
        "name": "ipython",
        "version": 3
      },
      "file_extension": ".py",
      "mimetype": "text/x-python",
      "name": "python",
      "nbconvert_exporter": "python",
      "pygments_lexer": "ipython3",
      "version": "3.6.10"
    },
    "accelerator": "GPU"
  },
  "cells": [
    {
      "cell_type": "markdown",
      "metadata": {
        "colab_type": "text",
        "id": "QRB2VJf_FbDu"
      },
      "source": [
        "# fastai\n",
        "\n",
        "This notebook is once again based on johnowhitaker's blog post found [here](https://datasciencecastnet.home.blog/2019/10/21/zindi-uberct-part-2-stepping-up/)."
      ]
    },
    {
      "cell_type": "code",
      "metadata": {
        "id": "LLaKG99m-7kM",
        "colab_type": "code",
        "colab": {}
      },
      "source": [
        "#because we're on google colab\n",
        "!pip install --upgrade pandas\n",
        "!pip install --upgrade geopandas\n",
        "!pip install --upgrade sklearn"
      ],
      "execution_count": null,
      "outputs": []
    },
    {
      "cell_type": "code",
      "metadata": {
        "colab_type": "code",
        "id": "1sSLFIJk9xLA",
        "colab": {}
      },
      "source": [
        "#load the modules that make the magic possible\n",
        "import pandas as pd\n",
        "import geopandas as gpd\n",
        "import numpy as np\n",
        "import matplotlib.pyplot as plt\n",
        "from pathlib import Path"
      ],
      "execution_count": 10,
      "outputs": []
    },
    {
      "cell_type": "code",
      "metadata": {
        "colab_type": "code",
        "id": "jMzywTjbXnmE",
        "colab": {}
      },
      "source": [
        "from fastai.tabular import *\n",
        "from sklearn.metrics import log_loss, f1_score"
      ],
      "execution_count": 11,
      "outputs": []
    },
    {
      "cell_type": "code",
      "metadata": {
        "id": "mw5dSJ0__kmu",
        "colab_type": "code",
        "colab": {}
      },
      "source": [
        "# mount google drive as a file system\n",
        "from google.colab import drive\n",
        "drive.mount('/content/gdrive', force_remount=True)"
      ],
      "execution_count": null,
      "outputs": []
    },
    {
      "cell_type": "code",
      "metadata": {
        "id": "g9aJs11m-sGm",
        "colab_type": "code",
        "colab": {}
      },
      "source": [
        "path = Path('/content/gdrive/My Drive/Zindi_Accident')"
      ],
      "execution_count": 13,
      "outputs": []
    },
    {
      "cell_type": "markdown",
      "metadata": {
        "id": "N9iRzWOmUS5F",
        "colab_type": "text"
      },
      "source": [
        "#### Load data"
      ]
    },
    {
      "cell_type": "code",
      "metadata": {
        "colab_type": "code",
        "id": "NOYTLTQa9z6A",
        "scrolled": true,
        "colab": {}
      },
      "source": [
        "#load the train and test\n",
        "train = pd.read_csv(path/'data/train_with_weather_vds.csv', sep = ';', parse_dates = ['datetime'])\n",
        "test = pd.read_csv(path/'data/test_with_weather_vds.csv', sep = ';', parse_dates = ['datetime'])"
      ],
      "execution_count": null,
      "outputs": []
    },
    {
      "cell_type": "code",
      "metadata": {
        "id": "9kr4s9-y-sG3",
        "colab_type": "code",
        "colab": {
          "base_uri": "https://localhost:8080/",
          "height": 73
        },
        "outputId": "b1adbe9a-9215-4a8e-ea07-7ad7c5fa4fa0"
      },
      "source": [
        "print(train.shape)\n",
        "print('')\n",
        "print(test.shape)"
      ],
      "execution_count": 16,
      "outputs": [
        {
          "output_type": "stream",
          "text": [
            "(4800043, 24)\n",
            "\n",
            "(1588346, 24)\n"
          ],
          "name": "stdout"
        }
      ]
    },
    {
      "cell_type": "code",
      "metadata": {
        "id": "6dYogtD9-sHB",
        "colab_type": "code",
        "colab": {
          "base_uri": "https://localhost:8080/",
          "height": 594
        },
        "outputId": "42a79c83-f1a9-410e-eab2-e4431ed9cdbd"
      },
      "source": [
        "train.info()"
      ],
      "execution_count": 17,
      "outputs": [
        {
          "output_type": "stream",
          "text": [
            "<class 'pandas.core.frame.DataFrame'>\n",
            "RangeIndex: 4800043 entries, 0 to 4800042\n",
            "Data columns (total 24 columns):\n",
            " #   Column                 Dtype         \n",
            "---  ------                 -----         \n",
            " 0   datetime x segment_id  object        \n",
            " 1   datetime               datetime64[ns]\n",
            " 2   segment_id             object        \n",
            " 3   y                      int64         \n",
            " 4   year                   int64         \n",
            " 5   month                  int64         \n",
            " 6   day                    int64         \n",
            " 7   hour                   int64         \n",
            " 8   longitude              float64       \n",
            " 9   latitude               float64       \n",
            " 10  WIDTH                  float64       \n",
            " 11  LANES                  int64         \n",
            " 12  STATION_NA             object        \n",
            " 13  Air_temp               float64       \n",
            " 14  Atmos_press            float64       \n",
            " 15  Atmos_press_MeanSea    float64       \n",
            " 16  Humidity               float64       \n",
            " 17  MeanWindSpeed          float64       \n",
            " 18  Visibility             float64       \n",
            " 19  DewPoint               float64       \n",
            " 20  Rainfall               float64       \n",
            " 21  Site_name              object        \n",
            " 22  Total_count            float64       \n",
            " 23  ave_speed              float64       \n",
            "dtypes: datetime64[ns](1), float64(13), int64(6), object(4)\n",
            "memory usage: 878.9+ MB\n"
          ],
          "name": "stdout"
        }
      ]
    },
    {
      "cell_type": "code",
      "metadata": {
        "id": "XW2G8PqS-sHR",
        "colab_type": "code",
        "colab": {
          "base_uri": "https://localhost:8080/",
          "height": 594
        },
        "outputId": "b7d8122d-3bca-49b0-d1d5-edc7c6d240f0"
      },
      "source": [
        "test.info()"
      ],
      "execution_count": 20,
      "outputs": [
        {
          "output_type": "stream",
          "text": [
            "<class 'pandas.core.frame.DataFrame'>\n",
            "RangeIndex: 1588346 entries, 0 to 1588345\n",
            "Data columns (total 24 columns):\n",
            " #   Column                 Non-Null Count    Dtype         \n",
            "---  ------                 --------------    -----         \n",
            " 0   datetime x segment_id  1588346 non-null  object        \n",
            " 1   datetime               1588346 non-null  datetime64[ns]\n",
            " 2   segment_id             1588346 non-null  object        \n",
            " 3   y                      1588346 non-null  int64         \n",
            " 4   year                   1588346 non-null  int64         \n",
            " 5   month                  1588346 non-null  int64         \n",
            " 6   day                    1588346 non-null  int64         \n",
            " 7   hour                   1588346 non-null  int64         \n",
            " 8   longitude              1588346 non-null  float64       \n",
            " 9   latitude               1588346 non-null  float64       \n",
            " 10  WIDTH                  1588346 non-null  float64       \n",
            " 11  LANES                  1588346 non-null  int64         \n",
            " 12  STATION_NA             1588346 non-null  object        \n",
            " 13  Air_temp               1466876 non-null  float64       \n",
            " 14  Atmos_press            1466876 non-null  float64       \n",
            " 15  Atmos_press_MeanSea    854292 non-null   float64       \n",
            " 16  Humidity               1466198 non-null  float64       \n",
            " 17  MeanWindSpeed          1466876 non-null  float64       \n",
            " 18  Visibility             699079 non-null   float64       \n",
            " 19  DewPoint               1466198 non-null  float64       \n",
            " 20  Rainfall               112721 non-null   float64       \n",
            " 21  Site_name              99358 non-null    object        \n",
            " 22  Total_count            99358 non-null    float64       \n",
            " 23  ave_speed              99355 non-null    float64       \n",
            "dtypes: datetime64[ns](1), float64(13), int64(6), object(4)\n",
            "memory usage: 290.8+ MB\n"
          ],
          "name": "stdout"
        }
      ]
    },
    {
      "cell_type": "code",
      "metadata": {
        "id": "uBdkA7R4DcGG",
        "colab_type": "code",
        "colab": {
          "base_uri": "https://localhost:8080/",
          "height": 219
        },
        "outputId": "500484ab-e9d0-4b21-e6c4-def96eb3f10d"
      },
      "source": [
        "train.head(2)"
      ],
      "execution_count": 25,
      "outputs": [
        {
          "output_type": "execute_result",
          "data": {
            "text/html": [
              "<div>\n",
              "<style scoped>\n",
              "    .dataframe tbody tr th:only-of-type {\n",
              "        vertical-align: middle;\n",
              "    }\n",
              "\n",
              "    .dataframe tbody tr th {\n",
              "        vertical-align: top;\n",
              "    }\n",
              "\n",
              "    .dataframe thead th {\n",
              "        text-align: right;\n",
              "    }\n",
              "</style>\n",
              "<table border=\"1\" class=\"dataframe\">\n",
              "  <thead>\n",
              "    <tr style=\"text-align: right;\">\n",
              "      <th></th>\n",
              "      <th>datetime x segment_id</th>\n",
              "      <th>datetime</th>\n",
              "      <th>segment_id</th>\n",
              "      <th>y</th>\n",
              "      <th>year</th>\n",
              "      <th>month</th>\n",
              "      <th>day</th>\n",
              "      <th>hour</th>\n",
              "      <th>longitude</th>\n",
              "      <th>latitude</th>\n",
              "      <th>WIDTH</th>\n",
              "      <th>LANES</th>\n",
              "      <th>STATION_NA</th>\n",
              "      <th>Air_temp</th>\n",
              "      <th>Atmos_press</th>\n",
              "      <th>Atmos_press_MeanSea</th>\n",
              "      <th>Humidity</th>\n",
              "      <th>MeanWindSpeed</th>\n",
              "      <th>Visibility</th>\n",
              "      <th>DewPoint</th>\n",
              "      <th>Rainfall</th>\n",
              "      <th>Site_name</th>\n",
              "      <th>Total_count</th>\n",
              "      <th>ave_speed</th>\n",
              "    </tr>\n",
              "  </thead>\n",
              "  <tbody>\n",
              "    <tr>\n",
              "      <th>0</th>\n",
              "      <td>2017-01-01 00:00:00 x S0B3CGQ</td>\n",
              "      <td>2017-01-01 00:00:00</td>\n",
              "      <td>S0B3CGQ</td>\n",
              "      <td>0</td>\n",
              "      <td>2017</td>\n",
              "      <td>1</td>\n",
              "      <td>6</td>\n",
              "      <td>0</td>\n",
              "      <td>18.541422</td>\n",
              "      <td>-33.888613</td>\n",
              "      <td>0.0</td>\n",
              "      <td>0</td>\n",
              "      <td>Ysterplaat</td>\n",
              "      <td>NaN</td>\n",
              "      <td>NaN</td>\n",
              "      <td>NaN</td>\n",
              "      <td>NaN</td>\n",
              "      <td>NaN</td>\n",
              "      <td>NaN</td>\n",
              "      <td>NaN</td>\n",
              "      <td>NaN</td>\n",
              "      <td>NaN</td>\n",
              "      <td>NaN</td>\n",
              "      <td>NaN</td>\n",
              "    </tr>\n",
              "    <tr>\n",
              "      <th>1</th>\n",
              "      <td>2017-01-01 01:00:00 x S0B3CGQ</td>\n",
              "      <td>2017-01-01 01:00:00</td>\n",
              "      <td>S0B3CGQ</td>\n",
              "      <td>0</td>\n",
              "      <td>2017</td>\n",
              "      <td>1</td>\n",
              "      <td>6</td>\n",
              "      <td>1</td>\n",
              "      <td>18.541422</td>\n",
              "      <td>-33.888613</td>\n",
              "      <td>0.0</td>\n",
              "      <td>0</td>\n",
              "      <td>Ysterplaat</td>\n",
              "      <td>NaN</td>\n",
              "      <td>NaN</td>\n",
              "      <td>NaN</td>\n",
              "      <td>NaN</td>\n",
              "      <td>NaN</td>\n",
              "      <td>NaN</td>\n",
              "      <td>NaN</td>\n",
              "      <td>NaN</td>\n",
              "      <td>NaN</td>\n",
              "      <td>NaN</td>\n",
              "      <td>NaN</td>\n",
              "    </tr>\n",
              "  </tbody>\n",
              "</table>\n",
              "</div>"
            ],
            "text/plain": [
              "           datetime x segment_id            datetime  ... Total_count  ave_speed\n",
              "0  2017-01-01 00:00:00 x S0B3CGQ 2017-01-01 00:00:00  ...         NaN        NaN\n",
              "1  2017-01-01 01:00:00 x S0B3CGQ 2017-01-01 01:00:00  ...         NaN        NaN\n",
              "\n",
              "[2 rows x 24 columns]"
            ]
          },
          "metadata": {
            "tags": []
          },
          "execution_count": 25
        }
      ]
    },
    {
      "cell_type": "markdown",
      "metadata": {
        "id": "MTRaHOHEb8WJ",
        "colab_type": "text"
      },
      "source": [
        "# Create a DataBunch.\n"
      ]
    },
    {
      "cell_type": "markdown",
      "metadata": {
        "id": "xWxqN3_ieymL",
        "colab_type": "text"
      },
      "source": [
        "List the columns we've created and will use"
      ]
    },
    {
      "cell_type": "code",
      "metadata": {
        "id": "joBzQ0XB-sH9",
        "colab_type": "code",
        "colab": {}
      },
      "source": [
        "# define a list of column names to be used for training\n",
        "x_cols = ['month', 'day', 'hour', 'longitude', 'latitude', 'WIDTH', 'LANES', 'Air_temp', 'Atmos_press', 'Atmos_press_MeanSea', \n",
        "          'Humidity', 'MeanWindSpeed', 'Visibility', 'DewPoint', 'Rainfall', 'Total_count', 'ave_speed']\n",
        "\n",
        "#we can define some caterogical as well - I haven't dealt  with this at all\n",
        "cat_cols = ['segment_id', 'STATION_NA',  'Site_name']"
      ],
      "execution_count": 76,
      "outputs": []
    },
    {
      "cell_type": "markdown",
      "metadata": {
        "id": "BT2LYfCJfIxi",
        "colab_type": "text"
      },
      "source": [
        "# fastai tabular"
      ]
    },
    {
      "cell_type": "code",
      "metadata": {
        "id": "cOnC38tq-sIF",
        "colab_type": "code",
        "colab": {}
      },
      "source": [
        "dep_var = 'y'\n",
        "cat_names = cat_cols\n",
        "cont_names = [x for x in x_cols if x not in cat_cols]\n",
        "procs = [FillMissing, Categorify, Normalize]"
      ],
      "execution_count": 77,
      "outputs": []
    },
    {
      "cell_type": "code",
      "metadata": {
        "id": "hWvlO9kYJ4sA",
        "colab_type": "code",
        "colab": {}
      },
      "source": [
        "test_t = TabularList.from_df(test, cat_names=cat_names, cont_names=cont_names)"
      ],
      "execution_count": 78,
      "outputs": []
    },
    {
      "cell_type": "markdown",
      "metadata": {
        "id": "5u8V6IEW-sIK",
        "colab_type": "text"
      },
      "source": [
        "##### Lets try again"
      ]
    },
    {
      "cell_type": "code",
      "metadata": {
        "id": "25wkoiL_-sIM",
        "colab_type": "code",
        "colab": {}
      },
      "source": [
        "data = (TabularList.from_df(train, cat_names=cat_names, cont_names=cont_names, procs=procs)\n",
        "                           .split_by_idx(list(range(int(train.shape[0]*0.9),train.shape[0])))\n",
        "                           .label_from_df(cols=dep_var)\n",
        "                           .add_test(test_t)\n",
        "                           .databunch(bs=500))"
      ],
      "execution_count": 79,
      "outputs": []
    },
    {
      "cell_type": "code",
      "metadata": {
        "id": "ow7vgFzT-sIR",
        "colab_type": "code",
        "colab": {
          "base_uri": "https://localhost:8080/",
          "height": 226
        },
        "outputId": "03da5d2f-8593-4ce5-b22a-d5f0bbdd71a3"
      },
      "source": [
        "data.show_batch()"
      ],
      "execution_count": 80,
      "outputs": [
        {
          "output_type": "display_data",
          "data": {
            "text/html": [
              "<table border=\"1\" class=\"dataframe\">\n",
              "  <thead>\n",
              "    <tr style=\"text-align: right;\">\n",
              "      <th>segment_id</th>\n",
              "      <th>STATION_NA</th>\n",
              "      <th>Site_name</th>\n",
              "      <th>Air_temp_na</th>\n",
              "      <th>Atmos_press_na</th>\n",
              "      <th>Atmos_press_MeanSea_na</th>\n",
              "      <th>Humidity_na</th>\n",
              "      <th>MeanWindSpeed_na</th>\n",
              "      <th>Visibility_na</th>\n",
              "      <th>DewPoint_na</th>\n",
              "      <th>Rainfall_na</th>\n",
              "      <th>Total_count_na</th>\n",
              "      <th>ave_speed_na</th>\n",
              "      <th>month</th>\n",
              "      <th>day</th>\n",
              "      <th>hour</th>\n",
              "      <th>longitude</th>\n",
              "      <th>latitude</th>\n",
              "      <th>WIDTH</th>\n",
              "      <th>LANES</th>\n",
              "      <th>Air_temp</th>\n",
              "      <th>Atmos_press</th>\n",
              "      <th>Atmos_press_MeanSea</th>\n",
              "      <th>Humidity</th>\n",
              "      <th>MeanWindSpeed</th>\n",
              "      <th>Visibility</th>\n",
              "      <th>DewPoint</th>\n",
              "      <th>Rainfall</th>\n",
              "      <th>Total_count</th>\n",
              "      <th>ave_speed</th>\n",
              "      <th>target</th>\n",
              "    </tr>\n",
              "  </thead>\n",
              "  <tbody>\n",
              "    <tr>\n",
              "      <td>S55R1TY</td>\n",
              "      <td>Cape_Town_International</td>\n",
              "      <td>#na#</td>\n",
              "      <td>False</td>\n",
              "      <td>False</td>\n",
              "      <td>False</td>\n",
              "      <td>False</td>\n",
              "      <td>False</td>\n",
              "      <td>False</td>\n",
              "      <td>False</td>\n",
              "      <td>True</td>\n",
              "      <td>True</td>\n",
              "      <td>True</td>\n",
              "      <td>0.1385</td>\n",
              "      <td>0.4951</td>\n",
              "      <td>1.0833</td>\n",
              "      <td>-0.0124</td>\n",
              "      <td>0.6589</td>\n",
              "      <td>0.7808</td>\n",
              "      <td>0.7066</td>\n",
              "      <td>-0.3815</td>\n",
              "      <td>0.5688</td>\n",
              "      <td>0.4233</td>\n",
              "      <td>0.6971</td>\n",
              "      <td>0.3955</td>\n",
              "      <td>-0.2520</td>\n",
              "      <td>0.3035</td>\n",
              "      <td>-0.1180</td>\n",
              "      <td>-0.0846</td>\n",
              "      <td>0.0877</td>\n",
              "      <td>0</td>\n",
              "    </tr>\n",
              "    <tr>\n",
              "      <td>GX2UELI</td>\n",
              "      <td>Cape_Town_International</td>\n",
              "      <td>#na#</td>\n",
              "      <td>False</td>\n",
              "      <td>False</td>\n",
              "      <td>False</td>\n",
              "      <td>False</td>\n",
              "      <td>False</td>\n",
              "      <td>False</td>\n",
              "      <td>False</td>\n",
              "      <td>True</td>\n",
              "      <td>True</td>\n",
              "      <td>True</td>\n",
              "      <td>1.2982</td>\n",
              "      <td>-1.0023</td>\n",
              "      <td>0.9389</td>\n",
              "      <td>0.4218</td>\n",
              "      <td>1.0162</td>\n",
              "      <td>0.7808</td>\n",
              "      <td>0.7066</td>\n",
              "      <td>0.3865</td>\n",
              "      <td>0.3313</td>\n",
              "      <td>-0.3972</td>\n",
              "      <td>-0.1154</td>\n",
              "      <td>3.4824</td>\n",
              "      <td>1.3251</td>\n",
              "      <td>0.6086</td>\n",
              "      <td>-0.1180</td>\n",
              "      <td>-0.0846</td>\n",
              "      <td>0.0877</td>\n",
              "      <td>0</td>\n",
              "    </tr>\n",
              "    <tr>\n",
              "      <td>EIIZE13</td>\n",
              "      <td>Cape_Town_International</td>\n",
              "      <td>#na#</td>\n",
              "      <td>False</td>\n",
              "      <td>False</td>\n",
              "      <td>False</td>\n",
              "      <td>False</td>\n",
              "      <td>False</td>\n",
              "      <td>False</td>\n",
              "      <td>False</td>\n",
              "      <td>True</td>\n",
              "      <td>True</td>\n",
              "      <td>True</td>\n",
              "      <td>-0.7312</td>\n",
              "      <td>1.4933</td>\n",
              "      <td>-0.9390</td>\n",
              "      <td>-0.2021</td>\n",
              "      <td>0.5296</td>\n",
              "      <td>-1.3853</td>\n",
              "      <td>-1.4152</td>\n",
              "      <td>0.1405</td>\n",
              "      <td>-0.0438</td>\n",
              "      <td>-1.6052</td>\n",
              "      <td>0.5810</td>\n",
              "      <td>0.3955</td>\n",
              "      <td>-0.2520</td>\n",
              "      <td>1.0303</td>\n",
              "      <td>-0.1180</td>\n",
              "      <td>-0.0846</td>\n",
              "      <td>0.0877</td>\n",
              "      <td>0</td>\n",
              "    </tr>\n",
              "    <tr>\n",
              "      <td>P7RBBFB</td>\n",
              "      <td>Cape_Town_International</td>\n",
              "      <td>#na#</td>\n",
              "      <td>False</td>\n",
              "      <td>False</td>\n",
              "      <td>False</td>\n",
              "      <td>False</td>\n",
              "      <td>False</td>\n",
              "      <td>False</td>\n",
              "      <td>False</td>\n",
              "      <td>True</td>\n",
              "      <td>True</td>\n",
              "      <td>True</td>\n",
              "      <td>-1.0211</td>\n",
              "      <td>-0.5032</td>\n",
              "      <td>-1.5168</td>\n",
              "      <td>-0.1281</td>\n",
              "      <td>0.0453</td>\n",
              "      <td>0.7808</td>\n",
              "      <td>0.7066</td>\n",
              "      <td>-0.2315</td>\n",
              "      <td>0.2040</td>\n",
              "      <td>-0.7619</td>\n",
              "      <td>0.9872</td>\n",
              "      <td>0.0250</td>\n",
              "      <td>-0.2520</td>\n",
              "      <td>0.8598</td>\n",
              "      <td>-0.1180</td>\n",
              "      <td>-0.0846</td>\n",
              "      <td>0.0877</td>\n",
              "      <td>0</td>\n",
              "    </tr>\n",
              "    <tr>\n",
              "      <td>2NHF7YC</td>\n",
              "      <td>Molteno</td>\n",
              "      <td>#na#</td>\n",
              "      <td>False</td>\n",
              "      <td>False</td>\n",
              "      <td>True</td>\n",
              "      <td>False</td>\n",
              "      <td>False</td>\n",
              "      <td>True</td>\n",
              "      <td>False</td>\n",
              "      <td>True</td>\n",
              "      <td>True</td>\n",
              "      <td>True</td>\n",
              "      <td>-0.7312</td>\n",
              "      <td>1.4933</td>\n",
              "      <td>-0.0723</td>\n",
              "      <td>-1.5143</td>\n",
              "      <td>-0.0688</td>\n",
              "      <td>-1.3853</td>\n",
              "      <td>-1.4152</td>\n",
              "      <td>1.4185</td>\n",
              "      <td>-0.0438</td>\n",
              "      <td>-0.0667</td>\n",
              "      <td>-1.9145</td>\n",
              "      <td>-0.3454</td>\n",
              "      <td>-0.2520</td>\n",
              "      <td>-0.8002</td>\n",
              "      <td>-0.1180</td>\n",
              "      <td>-0.0846</td>\n",
              "      <td>0.0877</td>\n",
              "      <td>0</td>\n",
              "    </tr>\n",
              "  </tbody>\n",
              "</table>"
            ],
            "text/plain": [
              "<IPython.core.display.HTML object>"
            ]
          },
          "metadata": {
            "tags": []
          }
        }
      ]
    },
    {
      "cell_type": "code",
      "metadata": {
        "id": "Y-cvYmrr-sIW",
        "colab_type": "code",
        "colab": {}
      },
      "source": [
        "learn = tabular_learner(data, layers=[200,100], metrics=accuracy)"
      ],
      "execution_count": 100,
      "outputs": []
    },
    {
      "cell_type": "code",
      "metadata": {
        "id": "Jl1HJiCygftP",
        "colab_type": "code",
        "colab": {
          "base_uri": "https://localhost:8080/",
          "height": 538
        },
        "outputId": "acb7954e-902d-4ac5-9a9f-439ace553af5"
      },
      "source": [
        "learn.model"
      ],
      "execution_count": 32,
      "outputs": [
        {
          "output_type": "execute_result",
          "data": {
            "text/plain": [
              "TabularModel(\n",
              "  (embeds): ModuleList(\n",
              "    (0): Embedding(491, 51)\n",
              "    (1): Embedding(6, 4)\n",
              "    (2): Embedding(44, 13)\n",
              "    (3): Embedding(3, 3)\n",
              "    (4): Embedding(3, 3)\n",
              "    (5): Embedding(3, 3)\n",
              "    (6): Embedding(3, 3)\n",
              "    (7): Embedding(3, 3)\n",
              "    (8): Embedding(3, 3)\n",
              "    (9): Embedding(3, 3)\n",
              "    (10): Embedding(3, 3)\n",
              "    (11): Embedding(3, 3)\n",
              "    (12): Embedding(3, 3)\n",
              "  )\n",
              "  (emb_drop): Dropout(p=0.0, inplace=False)\n",
              "  (bn_cont): BatchNorm1d(17, eps=1e-05, momentum=0.1, affine=True, track_running_stats=True)\n",
              "  (layers): Sequential(\n",
              "    (0): Linear(in_features=115, out_features=200, bias=True)\n",
              "    (1): ReLU(inplace=True)\n",
              "    (2): BatchNorm1d(200, eps=1e-05, momentum=0.1, affine=True, track_running_stats=True)\n",
              "    (3): Linear(in_features=200, out_features=100, bias=True)\n",
              "    (4): ReLU(inplace=True)\n",
              "    (5): BatchNorm1d(100, eps=1e-05, momentum=0.1, affine=True, track_running_stats=True)\n",
              "    (6): Linear(in_features=100, out_features=2, bias=True)\n",
              "  )\n",
              ")"
            ]
          },
          "metadata": {
            "tags": []
          },
          "execution_count": 32
        }
      ]
    },
    {
      "cell_type": "code",
      "metadata": {
        "id": "LqbAIJ3o-sIb",
        "colab_type": "code",
        "colab": {
          "base_uri": "https://localhost:8080/",
          "height": 114
        },
        "outputId": "7e5619b4-722c-4027-e906-e7450bb2f064"
      },
      "source": [
        "learn.lr_find()"
      ],
      "execution_count": 101,
      "outputs": [
        {
          "output_type": "display_data",
          "data": {
            "text/html": [
              "\n",
              "    <div>\n",
              "        <style>\n",
              "            /* Turns off some styling */\n",
              "            progress {\n",
              "                /* gets rid of default border in Firefox and Opera. */\n",
              "                border: none;\n",
              "                /* Needs to be in here for Safari polyfill so background images work as expected. */\n",
              "                background-size: auto;\n",
              "            }\n",
              "            .progress-bar-interrupted, .progress-bar-interrupted::-webkit-progress-bar {\n",
              "                background: #F44336;\n",
              "            }\n",
              "        </style>\n",
              "      <progress value='0' class='' max='1' style='width:300px; height:20px; vertical-align: middle;'></progress>\n",
              "      0.00% [0/1 00:00<00:00]\n",
              "    </div>\n",
              "    \n",
              "<table border=\"1\" class=\"dataframe\">\n",
              "  <thead>\n",
              "    <tr style=\"text-align: left;\">\n",
              "      <th>epoch</th>\n",
              "      <th>train_loss</th>\n",
              "      <th>valid_loss</th>\n",
              "      <th>accuracy</th>\n",
              "      <th>time</th>\n",
              "    </tr>\n",
              "  </thead>\n",
              "  <tbody>\n",
              "  </tbody>\n",
              "</table><p>\n",
              "\n",
              "    <div>\n",
              "        <style>\n",
              "            /* Turns off some styling */\n",
              "            progress {\n",
              "                /* gets rid of default border in Firefox and Opera. */\n",
              "                border: none;\n",
              "                /* Needs to be in here for Safari polyfill so background images work as expected. */\n",
              "                background-size: auto;\n",
              "            }\n",
              "            .progress-bar-interrupted, .progress-bar-interrupted::-webkit-progress-bar {\n",
              "                background: #F44336;\n",
              "            }\n",
              "        </style>\n",
              "      <progress value='92' class='' max='8640' style='width:300px; height:20px; vertical-align: middle;'></progress>\n",
              "      1.06% [92/8640 00:02<04:04 0.6422]\n",
              "    </div>\n",
              "    "
            ],
            "text/plain": [
              "<IPython.core.display.HTML object>"
            ]
          },
          "metadata": {
            "tags": []
          }
        },
        {
          "output_type": "stream",
          "text": [
            "LR Finder is complete, type {learner_name}.recorder.plot() to see the graph.\n"
          ],
          "name": "stdout"
        }
      ]
    },
    {
      "cell_type": "code",
      "metadata": {
        "id": "JWQF9A1O-sIh",
        "colab_type": "code",
        "colab": {
          "base_uri": "https://localhost:8080/",
          "height": 279
        },
        "outputId": "020a605b-f3a1-4a94-ca99-c6d14b2052d4"
      },
      "source": [
        "learn.recorder.plot()"
      ],
      "execution_count": 102,
      "outputs": [
        {
          "output_type": "display_data",
          "data": {
            "image/png": "[encoded data removed]",
            "text/plain": [
              "<Figure size 432x288 with 1 Axes>"
            ]
          },
          "metadata": {
            "tags": [],
            "needs_background": "light"
          }
        }
      ]
    },
    {
      "cell_type": "code",
      "metadata": {
        "scrolled": true,
        "id": "iHUPNFtn-sIn",
        "colab_type": "code",
        "colab": {}
      },
      "source": [
        "l_rate = 1e-01"
      ],
      "execution_count": 103,
      "outputs": []
    },
    {
      "cell_type": "code",
      "metadata": {
        "id": "Y7DLNACE-sIv",
        "colab_type": "code",
        "colab": {
          "base_uri": "https://localhost:8080/",
          "height": 175
        },
        "outputId": "fe2b9a98-39ad-421b-831a-0d6ba79f59e6"
      },
      "source": [
        "learn.fit_one_cycle(4, l_rate)"
      ],
      "execution_count": 104,
      "outputs": [
        {
          "output_type": "display_data",
          "data": {
            "text/html": [
              "<table border=\"1\" class=\"dataframe\">\n",
              "  <thead>\n",
              "    <tr style=\"text-align: left;\">\n",
              "      <th>epoch</th>\n",
              "      <th>train_loss</th>\n",
              "      <th>valid_loss</th>\n",
              "      <th>accuracy</th>\n",
              "      <th>time</th>\n",
              "    </tr>\n",
              "  </thead>\n",
              "  <tbody>\n",
              "    <tr>\n",
              "      <td>0</td>\n",
              "      <td>0.021901</td>\n",
              "      <td>0.005679</td>\n",
              "      <td>0.999890</td>\n",
              "      <td>02:49</td>\n",
              "    </tr>\n",
              "    <tr>\n",
              "      <td>1</td>\n",
              "      <td>0.020565</td>\n",
              "      <td>0.025658</td>\n",
              "      <td>0.999894</td>\n",
              "      <td>02:50</td>\n",
              "    </tr>\n",
              "    <tr>\n",
              "      <td>2</td>\n",
              "      <td>0.019750</td>\n",
              "      <td>0.020925</td>\n",
              "      <td>0.999894</td>\n",
              "      <td>02:49</td>\n",
              "    </tr>\n",
              "    <tr>\n",
              "      <td>3</td>\n",
              "      <td>0.017558</td>\n",
              "      <td>0.020922</td>\n",
              "      <td>0.999894</td>\n",
              "      <td>02:52</td>\n",
              "    </tr>\n",
              "  </tbody>\n",
              "</table>"
            ],
            "text/plain": [
              "<IPython.core.display.HTML object>"
            ]
          },
          "metadata": {
            "tags": []
          }
        }
      ]
    },
    {
      "cell_type": "code",
      "metadata": {
        "id": "Ohgt-mx8gO75",
        "colab_type": "code",
        "colab": {
          "base_uri": "https://localhost:8080/",
          "height": 279
        },
        "outputId": "4a4ea718-a883-4d45-f62e-201828a8dee1"
      },
      "source": [
        "learn.recorder.plot_losses()"
      ],
      "execution_count": 105,
      "outputs": [
        {
          "output_type": "display_data",
          "data": {
            "image/png": "[encoded data removed]",
            "text/plain": [
              "<Figure size 432x288 with 1 Axes>"
            ]
          },
          "metadata": {
            "tags": [],
            "needs_background": "light"
          }
        }
      ]
    },
    {
      "cell_type": "code",
      "metadata": {
        "id": "nTQoeKy0-sI2",
        "colab_type": "code",
        "colab": {}
      },
      "source": [
        "learn.save(path/'ZindiSANRAL_fastai')"
      ],
      "execution_count": null,
      "outputs": []
    },
    {
      "cell_type": "code",
      "metadata": {
        "scrolled": true,
        "id": "QdedsphG-sJA",
        "colab_type": "code",
        "colab": {
          "base_uri": "https://localhost:8080/",
          "height": 17
        },
        "outputId": "b793daef-949d-47c5-8b9d-702daddcd1e5"
      },
      "source": [
        "predictions, *_ = learn.get_preds(DatasetType.Test)"
      ],
      "execution_count": 106,
      "outputs": [
        {
          "output_type": "display_data",
          "data": {
            "text/html": [
              ""
            ],
            "text/plain": [
              "<IPython.core.display.HTML object>"
            ]
          },
          "metadata": {
            "tags": []
          }
        }
      ]
    },
    {
      "cell_type": "code",
      "metadata": {
        "id": "jn9ppQTP67SJ",
        "colab_type": "code",
        "colab": {
          "base_uri": "https://localhost:8080/",
          "height": 166
        },
        "outputId": "7a2887b9-56bf-41d7-ec2f-93145efd12fc"
      },
      "source": [
        "test['p'] = predictions[:,1]\n",
        "for t in [0.01, 0.03, 0.035, 0.04, 0.045, 0.05, 0.1, 0.3]:\n",
        "  test['pt'] = (test['p']>t).astype(int)\n",
        "  print('Threshold: ', t, 'F1:', f1_score(test['y'], test['pt']))"
      ],
      "execution_count": 107,
      "outputs": [
        {
          "output_type": "stream",
          "text": [
            "Threshold:  0.01 F1: 0.02685342045821233\n",
            "Threshold:  0.03 F1: 0.02767270945614895\n",
            "Threshold:  0.035 F1: 0.02437964661581539\n",
            "Threshold:  0.04 F1: 0.022872934673957783\n",
            "Threshold:  0.045 F1: 0.019450009105809504\n",
            "Threshold:  0.05 F1: 0.015656817050545273\n",
            "Threshold:  0.1 F1: 0.0\n",
            "Threshold:  0.3 F1: 0.0\n"
          ],
          "name": "stdout"
        }
      ]
    },
    {
      "cell_type": "markdown",
      "metadata": {
        "id": "eRLgqI30ovDq",
        "colab_type": "text"
      },
      "source": [
        "#### The best results (*f1_score: 0.026 / 0.027*) are very similar to the previous ```notebook```; only without the time intensive ```parameter tuning```. \n",
        "\n",
        "> I'm going to stop now. I might be ```overfitting```; but did wrangle some data and hopefully gained a basic understanding of ```machine learning``` with a dose of fastai's deep learning ```tabular``` method. I'll leave the rest to the experts.\n",
        "\n",
        "> I won't be adding the travel time data... not soon anyway."
      ]
    }
  ]
}