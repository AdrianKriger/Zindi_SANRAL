{
  "nbformat": 4,
  "nbformat_minor": 0,
  "metadata": {
    "colab": {
      "name": "01_SimpleXGBClassifier.ipynb",
      "provenance": [],
      "collapsed_sections": [
        "lg9Dq6g9B6uN"
      ],
      "authorship_tag": "ABX9TyNVEZyl7ctLFB2XclX5lvUX"
    },
    "kernelspec": {
      "name": "python3",
      "display_name": "Python 3"
    }
  },
  "cells": [
    {
      "cell_type": "markdown",
      "metadata": {
        "id": "6pmTCLC3DOxy",
        "colab_type": "text"
      },
      "source": [
        "## Data Wrangling\n",
        "\n",
        "This notebook is based on johnowhitaker's blog post found [here](https://datasciencecastnet.home.blog/2019/10/21/zindi-uberct-part-2-stepping-up/).\n",
        "\n",
        "It will take you through some data wrangling with ```pandas``` and ```geopandas```; to create tabular data for an ```xgboost``` Machine Learning ```predicit```ion."
      ]
    },
    {
      "cell_type": "code",
      "metadata": {
        "id": "XCgn4lCRrzwE",
        "colab_type": "code",
        "colab": {}
      },
      "source": [
        "#because we're on google colab\n",
        "!pip install --upgrade pandas\n",
        "!pip install --upgrade geopandas\n",
        "!pip install --upgrade sklearn\n",
        "!pip install --upgrade xgboost\n",
        "!pip install --upgrade seaborn"
      ],
      "execution_count": null,
      "outputs": []
    },
    {
      "cell_type": "code",
      "metadata": {
        "id": "gAQ1_b_ssEy6",
        "colab_type": "code",
        "colab": {}
      },
      "source": [
        "#load the modules that make the magic possible\n",
        "import pandas as pd\n",
        "import geopandas as gpd\n",
        "from shapely.geometry import Point, LineString\n",
        "import numpy as np\n",
        "import itertools\n",
        "import matplotlib.pyplot as plt\n",
        "import seaborn as sns\n",
        "from pathlib import Path"
      ],
      "execution_count": 31,
      "outputs": []
    },
    {
      "cell_type": "code",
      "metadata": {
        "id": "Plw5NXUZDKgG",
        "colab_type": "code",
        "colab": {}
      },
      "source": [
        "from matplotlib import pyplot\n",
        "from xgboost import XGBClassifier, XGBRegressor, plot_importance\n",
        "from collections import Counter\n",
        "from sklearn.linear_model import LogisticRegression\n",
        "from sklearn.model_selection import cross_val_score, RepeatedStratifiedKFold, GridSearchCV, RandomizedSearchCV\n",
        "from sklearn.metrics import f1_score, classification_report, auc, log_loss, accuracy_score, confusion_matrix, precision_score, mean_squared_error, recall_score,roc_auc_score, roc_curve, average_precision_score,precision_recall_curve\n",
        "from numpy import where, mean, sqrt, argmax, arange"
      ],
      "execution_count": 3,
      "outputs": []
    },
    {
      "cell_type": "code",
      "metadata": {
        "id": "xXERSBC1sE2m",
        "colab_type": "code",
        "colab": {}
      },
      "source": [
        "# mount google drive as a file system\n",
        "from google.colab import drive\n",
        "drive.mount('/content/gdrive', force_remount=True)"
      ],
      "execution_count": null,
      "outputs": []
    },
    {
      "cell_type": "code",
      "metadata": {
        "id": "6e7W3_gesQfn",
        "colab_type": "code",
        "colab": {}
      },
      "source": [
        "#set path\n",
        "path = Path('/content/gdrive/My Drive/Zindi_Accident')"
      ],
      "execution_count": 5,
      "outputs": []
    },
    {
      "cell_type": "code",
      "metadata": {
        "id": "k9sGTYVV_adt",
        "colab_type": "code",
        "colab": {}
      },
      "source": [
        "import sys\n",
        "sys.path.append('/content/gdrive/My Drive/Zindi_Accident')\n",
        "\n",
        "# load a custom confusion_matrix tool for plotting \n",
        "# courtesy - leportella (https://github.com/leportella/federal-road-accidents)\n",
        "from tools import plot_confusion_matrix"
      ],
      "execution_count": 67,
      "outputs": []
    },
    {
      "cell_type": "markdown",
      "metadata": {
        "id": "cwQ-jqNkGf-p",
        "colab_type": "text"
      },
      "source": [
        "# Load data\n",
        "\n",
        "Look at the ```train.csv``` and  ```road_segments.zip``` from [Zindi](https://zindi.africa/competitions/uber-movement-sanral-cape-town-challenge)."
      ]
    },
    {
      "cell_type": "code",
      "metadata": {
        "id": "9Cbq_HbhsE6T",
        "colab_type": "code",
        "colab": {
          "base_uri": "https://localhost:8080/",
          "height": 276
        },
        "outputId": "b1dde8b5-6443-4432-aeb6-90a383031e11"
      },
      "source": [
        "# have a look\n",
        "data = pd.read_csv(path/'data/train.csv', \n",
        "                   parse_dates = ['Occurrence Local Date Time'])\n",
        "data.head()"
      ],
      "execution_count": 6,
      "outputs": [
        {
          "output_type": "execute_result",
          "data": {
            "text/html": [
              "<div>\n",
              "<style scoped>\n",
              "    .dataframe tbody tr th:only-of-type {\n",
              "        vertical-align: middle;\n",
              "    }\n",
              "\n",
              "    .dataframe tbody tr th {\n",
              "        vertical-align: top;\n",
              "    }\n",
              "\n",
              "    .dataframe thead th {\n",
              "        text-align: right;\n",
              "    }\n",
              "</style>\n",
              "<table border=\"1\" class=\"dataframe\">\n",
              "  <thead>\n",
              "    <tr style=\"text-align: right;\">\n",
              "      <th></th>\n",
              "      <th>EventId</th>\n",
              "      <th>Occurrence Local Date Time</th>\n",
              "      <th>Reporting Agency</th>\n",
              "      <th>Cause</th>\n",
              "      <th>Subcause</th>\n",
              "      <th>Status</th>\n",
              "      <th>longitude</th>\n",
              "      <th>latitude</th>\n",
              "      <th>road_segment_id</th>\n",
              "    </tr>\n",
              "  </thead>\n",
              "  <tbody>\n",
              "    <tr>\n",
              "      <th>0</th>\n",
              "      <td>60558</td>\n",
              "      <td>2016-01-01 00:53:00</td>\n",
              "      <td>Cam</td>\n",
              "      <td>Stationary Vehicle</td>\n",
              "      <td>Vehicle On Shoulder</td>\n",
              "      <td>Closed</td>\n",
              "      <td>18.5408955032</td>\n",
              "      <td>-33.888275</td>\n",
              "      <td>S0B3CGQ</td>\n",
              "    </tr>\n",
              "    <tr>\n",
              "      <th>1</th>\n",
              "      <td>60559</td>\n",
              "      <td>2016-01-01 00:54:00</td>\n",
              "      <td>CAMERA</td>\n",
              "      <td>Accident</td>\n",
              "      <td>With A Fixed Object</td>\n",
              "      <td>Closed</td>\n",
              "      <td>18.9307563219</td>\n",
              "      <td>-34.140857</td>\n",
              "      <td>RYJYAPI</td>\n",
              "    </tr>\n",
              "    <tr>\n",
              "      <th>2</th>\n",
              "      <td>60560</td>\n",
              "      <td>2016-01-01 02:26:00</td>\n",
              "      <td>Law Enforcement</td>\n",
              "      <td>Accident</td>\n",
              "      <td>Multi Vehicle</td>\n",
              "      <td>Closed</td>\n",
              "      <td>18.5533575029</td>\n",
              "      <td>-33.959154</td>\n",
              "      <td>U3KP57C</td>\n",
              "    </tr>\n",
              "    <tr>\n",
              "      <th>3</th>\n",
              "      <td>60561</td>\n",
              "      <td>2016-01-01 02:56:00</td>\n",
              "      <td>CAMERA</td>\n",
              "      <td>Stationary Vehicle</td>\n",
              "      <td>Vehicle On Shoulder</td>\n",
              "      <td>Closed</td>\n",
              "      <td>18.6775561589</td>\n",
              "      <td>-33.895258</td>\n",
              "      <td>RY0TRQ8</td>\n",
              "    </tr>\n",
              "    <tr>\n",
              "      <th>4</th>\n",
              "      <td>60562</td>\n",
              "      <td>2016-01-01 03:40:00</td>\n",
              "      <td>CAMERA</td>\n",
              "      <td>Accident</td>\n",
              "      <td>Multi Vehicle</td>\n",
              "      <td>Closed</td>\n",
              "      <td>18.8371319682</td>\n",
              "      <td>-34.087051</td>\n",
              "      <td>8LOVJZ3</td>\n",
              "    </tr>\n",
              "  </tbody>\n",
              "</table>\n",
              "</div>"
            ],
            "text/plain": [
              "   EventId Occurrence Local Date Time  ...   latitude road_segment_id\n",
              "0    60558        2016-01-01 00:53:00  ... -33.888275         S0B3CGQ\n",
              "1    60559        2016-01-01 00:54:00  ... -34.140857         RYJYAPI\n",
              "2    60560        2016-01-01 02:26:00  ... -33.959154         U3KP57C\n",
              "3    60561        2016-01-01 02:56:00  ... -33.895258         RY0TRQ8\n",
              "4    60562        2016-01-01 03:40:00  ... -34.087051         8LOVJZ3\n",
              "\n",
              "[5 rows x 9 columns]"
            ]
          },
          "metadata": {
            "tags": []
          },
          "execution_count": 6
        }
      ]
    },
    {
      "cell_type": "code",
      "metadata": {
        "id": "l6gtbh_L78yk",
        "colab_type": "code",
        "colab": {
          "base_uri": "https://localhost:8080/",
          "height": 311
        },
        "outputId": "e7403c2e-e660-47d2-e4b3-b43d95803451"
      },
      "source": [
        "data.info()"
      ],
      "execution_count": null,
      "outputs": [
        {
          "output_type": "stream",
          "text": [
            "<class 'pandas.core.frame.DataFrame'>\n",
            "RangeIndex: 53845 entries, 0 to 53844\n",
            "Data columns (total 9 columns):\n",
            " #   Column                      Non-Null Count  Dtype         \n",
            "---  ------                      --------------  -----         \n",
            " 0   EventId                     53845 non-null  int64         \n",
            " 1   Occurrence Local Date Time  53845 non-null  datetime64[ns]\n",
            " 2   Reporting Agency            52226 non-null  object        \n",
            " 3   Cause                       53845 non-null  object        \n",
            " 4   Subcause                    53845 non-null  object        \n",
            " 5   Status                      53845 non-null  object        \n",
            " 6   longitude                   53845 non-null  object        \n",
            " 7   latitude                    53845 non-null  float64       \n",
            " 8   road_segment_id             53845 non-null  object        \n",
            "dtypes: datetime64[ns](1), float64(1), int64(1), object(6)\n",
            "memory usage: 3.7+ MB\n"
          ],
          "name": "stdout"
        }
      ]
    },
    {
      "cell_type": "code",
      "metadata": {
        "id": "undBbGPOByYi",
        "colab_type": "code",
        "colab": {
          "base_uri": "https://localhost:8080/",
          "height": 1000
        },
        "outputId": "1a7be0e6-2c80-4273-b013-1b4e62990582"
      },
      "source": [
        "# graph some columns\n",
        "fig, ax = plt.subplots(figsize=(25,25)) \n",
        "\n",
        "rd_seg = data.groupby('road_segment_id').size()\n",
        "rd_seg.plot(kind = 'bar')\n",
        "ax.set_xticklabels(rd_seg, fontsize=8, rotation=45)\n",
        "\n",
        "plt.show()"
      ],
      "execution_count": null,
      "outputs": [
        {
          "output_type": "display_data",
          "data": {
            "image/png": "[encoded data removed]",
            "text/plain": [
              "<Figure size 1800x1800 with 1 Axes>"
            ]
          },
          "metadata": {
            "tags": [],
            "needs_background": "light"
          }
        }
      ]
    },
    {
      "cell_type": "markdown",
      "metadata": {
        "id": "g_al-aGoCSm5",
        "colab_type": "text"
      },
      "source": [
        "### As expected; some roads are more dangerous than others"
      ]
    },
    {
      "cell_type": "code",
      "metadata": {
        "id": "c5qT2sWl8ThJ",
        "colab_type": "code",
        "colab": {
          "base_uri": "https://localhost:8080/",
          "height": 646
        },
        "outputId": "a331ead9-ef83-4974-db19-799e538575b5"
      },
      "source": [
        "# graph some more columns\n",
        "fig, (ax1, ax2) = plt.subplots(nrows=1, ncols=2, figsize=(11,11)) \n",
        "\n",
        "cause = data.groupby('Cause').size()\n",
        "ax1 = cause.plot(ax=ax1, kind = 'barh')\n",
        "\n",
        "Subcause = data.groupby('Subcause').size()\n",
        "ax2 = Subcause.plot(ax=ax2, kind = 'barh')\n",
        "\n",
        "fig.subplots_adjust(hspace=.5, wspace=3)\n",
        "\n",
        "plt.show()"
      ],
      "execution_count": null,
      "outputs": [
        {
          "output_type": "display_data",
          "data": {
            "image/png": "[encoded data removed]",
            "text/plain": [
              "<Figure size 792x792 with 2 Axes>"
            ]
          },
          "metadata": {
            "tags": [],
            "needs_background": "light"
          }
        }
      ]
    },
    {
      "cell_type": "code",
      "metadata": {
        "id": "QJj5r8IkB5Gt",
        "colab_type": "code",
        "colab": {
          "base_uri": "https://localhost:8080/",
          "height": 331
        },
        "outputId": "d259927f-29e7-451c-b6e9-48c6fc01d6e7"
      },
      "source": [
        "# graph some more coulmns\n",
        "fig, ((ax1,ax2),(ax3,ax4)) = plt.subplots(nrows=2, ncols=2, figsize=(13,5))\n",
        "\n",
        "data['year'] = data['Occurrence Local Date Time'].dt.year\n",
        "year = data.groupby('year').size()\n",
        "ax1 = year.plot(ax=ax1, kind = 'bar')\n",
        "#ax[0, 0].set_title('Year')\n",
        "\n",
        "data['month'] = data['Occurrence Local Date Time'].dt.month\n",
        "month = data.groupby('month').size()\n",
        "ax2 = month.plot(ax=ax2, kind = 'bar')\n",
        "\n",
        "data['day'] = data['Occurrence Local Date Time'].dt.day\n",
        "day = data.groupby('day').size()\n",
        "ax3 = day.plot(ax=ax3,kind='bar')\n",
        "\n",
        "data['hour'] = data['Occurrence Local Date Time'].dt.hour\n",
        "hour = data.groupby('hour').size()\n",
        "ax4 = hour.plot(ax=ax4, kind = 'bar')\n",
        "\n",
        "data.drop('year', axis=1, inplace=True)\n",
        "data.drop('month', axis=1, inplace=True)\n",
        "data.drop('day', axis=1, inplace=True)\n",
        "data.drop('hour', axis=1, inplace=True)\n",
        "\n",
        "fig.tight_layout(pad=3.0)\n",
        "plt.show()"
      ],
      "execution_count": null,
      "outputs": [
        {
          "output_type": "display_data",
          "data": {
            "image/png": "[encoded data removed]",
            "text/plain": [
              "<Figure size 936x360 with 4 Axes>"
            ]
          },
          "metadata": {
            "tags": [],
            "needs_background": "light"
          }
        }
      ]
    },
    {
      "cell_type": "markdown",
      "metadata": {
        "id": "6jxYDshGG0VV",
        "colab_type": "text"
      },
      "source": [
        "### I want to plot this so; convert to geopandas"
      ]
    },
    {
      "cell_type": "code",
      "metadata": {
        "id": "zrn_U-tNG4Qj",
        "colab_type": "code",
        "colab": {
          "base_uri": "https://localhost:8080/",
          "height": 484
        },
        "outputId": "9b7d7b92-6bb4-4711-9c75-d74197847c70"
      },
      "source": [
        "data[\"longitude\"] = pd.to_numeric(data[\"longitude\"])\n",
        "data[\"latitude\"] = pd.to_numeric(data[\"latitude\"])"
      ],
      "execution_count": null,
      "outputs": [
        {
          "output_type": "error",
          "ename": "ValueError",
          "evalue": "ignored",
          "traceback": [
            "\u001b[0;31m---------------------------------------------------------------------------\u001b[0m",
            "\u001b[0;31mValueError\u001b[0m                                Traceback (most recent call last)",
            "\u001b[0;32mpandas/_libs/lib.pyx\u001b[0m in \u001b[0;36mpandas._libs.lib.maybe_convert_numeric\u001b[0;34m()\u001b[0m\n",
            "\u001b[0;31mValueError\u001b[0m: Unable to parse string \"Closed\"",
            "\nDuring handling of the above exception, another exception occurred:\n",
            "\u001b[0;31mValueError\u001b[0m                                Traceback (most recent call last)",
            "\u001b[0;32m<ipython-input-25-e4d114a61619>\u001b[0m in \u001b[0;36m<module>\u001b[0;34m()\u001b[0m\n\u001b[0;32m----> 1\u001b[0;31m \u001b[0mdata\u001b[0m\u001b[0;34m[\u001b[0m\u001b[0;34m\"longitude\"\u001b[0m\u001b[0;34m]\u001b[0m \u001b[0;34m=\u001b[0m \u001b[0mpd\u001b[0m\u001b[0;34m.\u001b[0m\u001b[0mto_numeric\u001b[0m\u001b[0;34m(\u001b[0m\u001b[0mdata\u001b[0m\u001b[0;34m[\u001b[0m\u001b[0;34m\"longitude\"\u001b[0m\u001b[0;34m]\u001b[0m\u001b[0;34m)\u001b[0m\u001b[0;34m\u001b[0m\u001b[0;34m\u001b[0m\u001b[0m\n\u001b[0m\u001b[1;32m      2\u001b[0m \u001b[0mdata\u001b[0m\u001b[0;34m[\u001b[0m\u001b[0;34m\"latitude\"\u001b[0m\u001b[0;34m]\u001b[0m \u001b[0;34m=\u001b[0m \u001b[0mpd\u001b[0m\u001b[0;34m.\u001b[0m\u001b[0mto_numeric\u001b[0m\u001b[0;34m(\u001b[0m\u001b[0mdata\u001b[0m\u001b[0;34m[\u001b[0m\u001b[0;34m\"latitude\"\u001b[0m\u001b[0;34m]\u001b[0m\u001b[0;34m)\u001b[0m\u001b[0;34m\u001b[0m\u001b[0;34m\u001b[0m\u001b[0m\n",
            "\u001b[0;32m/usr/local/lib/python3.6/dist-packages/pandas/core/tools/numeric.py\u001b[0m in \u001b[0;36mto_numeric\u001b[0;34m(arg, errors, downcast)\u001b[0m\n\u001b[1;32m    148\u001b[0m         \u001b[0;32mtry\u001b[0m\u001b[0;34m:\u001b[0m\u001b[0;34m\u001b[0m\u001b[0;34m\u001b[0m\u001b[0m\n\u001b[1;32m    149\u001b[0m             values = lib.maybe_convert_numeric(\n\u001b[0;32m--> 150\u001b[0;31m                 \u001b[0mvalues\u001b[0m\u001b[0;34m,\u001b[0m \u001b[0mset\u001b[0m\u001b[0;34m(\u001b[0m\u001b[0;34m)\u001b[0m\u001b[0;34m,\u001b[0m \u001b[0mcoerce_numeric\u001b[0m\u001b[0;34m=\u001b[0m\u001b[0mcoerce_numeric\u001b[0m\u001b[0;34m\u001b[0m\u001b[0;34m\u001b[0m\u001b[0m\n\u001b[0m\u001b[1;32m    151\u001b[0m             )\n\u001b[1;32m    152\u001b[0m         \u001b[0;32mexcept\u001b[0m \u001b[0;34m(\u001b[0m\u001b[0mValueError\u001b[0m\u001b[0;34m,\u001b[0m \u001b[0mTypeError\u001b[0m\u001b[0;34m)\u001b[0m\u001b[0;34m:\u001b[0m\u001b[0;34m\u001b[0m\u001b[0;34m\u001b[0m\u001b[0m\n",
            "\u001b[0;32mpandas/_libs/lib.pyx\u001b[0m in \u001b[0;36mpandas._libs.lib.maybe_convert_numeric\u001b[0;34m()\u001b[0m\n",
            "\u001b[0;31mValueError\u001b[0m: Unable to parse string \"Closed\" at position 16693"
          ]
        }
      ]
    },
    {
      "cell_type": "markdown",
      "metadata": {
        "id": "4Eaooe63G9Wl",
        "colab_type": "text"
      },
      "source": [
        "### Why did this happen? Somethings wrong with this data."
      ]
    },
    {
      "cell_type": "code",
      "metadata": {
        "id": "-COI1bGrG8f9",
        "colab_type": "code",
        "colab": {
          "base_uri": "https://localhost:8080/",
          "height": 201
        },
        "outputId": "080064db-dfce-4cb1-f787-55b9df9c026d"
      },
      "source": [
        "#look at the index where this happened\n",
        "print(data.loc[16693])"
      ],
      "execution_count": null,
      "outputs": [
        {
          "output_type": "stream",
          "text": [
            "EventId                                     88632\n",
            "Occurrence Local Date Time    2016-09-12 04:45:00\n",
            "Reporting Agency                              NaN\n",
            "Cause                                         Cam\n",
            "Subcause                                 Accident\n",
            "Status                             Single Vehicle\n",
            "longitude                                  Closed\n",
            "latitude                                  18.5642\n",
            "road_segment_id                    -33.9622761744\n",
            "Name: 16693, dtype: object\n"
          ],
          "name": "stdout"
        }
      ]
    },
    {
      "cell_type": "markdown",
      "metadata": {
        "id": "8Eo_umB9HFQy",
        "colab_type": "text"
      },
      "source": [
        "#### We see that the longitude and latitude are in the wrong columns. This is  likely to have happened more than once."
      ]
    },
    {
      "cell_type": "code",
      "metadata": {
        "id": "WmExb26fsE9K",
        "colab_type": "code",
        "colab": {}
      },
      "source": [
        "data.rename(columns={'Reporting Agency': 'Reporting_Agency'}, inplace=True)"
      ],
      "execution_count": 7,
      "outputs": []
    },
    {
      "cell_type": "code",
      "metadata": {
        "id": "tYFY59oisFAB",
        "colab_type": "code",
        "colab": {}
      },
      "source": [
        "def transform_row(r):\n",
        "    '''\n",
        "    Define a function to move cells along the same row when 'Closed' appears in ['longitude']\n",
        "    '''\n",
        "    if r.longitude == 'Closed':\n",
        "        r.Reporting_Agency = r.Cause\n",
        "        r.Cause = r.Subcause\n",
        "        r.Subcause = r.Status\n",
        "        r.Status = r.longitude\n",
        "        r.longitude = r.latitude\n",
        "        r.latitude = r.road_segment_id\n",
        "        r.road_segment_id = np.nan\n",
        "    return r"
      ],
      "execution_count": 8,
      "outputs": []
    },
    {
      "cell_type": "code",
      "metadata": {
        "id": "BwDCGTmesFDI",
        "colab_type": "code",
        "colab": {}
      },
      "source": [
        "data = data.apply(transform_row, axis=1)"
      ],
      "execution_count": 9,
      "outputs": []
    },
    {
      "cell_type": "code",
      "metadata": {
        "id": "OnJrQ4qxHTBe",
        "colab_type": "code",
        "colab": {
          "base_uri": "https://localhost:8080/",
          "height": 201
        },
        "outputId": "6573cb2a-cb0d-441d-c0ef-676805c05d5d"
      },
      "source": [
        "data.isna().sum()"
      ],
      "execution_count": null,
      "outputs": [
        {
          "output_type": "execute_result",
          "data": {
            "text/plain": [
              "EventId                          0\n",
              "Occurrence Local Date Time       0\n",
              "Reporting_Agency              1614\n",
              "Cause                            0\n",
              "Subcause                         0\n",
              "Status                           0\n",
              "longitude                        0\n",
              "latitude                         0\n",
              "road_segment_id                  5\n",
              "dtype: int64"
            ]
          },
          "metadata": {
            "tags": []
          },
          "execution_count": 15
        }
      ]
    },
    {
      "cell_type": "markdown",
      "metadata": {
        "id": "RgrgmeHgHUAe",
        "colab_type": "text"
      },
      "source": [
        "### It happended 5 times; but its better than deleting 1614 rows."
      ]
    },
    {
      "cell_type": "code",
      "metadata": {
        "id": "NVAO-ydmsFGj",
        "colab_type": "code",
        "colab": {}
      },
      "source": [
        "# we don't need the Reporting Agency so leave that\n",
        "data.dropna(subset=['road_segment_id'],inplace=True)"
      ],
      "execution_count": 10,
      "outputs": []
    },
    {
      "cell_type": "markdown",
      "metadata": {
        "id": "AcrakdHvHeUb",
        "colab_type": "text"
      },
      "source": [
        "##### Lets try again"
      ]
    },
    {
      "cell_type": "code",
      "metadata": {
        "id": "W2B0w6jLsFKR",
        "colab_type": "code",
        "colab": {}
      },
      "source": [
        "data[\"longitude\"] = pd.to_numeric(data[\"longitude\"])\n",
        "data[\"latitude\"] = pd.to_numeric(data[\"latitude\"])"
      ],
      "execution_count": 11,
      "outputs": []
    },
    {
      "cell_type": "code",
      "metadata": {
        "id": "E_7d4Uqq8efi",
        "colab_type": "code",
        "colab": {
          "base_uri": "https://localhost:8080/",
          "height": 397
        },
        "outputId": "33c0797e-244b-4e76-99ec-b129f286020d"
      },
      "source": [
        "geodata = gpd.GeoDataFrame(data, geometry=gpd.points_from_xy(data.longitude, data.latitude))\n",
        "geodata.head()"
      ],
      "execution_count": null,
      "outputs": [
        {
          "output_type": "execute_result",
          "data": {
            "text/html": [
              "<div>\n",
              "<style scoped>\n",
              "    .dataframe tbody tr th:only-of-type {\n",
              "        vertical-align: middle;\n",
              "    }\n",
              "\n",
              "    .dataframe tbody tr th {\n",
              "        vertical-align: top;\n",
              "    }\n",
              "\n",
              "    .dataframe thead th {\n",
              "        text-align: right;\n",
              "    }\n",
              "</style>\n",
              "<table border=\"1\" class=\"dataframe\">\n",
              "  <thead>\n",
              "    <tr style=\"text-align: right;\">\n",
              "      <th></th>\n",
              "      <th>EventId</th>\n",
              "      <th>Occurrence Local Date Time</th>\n",
              "      <th>Reporting_Agency</th>\n",
              "      <th>Cause</th>\n",
              "      <th>Subcause</th>\n",
              "      <th>Status</th>\n",
              "      <th>longitude</th>\n",
              "      <th>latitude</th>\n",
              "      <th>road_segment_id</th>\n",
              "      <th>geometry</th>\n",
              "    </tr>\n",
              "  </thead>\n",
              "  <tbody>\n",
              "    <tr>\n",
              "      <th>0</th>\n",
              "      <td>60558</td>\n",
              "      <td>2016-01-01 00:53:00</td>\n",
              "      <td>Cam</td>\n",
              "      <td>Stationary Vehicle</td>\n",
              "      <td>Vehicle On Shoulder</td>\n",
              "      <td>Closed</td>\n",
              "      <td>18.540896</td>\n",
              "      <td>-33.888275</td>\n",
              "      <td>S0B3CGQ</td>\n",
              "      <td>POINT (18.54090 -33.88827)</td>\n",
              "    </tr>\n",
              "    <tr>\n",
              "      <th>1</th>\n",
              "      <td>60559</td>\n",
              "      <td>2016-01-01 00:54:00</td>\n",
              "      <td>CAMERA</td>\n",
              "      <td>Accident</td>\n",
              "      <td>With A Fixed Object</td>\n",
              "      <td>Closed</td>\n",
              "      <td>18.930756</td>\n",
              "      <td>-34.140857</td>\n",
              "      <td>RYJYAPI</td>\n",
              "      <td>POINT (18.93076 -34.14086)</td>\n",
              "    </tr>\n",
              "    <tr>\n",
              "      <th>2</th>\n",
              "      <td>60560</td>\n",
              "      <td>2016-01-01 02:26:00</td>\n",
              "      <td>Law Enforcement</td>\n",
              "      <td>Accident</td>\n",
              "      <td>Multi Vehicle</td>\n",
              "      <td>Closed</td>\n",
              "      <td>18.553358</td>\n",
              "      <td>-33.959154</td>\n",
              "      <td>U3KP57C</td>\n",
              "      <td>POINT (18.55336 -33.95915)</td>\n",
              "    </tr>\n",
              "    <tr>\n",
              "      <th>3</th>\n",
              "      <td>60561</td>\n",
              "      <td>2016-01-01 02:56:00</td>\n",
              "      <td>CAMERA</td>\n",
              "      <td>Stationary Vehicle</td>\n",
              "      <td>Vehicle On Shoulder</td>\n",
              "      <td>Closed</td>\n",
              "      <td>18.677556</td>\n",
              "      <td>-33.895258</td>\n",
              "      <td>RY0TRQ8</td>\n",
              "      <td>POINT (18.67756 -33.89526)</td>\n",
              "    </tr>\n",
              "    <tr>\n",
              "      <th>4</th>\n",
              "      <td>60562</td>\n",
              "      <td>2016-01-01 03:40:00</td>\n",
              "      <td>CAMERA</td>\n",
              "      <td>Accident</td>\n",
              "      <td>Multi Vehicle</td>\n",
              "      <td>Closed</td>\n",
              "      <td>18.837132</td>\n",
              "      <td>-34.087051</td>\n",
              "      <td>8LOVJZ3</td>\n",
              "      <td>POINT (18.83713 -34.08705)</td>\n",
              "    </tr>\n",
              "  </tbody>\n",
              "</table>\n",
              "</div>"
            ],
            "text/plain": [
              "   EventId  ...                    geometry\n",
              "0    60558  ...  POINT (18.54090 -33.88827)\n",
              "1    60559  ...  POINT (18.93076 -34.14086)\n",
              "2    60560  ...  POINT (18.55336 -33.95915)\n",
              "3    60561  ...  POINT (18.67756 -33.89526)\n",
              "4    60562  ...  POINT (18.83713 -34.08705)\n",
              "\n",
              "[5 rows x 10 columns]"
            ]
          },
          "metadata": {
            "tags": []
          },
          "execution_count": 18
        }
      ]
    },
    {
      "cell_type": "code",
      "metadata": {
        "id": "3vyFYzZoHs-j",
        "colab_type": "code",
        "colab": {}
      },
      "source": [
        "#load the road_segments\n",
        "road_segments = gpd.read_file(path/'data/road_segments.shp')"
      ],
      "execution_count": 12,
      "outputs": []
    },
    {
      "cell_type": "code",
      "metadata": {
        "id": "Rv2p54fGsKSx",
        "colab_type": "code",
        "colab": {
          "base_uri": "https://localhost:8080/",
          "height": 293
        },
        "outputId": "ec43ce3d-afd5-4a33-d603-61a49e453ce3"
      },
      "source": [
        "road_segments.head()"
      ],
      "execution_count": null,
      "outputs": [
        {
          "output_type": "execute_result",
          "data": {
            "text/html": [
              "<div>\n",
              "<style scoped>\n",
              "    .dataframe tbody tr th:only-of-type {\n",
              "        vertical-align: middle;\n",
              "    }\n",
              "\n",
              "    .dataframe tbody tr th {\n",
              "        vertical-align: top;\n",
              "    }\n",
              "\n",
              "    .dataframe thead th {\n",
              "        text-align: right;\n",
              "    }\n",
              "</style>\n",
              "<table border=\"1\" class=\"dataframe\">\n",
              "  <thead>\n",
              "    <tr style=\"text-align: right;\">\n",
              "      <th></th>\n",
              "      <th>ROADNO</th>\n",
              "      <th>CLASS</th>\n",
              "      <th>REGION</th>\n",
              "      <th>WIDTH</th>\n",
              "      <th>LANES</th>\n",
              "      <th>SURFTYPE</th>\n",
              "      <th>PAVETYPE</th>\n",
              "      <th>CONDITION</th>\n",
              "      <th>length_1</th>\n",
              "      <th>segment_id</th>\n",
              "      <th>geometry</th>\n",
              "    </tr>\n",
              "  </thead>\n",
              "  <tbody>\n",
              "    <tr>\n",
              "      <th>0</th>\n",
              "      <td>R300</td>\n",
              "      <td>Primary</td>\n",
              "      <td>Western Cape</td>\n",
              "      <td>20.2</td>\n",
              "      <td>2</td>\n",
              "      <td>Paved</td>\n",
              "      <td>FLEX</td>\n",
              "      <td>Good</td>\n",
              "      <td>471.207</td>\n",
              "      <td>D1U6OOF</td>\n",
              "      <td>LINESTRING (18.65262 -33.97724, 18.65264 -33.9...</td>\n",
              "    </tr>\n",
              "    <tr>\n",
              "      <th>1</th>\n",
              "      <td>R300</td>\n",
              "      <td>Primary</td>\n",
              "      <td>Western Cape</td>\n",
              "      <td>20.2</td>\n",
              "      <td>2</td>\n",
              "      <td>Paved</td>\n",
              "      <td>FLEX</td>\n",
              "      <td>Good</td>\n",
              "      <td>471.207</td>\n",
              "      <td>NG4X2MD</td>\n",
              "      <td>LINESTRING (18.65347 -33.97309, 18.65347 -33.9...</td>\n",
              "    </tr>\n",
              "    <tr>\n",
              "      <th>2</th>\n",
              "      <td>R300</td>\n",
              "      <td>Primary</td>\n",
              "      <td>Western Cape</td>\n",
              "      <td>20.2</td>\n",
              "      <td>2</td>\n",
              "      <td>Paved</td>\n",
              "      <td>FLEX</td>\n",
              "      <td>Good</td>\n",
              "      <td>471.207</td>\n",
              "      <td>792705Z</td>\n",
              "      <td>LINESTRING (18.65431 -33.96894, 18.65432 -33.9...</td>\n",
              "    </tr>\n",
              "    <tr>\n",
              "      <th>3</th>\n",
              "      <td>R300</td>\n",
              "      <td>Primary</td>\n",
              "      <td>Western Cape</td>\n",
              "      <td>20.2</td>\n",
              "      <td>2</td>\n",
              "      <td>Paved</td>\n",
              "      <td>FLEX</td>\n",
              "      <td>Good</td>\n",
              "      <td>471.207</td>\n",
              "      <td>IK67XHB</td>\n",
              "      <td>LINESTRING (18.65515 -33.96480, 18.65517 -33.9...</td>\n",
              "    </tr>\n",
              "    <tr>\n",
              "      <th>4</th>\n",
              "      <td>R300</td>\n",
              "      <td>Primary</td>\n",
              "      <td>Western Cape</td>\n",
              "      <td>20.2</td>\n",
              "      <td>2</td>\n",
              "      <td>Paved</td>\n",
              "      <td>FLEX</td>\n",
              "      <td>Good</td>\n",
              "      <td>471.207</td>\n",
              "      <td>OWCF2MH</td>\n",
              "      <td>LINESTRING (18.65600 -33.96065, 18.65602 -33.9...</td>\n",
              "    </tr>\n",
              "  </tbody>\n",
              "</table>\n",
              "</div>"
            ],
            "text/plain": [
              "  ROADNO    CLASS  ... segment_id                                           geometry\n",
              "0   R300  Primary  ...    D1U6OOF  LINESTRING (18.65262 -33.97724, 18.65264 -33.9...\n",
              "1   R300  Primary  ...    NG4X2MD  LINESTRING (18.65347 -33.97309, 18.65347 -33.9...\n",
              "2   R300  Primary  ...    792705Z  LINESTRING (18.65431 -33.96894, 18.65432 -33.9...\n",
              "3   R300  Primary  ...    IK67XHB  LINESTRING (18.65515 -33.96480, 18.65517 -33.9...\n",
              "4   R300  Primary  ...    OWCF2MH  LINESTRING (18.65600 -33.96065, 18.65602 -33.9...\n",
              "\n",
              "[5 rows x 11 columns]"
            ]
          },
          "metadata": {
            "tags": []
          },
          "execution_count": 23
        }
      ]
    },
    {
      "cell_type": "code",
      "metadata": {
        "id": "K4o-oOQbHwkW",
        "colab_type": "code",
        "colab": {
          "base_uri": "https://localhost:8080/",
          "height": 289
        },
        "outputId": "226f897a-4e32-435e-e43c-6f5b833d964e"
      },
      "source": [
        "# plot\n",
        "fig, (ax1,ax2) = plt.subplots(nrows=1, ncols=2, figsize=(15,15)) \n",
        "\n",
        "ax1 = road_segments.plot(ax=ax1, column='segment_id', cmap='viridis')\n",
        "ax1.set_title('Road Segments')\n",
        "\n",
        "ax2 = geodata.plot(ax=ax2, marker='.', markersize = 8, column='Cause', cmap='cool')\n",
        "ax2.set_title('Events')\n",
        "plt.show()"
      ],
      "execution_count": null,
      "outputs": [
        {
          "output_type": "display_data",
          "data": {
            "image/png": "[encoded data removed]",
            "text/plain": [
              "<Figure size 1080x1080 with 2 Axes>"
            ]
          },
          "metadata": {
            "tags": [],
            "needs_background": "light"
          }
        }
      ]
    },
    {
      "cell_type": "markdown",
      "metadata": {
        "id": "HTtAw6ZYtH53",
        "colab_type": "text"
      },
      "source": [
        "#### Add a new column that represents the curvature of the road ```geometry```"
      ]
    },
    {
      "cell_type": "code",
      "metadata": {
        "id": "_jCMeI-StInC",
        "colab_type": "code",
        "colab": {
          "base_uri": "https://localhost:8080/",
          "height": 143
        },
        "outputId": "df54de9d-07c3-47f9-aee5-371b5bd88b99"
      },
      "source": [
        "# harvest the mean locations of the road segments - as the competition is defined as \"per 500-meter segment\"\n",
        "locations = data.groupby('road_segment_id').mean()[['longitude', 'latitude']]\n",
        "locations.head(2)"
      ],
      "execution_count": 13,
      "outputs": [
        {
          "output_type": "execute_result",
          "data": {
            "text/html": [
              "<div>\n",
              "<style scoped>\n",
              "    .dataframe tbody tr th:only-of-type {\n",
              "        vertical-align: middle;\n",
              "    }\n",
              "\n",
              "    .dataframe tbody tr th {\n",
              "        vertical-align: top;\n",
              "    }\n",
              "\n",
              "    .dataframe thead th {\n",
              "        text-align: right;\n",
              "    }\n",
              "</style>\n",
              "<table border=\"1\" class=\"dataframe\">\n",
              "  <thead>\n",
              "    <tr style=\"text-align: right;\">\n",
              "      <th></th>\n",
              "      <th>longitude</th>\n",
              "      <th>latitude</th>\n",
              "    </tr>\n",
              "    <tr>\n",
              "      <th>road_segment_id</th>\n",
              "      <th></th>\n",
              "      <th></th>\n",
              "    </tr>\n",
              "  </thead>\n",
              "  <tbody>\n",
              "    <tr>\n",
              "      <th>03RHJ3G</th>\n",
              "      <td>18.460052</td>\n",
              "      <td>-33.943181</td>\n",
              "    </tr>\n",
              "    <tr>\n",
              "      <th>044ZYVD</th>\n",
              "      <td>18.555037</td>\n",
              "      <td>-33.890148</td>\n",
              "    </tr>\n",
              "  </tbody>\n",
              "</table>\n",
              "</div>"
            ],
            "text/plain": [
              "                 longitude   latitude\n",
              "road_segment_id                      \n",
              "03RHJ3G          18.460052 -33.943181\n",
              "044ZYVD          18.555037 -33.890148"
            ]
          },
          "metadata": {
            "tags": []
          },
          "execution_count": 13
        }
      ]
    },
    {
      "cell_type": "markdown",
      "metadata": {
        "id": "aQwDi1TuIW0d",
        "colab_type": "text"
      },
      "source": [
        "### Now we format, split the data into ```train``` and ```test``` sets and merge.\n",
        "\n",
        "\n",
        "> NOTE: To overcome any ```out-of-memory``` challenges because of large file size, and because I'm on a shoestring budget but want to learn, I'm training on a years data and testing on three months."
      ]
    },
    {
      "cell_type": "code",
      "metadata": {
        "id": "Vky6R7KGtIqZ",
        "colab_type": "code",
        "colab": {}
      },
      "source": [
        "# Train on 2017\n",
        "train = data.loc[data['Occurrence Local Date Time'] < '2018-01-01']\n",
        "train = train.loc[train['Occurrence Local Date Time'] >= '2017-01-01']\n",
        "\n",
        "# Test locally on the last part of 2018\n",
        "local_test = data.loc[data['Occurrence Local Date Time'] < '2019-01-01']\n",
        "local_test = local_test.loc[local_test['Occurrence Local Date Time'] >= '2018-09-01']"
      ],
      "execution_count": 14,
      "outputs": []
    },
    {
      "cell_type": "code",
      "metadata": {
        "id": "iR17JEANtIuR",
        "colab_type": "code",
        "colab": {
          "base_uri": "https://localhost:8080/",
          "height": 342
        },
        "outputId": "0d1ae3a1-56fc-4a65-cc25-0ae2e58f7627"
      },
      "source": [
        "# Create a dataframe with a column for each segment_id (sid)\n",
        "# Each row represents an hour.\n",
        "\n",
        "sids = data['road_segment_id'].unique()\n",
        "\n",
        "dts = pd.date_range('2017-01-01',\n",
        "                    '2018-01-01',\n",
        "                    freq=\"1h\")\n",
        "tr = pd.DataFrame({'datetime':dts})\n",
        "\n",
        "for sid in sids:\n",
        "    tr[str(sid)] = 0\n",
        "    events = train.loc[train['road_segment_id'] == sid]\n",
        "    dts = events['Occurrence Local Date Time'].dt.round('H')\n",
        "    dates = dts.astype(str).unique()\n",
        "    tr.loc[tr['datetime'].isin(dates), sid] = 1\n",
        "tr.head()"
      ],
      "execution_count": 15,
      "outputs": [
        {
          "output_type": "execute_result",
          "data": {
            "text/html": [
              "<div>\n",
              "<style scoped>\n",
              "    .dataframe tbody tr th:only-of-type {\n",
              "        vertical-align: middle;\n",
              "    }\n",
              "\n",
              "    .dataframe tbody tr th {\n",
              "        vertical-align: top;\n",
              "    }\n",
              "\n",
              "    .dataframe thead th {\n",
              "        text-align: right;\n",
              "    }\n",
              "</style>\n",
              "<table border=\"1\" class=\"dataframe\">\n",
              "  <thead>\n",
              "    <tr style=\"text-align: right;\">\n",
              "      <th></th>\n",
              "      <th>datetime</th>\n",
              "      <th>S0B3CGQ</th>\n",
              "      <th>RYJYAPI</th>\n",
              "      <th>U3KP57C</th>\n",
              "      <th>RY0TRQ8</th>\n",
              "      <th>8LOVJZ3</th>\n",
              "      <th>X4UA382</th>\n",
              "      <th>0QR8FDW</th>\n",
              "      <th>DZABHQW</th>\n",
              "      <th>EKZN1VM</th>\n",
              "      <th>H9XYX9Q</th>\n",
              "      <th>03RHJ3G</th>\n",
              "      <th>FTX7LB8</th>\n",
              "      <th>Q03FQ74</th>\n",
              "      <th>5AC6YRF</th>\n",
              "      <th>1RWEBRU</th>\n",
              "      <th>DCB3LQM</th>\n",
              "      <th>HN83F3L</th>\n",
              "      <th>SPPGKO2</th>\n",
              "      <th>C1ERJ22</th>\n",
              "      <th>AJRKP0C</th>\n",
              "      <th>UUZT4OE</th>\n",
              "      <th>WAC029P</th>\n",
              "      <th>JT4HGZ2</th>\n",
              "      <th>8Z5P9T1</th>\n",
              "      <th>UAXX1ZE</th>\n",
              "      <th>74A6FL0</th>\n",
              "      <th>2M1UBKJ</th>\n",
              "      <th>E5D3KEB</th>\n",
              "      <th>NQSL7FX</th>\n",
              "      <th>S200A1J</th>\n",
              "      <th>ETFFDX5</th>\n",
              "      <th>R6JUSZT</th>\n",
              "      <th>EDXK0HP</th>\n",
              "      <th>N5NO82G</th>\n",
              "      <th>5DHNI4S</th>\n",
              "      <th>VUYACXV</th>\n",
              "      <th>VMCY8BI</th>\n",
              "      <th>927BHUF</th>\n",
              "      <th>3MW0MN9</th>\n",
              "      <th>...</th>\n",
              "      <th>J8FAZRB</th>\n",
              "      <th>P66KAPS</th>\n",
              "      <th>CJJI1XY</th>\n",
              "      <th>K3N8ADC</th>\n",
              "      <th>SG89YSS</th>\n",
              "      <th>XYFQJ1Q</th>\n",
              "      <th>QTT8QNT</th>\n",
              "      <th>LC8FONX</th>\n",
              "      <th>WJXP54Z</th>\n",
              "      <th>GVQD9D6</th>\n",
              "      <th>64QSPWU</th>\n",
              "      <th>LRCHHQJ</th>\n",
              "      <th>Q2HCM1O</th>\n",
              "      <th>F055OA5</th>\n",
              "      <th>SY568EU</th>\n",
              "      <th>QBSA1OR</th>\n",
              "      <th>8YJIRQ2</th>\n",
              "      <th>KVOVDD8</th>\n",
              "      <th>H983665</th>\n",
              "      <th>7T2W8WU</th>\n",
              "      <th>4NSOFJG</th>\n",
              "      <th>4UAL23D</th>\n",
              "      <th>956JU5F</th>\n",
              "      <th>B8NRA4K</th>\n",
              "      <th>PH8DIYU</th>\n",
              "      <th>F47NAGJ</th>\n",
              "      <th>1NG8I9K</th>\n",
              "      <th>ZP9STNM</th>\n",
              "      <th>D3349RH</th>\n",
              "      <th>E4L0I98</th>\n",
              "      <th>YVR8GT6</th>\n",
              "      <th>ZAVM3PJ</th>\n",
              "      <th>DS4NLQE</th>\n",
              "      <th>HR19LL7</th>\n",
              "      <th>1451FOG</th>\n",
              "      <th>2ON8NSO</th>\n",
              "      <th>NFUEAN5</th>\n",
              "      <th>4T821GV</th>\n",
              "      <th>J6A19TW</th>\n",
              "      <th>43RCYZH</th>\n",
              "    </tr>\n",
              "  </thead>\n",
              "  <tbody>\n",
              "    <tr>\n",
              "      <th>0</th>\n",
              "      <td>2017-01-01 00:00:00</td>\n",
              "      <td>0</td>\n",
              "      <td>0</td>\n",
              "      <td>0</td>\n",
              "      <td>0</td>\n",
              "      <td>0</td>\n",
              "      <td>0</td>\n",
              "      <td>0</td>\n",
              "      <td>0</td>\n",
              "      <td>0</td>\n",
              "      <td>0</td>\n",
              "      <td>0</td>\n",
              "      <td>0</td>\n",
              "      <td>0</td>\n",
              "      <td>0</td>\n",
              "      <td>0</td>\n",
              "      <td>0</td>\n",
              "      <td>0</td>\n",
              "      <td>0</td>\n",
              "      <td>0</td>\n",
              "      <td>0</td>\n",
              "      <td>0</td>\n",
              "      <td>0</td>\n",
              "      <td>0</td>\n",
              "      <td>0</td>\n",
              "      <td>0</td>\n",
              "      <td>0</td>\n",
              "      <td>0</td>\n",
              "      <td>0</td>\n",
              "      <td>0</td>\n",
              "      <td>0</td>\n",
              "      <td>0</td>\n",
              "      <td>0</td>\n",
              "      <td>0</td>\n",
              "      <td>0</td>\n",
              "      <td>0</td>\n",
              "      <td>0</td>\n",
              "      <td>0</td>\n",
              "      <td>0</td>\n",
              "      <td>0</td>\n",
              "      <td>...</td>\n",
              "      <td>0</td>\n",
              "      <td>0</td>\n",
              "      <td>0</td>\n",
              "      <td>0</td>\n",
              "      <td>0</td>\n",
              "      <td>0</td>\n",
              "      <td>0</td>\n",
              "      <td>0</td>\n",
              "      <td>0</td>\n",
              "      <td>0</td>\n",
              "      <td>0</td>\n",
              "      <td>0</td>\n",
              "      <td>0</td>\n",
              "      <td>0</td>\n",
              "      <td>0</td>\n",
              "      <td>0</td>\n",
              "      <td>0</td>\n",
              "      <td>0</td>\n",
              "      <td>0</td>\n",
              "      <td>0</td>\n",
              "      <td>0</td>\n",
              "      <td>0</td>\n",
              "      <td>0</td>\n",
              "      <td>0</td>\n",
              "      <td>0</td>\n",
              "      <td>0</td>\n",
              "      <td>0</td>\n",
              "      <td>0</td>\n",
              "      <td>0</td>\n",
              "      <td>0</td>\n",
              "      <td>0</td>\n",
              "      <td>0</td>\n",
              "      <td>0</td>\n",
              "      <td>0</td>\n",
              "      <td>0</td>\n",
              "      <td>0</td>\n",
              "      <td>0</td>\n",
              "      <td>0</td>\n",
              "      <td>0</td>\n",
              "      <td>0</td>\n",
              "    </tr>\n",
              "    <tr>\n",
              "      <th>1</th>\n",
              "      <td>2017-01-01 01:00:00</td>\n",
              "      <td>0</td>\n",
              "      <td>0</td>\n",
              "      <td>0</td>\n",
              "      <td>0</td>\n",
              "      <td>0</td>\n",
              "      <td>0</td>\n",
              "      <td>0</td>\n",
              "      <td>0</td>\n",
              "      <td>0</td>\n",
              "      <td>0</td>\n",
              "      <td>0</td>\n",
              "      <td>0</td>\n",
              "      <td>0</td>\n",
              "      <td>0</td>\n",
              "      <td>0</td>\n",
              "      <td>0</td>\n",
              "      <td>0</td>\n",
              "      <td>0</td>\n",
              "      <td>0</td>\n",
              "      <td>0</td>\n",
              "      <td>0</td>\n",
              "      <td>0</td>\n",
              "      <td>0</td>\n",
              "      <td>0</td>\n",
              "      <td>0</td>\n",
              "      <td>0</td>\n",
              "      <td>0</td>\n",
              "      <td>0</td>\n",
              "      <td>0</td>\n",
              "      <td>0</td>\n",
              "      <td>0</td>\n",
              "      <td>0</td>\n",
              "      <td>0</td>\n",
              "      <td>0</td>\n",
              "      <td>0</td>\n",
              "      <td>0</td>\n",
              "      <td>0</td>\n",
              "      <td>0</td>\n",
              "      <td>0</td>\n",
              "      <td>...</td>\n",
              "      <td>0</td>\n",
              "      <td>0</td>\n",
              "      <td>0</td>\n",
              "      <td>0</td>\n",
              "      <td>0</td>\n",
              "      <td>0</td>\n",
              "      <td>0</td>\n",
              "      <td>0</td>\n",
              "      <td>0</td>\n",
              "      <td>0</td>\n",
              "      <td>0</td>\n",
              "      <td>0</td>\n",
              "      <td>0</td>\n",
              "      <td>0</td>\n",
              "      <td>0</td>\n",
              "      <td>0</td>\n",
              "      <td>0</td>\n",
              "      <td>0</td>\n",
              "      <td>0</td>\n",
              "      <td>0</td>\n",
              "      <td>0</td>\n",
              "      <td>0</td>\n",
              "      <td>0</td>\n",
              "      <td>0</td>\n",
              "      <td>0</td>\n",
              "      <td>0</td>\n",
              "      <td>0</td>\n",
              "      <td>0</td>\n",
              "      <td>0</td>\n",
              "      <td>0</td>\n",
              "      <td>0</td>\n",
              "      <td>0</td>\n",
              "      <td>0</td>\n",
              "      <td>0</td>\n",
              "      <td>0</td>\n",
              "      <td>0</td>\n",
              "      <td>0</td>\n",
              "      <td>0</td>\n",
              "      <td>0</td>\n",
              "      <td>0</td>\n",
              "    </tr>\n",
              "    <tr>\n",
              "      <th>2</th>\n",
              "      <td>2017-01-01 02:00:00</td>\n",
              "      <td>0</td>\n",
              "      <td>0</td>\n",
              "      <td>0</td>\n",
              "      <td>0</td>\n",
              "      <td>0</td>\n",
              "      <td>0</td>\n",
              "      <td>0</td>\n",
              "      <td>0</td>\n",
              "      <td>0</td>\n",
              "      <td>0</td>\n",
              "      <td>0</td>\n",
              "      <td>0</td>\n",
              "      <td>0</td>\n",
              "      <td>0</td>\n",
              "      <td>0</td>\n",
              "      <td>0</td>\n",
              "      <td>0</td>\n",
              "      <td>0</td>\n",
              "      <td>0</td>\n",
              "      <td>0</td>\n",
              "      <td>0</td>\n",
              "      <td>0</td>\n",
              "      <td>0</td>\n",
              "      <td>0</td>\n",
              "      <td>0</td>\n",
              "      <td>0</td>\n",
              "      <td>0</td>\n",
              "      <td>0</td>\n",
              "      <td>0</td>\n",
              "      <td>0</td>\n",
              "      <td>0</td>\n",
              "      <td>0</td>\n",
              "      <td>0</td>\n",
              "      <td>0</td>\n",
              "      <td>0</td>\n",
              "      <td>0</td>\n",
              "      <td>0</td>\n",
              "      <td>0</td>\n",
              "      <td>0</td>\n",
              "      <td>...</td>\n",
              "      <td>0</td>\n",
              "      <td>0</td>\n",
              "      <td>0</td>\n",
              "      <td>0</td>\n",
              "      <td>0</td>\n",
              "      <td>0</td>\n",
              "      <td>0</td>\n",
              "      <td>0</td>\n",
              "      <td>0</td>\n",
              "      <td>0</td>\n",
              "      <td>0</td>\n",
              "      <td>0</td>\n",
              "      <td>0</td>\n",
              "      <td>0</td>\n",
              "      <td>0</td>\n",
              "      <td>0</td>\n",
              "      <td>0</td>\n",
              "      <td>0</td>\n",
              "      <td>0</td>\n",
              "      <td>0</td>\n",
              "      <td>0</td>\n",
              "      <td>0</td>\n",
              "      <td>0</td>\n",
              "      <td>0</td>\n",
              "      <td>0</td>\n",
              "      <td>0</td>\n",
              "      <td>0</td>\n",
              "      <td>0</td>\n",
              "      <td>0</td>\n",
              "      <td>0</td>\n",
              "      <td>0</td>\n",
              "      <td>0</td>\n",
              "      <td>0</td>\n",
              "      <td>0</td>\n",
              "      <td>0</td>\n",
              "      <td>0</td>\n",
              "      <td>0</td>\n",
              "      <td>0</td>\n",
              "      <td>0</td>\n",
              "      <td>0</td>\n",
              "    </tr>\n",
              "    <tr>\n",
              "      <th>3</th>\n",
              "      <td>2017-01-01 03:00:00</td>\n",
              "      <td>0</td>\n",
              "      <td>0</td>\n",
              "      <td>0</td>\n",
              "      <td>0</td>\n",
              "      <td>0</td>\n",
              "      <td>0</td>\n",
              "      <td>0</td>\n",
              "      <td>0</td>\n",
              "      <td>0</td>\n",
              "      <td>0</td>\n",
              "      <td>0</td>\n",
              "      <td>0</td>\n",
              "      <td>0</td>\n",
              "      <td>0</td>\n",
              "      <td>0</td>\n",
              "      <td>0</td>\n",
              "      <td>0</td>\n",
              "      <td>0</td>\n",
              "      <td>0</td>\n",
              "      <td>0</td>\n",
              "      <td>0</td>\n",
              "      <td>0</td>\n",
              "      <td>0</td>\n",
              "      <td>0</td>\n",
              "      <td>0</td>\n",
              "      <td>0</td>\n",
              "      <td>0</td>\n",
              "      <td>0</td>\n",
              "      <td>0</td>\n",
              "      <td>0</td>\n",
              "      <td>0</td>\n",
              "      <td>0</td>\n",
              "      <td>0</td>\n",
              "      <td>0</td>\n",
              "      <td>0</td>\n",
              "      <td>0</td>\n",
              "      <td>0</td>\n",
              "      <td>0</td>\n",
              "      <td>0</td>\n",
              "      <td>...</td>\n",
              "      <td>0</td>\n",
              "      <td>0</td>\n",
              "      <td>0</td>\n",
              "      <td>0</td>\n",
              "      <td>0</td>\n",
              "      <td>0</td>\n",
              "      <td>0</td>\n",
              "      <td>0</td>\n",
              "      <td>0</td>\n",
              "      <td>0</td>\n",
              "      <td>0</td>\n",
              "      <td>0</td>\n",
              "      <td>0</td>\n",
              "      <td>0</td>\n",
              "      <td>0</td>\n",
              "      <td>0</td>\n",
              "      <td>0</td>\n",
              "      <td>0</td>\n",
              "      <td>0</td>\n",
              "      <td>0</td>\n",
              "      <td>0</td>\n",
              "      <td>0</td>\n",
              "      <td>0</td>\n",
              "      <td>0</td>\n",
              "      <td>0</td>\n",
              "      <td>0</td>\n",
              "      <td>0</td>\n",
              "      <td>0</td>\n",
              "      <td>0</td>\n",
              "      <td>0</td>\n",
              "      <td>0</td>\n",
              "      <td>0</td>\n",
              "      <td>0</td>\n",
              "      <td>0</td>\n",
              "      <td>0</td>\n",
              "      <td>0</td>\n",
              "      <td>0</td>\n",
              "      <td>0</td>\n",
              "      <td>0</td>\n",
              "      <td>0</td>\n",
              "    </tr>\n",
              "    <tr>\n",
              "      <th>4</th>\n",
              "      <td>2017-01-01 04:00:00</td>\n",
              "      <td>0</td>\n",
              "      <td>0</td>\n",
              "      <td>0</td>\n",
              "      <td>0</td>\n",
              "      <td>0</td>\n",
              "      <td>0</td>\n",
              "      <td>0</td>\n",
              "      <td>0</td>\n",
              "      <td>0</td>\n",
              "      <td>0</td>\n",
              "      <td>0</td>\n",
              "      <td>0</td>\n",
              "      <td>0</td>\n",
              "      <td>0</td>\n",
              "      <td>0</td>\n",
              "      <td>0</td>\n",
              "      <td>0</td>\n",
              "      <td>0</td>\n",
              "      <td>0</td>\n",
              "      <td>0</td>\n",
              "      <td>0</td>\n",
              "      <td>0</td>\n",
              "      <td>0</td>\n",
              "      <td>0</td>\n",
              "      <td>0</td>\n",
              "      <td>0</td>\n",
              "      <td>0</td>\n",
              "      <td>0</td>\n",
              "      <td>0</td>\n",
              "      <td>0</td>\n",
              "      <td>0</td>\n",
              "      <td>0</td>\n",
              "      <td>0</td>\n",
              "      <td>0</td>\n",
              "      <td>0</td>\n",
              "      <td>0</td>\n",
              "      <td>0</td>\n",
              "      <td>0</td>\n",
              "      <td>0</td>\n",
              "      <td>...</td>\n",
              "      <td>0</td>\n",
              "      <td>0</td>\n",
              "      <td>0</td>\n",
              "      <td>0</td>\n",
              "      <td>0</td>\n",
              "      <td>0</td>\n",
              "      <td>0</td>\n",
              "      <td>0</td>\n",
              "      <td>0</td>\n",
              "      <td>0</td>\n",
              "      <td>0</td>\n",
              "      <td>0</td>\n",
              "      <td>0</td>\n",
              "      <td>0</td>\n",
              "      <td>0</td>\n",
              "      <td>0</td>\n",
              "      <td>0</td>\n",
              "      <td>0</td>\n",
              "      <td>0</td>\n",
              "      <td>0</td>\n",
              "      <td>0</td>\n",
              "      <td>0</td>\n",
              "      <td>0</td>\n",
              "      <td>0</td>\n",
              "      <td>0</td>\n",
              "      <td>0</td>\n",
              "      <td>0</td>\n",
              "      <td>0</td>\n",
              "      <td>0</td>\n",
              "      <td>0</td>\n",
              "      <td>0</td>\n",
              "      <td>0</td>\n",
              "      <td>0</td>\n",
              "      <td>0</td>\n",
              "      <td>0</td>\n",
              "      <td>0</td>\n",
              "      <td>0</td>\n",
              "      <td>0</td>\n",
              "      <td>0</td>\n",
              "      <td>0</td>\n",
              "    </tr>\n",
              "  </tbody>\n",
              "</table>\n",
              "<p>5 rows × 545 columns</p>\n",
              "</div>"
            ],
            "text/plain": [
              "             datetime  S0B3CGQ  RYJYAPI  ...  4T821GV  J6A19TW  43RCYZH\n",
              "0 2017-01-01 00:00:00        0        0  ...        0        0        0\n",
              "1 2017-01-01 01:00:00        0        0  ...        0        0        0\n",
              "2 2017-01-01 02:00:00        0        0  ...        0        0        0\n",
              "3 2017-01-01 03:00:00        0        0  ...        0        0        0\n",
              "4 2017-01-01 04:00:00        0        0  ...        0        0        0\n",
              "\n",
              "[5 rows x 545 columns]"
            ]
          },
          "metadata": {
            "tags": []
          },
          "execution_count": 15
        }
      ]
    },
    {
      "cell_type": "code",
      "metadata": {
        "id": "xgAR8urxtIyL",
        "colab_type": "code",
        "colab": {
          "base_uri": "https://localhost:8080/",
          "height": 206
        },
        "outputId": "a141b2cd-913d-4f4e-8a8d-8e1496966733"
      },
      "source": [
        "# Reshape this as in sample submission\n",
        "# add some extra columns that may be useful\n",
        "train = pd.DataFrame({\n",
        "    'datetime x segment_id':np.concatenate([[str(x) + \" x \" + str(c) \n",
        "                                             for c in sids] \n",
        "                                            for x in tr['datetime']]),\n",
        "    'datetime':np.concatenate([[str(x) for c in sids] for x in tr['datetime']]),\n",
        "    'segment_id':np.concatenate([[str(c) for c in sids] for x in tr['datetime']]),\n",
        "    'y':tr[sids].values.flatten()\n",
        "})\n",
        "train.head()"
      ],
      "execution_count": 16,
      "outputs": [
        {
          "output_type": "execute_result",
          "data": {
            "text/html": [
              "<div>\n",
              "<style scoped>\n",
              "    .dataframe tbody tr th:only-of-type {\n",
              "        vertical-align: middle;\n",
              "    }\n",
              "\n",
              "    .dataframe tbody tr th {\n",
              "        vertical-align: top;\n",
              "    }\n",
              "\n",
              "    .dataframe thead th {\n",
              "        text-align: right;\n",
              "    }\n",
              "</style>\n",
              "<table border=\"1\" class=\"dataframe\">\n",
              "  <thead>\n",
              "    <tr style=\"text-align: right;\">\n",
              "      <th></th>\n",
              "      <th>datetime x segment_id</th>\n",
              "      <th>datetime</th>\n",
              "      <th>segment_id</th>\n",
              "      <th>y</th>\n",
              "    </tr>\n",
              "  </thead>\n",
              "  <tbody>\n",
              "    <tr>\n",
              "      <th>0</th>\n",
              "      <td>2017-01-01 00:00:00 x S0B3CGQ</td>\n",
              "      <td>2017-01-01 00:00:00</td>\n",
              "      <td>S0B3CGQ</td>\n",
              "      <td>0</td>\n",
              "    </tr>\n",
              "    <tr>\n",
              "      <th>1</th>\n",
              "      <td>2017-01-01 00:00:00 x RYJYAPI</td>\n",
              "      <td>2017-01-01 00:00:00</td>\n",
              "      <td>RYJYAPI</td>\n",
              "      <td>0</td>\n",
              "    </tr>\n",
              "    <tr>\n",
              "      <th>2</th>\n",
              "      <td>2017-01-01 00:00:00 x U3KP57C</td>\n",
              "      <td>2017-01-01 00:00:00</td>\n",
              "      <td>U3KP57C</td>\n",
              "      <td>0</td>\n",
              "    </tr>\n",
              "    <tr>\n",
              "      <th>3</th>\n",
              "      <td>2017-01-01 00:00:00 x RY0TRQ8</td>\n",
              "      <td>2017-01-01 00:00:00</td>\n",
              "      <td>RY0TRQ8</td>\n",
              "      <td>0</td>\n",
              "    </tr>\n",
              "    <tr>\n",
              "      <th>4</th>\n",
              "      <td>2017-01-01 00:00:00 x 8LOVJZ3</td>\n",
              "      <td>2017-01-01 00:00:00</td>\n",
              "      <td>8LOVJZ3</td>\n",
              "      <td>0</td>\n",
              "    </tr>\n",
              "  </tbody>\n",
              "</table>\n",
              "</div>"
            ],
            "text/plain": [
              "           datetime x segment_id             datetime segment_id  y\n",
              "0  2017-01-01 00:00:00 x S0B3CGQ  2017-01-01 00:00:00    S0B3CGQ  0\n",
              "1  2017-01-01 00:00:00 x RYJYAPI  2017-01-01 00:00:00    RYJYAPI  0\n",
              "2  2017-01-01 00:00:00 x U3KP57C  2017-01-01 00:00:00    U3KP57C  0\n",
              "3  2017-01-01 00:00:00 x RY0TRQ8  2017-01-01 00:00:00    RY0TRQ8  0\n",
              "4  2017-01-01 00:00:00 x 8LOVJZ3  2017-01-01 00:00:00    8LOVJZ3  0"
            ]
          },
          "metadata": {
            "tags": []
          },
          "execution_count": 16
        }
      ]
    },
    {
      "cell_type": "code",
      "metadata": {
        "id": "IFxaAO9stI1F",
        "colab_type": "code",
        "colab": {
          "base_uri": "https://localhost:8080/",
          "height": 206
        },
        "outputId": "3abe23ed-0609-47a4-ca82-8575cb9456e1"
      },
      "source": [
        "# Same for local test\n",
        "dts = pd.date_range('2018-09-01','2018-12-31',\n",
        "                    freq=\"1h\")\n",
        "tr = pd.DataFrame({'datetime':dts})\n",
        "\n",
        "for sid in sids:\n",
        "    tr[str(sid)] = 0\n",
        "    events = local_test.loc[local_test['road_segment_id'] == sid]\n",
        "    dts = events['Occurrence Local Date Time'].dt.round('H')\n",
        "    dates = dts.astype(str).unique()\n",
        "    tr.loc[tr['datetime'].isin(dates), sid] = 1\n",
        "    \n",
        "test = pd.DataFrame({\n",
        "    'datetime x segment_id':np.concatenate([[str(x) + \" x \" + str(c) \n",
        "                                             for c in sids] \n",
        "                                            for x in tr['datetime']]),\n",
        "    'datetime':np.concatenate([[str(x) for c in sids] for x in tr['datetime']]),\n",
        "    'segment_id':np.concatenate([[str(c) for c in sids] for x in tr['datetime']]),\n",
        "    'y':tr[sids].values.flatten()\n",
        "})\n",
        "test.head()"
      ],
      "execution_count": 17,
      "outputs": [
        {
          "output_type": "execute_result",
          "data": {
            "text/html": [
              "<div>\n",
              "<style scoped>\n",
              "    .dataframe tbody tr th:only-of-type {\n",
              "        vertical-align: middle;\n",
              "    }\n",
              "\n",
              "    .dataframe tbody tr th {\n",
              "        vertical-align: top;\n",
              "    }\n",
              "\n",
              "    .dataframe thead th {\n",
              "        text-align: right;\n",
              "    }\n",
              "</style>\n",
              "<table border=\"1\" class=\"dataframe\">\n",
              "  <thead>\n",
              "    <tr style=\"text-align: right;\">\n",
              "      <th></th>\n",
              "      <th>datetime x segment_id</th>\n",
              "      <th>datetime</th>\n",
              "      <th>segment_id</th>\n",
              "      <th>y</th>\n",
              "    </tr>\n",
              "  </thead>\n",
              "  <tbody>\n",
              "    <tr>\n",
              "      <th>0</th>\n",
              "      <td>2018-09-01 00:00:00 x S0B3CGQ</td>\n",
              "      <td>2018-09-01 00:00:00</td>\n",
              "      <td>S0B3CGQ</td>\n",
              "      <td>0</td>\n",
              "    </tr>\n",
              "    <tr>\n",
              "      <th>1</th>\n",
              "      <td>2018-09-01 00:00:00 x RYJYAPI</td>\n",
              "      <td>2018-09-01 00:00:00</td>\n",
              "      <td>RYJYAPI</td>\n",
              "      <td>0</td>\n",
              "    </tr>\n",
              "    <tr>\n",
              "      <th>2</th>\n",
              "      <td>2018-09-01 00:00:00 x U3KP57C</td>\n",
              "      <td>2018-09-01 00:00:00</td>\n",
              "      <td>U3KP57C</td>\n",
              "      <td>0</td>\n",
              "    </tr>\n",
              "    <tr>\n",
              "      <th>3</th>\n",
              "      <td>2018-09-01 00:00:00 x RY0TRQ8</td>\n",
              "      <td>2018-09-01 00:00:00</td>\n",
              "      <td>RY0TRQ8</td>\n",
              "      <td>0</td>\n",
              "    </tr>\n",
              "    <tr>\n",
              "      <th>4</th>\n",
              "      <td>2018-09-01 00:00:00 x 8LOVJZ3</td>\n",
              "      <td>2018-09-01 00:00:00</td>\n",
              "      <td>8LOVJZ3</td>\n",
              "      <td>0</td>\n",
              "    </tr>\n",
              "  </tbody>\n",
              "</table>\n",
              "</div>"
            ],
            "text/plain": [
              "           datetime x segment_id             datetime segment_id  y\n",
              "0  2018-09-01 00:00:00 x S0B3CGQ  2018-09-01 00:00:00    S0B3CGQ  0\n",
              "1  2018-09-01 00:00:00 x RYJYAPI  2018-09-01 00:00:00    RYJYAPI  0\n",
              "2  2018-09-01 00:00:00 x U3KP57C  2018-09-01 00:00:00    U3KP57C  0\n",
              "3  2018-09-01 00:00:00 x RY0TRQ8  2018-09-01 00:00:00    RY0TRQ8  0\n",
              "4  2018-09-01 00:00:00 x 8LOVJZ3  2018-09-01 00:00:00    8LOVJZ3  0"
            ]
          },
          "metadata": {
            "tags": []
          },
          "execution_count": 17
        }
      ]
    },
    {
      "cell_type": "code",
      "metadata": {
        "id": "jL4y4ZsItI4u",
        "colab_type": "code",
        "colab": {}
      },
      "source": [
        "#add some colums\n",
        "train['datetime'] = pd.to_datetime(train['datetime'])\n",
        "train['year'] = train['datetime'].dt.year\n",
        "train['month'] = train['datetime'].dt.month\n",
        "train['day'] = train['datetime'].dt.weekday\n",
        "train['hour'] = train['datetime'].dt.hour"
      ],
      "execution_count": 18,
      "outputs": []
    },
    {
      "cell_type": "code",
      "metadata": {
        "id": "ct3qxf_WtI7K",
        "colab_type": "code",
        "colab": {
          "base_uri": "https://localhost:8080/",
          "height": 206
        },
        "outputId": "16d3b1cf-877d-4beb-fb99-cd2107ae75d3"
      },
      "source": [
        "train.head()"
      ],
      "execution_count": null,
      "outputs": [
        {
          "output_type": "execute_result",
          "data": {
            "text/html": [
              "<div>\n",
              "<style scoped>\n",
              "    .dataframe tbody tr th:only-of-type {\n",
              "        vertical-align: middle;\n",
              "    }\n",
              "\n",
              "    .dataframe tbody tr th {\n",
              "        vertical-align: top;\n",
              "    }\n",
              "\n",
              "    .dataframe thead th {\n",
              "        text-align: right;\n",
              "    }\n",
              "</style>\n",
              "<table border=\"1\" class=\"dataframe\">\n",
              "  <thead>\n",
              "    <tr style=\"text-align: right;\">\n",
              "      <th></th>\n",
              "      <th>datetime x segment_id</th>\n",
              "      <th>datetime</th>\n",
              "      <th>segment_id</th>\n",
              "      <th>y</th>\n",
              "      <th>year</th>\n",
              "      <th>month</th>\n",
              "      <th>day</th>\n",
              "      <th>hour</th>\n",
              "    </tr>\n",
              "  </thead>\n",
              "  <tbody>\n",
              "    <tr>\n",
              "      <th>0</th>\n",
              "      <td>2017-01-01 00:00:00 x S0B3CGQ</td>\n",
              "      <td>2017-01-01</td>\n",
              "      <td>S0B3CGQ</td>\n",
              "      <td>0</td>\n",
              "      <td>2017</td>\n",
              "      <td>1</td>\n",
              "      <td>6</td>\n",
              "      <td>0</td>\n",
              "    </tr>\n",
              "    <tr>\n",
              "      <th>1</th>\n",
              "      <td>2017-01-01 00:00:00 x RYJYAPI</td>\n",
              "      <td>2017-01-01</td>\n",
              "      <td>RYJYAPI</td>\n",
              "      <td>0</td>\n",
              "      <td>2017</td>\n",
              "      <td>1</td>\n",
              "      <td>6</td>\n",
              "      <td>0</td>\n",
              "    </tr>\n",
              "    <tr>\n",
              "      <th>2</th>\n",
              "      <td>2017-01-01 00:00:00 x U3KP57C</td>\n",
              "      <td>2017-01-01</td>\n",
              "      <td>U3KP57C</td>\n",
              "      <td>0</td>\n",
              "      <td>2017</td>\n",
              "      <td>1</td>\n",
              "      <td>6</td>\n",
              "      <td>0</td>\n",
              "    </tr>\n",
              "    <tr>\n",
              "      <th>3</th>\n",
              "      <td>2017-01-01 00:00:00 x RY0TRQ8</td>\n",
              "      <td>2017-01-01</td>\n",
              "      <td>RY0TRQ8</td>\n",
              "      <td>0</td>\n",
              "      <td>2017</td>\n",
              "      <td>1</td>\n",
              "      <td>6</td>\n",
              "      <td>0</td>\n",
              "    </tr>\n",
              "    <tr>\n",
              "      <th>4</th>\n",
              "      <td>2017-01-01 00:00:00 x 8LOVJZ3</td>\n",
              "      <td>2017-01-01</td>\n",
              "      <td>8LOVJZ3</td>\n",
              "      <td>0</td>\n",
              "      <td>2017</td>\n",
              "      <td>1</td>\n",
              "      <td>6</td>\n",
              "      <td>0</td>\n",
              "    </tr>\n",
              "  </tbody>\n",
              "</table>\n",
              "</div>"
            ],
            "text/plain": [
              "           datetime x segment_id   datetime segment_id  ...  month  day  hour\n",
              "0  2017-01-01 00:00:00 x S0B3CGQ 2017-01-01    S0B3CGQ  ...      1    6     0\n",
              "1  2017-01-01 00:00:00 x RYJYAPI 2017-01-01    RYJYAPI  ...      1    6     0\n",
              "2  2017-01-01 00:00:00 x U3KP57C 2017-01-01    U3KP57C  ...      1    6     0\n",
              "3  2017-01-01 00:00:00 x RY0TRQ8 2017-01-01    RY0TRQ8  ...      1    6     0\n",
              "4  2017-01-01 00:00:00 x 8LOVJZ3 2017-01-01    8LOVJZ3  ...      1    6     0\n",
              "\n",
              "[5 rows x 8 columns]"
            ]
          },
          "metadata": {
            "tags": []
          },
          "execution_count": 26
        }
      ]
    },
    {
      "cell_type": "code",
      "metadata": {
        "id": "reQRjhWbPYVR",
        "colab_type": "code",
        "colab": {}
      },
      "source": [
        "#do the same for the test\n",
        "test['datetime'] = pd.to_datetime(test['datetime'])\n",
        "test['year'] = test['datetime'].dt.year\n",
        "test['month'] = test['datetime'].dt.month\n",
        "test['day'] = test['datetime'].dt.weekday\n",
        "test['hour'] = test['datetime'].dt.hour"
      ],
      "execution_count": 19,
      "outputs": []
    },
    {
      "cell_type": "code",
      "metadata": {
        "id": "-wFvZ61Xt_im",
        "colab_type": "code",
        "colab": {
          "base_uri": "https://localhost:8080/",
          "height": 143
        },
        "outputId": "3269b9b1-76c6-4215-8188-197aeac6b232"
      },
      "source": [
        "# add some more data - roads and location\n",
        "\n",
        "#locations\n",
        "train = pd.merge(train, locations, left_on='segment_id', right_on='road_segment_id')\n",
        "# road data\n",
        "train = pd.merge(train, road_segments[['segment_id','WIDTH','LANES']], on='segment_id', how='left')\n",
        "train.head(3)"
      ],
      "execution_count": 20,
      "outputs": [
        {
          "output_type": "execute_result",
          "data": {
            "text/html": [
              "<div>\n",
              "<style scoped>\n",
              "    .dataframe tbody tr th:only-of-type {\n",
              "        vertical-align: middle;\n",
              "    }\n",
              "\n",
              "    .dataframe tbody tr th {\n",
              "        vertical-align: top;\n",
              "    }\n",
              "\n",
              "    .dataframe thead th {\n",
              "        text-align: right;\n",
              "    }\n",
              "</style>\n",
              "<table border=\"1\" class=\"dataframe\">\n",
              "  <thead>\n",
              "    <tr style=\"text-align: right;\">\n",
              "      <th></th>\n",
              "      <th>datetime x segment_id</th>\n",
              "      <th>datetime</th>\n",
              "      <th>segment_id</th>\n",
              "      <th>y</th>\n",
              "      <th>year</th>\n",
              "      <th>month</th>\n",
              "      <th>day</th>\n",
              "      <th>hour</th>\n",
              "      <th>longitude</th>\n",
              "      <th>latitude</th>\n",
              "      <th>WIDTH</th>\n",
              "      <th>LANES</th>\n",
              "    </tr>\n",
              "  </thead>\n",
              "  <tbody>\n",
              "    <tr>\n",
              "      <th>0</th>\n",
              "      <td>2017-01-01 00:00:00 x S0B3CGQ</td>\n",
              "      <td>2017-01-01 00:00:00</td>\n",
              "      <td>S0B3CGQ</td>\n",
              "      <td>0</td>\n",
              "      <td>2017</td>\n",
              "      <td>1</td>\n",
              "      <td>6</td>\n",
              "      <td>0</td>\n",
              "      <td>18.541422</td>\n",
              "      <td>-33.888613</td>\n",
              "      <td>0.0</td>\n",
              "      <td>0</td>\n",
              "    </tr>\n",
              "    <tr>\n",
              "      <th>1</th>\n",
              "      <td>2017-01-01 01:00:00 x S0B3CGQ</td>\n",
              "      <td>2017-01-01 01:00:00</td>\n",
              "      <td>S0B3CGQ</td>\n",
              "      <td>0</td>\n",
              "      <td>2017</td>\n",
              "      <td>1</td>\n",
              "      <td>6</td>\n",
              "      <td>1</td>\n",
              "      <td>18.541422</td>\n",
              "      <td>-33.888613</td>\n",
              "      <td>0.0</td>\n",
              "      <td>0</td>\n",
              "    </tr>\n",
              "    <tr>\n",
              "      <th>2</th>\n",
              "      <td>2017-01-01 02:00:00 x S0B3CGQ</td>\n",
              "      <td>2017-01-01 02:00:00</td>\n",
              "      <td>S0B3CGQ</td>\n",
              "      <td>0</td>\n",
              "      <td>2017</td>\n",
              "      <td>1</td>\n",
              "      <td>6</td>\n",
              "      <td>2</td>\n",
              "      <td>18.541422</td>\n",
              "      <td>-33.888613</td>\n",
              "      <td>0.0</td>\n",
              "      <td>0</td>\n",
              "    </tr>\n",
              "  </tbody>\n",
              "</table>\n",
              "</div>"
            ],
            "text/plain": [
              "           datetime x segment_id            datetime  ... WIDTH  LANES\n",
              "0  2017-01-01 00:00:00 x S0B3CGQ 2017-01-01 00:00:00  ...   0.0      0\n",
              "1  2017-01-01 01:00:00 x S0B3CGQ 2017-01-01 01:00:00  ...   0.0      0\n",
              "2  2017-01-01 02:00:00 x S0B3CGQ 2017-01-01 02:00:00  ...   0.0      0\n",
              "\n",
              "[3 rows x 12 columns]"
            ]
          },
          "metadata": {
            "tags": []
          },
          "execution_count": 20
        }
      ]
    },
    {
      "cell_type": "code",
      "metadata": {
        "id": "_cITv2IjPvic",
        "colab_type": "code",
        "colab": {
          "base_uri": "https://localhost:8080/",
          "height": 143
        },
        "outputId": "9624bbf8-eaa9-424c-f2e6-ddff5c79572a"
      },
      "source": [
        "# Same for the test\n",
        "#locations\n",
        "test = pd.merge(test, locations, left_on='segment_id', right_on='road_segment_id')\n",
        "# road data\n",
        "test = pd.merge(test, road_segments[['segment_id','WIDTH','LANES']], on='segment_id', how='left')\n",
        "test.head(3)\n"
      ],
      "execution_count": 21,
      "outputs": [
        {
          "output_type": "execute_result",
          "data": {
            "text/html": [
              "<div>\n",
              "<style scoped>\n",
              "    .dataframe tbody tr th:only-of-type {\n",
              "        vertical-align: middle;\n",
              "    }\n",
              "\n",
              "    .dataframe tbody tr th {\n",
              "        vertical-align: top;\n",
              "    }\n",
              "\n",
              "    .dataframe thead th {\n",
              "        text-align: right;\n",
              "    }\n",
              "</style>\n",
              "<table border=\"1\" class=\"dataframe\">\n",
              "  <thead>\n",
              "    <tr style=\"text-align: right;\">\n",
              "      <th></th>\n",
              "      <th>datetime x segment_id</th>\n",
              "      <th>datetime</th>\n",
              "      <th>segment_id</th>\n",
              "      <th>y</th>\n",
              "      <th>year</th>\n",
              "      <th>month</th>\n",
              "      <th>day</th>\n",
              "      <th>hour</th>\n",
              "      <th>longitude</th>\n",
              "      <th>latitude</th>\n",
              "      <th>WIDTH</th>\n",
              "      <th>LANES</th>\n",
              "    </tr>\n",
              "  </thead>\n",
              "  <tbody>\n",
              "    <tr>\n",
              "      <th>0</th>\n",
              "      <td>2018-09-01 00:00:00 x S0B3CGQ</td>\n",
              "      <td>2018-09-01 00:00:00</td>\n",
              "      <td>S0B3CGQ</td>\n",
              "      <td>0</td>\n",
              "      <td>2018</td>\n",
              "      <td>9</td>\n",
              "      <td>5</td>\n",
              "      <td>0</td>\n",
              "      <td>18.541422</td>\n",
              "      <td>-33.888613</td>\n",
              "      <td>0.0</td>\n",
              "      <td>0</td>\n",
              "    </tr>\n",
              "    <tr>\n",
              "      <th>1</th>\n",
              "      <td>2018-09-01 01:00:00 x S0B3CGQ</td>\n",
              "      <td>2018-09-01 01:00:00</td>\n",
              "      <td>S0B3CGQ</td>\n",
              "      <td>0</td>\n",
              "      <td>2018</td>\n",
              "      <td>9</td>\n",
              "      <td>5</td>\n",
              "      <td>1</td>\n",
              "      <td>18.541422</td>\n",
              "      <td>-33.888613</td>\n",
              "      <td>0.0</td>\n",
              "      <td>0</td>\n",
              "    </tr>\n",
              "    <tr>\n",
              "      <th>2</th>\n",
              "      <td>2018-09-01 02:00:00 x S0B3CGQ</td>\n",
              "      <td>2018-09-01 02:00:00</td>\n",
              "      <td>S0B3CGQ</td>\n",
              "      <td>0</td>\n",
              "      <td>2018</td>\n",
              "      <td>9</td>\n",
              "      <td>5</td>\n",
              "      <td>2</td>\n",
              "      <td>18.541422</td>\n",
              "      <td>-33.888613</td>\n",
              "      <td>0.0</td>\n",
              "      <td>0</td>\n",
              "    </tr>\n",
              "  </tbody>\n",
              "</table>\n",
              "</div>"
            ],
            "text/plain": [
              "           datetime x segment_id            datetime  ... WIDTH  LANES\n",
              "0  2018-09-01 00:00:00 x S0B3CGQ 2018-09-01 00:00:00  ...   0.0      0\n",
              "1  2018-09-01 01:00:00 x S0B3CGQ 2018-09-01 01:00:00  ...   0.0      0\n",
              "2  2018-09-01 02:00:00 x S0B3CGQ 2018-09-01 02:00:00  ...   0.0      0\n",
              "\n",
              "[3 rows x 12 columns]"
            ]
          },
          "metadata": {
            "tags": []
          },
          "execution_count": 21
        }
      ]
    },
    {
      "cell_type": "code",
      "metadata": {
        "id": "H65ZZfUgC2yl",
        "colab_type": "code",
        "colab": {}
      },
      "source": [
        "#make sure the data is numeric\n",
        "train[\"month\"] = pd.to_numeric(train[\"month\"])\n",
        "train[\"day\"] = pd.to_numeric(train[\"day\"])\n",
        "train[\"hour\"] = pd.to_numeric(train[\"hour\"])\n",
        "train[\"WIDTH\"] = pd.to_numeric(train[\"WIDTH\"])\n",
        "train[\"LANES\"] = pd.to_numeric(train[\"LANES\"])"
      ],
      "execution_count": 22,
      "outputs": []
    },
    {
      "cell_type": "markdown",
      "metadata": {
        "id": "ZBeQxWpnA1Wj",
        "colab_type": "text"
      },
      "source": [
        "### Save both ```train``` and ```test``` to load in the next ```notebook``` and add data too."
      ]
    },
    {
      "cell_type": "code",
      "metadata": {
        "id": "GZnfgy7wA0hK",
        "colab_type": "code",
        "colab": {}
      },
      "source": [
        "#save it\n",
        "train.to_csv(path/'data/train_basic.csv', index=False)\n",
        "test.to_csv(path/'data/test_basic.csv', index=False)\n",
        "\n",
        "#for visulaization\n",
        "local_test.to_csv(path/'data/local_test_vis.csv', index=False)"
      ],
      "execution_count": null,
      "outputs": []
    },
    {
      "cell_type": "code",
      "metadata": {
        "id": "TzJ2vLIktI_v",
        "colab_type": "code",
        "colab": {}
      },
      "source": [
        "#clean up\n",
        "data, local_test = 0, 0"
      ],
      "execution_count": 23,
      "outputs": []
    },
    {
      "cell_type": "code",
      "metadata": {
        "id": "3joftEKM0ED-",
        "colab_type": "code",
        "colab": {}
      },
      "source": [
        "# define a list of column names to be used for training\n",
        "x_cols = ['month', 'day', 'hour', 'longitude', 'latitude', 'WIDTH', 'LANES']"
      ],
      "execution_count": 24,
      "outputs": []
    },
    {
      "cell_type": "markdown",
      "metadata": {
        "id": "-hEikz0zCNg0",
        "colab_type": "text"
      },
      "source": [
        "### Before we go any further: we need to do some more wrangling because our data is highly imbalanced."
      ]
    },
    {
      "cell_type": "code",
      "metadata": {
        "id": "2vSRD570YK6U",
        "colab_type": "code",
        "colab": {
          "base_uri": "https://localhost:8080/",
          "height": 315
        },
        "outputId": "00093f5e-6517-456b-f8b4-fdef5813a85b"
      },
      "source": [
        "# count examples in each class\n",
        "train_count = train['y'].value_counts()\n",
        "print('Class 0:', train_count[0])\n",
        "print('Class 1:', train_count[1])\n",
        "train_count.plot(kind='bar', title='Count (train)')\n",
        "plt.show()"
      ],
      "execution_count": 25,
      "outputs": [
        {
          "output_type": "stream",
          "text": [
            "Class 0: 4751754\n",
            "Class 1: 14230\n"
          ],
          "name": "stdout"
        },
        {
          "output_type": "display_data",
          "data": {
            "image/png": "[encoded data removed]",
            "text/plain": [
              "<Figure size 432x288 with 1 Axes>"
            ]
          },
          "metadata": {
            "tags": [],
            "needs_background": "light"
          }
        }
      ]
    },
    {
      "cell_type": "markdown",
      "metadata": {
        "id": "7vf3Oz9QKn6E",
        "colab_type": "text"
      },
      "source": [
        "#### Why does this matter?\n",
        "\n",
        "> Lets run a quick example with the data 'as-is'.\n",
        "\n"
      ]
    },
    {
      "cell_type": "code",
      "metadata": {
        "id": "c-cKtwgiK0qz",
        "colab_type": "code",
        "colab": {
          "base_uri": "https://localhost:8080/",
          "height": 147
        },
        "outputId": "209d4693-fb62-451c-9193-c4d2dba05d24"
      },
      "source": [
        "model = XGBClassifier(objective ='binary:logistic')              # set model\n",
        "model.fit(train[x_cols],train['y'])                              # what do you want to train with?\n",
        "preds = model.predict(train[x_cols])                             # what do you want to predict?\n",
        "print('')\n",
        "print(preds)                                                     # print the predictions\n",
        "# Get scores                                                     # lets look at some accuracy measures\n",
        "accuracy = accuracy_score(train['y'], preds)\n",
        "print('Accuracy: %.2f%%' % (accuracy * 100.0))\n",
        "rmse = mean_squared_error(train['y'], preds)\n",
        "print(\"RMSE: %f\" % (rmse))\n",
        "f1 = f1_score(train['y'], preds)\n",
        "print('f1-score: %.2f%%' % f1)"
      ],
      "execution_count": 26,
      "outputs": [
        {
          "output_type": "stream",
          "text": [
            "[14:00:41] WARNING: /workspace/src/gbm/gbtree.cc:139: Tree method is automatically selected to be 'approx' for faster speed. To use old behavior (exact greedy algorithm on single machine), set tree_method to 'exact'.\n",
            "\n",
            "[0 0 0 ... 0 0 0]\n",
            "Accuracy: 99.70%\n",
            "RMSE: 0.002984\n",
            "f1-score: 0.00%\n"
          ],
          "name": "stdout"
        }
      ]
    },
    {
      "cell_type": "markdown",
      "metadata": {
        "id": "tzrQLPDZMUvi",
        "colab_type": "text"
      },
      "source": [
        "#### Our ```accuracy``` is amazing but our ```f1-score``` is ```0```."
      ]
    },
    {
      "cell_type": "code",
      "metadata": {
        "id": "cTMYJ8kUldUY",
        "colab_type": "code",
        "colab": {
          "base_uri": "https://localhost:8080/",
          "height": 35
        },
        "outputId": "3a74c0aa-1060-4193-baca-da5d203093f6"
      },
      "source": [
        "# Show predicted classes\n",
        "print(np.unique(preds, return_counts=True))"
      ],
      "execution_count": 38,
      "outputs": [
        {
          "output_type": "stream",
          "text": [
            "(array([0, 1]), array([4765938,      46]))\n"
          ],
          "name": "stdout"
        }
      ]
    },
    {
      "cell_type": "code",
      "metadata": {
        "id": "qdXlsiWHONSD",
        "colab_type": "code",
        "colab": {
          "base_uri": "https://localhost:8080/",
          "height": 366
        },
        "outputId": "9344e636-ebce-4304-a7ed-4b4429aa4fe6"
      },
      "source": [
        "\n",
        "cnf_matrix = confusion_matrix(train['y'], preds)\n",
        "plot_confusion_matrix(cnf_matrix, classes=['0', '1'],\n",
        "                      title='Confusion matrix, without normalization')"
      ],
      "execution_count": null,
      "outputs": [
        {
          "output_type": "stream",
          "text": [
            "Confusion matrix, without normalization\n",
            "[[4751734      20]\n",
            " [  14204      26]]\n"
          ],
          "name": "stdout"
        },
        {
          "output_type": "display_data",
          "data": {
            "image/png": "[encoded data removed]",
            "text/plain": [
              "<Figure size 432x288 with 2 Axes>"
            ]
          },
          "metadata": {
            "tags": [],
            "needs_background": "light"
          }
        }
      ]
    },
    {
      "cell_type": "markdown",
      "metadata": {
        "id": "qVEyPT3sCb6n",
        "colab_type": "text"
      },
      "source": [
        "#### We're ```predict```ing ```0```'s and ```1```'s equally and not enough of iether. We need to add some kind of ```weight``` so that the algorithm knows to add more emphasis to one class. Luckily we can estimate a ```scale_pos_weight```...\n",
        "\n",
        "### Per the documentation ```scale_pos_weight = count(negative examples)/count(Positive examples)``` but from this [thread](https://stats.stackexchange.com/questions/243207/what-is-the-proper-usage-of-scale-pos-weight-in-xgboost-for-imbalanced-datasets) ```scale_pos_weight = sqrt(count(negative examples)/count(Positive examples))``` might prove a better estimate."
      ]
    },
    {
      "cell_type": "code",
      "metadata": {
        "id": "RuSRzkRnYt26",
        "colab_type": "code",
        "colab": {
          "base_uri": "https://localhost:8080/",
          "height": 35
        },
        "outputId": "7d2bb83f-01a5-495a-ef99-06c4f738bba4"
      },
      "source": [
        "# estimate scale_pos_weight value\n",
        "estimate = sqrt(train_count[0] / train_count[1])\n",
        "print('Estimate (class imbalance): %.3f' % estimate)"
      ],
      "execution_count": 40,
      "outputs": [
        {
          "output_type": "stream",
          "text": [
            "Estimate (class imbalance): 18.274\n"
          ],
          "name": "stdout"
        }
      ]
    },
    {
      "cell_type": "code",
      "metadata": {
        "id": "oS4u1idmtI98",
        "colab_type": "code",
        "colab": {}
      },
      "source": [
        "# Create the model - we start with basic parameters which we'll tune as we go along; for now set scale_pos_weight\n",
        "model = XGBClassifier(objective='binary:logistic', \n",
        "                      scale_pos_weight=18.274,)"
      ],
      "execution_count": 45,
      "outputs": []
    },
    {
      "cell_type": "markdown",
      "metadata": {
        "id": "lg9Dq6g9B6uN",
        "colab_type": "text"
      },
      "source": [
        "#### ... or perform a ```grid search``` - which I could not get to work."
      ]
    },
    {
      "cell_type": "code",
      "metadata": {
        "id": "LhyjMfNQ0Onj",
        "colab_type": "code",
        "colab": {}
      },
      "source": [
        "model = XGBClassifier(objective='binary:logistic')\n",
        "\n",
        "# define grid\n",
        "param_grid = {                           \n",
        "    'scale_pos_weight': [100, 300, 500] # these values can change\n",
        "    }\n",
        "\n",
        "# define evaluation procedure\n",
        "cv = RepeatedStratifiedKFold(n_splits=3, n_repeats=2, random_state=1)\n",
        "\n",
        "# define grid search\n",
        "grid = GridSearchCV(estimator=model, param_grid=param_grid, \n",
        "                    n_jobs=1, cv=cv, scoring='f1')\n",
        "\n",
        "# execute the grid search\n",
        "grid_result = grid.fit(train[x_cols], train['y'])\n",
        "\n",
        "# report the best configuration\n",
        "print(\"Best: %f using %s\" % (grid_result.best_score_, grid_result.best_params_))\n",
        "\n",
        "# report all configurations\n",
        "means = grid_result.cv_results_['mean_test_score']\n",
        "stds = grid_result.cv_results_['std_test_score']\n",
        "params = grid_result.cv_results_['params']\n",
        "for mean, stdev, param in zip(means, stds, params):\n",
        "    print(\"%f (%f) with: %r\" % (mean, stdev, param))"
      ],
      "execution_count": null,
      "outputs": []
    },
    {
      "cell_type": "markdown",
      "metadata": {
        "id": "_aUl9bLDS4Xh",
        "colab_type": "text"
      },
      "source": [
        "#### Lets continue with the estimated ```scale_pos_weight```"
      ]
    },
    {
      "cell_type": "code",
      "metadata": {
        "id": "rk4XP9xjwWeH",
        "colab_type": "code",
        "colab": {
          "base_uri": "https://localhost:8080/",
          "height": 221
        },
        "outputId": "db8d37b2-3a5f-4c69-f51a-c97405df8274"
      },
      "source": [
        "#fit\n",
        "model.fit(train[x_cols], train['y'])"
      ],
      "execution_count": 46,
      "outputs": [
        {
          "output_type": "stream",
          "text": [
            "[15:36:22] WARNING: /workspace/src/gbm/gbtree.cc:139: Tree method is automatically selected to be 'approx' for faster speed. To use old behavior (exact greedy algorithm on single machine), set tree_method to 'exact'.\n"
          ],
          "name": "stdout"
        },
        {
          "output_type": "execute_result",
          "data": {
            "text/plain": [
              "XGBClassifier(base_score=0.5, booster='gbtree', colsample_bylevel=1,\n",
              "              colsample_bynode=1, colsample_bytree=1, gamma=0, gpu_id=-1,\n",
              "              importance_type='gain', interaction_constraints='',\n",
              "              learning_rate=0.300000012, max_delta_step=0, max_depth=6,\n",
              "              min_child_weight=1, missing=nan, monotone_constraints='()',\n",
              "              n_estimators=100, n_jobs=0, num_parallel_tree=1,\n",
              "              objective='binary:logistic', random_state=0, reg_alpha=0,\n",
              "              reg_lambda=1, scale_pos_weight=18.274, subsample=1,\n",
              "              tree_method='approx', validate_parameters=1, verbosity=None)"
            ]
          },
          "metadata": {
            "tags": []
          },
          "execution_count": 46
        }
      ]
    },
    {
      "cell_type": "markdown",
      "metadata": {
        "id": "R8TOS41xe_Pe",
        "colab_type": "text"
      },
      "source": [
        "#### ```most_important``` features"
      ]
    },
    {
      "cell_type": "code",
      "metadata": {
        "id": "iuDRvU4R-QwM",
        "colab_type": "code",
        "colab": {
          "base_uri": "https://localhost:8080/",
          "height": 35
        },
        "outputId": "6d293bde-8481-490d-9a98-57b23707bc0e"
      },
      "source": [
        "sorted_idx = np.argsort(model.feature_importances_)[::-1]\n",
        "sorted_idx\n"
      ],
      "execution_count": 47,
      "outputs": [
        {
          "output_type": "execute_result",
          "data": {
            "text/plain": [
              "array([3, 4, 2, 5, 0, 1, 6])"
            ]
          },
          "metadata": {
            "tags": []
          },
          "execution_count": 47
        }
      ]
    },
    {
      "cell_type": "code",
      "metadata": {
        "id": "cVrx9NHH_2Sv",
        "colab_type": "code",
        "colab": {
          "base_uri": "https://localhost:8080/",
          "height": 146
        },
        "outputId": "7e0da227-7fb5-4404-8b68-e22e184bbf57"
      },
      "source": [
        "for index in sorted_idx:\n",
        "    print([train.columns[index], model.feature_importances_[index]]) "
      ],
      "execution_count": 48,
      "outputs": [
        {
          "output_type": "stream",
          "text": [
            "['y', 0.34232888]\n",
            "['year', 0.21358609]\n",
            "['segment_id', 0.17512782]\n",
            "['month', 0.1127105]\n",
            "['datetime x segment_id', 0.100399785]\n",
            "['datetime', 0.055846997]\n",
            "['day', 0.0]\n"
          ],
          "name": "stdout"
        }
      ]
    },
    {
      "cell_type": "code",
      "metadata": {
        "id": "pwBvoAvt_r9c",
        "colab_type": "code",
        "colab": {
          "base_uri": "https://localhost:8080/",
          "height": 295
        },
        "outputId": "41fde9e2-9b3f-464e-b085-e50f17029657"
      },
      "source": [
        "plot_importance(model, max_num_features = 7)\n",
        "pyplot.show()"
      ],
      "execution_count": 49,
      "outputs": [
        {
          "output_type": "display_data",
          "data": {
            "image/png": "[encoded data removed]",
            "text/plain": [
              "<Figure size 432x288 with 1 Axes>"
            ]
          },
          "metadata": {
            "tags": [],
            "needs_background": "light"
          }
        }
      ]
    },
    {
      "cell_type": "markdown",
      "metadata": {
        "id": "9L7TPy7zf8kz",
        "colab_type": "text"
      },
      "source": [
        "#### ```hour``` of the day!"
      ]
    },
    {
      "cell_type": "markdown",
      "metadata": {
        "id": "dO_QxpOM1eYL",
        "colab_type": "text"
      },
      "source": [
        "## Optimal Threshold for ROC Curve\n",
        "\n",
        "> A useful tool when predicting the probability of a binary outcome is the *Receiver Operating Characteristic* curve, or ROC curve.\n",
        "\n",
        "> It is a plot of the false positive rate (x-axis) versus the true positive rate (y-axis) for a number of different candidate threshold values between 0.0 and 1.0. In other words, it plots the false alarm rate versus the hit rate - There are many awesome resources online for detailed explanations. [Machine Learning Mastery](https://machinelearningmastery.com/) helped me.\n",
        "\n",
        "\n",
        "\n"
      ]
    },
    {
      "cell_type": "code",
      "metadata": {
        "id": "0p9kjbQOmFbX",
        "colab_type": "code",
        "colab": {}
      },
      "source": [
        "#lets predict *PROBABILITIES*  on the training-set\n",
        "y_pred_train = model.predict_proba(train[x_cols])"
      ],
      "execution_count": 50,
      "outputs": []
    },
    {
      "cell_type": "code",
      "metadata": {
        "id": "5gEPKPCdun0I",
        "colab_type": "code",
        "colab": {}
      },
      "source": [
        "# keep probabilities for the positive outcome only\n",
        "y_pred_train = y_pred_train[:, 1]\n",
        "# calculate roc curves\n",
        "fpr, tpr, thresholds = roc_curve(train['y'], y_pred_train)\n",
        "\n",
        "#same for the test\n",
        "y_pred_test = model.predict_proba(test[x_cols])\n",
        "y_pred_test =  y_pred_test[:, 1]\n",
        "fpr_test, tpr_test, thresholds_test = roc_curve(test['y'],y_pred_test)"
      ],
      "execution_count": 51,
      "outputs": []
    },
    {
      "cell_type": "code",
      "metadata": {
        "id": "XlNIHPn9v40b",
        "colab_type": "code",
        "colab": {
          "base_uri": "https://localhost:8080/",
          "height": 54
        },
        "outputId": "9f196deb-fce3-40e3-ac23-73d4ce9800e5"
      },
      "source": [
        "# calculate the g-mean for each threshold\n",
        "#the train\n",
        "gmeans = sqrt(tpr * (1-fpr))\n",
        "# locate the index of the largest g-mean\n",
        "ix = argmax(gmeans)\n",
        "print('Best ROC Training Threshold = %f, G-Mean=%.3f' % (thresholds[ix], gmeans[ix]))\n",
        "\n",
        "#the test\n",
        "gmeans_t = sqrt(tpr_test * (1-fpr_test))\n",
        "# locate the index of the largest g-mean\n",
        "ix_t = argmax(gmeans_t)\n",
        "print('Best ROC Test Threshold = %f, G-Mean=%.3f' % (thresholds_test[ix_t], gmeans_t[ix_t]))"
      ],
      "execution_count": 52,
      "outputs": [
        {
          "output_type": "stream",
          "text": [
            "Best ROC Training Threshold = 0.061941, G-Mean=0.831\n",
            "Best ROC Test Threshold = 0.027294, G-Mean=0.719\n"
          ],
          "name": "stdout"
        }
      ]
    },
    {
      "cell_type": "markdown",
      "metadata": {
        "id": "_Q-6kQS3Rdpl",
        "colab_type": "text"
      },
      "source": [
        "### The score johnowhitaker recommends\n"
      ]
    },
    {
      "cell_type": "code",
      "metadata": {
        "id": "mT3E9wnFL08d",
        "colab_type": "code",
        "colab": {
          "base_uri": "https://localhost:8080/",
          "height": 72
        },
        "outputId": "d7b3a8b3-4628-466f-801f-c6700cb34ae1"
      },
      "source": [
        "# \n",
        "print('Training log_loss:', log_loss(train['y'], y_pred_train))\n",
        "print('')\n",
        "print('Test log_loss:', log_loss(test['y'], y_pred_test))"
      ],
      "execution_count": 53,
      "outputs": [
        {
          "output_type": "stream",
          "text": [
            "Training log_loss: 0.04880166660289508\n",
            "\n",
            "Test log_loss: 0.05681348926207672\n"
          ],
          "name": "stdout"
        }
      ]
    },
    {
      "cell_type": "markdown",
      "metadata": {
        "id": "oUCjmYIwfsUm",
        "colab_type": "text"
      },
      "source": [
        "#### Plot ROC curves for both the ```training``` and ```test``` datasets"
      ]
    },
    {
      "cell_type": "code",
      "metadata": {
        "id": "aLuaDm0bIGWP",
        "colab_type": "code",
        "colab": {
          "base_uri": "https://localhost:8080/",
          "height": 279
        },
        "outputId": "855db26f-e1ab-4993-b1ce-17e1bd9b3872"
      },
      "source": [
        "#plot\n",
        "fig,ax = plt.subplots()\n",
        "plt.plot([0,1],[0,1],'r-',label='Random Guess',color='orange')#,lw=3)\n",
        "plt.plot(fpr,tpr,label='ROC (Train)')#,lw=3)\n",
        "plt.plot(fpr_test,tpr_test,'r:',label='ROC (Test)',color='steelblue')#,lw=3)\n",
        "#pyplot.scatter(fpr[ix], tpr[ix], marker='o', color='black', label='Best Train')\n",
        "#pyplot.scatter(fpr_test[ix_t], tpr_test[ix_t], marker='o', color='red', label='Best Test')\n",
        "plt.grid()\n",
        "plt.xlabel('False Positive Rate')\n",
        "plt.ylabel('True Positive Rate')\n",
        "plt.legend()\n",
        "plt.show()"
      ],
      "execution_count": 54,
      "outputs": [
        {
          "output_type": "display_data",
          "data": {
            "image/png": "[encoded data removed]",
            "text/plain": [
              "<Figure size 432x288 with 1 Axes>"
            ]
          },
          "metadata": {
            "tags": [],
            "needs_background": "light"
          }
        }
      ]
    },
    {
      "cell_type": "code",
      "metadata": {
        "id": "8amYnR0JgGsZ",
        "colab_type": "code",
        "colab": {
          "base_uri": "https://localhost:8080/",
          "height": 279
        },
        "outputId": "a30496c9-3163-48b6-9c45-438966ccc678"
      },
      "source": [
        "plt.plot(thresholds,tpr,'r-',label='TPR (Train)',color='orange')#,lw=3)\n",
        "plt.plot(thresholds_test,tpr_test,'r:',label='TPR (Test',color='orange')#,lw=3)\n",
        "plt.plot(thresholds,fpr,'r-',label='FPR (Train)',color='steelblue')#,lw=3)\n",
        "plt.plot(thresholds_test,fpr_test,'r:',label='FPR (Test)',color='steelblue')#,lw=3)\n",
        "plt.gca().set_xbound(lower=0,upper=1)\n",
        "plt.xlabel('Threshold')\n",
        "plt.ylabel('True/False Positive Rate')\n",
        "plt.legend()\n",
        "plt.show()"
      ],
      "execution_count": 55,
      "outputs": [
        {
          "output_type": "display_data",
          "data": {
            "image/png": "[encoded data removed]",
            "text/plain": [
              "<Figure size 432x288 with 1 Axes>"
            ]
          },
          "metadata": {
            "tags": [],
            "needs_background": "light"
          }
        }
      ]
    },
    {
      "cell_type": "markdown",
      "metadata": {
        "id": "XeEJDQ-F5L7e",
        "colab_type": "text"
      },
      "source": [
        "## Optimal Threshold for Precision-Recall Curve\n",
        "\n",
        "> Precision: The fraction of the time we are correct when making a positive prediction (saying there is an accident)\n",
        "\n",
        "> Recall: The fraction of accidents we predict. \n",
        "\n",
        "#### We can calculate a Precision-Recall Curve with probabilities but to genereate a meaningful ```f1-score```/measure (the challenge requirement) we need to predict a class - a ```0``` or a ```1```.\n"
      ]
    },
    {
      "cell_type": "code",
      "metadata": {
        "id": "8UfY078qbOPD",
        "colab_type": "code",
        "colab": {
          "base_uri": "https://localhost:8080/",
          "height": 54
        },
        "outputId": "6dc208f9-f11c-4400-cb87-ffb422e4026e"
      },
      "source": [
        "#for the training\n",
        "# predict class values\n",
        "yhat = model.predict(train[x_cols])\n",
        "lr_precision, lr_recall, thresh = precision_recall_curve(train['y'], y_pred_train)\n",
        "lr_f1, lr_auc = f1_score(train['y'], yhat), auc(lr_recall, lr_precision)\n",
        "# summarize scores\n",
        "print(' Training Classification: f1=%.3f auc=%.3f' % (lr_f1, lr_auc))\n",
        "\n",
        "#for the test\n",
        "# predict class values\n",
        "yhat_t = model.predict(test[x_cols])\n",
        "lr_precision_t, lr_recall_t, thresh_t = precision_recall_curve(test['y'], y_pred_test)\n",
        "lr_f1_t, lr_auc_t = f1_score(test['y'], yhat_t), auc(lr_recall_t, lr_precision_t)\n",
        "# summarize scores\n",
        "print('Test Classification: f1=%.3f auc=%.3f' % (lr_f1_t, lr_auc_t))"
      ],
      "execution_count": 56,
      "outputs": [
        {
          "output_type": "stream",
          "text": [
            " Training Classification: f1=0.160 auc=0.085\n",
            "Test Classification: f1=0.057 auc=0.025\n"
          ],
          "name": "stdout"
        }
      ]
    },
    {
      "cell_type": "code",
      "metadata": {
        "id": "9R9X8luD6gdS",
        "colab_type": "code",
        "colab": {
          "base_uri": "https://localhost:8080/",
          "height": 279
        },
        "outputId": "d5ca60c8-f2c4-49cd-e7d1-6945238984e2"
      },
      "source": [
        "fig,ax = plt.subplots()\n",
        "plt.plot(lr_precision,lr_recall,label='PR (Train)')#,lw=3)\n",
        "plt.plot(lr_precision_t,lr_recall_t,label='PR (Test)')#,lw=3)\n",
        "#pyplot.scatter(recall[ix], precision[ix], marker='o', color='black', label='Best Training')\n",
        "#pyplot.scatter(recall_test[ix_t], precision_test[ix_t], marker='o', color='red', label='Best Test')\n",
        "plt.xlabel('Precision')\n",
        "plt.ylabel('Recall')\n",
        "plt.grid()\n",
        "plt.legend()\n",
        "plt.show()"
      ],
      "execution_count": 57,
      "outputs": [
        {
          "output_type": "display_data",
          "data": {
            "image/png": "[encoded data removed]",
            "text/plain": [
              "<Figure size 432x288 with 1 Axes>"
            ]
          },
          "metadata": {
            "tags": [],
            "needs_background": "light"
          }
        }
      ]
    },
    {
      "cell_type": "markdown",
      "metadata": {
        "id": "hH95-OTJo2pJ",
        "colab_type": "text"
      },
      "source": [
        "#### The scores show: the model that looked good according to the ```ROC Curve``` is in fact not so; when considering the ```precision and recall``` that focus on the positive class. The plot highlights that the model is just barely above the no skill line for most thresholds."
      ]
    },
    {
      "cell_type": "code",
      "metadata": {
        "id": "G5d7mVCMg-Zc",
        "colab_type": "code",
        "colab": {
          "base_uri": "https://localhost:8080/",
          "height": 279
        },
        "outputId": "b42e0334-10d6-46bd-f0f4-4eadae057396"
      },
      "source": [
        "# threshold plot\n",
        "plt.plot(thresh,lr_precision[:-1],'r-',label='P (Train)',color='orange')#,lw=3)\n",
        "plt.plot(thresh_t,lr_precision_t[:-1],'r:',label='P (Test',color='orange')#,lw=3)\n",
        "plt.plot(thresh,lr_recall[:-1],'r-',label='R (Test)',color='steelblue')#,lw=3)\n",
        "plt.plot(thresh_t,lr_recall_t[:-1],'r:',label='R (Test)',color='steelblue')#,lw=3)\n",
        "#plt.plot([0,1],[0,1],'k-',lw=2)\n",
        "plt.gca().set_xbound(lower=0,upper=1)\n",
        "plt.xlabel('Threshold')\n",
        "plt.ylabel('Precision/Recall')\n",
        "plt.legend()\n",
        "plt.show()"
      ],
      "execution_count": 58,
      "outputs": [
        {
          "output_type": "display_data",
          "data": {
            "image/png": "[encoded data removed]",
            "text/plain": [
              "<Figure size 432x288 with 1 Axes>"
            ]
          },
          "metadata": {
            "tags": [],
            "needs_background": "light"
          }
        }
      ]
    },
    {
      "cell_type": "markdown",
      "metadata": {
        "id": "y_D-7TLt8Lf7",
        "colab_type": "text"
      },
      "source": [
        "## Threshold Tuning for F1-Score\n",
        "\n",
        "\n",
        "\n",
        "> Our ```proba```bilities are ok. Now we need to apply a ```threshold``` to maximize an ```f1-score```. Why do we care about the ```f1-score```/measure: because it is the harmonic mean between ```precision``` and ```recall```. We can search for one.\n",
        "\n"
      ]
    },
    {
      "cell_type": "code",
      "metadata": {
        "id": "ZemR9J5X_jo2",
        "colab_type": "code",
        "colab": {}
      },
      "source": [
        "# apply threshold to predictions to create labels\n",
        "def to_labels(pos_preds, threshold):\n",
        "  '''\n",
        "  define a function to take the prediction and threshold as an argument and return an array of integers in {0, 1}\n",
        "  '''\n",
        "  return (pos_preds >= threshold).astype(int)"
      ],
      "execution_count": 59,
      "outputs": []
    },
    {
      "cell_type": "code",
      "metadata": {
        "id": "lJEow1JfBIT2",
        "colab_type": "code",
        "colab": {}
      },
      "source": [
        "# define thresholds (start, stop, step)\n",
        "threshold = np.arange(0, 1, 0.002)"
      ],
      "execution_count": 60,
      "outputs": []
    },
    {
      "cell_type": "code",
      "metadata": {
        "id": "by9TvFT_BLeb",
        "colab_type": "code",
        "colab": {}
      },
      "source": [
        "# evaluate each threshold\n",
        "scores = [f1_score(train['y'], to_labels(y_pred_train, t)) for t in threshold]"
      ],
      "execution_count": 61,
      "outputs": []
    },
    {
      "cell_type": "code",
      "metadata": {
        "id": "8k_qRa6t_uu9",
        "colab_type": "code",
        "colab": {}
      },
      "source": [
        "# do the same for the test\n",
        "scores_t = [f1_score(test['y'], to_labels(y_pred_test, t)) for t in threshold]"
      ],
      "execution_count": 62,
      "outputs": []
    },
    {
      "cell_type": "code",
      "metadata": {
        "id": "ISSoKbOw8A9R",
        "colab_type": "code",
        "colab": {
          "base_uri": "https://localhost:8080/",
          "height": 54
        },
        "outputId": "e24ce11b-dfac-4394-8117-b250dede0497"
      },
      "source": [
        "# get best threshold\n",
        "ix = argmax(scores)\n",
        "ix_t = argmax(scores_t)\n",
        "\n",
        "print('Training Threshold = %.3f, F-Score = %.5f' % (threshold[ix], scores[ix]))\n",
        "print('Test Threshold = %.3f, F-Score = %.5f' % (threshold[ix_t], scores_t[ix_t]))"
      ],
      "execution_count": 63,
      "outputs": [
        {
          "output_type": "stream",
          "text": [
            "Training Threshold = 0.570, F-Score = 0.16332\n",
            "Test Threshold = 0.356, F-Score = 0.06255\n"
          ],
          "name": "stdout"
        }
      ]
    },
    {
      "cell_type": "markdown",
      "metadata": {
        "id": "IOU8rvfiAHgs",
        "colab_type": "text"
      },
      "source": [
        "#### The tuning confirms the Precision/Recall-Threshold ```plot``` above."
      ]
    },
    {
      "cell_type": "markdown",
      "metadata": {
        "id": "uT5FEGa2nmN7",
        "colab_type": "text"
      },
      "source": [
        "## Predicting"
      ]
    },
    {
      "cell_type": "code",
      "metadata": {
        "id": "v9iHMJc6jLjH",
        "colab_type": "code",
        "colab": {
          "base_uri": "https://localhost:8080/",
          "height": 290
        },
        "outputId": "79499e6c-a027-4374-e764-5606375640e1"
      },
      "source": [
        "print('Predicting on the Training-set with a Threshold of = %.3f' % 0.570)\n",
        "train['pred'] = (model.predict(train[x_cols]) > 0.570).astype(int)\n",
        "print(' Accuracy:',accuracy_score(train['y'],train['pred']))\n",
        "#rmse = np.sqrt(mean_squared_error(y_test, preds))\n",
        "print(\"RMSE: %f\" % (mean_squared_error(train['y'],train['pred'])))\n",
        "print(' f1-score for the + class:',f1_score(train['y'],train['pred']))\n",
        "print(' Precision for the + class:',precision_score(train['y'],train['pred']))\n",
        "print(' Recall for the + class:',recall_score(train['y'],train['pred']))\n",
        "#y_pred_train = model.predict(train[x_cols])\n",
        "print(' AUC:',roc_auc_score(train['y'],train['pred']))\n",
        "print(' Ave. Precision:',average_precision_score(train['y'],train['pred']))\n",
        "train.head(3)"
      ],
      "execution_count": 64,
      "outputs": [
        {
          "output_type": "stream",
          "text": [
            "Predicting on the Training-set with a Threshold of = 0.570\n",
            " Accuracy: 0.9939678773575404\n",
            "RMSE: 0.006032\n",
            " f1-score for the + class: 0.1596562509134489\n",
            " Precision for the + class: 0.13667984585356088\n",
            " Recall for the + class: 0.19191848208011245\n",
            " AUC: 0.5941441218230261\n",
            " Ave. Precision: 0.028644111711987236\n"
          ],
          "name": "stdout"
        },
        {
          "output_type": "execute_result",
          "data": {
            "text/html": [
              "<div>\n",
              "<style scoped>\n",
              "    .dataframe tbody tr th:only-of-type {\n",
              "        vertical-align: middle;\n",
              "    }\n",
              "\n",
              "    .dataframe tbody tr th {\n",
              "        vertical-align: top;\n",
              "    }\n",
              "\n",
              "    .dataframe thead th {\n",
              "        text-align: right;\n",
              "    }\n",
              "</style>\n",
              "<table border=\"1\" class=\"dataframe\">\n",
              "  <thead>\n",
              "    <tr style=\"text-align: right;\">\n",
              "      <th></th>\n",
              "      <th>datetime x segment_id</th>\n",
              "      <th>datetime</th>\n",
              "      <th>segment_id</th>\n",
              "      <th>y</th>\n",
              "      <th>year</th>\n",
              "      <th>month</th>\n",
              "      <th>day</th>\n",
              "      <th>hour</th>\n",
              "      <th>longitude</th>\n",
              "      <th>latitude</th>\n",
              "      <th>WIDTH</th>\n",
              "      <th>LANES</th>\n",
              "      <th>pred</th>\n",
              "    </tr>\n",
              "  </thead>\n",
              "  <tbody>\n",
              "    <tr>\n",
              "      <th>0</th>\n",
              "      <td>2017-01-01 00:00:00 x S0B3CGQ</td>\n",
              "      <td>2017-01-01 00:00:00</td>\n",
              "      <td>S0B3CGQ</td>\n",
              "      <td>0</td>\n",
              "      <td>2017</td>\n",
              "      <td>1</td>\n",
              "      <td>6</td>\n",
              "      <td>0</td>\n",
              "      <td>18.541422</td>\n",
              "      <td>-33.888613</td>\n",
              "      <td>0.0</td>\n",
              "      <td>0</td>\n",
              "      <td>0</td>\n",
              "    </tr>\n",
              "    <tr>\n",
              "      <th>1</th>\n",
              "      <td>2017-01-01 01:00:00 x S0B3CGQ</td>\n",
              "      <td>2017-01-01 01:00:00</td>\n",
              "      <td>S0B3CGQ</td>\n",
              "      <td>0</td>\n",
              "      <td>2017</td>\n",
              "      <td>1</td>\n",
              "      <td>6</td>\n",
              "      <td>1</td>\n",
              "      <td>18.541422</td>\n",
              "      <td>-33.888613</td>\n",
              "      <td>0.0</td>\n",
              "      <td>0</td>\n",
              "      <td>0</td>\n",
              "    </tr>\n",
              "    <tr>\n",
              "      <th>2</th>\n",
              "      <td>2017-01-01 02:00:00 x S0B3CGQ</td>\n",
              "      <td>2017-01-01 02:00:00</td>\n",
              "      <td>S0B3CGQ</td>\n",
              "      <td>0</td>\n",
              "      <td>2017</td>\n",
              "      <td>1</td>\n",
              "      <td>6</td>\n",
              "      <td>2</td>\n",
              "      <td>18.541422</td>\n",
              "      <td>-33.888613</td>\n",
              "      <td>0.0</td>\n",
              "      <td>0</td>\n",
              "      <td>0</td>\n",
              "    </tr>\n",
              "  </tbody>\n",
              "</table>\n",
              "</div>"
            ],
            "text/plain": [
              "           datetime x segment_id            datetime  ... LANES  pred\n",
              "0  2017-01-01 00:00:00 x S0B3CGQ 2017-01-01 00:00:00  ...     0     0\n",
              "1  2017-01-01 01:00:00 x S0B3CGQ 2017-01-01 01:00:00  ...     0     0\n",
              "2  2017-01-01 02:00:00 x S0B3CGQ 2017-01-01 02:00:00  ...     0     0\n",
              "\n",
              "[3 rows x 13 columns]"
            ]
          },
          "metadata": {
            "tags": []
          },
          "execution_count": 64
        }
      ]
    },
    {
      "cell_type": "code",
      "metadata": {
        "id": "WxuAm7T0SSq9",
        "colab_type": "code",
        "colab": {
          "base_uri": "https://localhost:8080/",
          "height": 35
        },
        "outputId": "106aab09-41e6-4dc2-d68a-2db8ce7e1ddb"
      },
      "source": [
        "# Show predicted classes\n",
        "print(np.unique(train['pred'], return_counts=True))"
      ],
      "execution_count": 65,
      "outputs": [
        {
          "output_type": "stream",
          "text": [
            "(array([0, 1]), array([4746003,   19981]))\n"
          ],
          "name": "stdout"
        }
      ]
    },
    {
      "cell_type": "code",
      "metadata": {
        "id": "Vw-8o7MmU5EO",
        "colab_type": "code",
        "colab": {
          "base_uri": "https://localhost:8080/",
          "height": 366
        },
        "outputId": "7e324015-a96f-45d3-c1df-99896e224a29"
      },
      "source": [
        "cnf_matrix = confusion_matrix(train['y'], train['pred'])\n",
        "plot_confusion_matrix(cnf_matrix, classes=['0', '1'],\n",
        "                      title='Confusion matrix, without normalization')"
      ],
      "execution_count": 68,
      "outputs": [
        {
          "output_type": "stream",
          "text": [
            "Confusion matrix, without normalization\n",
            "[[4734504   17250]\n",
            " [  11499    2731]]\n"
          ],
          "name": "stdout"
        },
        {
          "output_type": "display_data",
          "data": {
            "image/png": "[encoded data removed]",
            "text/plain": [
              "<Figure size 432x288 with 2 Axes>"
            ]
          },
          "metadata": {
            "tags": [],
            "needs_background": "light"
          }
        }
      ]
    },
    {
      "cell_type": "code",
      "metadata": {
        "id": "4iywxaXtpHQX",
        "colab_type": "code",
        "colab": {
          "base_uri": "https://localhost:8080/",
          "height": 54
        },
        "outputId": "563c0c9a-7f71-4cf9-8a4c-06f93b24ae55"
      },
      "source": [
        "print(len(train))\n",
        "good = train.loc[train['pred'] == 1]\n",
        "print(len(good))"
      ],
      "execution_count": 69,
      "outputs": [
        {
          "output_type": "stream",
          "text": [
            "4765984\n",
            "19981\n"
          ],
          "name": "stdout"
        }
      ]
    },
    {
      "cell_type": "code",
      "metadata": {
        "id": "2IRCMh-bHR3B",
        "colab_type": "code",
        "colab": {
          "base_uri": "https://localhost:8080/",
          "height": 182
        },
        "outputId": "4035786f-45d0-461b-e41d-e38154311343"
      },
      "source": [
        "#have a look at the built-in report\n",
        "print(classification_report(train['y'], train['pred']))"
      ],
      "execution_count": 70,
      "outputs": [
        {
          "output_type": "stream",
          "text": [
            "              precision    recall  f1-score   support\n",
            "\n",
            "           0       1.00      1.00      1.00   4751754\n",
            "           1       0.14      0.19      0.16     14230\n",
            "\n",
            "    accuracy                           0.99   4765984\n",
            "   macro avg       0.57      0.59      0.58   4765984\n",
            "weighted avg       1.00      0.99      0.99   4765984\n",
            "\n"
          ],
          "name": "stdout"
        }
      ]
    },
    {
      "cell_type": "markdown",
      "metadata": {
        "id": "5gAs-KzWKOTA",
        "colab_type": "text"
      },
      "source": [
        "### Now the ```test```."
      ]
    },
    {
      "cell_type": "code",
      "metadata": {
        "id": "1hRQOoSFASY1",
        "colab_type": "code",
        "colab": {
          "base_uri": "https://localhost:8080/",
          "height": 290
        },
        "outputId": "066c66ee-557a-449e-df27-0395795e9a4d"
      },
      "source": [
        "print('Predicting on the Test-set with a Threshold of = %.3f' % 0.356)\n",
        "test['pred'] = (model.predict(test[x_cols]) > 0.356).astype(int)\n",
        "print (' Accuracy:',accuracy_score(test['y'],test['pred']))\n",
        "#rmse = np.sqrt(mean_squared_error(y_test, preds))\n",
        "print(\"RMSE: %f\" % (mean_squared_error(test['y'], test['pred'])))\n",
        "print (' f1-score for the + class:',f1_score(test['y'],test['pred']))\n",
        "print (' Precision for the + class:',precision_score(test['y'],test['pred']))\n",
        "print (' Recall for the + class:',recall_score(test['y'],test['pred']))\n",
        "#y_pred_test = model.predict(test[x_cols])\n",
        "print (' AUC:',roc_auc_score(test['y'],test['pred']))\n",
        "print (' Ave. Precision:',average_precision_score(test['y'],test['pred']))\n",
        "test.head(3)"
      ],
      "execution_count": 71,
      "outputs": [
        {
          "output_type": "stream",
          "text": [
            "Predicting on the Test-set with a Threshold of = 0.356\n",
            " Accuracy: 0.989376835071378\n",
            "RMSE: 0.010623\n",
            " f1-score for the + class: 0.05653591098122963\n",
            " Precision for the + class: 0.05481691368788143\n",
            " Recall for the + class: 0.05836621025760037\n",
            " AUC: 0.5264239943049925\n",
            " Ave. Precision: 0.008334491452067298\n"
          ],
          "name": "stdout"
        },
        {
          "output_type": "execute_result",
          "data": {
            "text/html": [
              "<div>\n",
              "<style scoped>\n",
              "    .dataframe tbody tr th:only-of-type {\n",
              "        vertical-align: middle;\n",
              "    }\n",
              "\n",
              "    .dataframe tbody tr th {\n",
              "        vertical-align: top;\n",
              "    }\n",
              "\n",
              "    .dataframe thead th {\n",
              "        text-align: right;\n",
              "    }\n",
              "</style>\n",
              "<table border=\"1\" class=\"dataframe\">\n",
              "  <thead>\n",
              "    <tr style=\"text-align: right;\">\n",
              "      <th></th>\n",
              "      <th>datetime x segment_id</th>\n",
              "      <th>datetime</th>\n",
              "      <th>segment_id</th>\n",
              "      <th>y</th>\n",
              "      <th>year</th>\n",
              "      <th>month</th>\n",
              "      <th>day</th>\n",
              "      <th>hour</th>\n",
              "      <th>longitude</th>\n",
              "      <th>latitude</th>\n",
              "      <th>WIDTH</th>\n",
              "      <th>LANES</th>\n",
              "      <th>pred</th>\n",
              "    </tr>\n",
              "  </thead>\n",
              "  <tbody>\n",
              "    <tr>\n",
              "      <th>0</th>\n",
              "      <td>2018-09-01 00:00:00 x S0B3CGQ</td>\n",
              "      <td>2018-09-01 00:00:00</td>\n",
              "      <td>S0B3CGQ</td>\n",
              "      <td>0</td>\n",
              "      <td>2018</td>\n",
              "      <td>9</td>\n",
              "      <td>5</td>\n",
              "      <td>0</td>\n",
              "      <td>18.541422</td>\n",
              "      <td>-33.888613</td>\n",
              "      <td>0.0</td>\n",
              "      <td>0</td>\n",
              "      <td>0</td>\n",
              "    </tr>\n",
              "    <tr>\n",
              "      <th>1</th>\n",
              "      <td>2018-09-01 01:00:00 x S0B3CGQ</td>\n",
              "      <td>2018-09-01 01:00:00</td>\n",
              "      <td>S0B3CGQ</td>\n",
              "      <td>0</td>\n",
              "      <td>2018</td>\n",
              "      <td>9</td>\n",
              "      <td>5</td>\n",
              "      <td>1</td>\n",
              "      <td>18.541422</td>\n",
              "      <td>-33.888613</td>\n",
              "      <td>0.0</td>\n",
              "      <td>0</td>\n",
              "      <td>0</td>\n",
              "    </tr>\n",
              "    <tr>\n",
              "      <th>2</th>\n",
              "      <td>2018-09-01 02:00:00 x S0B3CGQ</td>\n",
              "      <td>2018-09-01 02:00:00</td>\n",
              "      <td>S0B3CGQ</td>\n",
              "      <td>0</td>\n",
              "      <td>2018</td>\n",
              "      <td>9</td>\n",
              "      <td>5</td>\n",
              "      <td>2</td>\n",
              "      <td>18.541422</td>\n",
              "      <td>-33.888613</td>\n",
              "      <td>0.0</td>\n",
              "      <td>0</td>\n",
              "      <td>0</td>\n",
              "    </tr>\n",
              "  </tbody>\n",
              "</table>\n",
              "</div>"
            ],
            "text/plain": [
              "           datetime x segment_id            datetime  ... LANES  pred\n",
              "0  2018-09-01 00:00:00 x S0B3CGQ 2018-09-01 00:00:00  ...     0     0\n",
              "1  2018-09-01 01:00:00 x S0B3CGQ 2018-09-01 01:00:00  ...     0     0\n",
              "2  2018-09-01 02:00:00 x S0B3CGQ 2018-09-01 02:00:00  ...     0     0\n",
              "\n",
              "[3 rows x 13 columns]"
            ]
          },
          "metadata": {
            "tags": []
          },
          "execution_count": 71
        }
      ]
    },
    {
      "cell_type": "code",
      "metadata": {
        "id": "mgBuvoFORshW",
        "colab_type": "code",
        "colab": {
          "base_uri": "https://localhost:8080/",
          "height": 35
        },
        "outputId": "667d0cbf-4b8f-4fe4-8ff5-ebed376dd90b"
      },
      "source": [
        "# Show predicted classes\n",
        "print(np.unique(test['pred'], return_counts=True))"
      ],
      "execution_count": 72,
      "outputs": [
        {
          "output_type": "stream",
          "text": [
            "(array([0, 1]), array([1571144,    9176]))\n"
          ],
          "name": "stdout"
        }
      ]
    },
    {
      "cell_type": "code",
      "metadata": {
        "id": "rrRhGCm-VH3L",
        "colab_type": "code",
        "colab": {
          "base_uri": "https://localhost:8080/",
          "height": 366
        },
        "outputId": "7b9a334e-9c08-4005-da60-dbe7d2816f31"
      },
      "source": [
        "cnf_matrix = confusion_matrix(test['y'], test['pred'])\n",
        "plot_confusion_matrix(cnf_matrix, classes=['0', '1'],\n",
        "                      title='Confusion matrix, without normalization')"
      ],
      "execution_count": 73,
      "outputs": [
        {
          "output_type": "stream",
          "text": [
            "Confusion matrix, without normalization\n",
            "[[1563029    8673]\n",
            " [   8115     503]]\n"
          ],
          "name": "stdout"
        },
        {
          "output_type": "display_data",
          "data": {
            "image/png": "[encoded data removed]",
            "text/plain": [
              "<Figure size 432x288 with 2 Axes>"
            ]
          },
          "metadata": {
            "tags": [],
            "needs_background": "light"
          }
        }
      ]
    },
    {
      "cell_type": "code",
      "metadata": {
        "id": "hC3mR8tZGGfL",
        "colab_type": "code",
        "colab": {
          "base_uri": "https://localhost:8080/",
          "height": 182
        },
        "outputId": "6f2ce922-2e5b-4b9e-ec07-9e6c83a963e8"
      },
      "source": [
        "#have a look at the built-in report\n",
        "print(classification_report(test['y'], test['pred']))"
      ],
      "execution_count": 74,
      "outputs": [
        {
          "output_type": "stream",
          "text": [
            "              precision    recall  f1-score   support\n",
            "\n",
            "           0       0.99      0.99      0.99   1571702\n",
            "           1       0.05      0.06      0.06      8618\n",
            "\n",
            "    accuracy                           0.99   1580320\n",
            "   macro avg       0.52      0.53      0.53   1580320\n",
            "weighted avg       0.99      0.99      0.99   1580320\n",
            "\n"
          ],
          "name": "stdout"
        }
      ]
    },
    {
      "cell_type": "markdown",
      "metadata": {
        "id": "gzgfnnnBAr8t",
        "colab_type": "text"
      },
      "source": [
        "### Save only the events to visualize"
      ]
    },
    {
      "cell_type": "code",
      "metadata": {
        "id": "JWnVKQ21octg",
        "colab_type": "code",
        "colab": {
          "base_uri": "https://localhost:8080/",
          "height": 54
        },
        "outputId": "8daa3388-be7d-41df-bfc0-424cded38a25"
      },
      "source": [
        "print(len(test))\n",
        "good = test.loc[test['pred'] == 1]\n",
        "print(len(good))"
      ],
      "execution_count": 75,
      "outputs": [
        {
          "output_type": "stream",
          "text": [
            "1580320\n",
            "9176\n"
          ],
          "name": "stdout"
        }
      ]
    },
    {
      "cell_type": "code",
      "metadata": {
        "id": "dzwB3M7lpzJ7",
        "colab_type": "code",
        "colab": {
          "base_uri": "https://localhost:8080/",
          "height": 112
        },
        "outputId": "5e472a16-c38b-44d7-b621-35c9164eb4ed"
      },
      "source": [
        "good.head(2)"
      ],
      "execution_count": 76,
      "outputs": [
        {
          "output_type": "execute_result",
          "data": {
            "text/html": [
              "<div>\n",
              "<style scoped>\n",
              "    .dataframe tbody tr th:only-of-type {\n",
              "        vertical-align: middle;\n",
              "    }\n",
              "\n",
              "    .dataframe tbody tr th {\n",
              "        vertical-align: top;\n",
              "    }\n",
              "\n",
              "    .dataframe thead th {\n",
              "        text-align: right;\n",
              "    }\n",
              "</style>\n",
              "<table border=\"1\" class=\"dataframe\">\n",
              "  <thead>\n",
              "    <tr style=\"text-align: right;\">\n",
              "      <th></th>\n",
              "      <th>datetime x segment_id</th>\n",
              "      <th>datetime</th>\n",
              "      <th>segment_id</th>\n",
              "      <th>y</th>\n",
              "      <th>year</th>\n",
              "      <th>month</th>\n",
              "      <th>day</th>\n",
              "      <th>hour</th>\n",
              "      <th>longitude</th>\n",
              "      <th>latitude</th>\n",
              "      <th>WIDTH</th>\n",
              "      <th>LANES</th>\n",
              "      <th>pred</th>\n",
              "    </tr>\n",
              "  </thead>\n",
              "  <tbody>\n",
              "    <tr>\n",
              "      <th>1464</th>\n",
              "      <td>2018-11-01 00:00:00 x S0B3CGQ</td>\n",
              "      <td>2018-11-01</td>\n",
              "      <td>S0B3CGQ</td>\n",
              "      <td>0</td>\n",
              "      <td>2018</td>\n",
              "      <td>11</td>\n",
              "      <td>3</td>\n",
              "      <td>0</td>\n",
              "      <td>18.541422</td>\n",
              "      <td>-33.888613</td>\n",
              "      <td>0.0</td>\n",
              "      <td>0</td>\n",
              "      <td>1</td>\n",
              "    </tr>\n",
              "    <tr>\n",
              "      <th>1488</th>\n",
              "      <td>2018-11-02 00:00:00 x S0B3CGQ</td>\n",
              "      <td>2018-11-02</td>\n",
              "      <td>S0B3CGQ</td>\n",
              "      <td>0</td>\n",
              "      <td>2018</td>\n",
              "      <td>11</td>\n",
              "      <td>4</td>\n",
              "      <td>0</td>\n",
              "      <td>18.541422</td>\n",
              "      <td>-33.888613</td>\n",
              "      <td>0.0</td>\n",
              "      <td>0</td>\n",
              "      <td>1</td>\n",
              "    </tr>\n",
              "  </tbody>\n",
              "</table>\n",
              "</div>"
            ],
            "text/plain": [
              "              datetime x segment_id   datetime segment_id  ...  WIDTH  LANES  pred\n",
              "1464  2018-11-01 00:00:00 x S0B3CGQ 2018-11-01    S0B3CGQ  ...    0.0      0     1\n",
              "1488  2018-11-02 00:00:00 x S0B3CGQ 2018-11-02    S0B3CGQ  ...    0.0      0     1\n",
              "\n",
              "[2 rows x 13 columns]"
            ]
          },
          "metadata": {
            "tags": []
          },
          "execution_count": 76
        }
      ]
    },
    {
      "cell_type": "code",
      "metadata": {
        "id": "U8gQONu-A6o6",
        "colab_type": "code",
        "colab": {}
      },
      "source": [
        "#save it\n",
        "good[['segment_id', 'year', 'month', 'day', 'hour', 'latitude', 'longitude']].to_csv(path/'data/01_basicXGBoost.csv', \n",
        "                                                                                                 index=False)"
      ],
      "execution_count": 77,
      "outputs": []
    }
  ]
}