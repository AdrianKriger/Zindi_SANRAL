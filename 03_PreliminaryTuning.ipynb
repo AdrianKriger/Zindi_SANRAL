{
  "nbformat": 4,
  "nbformat_minor": 0,
  "metadata": {
    "colab": {
      "name": "03_Tuning.ipynb",
      "provenance": [],
      "collapsed_sections": []
    },
    "kernelspec": {
      "display_name": "Python 3",
      "language": "python",
      "name": "python3"
    },
    "language_info": {
      "codemirror_mode": {
        "name": "ipython",
        "version": 3
      },
      "file_extension": ".py",
      "mimetype": "text/x-python",
      "name": "python",
      "nbconvert_exporter": "python",
      "pygments_lexer": "ipython3",
      "version": "3.6.10"
    }
  },
  "cells": [
    {
      "cell_type": "markdown",
      "metadata": {
        "colab_type": "text",
        "id": "Nov4PD2bWvzW"
      },
      "source": [
        "# Tuning"
      ]
    },
    {
      "cell_type": "markdown",
      "metadata": {
        "id": "dOaOqUl37a57",
        "colab_type": "text"
      },
      "source": [
        "Okay. We wrangled some data; ran a simple prediction and then added some more data. Lets stop for a moment, before we add even more data; and do some preliminary work. \n",
        "\n",
        "> We'll firstly try to understand why [johnowhitaker](https://datasciencecastnet.home.blog/2019/10/19/zindi-uberct-part-1-getting-started/) recommends ```logloss``` as a metric. Then establish a baseline; so we know if we're improving; or not. And finally some basic parameter tuning.\n",
        "\n",
        "*   ```learning_rate```;\n",
        "*   ```n_estimators```;\n",
        "*   ```min_child_weight```;\n",
        "*   ```max_depth```;\n",
        "*   ```gamma```;\n",
        "*   ```colsample_bytree```;\n",
        "*   ```subsample```; and\n",
        "*   ```reg_alpha```.   \n",
        "\n",
        "> NOTE: I'm not a data scientist nor a machine learing expert and will not attempt any ```up/down/re-sampling``` or other techniques, such as ```SMOTE```, to balance this extremely imbalanced dataset. I'll use the built in parameters (```scale_pos_weight```  and ```max_delta_step```) with a ```threshold``` to; hopefully, get a meaningful result. My aim here is to understand how this works.\n",
        "\n",
        "*!!!! I had no idea ```parameter tuning``` was this time intensive. Running this ```notebook``` on a laptop will take more than a week !!!*"
      ]
    },
    {
      "cell_type": "code",
      "metadata": {
        "colab_type": "code",
        "id": "FfLklF9nWvcj",
        "colab": {}
      },
      "source": [
        "#because we're on google colab\n",
        "!pip install --upgrade pandas\n",
        "!pip install --upgrade geopandas\n",
        "#!pip install --upgrade seaborn"
      ],
      "execution_count": null,
      "outputs": []
    },
    {
      "cell_type": "code",
      "metadata": {
        "colab_type": "code",
        "id": "fYS5LT6EWeiO",
        "colab": {}
      },
      "source": [
        "# import the modules that make the magic possible\n",
        "import pandas as pd\n",
        "import geopandas as gpd\n",
        "import numpy as np\n",
        "from pathlib import Path\n",
        "\n",
        "import matplotlib.pyplot as plt\n",
        "\n",
        "import pickle\n",
        "from joblib import dump"
      ],
      "execution_count": 2,
      "outputs": []
    },
    {
      "cell_type": "code",
      "metadata": {
        "colab_type": "code",
        "id": "UT_LzC2EEqeo",
        "colab": {}
      },
      "source": [
        "import xgboost as xgb\n",
        "from xgboost import XGBClassifier, plot_importance\n",
        "from collections import Counter\n",
        "from sklearn.model_selection import cross_val_score, StratifiedKFold, GridSearchCV, train_test_split\n",
        "from sklearn import metrics \n",
        "from sklearn.metrics import f1_score, classification_report, auc, log_loss, accuracy_score, confusion_matrix, precision_score, mean_squared_error, recall_score,roc_auc_score, roc_curve, average_precision_score,precision_recall_curve, mean_absolute_error\n",
        "from numpy import where, mean, sqrt, argmax, arange"
      ],
      "execution_count": 3,
      "outputs": []
    },
    {
      "cell_type": "code",
      "metadata": {
        "colab_type": "code",
        "id": "ABt-CrXsWuVs",
        "colab": {}
      },
      "source": [
        "# mount google drive as a file system\n",
        "from google.colab import drive\n",
        "drive.mount('/content/gdrive', force_remount=True)"
      ],
      "execution_count": null,
      "outputs": []
    },
    {
      "cell_type": "code",
      "metadata": {
        "colab_type": "code",
        "id": "cYCuRi82X0YD",
        "colab": {}
      },
      "source": [
        "#set path\n",
        "path = Path('/content/gdrive/My Drive/Zindi_Accident')"
      ],
      "execution_count": 5,
      "outputs": []
    },
    {
      "cell_type": "code",
      "metadata": {
        "colab_type": "code",
        "id": "CD4zX0SubZRR",
        "colab": {}
      },
      "source": [
        "import sys\n",
        "sys.path.append('/content/gdrive/My Drive/Zindi_Accident')\n",
        "\n",
        "# load a custom confusion_matrix tool for plotting \n",
        "# courtesy - leportella (https://github.com/leportella/federal-road-accidents)\n",
        "from tools import plot_confusion_matrix"
      ],
      "execution_count": null,
      "outputs": []
    },
    {
      "cell_type": "markdown",
      "metadata": {
        "id": "1ubaEYC9WTDU",
        "colab_type": "text"
      },
      "source": [
        "#### Load the data"
      ]
    },
    {
      "cell_type": "code",
      "metadata": {
        "colab_type": "code",
        "id": "tx2JRqo9tGyA",
        "colab": {}
      },
      "source": [
        "#load the train and test from the previous notebook\n",
        "train = pd.read_csv(path/'data/train_with_weather.csv', parse_dates = ['datetime'])\n",
        "test = pd.read_csv(path/'data/test_with_weather.csv', parse_dates = ['datetime'])"
      ],
      "execution_count": 6,
      "outputs": []
    },
    {
      "cell_type": "code",
      "metadata": {
        "id": "IUPHkBdQW9es",
        "colab_type": "code",
        "colab": {}
      },
      "source": [
        "# define a list of column names to be used for training\n",
        "x_cols = ['month', 'day', 'hour', 'longitude', 'latitude', 'WIDTH', 'LANES', \n",
        "          'Air_temp', 'Atmos_press', 'Atmos_press_MeanSea', 'Humidity', 'MeanWindSpeed', 'Visibility', 'DewPoint', 'Rainfall']"
      ],
      "execution_count": 7,
      "outputs": []
    },
    {
      "cell_type": "code",
      "metadata": {
        "colab_type": "code",
        "id": "BzPbvl3is3u2",
        "colab": {}
      },
      "source": [
        "X, y = train[x_cols], train['y']"
      ],
      "execution_count": 8,
      "outputs": []
    },
    {
      "cell_type": "code",
      "metadata": {
        "colab_type": "code",
        "id": "9fe89VsIWACo",
        "colab": {}
      },
      "source": [
        "X_train, X_test, y_train, y_test = train_test_split(X, y, test_size=0.25, random_state=42)"
      ],
      "execution_count": 9,
      "outputs": []
    },
    {
      "cell_type": "markdown",
      "metadata": {
        "id": "d1Zas0haZolq",
        "colab_type": "text"
      },
      "source": [
        "#### Instead of ```numpy``` arrays or ```pandas``` dataFrame, ```XGBoost``` uses ```DMatrices```.\n",
        "\n"
      ]
    },
    {
      "cell_type": "code",
      "metadata": {
        "colab_type": "code",
        "id": "nq1SGFcYeFlV",
        "colab": {}
      },
      "source": [
        "dtrain = xgb.DMatrix(X_train, label=y_train)\n",
        "dtest = xgb.DMatrix(X_test, label=y_test)"
      ],
      "execution_count": 10,
      "outputs": []
    },
    {
      "cell_type": "markdown",
      "metadata": {
        "id": "p-Y6io42Z0er",
        "colab_type": "text"
      },
      "source": [
        "#### We've already seen how imbalanced the data is. Lets have another look."
      ]
    },
    {
      "cell_type": "code",
      "metadata": {
        "id": "3XY72D26u4rb",
        "colab_type": "code",
        "colab": {
          "base_uri": "https://localhost:8080/",
          "height": 54
        },
        "outputId": "0a2065f2-eb04-4649-c43d-a49a22c4c2e4"
      },
      "source": [
        "# summarize dataset\n",
        "classes = np.unique(y)\n",
        "total = len(y)\n",
        "for c in classes:\n",
        "\tn_examples = len(y[y==c])\n",
        "\tpercent = n_examples / total * 100\n",
        "\tprint('> Class=%d : %d/%d (%.1f%%)' % (c, n_examples, total, percent))"
      ],
      "execution_count": null,
      "outputs": [
        {
          "output_type": "stream",
          "text": [
            "> Class=0 : 4751754/4765984 (99.7%)\n",
            "> Class=1 : 14230/4765984 (0.3%)\n"
          ],
          "name": "stdout"
        }
      ]
    },
    {
      "cell_type": "markdown",
      "metadata": {
        "id": "XDf-Z5c2aEoR",
        "colab_type": "text"
      },
      "source": [
        "#### Now ```logloss```.  \n",
        "\n",
        "> From 01_SimpleXGB.ipynb; we've seen that ```accuracy``` does us no good. Its always going to be in the ```99%``` because of the class imbalance. ```auc``` also proved extremly optomistic when compared to an ```f1_score``` (the competition requirement).\n",
        "\n",
        "> We need another ```metric```. Following [johnowhitaker's](https://datasciencecastnet.home.blog/2019/10/19/zindi-uberct-part-1-getting-started/) lead; a crisp class label is not required; instead a probability of class membership is preferred. \"*The probability summarizes the likelihood (or uncertainty) of an example belonging to each class label... [and is]... specifically designed to quantify the skill of a classifier model using the predicted probabilities instead of crisp class labels.*\"\n",
        "\n",
        "> Probability metrics will summarize how well the predicted distribution of class membership matches the known class probability distribution. \n",
        "\n",
        "> This is what we need. Thanks to [machinelearningmastery](https://machinelearningmastery.com/probability-metrics-for-imbalanced-classification/)\n",
        " "
      ]
    },
    {
      "cell_type": "markdown",
      "metadata": {
        "id": "UqLnK-jghGl8",
        "colab_type": "text"
      },
      "source": [
        "#### We can predict certain probabilities for class 0..."
      ]
    },
    {
      "cell_type": "code",
      "metadata": {
        "colab_type": "code",
        "id": "OJb1vly1_WnS",
        "colab": {
          "base_uri": "https://localhost:8080/",
          "height": 36
        },
        "outputId": "99adf3c5-6ff5-4cab-c16b-862a565d40b5"
      },
      "source": [
        "# no skill prediction 0\n",
        "probabilities = [[1, 0] for _ in range(len(y_test))]\n",
        "avg_logloss = log_loss(y_test, probabilities)\n",
        "print('P(class0=1): Log Loss=%.3f' % (avg_logloss))"
      ],
      "execution_count": null,
      "outputs": [
        {
          "output_type": "stream",
          "text": [
            "P(class0=1): Log Loss=0.103\n"
          ],
          "name": "stdout"
        }
      ]
    },
    {
      "cell_type": "markdown",
      "metadata": {
        "id": "FCszZ-L6hPdG",
        "colab_type": "text"
      },
      "source": [
        "#### ...or class 1.\n"
      ]
    },
    {
      "cell_type": "code",
      "metadata": {
        "id": "PhoWuiq7bu47",
        "colab_type": "code",
        "colab": {
          "base_uri": "https://localhost:8080/",
          "height": 36
        },
        "outputId": "aad489fd-5212-478e-d8c6-0989cd23a738"
      },
      "source": [
        "# no skill prediction 1\n",
        "probabilities = [[0, 1] for _ in range(len(y_test))]\n",
        "avg_logloss = log_loss(y_test, probabilities)\n",
        "print('P(class1=1): Log Loss=%.3f' % (avg_logloss))"
      ],
      "execution_count": null,
      "outputs": [
        {
          "output_type": "stream",
          "text": [
            "P(class1=1): Log Loss=34.436\n"
          ],
          "name": "stdout"
        }
      ]
    },
    {
      "cell_type": "markdown",
      "metadata": {
        "id": "XNADzrSlhcof",
        "colab_type": "text"
      },
      "source": [
        "#### A better strategy would be to predict the class distribution."
      ]
    },
    {
      "cell_type": "code",
      "metadata": {
        "id": "QeRisMkXbTgV",
        "colab_type": "code",
        "colab": {
          "base_uri": "https://localhost:8080/",
          "height": 36
        },
        "outputId": "1fa5c47e-a58b-48ae-e052-0e75487ec193"
      },
      "source": [
        "# baseline probabilities\n",
        "probabilities = [[0.997, 0.003] for _ in range(len(y_test))]\n",
        "avg_logloss = log_loss(y_test, probabilities)\n",
        "print('Baseline: Log Loss=%.3f' % (avg_logloss))"
      ],
      "execution_count": null,
      "outputs": [
        {
          "output_type": "stream",
          "text": [
            "Baseline: Log Loss=0.020\n"
          ],
          "name": "stdout"
        }
      ]
    },
    {
      "cell_type": "markdown",
      "metadata": {
        "id": "w4exv7THiJSj",
        "colab_type": "text"
      },
      "source": [
        "#### How do we know this is reliable?"
      ]
    },
    {
      "cell_type": "code",
      "metadata": {
        "id": "uiNZO0FnkiU4",
        "colab_type": "code",
        "colab": {
          "base_uri": "https://localhost:8080/",
          "height": 36
        },
        "outputId": "4cc55737-c038-4336-92b2-c88614036312"
      },
      "source": [
        "# perfect probabilities\n",
        "avg_logloss = log_loss(y_test, y_test)\n",
        "print('Perfect: Log Loss=%.3f' % (avg_logloss))"
      ],
      "execution_count": null,
      "outputs": [
        {
          "output_type": "stream",
          "text": [
            "Perfect: Log Loss=0.000\n"
          ],
          "name": "stdout"
        }
      ]
    },
    {
      "cell_type": "markdown",
      "metadata": {
        "colab_type": "text",
        "id": "dc0-Kv95RtWJ"
      },
      "source": [
        "#### We have a baseline; now some basic ```parameter``` tuning. \n",
        "\n",
        "> First we do a rough search for the optimal ```n_estimators``` (number of trees) given a range of ```learning_rate```. We'll refine it later but its a good starting point.\n",
        "\n",
        "> #### Note: I've left the ```scale_pos_weight = 18.291```; as discussed in 01_SimpleXGBoost.ipynb. I've also changed the ```max_delta_step``` to a positive value (=1) as it can help with extremely imbalanced data; based on: [here](http://ethen8181.github.io/machine-learning/trees/xgboost.html#XGBoost-Basics) and [here](https://stats.stackexchange.com/questions/387632/running-xgboost-with-highly-imbalanced-data-returns-near-0-true-positive-rate).\n",
        "\n",
        "\n",
        "\n"
      ]
    },
    {
      "cell_type": "code",
      "metadata": {
        "id": "Qk5WdSJOXCv6",
        "colab_type": "code",
        "colab": {}
      },
      "source": [
        "# define a model\n",
        "\n",
        "xgb_rough = XGBClassifier(\n",
        "    max_depth=5,\n",
        "    min_child_weight=1,\n",
        "    gamma=0,\n",
        "    subsample=0.8,\n",
        "    colsample_bytree=0.8,\n",
        "    max_delta_step=1,\n",
        "    objective= 'binary:logistic',\n",
        "    scale_pos_weight=18.291,\n",
        "    seed=27)"
      ],
      "execution_count": null,
      "outputs": []
    },
    {
      "cell_type": "code",
      "metadata": {
        "id": "CRTnox2yb4AF",
        "colab_type": "code",
        "colab": {}
      },
      "source": [
        "# kfold gridsearchcv\n",
        "\n",
        "# which n_estimators do you want to search?\n",
        "n_estimators = [100, 200, 300, 400, 500]\n",
        "# which learning_rate do you want to search?\n",
        "learning_rate = [0.1, 0.2, 0.3]\n",
        "\n",
        "param_grid = dict(learning_rate=learning_rate, n_estimators=n_estimators)\n",
        "\n",
        "kfold = StratifiedKFold(n_splits=2, shuffle=True)\n",
        "\n",
        "grid_search = GridSearchCV(xgb_rough, param_grid, scoring=\"neg_log_loss\", n_jobs=1, cv=kfold, verbose=2)"
      ],
      "execution_count": null,
      "outputs": []
    },
    {
      "cell_type": "code",
      "metadata": {
        "id": "uMJUvLDdd6pF",
        "colab_type": "code",
        "colab": {}
      },
      "source": [
        "#define evaluation metrics\n",
        "eval_set = [(X_train, y_train), (X_test, y_test)]\n",
        "eval_metric = [\"logloss\", 'error']"
      ],
      "execution_count": null,
      "outputs": []
    },
    {
      "cell_type": "code",
      "metadata": {
        "id": "ay5JQDXTdzol",
        "colab_type": "code",
        "colab": {}
      },
      "source": [
        "%%time\n",
        "grid_result = grid_search.fit(X_train, y_train, eval_metric=eval_metric, eval_set=eval_set, verbose=True)"
      ],
      "execution_count": null,
      "outputs": []
    },
    {
      "cell_type": "code",
      "metadata": {
        "id": "go5XtlyViUYX",
        "colab_type": "code",
        "colab": {}
      },
      "source": [
        "# save model to file\n",
        "pickle.dump(xgb_rough, open(path/'xgb_rough.pickle.dat', 'wb'))"
      ],
      "execution_count": null,
      "outputs": []
    },
    {
      "cell_type": "code",
      "metadata": {
        "id": "kyNbOwPncFbT",
        "colab_type": "code",
        "colab": {
          "base_uri": "https://localhost:8080/",
          "height": 315
        },
        "outputId": "bbd70275-66b0-4cd3-8b3f-845162c6f99f"
      },
      "source": [
        "# summarize results\n",
        "print(\"Best: %f using %s\" % (grid_result.best_score_, grid_result.best_params_))\n",
        "means = grid_result.cv_results_['mean_test_score']\n",
        "stds = grid_result.cv_results_['std_test_score']\n",
        "params = grid_result.cv_results_['params']\n",
        "for mean, stdev, param in zip(means, stds, params):\n",
        "\tprint(\"%f (%f) with: %r\" % (mean, stdev, param))"
      ],
      "execution_count": null,
      "outputs": [
        {
          "output_type": "stream",
          "text": [
            "Best: -0.041012 using {'learning_rate': 0.3, 'n_estimators': 500}\n",
            "-0.052577 (0.000264) with: {'learning_rate': 0.1, 'n_estimators': 100}\n",
            "-0.050332 (0.000365) with: {'learning_rate': 0.1, 'n_estimators': 200}\n",
            "-0.049081 (0.000282) with: {'learning_rate': 0.1, 'n_estimators': 300}\n",
            "-0.048086 (0.000226) with: {'learning_rate': 0.1, 'n_estimators': 400}\n",
            "-0.047011 (0.000253) with: {'learning_rate': 0.1, 'n_estimators': 500}\n",
            "-0.050541 (0.000250) with: {'learning_rate': 0.2, 'n_estimators': 100}\n",
            "-0.048202 (0.000200) with: {'learning_rate': 0.2, 'n_estimators': 200}\n",
            "-0.046489 (0.000282) with: {'learning_rate': 0.2, 'n_estimators': 300}\n",
            "-0.045070 (0.000216) with: {'learning_rate': 0.2, 'n_estimators': 400}\n",
            "-0.043468 (0.000172) with: {'learning_rate': 0.2, 'n_estimators': 500}\n",
            "-0.049265 (0.000138) with: {'learning_rate': 0.3, 'n_estimators': 100}\n",
            "-0.046679 (0.000169) with: {'learning_rate': 0.3, 'n_estimators': 200}\n",
            "-0.044662 (0.000250) with: {'learning_rate': 0.3, 'n_estimators': 300}\n",
            "-0.042858 (0.000222) with: {'learning_rate': 0.3, 'n_estimators': 400}\n",
            "-0.041012 (0.000171) with: {'learning_rate': 0.3, 'n_estimators': 500}\n"
          ],
          "name": "stdout"
        }
      ]
    },
    {
      "cell_type": "code",
      "metadata": {
        "id": "2PODyyVhcN-L",
        "colab_type": "code",
        "colab": {
          "base_uri": "https://localhost:8080/",
          "height": 498
        },
        "outputId": "7b468316-0f60-49a6-a626-1d1cc8da1d93"
      },
      "source": [
        "# plot results\n",
        "fig, ax = plt.subplots(figsize=(8,8))\n",
        "scores = np.array(means).reshape(len(learning_rate), len(n_estimators))\n",
        "for i, value in enumerate(learning_rate):\n",
        "    plt.plot(n_estimators, scores[i], label='learning_rate: ' + str(value))\n",
        "plt.legend()\n",
        "plt.xlabel('n_estimators')\n",
        "plt.ylabel('Log Loss')\n",
        "plt.show()"
      ],
      "execution_count": null,
      "outputs": [
        {
          "output_type": "display_data",
          "data": {
            "image/png": "[encoded data removed]",
            "text/plain": [
              "<Figure size 576x576 with 1 Axes>"
            ]
          },
          "metadata": {
            "tags": [],
            "needs_background": "light"
          }
        }
      ]
    },
    {
      "cell_type": "markdown",
      "metadata": {
        "id": "fLhPDfxoeAQK",
        "colab_type": "text"
      },
      "source": [
        "#### Due to memory limitations I'm choosing a ```learning_rate``` of ```0.3```. A lower ```learning_rate``` (```0.1```/```0.2```) will require to many trees, more RAM and more time. \n",
        "\n",
        "> Lets find the proper ```n_estimators```. We ```xgb.cv``` with 10 ```early_stopping_rounds```\n",
        "\n",
        "\n",
        "\n",
        "\n",
        "\n"
      ]
    },
    {
      "cell_type": "code",
      "metadata": {
        "id": "9mw69Z0jdF3W",
        "colab_type": "code",
        "colab": {}
      },
      "source": [
        "xgb_smooth = XGBClassifier(\n",
        "    learning_rate=0.3,\n",
        "    n_estimators=1000,\n",
        "    max_depth=5,\n",
        "    min_child_weight=1,\n",
        "    gamma=0,\n",
        "    subsample=0.8,\n",
        "    colsample_bytree=0.8,\n",
        "    max_delta_step=1,\n",
        "    objective= 'binary:logistic',\n",
        "    scale_pos_weight=18.291,\n",
        "    seed=27)\n",
        "\n",
        "#collect parameters\n",
        "xgb_param = xgb_smooth.get_xgb_params()"
      ],
      "execution_count": null,
      "outputs": []
    },
    {
      "cell_type": "code",
      "metadata": {
        "id": "CG3gWv4OW3ok",
        "colab_type": "code",
        "colab": {}
      },
      "source": [
        "%%time\n",
        "cvresult = xgb.cv(xgb_param, dtrain, num_boost_round=xgb_smooth.get_params()['n_estimators'], \n",
        "                  nfold=3,\n",
        "                  metrics='logloss', early_stopping_rounds=10, verbose_eval=True)"
      ],
      "execution_count": null,
      "outputs": []
    },
    {
      "cell_type": "code",
      "metadata": {
        "id": "23dmhVrJXIA8",
        "colab_type": "code",
        "colab": {
          "base_uri": "https://localhost:8080/",
          "height": 36
        },
        "outputId": "e0f6dbde-39bd-4a0b-ee25-75d1f359322c"
      },
      "source": [
        "print('Best n_estimators =', cvresult.shape[0])"
      ],
      "execution_count": null,
      "outputs": [
        {
          "output_type": "stream",
          "text": [
            "Best n_estimators = 339\n"
          ],
          "name": "stdout"
        }
      ]
    },
    {
      "cell_type": "code",
      "metadata": {
        "id": "e0KLpN-ixXfW",
        "colab_type": "code",
        "colab": {
          "base_uri": "https://localhost:8080/",
          "height": 147
        },
        "outputId": "9146521b-86eb-40ee-d17a-b7aaf439d0fe"
      },
      "source": [
        "# add the  optimal n_estimators to the parameters\n",
        "xgb_smooth.set_params(n_estimators=cvresult.shape[0])"
      ],
      "execution_count": null,
      "outputs": [
        {
          "output_type": "execute_result",
          "data": {
            "text/plain": [
              "XGBClassifier(base_score=0.5, booster='gbtree', colsample_bylevel=1,\n",
              "              colsample_bynode=1, colsample_bytree=0.8, gamma=0,\n",
              "              learning_rate=0.3, max_delta_step=1, max_depth=5,\n",
              "              min_child_weight=1, missing=None, n_estimators=339, n_jobs=1,\n",
              "              nthread=4, objective='binary:logistic', random_state=0,\n",
              "              reg_alpha=0, reg_lambda=1, scale_pos_weight=18.291, seed=27,\n",
              "              silent=None, subsample=0.8, verbosity=1)"
            ]
          },
          "metadata": {
            "tags": []
          },
          "execution_count": 15
        }
      ]
    },
    {
      "cell_type": "code",
      "metadata": {
        "id": "yKQEKRhXxgl9",
        "colab_type": "code",
        "colab": {}
      },
      "source": [
        "#Fit the algorithm on the data\n",
        "%time xgb_smooth.fit(X_train, y_train, eval_metric=eval_metric, eval_set=eval_set, verbose=True)"
      ],
      "execution_count": null,
      "outputs": []
    },
    {
      "cell_type": "code",
      "metadata": {
        "id": "c3SKyKlUe2s6",
        "colab_type": "code",
        "colab": {}
      },
      "source": [
        "# save model to file\n",
        "pickle.dump(xgb_smooth, open(path/'xgb_smooth.dat', 'wb'))\n",
        " \n",
        "# some time later...\n",
        " \n",
        "# load model from file\n",
        "#loaded_model = pickle.load(open(path/'sanral_with_weather.pickle.dat\", \"rb\"))"
      ],
      "execution_count": null,
      "outputs": []
    },
    {
      "cell_type": "code",
      "metadata": {
        "id": "rom_akWBn3go",
        "colab_type": "code",
        "colab": {
          "base_uri": "https://localhost:8080/",
          "height": 295
        },
        "outputId": "d178fa97-ca36-4569-9670-b2d01fc13de0"
      },
      "source": [
        "plot_importance(xgb_smooth, max_num_features = 14)\n",
        "plt.show()"
      ],
      "execution_count": null,
      "outputs": [
        {
          "output_type": "display_data",
          "data": {
            "image/png": "[encoded data removed]",
            "text/plain": [
              "<Figure size 432x288 with 1 Axes>"
            ]
          },
          "metadata": {
            "tags": [],
            "needs_background": "light"
          }
        }
      ]
    },
    {
      "cell_type": "code",
      "metadata": {
        "id": "q0vTlDF16k6z",
        "colab_type": "code",
        "colab": {}
      },
      "source": [
        "#Predict training set:\n",
        "dtrain_predictions = xgb_smooth.predict(X_train)\n",
        "train_pred = [round(value) for value in dtrain_predictions]\n",
        "dtrain_predprob = xgb_smooth.predict_proba(X_train)[:,1]\n",
        "\n",
        "#Predict training set:\n",
        "dtest_predictions = xgb_smooth.predict(X_test)\n",
        "test_pred = [round(value) for value in dtest_predictions]\n",
        "dtest_predprob = xgb_smooth.predict_proba(X_test)[:,1]"
      ],
      "execution_count": null,
      "outputs": []
    },
    {
      "cell_type": "code",
      "metadata": {
        "colab_type": "code",
        "id": "HTnGUHn1XS53",
        "colab": {
          "base_uri": "https://localhost:8080/",
          "height": 222
        },
        "outputId": "2619de10-56bd-495f-ff81-a68a9e0e0219"
      },
      "source": [
        "#Print model report:\n",
        "print(\"\\nModel Report\")\n",
        "print(\"Training Accuracy : %.4g\" % accuracy_score(y_train.values, train_pred))\n",
        "#print(\"Training Accuracy : %.4g\" % accuracy_score(y_train.values, dtrain_predictions))\n",
        "print(\"AUC Score (Train): %f\" % roc_auc_score(y_train, dtrain_predprob))\n",
        "print(\"logloss (Train): %f\" % log_loss(y_train, dtrain_predprob))\n",
        "print(\"Preliminary f1-score (Train): %f\" %f1_score(y_train, dtrain_predictions))\n",
        "print('')\n",
        "print(\"Test Accuracy : %.4g\" % accuracy_score(y_test.values, test_pred))\n",
        "#print(\"Test Accuracy : %.4g\" % accuracy_score(y_test.values, dtest_predictions))\n",
        "print(\"AUC Score (Test): %f\" % roc_auc_score(y_test, dtest_predprob))\n",
        "print(\"logloss (Test): %f\" % log_loss(y_test, dtest_predprob))\n",
        "print(\"Preliminary f1-score (Test): %f\" %f1_score(y_test, dtest_predictions))"
      ],
      "execution_count": null,
      "outputs": [
        {
          "output_type": "stream",
          "text": [
            "\n",
            "Model Report\n",
            "Training Accuracy : 0.9938\n",
            "AUC Score (Train): 0.950906\n",
            "logloss (Train): 0.044265\n",
            "Preliminary f1-score (Train): 0.202707\n",
            "\n",
            "Test Accuracy : 0.9936\n",
            "AUC Score (Test): 0.893693\n",
            "logloss (Test): 0.046068\n",
            "Preliminary f1-score (Test): 0.147202\n"
          ],
          "name": "stdout"
        }
      ]
    },
    {
      "cell_type": "markdown",
      "metadata": {
        "id": "JvQlpxTfmZu6",
        "colab_type": "text"
      },
      "source": [
        "#### ```logarithmic loss``` of the XGBoost model for each epoch on the training and test datasets.\n",
        "\n"
      ]
    },
    {
      "cell_type": "code",
      "metadata": {
        "id": "So4L4rCOa2V1",
        "colab_type": "code",
        "colab": {
          "base_uri": "https://localhost:8080/",
          "height": 444
        },
        "outputId": "f7a806fd-1abc-4fa1-cdcf-b1a6967d0d77"
      },
      "source": [
        "# retrieve performance metrics\n",
        "results = xgb_smooth.evals_result()\n",
        "epochs = len(results['validation_0']['error'])\n",
        "x_axis = range(0, epochs)\n",
        "\n",
        "# plot log loss\n",
        "fig, ax = plt.subplots(figsize=(7,7))\n",
        "ax.plot(x_axis, results['validation_0']['logloss'], linestyle = '-', label='Train')\n",
        "ax.plot(x_axis, results['validation_1']['logloss'], linestyle = '--', label='Test')\n",
        "ax.legend()\n",
        "plt.ylabel('Log Loss')\n",
        "plt.title('XGBoost Log Loss')\n",
        "plt.show()"
      ],
      "execution_count": null,
      "outputs": [
        {
          "output_type": "display_data",
          "data": {
            "image/png": "[encoded data removed]",
            "text/plain": [
              "<Figure size 504x504 with 1 Axes>"
            ]
          },
          "metadata": {
            "tags": [],
            "needs_background": "light"
          }
        }
      ]
    },
    {
      "cell_type": "markdown",
      "metadata": {
        "id": "nW0b_jZGjLC0",
        "colab_type": "text"
      },
      "source": [
        "#### Good. Lets move along to ```max_depth``` (*represents the depth of each tree, and is the maximum number of different features used in each tree - it will help simplify your model and avoid overfitting*) and ```min_child_weight```.\n",
        "\n",
        "> Again we firstly do a rough search along a ```range``` of values; then iteratively refine.\n",
        "\n"
      ]
    },
    {
      "cell_type": "code",
      "metadata": {
        "id": "mCFqAfATjImK",
        "colab_type": "code",
        "colab": {}
      },
      "source": [
        "param_test1 = {\n",
        "    'max_depth':range(3,11,3),\n",
        "    'min_child_weight':range(1,9,3)\n",
        "    }\n",
        "\n",
        "gsearch1 = GridSearchCV(estimator = XGBClassifier(learning_rate =0.3, n_estimators=339, max_depth=5, max_delta_step=1,\n",
        "                                                  min_child_weight=1, gamma=0, subsample=0.8, colsample_bytree=0.8,\n",
        "                                                  objective= 'binary:logistic', scale_pos_weight=18.291, seed=27),\n",
        "                        param_grid = param_test1, scoring='neg_log_loss',n_jobs=1, cv=2, verbose=2)"
      ],
      "execution_count": null,
      "outputs": []
    },
    {
      "cell_type": "code",
      "metadata": {
        "id": "yRezZ03Kj-PJ",
        "colab_type": "code",
        "colab": {}
      },
      "source": [
        "%%time\n",
        "gsearch1.fit(X_train, y_train, eval_metric=eval_metric, eval_set=eval_set, verbose=True)"
      ],
      "execution_count": null,
      "outputs": []
    },
    {
      "cell_type": "code",
      "metadata": {
        "id": "MtRs49zklTKe",
        "colab_type": "code",
        "colab": {}
      },
      "source": [
        "# save model to file\n",
        "#pickle.dump(gsearch1, open(path/'gsearch1.pickle.dat', 'wb'))\n",
        "\n",
        "# load model from file\n",
        "gsearch1 = pickle.load(open(path/'gsearch1.pickle.dat', \"rb\"))"
      ],
      "execution_count": null,
      "outputs": []
    },
    {
      "cell_type": "code",
      "metadata": {
        "id": "8fR_KNFawHn2",
        "colab_type": "code",
        "colab": {
          "base_uri": "https://localhost:8080/",
          "height": 203
        },
        "outputId": "3e4e4379-193e-42e7-b1b9-d256b2c6de3a"
      },
      "source": [
        "# summarize results\n",
        "print(\"Best: %f using %s\" % (gsearch1.best_score_, gsearch1.best_params_))\n",
        "means = gsearch1.cv_results_['mean_test_score']\n",
        "stds = gsearch1.cv_results_['std_test_score']\n",
        "params = gsearch1.cv_results_['params']\n",
        "for mean, stdev, param in zip(means, stds, params):\n",
        "\tprint(\"%f (%f) with: %r\" % (mean, stdev, param))"
      ],
      "execution_count": null,
      "outputs": [
        {
          "output_type": "stream",
          "text": [
            "Best: -0.023701 using {'max_depth': 9, 'min_child_weight': 1}\n",
            "-0.049956 (0.000155) with: {'max_depth': 3, 'min_child_weight': 1}\n",
            "-0.050117 (0.000236) with: {'max_depth': 3, 'min_child_weight': 4}\n",
            "-0.050027 (0.000244) with: {'max_depth': 3, 'min_child_weight': 7}\n",
            "-0.039102 (0.000395) with: {'max_depth': 6, 'min_child_weight': 1}\n",
            "-0.039416 (0.000133) with: {'max_depth': 6, 'min_child_weight': 4}\n",
            "-0.039644 (0.000455) with: {'max_depth': 6, 'min_child_weight': 7}\n",
            "-0.023701 (0.000171) with: {'max_depth': 9, 'min_child_weight': 1}\n",
            "-0.024502 (0.000194) with: {'max_depth': 9, 'min_child_weight': 4}\n",
            "-0.025348 (0.000244) with: {'max_depth': 9, 'min_child_weight': 7}\n"
          ],
          "name": "stdout"
        }
      ]
    },
    {
      "cell_type": "markdown",
      "metadata": {
        "id": "nrb2CQYYyHCC",
        "colab_type": "text"
      },
      "source": [
        "#### A graph is always useful"
      ]
    },
    {
      "cell_type": "code",
      "metadata": {
        "id": "WTrlK_YJs4D2",
        "colab_type": "code",
        "colab": {}
      },
      "source": [
        "def plot_grid_search(cv_results, grid_param_1, grid_param_2, name_param_1, name_param_2):\n",
        "  '''\n",
        "  Define a function to plot search parameters vs cv_results\n",
        "  '''\n",
        "  # Get Test Scores Mean and std for each grid search\n",
        "  scores_mean = cv_results['mean_test_score']\n",
        "  scores_mean = np.array(scores_mean).reshape(len(grid_param_2),len(grid_param_1))\n",
        "\n",
        "  scores_sd = cv_results['std_test_score']\n",
        "  scores_sd = np.array(scores_sd).reshape(len(grid_param_2),len(grid_param_1))\n",
        "\n",
        "  # Plot Grid search scores\n",
        "  _, ax = plt.subplots(1,1)\n",
        "\n",
        "  # Param1 is the X-axis, Param 2 is represented as a different curve (color line)\n",
        "  for idx, val in enumerate(grid_param_2):\n",
        "    ax.plot(grid_param_1, scores_mean[idx,:], '-o', label= name_param_2 + ': ' + str(val))\n",
        "\n",
        "  ax.set_title(\"Grid Search Scores\", fontsize=20, fontweight='bold')\n",
        "  ax.set_xlabel(name_param_1, fontsize=16)\n",
        "  ax.set_ylabel('CV Average Score', fontsize=16)\n",
        "  ax.legend(fontsize=15, bbox_to_anchor=(1.04,0.5), loc=\"center left\")\n",
        "  ax.grid('on')"
      ],
      "execution_count": null,
      "outputs": []
    },
    {
      "cell_type": "code",
      "metadata": {
        "id": "as1gXMTus8A7",
        "colab_type": "code",
        "colab": {
          "base_uri": "https://localhost:8080/",
          "height": 307
        },
        "outputId": "008413ad-f5e6-4656-87fc-83757118152b"
      },
      "source": [
        "# Calling Method \n",
        "plot_grid_search(gsearch1.cv_results_, param_test1['max_depth'],\n",
        "                 param_test1['min_child_weight'], 'max_depth', 'min_child_weight')"
      ],
      "execution_count": null,
      "outputs": [
        {
          "output_type": "display_data",
          "data": {
            "image/png": "[encoded data removed]",
            "text/plain": [
              "<Figure size 432x288 with 1 Axes>"
            ]
          },
          "metadata": {
            "tags": [],
            "needs_background": "light"
          }
        }
      ]
    },
    {
      "cell_type": "markdown",
      "metadata": {
        "id": "ilHpcxf6qzY3",
        "colab_type": "text"
      },
      "source": [
        "#### We ```fit 2 folds for each of 9 candidates, totalling 18``` combinations with an interval of ```3```. The ideal values are ```9``` for ```max_depth``` and ```1``` for ```min_child_weight```. Now we search with a different range. The idea here is to iterately narrow the search space.\n",
        "\n",
        "> A ```GridSearch```, through the entire parameter range ```[1, 10]```, with a ```step``` of ```1``` takes to long (*+12-hours*). I prefer this method.\n",
        "\n"
      ]
    },
    {
      "cell_type": "code",
      "metadata": {
        "id": "HfACL6U1h8so",
        "colab_type": "code",
        "colab": {}
      },
      "source": [
        "param_test2 = {\n",
        "    'max_depth':range(2,11,3),\n",
        "    'min_child_weight':range(2,11,3)\n",
        "    }\n",
        "\n",
        "gsearch2 = GridSearchCV(estimator = XGBClassifier(learning_rate =0.3, n_estimators=339, max_depth=5, max_delta_step=1,\n",
        "                                                  min_child_weight=1, gamma=0, subsample=0.8, colsample_bytree=0.8,\n",
        "                                                  objective= 'binary:logistic', scale_pos_weight=18.291, seed=27),\n",
        "                        param_grid = param_test2, scoring='neg_log_loss',n_jobs=1, cv=2, verbose=2)"
      ],
      "execution_count": null,
      "outputs": []
    },
    {
      "cell_type": "code",
      "metadata": {
        "id": "_glMf_dyiHf5",
        "colab_type": "code",
        "colab": {}
      },
      "source": [
        "%%time\n",
        "gsearch2.fit(X_train, y_train, eval_metric=eval_metric, eval_set=eval_set, verbose=True)"
      ],
      "execution_count": null,
      "outputs": []
    },
    {
      "cell_type": "code",
      "metadata": {
        "id": "yK50VPX10_dA",
        "colab_type": "code",
        "colab": {}
      },
      "source": [
        "# save model to file\n",
        "pickle.dump(gsearch2, open(path/'gsearch2.pickle.dat', 'wb'))"
      ],
      "execution_count": null,
      "outputs": []
    },
    {
      "cell_type": "code",
      "metadata": {
        "id": "cpbD5-evv23X",
        "colab_type": "code",
        "colab": {
          "base_uri": "https://localhost:8080/",
          "height": 203
        },
        "outputId": "3b99f19c-2b46-4a2d-fd41-1f433183415c"
      },
      "source": [
        "# summarize results\n",
        "print(\"Best: %f using %s\" % (gsearch2.best_score_, gsearch2.best_params_))\n",
        "means = gsearch2.cv_results_['mean_test_score']\n",
        "stds = gsearch2.cv_results_['std_test_score']\n",
        "params = gsearch2.cv_results_['params']\n",
        "for mean, stdev, param in zip(means, stds, params):\n",
        "\tprint(\"%f (%f) with: %r\" % (mean, stdev, param))"
      ],
      "execution_count": null,
      "outputs": [
        {
          "output_type": "stream",
          "text": [
            "Best: -0.027594 using {'max_depth': 8, 'min_child_weight': 2}\n",
            "-0.052217 (0.000195) with: {'max_depth': 2, 'min_child_weight': 2}\n",
            "-0.052224 (0.000226) with: {'max_depth': 2, 'min_child_weight': 5}\n",
            "-0.052232 (0.000235) with: {'max_depth': 2, 'min_child_weight': 8}\n",
            "-0.043810 (0.000327) with: {'max_depth': 5, 'min_child_weight': 2}\n",
            "-0.043934 (0.000358) with: {'max_depth': 5, 'min_child_weight': 5}\n",
            "-0.044145 (0.000328) with: {'max_depth': 5, 'min_child_weight': 8}\n",
            "-0.027594 (0.000508) with: {'max_depth': 8, 'min_child_weight': 2}\n",
            "-0.028331 (0.000233) with: {'max_depth': 8, 'min_child_weight': 5}\n",
            "-0.029510 (0.000137) with: {'max_depth': 8, 'min_child_weight': 8}\n"
          ],
          "name": "stdout"
        }
      ]
    },
    {
      "cell_type": "code",
      "metadata": {
        "id": "30n_aGS20_w-",
        "colab_type": "code",
        "colab": {
          "base_uri": "https://localhost:8080/",
          "height": 307
        },
        "outputId": "ff7bf369-593e-4841-c502-c613b3d681a8"
      },
      "source": [
        "# call the plot \n",
        "plot_grid_search(gsearch2.cv_results_, param_test2['max_depth'],\n",
        "                 param_test2['min_child_weight'], 'max_depth', 'min_child_weight')"
      ],
      "execution_count": null,
      "outputs": [
        {
          "output_type": "display_data",
          "data": {
            "image/png": "[encoded data removed]",
            "text/plain": [
              "<Figure size 432x288 with 1 Axes>"
            ]
          },
          "metadata": {
            "tags": [],
            "needs_background": "light"
          }
        }
      ]
    },
    {
      "cell_type": "markdown",
      "metadata": {
        "id": "JufeCVckuldM",
        "colab_type": "text"
      },
      "source": [
        "#### We see from: ```2 folds for each of 9 candidates, totalling 18 fits```  with an interval of ```3```; the ideal values are ```8``` for ```max_depth``` and ```2``` for ```min_child_weight```.\n",
        "\n",
        "#### Now we search between this result; and the previous.\n",
        "\n"
      ]
    },
    {
      "cell_type": "code",
      "metadata": {
        "id": "VLhsHBf_0_uU",
        "colab_type": "code",
        "colab": {}
      },
      "source": [
        "param_test3 = {\n",
        "    'max_depth':[8,9],\n",
        "    'min_child_weight':[1,2]\n",
        "    }\n",
        "\n",
        "gsearch3 = GridSearchCV(estimator = XGBClassifier(learning_rate =0.3, n_estimators=339, max_depth=5, max_delta_step=1,\n",
        "                                                  min_child_weight=1, gamma=0, subsample=0.8, colsample_bytree=0.8,\n",
        "                                                  objective= 'binary:logistic', scale_pos_weight=18.291, seed=27),\n",
        "                        param_grid = param_test3, scoring='neg_log_loss',n_jobs=1, cv=2, verbose=2)"
      ],
      "execution_count": null,
      "outputs": []
    },
    {
      "cell_type": "code",
      "metadata": {
        "id": "SvWgmcfM0_tJ",
        "colab_type": "code",
        "colab": {}
      },
      "source": [
        "%%time\n",
        "gsearch3.fit(X_train, y_train, eval_metric=eval_metric, eval_set=eval_set, verbose=True)"
      ],
      "execution_count": null,
      "outputs": []
    },
    {
      "cell_type": "code",
      "metadata": {
        "id": "KYUO3ryG0_lw",
        "colab_type": "code",
        "colab": {}
      },
      "source": [
        "# save model to file\n",
        "pickle.dump(gsearch3, open(path/'gsearch3.pickle.dat', 'wb'))"
      ],
      "execution_count": null,
      "outputs": []
    },
    {
      "cell_type": "code",
      "metadata": {
        "id": "tWCAZ_W_wp_4",
        "colab_type": "code",
        "colab": {
          "base_uri": "https://localhost:8080/",
          "height": 110
        },
        "outputId": "f5570377-3a80-4882-deae-cd431b5874c4"
      },
      "source": [
        "# summarize results\n",
        "print(\"Best: %f using %s\" % (gsearch3.best_score_, gsearch3.best_params_))\n",
        "means = gsearch3.cv_results_['mean_test_score']\n",
        "stds = gsearch3.cv_results_['std_test_score']\n",
        "params = gsearch3.cv_results_['params']\n",
        "for mean, stdev, param in zip(means, stds, params):\n",
        "\tprint(\"%f (%f) with: %r\" % (mean, stdev, param))"
      ],
      "execution_count": null,
      "outputs": [
        {
          "output_type": "stream",
          "text": [
            "Best: -0.023701 using {'max_depth': 9, 'min_child_weight': 1}\n",
            "-0.027215 (0.000358) with: {'max_depth': 8, 'min_child_weight': 1}\n",
            "-0.027594 (0.000508) with: {'max_depth': 8, 'min_child_weight': 2}\n",
            "-0.023701 (0.000171) with: {'max_depth': 9, 'min_child_weight': 1}\n",
            "-0.023953 (0.000239) with: {'max_depth': 9, 'min_child_weight': 2}\n"
          ],
          "name": "stdout"
        }
      ]
    },
    {
      "cell_type": "code",
      "metadata": {
        "id": "GtJzjSHL0_hP",
        "colab_type": "code",
        "colab": {
          "base_uri": "https://localhost:8080/",
          "height": 307
        },
        "outputId": "b1fe5210-8eaa-478f-9e5c-6f3fb66d1a22"
      },
      "source": [
        "# call the plot \n",
        "plot_grid_search(gsearch3.cv_results_, param_test3['max_depth'],\n",
        "                 param_test3['min_child_weight'], 'max_depth', 'min_child_weight')"
      ],
      "execution_count": null,
      "outputs": [
        {
          "output_type": "display_data",
          "data": {
            "image/png": "[encoded data removed]",
            "text/plain": [
              "<Figure size 432x288 with 1 Axes>"
            ]
          },
          "metadata": {
            "tags": [],
            "needs_background": "light"
          }
        }
      ]
    },
    {
      "cell_type": "markdown",
      "metadata": {
        "id": "RSDA48VFVKtE",
        "colab_type": "text"
      },
      "source": [
        "#### We have ```max_depth```: 9 and ```min_child_weight```: 1.\n",
        "\n",
        "#### Now lets tune ```gamma``` using the parameters above. ```gamma``` can take various values but we'll check for 2 values <> More values require more ```tuning``` time. "
      ]
    },
    {
      "cell_type": "code",
      "metadata": {
        "id": "XjEAbrcqVo0b",
        "colab_type": "code",
        "colab": {}
      },
      "source": [
        "param_test4 = {\n",
        "    'gamma':[i/10.0 for i in range(0,2)]\n",
        "    }\n",
        "\n",
        "gsearch4 = GridSearchCV(estimator = XGBClassifier(learning_rate =0.3, n_estimators=339, max_depth=9, max_delta_step=1, \n",
        "                                                  min_child_weight=1, gamma=0, subsample=0.8, colsample_bytree=0.8,\n",
        "                                                  objective= 'binary:logistic', scale_pos_weight=18.291, seed=27), \n",
        "                        param_grid = param_test4, scoring='neg_log_loss',n_jobs=1, cv=3, verbose=2)"
      ],
      "execution_count": null,
      "outputs": []
    },
    {
      "cell_type": "code",
      "metadata": {
        "id": "R1hvADuR4aHV",
        "colab_type": "code",
        "colab": {}
      },
      "source": [
        "%%time\n",
        "gsearch4.fit(X_train, y_train, eval_metric=eval_metric, eval_set=eval_set, verbose=True)"
      ],
      "execution_count": null,
      "outputs": []
    },
    {
      "cell_type": "code",
      "metadata": {
        "id": "TyYhWxrYVp2n",
        "colab_type": "code",
        "colab": {}
      },
      "source": [
        "# save model to file\n",
        "pickle.dump(gsearch4, open(path/'gsearch4.pickle.dat', 'wb'))"
      ],
      "execution_count": null,
      "outputs": []
    },
    {
      "cell_type": "code",
      "metadata": {
        "id": "mFBhd4CkwwqK",
        "colab_type": "code",
        "colab": {
          "base_uri": "https://localhost:8080/",
          "height": 73
        },
        "outputId": "94ecfb22-a35a-47d8-9aad-c5fb584cb1e3"
      },
      "source": [
        "# summarize results\n",
        "print(\"Best: %f using %s\" % (gsearch4.best_score_, gsearch4.best_params_))\n",
        "means = gsearch4.cv_results_['mean_test_score']\n",
        "stds = gsearch4.cv_results_['std_test_score']\n",
        "params = gsearch4.cv_results_['params']\n",
        "for mean, stdev, param in zip(means, stds, params):\n",
        "\tprint(\"%f (%f) with: %r\" % (mean, stdev, param))"
      ],
      "execution_count": null,
      "outputs": [
        {
          "output_type": "stream",
          "text": [
            "Best: -0.025073 using {'gamma': 0.0}\n",
            "-0.025073 (0.000171) with: {'gamma': 0.0}\n",
            "-0.025235 (0.000305) with: {'gamma': 0.1}\n"
          ],
          "name": "stdout"
        }
      ]
    },
    {
      "cell_type": "markdown",
      "metadata": {
        "id": "Nomlm220WWmd",
        "colab_type": "text"
      },
      "source": [
        "#### As we can see our optimum value for ```gamma``` should be 0.\n",
        "\n",
        "#### Before proceeding, a good idea would be to re-calibrate the number of ```n_estimators``` for the updated parameters."
      ]
    },
    {
      "cell_type": "code",
      "metadata": {
        "id": "EQJIbIEfVqEh",
        "colab_type": "code",
        "colab": {}
      },
      "source": [
        "#re-calibrate n_estimators\n",
        "xgb_smooth = XGBClassifier(\n",
        "    learning_rate=0.3,\n",
        "    n_estimators=1000,\n",
        "    max_depth=9,\n",
        "    min_child_weight=1,\n",
        "    gamma=0,\n",
        "    subsample=0.8,\n",
        "    colsample_bytree=0.8,\n",
        "    max_delta_step=1,\n",
        "    objective= 'binary:logistic',\n",
        "    scale_pos_weight=18.291,\n",
        "    seed=27)\n",
        "\n",
        "#collect parameters\n",
        "xgb_param = xgb_smooth.get_xgb_params()"
      ],
      "execution_count": 12,
      "outputs": []
    },
    {
      "cell_type": "code",
      "metadata": {
        "id": "zQG44oMBkS3g",
        "colab_type": "code",
        "colab": {}
      },
      "source": [
        "%%time\n",
        "cvresult = xgb.cv(xgb_param, dtrain, num_boost_round=xgb_smooth.get_params()['n_estimators'], \n",
        "                  nfold=3,\n",
        "                  metrics='logloss', early_stopping_rounds=10, verbose_eval=True)"
      ],
      "execution_count": null,
      "outputs": []
    },
    {
      "cell_type": "code",
      "metadata": {
        "id": "Hq5aM-LEkS63",
        "colab_type": "code",
        "colab": {
          "base_uri": "https://localhost:8080/",
          "height": 36
        },
        "outputId": "029dd033-ec3b-4202-d2c6-af9a595a12a6"
      },
      "source": [
        "print('Best n_estimators =', cvresult.shape[0])"
      ],
      "execution_count": 14,
      "outputs": [
        {
          "output_type": "stream",
          "text": [
            "Best n_estimators = 495\n"
          ],
          "name": "stdout"
        }
      ]
    },
    {
      "cell_type": "code",
      "metadata": {
        "id": "KgTApNLW6-Xe",
        "colab_type": "code",
        "colab": {
          "base_uri": "https://localhost:8080/",
          "height": 147
        },
        "outputId": "47265133-3135-47b1-86c4-4a1a822152a5"
      },
      "source": [
        "# add the optimal n_estimators to the parameters\n",
        "xgb_smooth.set_params(n_estimators=cvresult.shape[0])"
      ],
      "execution_count": null,
      "outputs": [
        {
          "output_type": "execute_result",
          "data": {
            "text/plain": [
              "XGBClassifier(base_score=0.5, booster='gbtree', colsample_bylevel=1,\n",
              "              colsample_bynode=1, colsample_bytree=0.8, gamma=0,\n",
              "              learning_rate=0.3, max_delta_step=1, max_depth=9,\n",
              "              min_child_weight=1, missing=None, n_estimators=495, n_jobs=1,\n",
              "              nthread=None, objective='binary:logistic', random_state=0,\n",
              "              reg_alpha=0, reg_lambda=1, scale_pos_weight=18.291, seed=27,\n",
              "              silent=None, subsample=0.8, verbosity=1)"
            ]
          },
          "metadata": {
            "tags": []
          },
          "execution_count": 16
        }
      ]
    },
    {
      "cell_type": "code",
      "metadata": {
        "id": "Jkr5JC8BkTAC",
        "colab_type": "code",
        "colab": {}
      },
      "source": [
        "#Fit the algorithm on the data\n",
        "%time xgb_smooth.fit(X_train, y_train, eval_metric=eval_metric, eval_set=eval_set, verbose=True)"
      ],
      "execution_count": null,
      "outputs": []
    },
    {
      "cell_type": "code",
      "metadata": {
        "id": "x6hUs6D1kTEo",
        "colab_type": "code",
        "colab": {
          "base_uri": "https://localhost:8080/",
          "height": 295
        },
        "outputId": "94fc09b7-d068-42c2-f3bb-aa96370da1d5"
      },
      "source": [
        "plot_importance(xgb_smooth, max_num_features = 14)\n",
        "plt.show()"
      ],
      "execution_count": null,
      "outputs": [
        {
          "output_type": "display_data",
          "data": {
            "image/png": "[encoded data removed]",
            "text/plain": [
              "<Figure size 432x288 with 1 Axes>"
            ]
          },
          "metadata": {
            "tags": [],
            "needs_background": "light"
          }
        }
      ]
    },
    {
      "cell_type": "code",
      "metadata": {
        "id": "yOFCuWNRkTJT",
        "colab_type": "code",
        "colab": {}
      },
      "source": [
        "#Predict training set:\n",
        "dtrain_predictions = xgb_smooth.predict(X_train)\n",
        "train_pred = [round(value) for value in dtrain_predictions]\n",
        "#only the positive class\n",
        "dtrain_predprob = xgb_smooth.predict_proba(X_train)[:,1]\n",
        "\n",
        "#Predict test set:\n",
        "dtest_predictions = xgb_smooth.predict(X_test)\n",
        "test_pred = [round(value) for value in dtest_predictions]\n",
        "#only the positive class\n",
        "dtest_predprob = xgb_smooth.predict_proba(X_test)[:,1]"
      ],
      "execution_count": null,
      "outputs": []
    },
    {
      "cell_type": "code",
      "metadata": {
        "id": "wF4pMdrl_ZWu",
        "colab_type": "code",
        "colab": {
          "base_uri": "https://localhost:8080/",
          "height": 222
        },
        "outputId": "f9a77ace-5557-45fd-d9b9-422f7f67295f"
      },
      "source": [
        "#Print model report:\n",
        "print(\"\\nModel Report\")\n",
        "print(\"Training Accuracy : %.4g\" % accuracy_score(y_train.values, train_pred))\n",
        "#print(\"Training Accuracy : %.4g\" % accuracy_score(y_train.values, dtrain_predictions))\n",
        "print(\"AUC Score (Train): %f\" % roc_auc_score(y_train, dtrain_predprob))\n",
        "print(\"logloss (Train): %f\" % log_loss(y_train, dtrain_predprob))\n",
        "print(\"Preliminary f1-score (Train): %f\" %f1_score(y_train, dtrain_predictions))\n",
        "print('')\n",
        "print(\"Test Accuracy : %.4g\" % accuracy_score(y_test.values, test_pred))\n",
        "#print(\"Test Accuracy : %.4g\" % accuracy_score(y_test.values, dtest_predictions))\n",
        "print(\"AUC Score (Test): %f\" % roc_auc_score(y_test, dtest_predprob))\n",
        "print(\"logloss (Test): %f\" % log_loss(y_test, dtest_predprob))\n",
        "print(\"Preliminary f1-score (Test): %f\" %f1_score(y_test, dtest_predictions))"
      ],
      "execution_count": null,
      "outputs": [
        {
          "output_type": "stream",
          "text": [
            "\n",
            "Model Report\n",
            "Training Accuracy : 0.9977\n",
            "AUC Score (Train): 0.999670\n",
            "logloss (Train): 0.011462\n",
            "Preliminary f1-score (Train): 0.715188\n",
            "\n",
            "Test Accuracy : 0.9941\n",
            "AUC Score (Test): 0.871200\n",
            "logloss (Test): 0.024662\n",
            "Preliminary f1-score (Test): 0.121796\n"
          ],
          "name": "stdout"
        }
      ]
    },
    {
      "cell_type": "markdown",
      "metadata": {
        "id": "Som0zWbCJTpT",
        "colab_type": "text"
      },
      "source": [
        "## NB: I stopped ```parameter tuning``` here; and proceeded onto ```Plot ROC curves```...\n",
        "\n",
        "#### The rest of the ```code``` between here and there - *and most of the above is thanks to [Analytics Vidhya](https://www.analyticsvidhya.com/blog/2016/03/complete-guide-parameter-tuning-xgboost-with-codes-python/)* - is to complete the ```tuning```; which I might do at another time.\n"
      ]
    },
    {
      "cell_type": "markdown",
      "metadata": {
        "id": "ETtoHllXGBvX",
        "colab_type": "text"
      },
      "source": [
        "#### The next step would be try different ```subsample``` and ```colsample_bytree``` values.\n",
        "\n",
        "> We search values from 0.8 to 1 for ```subsample``` and 0.5 through 1 for ```colsample_bytree``` because although we have not  ```one-hot-encoded``` we do have 14 columns  - and will add more.\n",
        "\n"
      ]
    },
    {
      "cell_type": "code",
      "metadata": {
        "id": "2BFh1TbJGTbc",
        "colab_type": "code",
        "colab": {}
      },
      "source": [
        "param_test5 = {\n",
        "    'subsample':[i/10.0 for i in range(8,11)],\n",
        "    'colsample_bytree':[i/10.0 for i in range(5,11)]\n",
        "    }\n",
        "\n",
        "gsearch5 = GridSearchCV(estimator = XGBClassifier(learning_rate =0.3, n_estimators=353, max_depth=9, max_delta_step=1, \n",
        "                                                  min_child_weight=1, gamma=0, subsample=0.8, colsample_bytree=0.8,\n",
        "                                                  objective= 'binary:logistic', scale_pos_weight=18.291, seed=27), \n",
        "                        param_grid = param_test5, scoring='neg_log_loss',n_jobs=1, cv=2, verbose=2)"
      ],
      "execution_count": null,
      "outputs": []
    },
    {
      "cell_type": "code",
      "metadata": {
        "id": "VYUjUgb1GTXm",
        "colab_type": "code",
        "colab": {}
      },
      "source": [
        "%%time\n",
        "gsearch5.fit(X_train, y_train, eval_metric=eval_metric, eval_set=eval_set, verbose=True)"
      ],
      "execution_count": null,
      "outputs": []
    },
    {
      "cell_type": "code",
      "metadata": {
        "id": "EYXikxx0GTTu",
        "colab_type": "code",
        "colab": {}
      },
      "source": [
        "# save model to file\n",
        "pickle.dump(gsearch5, open(path/'gsearch5.pickle.dat', 'wb'))"
      ],
      "execution_count": null,
      "outputs": []
    },
    {
      "cell_type": "code",
      "metadata": {
        "id": "XOwch04bw5qu",
        "colab_type": "code",
        "colab": {}
      },
      "source": [
        "# summarize results\n",
        "print(\"Best: %f using %s\" % (gsearch5.best_score_, gsearch5.best_params_))\n",
        "means = gsearch5.cv_results_['mean_test_score']\n",
        "stds = gsearch5.cv_results_['std_test_score']\n",
        "params = gsearch5.cv_results_['params']\n",
        "for mean, stdev, param in zip(means, stds, params):\n",
        "\tprint(\"%f (%f) with: %r\" % (mean, stdev, param))"
      ],
      "execution_count": null,
      "outputs": []
    },
    {
      "cell_type": "code",
      "metadata": {
        "id": "NF9qdpKOGTQI",
        "colab_type": "code",
        "colab": {}
      },
      "source": [
        "gsearch5.cv_results_, gsearch5.best_params_, gsearch5.best_score_"
      ],
      "execution_count": null,
      "outputs": []
    },
    {
      "cell_type": "code",
      "metadata": {
        "id": "PL-rs88EQCOX",
        "colab_type": "code",
        "colab": {}
      },
      "source": [
        "param_test6 = {\n",
        "    'colsample_bytree':[i/10.0 for i in range(5,11)]\n",
        "    }\n",
        "\n",
        "gsearch6 = GridSearchCV(estimator = XGBClassifier(learning_rate =0.3, n_estimators=353, max_depth=5, max_delta_step=1, \n",
        "                                                  min_child_weight=6, gamma=0.1, subsample=1.0, colsample_bytree=0.8,\n",
        "                                                  objective= 'binary:logistic', scale_pos_weight=18.291,seed=27), \n",
        "                        param_grid = param_test6, scoring='neg_log_loss',n_jobs=1, cv=2, verbose=2)"
      ],
      "execution_count": null,
      "outputs": []
    },
    {
      "cell_type": "code",
      "metadata": {
        "id": "vJvvy9pERhHQ",
        "colab_type": "code",
        "colab": {}
      },
      "source": [
        "%%time\n",
        "gsearch6.fit(X_train, y_train, eval_metric=eval_metric, eval_set=eval_set, verbose=True)"
      ],
      "execution_count": null,
      "outputs": []
    },
    {
      "cell_type": "code",
      "metadata": {
        "id": "miop3yJgRmFM",
        "colab_type": "code",
        "colab": {}
      },
      "source": [
        "gsearch6.cv_results_, gsearch6.best_params_, gsearch6.best_score_"
      ],
      "execution_count": null,
      "outputs": []
    },
    {
      "cell_type": "markdown",
      "metadata": {
        "id": "u8HW37GzGWKV",
        "colab_type": "text"
      },
      "source": [
        "#### Our last parameter is to apply regularization which can reduce overfitting. Though  ```gamma``` is more popular and provides a substantial way of controlling complexity; we should try ```reg_alpha```."
      ]
    },
    {
      "cell_type": "code",
      "metadata": {
        "id": "cbZbTHsakTIQ",
        "colab_type": "code",
        "colab": {}
      },
      "source": [
        "param_test7 = {\n",
        "    'reg_alpha':[0, 0.001, 0.005, 0.01, 0.05]\n",
        "    }\n",
        "\n",
        "gsearch7 = GridSearchCV(estimator = XGBClassifier(learning_rate =0.3, n_estimators=353, max_depth=5, max_delta_step=1, \n",
        "                                                  min_child_weight=6, gamma=0.1, subsample=1.0, colsample_bytree=1.0,\n",
        "                                                  objective= 'binary:logistic', scale_pos_weight=18.291, seed=27), \n",
        "                        param_grid = param_test7, scoring='neg_log_loss', n_jobs=1, cv=2, verbose=2)"
      ],
      "execution_count": null,
      "outputs": []
    },
    {
      "cell_type": "code",
      "metadata": {
        "id": "cS1VT5TnkTDD",
        "colab_type": "code",
        "colab": {}
      },
      "source": [
        "%%time\n",
        "gsearch7.fit(X_train, y_train, eval_metric=eval_metric, eval_set=eval_set, verbose=True)"
      ],
      "execution_count": null,
      "outputs": []
    },
    {
      "cell_type": "code",
      "metadata": {
        "id": "4hXHoBXMxDss",
        "colab_type": "code",
        "colab": {}
      },
      "source": [
        "# summarize results\n",
        "print(\"Best: %f using %s\" % (gsearch7.best_score_, gsearch7.best_params_))\n",
        "means = gsearch7.cv_results_['mean_test_score']\n",
        "stds = gsearch7.cv_results_['std_test_score']\n",
        "params = gsearch7.cv_results_['params']\n",
        "for mean, stdev, param in zip(means, stds, params):\n",
        "\tprint(\"%f (%f) with: %r\" % (mean, stdev, param))"
      ],
      "execution_count": null,
      "outputs": []
    },
    {
      "cell_type": "code",
      "metadata": {
        "id": "Ec0-F5za66KA",
        "colab_type": "code",
        "colab": {}
      },
      "source": [
        "gsearch7.cv_results_, gsearch7.best_params_, gsearch7.best_score_"
      ],
      "execution_count": null,
      "outputs": []
    },
    {
      "cell_type": "markdown",
      "metadata": {
        "id": "97Um8HwBaqrG",
        "colab_type": "text"
      },
      "source": [
        "#### Now lets calculate a threshold and make a prediction."
      ]
    },
    {
      "cell_type": "code",
      "metadata": {
        "id": "G3zaTAnW66eE",
        "colab_type": "code",
        "colab": {}
      },
      "source": [
        "#change these to what they should be\n",
        "model = XGBClassifier(\n",
        "    learning_rate=0.2,\n",
        "    n_estimators=353,\n",
        "    max_depth=5,\n",
        "    min_child_weight=6,\n",
        "    gamma=0.1,\n",
        "    subsample=1.0,\n",
        "    colsample_bytree=1.0,\n",
        "    max_delta_step=1,\n",
        "    objective= 'binary:logistic',\n",
        "    scale_pos_weight=1,\n",
        "    reg_alpha=0,\n",
        "    seed=27)"
      ],
      "execution_count": null,
      "outputs": []
    },
    {
      "cell_type": "code",
      "metadata": {
        "id": "6pkeV9VU66p4",
        "colab_type": "code",
        "colab": {}
      },
      "source": [
        "model.fit(X_train, y_train, eval_metric=eval_metric, eval_set=eval_set, verbose=2)"
      ],
      "execution_count": null,
      "outputs": []
    },
    {
      "cell_type": "markdown",
      "metadata": {
        "id": "wWbDIFUoSvFR",
        "colab_type": "text"
      },
      "source": [
        "#### ```most_important``` features"
      ]
    },
    {
      "cell_type": "code",
      "metadata": {
        "id": "GgAFVAvs66vF",
        "colab_type": "code",
        "colab": {}
      },
      "source": [
        "plot_importance(model, max_num_features = 14)\n",
        "plt.show()"
      ],
      "execution_count": null,
      "outputs": []
    },
    {
      "cell_type": "code",
      "metadata": {
        "id": "Loy_Ttkp66m-",
        "colab_type": "code",
        "colab": {}
      },
      "source": [
        "#lets predict *PROBABILITIES*  on the training-set\n",
        "y_pred_train = xgb_smooth.predict_proba(X_train)\n",
        "# keep probabilities for the positive outcome only\n",
        "y_pred_train = y_pred_train[:, 1]\n",
        "# calculate roc curves\n",
        "fpr, tpr, thresholds = roc_curve(y_train, y_pred_train)\n",
        "\n",
        "#lets predict *PROBABILITIES*  on the test-set\n",
        "y_pred_test = xgb_smooth.predict_proba(X_test)\n",
        "# keep probabilities for the positive outcome only\n",
        "y_pred_test = y_pred_test[:, 1]\n",
        "# calculate roc curves\n",
        "fpr_t, tpr_t, thresholds_t = roc_curve(y_test, y_pred_test)"
      ],
      "execution_count": null,
      "outputs": []
    },
    {
      "cell_type": "code",
      "metadata": {
        "id": "TrCi9GSK66k7",
        "colab_type": "code",
        "colab": {
          "base_uri": "https://localhost:8080/",
          "height": 73
        },
        "outputId": "5dd41ff9-83a3-4891-b364-ddbfb6fd0cbf"
      },
      "source": [
        "print('Training log_loss:', log_loss(y_train, y_pred_train))\n",
        "print('')\n",
        "print('Test log_loss:', log_loss(y_test, y_pred_test))"
      ],
      "execution_count": null,
      "outputs": [
        {
          "output_type": "stream",
          "text": [
            "Training log_loss: 0.01146151415275742\n",
            "\n",
            "Test log_loss: 0.02466166642416993\n"
          ],
          "name": "stdout"
        }
      ]
    },
    {
      "cell_type": "markdown",
      "metadata": {
        "id": "S2IXQT0JS4X5",
        "colab_type": "text"
      },
      "source": [
        "#### Plot ROC curves for both the ```training``` and ```test``` datasets\n"
      ]
    },
    {
      "cell_type": "code",
      "metadata": {
        "id": "zRkR9BeT66jl",
        "colab_type": "code",
        "colab": {
          "base_uri": "https://localhost:8080/",
          "height": 279
        },
        "outputId": "56deb549-4ca0-449d-c573-37e040b3c607"
      },
      "source": [
        "#plot\n",
        "fig,ax = plt.subplots()\n",
        "plt.plot([0,1],[0,1],'r-',label='Random Guess',color='orange')#,lw=3)\n",
        "plt.plot(fpr,tpr,label='ROC (Train)')#,lw=3)\n",
        "plt.plot(fpr_t,tpr_t,'r:',label='ROC (Test)',color='steelblue')#,lw=3)\n",
        "#pyplot.scatter(fpr[ix], tpr[ix], marker='o', color='black', label='Best Train')\n",
        "#pyplot.scatter(fpr_test[ix_t], tpr_test[ix_t], marker='o', color='red', label='Best Test')\n",
        "plt.grid()\n",
        "plt.xlabel('False Positive Rate')\n",
        "plt.ylabel('True Positive Rate')\n",
        "plt.legend()\n",
        "plt.show()"
      ],
      "execution_count": null,
      "outputs": [
        {
          "output_type": "display_data",
          "data": {
            "image/png": "[encoded data removed]",
            "text/plain": [
              "<Figure size 432x288 with 1 Axes>"
            ]
          },
          "metadata": {
            "tags": [],
            "needs_background": "light"
          }
        }
      ]
    },
    {
      "cell_type": "markdown",
      "metadata": {
        "id": "gFqK7_fVTBaw",
        "colab_type": "text"
      },
      "source": [
        "#### Precision-Recall Curve"
      ]
    },
    {
      "cell_type": "code",
      "metadata": {
        "id": "g3bSC68866Zf",
        "colab_type": "code",
        "colab": {
          "base_uri": "https://localhost:8080/",
          "height": 73
        },
        "outputId": "9586f2db-11d1-4c06-d8da-7d3a5454df4b"
      },
      "source": [
        "#for the training\n",
        "# predict class values\n",
        "yhat = xgb_smooth.predict(X_train)\n",
        "lr_precision, lr_recall, thresh = precision_recall_curve(y_train, y_pred_train)\n",
        "lr_f1, lr_auc = f1_score(y_train, yhat), auc(lr_recall, lr_precision)\n",
        "# summarize scores\n",
        "print(' Training Classification: f1=%.3f auc=%.3f' % (lr_f1, lr_auc))\n",
        "print('')\n",
        "#for the training\n",
        "# predict class values\n",
        "yhat_t = xgb_smooth.predict(X_test)\n",
        "lr_precision_t, lr_recall_t, thresh_t = precision_recall_curve(y_test, y_pred_test)\n",
        "lr_f1_t, lr_auc_t = f1_score(y_test, yhat_t), auc(lr_recall_t, lr_precision_t)\n",
        "# summarize scores\n",
        "print(' Test Classification: f1=%.3f auc=%.3f' % (lr_f1_t, lr_auc_t))"
      ],
      "execution_count": null,
      "outputs": [
        {
          "output_type": "stream",
          "text": [
            " Training Classification: f1=0.715 auc=0.867\n",
            "\n",
            " Test Classification: f1=0.122 auc=0.050\n"
          ],
          "name": "stdout"
        }
      ]
    },
    {
      "cell_type": "code",
      "metadata": {
        "id": "29RR_Nix66YC",
        "colab_type": "code",
        "colab": {
          "base_uri": "https://localhost:8080/",
          "height": 279
        },
        "outputId": "e3a3718f-c909-4cb1-8f72-e109ee9e2672"
      },
      "source": [
        "#plot\n",
        "fig,ax = plt.subplots()\n",
        "plt.plot(lr_precision,lr_recall,label='PR (Train)')#,lw=3)\n",
        "plt.plot(lr_precision_t,lr_recall_t,label='PR (Test)')#,lw=3)\n",
        "#pyplot.scatter(recall[ix], precision[ix], marker='o', color='black', label='Best Training')\n",
        "#pyplot.scatter(recall_test[ix_t], precision_test[ix_t], marker='o', color='red', label='Best Test')\n",
        "plt.xlabel('Precision')\n",
        "plt.ylabel('Recall')\n",
        "plt.grid()\n",
        "plt.legend()\n",
        "plt.show()"
      ],
      "execution_count": null,
      "outputs": [
        {
          "output_type": "display_data",
          "data": {
            "image/png": "[encoded data removed]",
            "text/plain": [
              "<Figure size 432x288 with 1 Axes>"
            ]
          },
          "metadata": {
            "tags": [],
            "needs_background": "light"
          }
        }
      ]
    },
    {
      "cell_type": "markdown",
      "metadata": {
        "id": "MoB-bZr3TKoM",
        "colab_type": "text"
      },
      "source": [
        "#### Optimal Threshold"
      ]
    },
    {
      "cell_type": "code",
      "metadata": {
        "id": "4NWG69oT66WF",
        "colab_type": "code",
        "colab": {
          "base_uri": "https://localhost:8080/",
          "height": 316
        },
        "outputId": "57018a84-7dc2-486f-fc83-6fc5dfa91a4b"
      },
      "source": [
        "# threshold plot\n",
        "plt.plot(thresh,lr_precision[:-1],'r-',label='P (Train)',color='orange')#,lw=3)\n",
        "plt.plot(thresh,lr_recall[:-1],'r-',label='R (Train)',color='steelblue')#,lw=3)\n",
        "plt.plot(thresh_t,lr_precision_t[:-1],'--',label='P (Test)',color='orange')\n",
        "plt.plot(thresh_t,lr_recall_t[:-1],'--',label='R (Test)',color='steelblue')\n",
        "#plt.plot([0,1],[0,1],'k-',lw=2)\n",
        "plt.gca().set_xbound(lower=0,upper=1)\n",
        "plt.xlabel('Threshold')\n",
        "plt.ylabel('Precision/Recall')\n",
        "plt.legend()\n",
        "plt.show()"
      ],
      "execution_count": null,
      "outputs": [
        {
          "output_type": "stream",
          "text": [
            "/usr/local/lib/python3.6/dist-packages/IPython/core/pylabtools.py:125: UserWarning: Creating legend with loc=\"best\" can be slow with large amounts of data.\n",
            "  fig.canvas.print_figure(bytes_io, **kw)\n"
          ],
          "name": "stderr"
        },
        {
          "output_type": "display_data",
          "data": {
            "image/png": "[encoded data removed]",
            "text/plain": [
              "<Figure size 432x288 with 1 Axes>"
            ]
          },
          "metadata": {
            "tags": [],
            "needs_background": "light"
          }
        }
      ]
    },
    {
      "cell_type": "markdown",
      "metadata": {
        "id": "P2jQzqXyTWU3",
        "colab_type": "text"
      },
      "source": [
        "#### Threshold Tuning for F1-Score"
      ]
    },
    {
      "cell_type": "code",
      "metadata": {
        "id": "VNIYw-nxPdm-",
        "colab_type": "code",
        "colab": {}
      },
      "source": [
        "# apply threshold to predictions to create labels\n",
        "def to_labels(pos_preds, threshold):\n",
        "  '''\n",
        "  define a function to take the prediction and threshold as an argument and return an array of integers in {0, 1}\n",
        "  '''\n",
        "  return (pos_preds >= threshold).astype(int)"
      ],
      "execution_count": null,
      "outputs": []
    },
    {
      "cell_type": "code",
      "metadata": {
        "id": "zLJeaNtyPd0J",
        "colab_type": "code",
        "colab": {
          "base_uri": "https://localhost:8080/",
          "height": 36
        },
        "outputId": "797dd92e-7167-4800-ff5b-41c9d66e998a"
      },
      "source": [
        "# define thresholds (start, stop, step)\n",
        "threshold = np.arange(0, 1, 0.002)\n",
        "\n",
        "# evaluate each threshold\n",
        "scores = [f1_score(y_train, to_labels(y_pred_train, t)) for t in threshold]\n",
        "\n",
        "# get best threshold\n",
        "ix = argmax(scores)\n",
        "print('Training Threshold = %.3f, F-Score = %.5f' % (threshold[ix], scores[ix]))"
      ],
      "execution_count": null,
      "outputs": [
        {
          "output_type": "stream",
          "text": [
            "Training Threshold = 0.700, F-Score = 0.83670\n"
          ],
          "name": "stdout"
        }
      ]
    },
    {
      "cell_type": "markdown",
      "metadata": {
        "id": "J5EU8ZgnTciA",
        "colab_type": "text"
      },
      "source": [
        "## Predicting"
      ]
    },
    {
      "cell_type": "markdown",
      "metadata": {
        "id": "WdEPwWvsT7GS",
        "colab_type": "text"
      },
      "source": [
        "#### First on the ```train``` - 2017."
      ]
    },
    {
      "cell_type": "code",
      "metadata": {
        "id": "oQRYTUl-Pd-J",
        "colab_type": "code",
        "colab": {
          "base_uri": "https://localhost:8080/",
          "height": 166
        },
        "outputId": "71926e92-5b55-492a-af1f-0f2d09e2e3f7"
      },
      "source": [
        "print('Predicting on the Training-set with a Threshold of = %.3f' % 0.700)\n",
        "train['pred'] = (xgb_smooth.predict(train[x_cols]) > 0.70).astype(int)\n",
        "print(' Accuracy:',accuracy_score(train['y'],train['pred']))\n",
        "#rmse = np.sqrt(mean_squared_error(y_test, preds))\n",
        "print(\"RMSE: %f\" % (mean_squared_error(train['y'],train['pred'])))\n",
        "print(' f1-score for the + class:',f1_score(train['y'],train['pred']))\n",
        "print(' Precision for the + class:',precision_score(train['y'],train['pred']))\n",
        "print(' Recall for the + class:',recall_score(train['y'],train['pred']))\n",
        "#y_pred_train = model.predict(train[x_cols])\n",
        "print(' AUC:',roc_auc_score(train['y'],train['pred']))\n",
        "print(' Ave. Precision:',average_precision_score(train['y'],train['pred']))\n",
        "#train.head(3)"
      ],
      "execution_count": null,
      "outputs": [
        {
          "output_type": "stream",
          "text": [
            "Predicting on the Training-set with a Threshold of = 0.700\n",
            " Accuracy: 0.9967660403392038\n",
            "RMSE: 0.003234\n",
            " f1-score for the + class: 0.5884928580963823\n",
            " Precision for the + class: 0.4745317545748116\n",
            " Recall for the + class: 0.7744905130007027\n",
            " AUC: 0.8859610991134159\n",
            " Ave. Precision: 0.36819365524873865\n"
          ],
          "name": "stdout"
        }
      ]
    },
    {
      "cell_type": "code",
      "metadata": {
        "id": "Lx7fR3-2PeK5",
        "colab_type": "code",
        "colab": {
          "base_uri": "https://localhost:8080/",
          "height": 367
        },
        "outputId": "b22c41ae-1a77-47b6-b2f9-b6527721f178"
      },
      "source": [
        "cnf_matrix = confusion_matrix(train['y'], train['pred'])\n",
        "plot_confusion_matrix(cnf_matrix, classes=['0', '1'],\n",
        "                      title='Confusion matrix, without normalization')"
      ],
      "execution_count": null,
      "outputs": [
        {
          "output_type": "stream",
          "text": [
            "Confusion matrix, without normalization\n",
            "[[4739550   12204]\n",
            " [   3209   11021]]\n"
          ],
          "name": "stdout"
        },
        {
          "output_type": "display_data",
          "data": {
            "image/png": "[encoded data removed]",
            "text/plain": [
              "<Figure size 432x288 with 2 Axes>"
            ]
          },
          "metadata": {
            "tags": [],
            "needs_background": "light"
          }
        }
      ]
    },
    {
      "cell_type": "code",
      "metadata": {
        "id": "z83cpUauPeHd",
        "colab_type": "code",
        "colab": {
          "base_uri": "https://localhost:8080/",
          "height": 185
        },
        "outputId": "92b4f065-f4e5-4130-b639-a217e82ec317"
      },
      "source": [
        "#have a look at the built-in report\n",
        "print(classification_report(train['y'], train['pred']))"
      ],
      "execution_count": null,
      "outputs": [
        {
          "output_type": "stream",
          "text": [
            "              precision    recall  f1-score   support\n",
            "\n",
            "           0       1.00      1.00      1.00   4751754\n",
            "           1       0.47      0.77      0.59     14230\n",
            "\n",
            "    accuracy                           1.00   4765984\n",
            "   macro avg       0.74      0.89      0.79   4765984\n",
            "weighted avg       1.00      1.00      1.00   4765984\n",
            "\n"
          ],
          "name": "stdout"
        }
      ]
    },
    {
      "cell_type": "markdown",
      "metadata": {
        "id": "xBo7dJKETj5v",
        "colab_type": "text"
      },
      "source": [
        "### Now our personal ```test``` - 4 months towards the end of 2018."
      ]
    },
    {
      "cell_type": "code",
      "metadata": {
        "id": "0LQutsMyPeEU",
        "colab_type": "code",
        "colab": {
          "base_uri": "https://localhost:8080/",
          "height": 166
        },
        "outputId": "25ac8995-1bb7-4b47-9082-bc96d4704fca"
      },
      "source": [
        "print('Predicting on the Test-set with a Threshold of = %.3f' % 0.700)\n",
        "test['pred'] = (xgb_smooth.predict(test[x_cols]) > 0.700).astype(int)\n",
        "print (' Accuracy:',accuracy_score(test['y'],test['pred']))\n",
        "#rmse = np.sqrt(mean_squared_error(y_test, preds))\n",
        "print(\"RMSE: %f\" % (mean_squared_error(test['y'], test['pred'])))\n",
        "print (' f1-score for the + class:',f1_score(test['y'],test['pred']))\n",
        "print (' Precision for the + class:',precision_score(test['y'],test['pred']))\n",
        "print (' Recall for the + class:',recall_score(test['y'],test['pred']))\n",
        "#y_pred_test = model.predict(test[x_cols])\n",
        "print (' AUC:',roc_auc_score(test['y'],test['pred']))\n",
        "print (' Ave. Precision:',average_precision_score(test['y'],test['pred']))"
      ],
      "execution_count": null,
      "outputs": [
        {
          "output_type": "stream",
          "text": [
            "Predicting on the Test-set with a Threshold of = 0.700\n",
            " Accuracy: 0.9933494482130202\n",
            "RMSE: 0.006651\n",
            " f1-score for the + class: 0.02613046701260193\n",
            " Precision for the + class: 0.06485740570377185\n",
            " Recall for the + class: 0.016361104664655374\n",
            " AUC: 0.5075338012306558\n",
            " Ave. Precision: 0.006425242275711815\n"
          ],
          "name": "stdout"
        }
      ]
    },
    {
      "cell_type": "code",
      "metadata": {
        "id": "opfkBKfAPeCM",
        "colab_type": "code",
        "colab": {
          "base_uri": "https://localhost:8080/",
          "height": 367
        },
        "outputId": "317b76c9-fe5d-4015-d05f-ed333891546d"
      },
      "source": [
        "cnf_matrix = confusion_matrix(test['y'], test['pred'])\n",
        "plot_confusion_matrix(cnf_matrix, classes=['0', '1'],\n",
        "                      title='Confusion matrix, without normalization')"
      ],
      "execution_count": null,
      "outputs": [
        {
          "output_type": "stream",
          "text": [
            "Confusion matrix, without normalization\n",
            "[[1569669    2033]\n",
            " [   8477     141]]\n"
          ],
          "name": "stdout"
        },
        {
          "output_type": "display_data",
          "data": {
            "image/png": "[encoded data removed]",
            "text/plain": [
              "<Figure size 432x288 with 2 Axes>"
            ]
          },
          "metadata": {
            "tags": [],
            "needs_background": "light"
          }
        }
      ]
    },
    {
      "cell_type": "code",
      "metadata": {
        "id": "WJT_49VIPd7V",
        "colab_type": "code",
        "colab": {
          "base_uri": "https://localhost:8080/",
          "height": 185
        },
        "outputId": "d18f36cd-1019-4402-bd81-ff02f71f9015"
      },
      "source": [
        "#have a look at the built-in report\n",
        "print(classification_report(test['y'], test['pred']))"
      ],
      "execution_count": null,
      "outputs": [
        {
          "output_type": "stream",
          "text": [
            "              precision    recall  f1-score   support\n",
            "\n",
            "           0       0.99      1.00      1.00   1571702\n",
            "           1       0.06      0.02      0.03      8618\n",
            "\n",
            "    accuracy                           0.99   1580320\n",
            "   macro avg       0.53      0.51      0.51   1580320\n",
            "weighted avg       0.99      0.99      0.99   1580320\n",
            "\n"
          ],
          "name": "stdout"
        }
      ]
    },
    {
      "cell_type": "code",
      "metadata": {
        "id": "tDWjtHBHPd4h",
        "colab_type": "code",
        "colab": {}
      },
      "source": [
        "print(len(prediction))\n",
        "good = prediction.loc[prediction['pred'] == 1]\n",
        "print(len(good))"
      ],
      "execution_count": null,
      "outputs": []
    },
    {
      "cell_type": "code",
      "metadata": {
        "id": "oXZcJFBCPdx0",
        "colab_type": "code",
        "colab": {}
      },
      "source": [
        "good.head(2)"
      ],
      "execution_count": null,
      "outputs": []
    },
    {
      "cell_type": "code",
      "metadata": {
        "id": "W1BR_YV0PdvD",
        "colab_type": "code",
        "colab": {}
      },
      "source": [
        "#save it\n",
        "good[['segment_id', 'year', 'month', 'day', 'hour', 'latitude', 'longitude']].to_csv(path/'data/03_XGBoostTuning.csv', \n",
        "                                                                                                 index=False)"
      ],
      "execution_count": null,
      "outputs": []
    },
    {
      "cell_type": "code",
      "metadata": {
        "id": "FdmtdJHSPdtb",
        "colab_type": "code",
        "colab": {}
      },
      "source": [
        ""
      ],
      "execution_count": null,
      "outputs": []
    },
    {
      "cell_type": "code",
      "metadata": {
        "id": "Z1gVVLHnPdrh",
        "colab_type": "code",
        "colab": {}
      },
      "source": [
        ""
      ],
      "execution_count": null,
      "outputs": []
    },
    {
      "cell_type": "code",
      "metadata": {
        "id": "ciLPE6du66PE",
        "colab_type": "code",
        "colab": {}
      },
      "source": [
        ""
      ],
      "execution_count": null,
      "outputs": []
    },
    {
      "cell_type": "code",
      "metadata": {
        "id": "4HrjLwIYkS-V",
        "colab_type": "code",
        "colab": {}
      },
      "source": [
        ""
      ],
      "execution_count": null,
      "outputs": []
    }
  ]
}