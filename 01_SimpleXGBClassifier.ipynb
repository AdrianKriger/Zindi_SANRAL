{
  "nbformat": 4,
  "nbformat_minor": 0,
  "metadata": {
    "colab": {
      "name": "01_SimpleXGBClassifier.ipynb",
      "provenance": [],
      "collapsed_sections": [
        "lg9Dq6g9B6uN"
      ]
    },
    "kernelspec": {
      "name": "python3",
      "display_name": "Python 3"
    }
  },
  "cells": [
    {
      "cell_type": "markdown",
      "metadata": {
        "id": "6pmTCLC3DOxy",
        "colab_type": "text"
      },
      "source": [
        "## Data Wrangling\n",
        "\n",
        "This notebook is based on johnowhitaker's blog post found [here](https://datasciencecastnet.home.blog/2019/10/21/zindi-uberct-part-2-stepping-up/).\n",
        "\n",
        "It will take you through some data wrangling with ```pandas``` and ```geopandas```; to create tabular data for an ```xgboost``` Machine Learning ```predicit```ion."
      ]
    },
    {
      "cell_type": "code",
      "metadata": {
        "id": "XCgn4lCRrzwE",
        "colab_type": "code",
        "colab": {}
      },
      "source": [
        "#because we're on google colab\n",
        "!pip install --upgrade pandas\n",
        "!pip install --upgrade geopandas\n",
        "!pip install --upgrade sklearn\n",
        "!pip install --upgrade xgboost\n",
        "#!pip install --upgrade seaborn"
      ],
      "execution_count": null,
      "outputs": []
    },
    {
      "cell_type": "code",
      "metadata": {
        "id": "gAQ1_b_ssEy6",
        "colab_type": "code",
        "colab": {}
      },
      "source": [
        "#load the modules that make the magic possible\n",
        "import pandas as pd\n",
        "import geopandas as gpd\n",
        "from shapely.geometry import Point, LineString\n",
        "import numpy as np\n",
        "import itertools\n",
        "import matplotlib.pyplot as plt\n",
        "#import seaborn as sns\n",
        "from pathlib import Path"
      ],
      "execution_count": 2,
      "outputs": []
    },
    {
      "cell_type": "code",
      "metadata": {
        "id": "Plw5NXUZDKgG",
        "colab_type": "code",
        "colab": {}
      },
      "source": [
        "from matplotlib import pyplot\n",
        "from xgboost import XGBClassifier, plot_importance\n",
        "from collections import Counter\n",
        "from sklearn.model_selection import train_test_split\n",
        "from sklearn.metrics import f1_score, classification_report, auc, log_loss, accuracy_score, confusion_matrix, precision_score, mean_squared_error, recall_score,roc_auc_score, roc_curve, average_precision_score,precision_recall_curve\n",
        "from numpy import where, mean, sqrt, argmax, arange"
      ],
      "execution_count": 13,
      "outputs": []
    },
    {
      "cell_type": "code",
      "metadata": {
        "id": "xXERSBC1sE2m",
        "colab_type": "code",
        "colab": {}
      },
      "source": [
        "# mount google drive as a file system\n",
        "from google.colab import drive\n",
        "drive.mount('/content/gdrive', force_remount=True)"
      ],
      "execution_count": null,
      "outputs": []
    },
    {
      "cell_type": "code",
      "metadata": {
        "id": "6e7W3_gesQfn",
        "colab_type": "code",
        "colab": {}
      },
      "source": [
        "#set path\n",
        "path = Path('/content/gdrive/My Drive/Zindi_Accident')"
      ],
      "execution_count": 5,
      "outputs": []
    },
    {
      "cell_type": "code",
      "metadata": {
        "id": "k9sGTYVV_adt",
        "colab_type": "code",
        "colab": {}
      },
      "source": [
        "import sys\n",
        "sys.path.append('/content/gdrive/My Drive/Zindi_Accident')\n",
        "\n",
        "# load a custom confusion_matrix tool for plotting \n",
        "# courtesy - leportella (https://github.com/leportella/federal-road-accidents)\n",
        "from tools import plot_confusion_matrix"
      ],
      "execution_count": 6,
      "outputs": []
    },
    {
      "cell_type": "markdown",
      "metadata": {
        "id": "cwQ-jqNkGf-p",
        "colab_type": "text"
      },
      "source": [
        "# Load data\n",
        "\n",
        "Look at the ```train.csv``` and  ```road_segments.zip``` from [Zindi](https://zindi.africa/competitions/uber-movement-sanral-cape-town-challenge)."
      ]
    },
    {
      "cell_type": "code",
      "metadata": {
        "id": "9Cbq_HbhsE6T",
        "colab_type": "code",
        "colab": {
          "base_uri": "https://localhost:8080/",
          "height": 276
        },
        "outputId": "b1dde8b5-6443-4432-aeb6-90a383031e11"
      },
      "source": [
        "# have a look\n",
        "data = pd.read_csv(path/'data/train.csv', \n",
        "                   parse_dates = ['Occurrence Local Date Time'])\n",
        "data.head()"
      ],
      "execution_count": null,
      "outputs": [
        {
          "output_type": "execute_result",
          "data": {
            "text/html": [
              "<div>\n",
              "<style scoped>\n",
              "    .dataframe tbody tr th:only-of-type {\n",
              "        vertical-align: middle;\n",
              "    }\n",
              "\n",
              "    .dataframe tbody tr th {\n",
              "        vertical-align: top;\n",
              "    }\n",
              "\n",
              "    .dataframe thead th {\n",
              "        text-align: right;\n",
              "    }\n",
              "</style>\n",
              "<table border=\"1\" class=\"dataframe\">\n",
              "  <thead>\n",
              "    <tr style=\"text-align: right;\">\n",
              "      <th></th>\n",
              "      <th>EventId</th>\n",
              "      <th>Occurrence Local Date Time</th>\n",
              "      <th>Reporting Agency</th>\n",
              "      <th>Cause</th>\n",
              "      <th>Subcause</th>\n",
              "      <th>Status</th>\n",
              "      <th>longitude</th>\n",
              "      <th>latitude</th>\n",
              "      <th>road_segment_id</th>\n",
              "    </tr>\n",
              "  </thead>\n",
              "  <tbody>\n",
              "    <tr>\n",
              "      <th>0</th>\n",
              "      <td>60558</td>\n",
              "      <td>2016-01-01 00:53:00</td>\n",
              "      <td>Cam</td>\n",
              "      <td>Stationary Vehicle</td>\n",
              "      <td>Vehicle On Shoulder</td>\n",
              "      <td>Closed</td>\n",
              "      <td>18.5408955032</td>\n",
              "      <td>-33.888275</td>\n",
              "      <td>S0B3CGQ</td>\n",
              "    </tr>\n",
              "    <tr>\n",
              "      <th>1</th>\n",
              "      <td>60559</td>\n",
              "      <td>2016-01-01 00:54:00</td>\n",
              "      <td>CAMERA</td>\n",
              "      <td>Accident</td>\n",
              "      <td>With A Fixed Object</td>\n",
              "      <td>Closed</td>\n",
              "      <td>18.9307563219</td>\n",
              "      <td>-34.140857</td>\n",
              "      <td>RYJYAPI</td>\n",
              "    </tr>\n",
              "    <tr>\n",
              "      <th>2</th>\n",
              "      <td>60560</td>\n",
              "      <td>2016-01-01 02:26:00</td>\n",
              "      <td>Law Enforcement</td>\n",
              "      <td>Accident</td>\n",
              "      <td>Multi Vehicle</td>\n",
              "      <td>Closed</td>\n",
              "      <td>18.5533575029</td>\n",
              "      <td>-33.959154</td>\n",
              "      <td>U3KP57C</td>\n",
              "    </tr>\n",
              "    <tr>\n",
              "      <th>3</th>\n",
              "      <td>60561</td>\n",
              "      <td>2016-01-01 02:56:00</td>\n",
              "      <td>CAMERA</td>\n",
              "      <td>Stationary Vehicle</td>\n",
              "      <td>Vehicle On Shoulder</td>\n",
              "      <td>Closed</td>\n",
              "      <td>18.6775561589</td>\n",
              "      <td>-33.895258</td>\n",
              "      <td>RY0TRQ8</td>\n",
              "    </tr>\n",
              "    <tr>\n",
              "      <th>4</th>\n",
              "      <td>60562</td>\n",
              "      <td>2016-01-01 03:40:00</td>\n",
              "      <td>CAMERA</td>\n",
              "      <td>Accident</td>\n",
              "      <td>Multi Vehicle</td>\n",
              "      <td>Closed</td>\n",
              "      <td>18.8371319682</td>\n",
              "      <td>-34.087051</td>\n",
              "      <td>8LOVJZ3</td>\n",
              "    </tr>\n",
              "  </tbody>\n",
              "</table>\n",
              "</div>"
            ],
            "text/plain": [
              "   EventId Occurrence Local Date Time  ...   latitude road_segment_id\n",
              "0    60558        2016-01-01 00:53:00  ... -33.888275         S0B3CGQ\n",
              "1    60559        2016-01-01 00:54:00  ... -34.140857         RYJYAPI\n",
              "2    60560        2016-01-01 02:26:00  ... -33.959154         U3KP57C\n",
              "3    60561        2016-01-01 02:56:00  ... -33.895258         RY0TRQ8\n",
              "4    60562        2016-01-01 03:40:00  ... -34.087051         8LOVJZ3\n",
              "\n",
              "[5 rows x 9 columns]"
            ]
          },
          "metadata": {
            "tags": []
          },
          "execution_count": 6
        }
      ]
    },
    {
      "cell_type": "code",
      "metadata": {
        "id": "l6gtbh_L78yk",
        "colab_type": "code",
        "colab": {
          "base_uri": "https://localhost:8080/",
          "height": 311
        },
        "outputId": "e7403c2e-e660-47d2-e4b3-b43d95803451"
      },
      "source": [
        "data.info()"
      ],
      "execution_count": null,
      "outputs": [
        {
          "output_type": "stream",
          "text": [
            "<class 'pandas.core.frame.DataFrame'>\n",
            "RangeIndex: 53845 entries, 0 to 53844\n",
            "Data columns (total 9 columns):\n",
            " #   Column                      Non-Null Count  Dtype         \n",
            "---  ------                      --------------  -----         \n",
            " 0   EventId                     53845 non-null  int64         \n",
            " 1   Occurrence Local Date Time  53845 non-null  datetime64[ns]\n",
            " 2   Reporting Agency            52226 non-null  object        \n",
            " 3   Cause                       53845 non-null  object        \n",
            " 4   Subcause                    53845 non-null  object        \n",
            " 5   Status                      53845 non-null  object        \n",
            " 6   longitude                   53845 non-null  object        \n",
            " 7   latitude                    53845 non-null  float64       \n",
            " 8   road_segment_id             53845 non-null  object        \n",
            "dtypes: datetime64[ns](1), float64(1), int64(1), object(6)\n",
            "memory usage: 3.7+ MB\n"
          ],
          "name": "stdout"
        }
      ]
    },
    {
      "cell_type": "code",
      "metadata": {
        "id": "undBbGPOByYi",
        "colab_type": "code",
        "colab": {
          "base_uri": "https://localhost:8080/",
          "height": 1000
        },
        "outputId": "1a7be0e6-2c80-4273-b013-1b4e62990582"
      },
      "source": [
        "# graph some columns\n",
        "fig, ax = plt.subplots(figsize=(25,25)) \n",
        "\n",
        "rd_seg = data.groupby('road_segment_id').size()\n",
        "rd_seg.plot(kind = 'bar')\n",
        "ax.set_xticklabels(rd_seg, fontsize=8, rotation=45)\n",
        "\n",
        "plt.show()"
      ],
      "execution_count": null,
      "outputs": [
        {
          "output_type": "display_data",
          "data": {
            "image/png": "[encoded data removed]",
            "text/plain": [
              "<Figure size 1800x1800 with 1 Axes>"
            ]
          },
          "metadata": {
            "tags": [],
            "needs_background": "light"
          }
        }
      ]
    },
    {
      "cell_type": "markdown",
      "metadata": {
        "id": "g_al-aGoCSm5",
        "colab_type": "text"
      },
      "source": [
        "### As expected; some roads are more dangerous than others"
      ]
    },
    {
      "cell_type": "code",
      "metadata": {
        "id": "c5qT2sWl8ThJ",
        "colab_type": "code",
        "colab": {
          "base_uri": "https://localhost:8080/",
          "height": 646
        },
        "outputId": "a331ead9-ef83-4974-db19-799e538575b5"
      },
      "source": [
        "# graph some more columns\n",
        "fig, (ax1, ax2) = plt.subplots(nrows=1, ncols=2, figsize=(11,11)) \n",
        "\n",
        "cause = data.groupby('Cause').size()\n",
        "ax1 = cause.plot(ax=ax1, kind = 'barh')\n",
        "\n",
        "Subcause = data.groupby('Subcause').size()\n",
        "ax2 = Subcause.plot(ax=ax2, kind = 'barh')\n",
        "\n",
        "fig.subplots_adjust(hspace=.5, wspace=3)\n",
        "\n",
        "plt.show()"
      ],
      "execution_count": null,
      "outputs": [
        {
          "output_type": "display_data",
          "data": {
            "image/png": "[encoded data removed]",
            "text/plain": [
              "<Figure size 792x792 with 2 Axes>"
            ]
          },
          "metadata": {
            "tags": [],
            "needs_background": "light"
          }
        }
      ]
    },
    {
      "cell_type": "code",
      "metadata": {
        "id": "QJj5r8IkB5Gt",
        "colab_type": "code",
        "colab": {
          "base_uri": "https://localhost:8080/",
          "height": 331
        },
        "outputId": "d259927f-29e7-451c-b6e9-48c6fc01d6e7"
      },
      "source": [
        "# graph some more coulmns\n",
        "fig, ((ax1,ax2),(ax3,ax4)) = plt.subplots(nrows=2, ncols=2, figsize=(13,5))\n",
        "\n",
        "data['year'] = data['Occurrence Local Date Time'].dt.year\n",
        "year = data.groupby('year').size()\n",
        "ax1 = year.plot(ax=ax1, kind = 'bar')\n",
        "#ax[0, 0].set_title('Year')\n",
        "\n",
        "data['month'] = data['Occurrence Local Date Time'].dt.month\n",
        "month = data.groupby('month').size()\n",
        "ax2 = month.plot(ax=ax2, kind = 'bar')\n",
        "\n",
        "data['day'] = data['Occurrence Local Date Time'].dt.day\n",
        "day = data.groupby('day').size()\n",
        "ax3 = day.plot(ax=ax3,kind='bar')\n",
        "\n",
        "data['hour'] = data['Occurrence Local Date Time'].dt.hour\n",
        "hour = data.groupby('hour').size()\n",
        "ax4 = hour.plot(ax=ax4, kind = 'bar')\n",
        "\n",
        "data.drop('year', axis=1, inplace=True)\n",
        "data.drop('month', axis=1, inplace=True)\n",
        "data.drop('day', axis=1, inplace=True)\n",
        "data.drop('hour', axis=1, inplace=True)\n",
        "\n",
        "fig.tight_layout(pad=3.0)\n",
        "plt.show()"
      ],
      "execution_count": null,
      "outputs": [
        {
          "output_type": "display_data",
          "data": {
            "image/png": "[encoded data removed]",
            "text/plain": [
              "<Figure size 936x360 with 4 Axes>"
            ]
          },
          "metadata": {
            "tags": [],
            "needs_background": "light"
          }
        }
      ]
    },
    {
      "cell_type": "markdown",
      "metadata": {
        "id": "6jxYDshGG0VV",
        "colab_type": "text"
      },
      "source": [
        "### I want to plot this so; convert to geopandas"
      ]
    },
    {
      "cell_type": "code",
      "metadata": {
        "id": "zrn_U-tNG4Qj",
        "colab_type": "code",
        "colab": {
          "base_uri": "https://localhost:8080/",
          "height": 484
        },
        "outputId": "9b7d7b92-6bb4-4711-9c75-d74197847c70"
      },
      "source": [
        "data[\"longitude\"] = pd.to_numeric(data[\"longitude\"])\n",
        "data[\"latitude\"] = pd.to_numeric(data[\"latitude\"])"
      ],
      "execution_count": null,
      "outputs": [
        {
          "output_type": "error",
          "ename": "ValueError",
          "evalue": "ignored",
          "traceback": [
            "\u001b[0;31m---------------------------------------------------------------------------\u001b[0m",
            "\u001b[0;31mValueError\u001b[0m                                Traceback (most recent call last)",
            "\u001b[0;32mpandas/_libs/lib.pyx\u001b[0m in \u001b[0;36mpandas._libs.lib.maybe_convert_numeric\u001b[0;34m()\u001b[0m\n",
            "\u001b[0;31mValueError\u001b[0m: Unable to parse string \"Closed\"",
            "\nDuring handling of the above exception, another exception occurred:\n",
            "\u001b[0;31mValueError\u001b[0m                                Traceback (most recent call last)",
            "\u001b[0;32m<ipython-input-25-e4d114a61619>\u001b[0m in \u001b[0;36m<module>\u001b[0;34m()\u001b[0m\n\u001b[0;32m----> 1\u001b[0;31m \u001b[0mdata\u001b[0m\u001b[0;34m[\u001b[0m\u001b[0;34m\"longitude\"\u001b[0m\u001b[0;34m]\u001b[0m \u001b[0;34m=\u001b[0m \u001b[0mpd\u001b[0m\u001b[0;34m.\u001b[0m\u001b[0mto_numeric\u001b[0m\u001b[0;34m(\u001b[0m\u001b[0mdata\u001b[0m\u001b[0;34m[\u001b[0m\u001b[0;34m\"longitude\"\u001b[0m\u001b[0;34m]\u001b[0m\u001b[0;34m)\u001b[0m\u001b[0;34m\u001b[0m\u001b[0;34m\u001b[0m\u001b[0m\n\u001b[0m\u001b[1;32m      2\u001b[0m \u001b[0mdata\u001b[0m\u001b[0;34m[\u001b[0m\u001b[0;34m\"latitude\"\u001b[0m\u001b[0;34m]\u001b[0m \u001b[0;34m=\u001b[0m \u001b[0mpd\u001b[0m\u001b[0;34m.\u001b[0m\u001b[0mto_numeric\u001b[0m\u001b[0;34m(\u001b[0m\u001b[0mdata\u001b[0m\u001b[0;34m[\u001b[0m\u001b[0;34m\"latitude\"\u001b[0m\u001b[0;34m]\u001b[0m\u001b[0;34m)\u001b[0m\u001b[0;34m\u001b[0m\u001b[0;34m\u001b[0m\u001b[0m\n",
            "\u001b[0;32m/usr/local/lib/python3.6/dist-packages/pandas/core/tools/numeric.py\u001b[0m in \u001b[0;36mto_numeric\u001b[0;34m(arg, errors, downcast)\u001b[0m\n\u001b[1;32m    148\u001b[0m         \u001b[0;32mtry\u001b[0m\u001b[0;34m:\u001b[0m\u001b[0;34m\u001b[0m\u001b[0;34m\u001b[0m\u001b[0m\n\u001b[1;32m    149\u001b[0m             values = lib.maybe_convert_numeric(\n\u001b[0;32m--> 150\u001b[0;31m                 \u001b[0mvalues\u001b[0m\u001b[0;34m,\u001b[0m \u001b[0mset\u001b[0m\u001b[0;34m(\u001b[0m\u001b[0;34m)\u001b[0m\u001b[0;34m,\u001b[0m \u001b[0mcoerce_numeric\u001b[0m\u001b[0;34m=\u001b[0m\u001b[0mcoerce_numeric\u001b[0m\u001b[0;34m\u001b[0m\u001b[0;34m\u001b[0m\u001b[0m\n\u001b[0m\u001b[1;32m    151\u001b[0m             )\n\u001b[1;32m    152\u001b[0m         \u001b[0;32mexcept\u001b[0m \u001b[0;34m(\u001b[0m\u001b[0mValueError\u001b[0m\u001b[0;34m,\u001b[0m \u001b[0mTypeError\u001b[0m\u001b[0;34m)\u001b[0m\u001b[0;34m:\u001b[0m\u001b[0;34m\u001b[0m\u001b[0;34m\u001b[0m\u001b[0m\n",
            "\u001b[0;32mpandas/_libs/lib.pyx\u001b[0m in \u001b[0;36mpandas._libs.lib.maybe_convert_numeric\u001b[0;34m()\u001b[0m\n",
            "\u001b[0;31mValueError\u001b[0m: Unable to parse string \"Closed\" at position 16693"
          ]
        }
      ]
    },
    {
      "cell_type": "markdown",
      "metadata": {
        "id": "4Eaooe63G9Wl",
        "colab_type": "text"
      },
      "source": [
        "### Why did this happen? Somethings wrong with this data."
      ]
    },
    {
      "cell_type": "code",
      "metadata": {
        "id": "-COI1bGrG8f9",
        "colab_type": "code",
        "colab": {
          "base_uri": "https://localhost:8080/",
          "height": 201
        },
        "outputId": "080064db-dfce-4cb1-f787-55b9df9c026d"
      },
      "source": [
        "#look at the index where this happened\n",
        "print(data.loc[16693])"
      ],
      "execution_count": null,
      "outputs": [
        {
          "output_type": "stream",
          "text": [
            "EventId                                     88632\n",
            "Occurrence Local Date Time    2016-09-12 04:45:00\n",
            "Reporting Agency                              NaN\n",
            "Cause                                         Cam\n",
            "Subcause                                 Accident\n",
            "Status                             Single Vehicle\n",
            "longitude                                  Closed\n",
            "latitude                                  18.5642\n",
            "road_segment_id                    -33.9622761744\n",
            "Name: 16693, dtype: object\n"
          ],
          "name": "stdout"
        }
      ]
    },
    {
      "cell_type": "markdown",
      "metadata": {
        "id": "8Eo_umB9HFQy",
        "colab_type": "text"
      },
      "source": [
        "#### We see that the longitude and latitude are in the wrong columns. This is  likely to have happened more than once."
      ]
    },
    {
      "cell_type": "code",
      "metadata": {
        "id": "WmExb26fsE9K",
        "colab_type": "code",
        "colab": {}
      },
      "source": [
        "data.rename(columns={'Reporting Agency': 'Reporting_Agency'}, inplace=True)"
      ],
      "execution_count": null,
      "outputs": []
    },
    {
      "cell_type": "code",
      "metadata": {
        "id": "tYFY59oisFAB",
        "colab_type": "code",
        "colab": {}
      },
      "source": [
        "def transform_row(r):\n",
        "    '''\n",
        "    Define a function to move cells along the same row when 'Closed' appears in ['longitude']\n",
        "    '''\n",
        "    if r.longitude == 'Closed':\n",
        "        r.Reporting_Agency = r.Cause\n",
        "        r.Cause = r.Subcause\n",
        "        r.Subcause = r.Status\n",
        "        r.Status = r.longitude\n",
        "        r.longitude = r.latitude\n",
        "        r.latitude = r.road_segment_id\n",
        "        r.road_segment_id = np.nan\n",
        "    return r"
      ],
      "execution_count": null,
      "outputs": []
    },
    {
      "cell_type": "code",
      "metadata": {
        "id": "BwDCGTmesFDI",
        "colab_type": "code",
        "colab": {}
      },
      "source": [
        "data = data.apply(transform_row, axis=1)"
      ],
      "execution_count": null,
      "outputs": []
    },
    {
      "cell_type": "code",
      "metadata": {
        "id": "OnJrQ4qxHTBe",
        "colab_type": "code",
        "colab": {
          "base_uri": "https://localhost:8080/",
          "height": 201
        },
        "outputId": "6573cb2a-cb0d-441d-c0ef-676805c05d5d"
      },
      "source": [
        "data.isna().sum()"
      ],
      "execution_count": null,
      "outputs": [
        {
          "output_type": "execute_result",
          "data": {
            "text/plain": [
              "EventId                          0\n",
              "Occurrence Local Date Time       0\n",
              "Reporting_Agency              1614\n",
              "Cause                            0\n",
              "Subcause                         0\n",
              "Status                           0\n",
              "longitude                        0\n",
              "latitude                         0\n",
              "road_segment_id                  5\n",
              "dtype: int64"
            ]
          },
          "metadata": {
            "tags": []
          },
          "execution_count": 15
        }
      ]
    },
    {
      "cell_type": "markdown",
      "metadata": {
        "id": "RgrgmeHgHUAe",
        "colab_type": "text"
      },
      "source": [
        "### It happended 5 times; but its better than deleting 1614 rows."
      ]
    },
    {
      "cell_type": "code",
      "metadata": {
        "id": "NVAO-ydmsFGj",
        "colab_type": "code",
        "colab": {}
      },
      "source": [
        "# we don't need the Reporting Agency so leave that\n",
        "data.dropna(subset=['road_segment_id'],inplace=True)"
      ],
      "execution_count": null,
      "outputs": []
    },
    {
      "cell_type": "markdown",
      "metadata": {
        "id": "AcrakdHvHeUb",
        "colab_type": "text"
      },
      "source": [
        "##### Lets try again"
      ]
    },
    {
      "cell_type": "code",
      "metadata": {
        "id": "W2B0w6jLsFKR",
        "colab_type": "code",
        "colab": {}
      },
      "source": [
        "data[\"longitude\"] = pd.to_numeric(data[\"longitude\"])\n",
        "data[\"latitude\"] = pd.to_numeric(data[\"latitude\"])"
      ],
      "execution_count": null,
      "outputs": []
    },
    {
      "cell_type": "code",
      "metadata": {
        "id": "E_7d4Uqq8efi",
        "colab_type": "code",
        "colab": {
          "base_uri": "https://localhost:8080/",
          "height": 397
        },
        "outputId": "33c0797e-244b-4e76-99ec-b129f286020d"
      },
      "source": [
        "geodata = gpd.GeoDataFrame(data, geometry=gpd.points_from_xy(data.longitude, data.latitude))\n",
        "geodata.head()"
      ],
      "execution_count": null,
      "outputs": [
        {
          "output_type": "execute_result",
          "data": {
            "text/html": [
              "<div>\n",
              "<style scoped>\n",
              "    .dataframe tbody tr th:only-of-type {\n",
              "        vertical-align: middle;\n",
              "    }\n",
              "\n",
              "    .dataframe tbody tr th {\n",
              "        vertical-align: top;\n",
              "    }\n",
              "\n",
              "    .dataframe thead th {\n",
              "        text-align: right;\n",
              "    }\n",
              "</style>\n",
              "<table border=\"1\" class=\"dataframe\">\n",
              "  <thead>\n",
              "    <tr style=\"text-align: right;\">\n",
              "      <th></th>\n",
              "      <th>EventId</th>\n",
              "      <th>Occurrence Local Date Time</th>\n",
              "      <th>Reporting_Agency</th>\n",
              "      <th>Cause</th>\n",
              "      <th>Subcause</th>\n",
              "      <th>Status</th>\n",
              "      <th>longitude</th>\n",
              "      <th>latitude</th>\n",
              "      <th>road_segment_id</th>\n",
              "      <th>geometry</th>\n",
              "    </tr>\n",
              "  </thead>\n",
              "  <tbody>\n",
              "    <tr>\n",
              "      <th>0</th>\n",
              "      <td>60558</td>\n",
              "      <td>2016-01-01 00:53:00</td>\n",
              "      <td>Cam</td>\n",
              "      <td>Stationary Vehicle</td>\n",
              "      <td>Vehicle On Shoulder</td>\n",
              "      <td>Closed</td>\n",
              "      <td>18.540896</td>\n",
              "      <td>-33.888275</td>\n",
              "      <td>S0B3CGQ</td>\n",
              "      <td>POINT (18.54090 -33.88827)</td>\n",
              "    </tr>\n",
              "    <tr>\n",
              "      <th>1</th>\n",
              "      <td>60559</td>\n",
              "      <td>2016-01-01 00:54:00</td>\n",
              "      <td>CAMERA</td>\n",
              "      <td>Accident</td>\n",
              "      <td>With A Fixed Object</td>\n",
              "      <td>Closed</td>\n",
              "      <td>18.930756</td>\n",
              "      <td>-34.140857</td>\n",
              "      <td>RYJYAPI</td>\n",
              "      <td>POINT (18.93076 -34.14086)</td>\n",
              "    </tr>\n",
              "    <tr>\n",
              "      <th>2</th>\n",
              "      <td>60560</td>\n",
              "      <td>2016-01-01 02:26:00</td>\n",
              "      <td>Law Enforcement</td>\n",
              "      <td>Accident</td>\n",
              "      <td>Multi Vehicle</td>\n",
              "      <td>Closed</td>\n",
              "      <td>18.553358</td>\n",
              "      <td>-33.959154</td>\n",
              "      <td>U3KP57C</td>\n",
              "      <td>POINT (18.55336 -33.95915)</td>\n",
              "    </tr>\n",
              "    <tr>\n",
              "      <th>3</th>\n",
              "      <td>60561</td>\n",
              "      <td>2016-01-01 02:56:00</td>\n",
              "      <td>CAMERA</td>\n",
              "      <td>Stationary Vehicle</td>\n",
              "      <td>Vehicle On Shoulder</td>\n",
              "      <td>Closed</td>\n",
              "      <td>18.677556</td>\n",
              "      <td>-33.895258</td>\n",
              "      <td>RY0TRQ8</td>\n",
              "      <td>POINT (18.67756 -33.89526)</td>\n",
              "    </tr>\n",
              "    <tr>\n",
              "      <th>4</th>\n",
              "      <td>60562</td>\n",
              "      <td>2016-01-01 03:40:00</td>\n",
              "      <td>CAMERA</td>\n",
              "      <td>Accident</td>\n",
              "      <td>Multi Vehicle</td>\n",
              "      <td>Closed</td>\n",
              "      <td>18.837132</td>\n",
              "      <td>-34.087051</td>\n",
              "      <td>8LOVJZ3</td>\n",
              "      <td>POINT (18.83713 -34.08705)</td>\n",
              "    </tr>\n",
              "  </tbody>\n",
              "</table>\n",
              "</div>"
            ],
            "text/plain": [
              "   EventId  ...                    geometry\n",
              "0    60558  ...  POINT (18.54090 -33.88827)\n",
              "1    60559  ...  POINT (18.93076 -34.14086)\n",
              "2    60560  ...  POINT (18.55336 -33.95915)\n",
              "3    60561  ...  POINT (18.67756 -33.89526)\n",
              "4    60562  ...  POINT (18.83713 -34.08705)\n",
              "\n",
              "[5 rows x 10 columns]"
            ]
          },
          "metadata": {
            "tags": []
          },
          "execution_count": 18
        }
      ]
    },
    {
      "cell_type": "code",
      "metadata": {
        "id": "3vyFYzZoHs-j",
        "colab_type": "code",
        "colab": {}
      },
      "source": [
        "#load the road_segments\n",
        "road_segments = gpd.read_file(path/'data/road_segments.shp')"
      ],
      "execution_count": null,
      "outputs": []
    },
    {
      "cell_type": "code",
      "metadata": {
        "id": "Rv2p54fGsKSx",
        "colab_type": "code",
        "colab": {
          "base_uri": "https://localhost:8080/",
          "height": 293
        },
        "outputId": "ec43ce3d-afd5-4a33-d603-61a49e453ce3"
      },
      "source": [
        "road_segments.head()"
      ],
      "execution_count": null,
      "outputs": [
        {
          "output_type": "execute_result",
          "data": {
            "text/html": [
              "<div>\n",
              "<style scoped>\n",
              "    .dataframe tbody tr th:only-of-type {\n",
              "        vertical-align: middle;\n",
              "    }\n",
              "\n",
              "    .dataframe tbody tr th {\n",
              "        vertical-align: top;\n",
              "    }\n",
              "\n",
              "    .dataframe thead th {\n",
              "        text-align: right;\n",
              "    }\n",
              "</style>\n",
              "<table border=\"1\" class=\"dataframe\">\n",
              "  <thead>\n",
              "    <tr style=\"text-align: right;\">\n",
              "      <th></th>\n",
              "      <th>ROADNO</th>\n",
              "      <th>CLASS</th>\n",
              "      <th>REGION</th>\n",
              "      <th>WIDTH</th>\n",
              "      <th>LANES</th>\n",
              "      <th>SURFTYPE</th>\n",
              "      <th>PAVETYPE</th>\n",
              "      <th>CONDITION</th>\n",
              "      <th>length_1</th>\n",
              "      <th>segment_id</th>\n",
              "      <th>geometry</th>\n",
              "    </tr>\n",
              "  </thead>\n",
              "  <tbody>\n",
              "    <tr>\n",
              "      <th>0</th>\n",
              "      <td>R300</td>\n",
              "      <td>Primary</td>\n",
              "      <td>Western Cape</td>\n",
              "      <td>20.2</td>\n",
              "      <td>2</td>\n",
              "      <td>Paved</td>\n",
              "      <td>FLEX</td>\n",
              "      <td>Good</td>\n",
              "      <td>471.207</td>\n",
              "      <td>D1U6OOF</td>\n",
              "      <td>LINESTRING (18.65262 -33.97724, 18.65264 -33.9...</td>\n",
              "    </tr>\n",
              "    <tr>\n",
              "      <th>1</th>\n",
              "      <td>R300</td>\n",
              "      <td>Primary</td>\n",
              "      <td>Western Cape</td>\n",
              "      <td>20.2</td>\n",
              "      <td>2</td>\n",
              "      <td>Paved</td>\n",
              "      <td>FLEX</td>\n",
              "      <td>Good</td>\n",
              "      <td>471.207</td>\n",
              "      <td>NG4X2MD</td>\n",
              "      <td>LINESTRING (18.65347 -33.97309, 18.65347 -33.9...</td>\n",
              "    </tr>\n",
              "    <tr>\n",
              "      <th>2</th>\n",
              "      <td>R300</td>\n",
              "      <td>Primary</td>\n",
              "      <td>Western Cape</td>\n",
              "      <td>20.2</td>\n",
              "      <td>2</td>\n",
              "      <td>Paved</td>\n",
              "      <td>FLEX</td>\n",
              "      <td>Good</td>\n",
              "      <td>471.207</td>\n",
              "      <td>792705Z</td>\n",
              "      <td>LINESTRING (18.65431 -33.96894, 18.65432 -33.9...</td>\n",
              "    </tr>\n",
              "    <tr>\n",
              "      <th>3</th>\n",
              "      <td>R300</td>\n",
              "      <td>Primary</td>\n",
              "      <td>Western Cape</td>\n",
              "      <td>20.2</td>\n",
              "      <td>2</td>\n",
              "      <td>Paved</td>\n",
              "      <td>FLEX</td>\n",
              "      <td>Good</td>\n",
              "      <td>471.207</td>\n",
              "      <td>IK67XHB</td>\n",
              "      <td>LINESTRING (18.65515 -33.96480, 18.65517 -33.9...</td>\n",
              "    </tr>\n",
              "    <tr>\n",
              "      <th>4</th>\n",
              "      <td>R300</td>\n",
              "      <td>Primary</td>\n",
              "      <td>Western Cape</td>\n",
              "      <td>20.2</td>\n",
              "      <td>2</td>\n",
              "      <td>Paved</td>\n",
              "      <td>FLEX</td>\n",
              "      <td>Good</td>\n",
              "      <td>471.207</td>\n",
              "      <td>OWCF2MH</td>\n",
              "      <td>LINESTRING (18.65600 -33.96065, 18.65602 -33.9...</td>\n",
              "    </tr>\n",
              "  </tbody>\n",
              "</table>\n",
              "</div>"
            ],
            "text/plain": [
              "  ROADNO    CLASS  ... segment_id                                           geometry\n",
              "0   R300  Primary  ...    D1U6OOF  LINESTRING (18.65262 -33.97724, 18.65264 -33.9...\n",
              "1   R300  Primary  ...    NG4X2MD  LINESTRING (18.65347 -33.97309, 18.65347 -33.9...\n",
              "2   R300  Primary  ...    792705Z  LINESTRING (18.65431 -33.96894, 18.65432 -33.9...\n",
              "3   R300  Primary  ...    IK67XHB  LINESTRING (18.65515 -33.96480, 18.65517 -33.9...\n",
              "4   R300  Primary  ...    OWCF2MH  LINESTRING (18.65600 -33.96065, 18.65602 -33.9...\n",
              "\n",
              "[5 rows x 11 columns]"
            ]
          },
          "metadata": {
            "tags": []
          },
          "execution_count": 23
        }
      ]
    },
    {
      "cell_type": "code",
      "metadata": {
        "id": "K4o-oOQbHwkW",
        "colab_type": "code",
        "colab": {
          "base_uri": "https://localhost:8080/",
          "height": 289
        },
        "outputId": "226f897a-4e32-435e-e43c-6f5b833d964e"
      },
      "source": [
        "# plot\n",
        "fig, (ax1,ax2) = plt.subplots(nrows=1, ncols=2, figsize=(15,15)) \n",
        "\n",
        "ax1 = road_segments.plot(ax=ax1, column='segment_id', cmap='viridis')\n",
        "ax1.set_title('Road Segments')\n",
        "\n",
        "ax2 = geodata.plot(ax=ax2, marker=#'.', markersize = 8, column='Cause', cmap='cool')\n",
        "ax2.set_title('Events')\n",
        "plt.show()"
      ],
      "execution_count": null,
      "outputs": [
        {
          "output_type": "display_data",
          "data": {
            "image/png": "[encoded data removed]",
            "text/plain": [
              "<Figure size 1080x1080 with 2 Axes>"
            ]
          },
          "metadata": {
            "tags": [],
            "needs_background": "light"
          }
        }
      ]
    },
    {
      "cell_type": "markdown",
      "metadata": {
        "id": "HTtAw6ZYtH53",
        "colab_type": "text"
      },
      "source": [
        "#### Add a new column that represents the curvature of the road ```geometry```"
      ]
    },
    {
      "cell_type": "code",
      "metadata": {
        "id": "_jCMeI-StInC",
        "colab_type": "code",
        "colab": {
          "base_uri": "https://localhost:8080/",
          "height": 143
        },
        "outputId": "df54de9d-07c3-47f9-aee5-371b5bd88b99"
      },
      "source": [
        "# harvest the mean locations of the road segments - as the competition is defined as \"per 500-meter segment\"\n",
        "locations = data.groupby('road_segment_id').mean()[['longitude', 'latitude']]\n",
        "locations.head(2)"
      ],
      "execution_count": null,
      "outputs": [
        {
          "output_type": "execute_result",
          "data": {
            "text/html": [
              "<div>\n",
              "<style scoped>\n",
              "    .dataframe tbody tr th:only-of-type {\n",
              "        vertical-align: middle;\n",
              "    }\n",
              "\n",
              "    .dataframe tbody tr th {\n",
              "        vertical-align: top;\n",
              "    }\n",
              "\n",
              "    .dataframe thead th {\n",
              "        text-align: right;\n",
              "    }\n",
              "</style>\n",
              "<table border=\"1\" class=\"dataframe\">\n",
              "  <thead>\n",
              "    <tr style=\"text-align: right;\">\n",
              "      <th></th>\n",
              "      <th>longitude</th>\n",
              "      <th>latitude</th>\n",
              "    </tr>\n",
              "    <tr>\n",
              "      <th>road_segment_id</th>\n",
              "      <th></th>\n",
              "      <th></th>\n",
              "    </tr>\n",
              "  </thead>\n",
              "  <tbody>\n",
              "    <tr>\n",
              "      <th>03RHJ3G</th>\n",
              "      <td>18.460052</td>\n",
              "      <td>-33.943181</td>\n",
              "    </tr>\n",
              "    <tr>\n",
              "      <th>044ZYVD</th>\n",
              "      <td>18.555037</td>\n",
              "      <td>-33.890148</td>\n",
              "    </tr>\n",
              "  </tbody>\n",
              "</table>\n",
              "</div>"
            ],
            "text/plain": [
              "                 longitude   latitude\n",
              "road_segment_id                      \n",
              "03RHJ3G          18.460052 -33.943181\n",
              "044ZYVD          18.555037 -33.890148"
            ]
          },
          "metadata": {
            "tags": []
          },
          "execution_count": 13
        }
      ]
    },
    {
      "cell_type": "markdown",
      "metadata": {
        "id": "aQwDi1TuIW0d",
        "colab_type": "text"
      },
      "source": [
        "### Now we format, split the data into ```train``` and ```test``` sets and merge.\n",
        "\n",
        "\n",
        "> NOTE: To overcome any ```out-of-memory``` challenges because of large file size, and because I'm on a shoestring budget but want to learn, I'm training on a years data and testing on three months."
      ]
    },
    {
      "cell_type": "code",
      "metadata": {
        "id": "Vky6R7KGtIqZ",
        "colab_type": "code",
        "colab": {}
      },
      "source": [
        "# Train on 2017\n",
        "train = data.loc[data['Occurrence Local Date Time'] < '2018-01-01']\n",
        "train = train.loc[train['Occurrence Local Date Time'] >= '2017-01-01']\n",
        "\n",
        "# Test locally on the last part of 2018\n",
        "local_test = data.loc[data['Occurrence Local Date Time'] < '2019-01-01']\n",
        "local_test = local_test.loc[local_test['Occurrence Local Date Time'] >= '2018-09-01']"
      ],
      "execution_count": null,
      "outputs": []
    },
    {
      "cell_type": "code",
      "metadata": {
        "id": "iR17JEANtIuR",
        "colab_type": "code",
        "colab": {
          "base_uri": "https://localhost:8080/",
          "height": 342
        },
        "outputId": "0d1ae3a1-56fc-4a65-cc25-0ae2e58f7627"
      },
      "source": [
        "# Create a dataframe with a column for each segment_id (sid)\n",
        "# Each row represents an hour.\n",
        "\n",
        "sids = data['road_segment_id'].unique()\n",
        "\n",
        "dts = pd.date_range('2017-01-01',\n",
        "                    '2018-01-01',\n",
        "                    freq=\"1h\")\n",
        "tr = pd.DataFrame({'datetime':dts})\n",
        "\n",
        "for sid in sids:\n",
        "    tr[str(sid)] = 0\n",
        "    events = train.loc[train['road_segment_id'] == sid]\n",
        "    dts = events['Occurrence Local Date Time'].dt.round('H')\n",
        "    dates = dts.astype(str).unique()\n",
        "    tr.loc[tr['datetime'].isin(dates), sid] = 1\n",
        "tr.head()"
      ],
      "execution_count": null,
      "outputs": [
        {
          "output_type": "execute_result",
          "data": {
            "text/html": [
              "<div>\n",
              "<style scoped>\n",
              "    .dataframe tbody tr th:only-of-type {\n",
              "        vertical-align: middle;\n",
              "    }\n",
              "\n",
              "    .dataframe tbody tr th {\n",
              "        vertical-align: top;\n",
              "    }\n",
              "\n",
              "    .dataframe thead th {\n",
              "        text-align: right;\n",
              "    }\n",
              "</style>\n",
              "<table border=\"1\" class=\"dataframe\">\n",
              "  <thead>\n",
              "    <tr style=\"text-align: right;\">\n",
              "      <th></th>\n",
              "      <th>datetime</th>\n",
              "      <th>S0B3CGQ</th>\n",
              "      <th>RYJYAPI</th>\n",
              "      <th>U3KP57C</th>\n",
              "      <th>RY0TRQ8</th>\n",
              "      <th>8LOVJZ3</th>\n",
              "      <th>X4UA382</th>\n",
              "      <th>0QR8FDW</th>\n",
              "      <th>DZABHQW</th>\n",
              "      <th>EKZN1VM</th>\n",
              "      <th>H9XYX9Q</th>\n",
              "      <th>03RHJ3G</th>\n",
              "      <th>FTX7LB8</th>\n",
              "      <th>Q03FQ74</th>\n",
              "      <th>5AC6YRF</th>\n",
              "      <th>1RWEBRU</th>\n",
              "      <th>DCB3LQM</th>\n",
              "      <th>HN83F3L</th>\n",
              "      <th>SPPGKO2</th>\n",
              "      <th>C1ERJ22</th>\n",
              "      <th>AJRKP0C</th>\n",
              "      <th>UUZT4OE</th>\n",
              "      <th>WAC029P</th>\n",
              "      <th>JT4HGZ2</th>\n",
              "      <th>8Z5P9T1</th>\n",
              "      <th>UAXX1ZE</th>\n",
              "      <th>74A6FL0</th>\n",
              "      <th>2M1UBKJ</th>\n",
              "      <th>E5D3KEB</th>\n",
              "      <th>NQSL7FX</th>\n",
              "      <th>S200A1J</th>\n",
              "      <th>ETFFDX5</th>\n",
              "      <th>R6JUSZT</th>\n",
              "      <th>EDXK0HP</th>\n",
              "      <th>N5NO82G</th>\n",
              "      <th>5DHNI4S</th>\n",
              "      <th>VUYACXV</th>\n",
              "      <th>VMCY8BI</th>\n",
              "      <th>927BHUF</th>\n",
              "      <th>3MW0MN9</th>\n",
              "      <th>...</th>\n",
              "      <th>J8FAZRB</th>\n",
              "      <th>P66KAPS</th>\n",
              "      <th>CJJI1XY</th>\n",
              "      <th>K3N8ADC</th>\n",
              "      <th>SG89YSS</th>\n",
              "      <th>XYFQJ1Q</th>\n",
              "      <th>QTT8QNT</th>\n",
              "      <th>LC8FONX</th>\n",
              "      <th>WJXP54Z</th>\n",
              "      <th>GVQD9D6</th>\n",
              "      <th>64QSPWU</th>\n",
              "      <th>LRCHHQJ</th>\n",
              "      <th>Q2HCM1O</th>\n",
              "      <th>F055OA5</th>\n",
              "      <th>SY568EU</th>\n",
              "      <th>QBSA1OR</th>\n",
              "      <th>8YJIRQ2</th>\n",
              "      <th>KVOVDD8</th>\n",
              "      <th>H983665</th>\n",
              "      <th>7T2W8WU</th>\n",
              "      <th>4NSOFJG</th>\n",
              "      <th>4UAL23D</th>\n",
              "      <th>956JU5F</th>\n",
              "      <th>B8NRA4K</th>\n",
              "      <th>PH8DIYU</th>\n",
              "      <th>F47NAGJ</th>\n",
              "      <th>1NG8I9K</th>\n",
              "      <th>ZP9STNM</th>\n",
              "      <th>D3349RH</th>\n",
              "      <th>E4L0I98</th>\n",
              "      <th>YVR8GT6</th>\n",
              "      <th>ZAVM3PJ</th>\n",
              "      <th>DS4NLQE</th>\n",
              "      <th>HR19LL7</th>\n",
              "      <th>1451FOG</th>\n",
              "      <th>2ON8NSO</th>\n",
              "      <th>NFUEAN5</th>\n",
              "      <th>4T821GV</th>\n",
              "      <th>J6A19TW</th>\n",
              "      <th>43RCYZH</th>\n",
              "    </tr>\n",
              "  </thead>\n",
              "  <tbody>\n",
              "    <tr>\n",
              "      <th>0</th>\n",
              "      <td>2017-01-01 00:00:00</td>\n",
              "      <td>0</td>\n",
              "      <td>0</td>\n",
              "      <td>0</td>\n",
              "      <td>0</td>\n",
              "      <td>0</td>\n",
              "      <td>0</td>\n",
              "      <td>0</td>\n",
              "      <td>0</td>\n",
              "      <td>0</td>\n",
              "      <td>0</td>\n",
              "      <td>0</td>\n",
              "      <td>0</td>\n",
              "      <td>0</td>\n",
              "      <td>0</td>\n",
              "      <td>0</td>\n",
              "      <td>0</td>\n",
              "      <td>0</td>\n",
              "      <td>0</td>\n",
              "      <td>0</td>\n",
              "      <td>0</td>\n",
              "      <td>0</td>\n",
              "      <td>0</td>\n",
              "      <td>0</td>\n",
              "      <td>0</td>\n",
              "      <td>0</td>\n",
              "      <td>0</td>\n",
              "      <td>0</td>\n",
              "      <td>0</td>\n",
              "      <td>0</td>\n",
              "      <td>0</td>\n",
              "      <td>0</td>\n",
              "      <td>0</td>\n",
              "      <td>0</td>\n",
              "      <td>0</td>\n",
              "      <td>0</td>\n",
              "      <td>0</td>\n",
              "      <td>0</td>\n",
              "      <td>0</td>\n",
              "      <td>0</td>\n",
              "      <td>...</td>\n",
              "      <td>0</td>\n",
              "      <td>0</td>\n",
              "      <td>0</td>\n",
              "      <td>0</td>\n",
              "      <td>0</td>\n",
              "      <td>0</td>\n",
              "      <td>0</td>\n",
              "      <td>0</td>\n",
              "      <td>0</td>\n",
              "      <td>0</td>\n",
              "      <td>0</td>\n",
              "      <td>0</td>\n",
              "      <td>0</td>\n",
              "      <td>0</td>\n",
              "      <td>0</td>\n",
              "      <td>0</td>\n",
              "      <td>0</td>\n",
              "      <td>0</td>\n",
              "      <td>0</td>\n",
              "      <td>0</td>\n",
              "      <td>0</td>\n",
              "      <td>0</td>\n",
              "      <td>0</td>\n",
              "      <td>0</td>\n",
              "      <td>0</td>\n",
              "      <td>0</td>\n",
              "      <td>0</td>\n",
              "      <td>0</td>\n",
              "      <td>0</td>\n",
              "      <td>0</td>\n",
              "      <td>0</td>\n",
              "      <td>0</td>\n",
              "      <td>0</td>\n",
              "      <td>0</td>\n",
              "      <td>0</td>\n",
              "      <td>0</td>\n",
              "      <td>0</td>\n",
              "      <td>0</td>\n",
              "      <td>0</td>\n",
              "      <td>0</td>\n",
              "    </tr>\n",
              "    <tr>\n",
              "      <th>1</th>\n",
              "      <td>2017-01-01 01:00:00</td>\n",
              "      <td>0</td>\n",
              "      <td>0</td>\n",
              "      <td>0</td>\n",
              "      <td>0</td>\n",
              "      <td>0</td>\n",
              "      <td>0</td>\n",
              "      <td>0</td>\n",
              "      <td>0</td>\n",
              "      <td>0</td>\n",
              "      <td>0</td>\n",
              "      <td>0</td>\n",
              "      <td>0</td>\n",
              "      <td>0</td>\n",
              "      <td>0</td>\n",
              "      <td>0</td>\n",
              "      <td>0</td>\n",
              "      <td>0</td>\n",
              "      <td>0</td>\n",
              "      <td>0</td>\n",
              "      <td>0</td>\n",
              "      <td>0</td>\n",
              "      <td>0</td>\n",
              "      <td>0</td>\n",
              "      <td>0</td>\n",
              "      <td>0</td>\n",
              "      <td>0</td>\n",
              "      <td>0</td>\n",
              "      <td>0</td>\n",
              "      <td>0</td>\n",
              "      <td>0</td>\n",
              "      <td>0</td>\n",
              "      <td>0</td>\n",
              "      <td>0</td>\n",
              "      <td>0</td>\n",
              "      <td>0</td>\n",
              "      <td>0</td>\n",
              "      <td>0</td>\n",
              "      <td>0</td>\n",
              "      <td>0</td>\n",
              "      <td>...</td>\n",
              "      <td>0</td>\n",
              "      <td>0</td>\n",
              "      <td>0</td>\n",
              "      <td>0</td>\n",
              "      <td>0</td>\n",
              "      <td>0</td>\n",
              "      <td>0</td>\n",
              "      <td>0</td>\n",
              "      <td>0</td>\n",
              "      <td>0</td>\n",
              "      <td>0</td>\n",
              "      <td>0</td>\n",
              "      <td>0</td>\n",
              "      <td>0</td>\n",
              "      <td>0</td>\n",
              "      <td>0</td>\n",
              "      <td>0</td>\n",
              "      <td>0</td>\n",
              "      <td>0</td>\n",
              "      <td>0</td>\n",
              "      <td>0</td>\n",
              "      <td>0</td>\n",
              "      <td>0</td>\n",
              "      <td>0</td>\n",
              "      <td>0</td>\n",
              "      <td>0</td>\n",
              "      <td>0</td>\n",
              "      <td>0</td>\n",
              "      <td>0</td>\n",
              "      <td>0</td>\n",
              "      <td>0</td>\n",
              "      <td>0</td>\n",
              "      <td>0</td>\n",
              "      <td>0</td>\n",
              "      <td>0</td>\n",
              "      <td>0</td>\n",
              "      <td>0</td>\n",
              "      <td>0</td>\n",
              "      <td>0</td>\n",
              "      <td>0</td>\n",
              "    </tr>\n",
              "    <tr>\n",
              "      <th>2</th>\n",
              "      <td>2017-01-01 02:00:00</td>\n",
              "      <td>0</td>\n",
              "      <td>0</td>\n",
              "      <td>0</td>\n",
              "      <td>0</td>\n",
              "      <td>0</td>\n",
              "      <td>0</td>\n",
              "      <td>0</td>\n",
              "      <td>0</td>\n",
              "      <td>0</td>\n",
              "      <td>0</td>\n",
              "      <td>0</td>\n",
              "      <td>0</td>\n",
              "      <td>0</td>\n",
              "      <td>0</td>\n",
              "      <td>0</td>\n",
              "      <td>0</td>\n",
              "      <td>0</td>\n",
              "      <td>0</td>\n",
              "      <td>0</td>\n",
              "      <td>0</td>\n",
              "      <td>0</td>\n",
              "      <td>0</td>\n",
              "      <td>0</td>\n",
              "      <td>0</td>\n",
              "      <td>0</td>\n",
              "      <td>0</td>\n",
              "      <td>0</td>\n",
              "      <td>0</td>\n",
              "      <td>0</td>\n",
              "      <td>0</td>\n",
              "      <td>0</td>\n",
              "      <td>0</td>\n",
              "      <td>0</td>\n",
              "      <td>0</td>\n",
              "      <td>0</td>\n",
              "      <td>0</td>\n",
              "      <td>0</td>\n",
              "      <td>0</td>\n",
              "      <td>0</td>\n",
              "      <td>...</td>\n",
              "      <td>0</td>\n",
              "      <td>0</td>\n",
              "      <td>0</td>\n",
              "      <td>0</td>\n",
              "      <td>0</td>\n",
              "      <td>0</td>\n",
              "      <td>0</td>\n",
              "      <td>0</td>\n",
              "      <td>0</td>\n",
              "      <td>0</td>\n",
              "      <td>0</td>\n",
              "      <td>0</td>\n",
              "      <td>0</td>\n",
              "      <td>0</td>\n",
              "      <td>0</td>\n",
              "      <td>0</td>\n",
              "      <td>0</td>\n",
              "      <td>0</td>\n",
              "      <td>0</td>\n",
              "      <td>0</td>\n",
              "      <td>0</td>\n",
              "      <td>0</td>\n",
              "      <td>0</td>\n",
              "      <td>0</td>\n",
              "      <td>0</td>\n",
              "      <td>0</td>\n",
              "      <td>0</td>\n",
              "      <td>0</td>\n",
              "      <td>0</td>\n",
              "      <td>0</td>\n",
              "      <td>0</td>\n",
              "      <td>0</td>\n",
              "      <td>0</td>\n",
              "      <td>0</td>\n",
              "      <td>0</td>\n",
              "      <td>0</td>\n",
              "      <td>0</td>\n",
              "      <td>0</td>\n",
              "      <td>0</td>\n",
              "      <td>0</td>\n",
              "    </tr>\n",
              "    <tr>\n",
              "      <th>3</th>\n",
              "      <td>2017-01-01 03:00:00</td>\n",
              "      <td>0</td>\n",
              "      <td>0</td>\n",
              "      <td>0</td>\n",
              "      <td>0</td>\n",
              "      <td>0</td>\n",
              "      <td>0</td>\n",
              "      <td>0</td>\n",
              "      <td>0</td>\n",
              "      <td>0</td>\n",
              "      <td>0</td>\n",
              "      <td>0</td>\n",
              "      <td>0</td>\n",
              "      <td>0</td>\n",
              "      <td>0</td>\n",
              "      <td>0</td>\n",
              "      <td>0</td>\n",
              "      <td>0</td>\n",
              "      <td>0</td>\n",
              "      <td>0</td>\n",
              "      <td>0</td>\n",
              "      <td>0</td>\n",
              "      <td>0</td>\n",
              "      <td>0</td>\n",
              "      <td>0</td>\n",
              "      <td>0</td>\n",
              "      <td>0</td>\n",
              "      <td>0</td>\n",
              "      <td>0</td>\n",
              "      <td>0</td>\n",
              "      <td>0</td>\n",
              "      <td>0</td>\n",
              "      <td>0</td>\n",
              "      <td>0</td>\n",
              "      <td>0</td>\n",
              "      <td>0</td>\n",
              "      <td>0</td>\n",
              "      <td>0</td>\n",
              "      <td>0</td>\n",
              "      <td>0</td>\n",
              "      <td>...</td>\n",
              "      <td>0</td>\n",
              "      <td>0</td>\n",
              "      <td>0</td>\n",
              "      <td>0</td>\n",
              "      <td>0</td>\n",
              "      <td>0</td>\n",
              "      <td>0</td>\n",
              "      <td>0</td>\n",
              "      <td>0</td>\n",
              "      <td>0</td>\n",
              "      <td>0</td>\n",
              "      <td>0</td>\n",
              "      <td>0</td>\n",
              "      <td>0</td>\n",
              "      <td>0</td>\n",
              "      <td>0</td>\n",
              "      <td>0</td>\n",
              "      <td>0</td>\n",
              "      <td>0</td>\n",
              "      <td>0</td>\n",
              "      <td>0</td>\n",
              "      <td>0</td>\n",
              "      <td>0</td>\n",
              "      <td>0</td>\n",
              "      <td>0</td>\n",
              "      <td>0</td>\n",
              "      <td>0</td>\n",
              "      <td>0</td>\n",
              "      <td>0</td>\n",
              "      <td>0</td>\n",
              "      <td>0</td>\n",
              "      <td>0</td>\n",
              "      <td>0</td>\n",
              "      <td>0</td>\n",
              "      <td>0</td>\n",
              "      <td>0</td>\n",
              "      <td>0</td>\n",
              "      <td>0</td>\n",
              "      <td>0</td>\n",
              "      <td>0</td>\n",
              "    </tr>\n",
              "    <tr>\n",
              "      <th>4</th>\n",
              "      <td>2017-01-01 04:00:00</td>\n",
              "      <td>0</td>\n",
              "      <td>0</td>\n",
              "      <td>0</td>\n",
              "      <td>0</td>\n",
              "      <td>0</td>\n",
              "      <td>0</td>\n",
              "      <td>0</td>\n",
              "      <td>0</td>\n",
              "      <td>0</td>\n",
              "      <td>0</td>\n",
              "      <td>0</td>\n",
              "      <td>0</td>\n",
              "      <td>0</td>\n",
              "      <td>0</td>\n",
              "      <td>0</td>\n",
              "      <td>0</td>\n",
              "      <td>0</td>\n",
              "      <td>0</td>\n",
              "      <td>0</td>\n",
              "      <td>0</td>\n",
              "      <td>0</td>\n",
              "      <td>0</td>\n",
              "      <td>0</td>\n",
              "      <td>0</td>\n",
              "      <td>0</td>\n",
              "      <td>0</td>\n",
              "      <td>0</td>\n",
              "      <td>0</td>\n",
              "      <td>0</td>\n",
              "      <td>0</td>\n",
              "      <td>0</td>\n",
              "      <td>0</td>\n",
              "      <td>0</td>\n",
              "      <td>0</td>\n",
              "      <td>0</td>\n",
              "      <td>0</td>\n",
              "      <td>0</td>\n",
              "      <td>0</td>\n",
              "      <td>0</td>\n",
              "      <td>...</td>\n",
              "      <td>0</td>\n",
              "      <td>0</td>\n",
              "      <td>0</td>\n",
              "      <td>0</td>\n",
              "      <td>0</td>\n",
              "      <td>0</td>\n",
              "      <td>0</td>\n",
              "      <td>0</td>\n",
              "      <td>0</td>\n",
              "      <td>0</td>\n",
              "      <td>0</td>\n",
              "      <td>0</td>\n",
              "      <td>0</td>\n",
              "      <td>0</td>\n",
              "      <td>0</td>\n",
              "      <td>0</td>\n",
              "      <td>0</td>\n",
              "      <td>0</td>\n",
              "      <td>0</td>\n",
              "      <td>0</td>\n",
              "      <td>0</td>\n",
              "      <td>0</td>\n",
              "      <td>0</td>\n",
              "      <td>0</td>\n",
              "      <td>0</td>\n",
              "      <td>0</td>\n",
              "      <td>0</td>\n",
              "      <td>0</td>\n",
              "      <td>0</td>\n",
              "      <td>0</td>\n",
              "      <td>0</td>\n",
              "      <td>0</td>\n",
              "      <td>0</td>\n",
              "      <td>0</td>\n",
              "      <td>0</td>\n",
              "      <td>0</td>\n",
              "      <td>0</td>\n",
              "      <td>0</td>\n",
              "      <td>0</td>\n",
              "      <td>0</td>\n",
              "    </tr>\n",
              "  </tbody>\n",
              "</table>\n",
              "<p>5 rows × 545 columns</p>\n",
              "</div>"
            ],
            "text/plain": [
              "             datetime  S0B3CGQ  RYJYAPI  ...  4T821GV  J6A19TW  43RCYZH\n",
              "0 2017-01-01 00:00:00        0        0  ...        0        0        0\n",
              "1 2017-01-01 01:00:00        0        0  ...        0        0        0\n",
              "2 2017-01-01 02:00:00        0        0  ...        0        0        0\n",
              "3 2017-01-01 03:00:00        0        0  ...        0        0        0\n",
              "4 2017-01-01 04:00:00        0        0  ...        0        0        0\n",
              "\n",
              "[5 rows x 545 columns]"
            ]
          },
          "metadata": {
            "tags": []
          },
          "execution_count": 15
        }
      ]
    },
    {
      "cell_type": "code",
      "metadata": {
        "id": "xgAR8urxtIyL",
        "colab_type": "code",
        "colab": {
          "base_uri": "https://localhost:8080/",
          "height": 206
        },
        "outputId": "a141b2cd-913d-4f4e-8a8d-8e1496966733"
      },
      "source": [
        "# Reshape this as in sample submission\n",
        "# add some extra columns that may be useful\n",
        "train = pd.DataFrame({\n",
        "    'datetime x segment_id':np.concatenate([[str(x) + \" x \" + str(c) \n",
        "                                             for c in sids] \n",
        "                                            for x in tr['datetime']]),\n",
        "    'datetime':np.concatenate([[str(x) for c in sids] for x in tr['datetime']]),\n",
        "    'segment_id':np.concatenate([[str(c) for c in sids] for x in tr['datetime']]),\n",
        "    'y':tr[sids].values.flatten()\n",
        "})\n",
        "train.head()"
      ],
      "execution_count": null,
      "outputs": [
        {
          "output_type": "execute_result",
          "data": {
            "text/html": [
              "<div>\n",
              "<style scoped>\n",
              "    .dataframe tbody tr th:only-of-type {\n",
              "        vertical-align: middle;\n",
              "    }\n",
              "\n",
              "    .dataframe tbody tr th {\n",
              "        vertical-align: top;\n",
              "    }\n",
              "\n",
              "    .dataframe thead th {\n",
              "        text-align: right;\n",
              "    }\n",
              "</style>\n",
              "<table border=\"1\" class=\"dataframe\">\n",
              "  <thead>\n",
              "    <tr style=\"text-align: right;\">\n",
              "      <th></th>\n",
              "      <th>datetime x segment_id</th>\n",
              "      <th>datetime</th>\n",
              "      <th>segment_id</th>\n",
              "      <th>y</th>\n",
              "    </tr>\n",
              "  </thead>\n",
              "  <tbody>\n",
              "    <tr>\n",
              "      <th>0</th>\n",
              "      <td>2017-01-01 00:00:00 x S0B3CGQ</td>\n",
              "      <td>2017-01-01 00:00:00</td>\n",
              "      <td>S0B3CGQ</td>\n",
              "      <td>0</td>\n",
              "    </tr>\n",
              "    <tr>\n",
              "      <th>1</th>\n",
              "      <td>2017-01-01 00:00:00 x RYJYAPI</td>\n",
              "      <td>2017-01-01 00:00:00</td>\n",
              "      <td>RYJYAPI</td>\n",
              "      <td>0</td>\n",
              "    </tr>\n",
              "    <tr>\n",
              "      <th>2</th>\n",
              "      <td>2017-01-01 00:00:00 x U3KP57C</td>\n",
              "      <td>2017-01-01 00:00:00</td>\n",
              "      <td>U3KP57C</td>\n",
              "      <td>0</td>\n",
              "    </tr>\n",
              "    <tr>\n",
              "      <th>3</th>\n",
              "      <td>2017-01-01 00:00:00 x RY0TRQ8</td>\n",
              "      <td>2017-01-01 00:00:00</td>\n",
              "      <td>RY0TRQ8</td>\n",
              "      <td>0</td>\n",
              "    </tr>\n",
              "    <tr>\n",
              "      <th>4</th>\n",
              "      <td>2017-01-01 00:00:00 x 8LOVJZ3</td>\n",
              "      <td>2017-01-01 00:00:00</td>\n",
              "      <td>8LOVJZ3</td>\n",
              "      <td>0</td>\n",
              "    </tr>\n",
              "  </tbody>\n",
              "</table>\n",
              "</div>"
            ],
            "text/plain": [
              "           datetime x segment_id             datetime segment_id  y\n",
              "0  2017-01-01 00:00:00 x S0B3CGQ  2017-01-01 00:00:00    S0B3CGQ  0\n",
              "1  2017-01-01 00:00:00 x RYJYAPI  2017-01-01 00:00:00    RYJYAPI  0\n",
              "2  2017-01-01 00:00:00 x U3KP57C  2017-01-01 00:00:00    U3KP57C  0\n",
              "3  2017-01-01 00:00:00 x RY0TRQ8  2017-01-01 00:00:00    RY0TRQ8  0\n",
              "4  2017-01-01 00:00:00 x 8LOVJZ3  2017-01-01 00:00:00    8LOVJZ3  0"
            ]
          },
          "metadata": {
            "tags": []
          },
          "execution_count": 16
        }
      ]
    },
    {
      "cell_type": "code",
      "metadata": {
        "id": "IFxaAO9stI1F",
        "colab_type": "code",
        "colab": {
          "base_uri": "https://localhost:8080/",
          "height": 206
        },
        "outputId": "3abe23ed-0609-47a4-ca82-8575cb9456e1"
      },
      "source": [
        "# Same for local test\n",
        "dts = pd.date_range('2018-09-01','2018-12-31',\n",
        "                    freq=\"1h\")\n",
        "tr = pd.DataFrame({'datetime':dts})\n",
        "\n",
        "for sid in sids:\n",
        "    tr[str(sid)] = 0\n",
        "    events = local_test.loc[local_test['road_segment_id'] == sid]\n",
        "    dts = events['Occurrence Local Date Time'].dt.round('H')\n",
        "    dates = dts.astype(str).unique()\n",
        "    tr.loc[tr['datetime'].isin(dates), sid] = 1\n",
        "    \n",
        "test = pd.DataFrame({\n",
        "    'datetime x segment_id':np.concatenate([[str(x) + \" x \" + str(c) \n",
        "                                             for c in sids] \n",
        "                                            for x in tr['datetime']]),\n",
        "    'datetime':np.concatenate([[str(x) for c in sids] for x in tr['datetime']]),\n",
        "    'segment_id':np.concatenate([[str(c) for c in sids] for x in tr['datetime']]),\n",
        "    'y':tr[sids].values.flatten()\n",
        "})\n",
        "test.head()"
      ],
      "execution_count": null,
      "outputs": [
        {
          "output_type": "execute_result",
          "data": {
            "text/html": [
              "<div>\n",
              "<style scoped>\n",
              "    .dataframe tbody tr th:only-of-type {\n",
              "        vertical-align: middle;\n",
              "    }\n",
              "\n",
              "    .dataframe tbody tr th {\n",
              "        vertical-align: top;\n",
              "    }\n",
              "\n",
              "    .dataframe thead th {\n",
              "        text-align: right;\n",
              "    }\n",
              "</style>\n",
              "<table border=\"1\" class=\"dataframe\">\n",
              "  <thead>\n",
              "    <tr style=\"text-align: right;\">\n",
              "      <th></th>\n",
              "      <th>datetime x segment_id</th>\n",
              "      <th>datetime</th>\n",
              "      <th>segment_id</th>\n",
              "      <th>y</th>\n",
              "    </tr>\n",
              "  </thead>\n",
              "  <tbody>\n",
              "    <tr>\n",
              "      <th>0</th>\n",
              "      <td>2018-09-01 00:00:00 x S0B3CGQ</td>\n",
              "      <td>2018-09-01 00:00:00</td>\n",
              "      <td>S0B3CGQ</td>\n",
              "      <td>0</td>\n",
              "    </tr>\n",
              "    <tr>\n",
              "      <th>1</th>\n",
              "      <td>2018-09-01 00:00:00 x RYJYAPI</td>\n",
              "      <td>2018-09-01 00:00:00</td>\n",
              "      <td>RYJYAPI</td>\n",
              "      <td>0</td>\n",
              "    </tr>\n",
              "    <tr>\n",
              "      <th>2</th>\n",
              "      <td>2018-09-01 00:00:00 x U3KP57C</td>\n",
              "      <td>2018-09-01 00:00:00</td>\n",
              "      <td>U3KP57C</td>\n",
              "      <td>0</td>\n",
              "    </tr>\n",
              "    <tr>\n",
              "      <th>3</th>\n",
              "      <td>2018-09-01 00:00:00 x RY0TRQ8</td>\n",
              "      <td>2018-09-01 00:00:00</td>\n",
              "      <td>RY0TRQ8</td>\n",
              "      <td>0</td>\n",
              "    </tr>\n",
              "    <tr>\n",
              "      <th>4</th>\n",
              "      <td>2018-09-01 00:00:00 x 8LOVJZ3</td>\n",
              "      <td>2018-09-01 00:00:00</td>\n",
              "      <td>8LOVJZ3</td>\n",
              "      <td>0</td>\n",
              "    </tr>\n",
              "  </tbody>\n",
              "</table>\n",
              "</div>"
            ],
            "text/plain": [
              "           datetime x segment_id             datetime segment_id  y\n",
              "0  2018-09-01 00:00:00 x S0B3CGQ  2018-09-01 00:00:00    S0B3CGQ  0\n",
              "1  2018-09-01 00:00:00 x RYJYAPI  2018-09-01 00:00:00    RYJYAPI  0\n",
              "2  2018-09-01 00:00:00 x U3KP57C  2018-09-01 00:00:00    U3KP57C  0\n",
              "3  2018-09-01 00:00:00 x RY0TRQ8  2018-09-01 00:00:00    RY0TRQ8  0\n",
              "4  2018-09-01 00:00:00 x 8LOVJZ3  2018-09-01 00:00:00    8LOVJZ3  0"
            ]
          },
          "metadata": {
            "tags": []
          },
          "execution_count": 17
        }
      ]
    },
    {
      "cell_type": "code",
      "metadata": {
        "id": "jL4y4ZsItI4u",
        "colab_type": "code",
        "colab": {}
      },
      "source": [
        "#add some colums\n",
        "train['datetime'] = pd.to_datetime(train['datetime'])\n",
        "train['year'] = train['datetime'].dt.year\n",
        "train['month'] = train['datetime'].dt.month\n",
        "train['day'] = train['datetime'].dt.weekday\n",
        "train['hour'] = train['datetime'].dt.hour"
      ],
      "execution_count": null,
      "outputs": []
    },
    {
      "cell_type": "code",
      "metadata": {
        "id": "ct3qxf_WtI7K",
        "colab_type": "code",
        "colab": {
          "base_uri": "https://localhost:8080/",
          "height": 206
        },
        "outputId": "16d3b1cf-877d-4beb-fb99-cd2107ae75d3"
      },
      "source": [
        "train.head()"
      ],
      "execution_count": null,
      "outputs": [
        {
          "output_type": "execute_result",
          "data": {
            "text/html": [
              "<div>\n",
              "<style scoped>\n",
              "    .dataframe tbody tr th:only-of-type {\n",
              "        vertical-align: middle;\n",
              "    }\n",
              "\n",
              "    .dataframe tbody tr th {\n",
              "        vertical-align: top;\n",
              "    }\n",
              "\n",
              "    .dataframe thead th {\n",
              "        text-align: right;\n",
              "    }\n",
              "</style>\n",
              "<table border=\"1\" class=\"dataframe\">\n",
              "  <thead>\n",
              "    <tr style=\"text-align: right;\">\n",
              "      <th></th>\n",
              "      <th>datetime x segment_id</th>\n",
              "      <th>datetime</th>\n",
              "      <th>segment_id</th>\n",
              "      <th>y</th>\n",
              "      <th>year</th>\n",
              "      <th>month</th>\n",
              "      <th>day</th>\n",
              "      <th>hour</th>\n",
              "    </tr>\n",
              "  </thead>\n",
              "  <tbody>\n",
              "    <tr>\n",
              "      <th>0</th>\n",
              "      <td>2017-01-01 00:00:00 x S0B3CGQ</td>\n",
              "      <td>2017-01-01</td>\n",
              "      <td>S0B3CGQ</td>\n",
              "      <td>0</td>\n",
              "      <td>2017</td>\n",
              "      <td>1</td>\n",
              "      <td>6</td>\n",
              "      <td>0</td>\n",
              "    </tr>\n",
              "    <tr>\n",
              "      <th>1</th>\n",
              "      <td>2017-01-01 00:00:00 x RYJYAPI</td>\n",
              "      <td>2017-01-01</td>\n",
              "      <td>RYJYAPI</td>\n",
              "      <td>0</td>\n",
              "      <td>2017</td>\n",
              "      <td>1</td>\n",
              "      <td>6</td>\n",
              "      <td>0</td>\n",
              "    </tr>\n",
              "    <tr>\n",
              "      <th>2</th>\n",
              "      <td>2017-01-01 00:00:00 x U3KP57C</td>\n",
              "      <td>2017-01-01</td>\n",
              "      <td>U3KP57C</td>\n",
              "      <td>0</td>\n",
              "      <td>2017</td>\n",
              "      <td>1</td>\n",
              "      <td>6</td>\n",
              "      <td>0</td>\n",
              "    </tr>\n",
              "    <tr>\n",
              "      <th>3</th>\n",
              "      <td>2017-01-01 00:00:00 x RY0TRQ8</td>\n",
              "      <td>2017-01-01</td>\n",
              "      <td>RY0TRQ8</td>\n",
              "      <td>0</td>\n",
              "      <td>2017</td>\n",
              "      <td>1</td>\n",
              "      <td>6</td>\n",
              "      <td>0</td>\n",
              "    </tr>\n",
              "    <tr>\n",
              "      <th>4</th>\n",
              "      <td>2017-01-01 00:00:00 x 8LOVJZ3</td>\n",
              "      <td>2017-01-01</td>\n",
              "      <td>8LOVJZ3</td>\n",
              "      <td>0</td>\n",
              "      <td>2017</td>\n",
              "      <td>1</td>\n",
              "      <td>6</td>\n",
              "      <td>0</td>\n",
              "    </tr>\n",
              "  </tbody>\n",
              "</table>\n",
              "</div>"
            ],
            "text/plain": [
              "           datetime x segment_id   datetime segment_id  ...  month  day  hour\n",
              "0  2017-01-01 00:00:00 x S0B3CGQ 2017-01-01    S0B3CGQ  ...      1    6     0\n",
              "1  2017-01-01 00:00:00 x RYJYAPI 2017-01-01    RYJYAPI  ...      1    6     0\n",
              "2  2017-01-01 00:00:00 x U3KP57C 2017-01-01    U3KP57C  ...      1    6     0\n",
              "3  2017-01-01 00:00:00 x RY0TRQ8 2017-01-01    RY0TRQ8  ...      1    6     0\n",
              "4  2017-01-01 00:00:00 x 8LOVJZ3 2017-01-01    8LOVJZ3  ...      1    6     0\n",
              "\n",
              "[5 rows x 8 columns]"
            ]
          },
          "metadata": {
            "tags": []
          },
          "execution_count": 26
        }
      ]
    },
    {
      "cell_type": "code",
      "metadata": {
        "id": "reQRjhWbPYVR",
        "colab_type": "code",
        "colab": {}
      },
      "source": [
        "#do the same for the test\n",
        "test['datetime'] = pd.to_datetime(test['datetime'])\n",
        "test['year'] = test['datetime'].dt.year\n",
        "test['month'] = test['datetime'].dt.month\n",
        "test['day'] = test['datetime'].dt.weekday\n",
        "test['hour'] = test['datetime'].dt.hour"
      ],
      "execution_count": null,
      "outputs": []
    },
    {
      "cell_type": "code",
      "metadata": {
        "id": "-wFvZ61Xt_im",
        "colab_type": "code",
        "colab": {
          "base_uri": "https://localhost:8080/",
          "height": 143
        },
        "outputId": "3269b9b1-76c6-4215-8188-197aeac6b232"
      },
      "source": [
        "# add some more data - roads and location\n",
        "\n",
        "#locations\n",
        "train = pd.merge(train, locations, left_on='segment_id', right_on='road_segment_id')\n",
        "# road data\n",
        "train = pd.merge(train, road_segments[['segment_id','WIDTH','LANES']], on='segment_id', how='left')\n",
        "train.head(3)"
      ],
      "execution_count": null,
      "outputs": [
        {
          "output_type": "execute_result",
          "data": {
            "text/html": [
              "<div>\n",
              "<style scoped>\n",
              "    .dataframe tbody tr th:only-of-type {\n",
              "        vertical-align: middle;\n",
              "    }\n",
              "\n",
              "    .dataframe tbody tr th {\n",
              "        vertical-align: top;\n",
              "    }\n",
              "\n",
              "    .dataframe thead th {\n",
              "        text-align: right;\n",
              "    }\n",
              "</style>\n",
              "<table border=\"1\" class=\"dataframe\">\n",
              "  <thead>\n",
              "    <tr style=\"text-align: right;\">\n",
              "      <th></th>\n",
              "      <th>datetime x segment_id</th>\n",
              "      <th>datetime</th>\n",
              "      <th>segment_id</th>\n",
              "      <th>y</th>\n",
              "      <th>year</th>\n",
              "      <th>month</th>\n",
              "      <th>day</th>\n",
              "      <th>hour</th>\n",
              "      <th>longitude</th>\n",
              "      <th>latitude</th>\n",
              "      <th>WIDTH</th>\n",
              "      <th>LANES</th>\n",
              "    </tr>\n",
              "  </thead>\n",
              "  <tbody>\n",
              "    <tr>\n",
              "      <th>0</th>\n",
              "      <td>2017-01-01 00:00:00 x S0B3CGQ</td>\n",
              "      <td>2017-01-01 00:00:00</td>\n",
              "      <td>S0B3CGQ</td>\n",
              "      <td>0</td>\n",
              "      <td>2017</td>\n",
              "      <td>1</td>\n",
              "      <td>6</td>\n",
              "      <td>0</td>\n",
              "      <td>18.541422</td>\n",
              "      <td>-33.888613</td>\n",
              "      <td>0.0</td>\n",
              "      <td>0</td>\n",
              "    </tr>\n",
              "    <tr>\n",
              "      <th>1</th>\n",
              "      <td>2017-01-01 01:00:00 x S0B3CGQ</td>\n",
              "      <td>2017-01-01 01:00:00</td>\n",
              "      <td>S0B3CGQ</td>\n",
              "      <td>0</td>\n",
              "      <td>2017</td>\n",
              "      <td>1</td>\n",
              "      <td>6</td>\n",
              "      <td>1</td>\n",
              "      <td>18.541422</td>\n",
              "      <td>-33.888613</td>\n",
              "      <td>0.0</td>\n",
              "      <td>0</td>\n",
              "    </tr>\n",
              "    <tr>\n",
              "      <th>2</th>\n",
              "      <td>2017-01-01 02:00:00 x S0B3CGQ</td>\n",
              "      <td>2017-01-01 02:00:00</td>\n",
              "      <td>S0B3CGQ</td>\n",
              "      <td>0</td>\n",
              "      <td>2017</td>\n",
              "      <td>1</td>\n",
              "      <td>6</td>\n",
              "      <td>2</td>\n",
              "      <td>18.541422</td>\n",
              "      <td>-33.888613</td>\n",
              "      <td>0.0</td>\n",
              "      <td>0</td>\n",
              "    </tr>\n",
              "  </tbody>\n",
              "</table>\n",
              "</div>"
            ],
            "text/plain": [
              "           datetime x segment_id            datetime  ... WIDTH  LANES\n",
              "0  2017-01-01 00:00:00 x S0B3CGQ 2017-01-01 00:00:00  ...   0.0      0\n",
              "1  2017-01-01 01:00:00 x S0B3CGQ 2017-01-01 01:00:00  ...   0.0      0\n",
              "2  2017-01-01 02:00:00 x S0B3CGQ 2017-01-01 02:00:00  ...   0.0      0\n",
              "\n",
              "[3 rows x 12 columns]"
            ]
          },
          "metadata": {
            "tags": []
          },
          "execution_count": 20
        }
      ]
    },
    {
      "cell_type": "code",
      "metadata": {
        "id": "_cITv2IjPvic",
        "colab_type": "code",
        "colab": {
          "base_uri": "https://localhost:8080/",
          "height": 143
        },
        "outputId": "9624bbf8-eaa9-424c-f2e6-ddff5c79572a"
      },
      "source": [
        "# Same for the test\n",
        "#locations\n",
        "test = pd.merge(test, locations, left_on='segment_id', right_on='road_segment_id')\n",
        "# road data\n",
        "test = pd.merge(test, road_segments[['segment_id','WIDTH','LANES']], on='segment_id', how='left')\n",
        "test.head(3)\n"
      ],
      "execution_count": null,
      "outputs": [
        {
          "output_type": "execute_result",
          "data": {
            "text/html": [
              "<div>\n",
              "<style scoped>\n",
              "    .dataframe tbody tr th:only-of-type {\n",
              "        vertical-align: middle;\n",
              "    }\n",
              "\n",
              "    .dataframe tbody tr th {\n",
              "        vertical-align: top;\n",
              "    }\n",
              "\n",
              "    .dataframe thead th {\n",
              "        text-align: right;\n",
              "    }\n",
              "</style>\n",
              "<table border=\"1\" class=\"dataframe\">\n",
              "  <thead>\n",
              "    <tr style=\"text-align: right;\">\n",
              "      <th></th>\n",
              "      <th>datetime x segment_id</th>\n",
              "      <th>datetime</th>\n",
              "      <th>segment_id</th>\n",
              "      <th>y</th>\n",
              "      <th>year</th>\n",
              "      <th>month</th>\n",
              "      <th>day</th>\n",
              "      <th>hour</th>\n",
              "      <th>longitude</th>\n",
              "      <th>latitude</th>\n",
              "      <th>WIDTH</th>\n",
              "      <th>LANES</th>\n",
              "    </tr>\n",
              "  </thead>\n",
              "  <tbody>\n",
              "    <tr>\n",
              "      <th>0</th>\n",
              "      <td>2018-09-01 00:00:00 x S0B3CGQ</td>\n",
              "      <td>2018-09-01 00:00:00</td>\n",
              "      <td>S0B3CGQ</td>\n",
              "      <td>0</td>\n",
              "      <td>2018</td>\n",
              "      <td>9</td>\n",
              "      <td>5</td>\n",
              "      <td>0</td>\n",
              "      <td>18.541422</td>\n",
              "      <td>-33.888613</td>\n",
              "      <td>0.0</td>\n",
              "      <td>0</td>\n",
              "    </tr>\n",
              "    <tr>\n",
              "      <th>1</th>\n",
              "      <td>2018-09-01 01:00:00 x S0B3CGQ</td>\n",
              "      <td>2018-09-01 01:00:00</td>\n",
              "      <td>S0B3CGQ</td>\n",
              "      <td>0</td>\n",
              "      <td>2018</td>\n",
              "      <td>9</td>\n",
              "      <td>5</td>\n",
              "      <td>1</td>\n",
              "      <td>18.541422</td>\n",
              "      <td>-33.888613</td>\n",
              "      <td>0.0</td>\n",
              "      <td>0</td>\n",
              "    </tr>\n",
              "    <tr>\n",
              "      <th>2</th>\n",
              "      <td>2018-09-01 02:00:00 x S0B3CGQ</td>\n",
              "      <td>2018-09-01 02:00:00</td>\n",
              "      <td>S0B3CGQ</td>\n",
              "      <td>0</td>\n",
              "      <td>2018</td>\n",
              "      <td>9</td>\n",
              "      <td>5</td>\n",
              "      <td>2</td>\n",
              "      <td>18.541422</td>\n",
              "      <td>-33.888613</td>\n",
              "      <td>0.0</td>\n",
              "      <td>0</td>\n",
              "    </tr>\n",
              "  </tbody>\n",
              "</table>\n",
              "</div>"
            ],
            "text/plain": [
              "           datetime x segment_id            datetime  ... WIDTH  LANES\n",
              "0  2018-09-01 00:00:00 x S0B3CGQ 2018-09-01 00:00:00  ...   0.0      0\n",
              "1  2018-09-01 01:00:00 x S0B3CGQ 2018-09-01 01:00:00  ...   0.0      0\n",
              "2  2018-09-01 02:00:00 x S0B3CGQ 2018-09-01 02:00:00  ...   0.0      0\n",
              "\n",
              "[3 rows x 12 columns]"
            ]
          },
          "metadata": {
            "tags": []
          },
          "execution_count": 21
        }
      ]
    },
    {
      "cell_type": "code",
      "metadata": {
        "id": "g4czV1prZAK0",
        "colab_type": "code",
        "colab": {}
      },
      "source": [
        "from google.colab import drive\n",
        "drive.mount('/content/drive')"
      ],
      "execution_count": null,
      "outputs": []
    },
    {
      "cell_type": "code",
      "metadata": {
        "id": "H65ZZfUgC2yl",
        "colab_type": "code",
        "colab": {}
      },
      "source": [
        "#make sure the data is numeric\n",
        "train[\"month\"] = pd.to_numeric(train[\"month\"])\n",
        "train[\"day\"] = pd.to_numeric(train[\"day\"])\n",
        "train[\"hour\"] = pd.to_numeric(train[\"hour\"])\n",
        "train[\"WIDTH\"] = pd.to_numeric(train[\"WIDTH\"])\n",
        "train[\"LANES\"] = pd.to_numeric(train[\"LANES\"])"
      ],
      "execution_count": null,
      "outputs": []
    },
    {
      "cell_type": "markdown",
      "metadata": {
        "id": "ZBeQxWpnA1Wj",
        "colab_type": "text"
      },
      "source": [
        "### Save both ```train``` and ```test``` to load in the next ```notebook``` and add data too."
      ]
    },
    {
      "cell_type": "code",
      "metadata": {
        "id": "GZnfgy7wA0hK",
        "colab_type": "code",
        "colab": {}
      },
      "source": [
        "#save it\n",
        "train.to_csv(path/'data/train_basic.csv', index=False)\n",
        "test.to_csv(path/'data/test_basic.csv', index=False)\n",
        "\n",
        "#for visulaization\n",
        "local_test.to_csv(path/'data/local_test_vis.csv', index=False)"
      ],
      "execution_count": null,
      "outputs": []
    },
    {
      "cell_type": "code",
      "metadata": {
        "id": "TzJ2vLIktI_v",
        "colab_type": "code",
        "colab": {}
      },
      "source": [
        "#clean up\n",
        "data, local_test = 0, 0"
      ],
      "execution_count": null,
      "outputs": []
    },
    {
      "cell_type": "code",
      "metadata": {
        "id": "3joftEKM0ED-",
        "colab_type": "code",
        "colab": {}
      },
      "source": [
        "# define a list of column names to be used for training\n",
        "x_cols = ['month', 'day', 'hour', 'longitude', 'latitude', 'WIDTH', 'LANES']"
      ],
      "execution_count": 10,
      "outputs": []
    },
    {
      "cell_type": "code",
      "metadata": {
        "id": "yP-RbLCuGLhC",
        "colab_type": "code",
        "colab": {}
      },
      "source": [
        "X, y = train[x_cols], train['y']"
      ],
      "execution_count": 11,
      "outputs": []
    },
    {
      "cell_type": "markdown",
      "metadata": {
        "id": "h5XOthMUHJiZ",
        "colab_type": "text"
      },
      "source": [
        "#### ```train_test_split``` 75/25."
      ]
    },
    {
      "cell_type": "code",
      "metadata": {
        "id": "_XyLsPiHGSzO",
        "colab_type": "code",
        "colab": {}
      },
      "source": [
        "X_train, X_test, y_train, y_test = train_test_split(X, y, test_size=0.25, random_state=42)"
      ],
      "execution_count": 14,
      "outputs": []
    },
    {
      "cell_type": "markdown",
      "metadata": {
        "id": "-hEikz0zCNg0",
        "colab_type": "text"
      },
      "source": [
        "### Before we go any further: we need to do some more wrangling because our data is highly imbalanced."
      ]
    },
    {
      "cell_type": "code",
      "metadata": {
        "id": "2vSRD570YK6U",
        "colab_type": "code",
        "colab": {
          "base_uri": "https://localhost:8080/",
          "height": 315
        },
        "outputId": "e05ce1d4-aa6c-4708-ec92-ecdec4a7358c"
      },
      "source": [
        "# count examples in each class\n",
        "train_count = y_train.value_counts()\n",
        "print('Class 0:', train_count[0])\n",
        "print('Class 1:', train_count[1])\n",
        "train_count.plot(kind='bar', title='Count (train)')\n",
        "plt.show()"
      ],
      "execution_count": 15,
      "outputs": [
        {
          "output_type": "stream",
          "text": [
            "Class 0: 3563836\n",
            "Class 1: 10652\n"
          ],
          "name": "stdout"
        },
        {
          "output_type": "display_data",
          "data": {
            "image/png": "[encoded data removed]",
            "text/plain": [
              "<Figure size 432x288 with 1 Axes>"
            ]
          },
          "metadata": {
            "tags": [],
            "needs_background": "light"
          }
        }
      ]
    },
    {
      "cell_type": "markdown",
      "metadata": {
        "id": "7vf3Oz9QKn6E",
        "colab_type": "text"
      },
      "source": [
        "#### Why does this matter?\n",
        "\n",
        "> Lets run a quick example with the data 'as-is'.\n",
        "\n"
      ]
    },
    {
      "cell_type": "code",
      "metadata": {
        "id": "c-cKtwgiK0qz",
        "colab_type": "code",
        "colab": {
          "base_uri": "https://localhost:8080/",
          "height": 110
        },
        "outputId": "60400a64-71d7-4184-e9cb-ec5134b99e3f"
      },
      "source": [
        "model = XGBClassifier(objective ='binary:logistic')              # set model\n",
        "model.fit(X_train, y_train)                                      # what do you want to train with?\n",
        "preds = model.predict(X_train)                                   # what do you want to predict?\n",
        "print('')\n",
        "print(preds)                                                     # print the predictions\n",
        "# Get scores                                                     # lets look at some accuracy measures\n",
        "accuracy = accuracy_score(y_train, preds)\n",
        "print('Accuracy: %.2f%%' % (accuracy * 100.0))\n",
        "rmse = mean_squared_error(y_train, preds)\n",
        "print(\"RMSE: %f\" % (rmse))\n",
        "f1 = f1_score(y_train, preds)\n",
        "print('f1-score: %.2f%%' % f1)"
      ],
      "execution_count": 18,
      "outputs": [
        {
          "output_type": "stream",
          "text": [
            "\n",
            "[0 0 0 ... 0 0 0]\n",
            "Accuracy: 99.70%\n",
            "RMSE: 0.002977\n",
            "f1-score: 0.00%\n"
          ],
          "name": "stdout"
        }
      ]
    },
    {
      "cell_type": "markdown",
      "metadata": {
        "id": "tzrQLPDZMUvi",
        "colab_type": "text"
      },
      "source": [
        "#### Our ```accuracy``` is amazing but our ```f1-score``` is ```0```."
      ]
    },
    {
      "cell_type": "code",
      "metadata": {
        "id": "cTMYJ8kUldUY",
        "colab_type": "code",
        "colab": {
          "base_uri": "https://localhost:8080/",
          "height": 36
        },
        "outputId": "1b89aaa4-723f-447f-92bd-60e6054a4bd3"
      },
      "source": [
        "# Show predicted classes\n",
        "print(np.unique(preds, return_counts=True))"
      ],
      "execution_count": 19,
      "outputs": [
        {
          "output_type": "stream",
          "text": [
            "(array([0, 1]), array([3574454,      34]))\n"
          ],
          "name": "stdout"
        }
      ]
    },
    {
      "cell_type": "code",
      "metadata": {
        "id": "qdXlsiWHONSD",
        "colab_type": "code",
        "colab": {
          "base_uri": "https://localhost:8080/",
          "height": 367
        },
        "outputId": "5222ba08-1f4b-4e4a-b6bc-8099e50b6e42"
      },
      "source": [
        "\n",
        "cnf_matrix = confusion_matrix(y_train, preds)\n",
        "plot_confusion_matrix(cnf_matrix, classes=['0', '1'],\n",
        "                      title='Confusion matrix, without normalization')"
      ],
      "execution_count": 20,
      "outputs": [
        {
          "output_type": "stream",
          "text": [
            "Confusion matrix, without normalization\n",
            "[[3563825      11]\n",
            " [  10629      23]]\n"
          ],
          "name": "stdout"
        },
        {
          "output_type": "display_data",
          "data": {
            "image/png": "[encoded data removed]",
            "text/plain": [
              "<Figure size 432x288 with 2 Axes>"
            ]
          },
          "metadata": {
            "tags": [],
            "needs_background": "light"
          }
        }
      ]
    },
    {
      "cell_type": "markdown",
      "metadata": {
        "id": "qVEyPT3sCb6n",
        "colab_type": "text"
      },
      "source": [
        "#### We're ```predict```ing ```0```'s and ```1```'s equally and not enough of iether. We need to add some kind of ```weight``` so that the algorithm knows to add more emphasis to one class. Luckily we can estimate a ```scale_pos_weight```...\n",
        "\n",
        "#### Per the documentation ```scale_pos_weight = count(negative examples)/count(Positive examples)``` but from this [thread](https://stats.stackexchange.com/questions/243207/what-is-the-proper-usage-of-scale-pos-weight-in-xgboost-for-imbalanced-datasets) ```scale_pos_weight = sqrt(count(negative examples)/count(Positive examples))``` might prove a better estimate."
      ]
    },
    {
      "cell_type": "code",
      "metadata": {
        "id": "RuSRzkRnYt26",
        "colab_type": "code",
        "colab": {
          "base_uri": "https://localhost:8080/",
          "height": 36
        },
        "outputId": "09d1162d-948d-44b9-b96b-2a563519c004"
      },
      "source": [
        "# estimate scale_pos_weight value\n",
        "estimate = sqrt(train_count[0] / train_count[1])\n",
        "print('Estimate (class imbalance): %.3f' % estimate)"
      ],
      "execution_count": 21,
      "outputs": [
        {
          "output_type": "stream",
          "text": [
            "Estimate (class imbalance): 18.291\n"
          ],
          "name": "stdout"
        }
      ]
    },
    {
      "cell_type": "code",
      "metadata": {
        "id": "oS4u1idmtI98",
        "colab_type": "code",
        "colab": {}
      },
      "source": [
        "# Create the model - we start with basic parameters which we'll tune as we go along; for now set scale_pos_weight\n",
        "model = XGBClassifier(objective='binary:logistic', \n",
        "                      scale_pos_weight=18.274)"
      ],
      "execution_count": 24,
      "outputs": []
    },
    {
      "cell_type": "markdown",
      "metadata": {
        "id": "lg9Dq6g9B6uN",
        "colab_type": "text"
      },
      "source": [
        "#### ... or perform a ```grid search``` - which I could not get to work."
      ]
    },
    {
      "cell_type": "code",
      "metadata": {
        "id": "LhyjMfNQ0Onj",
        "colab_type": "code",
        "colab": {
          "base_uri": "https://localhost:8080/",
          "height": 459
        },
        "outputId": "b546a6dd-f13a-4dfb-8c4e-fca313f90788"
      },
      "source": [
        "model = XGBClassifier(objective='binary:logistic')\n",
        "\n",
        "# define grid\n",
        "param_grid = {                           \n",
        "    'scale_pos_weight': [100, 300, 500] # these values can change\n",
        "    }\n",
        "\n",
        "# define evaluation procedure\n",
        "cv = RepeatedStratifiedKFold(n_splits=3, n_repeats=2, random_state=1)\n",
        "\n",
        "# define grid search\n",
        "grid = GridSearchCV(estimator=model, param_grid=param_grid, \n",
        "                    n_jobs=1, cv=cv, scoring='f1',verbose=3)\n",
        "\n",
        "# execute the grid search\n",
        "grid_result = grid.fit(X_train, y_train)\n",
        "\n",
        "# report the best configuration\n",
        "print(\"Best: %f using %s\" % (grid_result.best_score_, grid_result.best_params_))\n",
        "\n",
        "# report all configurations\n",
        "means = grid_result.cv_results_['mean_test_score']\n",
        "stds = grid_result.cv_results_['std_test_score']\n",
        "params = grid_result.cv_results_['params']\n",
        "for mean, stdev, param in zip(means, stds, params):\n",
        "    print(\"%f (%f) with: %r\" % (mean, stdev, param))"
      ],
      "execution_count": 23,
      "outputs": [
        {
          "output_type": "stream",
          "text": [
            "Fitting 6 folds for each of 3 candidates, totalling 18 fits\n"
          ],
          "name": "stdout"
        },
        {
          "output_type": "stream",
          "text": [
            "[Parallel(n_jobs=1)]: Using backend SequentialBackend with 1 concurrent workers.\n"
          ],
          "name": "stderr"
        },
        {
          "output_type": "stream",
          "text": [
            "[CV] scale_pos_weight=100 ............................................\n"
          ],
          "name": "stdout"
        },
        {
          "output_type": "error",
          "ename": "KeyboardInterrupt",
          "evalue": "ignored",
          "traceback": [
            "\u001b[0;31m---------------------------------------------------------------------------\u001b[0m",
            "\u001b[0;31mKeyboardInterrupt\u001b[0m                         Traceback (most recent call last)",
            "\u001b[0;32m<ipython-input-23-0d31dc88e007>\u001b[0m in \u001b[0;36m<module>\u001b[0;34m()\u001b[0m\n\u001b[1;32m     14\u001b[0m \u001b[0;34m\u001b[0m\u001b[0m\n\u001b[1;32m     15\u001b[0m \u001b[0;31m# execute the grid search\u001b[0m\u001b[0;34m\u001b[0m\u001b[0;34m\u001b[0m\u001b[0;34m\u001b[0m\u001b[0m\n\u001b[0;32m---> 16\u001b[0;31m \u001b[0mgrid_result\u001b[0m \u001b[0;34m=\u001b[0m \u001b[0mgrid\u001b[0m\u001b[0;34m.\u001b[0m\u001b[0mfit\u001b[0m\u001b[0;34m(\u001b[0m\u001b[0mX_train\u001b[0m\u001b[0;34m,\u001b[0m \u001b[0my_train\u001b[0m\u001b[0;34m)\u001b[0m\u001b[0;34m\u001b[0m\u001b[0;34m\u001b[0m\u001b[0m\n\u001b[0m\u001b[1;32m     17\u001b[0m \u001b[0;34m\u001b[0m\u001b[0m\n\u001b[1;32m     18\u001b[0m \u001b[0;31m# report the best configuration\u001b[0m\u001b[0;34m\u001b[0m\u001b[0;34m\u001b[0m\u001b[0;34m\u001b[0m\u001b[0m\n",
            "\u001b[0;32m/usr/local/lib/python3.6/dist-packages/sklearn/model_selection/_search.py\u001b[0m in \u001b[0;36mfit\u001b[0;34m(self, X, y, groups, **fit_params)\u001b[0m\n\u001b[1;32m    708\u001b[0m                 \u001b[0;32mreturn\u001b[0m \u001b[0mresults\u001b[0m\u001b[0;34m\u001b[0m\u001b[0;34m\u001b[0m\u001b[0m\n\u001b[1;32m    709\u001b[0m \u001b[0;34m\u001b[0m\u001b[0m\n\u001b[0;32m--> 710\u001b[0;31m             \u001b[0mself\u001b[0m\u001b[0;34m.\u001b[0m\u001b[0m_run_search\u001b[0m\u001b[0;34m(\u001b[0m\u001b[0mevaluate_candidates\u001b[0m\u001b[0;34m)\u001b[0m\u001b[0;34m\u001b[0m\u001b[0;34m\u001b[0m\u001b[0m\n\u001b[0m\u001b[1;32m    711\u001b[0m \u001b[0;34m\u001b[0m\u001b[0m\n\u001b[1;32m    712\u001b[0m         \u001b[0;31m# For multi-metric evaluation, store the best_index_, best_params_ and\u001b[0m\u001b[0;34m\u001b[0m\u001b[0;34m\u001b[0m\u001b[0;34m\u001b[0m\u001b[0m\n",
            "\u001b[0;32m/usr/local/lib/python3.6/dist-packages/sklearn/model_selection/_search.py\u001b[0m in \u001b[0;36m_run_search\u001b[0;34m(self, evaluate_candidates)\u001b[0m\n\u001b[1;32m   1149\u001b[0m     \u001b[0;32mdef\u001b[0m \u001b[0m_run_search\u001b[0m\u001b[0;34m(\u001b[0m\u001b[0mself\u001b[0m\u001b[0;34m,\u001b[0m \u001b[0mevaluate_candidates\u001b[0m\u001b[0;34m)\u001b[0m\u001b[0;34m:\u001b[0m\u001b[0;34m\u001b[0m\u001b[0;34m\u001b[0m\u001b[0m\n\u001b[1;32m   1150\u001b[0m         \u001b[0;34m\"\"\"Search all candidates in param_grid\"\"\"\u001b[0m\u001b[0;34m\u001b[0m\u001b[0;34m\u001b[0m\u001b[0m\n\u001b[0;32m-> 1151\u001b[0;31m         \u001b[0mevaluate_candidates\u001b[0m\u001b[0;34m(\u001b[0m\u001b[0mParameterGrid\u001b[0m\u001b[0;34m(\u001b[0m\u001b[0mself\u001b[0m\u001b[0;34m.\u001b[0m\u001b[0mparam_grid\u001b[0m\u001b[0;34m)\u001b[0m\u001b[0;34m)\u001b[0m\u001b[0;34m\u001b[0m\u001b[0;34m\u001b[0m\u001b[0m\n\u001b[0m\u001b[1;32m   1152\u001b[0m \u001b[0;34m\u001b[0m\u001b[0m\n\u001b[1;32m   1153\u001b[0m \u001b[0;34m\u001b[0m\u001b[0m\n",
            "\u001b[0;32m/usr/local/lib/python3.6/dist-packages/sklearn/model_selection/_search.py\u001b[0m in \u001b[0;36mevaluate_candidates\u001b[0;34m(candidate_params)\u001b[0m\n\u001b[1;32m    687\u001b[0m                                \u001b[0;32mfor\u001b[0m \u001b[0mparameters\u001b[0m\u001b[0;34m,\u001b[0m \u001b[0;34m(\u001b[0m\u001b[0mtrain\u001b[0m\u001b[0;34m,\u001b[0m \u001b[0mtest\u001b[0m\u001b[0;34m)\u001b[0m\u001b[0;34m\u001b[0m\u001b[0;34m\u001b[0m\u001b[0m\n\u001b[1;32m    688\u001b[0m                                in product(candidate_params,\n\u001b[0;32m--> 689\u001b[0;31m                                           cv.split(X, y, groups)))\n\u001b[0m\u001b[1;32m    690\u001b[0m \u001b[0;34m\u001b[0m\u001b[0m\n\u001b[1;32m    691\u001b[0m                 \u001b[0;32mif\u001b[0m \u001b[0mlen\u001b[0m\u001b[0;34m(\u001b[0m\u001b[0mout\u001b[0m\u001b[0;34m)\u001b[0m \u001b[0;34m<\u001b[0m \u001b[0;36m1\u001b[0m\u001b[0;34m:\u001b[0m\u001b[0;34m\u001b[0m\u001b[0;34m\u001b[0m\u001b[0m\n",
            "\u001b[0;32m/usr/local/lib/python3.6/dist-packages/joblib/parallel.py\u001b[0m in \u001b[0;36m__call__\u001b[0;34m(self, iterable)\u001b[0m\n\u001b[1;32m   1027\u001b[0m             \u001b[0;31m# remaining jobs.\u001b[0m\u001b[0;34m\u001b[0m\u001b[0;34m\u001b[0m\u001b[0;34m\u001b[0m\u001b[0m\n\u001b[1;32m   1028\u001b[0m             \u001b[0mself\u001b[0m\u001b[0;34m.\u001b[0m\u001b[0m_iterating\u001b[0m \u001b[0;34m=\u001b[0m \u001b[0;32mFalse\u001b[0m\u001b[0;34m\u001b[0m\u001b[0;34m\u001b[0m\u001b[0m\n\u001b[0;32m-> 1029\u001b[0;31m             \u001b[0;32mif\u001b[0m \u001b[0mself\u001b[0m\u001b[0;34m.\u001b[0m\u001b[0mdispatch_one_batch\u001b[0m\u001b[0;34m(\u001b[0m\u001b[0miterator\u001b[0m\u001b[0;34m)\u001b[0m\u001b[0;34m:\u001b[0m\u001b[0;34m\u001b[0m\u001b[0;34m\u001b[0m\u001b[0m\n\u001b[0m\u001b[1;32m   1030\u001b[0m                 \u001b[0mself\u001b[0m\u001b[0;34m.\u001b[0m\u001b[0m_iterating\u001b[0m \u001b[0;34m=\u001b[0m \u001b[0mself\u001b[0m\u001b[0;34m.\u001b[0m\u001b[0m_original_iterator\u001b[0m \u001b[0;32mis\u001b[0m \u001b[0;32mnot\u001b[0m \u001b[0;32mNone\u001b[0m\u001b[0;34m\u001b[0m\u001b[0;34m\u001b[0m\u001b[0m\n\u001b[1;32m   1031\u001b[0m \u001b[0;34m\u001b[0m\u001b[0m\n",
            "\u001b[0;32m/usr/local/lib/python3.6/dist-packages/joblib/parallel.py\u001b[0m in \u001b[0;36mdispatch_one_batch\u001b[0;34m(self, iterator)\u001b[0m\n\u001b[1;32m    845\u001b[0m                 \u001b[0;32mreturn\u001b[0m \u001b[0;32mFalse\u001b[0m\u001b[0;34m\u001b[0m\u001b[0;34m\u001b[0m\u001b[0m\n\u001b[1;32m    846\u001b[0m             \u001b[0;32melse\u001b[0m\u001b[0;34m:\u001b[0m\u001b[0;34m\u001b[0m\u001b[0;34m\u001b[0m\u001b[0m\n\u001b[0;32m--> 847\u001b[0;31m                 \u001b[0mself\u001b[0m\u001b[0;34m.\u001b[0m\u001b[0m_dispatch\u001b[0m\u001b[0;34m(\u001b[0m\u001b[0mtasks\u001b[0m\u001b[0;34m)\u001b[0m\u001b[0;34m\u001b[0m\u001b[0;34m\u001b[0m\u001b[0m\n\u001b[0m\u001b[1;32m    848\u001b[0m                 \u001b[0;32mreturn\u001b[0m \u001b[0;32mTrue\u001b[0m\u001b[0;34m\u001b[0m\u001b[0;34m\u001b[0m\u001b[0m\n\u001b[1;32m    849\u001b[0m \u001b[0;34m\u001b[0m\u001b[0m\n",
            "\u001b[0;32m/usr/local/lib/python3.6/dist-packages/joblib/parallel.py\u001b[0m in \u001b[0;36m_dispatch\u001b[0;34m(self, batch)\u001b[0m\n\u001b[1;32m    763\u001b[0m         \u001b[0;32mwith\u001b[0m \u001b[0mself\u001b[0m\u001b[0;34m.\u001b[0m\u001b[0m_lock\u001b[0m\u001b[0;34m:\u001b[0m\u001b[0;34m\u001b[0m\u001b[0;34m\u001b[0m\u001b[0m\n\u001b[1;32m    764\u001b[0m             \u001b[0mjob_idx\u001b[0m \u001b[0;34m=\u001b[0m \u001b[0mlen\u001b[0m\u001b[0;34m(\u001b[0m\u001b[0mself\u001b[0m\u001b[0;34m.\u001b[0m\u001b[0m_jobs\u001b[0m\u001b[0;34m)\u001b[0m\u001b[0;34m\u001b[0m\u001b[0;34m\u001b[0m\u001b[0m\n\u001b[0;32m--> 765\u001b[0;31m             \u001b[0mjob\u001b[0m \u001b[0;34m=\u001b[0m \u001b[0mself\u001b[0m\u001b[0;34m.\u001b[0m\u001b[0m_backend\u001b[0m\u001b[0;34m.\u001b[0m\u001b[0mapply_async\u001b[0m\u001b[0;34m(\u001b[0m\u001b[0mbatch\u001b[0m\u001b[0;34m,\u001b[0m \u001b[0mcallback\u001b[0m\u001b[0;34m=\u001b[0m\u001b[0mcb\u001b[0m\u001b[0;34m)\u001b[0m\u001b[0;34m\u001b[0m\u001b[0;34m\u001b[0m\u001b[0m\n\u001b[0m\u001b[1;32m    766\u001b[0m             \u001b[0;31m# A job can complete so quickly than its callback is\u001b[0m\u001b[0;34m\u001b[0m\u001b[0;34m\u001b[0m\u001b[0;34m\u001b[0m\u001b[0m\n\u001b[1;32m    767\u001b[0m             \u001b[0;31m# called before we get here, causing self._jobs to\u001b[0m\u001b[0;34m\u001b[0m\u001b[0;34m\u001b[0m\u001b[0;34m\u001b[0m\u001b[0m\n",
            "\u001b[0;32m/usr/local/lib/python3.6/dist-packages/joblib/_parallel_backends.py\u001b[0m in \u001b[0;36mapply_async\u001b[0;34m(self, func, callback)\u001b[0m\n\u001b[1;32m    204\u001b[0m     \u001b[0;32mdef\u001b[0m \u001b[0mapply_async\u001b[0m\u001b[0;34m(\u001b[0m\u001b[0mself\u001b[0m\u001b[0;34m,\u001b[0m \u001b[0mfunc\u001b[0m\u001b[0;34m,\u001b[0m \u001b[0mcallback\u001b[0m\u001b[0;34m=\u001b[0m\u001b[0;32mNone\u001b[0m\u001b[0;34m)\u001b[0m\u001b[0;34m:\u001b[0m\u001b[0;34m\u001b[0m\u001b[0;34m\u001b[0m\u001b[0m\n\u001b[1;32m    205\u001b[0m         \u001b[0;34m\"\"\"Schedule a func to be run\"\"\"\u001b[0m\u001b[0;34m\u001b[0m\u001b[0;34m\u001b[0m\u001b[0m\n\u001b[0;32m--> 206\u001b[0;31m         \u001b[0mresult\u001b[0m \u001b[0;34m=\u001b[0m \u001b[0mImmediateResult\u001b[0m\u001b[0;34m(\u001b[0m\u001b[0mfunc\u001b[0m\u001b[0;34m)\u001b[0m\u001b[0;34m\u001b[0m\u001b[0;34m\u001b[0m\u001b[0m\n\u001b[0m\u001b[1;32m    207\u001b[0m         \u001b[0;32mif\u001b[0m \u001b[0mcallback\u001b[0m\u001b[0;34m:\u001b[0m\u001b[0;34m\u001b[0m\u001b[0;34m\u001b[0m\u001b[0m\n\u001b[1;32m    208\u001b[0m             \u001b[0mcallback\u001b[0m\u001b[0;34m(\u001b[0m\u001b[0mresult\u001b[0m\u001b[0;34m)\u001b[0m\u001b[0;34m\u001b[0m\u001b[0;34m\u001b[0m\u001b[0m\n",
            "\u001b[0;32m/usr/local/lib/python3.6/dist-packages/joblib/_parallel_backends.py\u001b[0m in \u001b[0;36m__init__\u001b[0;34m(self, batch)\u001b[0m\n\u001b[1;32m    568\u001b[0m         \u001b[0;31m# Don't delay the application, to avoid keeping the input\u001b[0m\u001b[0;34m\u001b[0m\u001b[0;34m\u001b[0m\u001b[0;34m\u001b[0m\u001b[0m\n\u001b[1;32m    569\u001b[0m         \u001b[0;31m# arguments in memory\u001b[0m\u001b[0;34m\u001b[0m\u001b[0;34m\u001b[0m\u001b[0;34m\u001b[0m\u001b[0m\n\u001b[0;32m--> 570\u001b[0;31m         \u001b[0mself\u001b[0m\u001b[0;34m.\u001b[0m\u001b[0mresults\u001b[0m \u001b[0;34m=\u001b[0m \u001b[0mbatch\u001b[0m\u001b[0;34m(\u001b[0m\u001b[0;34m)\u001b[0m\u001b[0;34m\u001b[0m\u001b[0;34m\u001b[0m\u001b[0m\n\u001b[0m\u001b[1;32m    571\u001b[0m \u001b[0;34m\u001b[0m\u001b[0m\n\u001b[1;32m    572\u001b[0m     \u001b[0;32mdef\u001b[0m \u001b[0mget\u001b[0m\u001b[0;34m(\u001b[0m\u001b[0mself\u001b[0m\u001b[0;34m)\u001b[0m\u001b[0;34m:\u001b[0m\u001b[0;34m\u001b[0m\u001b[0;34m\u001b[0m\u001b[0m\n",
            "\u001b[0;32m/usr/local/lib/python3.6/dist-packages/joblib/parallel.py\u001b[0m in \u001b[0;36m__call__\u001b[0;34m(self)\u001b[0m\n\u001b[1;32m    251\u001b[0m         \u001b[0;32mwith\u001b[0m \u001b[0mparallel_backend\u001b[0m\u001b[0;34m(\u001b[0m\u001b[0mself\u001b[0m\u001b[0;34m.\u001b[0m\u001b[0m_backend\u001b[0m\u001b[0;34m,\u001b[0m \u001b[0mn_jobs\u001b[0m\u001b[0;34m=\u001b[0m\u001b[0mself\u001b[0m\u001b[0;34m.\u001b[0m\u001b[0m_n_jobs\u001b[0m\u001b[0;34m)\u001b[0m\u001b[0;34m:\u001b[0m\u001b[0;34m\u001b[0m\u001b[0;34m\u001b[0m\u001b[0m\n\u001b[1;32m    252\u001b[0m             return [func(*args, **kwargs)\n\u001b[0;32m--> 253\u001b[0;31m                     for func, args, kwargs in self.items]\n\u001b[0m\u001b[1;32m    254\u001b[0m \u001b[0;34m\u001b[0m\u001b[0m\n\u001b[1;32m    255\u001b[0m     \u001b[0;32mdef\u001b[0m \u001b[0m__reduce__\u001b[0m\u001b[0;34m(\u001b[0m\u001b[0mself\u001b[0m\u001b[0;34m)\u001b[0m\u001b[0;34m:\u001b[0m\u001b[0;34m\u001b[0m\u001b[0;34m\u001b[0m\u001b[0m\n",
            "\u001b[0;32m/usr/local/lib/python3.6/dist-packages/joblib/parallel.py\u001b[0m in \u001b[0;36m<listcomp>\u001b[0;34m(.0)\u001b[0m\n\u001b[1;32m    251\u001b[0m         \u001b[0;32mwith\u001b[0m \u001b[0mparallel_backend\u001b[0m\u001b[0;34m(\u001b[0m\u001b[0mself\u001b[0m\u001b[0;34m.\u001b[0m\u001b[0m_backend\u001b[0m\u001b[0;34m,\u001b[0m \u001b[0mn_jobs\u001b[0m\u001b[0;34m=\u001b[0m\u001b[0mself\u001b[0m\u001b[0;34m.\u001b[0m\u001b[0m_n_jobs\u001b[0m\u001b[0;34m)\u001b[0m\u001b[0;34m:\u001b[0m\u001b[0;34m\u001b[0m\u001b[0;34m\u001b[0m\u001b[0m\n\u001b[1;32m    252\u001b[0m             return [func(*args, **kwargs)\n\u001b[0;32m--> 253\u001b[0;31m                     for func, args, kwargs in self.items]\n\u001b[0m\u001b[1;32m    254\u001b[0m \u001b[0;34m\u001b[0m\u001b[0m\n\u001b[1;32m    255\u001b[0m     \u001b[0;32mdef\u001b[0m \u001b[0m__reduce__\u001b[0m\u001b[0;34m(\u001b[0m\u001b[0mself\u001b[0m\u001b[0;34m)\u001b[0m\u001b[0;34m:\u001b[0m\u001b[0;34m\u001b[0m\u001b[0;34m\u001b[0m\u001b[0m\n",
            "\u001b[0;32m/usr/local/lib/python3.6/dist-packages/sklearn/model_selection/_validation.py\u001b[0m in \u001b[0;36m_fit_and_score\u001b[0;34m(estimator, X, y, scorer, train, test, verbose, parameters, fit_params, return_train_score, return_parameters, return_n_test_samples, return_times, return_estimator, error_score)\u001b[0m\n\u001b[1;32m    513\u001b[0m             \u001b[0mestimator\u001b[0m\u001b[0;34m.\u001b[0m\u001b[0mfit\u001b[0m\u001b[0;34m(\u001b[0m\u001b[0mX_train\u001b[0m\u001b[0;34m,\u001b[0m \u001b[0;34m**\u001b[0m\u001b[0mfit_params\u001b[0m\u001b[0;34m)\u001b[0m\u001b[0;34m\u001b[0m\u001b[0;34m\u001b[0m\u001b[0m\n\u001b[1;32m    514\u001b[0m         \u001b[0;32melse\u001b[0m\u001b[0;34m:\u001b[0m\u001b[0;34m\u001b[0m\u001b[0;34m\u001b[0m\u001b[0m\n\u001b[0;32m--> 515\u001b[0;31m             \u001b[0mestimator\u001b[0m\u001b[0;34m.\u001b[0m\u001b[0mfit\u001b[0m\u001b[0;34m(\u001b[0m\u001b[0mX_train\u001b[0m\u001b[0;34m,\u001b[0m \u001b[0my_train\u001b[0m\u001b[0;34m,\u001b[0m \u001b[0;34m**\u001b[0m\u001b[0mfit_params\u001b[0m\u001b[0;34m)\u001b[0m\u001b[0;34m\u001b[0m\u001b[0;34m\u001b[0m\u001b[0m\n\u001b[0m\u001b[1;32m    516\u001b[0m \u001b[0;34m\u001b[0m\u001b[0m\n\u001b[1;32m    517\u001b[0m     \u001b[0;32mexcept\u001b[0m \u001b[0mException\u001b[0m \u001b[0;32mas\u001b[0m \u001b[0me\u001b[0m\u001b[0;34m:\u001b[0m\u001b[0;34m\u001b[0m\u001b[0;34m\u001b[0m\u001b[0m\n",
            "\u001b[0;32m/usr/local/lib/python3.6/dist-packages/xgboost/sklearn.py\u001b[0m in \u001b[0;36mfit\u001b[0;34m(self, X, y, sample_weight, base_margin, eval_set, eval_metric, early_stopping_rounds, verbose, xgb_model, sample_weight_eval_set, callbacks)\u001b[0m\n\u001b[1;32m    822\u001b[0m                               \u001b[0mevals_result\u001b[0m\u001b[0;34m=\u001b[0m\u001b[0mevals_result\u001b[0m\u001b[0;34m,\u001b[0m \u001b[0mobj\u001b[0m\u001b[0;34m=\u001b[0m\u001b[0mobj\u001b[0m\u001b[0;34m,\u001b[0m \u001b[0mfeval\u001b[0m\u001b[0;34m=\u001b[0m\u001b[0mfeval\u001b[0m\u001b[0;34m,\u001b[0m\u001b[0;34m\u001b[0m\u001b[0;34m\u001b[0m\u001b[0m\n\u001b[1;32m    823\u001b[0m                               \u001b[0mverbose_eval\u001b[0m\u001b[0;34m=\u001b[0m\u001b[0mverbose\u001b[0m\u001b[0;34m,\u001b[0m \u001b[0mxgb_model\u001b[0m\u001b[0;34m=\u001b[0m\u001b[0mxgb_model\u001b[0m\u001b[0;34m,\u001b[0m\u001b[0;34m\u001b[0m\u001b[0;34m\u001b[0m\u001b[0m\n\u001b[0;32m--> 824\u001b[0;31m                               callbacks=callbacks)\n\u001b[0m\u001b[1;32m    825\u001b[0m \u001b[0;34m\u001b[0m\u001b[0m\n\u001b[1;32m    826\u001b[0m         \u001b[0mself\u001b[0m\u001b[0;34m.\u001b[0m\u001b[0mobjective\u001b[0m \u001b[0;34m=\u001b[0m \u001b[0mxgb_options\u001b[0m\u001b[0;34m[\u001b[0m\u001b[0;34m\"objective\"\u001b[0m\u001b[0;34m]\u001b[0m\u001b[0;34m\u001b[0m\u001b[0;34m\u001b[0m\u001b[0m\n",
            "\u001b[0;32m/usr/local/lib/python3.6/dist-packages/xgboost/training.py\u001b[0m in \u001b[0;36mtrain\u001b[0;34m(params, dtrain, num_boost_round, evals, obj, feval, maximize, early_stopping_rounds, evals_result, verbose_eval, xgb_model, callbacks)\u001b[0m\n\u001b[1;32m    210\u001b[0m                            \u001b[0mevals\u001b[0m\u001b[0;34m=\u001b[0m\u001b[0mevals\u001b[0m\u001b[0;34m,\u001b[0m\u001b[0;34m\u001b[0m\u001b[0;34m\u001b[0m\u001b[0m\n\u001b[1;32m    211\u001b[0m                            \u001b[0mobj\u001b[0m\u001b[0;34m=\u001b[0m\u001b[0mobj\u001b[0m\u001b[0;34m,\u001b[0m \u001b[0mfeval\u001b[0m\u001b[0;34m=\u001b[0m\u001b[0mfeval\u001b[0m\u001b[0;34m,\u001b[0m\u001b[0;34m\u001b[0m\u001b[0;34m\u001b[0m\u001b[0m\n\u001b[0;32m--> 212\u001b[0;31m                            xgb_model=xgb_model, callbacks=callbacks)\n\u001b[0m\u001b[1;32m    213\u001b[0m \u001b[0;34m\u001b[0m\u001b[0m\n\u001b[1;32m    214\u001b[0m \u001b[0;34m\u001b[0m\u001b[0m\n",
            "\u001b[0;32m/usr/local/lib/python3.6/dist-packages/xgboost/training.py\u001b[0m in \u001b[0;36m_train_internal\u001b[0;34m(params, dtrain, num_boost_round, evals, obj, feval, xgb_model, callbacks)\u001b[0m\n\u001b[1;32m     73\u001b[0m         \u001b[0;31m# Skip the first update if it is a recovery step.\u001b[0m\u001b[0;34m\u001b[0m\u001b[0;34m\u001b[0m\u001b[0;34m\u001b[0m\u001b[0m\n\u001b[1;32m     74\u001b[0m         \u001b[0;32mif\u001b[0m \u001b[0mversion\u001b[0m \u001b[0;34m%\u001b[0m \u001b[0;36m2\u001b[0m \u001b[0;34m==\u001b[0m \u001b[0;36m0\u001b[0m\u001b[0;34m:\u001b[0m\u001b[0;34m\u001b[0m\u001b[0;34m\u001b[0m\u001b[0m\n\u001b[0;32m---> 75\u001b[0;31m             \u001b[0mbst\u001b[0m\u001b[0;34m.\u001b[0m\u001b[0mupdate\u001b[0m\u001b[0;34m(\u001b[0m\u001b[0mdtrain\u001b[0m\u001b[0;34m,\u001b[0m \u001b[0mi\u001b[0m\u001b[0;34m,\u001b[0m \u001b[0mobj\u001b[0m\u001b[0;34m)\u001b[0m\u001b[0;34m\u001b[0m\u001b[0;34m\u001b[0m\u001b[0m\n\u001b[0m\u001b[1;32m     76\u001b[0m             \u001b[0mbst\u001b[0m\u001b[0;34m.\u001b[0m\u001b[0msave_rabit_checkpoint\u001b[0m\u001b[0;34m(\u001b[0m\u001b[0;34m)\u001b[0m\u001b[0;34m\u001b[0m\u001b[0;34m\u001b[0m\u001b[0m\n\u001b[1;32m     77\u001b[0m             \u001b[0mversion\u001b[0m \u001b[0;34m+=\u001b[0m \u001b[0;36m1\u001b[0m\u001b[0;34m\u001b[0m\u001b[0;34m\u001b[0m\u001b[0m\n",
            "\u001b[0;32m/usr/local/lib/python3.6/dist-packages/xgboost/core.py\u001b[0m in \u001b[0;36mupdate\u001b[0;34m(self, dtrain, iteration, fobj)\u001b[0m\n\u001b[1;32m   1367\u001b[0m             _check_call(_LIB.XGBoosterUpdateOneIter(self.handle,\n\u001b[1;32m   1368\u001b[0m                                                     \u001b[0mctypes\u001b[0m\u001b[0;34m.\u001b[0m\u001b[0mc_int\u001b[0m\u001b[0;34m(\u001b[0m\u001b[0miteration\u001b[0m\u001b[0;34m)\u001b[0m\u001b[0;34m,\u001b[0m\u001b[0;34m\u001b[0m\u001b[0;34m\u001b[0m\u001b[0m\n\u001b[0;32m-> 1369\u001b[0;31m                                                     dtrain.handle))\n\u001b[0m\u001b[1;32m   1370\u001b[0m         \u001b[0;32melse\u001b[0m\u001b[0;34m:\u001b[0m\u001b[0;34m\u001b[0m\u001b[0;34m\u001b[0m\u001b[0m\n\u001b[1;32m   1371\u001b[0m             \u001b[0mpred\u001b[0m \u001b[0;34m=\u001b[0m \u001b[0mself\u001b[0m\u001b[0;34m.\u001b[0m\u001b[0mpredict\u001b[0m\u001b[0;34m(\u001b[0m\u001b[0mdtrain\u001b[0m\u001b[0;34m,\u001b[0m \u001b[0moutput_margin\u001b[0m\u001b[0;34m=\u001b[0m\u001b[0;32mTrue\u001b[0m\u001b[0;34m,\u001b[0m \u001b[0mtraining\u001b[0m\u001b[0;34m=\u001b[0m\u001b[0;32mTrue\u001b[0m\u001b[0;34m)\u001b[0m\u001b[0;34m\u001b[0m\u001b[0;34m\u001b[0m\u001b[0m\n",
            "\u001b[0;31mKeyboardInterrupt\u001b[0m: "
          ]
        }
      ]
    },
    {
      "cell_type": "markdown",
      "metadata": {
        "id": "_aUl9bLDS4Xh",
        "colab_type": "text"
      },
      "source": [
        "#### Lets continue with the estimated ```scale_pos_weight```"
      ]
    },
    {
      "cell_type": "code",
      "metadata": {
        "id": "rk4XP9xjwWeH",
        "colab_type": "code",
        "colab": {
          "base_uri": "https://localhost:8080/",
          "height": 222
        },
        "outputId": "9dad44a4-fb40-48f5-a7dc-3a1489825139"
      },
      "source": [
        "%%time\n",
        "#fit\n",
        "model.fit(X_train, y_train)"
      ],
      "execution_count": 26,
      "outputs": [
        {
          "output_type": "stream",
          "text": [
            "CPU times: user 10min 45s, sys: 822 ms, total: 10min 45s\n",
            "Wall time: 5min 34s\n"
          ],
          "name": "stdout"
        },
        {
          "output_type": "execute_result",
          "data": {
            "text/plain": [
              "XGBClassifier(base_score=0.5, booster='gbtree', colsample_bylevel=1,\n",
              "              colsample_bynode=1, colsample_bytree=1, gamma=0, gpu_id=-1,\n",
              "              importance_type='gain', interaction_constraints='',\n",
              "              learning_rate=0.300000012, max_delta_step=0, max_depth=6,\n",
              "              min_child_weight=1, missing=nan, monotone_constraints='()',\n",
              "              n_estimators=100, n_jobs=0, num_parallel_tree=1,\n",
              "              objective='binary:logistic', random_state=0, reg_alpha=0,\n",
              "              reg_lambda=1, scale_pos_weight=18.274, subsample=1,\n",
              "              tree_method='exact', validate_parameters=1, verbosity=None)"
            ]
          },
          "metadata": {
            "tags": []
          },
          "execution_count": 26
        }
      ]
    },
    {
      "cell_type": "markdown",
      "metadata": {
        "id": "R8TOS41xe_Pe",
        "colab_type": "text"
      },
      "source": [
        "#### ```most_important``` features"
      ]
    },
    {
      "cell_type": "code",
      "metadata": {
        "id": "iuDRvU4R-QwM",
        "colab_type": "code",
        "colab": {
          "base_uri": "https://localhost:8080/",
          "height": 36
        },
        "outputId": "bd70c9b0-3890-43a4-9527-d794e9fb7573"
      },
      "source": [
        "sorted_idx = np.argsort(model.feature_importances_)[::-1]\n",
        "sorted_idx\n"
      ],
      "execution_count": 27,
      "outputs": [
        {
          "output_type": "execute_result",
          "data": {
            "text/plain": [
              "array([3, 4, 2, 0, 1, 5, 6])"
            ]
          },
          "metadata": {
            "tags": []
          },
          "execution_count": 27
        }
      ]
    },
    {
      "cell_type": "code",
      "metadata": {
        "id": "cVrx9NHH_2Sv",
        "colab_type": "code",
        "colab": {
          "base_uri": "https://localhost:8080/",
          "height": 147
        },
        "outputId": "2c4de7cb-14a3-449d-f56f-63e5374745e5"
      },
      "source": [
        "for index in sorted_idx:\n",
        "    print([train.columns[index], model.feature_importances_[index]]) "
      ],
      "execution_count": 28,
      "outputs": [
        {
          "output_type": "stream",
          "text": [
            "['y', 0.33944213]\n",
            "['year', 0.23138867]\n",
            "['segment_id', 0.19666845]\n",
            "['datetime x segment_id', 0.11237471]\n",
            "['datetime', 0.06834111]\n",
            "['month', 0.051784962]\n",
            "['day', 0.0]\n"
          ],
          "name": "stdout"
        }
      ]
    },
    {
      "cell_type": "code",
      "metadata": {
        "id": "pwBvoAvt_r9c",
        "colab_type": "code",
        "colab": {
          "base_uri": "https://localhost:8080/",
          "height": 295
        },
        "outputId": "dede593b-7c98-40b8-fe96-ea459df9009a"
      },
      "source": [
        "plot_importance(model, max_num_features = 7)\n",
        "pyplot.show()"
      ],
      "execution_count": 29,
      "outputs": [
        {
          "output_type": "display_data",
          "data": {
            "image/png": "[encoded data removed]",
            "text/plain": [
              "<Figure size 432x288 with 1 Axes>"
            ]
          },
          "metadata": {
            "tags": [],
            "needs_background": "light"
          }
        }
      ]
    },
    {
      "cell_type": "markdown",
      "metadata": {
        "id": "9L7TPy7zf8kz",
        "colab_type": "text"
      },
      "source": [
        "#### ```hour``` of the day!"
      ]
    },
    {
      "cell_type": "markdown",
      "metadata": {
        "id": "dO_QxpOM1eYL",
        "colab_type": "text"
      },
      "source": [
        "## Optimal Threshold for ROC Curve\n",
        "\n",
        "> A useful tool when predicting the probability of a binary outcome is the *Receiver Operating Characteristic* curve, or ROC curve.\n",
        "\n",
        "> It is a plot of the false positive rate (x-axis) versus the true positive rate (y-axis) for a number of different candidate threshold values between 0.0 and 1.0. In other words, it plots the false alarm rate versus the hit rate - There are many awesome resources online for detailed explanations. [Machine Learning Mastery](https://machinelearningmastery.com/) helped me.\n",
        "\n",
        "\n",
        "\n"
      ]
    },
    {
      "cell_type": "code",
      "metadata": {
        "id": "0p9kjbQOmFbX",
        "colab_type": "code",
        "colab": {}
      },
      "source": [
        "#lets predict *PROBABILITIES*  on the training-set\n",
        "y_pred_train = model.predict_proba(X_train)"
      ],
      "execution_count": 62,
      "outputs": []
    },
    {
      "cell_type": "code",
      "metadata": {
        "id": "5gEPKPCdun0I",
        "colab_type": "code",
        "colab": {}
      },
      "source": [
        "# keep probabilities for the positive outcome only\n",
        "y_pred_train = y_pred_train[:, 1]\n",
        "# calculate roc curves\n",
        "fpr, tpr, thresholds = roc_curve(y_train, y_pred_train)\n",
        "\n",
        "#lets predict *PROBABILITIES*  on the training-set\n",
        "y_pred_test = model.predict_proba(X_test)\n",
        "# keep probabilities for the positive outcome only\n",
        "y_pred_test = y_pred_test[:, 1]\n",
        "# calculate roc curves\n",
        "fpr_t, tpr_t, thresholds_t = roc_curve(y_test, y_pred_test)"
      ],
      "execution_count": 63,
      "outputs": []
    },
    {
      "cell_type": "code",
      "metadata": {
        "id": "XlNIHPn9v40b",
        "colab_type": "code",
        "colab": {
          "base_uri": "https://localhost:8080/",
          "height": 54
        },
        "outputId": "fc1dbea0-9e7b-47f8-a657-a8a2f101641d"
      },
      "source": [
        "# calculate the g-mean for each threshold\n",
        "#the train\n",
        "gmeans = sqrt(tpr * (1-fpr))\n",
        "# locate the index of the largest g-mean\n",
        "ix = argmax(gmeans)\n",
        "print('Best ROC Training Threshold = %f, G-Mean=%.3f' % (thresholds[ix], gmeans[ix]))\n",
        "\n",
        "#the test\n",
        "gmeans_t = sqrt(tpr_t * (1-fpr_t))\n",
        "# locate the index of the largest g-mean\n",
        "ix_t = argmax(gmeans_t)\n",
        "print('Best ROC Training Threshold = %f, G-Mean=%.3f' % (thresholds_t[ix_t], gmeans_t[ix_t]))"
      ],
      "execution_count": 65,
      "outputs": [
        {
          "output_type": "stream",
          "text": [
            "Best ROC Training Threshold = 0.065169, G-Mean=0.843\n",
            "Best ROC Training Threshold = 0.046988, G-Mean=0.810\n"
          ],
          "name": "stdout"
        }
      ]
    },
    {
      "cell_type": "markdown",
      "metadata": {
        "id": "_Q-6kQS3Rdpl",
        "colab_type": "text"
      },
      "source": [
        "#### The score johnowhitaker recommends"
      ]
    },
    {
      "cell_type": "code",
      "metadata": {
        "id": "mT3E9wnFL08d",
        "colab_type": "code",
        "colab": {
          "base_uri": "https://localhost:8080/",
          "height": 73
        },
        "outputId": "3142b5f2-c5ed-43ce-fc42-c2a23235b051"
      },
      "source": [
        "print('Training log_loss:', log_loss(y_train, y_pred_train))\n",
        "print('')\n",
        "print('Training log_loss:', log_loss(y_test, y_pred_test))"
      ],
      "execution_count": 66,
      "outputs": [
        {
          "output_type": "stream",
          "text": [
            "Training log_loss: 0.04834412478145234\n",
            "\n",
            "Training log_loss: 0.04918006201198727\n"
          ],
          "name": "stdout"
        }
      ]
    },
    {
      "cell_type": "markdown",
      "metadata": {
        "id": "oUCjmYIwfsUm",
        "colab_type": "text"
      },
      "source": [
        "#### Plot ROC curves for both the ```training``` and ```test``` datasets"
      ]
    },
    {
      "cell_type": "code",
      "metadata": {
        "id": "aLuaDm0bIGWP",
        "colab_type": "code",
        "colab": {
          "base_uri": "https://localhost:8080/",
          "height": 279
        },
        "outputId": "dc670820-bb6d-456b-b361-b2e09b60753e"
      },
      "source": [
        "#plot\n",
        "fig,ax = plt.subplots()\n",
        "plt.plot([0,1],[0,1],'r-',label='Random Guess',color='orange')#,lw=3)\n",
        "plt.plot(fpr,tpr,label='ROC (Train)')#,lw=3)\n",
        "plt.plot(fpr_t,tpr_t,'r:',label='ROC (Test)',color='steelblue')#,lw=3)\n",
        "#pyplot.scatter(fpr[ix], tpr[ix], marker='o', color='black', label='Best Train')\n",
        "#pyplot.scatter(fpr_test[ix_t], tpr_test[ix_t], marker='o', color='red', label='Best Test')\n",
        "plt.grid()\n",
        "plt.xlabel('False Positive Rate')\n",
        "plt.ylabel('True Positive Rate')\n",
        "plt.legend()\n",
        "plt.show()"
      ],
      "execution_count": 67,
      "outputs": [
        {
          "output_type": "display_data",
          "data": {
            "image/png": "[encoded data removed]",
            "text/plain": [
              "<Figure size 432x288 with 1 Axes>"
            ]
          },
          "metadata": {
            "tags": [],
            "needs_background": "light"
          }
        }
      ]
    },
    {
      "cell_type": "code",
      "metadata": {
        "id": "8amYnR0JgGsZ",
        "colab_type": "code",
        "colab": {
          "base_uri": "https://localhost:8080/",
          "height": 279
        },
        "outputId": "2a0c69e1-5b4e-43ab-d544-a297f209d1e7"
      },
      "source": [
        "plt.plot(thresholds,tpr,'r-',label='TPR (Train)',color='orange')#,lw=3)\n",
        "plt.plot(thresholds,fpr,'r-',label='FPR (Train)',color='steelblue')#,lw=3)\n",
        "plt.plot(thresholds_t,tpr_t,'--',label='TPR (Test)',color='orange')#,lw=3)\n",
        "plt.plot(thresholds_t,fpr_t,'--',label='FPR (Test)',color='steelblue')#,lw=3)\n",
        "plt.gca().set_xbound(lower=0,upper=1)\n",
        "plt.xlabel('Threshold')\n",
        "plt.ylabel('True/False Positive Rate')\n",
        "plt.legend()\n",
        "plt.show()"
      ],
      "execution_count": 70,
      "outputs": [
        {
          "output_type": "display_data",
          "data": {
            "image/png": "[encoded data removed]",
            "text/plain": [
              "<Figure size 432x288 with 1 Axes>"
            ]
          },
          "metadata": {
            "tags": [],
            "needs_background": "light"
          }
        }
      ]
    },
    {
      "cell_type": "markdown",
      "metadata": {
        "id": "XeEJDQ-F5L7e",
        "colab_type": "text"
      },
      "source": [
        "## Optimal Threshold for Precision-Recall Curve\n",
        "\n",
        "> Precision: The fraction of the time we are correct when making a positive prediction (saying there is an accident)\n",
        "\n",
        "> Recall: The fraction of accidents we predict. \n",
        "\n",
        "#### We can calculate a Precision-Recall Curve with probabilities but to genereate a meaningful ```f1-score```/measure (the challenge requirement) we need to predict a class - a ```0``` or a ```1```.\n"
      ]
    },
    {
      "cell_type": "code",
      "metadata": {
        "id": "8UfY078qbOPD",
        "colab_type": "code",
        "colab": {
          "base_uri": "https://localhost:8080/",
          "height": 73
        },
        "outputId": "c2ad748e-687d-4d0e-9b45-06d8c1c221e0"
      },
      "source": [
        "#for the training\n",
        "# predict class values\n",
        "yhat = model.predict(X_train)\n",
        "lr_precision, lr_recall, thresh = precision_recall_curve(y_train, y_pred_train)\n",
        "lr_f1, lr_auc = f1_score(y_train, yhat), auc(lr_recall, lr_precision)\n",
        "# summarize scores\n",
        "print(' Training Classification: f1=%.3f auc=%.3f' % (lr_f1, lr_auc))\n",
        "print('')\n",
        "#for the training\n",
        "# predict class values\n",
        "yhat_t = model.predict(X_test)\n",
        "lr_precision_t, lr_recall_t, thresh_t = precision_recall_curve(y_test, y_pred_test)\n",
        "lr_f1_t, lr_auc_t = f1_score(y_test, yhat_t), auc(lr_recall_t, lr_precision_t)\n",
        "# summarize scores\n",
        "print(' Test Classification: f1=%.3f auc=%.3f' % (lr_f1_t, lr_auc_t))"
      ],
      "execution_count": 73,
      "outputs": [
        {
          "output_type": "stream",
          "text": [
            " Training Classification: f1=0.162 auc=0.083\n",
            "\n",
            " Test Classification: f1=0.146 auc=0.070\n"
          ],
          "name": "stdout"
        }
      ]
    },
    {
      "cell_type": "code",
      "metadata": {
        "id": "9R9X8luD6gdS",
        "colab_type": "code",
        "colab": {
          "base_uri": "https://localhost:8080/",
          "height": 279
        },
        "outputId": "36ea0311-0290-4b6c-fe6a-064b50c82b1b"
      },
      "source": [
        "fig,ax = plt.subplots()\n",
        "plt.plot(lr_precision,lr_recall,label='PR (Train)')#,lw=3)\n",
        "plt.plot(lr_precision_t,lr_recall_t,label='PR (Test)')\n",
        "#pyplot.scatter(recall[ix], precision[ix], marker='o', color='black', label='Best Training')\n",
        "#pyplot.scatter(recall_test[ix_t], precision_test[ix_t], marker='o', color='red', label='Best Test')\n",
        "plt.xlabel('Precision')\n",
        "plt.ylabel('Recall')\n",
        "plt.grid()\n",
        "plt.legend()\n",
        "plt.show()"
      ],
      "execution_count": 74,
      "outputs": [
        {
          "output_type": "display_data",
          "data": {
            "image/png": "[encoded data removed]",
            "text/plain": [
              "<Figure size 432x288 with 1 Axes>"
            ]
          },
          "metadata": {
            "tags": [],
            "needs_background": "light"
          }
        }
      ]
    },
    {
      "cell_type": "markdown",
      "metadata": {
        "id": "hH95-OTJo2pJ",
        "colab_type": "text"
      },
      "source": [
        "#### The scores show: the model that looked good according to the ```ROC Curve``` is in fact not so; when considering the ```precision and recall``` that focus on the positive class. The plot highlights that the model is just barely above the no skill line for most thresholds."
      ]
    },
    {
      "cell_type": "code",
      "metadata": {
        "id": "G5d7mVCMg-Zc",
        "colab_type": "code",
        "colab": {
          "base_uri": "https://localhost:8080/",
          "height": 279
        },
        "outputId": "abedffce-5d55-4435-94b6-bb2e05adc510"
      },
      "source": [
        "# threshold plot\n",
        "plt.plot(thresh,lr_precision[:-1],'r-',label='P (Train)',color='orange')#,lw=3)\n",
        "plt.plot(thresh,lr_recall[:-1],'r-',label='R (Train)',color='steelblue')#,lw=3)\n",
        "plt.plot(thresh_t,lr_precision_t[:-1],'--',label='P (Test)',color='orange')\n",
        "plt.plot(thresh_t,lr_recall_t[:-1],'--',label='R (Test)',color='steelblue')\n",
        "#plt.plot([0,1],[0,1],'k-',lw=2)\n",
        "plt.gca().set_xbound(lower=0,upper=1)\n",
        "plt.xlabel('Threshold')\n",
        "plt.ylabel('Precision/Recall')\n",
        "plt.legend()\n",
        "plt.show()"
      ],
      "execution_count": 75,
      "outputs": [
        {
          "output_type": "display_data",
          "data": {
            "image/png": "[encoded data removed]",
            "text/plain": [
              "<Figure size 432x288 with 1 Axes>"
            ]
          },
          "metadata": {
            "tags": [],
            "needs_background": "light"
          }
        }
      ]
    },
    {
      "cell_type": "markdown",
      "metadata": {
        "id": "y_D-7TLt8Lf7",
        "colab_type": "text"
      },
      "source": [
        "## Threshold Tuning for F1-Score\n",
        "\n",
        "\n",
        "\n",
        "> Our ```proba```bilities are ok. Now we need to apply a ```threshold``` to maximize an ```f1-score```. Why do we care about the ```f1-score```/measure: because it is the harmonic mean between ```precision``` and ```recall```. We can search for one.\n",
        "\n"
      ]
    },
    {
      "cell_type": "code",
      "metadata": {
        "id": "ZemR9J5X_jo2",
        "colab_type": "code",
        "colab": {}
      },
      "source": [
        "# apply threshold to predictions to create labels\n",
        "def to_labels(pos_preds, threshold):\n",
        "  '''\n",
        "  define a function to take the prediction and threshold as an argument and return an array of integers in {0, 1}\n",
        "  '''\n",
        "  return (pos_preds >= threshold).astype(int)"
      ],
      "execution_count": 41,
      "outputs": []
    },
    {
      "cell_type": "code",
      "metadata": {
        "id": "lJEow1JfBIT2",
        "colab_type": "code",
        "colab": {}
      },
      "source": [
        "# define thresholds (start, stop, step)\n",
        "threshold = np.arange(0, 1, 0.002)"
      ],
      "execution_count": 42,
      "outputs": []
    },
    {
      "cell_type": "code",
      "metadata": {
        "id": "by9TvFT_BLeb",
        "colab_type": "code",
        "colab": {}
      },
      "source": [
        "# evaluate each threshold\n",
        "scores = [f1_score(y_train, to_labels(y_pred_train, t)) for t in threshold]"
      ],
      "execution_count": 43,
      "outputs": []
    },
    {
      "cell_type": "code",
      "metadata": {
        "id": "ISSoKbOw8A9R",
        "colab_type": "code",
        "colab": {
          "base_uri": "https://localhost:8080/",
          "height": 36
        },
        "outputId": "b5eb8706-da9d-4c9b-e562-86f4c277da2e"
      },
      "source": [
        "# get best threshold\n",
        "ix = argmax(scores)\n",
        "print('Training Threshold = %.3f, F-Score = %.5f' % (threshold[ix], scores[ix]))"
      ],
      "execution_count": 44,
      "outputs": [
        {
          "output_type": "stream",
          "text": [
            "Training Threshold = 0.508, F-Score = 0.16283\n"
          ],
          "name": "stdout"
        }
      ]
    },
    {
      "cell_type": "markdown",
      "metadata": {
        "id": "IOU8rvfiAHgs",
        "colab_type": "text"
      },
      "source": [
        "#### The tuning confirms the Precision/Recall-Threshold ```plot``` above."
      ]
    },
    {
      "cell_type": "markdown",
      "metadata": {
        "id": "uT5FEGa2nmN7",
        "colab_type": "text"
      },
      "source": [
        "## Predicting"
      ]
    },
    {
      "cell_type": "code",
      "metadata": {
        "id": "v9iHMJc6jLjH",
        "colab_type": "code",
        "colab": {
          "base_uri": "https://localhost:8080/",
          "height": 293
        },
        "outputId": "fc284f29-4538-4c2f-c528-207da9b8ada9"
      },
      "source": [
        "print('Predicting on the Training-set with a Threshold of = %.3f' % 0.508)\n",
        "train['pred'] = (model.predict(train[x_cols]) > 0.508).astype(int)\n",
        "print(' Accuracy:',accuracy_score(train['y'],train['pred']))\n",
        "#rmse = np.sqrt(mean_squared_error(y_test, preds))\n",
        "print(\"RMSE: %f\" % (mean_squared_error(train['y'],train['pred'])))\n",
        "print(' f1-score for the + class:',f1_score(train['y'],train['pred']))\n",
        "print(' Precision for the + class:',precision_score(train['y'],train['pred']))\n",
        "print(' Recall for the + class:',recall_score(train['y'],train['pred']))\n",
        "#y_pred_train = model.predict(train[x_cols])\n",
        "print(' AUC:',roc_auc_score(train['y'],train['pred']))\n",
        "print(' Ave. Precision:',average_precision_score(train['y'],train['pred']))\n",
        "train.head(3)"
      ],
      "execution_count": 47,
      "outputs": [
        {
          "output_type": "stream",
          "text": [
            "Predicting on the Training-set with a Threshold of = 0.508\n",
            " Accuracy: 0.9940706892847311\n",
            "RMSE: 0.005929\n",
            " f1-score for the + class: 0.1580311652712809\n",
            " Precision for the + class: 0.13717477887549787\n",
            " Recall for the + class: 0.18636683063949402\n",
            " AUC: 0.5914281687308033\n",
            " Ave. Precision: 0.02799412774803429\n"
          ],
          "name": "stdout"
        },
        {
          "output_type": "execute_result",
          "data": {
            "text/html": [
              "<div>\n",
              "<style scoped>\n",
              "    .dataframe tbody tr th:only-of-type {\n",
              "        vertical-align: middle;\n",
              "    }\n",
              "\n",
              "    .dataframe tbody tr th {\n",
              "        vertical-align: top;\n",
              "    }\n",
              "\n",
              "    .dataframe thead th {\n",
              "        text-align: right;\n",
              "    }\n",
              "</style>\n",
              "<table border=\"1\" class=\"dataframe\">\n",
              "  <thead>\n",
              "    <tr style=\"text-align: right;\">\n",
              "      <th></th>\n",
              "      <th>datetime x segment_id</th>\n",
              "      <th>datetime</th>\n",
              "      <th>segment_id</th>\n",
              "      <th>y</th>\n",
              "      <th>year</th>\n",
              "      <th>month</th>\n",
              "      <th>day</th>\n",
              "      <th>hour</th>\n",
              "      <th>longitude</th>\n",
              "      <th>latitude</th>\n",
              "      <th>WIDTH</th>\n",
              "      <th>LANES</th>\n",
              "      <th>pred</th>\n",
              "    </tr>\n",
              "  </thead>\n",
              "  <tbody>\n",
              "    <tr>\n",
              "      <th>0</th>\n",
              "      <td>2017-01-01 00:00:00 x S0B3CGQ</td>\n",
              "      <td>2017-01-01 00:00:00</td>\n",
              "      <td>S0B3CGQ</td>\n",
              "      <td>0</td>\n",
              "      <td>2017</td>\n",
              "      <td>1</td>\n",
              "      <td>6</td>\n",
              "      <td>0</td>\n",
              "      <td>18.541422</td>\n",
              "      <td>-33.888613</td>\n",
              "      <td>0.0</td>\n",
              "      <td>0</td>\n",
              "      <td>0</td>\n",
              "    </tr>\n",
              "    <tr>\n",
              "      <th>1</th>\n",
              "      <td>2017-01-01 01:00:00 x S0B3CGQ</td>\n",
              "      <td>2017-01-01 01:00:00</td>\n",
              "      <td>S0B3CGQ</td>\n",
              "      <td>0</td>\n",
              "      <td>2017</td>\n",
              "      <td>1</td>\n",
              "      <td>6</td>\n",
              "      <td>1</td>\n",
              "      <td>18.541422</td>\n",
              "      <td>-33.888613</td>\n",
              "      <td>0.0</td>\n",
              "      <td>0</td>\n",
              "      <td>0</td>\n",
              "    </tr>\n",
              "    <tr>\n",
              "      <th>2</th>\n",
              "      <td>2017-01-01 02:00:00 x S0B3CGQ</td>\n",
              "      <td>2017-01-01 02:00:00</td>\n",
              "      <td>S0B3CGQ</td>\n",
              "      <td>0</td>\n",
              "      <td>2017</td>\n",
              "      <td>1</td>\n",
              "      <td>6</td>\n",
              "      <td>2</td>\n",
              "      <td>18.541422</td>\n",
              "      <td>-33.888613</td>\n",
              "      <td>0.0</td>\n",
              "      <td>0</td>\n",
              "      <td>0</td>\n",
              "    </tr>\n",
              "  </tbody>\n",
              "</table>\n",
              "</div>"
            ],
            "text/plain": [
              "           datetime x segment_id            datetime  ... LANES  pred\n",
              "0  2017-01-01 00:00:00 x S0B3CGQ 2017-01-01 00:00:00  ...     0     0\n",
              "1  2017-01-01 01:00:00 x S0B3CGQ 2017-01-01 01:00:00  ...     0     0\n",
              "2  2017-01-01 02:00:00 x S0B3CGQ 2017-01-01 02:00:00  ...     0     0\n",
              "\n",
              "[3 rows x 13 columns]"
            ]
          },
          "metadata": {
            "tags": []
          },
          "execution_count": 47
        }
      ]
    },
    {
      "cell_type": "code",
      "metadata": {
        "id": "WxuAm7T0SSq9",
        "colab_type": "code",
        "colab": {
          "base_uri": "https://localhost:8080/",
          "height": 36
        },
        "outputId": "f3bdf072-857b-4c34-cef7-d50f41584702"
      },
      "source": [
        "# Show predicted classes\n",
        "print(np.unique(train['pred'], return_counts=True))"
      ],
      "execution_count": 48,
      "outputs": [
        {
          "output_type": "stream",
          "text": [
            "(array([0, 1]), array([4746651,   19333]))\n"
          ],
          "name": "stdout"
        }
      ]
    },
    {
      "cell_type": "code",
      "metadata": {
        "id": "Vw-8o7MmU5EO",
        "colab_type": "code",
        "colab": {
          "base_uri": "https://localhost:8080/",
          "height": 367
        },
        "outputId": "7023e086-5365-4f0d-b5be-34a115c20354"
      },
      "source": [
        "cnf_matrix = confusion_matrix(train['y'], train['pred'])\n",
        "plot_confusion_matrix(cnf_matrix, classes=['0', '1'],\n",
        "                      title='Confusion matrix, without normalization')"
      ],
      "execution_count": 49,
      "outputs": [
        {
          "output_type": "stream",
          "text": [
            "Confusion matrix, without normalization\n",
            "[[4735073   16681]\n",
            " [  11578    2652]]\n"
          ],
          "name": "stdout"
        },
        {
          "output_type": "display_data",
          "data": {
            "image/png": "[encoded data removed]",
            "text/plain": [
              "<Figure size 432x288 with 2 Axes>"
            ]
          },
          "metadata": {
            "tags": [],
            "needs_background": "light"
          }
        }
      ]
    },
    {
      "cell_type": "code",
      "metadata": {
        "id": "4iywxaXtpHQX",
        "colab_type": "code",
        "colab": {
          "base_uri": "https://localhost:8080/",
          "height": 54
        },
        "outputId": "1ece8172-8398-42fa-b6fc-addc1c905ed4"
      },
      "source": [
        "print(len(train))\n",
        "good = train.loc[train['pred'] == 1]\n",
        "print(len(good))"
      ],
      "execution_count": 50,
      "outputs": [
        {
          "output_type": "stream",
          "text": [
            "4765984\n",
            "19333\n"
          ],
          "name": "stdout"
        }
      ]
    },
    {
      "cell_type": "code",
      "metadata": {
        "id": "2IRCMh-bHR3B",
        "colab_type": "code",
        "colab": {
          "base_uri": "https://localhost:8080/",
          "height": 185
        },
        "outputId": "4d66cde1-a166-4521-f4ee-18a9cee2bd1b"
      },
      "source": [
        "#have a look at the built-in report\n",
        "print(classification_report(train['y'], train['pred']))"
      ],
      "execution_count": 52,
      "outputs": [
        {
          "output_type": "stream",
          "text": [
            "              precision    recall  f1-score   support\n",
            "\n",
            "           0       1.00      1.00      1.00   4751754\n",
            "           1       0.14      0.19      0.16     14230\n",
            "\n",
            "    accuracy                           0.99   4765984\n",
            "   macro avg       0.57      0.59      0.58   4765984\n",
            "weighted avg       0.99      0.99      0.99   4765984\n",
            "\n"
          ],
          "name": "stdout"
        }
      ]
    },
    {
      "cell_type": "markdown",
      "metadata": {
        "id": "5gAs-KzWKOTA",
        "colab_type": "text"
      },
      "source": [
        "### Now our personal ```test```."
      ]
    },
    {
      "cell_type": "code",
      "metadata": {
        "id": "1hRQOoSFASY1",
        "colab_type": "code",
        "colab": {
          "base_uri": "https://localhost:8080/",
          "height": 293
        },
        "outputId": "f92d3bf2-7852-4550-8ab1-749843d853cd"
      },
      "source": [
        "print('Predicting on the Test-set with a Threshold of = %.3f' % 0.508)\n",
        "prediction['pred'] = (model.predict(prediction[x_cols]) > 0.508).astype(int)\n",
        "print (' Accuracy:',accuracy_score(prediction['y'],prediction['pred']))\n",
        "#rmse = np.sqrt(mean_squared_error(y_test, preds))\n",
        "print(\"RMSE: %f\" % (mean_squared_error(prediction['y'], prediction['pred'])))\n",
        "print (' f1-score for the + class:',f1_score(prediction['y'],prediction['pred']))\n",
        "print (' Precision for the + class:',precision_score(prediction['y'],prediction['pred']))\n",
        "print (' Recall for the + class:',recall_score(prediction['y'],prediction['pred']))\n",
        "#y_pred_test = model.predict(test[x_cols])\n",
        "print (' AUC:',roc_auc_score(prediction['y'],prediction['pred']))\n",
        "print (' Ave. Precision:',average_precision_score(prediction['y'],prediction['pred']))\n",
        "prediction.head(3)"
      ],
      "execution_count": 54,
      "outputs": [
        {
          "output_type": "stream",
          "text": [
            "Predicting on the Test-set with a Threshold of = 0.508\n",
            " Accuracy: 0.9895350308798218\n",
            "RMSE: 0.010465\n",
            " f1-score for the + class: 0.050522448042255134\n",
            " Precision for the + class: 0.05\n",
            " Recall for the + class: 0.051055929449988394\n",
            " AUC: 0.522868427484474\n",
            " Ave. Precision: 0.007727697758314951\n"
          ],
          "name": "stdout"
        },
        {
          "output_type": "execute_result",
          "data": {
            "text/html": [
              "<div>\n",
              "<style scoped>\n",
              "    .dataframe tbody tr th:only-of-type {\n",
              "        vertical-align: middle;\n",
              "    }\n",
              "\n",
              "    .dataframe tbody tr th {\n",
              "        vertical-align: top;\n",
              "    }\n",
              "\n",
              "    .dataframe thead th {\n",
              "        text-align: right;\n",
              "    }\n",
              "</style>\n",
              "<table border=\"1\" class=\"dataframe\">\n",
              "  <thead>\n",
              "    <tr style=\"text-align: right;\">\n",
              "      <th></th>\n",
              "      <th>datetime x segment_id</th>\n",
              "      <th>datetime</th>\n",
              "      <th>segment_id</th>\n",
              "      <th>y</th>\n",
              "      <th>year</th>\n",
              "      <th>month</th>\n",
              "      <th>day</th>\n",
              "      <th>hour</th>\n",
              "      <th>longitude</th>\n",
              "      <th>latitude</th>\n",
              "      <th>WIDTH</th>\n",
              "      <th>LANES</th>\n",
              "      <th>pred</th>\n",
              "    </tr>\n",
              "  </thead>\n",
              "  <tbody>\n",
              "    <tr>\n",
              "      <th>0</th>\n",
              "      <td>2018-09-01 00:00:00 x S0B3CGQ</td>\n",
              "      <td>2018-09-01 00:00:00</td>\n",
              "      <td>S0B3CGQ</td>\n",
              "      <td>0</td>\n",
              "      <td>2018</td>\n",
              "      <td>9</td>\n",
              "      <td>5</td>\n",
              "      <td>0</td>\n",
              "      <td>18.541422</td>\n",
              "      <td>-33.888613</td>\n",
              "      <td>0.0</td>\n",
              "      <td>0</td>\n",
              "      <td>0</td>\n",
              "    </tr>\n",
              "    <tr>\n",
              "      <th>1</th>\n",
              "      <td>2018-09-01 01:00:00 x S0B3CGQ</td>\n",
              "      <td>2018-09-01 01:00:00</td>\n",
              "      <td>S0B3CGQ</td>\n",
              "      <td>0</td>\n",
              "      <td>2018</td>\n",
              "      <td>9</td>\n",
              "      <td>5</td>\n",
              "      <td>1</td>\n",
              "      <td>18.541422</td>\n",
              "      <td>-33.888613</td>\n",
              "      <td>0.0</td>\n",
              "      <td>0</td>\n",
              "      <td>0</td>\n",
              "    </tr>\n",
              "    <tr>\n",
              "      <th>2</th>\n",
              "      <td>2018-09-01 02:00:00 x S0B3CGQ</td>\n",
              "      <td>2018-09-01 02:00:00</td>\n",
              "      <td>S0B3CGQ</td>\n",
              "      <td>0</td>\n",
              "      <td>2018</td>\n",
              "      <td>9</td>\n",
              "      <td>5</td>\n",
              "      <td>2</td>\n",
              "      <td>18.541422</td>\n",
              "      <td>-33.888613</td>\n",
              "      <td>0.0</td>\n",
              "      <td>0</td>\n",
              "      <td>0</td>\n",
              "    </tr>\n",
              "  </tbody>\n",
              "</table>\n",
              "</div>"
            ],
            "text/plain": [
              "           datetime x segment_id            datetime  ... LANES  pred\n",
              "0  2018-09-01 00:00:00 x S0B3CGQ 2018-09-01 00:00:00  ...     0     0\n",
              "1  2018-09-01 01:00:00 x S0B3CGQ 2018-09-01 01:00:00  ...     0     0\n",
              "2  2018-09-01 02:00:00 x S0B3CGQ 2018-09-01 02:00:00  ...     0     0\n",
              "\n",
              "[3 rows x 13 columns]"
            ]
          },
          "metadata": {
            "tags": []
          },
          "execution_count": 54
        }
      ]
    },
    {
      "cell_type": "code",
      "metadata": {
        "id": "mgBuvoFORshW",
        "colab_type": "code",
        "colab": {
          "base_uri": "https://localhost:8080/",
          "height": 36
        },
        "outputId": "51f0611e-c641-4979-b071-7257aa239dc3"
      },
      "source": [
        "# Show predicted classes\n",
        "print(np.unique(prediction['pred'], return_counts=True))"
      ],
      "execution_count": 55,
      "outputs": [
        {
          "output_type": "stream",
          "text": [
            "(array([0, 1]), array([1571520,    8800]))\n"
          ],
          "name": "stdout"
        }
      ]
    },
    {
      "cell_type": "code",
      "metadata": {
        "id": "rrRhGCm-VH3L",
        "colab_type": "code",
        "colab": {
          "base_uri": "https://localhost:8080/",
          "height": 367
        },
        "outputId": "875b14e8-817c-4400-c1b6-a618053b5bcc"
      },
      "source": [
        "cnf_matrix = confusion_matrix(prediction['y'], prediction['pred'])\n",
        "plot_confusion_matrix(cnf_matrix, classes=['0', '1'],\n",
        "                      title='Confusion matrix, without normalization')"
      ],
      "execution_count": 56,
      "outputs": [
        {
          "output_type": "stream",
          "text": [
            "Confusion matrix, without normalization\n",
            "[[1563342    8360]\n",
            " [   8178     440]]\n"
          ],
          "name": "stdout"
        },
        {
          "output_type": "display_data",
          "data": {
            "image/png": "[encoded data removed]",
            "text/plain": [
              "<Figure size 432x288 with 2 Axes>"
            ]
          },
          "metadata": {
            "tags": [],
            "needs_background": "light"
          }
        }
      ]
    },
    {
      "cell_type": "code",
      "metadata": {
        "id": "hC3mR8tZGGfL",
        "colab_type": "code",
        "colab": {
          "base_uri": "https://localhost:8080/",
          "height": 185
        },
        "outputId": "1df8e780-352d-4220-91cc-ff3624abb787"
      },
      "source": [
        "#have a look at the built-in report\n",
        "print(classification_report(prediction['y'], prediction['pred']))"
      ],
      "execution_count": 57,
      "outputs": [
        {
          "output_type": "stream",
          "text": [
            "              precision    recall  f1-score   support\n",
            "\n",
            "           0       0.99      0.99      0.99   1571702\n",
            "           1       0.05      0.05      0.05      8618\n",
            "\n",
            "    accuracy                           0.99   1580320\n",
            "   macro avg       0.52      0.52      0.52   1580320\n",
            "weighted avg       0.99      0.99      0.99   1580320\n",
            "\n"
          ],
          "name": "stdout"
        }
      ]
    },
    {
      "cell_type": "markdown",
      "metadata": {
        "id": "gzgfnnnBAr8t",
        "colab_type": "text"
      },
      "source": [
        "### Save only the events to visualize"
      ]
    },
    {
      "cell_type": "code",
      "metadata": {
        "id": "JWnVKQ21octg",
        "colab_type": "code",
        "colab": {
          "base_uri": "https://localhost:8080/",
          "height": 54
        },
        "outputId": "2cab9608-7177-434d-caad-c8a637a69855"
      },
      "source": [
        "print(len(prediction))\n",
        "good = prediction.loc[prediction['pred'] == 1]\n",
        "print(len(good))"
      ],
      "execution_count": 58,
      "outputs": [
        {
          "output_type": "stream",
          "text": [
            "1580320\n",
            "8800\n"
          ],
          "name": "stdout"
        }
      ]
    },
    {
      "cell_type": "code",
      "metadata": {
        "id": "dzwB3M7lpzJ7",
        "colab_type": "code",
        "colab": {
          "base_uri": "https://localhost:8080/",
          "height": 112
        },
        "outputId": "4378ea1b-a967-42d9-c70c-883d30b6644a"
      },
      "source": [
        "good.head(2)"
      ],
      "execution_count": 59,
      "outputs": [
        {
          "output_type": "execute_result",
          "data": {
            "text/html": [
              "<div>\n",
              "<style scoped>\n",
              "    .dataframe tbody tr th:only-of-type {\n",
              "        vertical-align: middle;\n",
              "    }\n",
              "\n",
              "    .dataframe tbody tr th {\n",
              "        vertical-align: top;\n",
              "    }\n",
              "\n",
              "    .dataframe thead th {\n",
              "        text-align: right;\n",
              "    }\n",
              "</style>\n",
              "<table border=\"1\" class=\"dataframe\">\n",
              "  <thead>\n",
              "    <tr style=\"text-align: right;\">\n",
              "      <th></th>\n",
              "      <th>datetime x segment_id</th>\n",
              "      <th>datetime</th>\n",
              "      <th>segment_id</th>\n",
              "      <th>y</th>\n",
              "      <th>year</th>\n",
              "      <th>month</th>\n",
              "      <th>day</th>\n",
              "      <th>hour</th>\n",
              "      <th>longitude</th>\n",
              "      <th>latitude</th>\n",
              "      <th>WIDTH</th>\n",
              "      <th>LANES</th>\n",
              "      <th>pred</th>\n",
              "    </tr>\n",
              "  </thead>\n",
              "  <tbody>\n",
              "    <tr>\n",
              "      <th>1560</th>\n",
              "      <td>2018-11-05 00:00:00 x S0B3CGQ</td>\n",
              "      <td>2018-11-05</td>\n",
              "      <td>S0B3CGQ</td>\n",
              "      <td>0</td>\n",
              "      <td>2018</td>\n",
              "      <td>11</td>\n",
              "      <td>0</td>\n",
              "      <td>0</td>\n",
              "      <td>18.541422</td>\n",
              "      <td>-33.888613</td>\n",
              "      <td>0.0</td>\n",
              "      <td>0</td>\n",
              "      <td>1</td>\n",
              "    </tr>\n",
              "    <tr>\n",
              "      <th>1584</th>\n",
              "      <td>2018-11-06 00:00:00 x S0B3CGQ</td>\n",
              "      <td>2018-11-06</td>\n",
              "      <td>S0B3CGQ</td>\n",
              "      <td>0</td>\n",
              "      <td>2018</td>\n",
              "      <td>11</td>\n",
              "      <td>1</td>\n",
              "      <td>0</td>\n",
              "      <td>18.541422</td>\n",
              "      <td>-33.888613</td>\n",
              "      <td>0.0</td>\n",
              "      <td>0</td>\n",
              "      <td>1</td>\n",
              "    </tr>\n",
              "  </tbody>\n",
              "</table>\n",
              "</div>"
            ],
            "text/plain": [
              "              datetime x segment_id   datetime segment_id  ...  WIDTH  LANES  pred\n",
              "1560  2018-11-05 00:00:00 x S0B3CGQ 2018-11-05    S0B3CGQ  ...    0.0      0     1\n",
              "1584  2018-11-06 00:00:00 x S0B3CGQ 2018-11-06    S0B3CGQ  ...    0.0      0     1\n",
              "\n",
              "[2 rows x 13 columns]"
            ]
          },
          "metadata": {
            "tags": []
          },
          "execution_count": 59
        }
      ]
    },
    {
      "cell_type": "code",
      "metadata": {
        "id": "U8gQONu-A6o6",
        "colab_type": "code",
        "colab": {}
      },
      "source": [
        "#save it\n",
        "good[['segment_id', 'year', 'month', 'day', 'hour', 'latitude', 'longitude']].to_csv(path/'data/01_basicXGBoost.csv', \n",
        "                                                                                                 index=False)"
      ],
      "execution_count": null,
      "outputs": []
    }
  ]
}