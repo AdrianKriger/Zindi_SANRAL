{
  "nbformat": 4,
  "nbformat_minor": 0,
  "metadata": {
    "colab": {
      "name": "01_SimpleXGBClassifier.ipynb",
      "provenance": [],
      "collapsed_sections": [
        "lg9Dq6g9B6uN"
      ]
    },
    "kernelspec": {
      "name": "python3",
      "display_name": "Python 3"
    }
  },
  "cells": [
    {
      "cell_type": "markdown",
      "metadata": {
        "id": "6pmTCLC3DOxy",
        "colab_type": "text"
      },
      "source": [
        "## Data Wrangling\n",
        "\n",
        "This notebook is based on johnowhitaker's blog post found [here](https://datasciencecastnet.home.blog/2019/10/21/zindi-uberct-part-2-stepping-up/).\n",
        "\n",
        "It will take you through some data wrangling with ```pandas``` and ```geopandas```; to create tabular data for an ```xgboost``` Machine Learning ```predicit```ion."
      ]
    },
    {
      "cell_type": "code",
      "metadata": {
        "id": "XCgn4lCRrzwE",
        "colab_type": "code",
        "colab": {}
      },
      "source": [
        "#because we're on google colab\n",
        "!pip install --upgrade pandas\n",
        "!pip install --upgrade geopandas\n",
        "!pip install --upgrade sklearn\n",
        "!pip install --upgrade xgboost\n",
        "!pip install --upgrade seaborn"
      ],
      "execution_count": null,
      "outputs": []
    },
    {
      "cell_type": "code",
      "metadata": {
        "id": "gAQ1_b_ssEy6",
        "colab_type": "code",
        "colab": {
          "base_uri": "https://localhost:8080/",
          "height": 74
        },
        "outputId": "7eb58e18-04c1-40c5-cbe6-e2c1d5ac9172"
      },
      "source": [
        "#load the modules that make the magic possible\n",
        "import pandas as pd\n",
        "import geopandas as gpd\n",
        "import numpy as np\n",
        "import matplotlib.pyplot as plt\n",
        "import seaborn as sns\n",
        "from pathlib import Path"
      ],
      "execution_count": 3,
      "outputs": [
        {
          "output_type": "stream",
          "text": [
            "/usr/local/lib/python3.6/dist-packages/statsmodels/tools/_testing.py:19: FutureWarning: pandas.util.testing is deprecated. Use the functions in the public API at pandas.testing instead.\n",
            "  import pandas.util.testing as tm\n"
          ],
          "name": "stderr"
        }
      ]
    },
    {
      "cell_type": "code",
      "metadata": {
        "id": "Plw5NXUZDKgG",
        "colab_type": "code",
        "colab": {}
      },
      "source": [
        "from matplotlib import pyplot\n",
        "from xgboost import XGBClassifier, XGBRegressor, plot_importance\n",
        "from collections import Counter\n",
        "from sklearn.linear_model import LogisticRegression\n",
        "from sklearn.model_selection import cross_val_score, RepeatedStratifiedKFold, GridSearchCV, RandomizedSearchCV\n",
        "from sklearn.metrics import f1_score, classification_report, auc, accuracy_score, confusion_matrix, precision_score, mean_squared_error, recall_score,roc_auc_score, roc_curve, average_precision_score,precision_recall_curve\n",
        "from numpy import where, mean, sqrt, argmax, arange"
      ],
      "execution_count": 4,
      "outputs": []
    },
    {
      "cell_type": "code",
      "metadata": {
        "id": "xXERSBC1sE2m",
        "colab_type": "code",
        "colab": {
          "base_uri": "https://localhost:8080/",
          "height": 129
        },
        "outputId": "02e857c0-d5d1-4293-c67f-602494c955eb"
      },
      "source": [
        "# mount google drive as a file system\n",
        "from google.colab import drive\n",
        "drive.mount('/content/gdrive', force_remount=True)"
      ],
      "execution_count": 5,
      "outputs": [
        {
          "output_type": "stream",
          "text": [
            "Go to this URL in a browser: https://accounts.google.com/o/oauth2/auth?client_id=947318989803-6bn6qk8qdgf4n4g3pfee6491hc0brc4i.apps.googleusercontent.com&redirect_uri=urn%3aietf%3awg%3aoauth%3a2.0%3aoob&response_type=code&scope=email%20https%3a%2f%2fwww.googleapis.com%2fauth%2fdocs.test%20https%3a%2f%2fwww.googleapis.com%2fauth%2fdrive%20https%3a%2f%2fwww.googleapis.com%2fauth%2fdrive.photos.readonly%20https%3a%2f%2fwww.googleapis.com%2fauth%2fpeopleapi.readonly\n",
            "\n",
            "Enter your authorization code:\n",
            "··········\n",
            "Mounted at /content/gdrive\n"
          ],
          "name": "stdout"
        }
      ]
    },
    {
      "cell_type": "code",
      "metadata": {
        "id": "6e7W3_gesQfn",
        "colab_type": "code",
        "colab": {}
      },
      "source": [
        "#set path\n",
        "path = Path('/content/gdrive/My Drive/Zindi_Accident')"
      ],
      "execution_count": 6,
      "outputs": []
    },
    {
      "cell_type": "code",
      "metadata": {
        "id": "k9sGTYVV_adt",
        "colab_type": "code",
        "colab": {}
      },
      "source": [
        "# load a custom confusion_matrix tool for plotting \n",
        "# courtesy - leportella (https://github.com/leportella/federal-road-accidents)\n",
        "import sys\n",
        "sys.path.append('/content/gdrive/My Drive/Zindi_Accident')\n",
        "from tools import plot_confusion_matrix"
      ],
      "execution_count": 7,
      "outputs": []
    },
    {
      "cell_type": "markdown",
      "metadata": {
        "id": "cwQ-jqNkGf-p",
        "colab_type": "text"
      },
      "source": [
        "# Load data\n",
        "\n",
        "Look at the ```train.csv``` and  ```road_segments.zip``` from [Zindi](https://zindi.africa/competitions/uber-movement-sanral-cape-town-challenge)."
      ]
    },
    {
      "cell_type": "code",
      "metadata": {
        "id": "9Cbq_HbhsE6T",
        "colab_type": "code",
        "colab": {
          "base_uri": "https://localhost:8080/",
          "height": 258
        },
        "outputId": "a92a1bff-fba5-4820-ab94-2de15e08452f"
      },
      "source": [
        "# have a look\n",
        "data = pd.read_csv(path/'data/train.csv', \n",
        "                   parse_dates = ['Occurrence Local Date Time'])\n",
        "data.head()"
      ],
      "execution_count": 8,
      "outputs": [
        {
          "output_type": "execute_result",
          "data": {
            "text/html": [
              "<div>\n",
              "<style scoped>\n",
              "    .dataframe tbody tr th:only-of-type {\n",
              "        vertical-align: middle;\n",
              "    }\n",
              "\n",
              "    .dataframe tbody tr th {\n",
              "        vertical-align: top;\n",
              "    }\n",
              "\n",
              "    .dataframe thead th {\n",
              "        text-align: right;\n",
              "    }\n",
              "</style>\n",
              "<table border=\"1\" class=\"dataframe\">\n",
              "  <thead>\n",
              "    <tr style=\"text-align: right;\">\n",
              "      <th></th>\n",
              "      <th>EventId</th>\n",
              "      <th>Occurrence Local Date Time</th>\n",
              "      <th>Reporting Agency</th>\n",
              "      <th>Cause</th>\n",
              "      <th>Subcause</th>\n",
              "      <th>Status</th>\n",
              "      <th>longitude</th>\n",
              "      <th>latitude</th>\n",
              "      <th>road_segment_id</th>\n",
              "    </tr>\n",
              "  </thead>\n",
              "  <tbody>\n",
              "    <tr>\n",
              "      <th>0</th>\n",
              "      <td>60558</td>\n",
              "      <td>2016-01-01 00:53:00</td>\n",
              "      <td>Cam</td>\n",
              "      <td>Stationary Vehicle</td>\n",
              "      <td>Vehicle On Shoulder</td>\n",
              "      <td>Closed</td>\n",
              "      <td>18.5408955032</td>\n",
              "      <td>-33.888275</td>\n",
              "      <td>S0B3CGQ</td>\n",
              "    </tr>\n",
              "    <tr>\n",
              "      <th>1</th>\n",
              "      <td>60559</td>\n",
              "      <td>2016-01-01 00:54:00</td>\n",
              "      <td>CAMERA</td>\n",
              "      <td>Accident</td>\n",
              "      <td>With A Fixed Object</td>\n",
              "      <td>Closed</td>\n",
              "      <td>18.9307563219</td>\n",
              "      <td>-34.140857</td>\n",
              "      <td>RYJYAPI</td>\n",
              "    </tr>\n",
              "    <tr>\n",
              "      <th>2</th>\n",
              "      <td>60560</td>\n",
              "      <td>2016-01-01 02:26:00</td>\n",
              "      <td>Law Enforcement</td>\n",
              "      <td>Accident</td>\n",
              "      <td>Multi Vehicle</td>\n",
              "      <td>Closed</td>\n",
              "      <td>18.5533575029</td>\n",
              "      <td>-33.959154</td>\n",
              "      <td>U3KP57C</td>\n",
              "    </tr>\n",
              "    <tr>\n",
              "      <th>3</th>\n",
              "      <td>60561</td>\n",
              "      <td>2016-01-01 02:56:00</td>\n",
              "      <td>CAMERA</td>\n",
              "      <td>Stationary Vehicle</td>\n",
              "      <td>Vehicle On Shoulder</td>\n",
              "      <td>Closed</td>\n",
              "      <td>18.6775561589</td>\n",
              "      <td>-33.895258</td>\n",
              "      <td>RY0TRQ8</td>\n",
              "    </tr>\n",
              "    <tr>\n",
              "      <th>4</th>\n",
              "      <td>60562</td>\n",
              "      <td>2016-01-01 03:40:00</td>\n",
              "      <td>CAMERA</td>\n",
              "      <td>Accident</td>\n",
              "      <td>Multi Vehicle</td>\n",
              "      <td>Closed</td>\n",
              "      <td>18.8371319682</td>\n",
              "      <td>-34.087051</td>\n",
              "      <td>8LOVJZ3</td>\n",
              "    </tr>\n",
              "  </tbody>\n",
              "</table>\n",
              "</div>"
            ],
            "text/plain": [
              "   EventId Occurrence Local Date Time  ...   latitude road_segment_id\n",
              "0    60558        2016-01-01 00:53:00  ... -33.888275         S0B3CGQ\n",
              "1    60559        2016-01-01 00:54:00  ... -34.140857         RYJYAPI\n",
              "2    60560        2016-01-01 02:26:00  ... -33.959154         U3KP57C\n",
              "3    60561        2016-01-01 02:56:00  ... -33.895258         RY0TRQ8\n",
              "4    60562        2016-01-01 03:40:00  ... -34.087051         8LOVJZ3\n",
              "\n",
              "[5 rows x 9 columns]"
            ]
          },
          "metadata": {
            "tags": []
          },
          "execution_count": 8
        }
      ]
    },
    {
      "cell_type": "code",
      "metadata": {
        "id": "l6gtbh_L78yk",
        "colab_type": "code",
        "colab": {
          "base_uri": "https://localhost:8080/",
          "height": 311
        },
        "outputId": "619216f7-2fcc-4f71-8c48-9c081716a33c"
      },
      "source": [
        "data.info()"
      ],
      "execution_count": null,
      "outputs": [
        {
          "output_type": "stream",
          "text": [
            "<class 'pandas.core.frame.DataFrame'>\n",
            "RangeIndex: 53845 entries, 0 to 53844\n",
            "Data columns (total 9 columns):\n",
            " #   Column                      Non-Null Count  Dtype         \n",
            "---  ------                      --------------  -----         \n",
            " 0   EventId                     53845 non-null  int64         \n",
            " 1   Occurrence Local Date Time  53845 non-null  datetime64[ns]\n",
            " 2   Reporting Agency            52226 non-null  object        \n",
            " 3   Cause                       53845 non-null  object        \n",
            " 4   Subcause                    53845 non-null  object        \n",
            " 5   Status                      53845 non-null  object        \n",
            " 6   longitude                   53845 non-null  object        \n",
            " 7   latitude                    53845 non-null  float64       \n",
            " 8   road_segment_id             53845 non-null  object        \n",
            "dtypes: datetime64[ns](1), float64(1), int64(1), object(6)\n",
            "memory usage: 3.7+ MB\n"
          ],
          "name": "stdout"
        }
      ]
    },
    {
      "cell_type": "code",
      "metadata": {
        "id": "undBbGPOByYi",
        "colab_type": "code",
        "colab": {
          "base_uri": "https://localhost:8080/",
          "height": 1000
        },
        "outputId": "a8b2a96a-b8e6-4bc5-e81d-eaf0e84ed6aa"
      },
      "source": [
        "# plot some metrics\n",
        "fig, ax = plt.subplots(figsize=(25,25)) \n",
        "\n",
        "rd_seg = data.groupby('road_segment_id').size()\n",
        "rd_seg.plot(kind = 'bar')\n",
        "ax.set_xticklabels(rd_seg, fontsize=8, rotation=45)\n",
        "\n",
        "plt.show()"
      ],
      "execution_count": 12,
      "outputs": [
        {
          "output_type": "display_data",
          "data": {
            "image/png": "[encoded data removed]",
            "text/plain": [
              "<Figure size 1800x1800 with 1 Axes>"
            ]
          },
          "metadata": {
            "tags": [],
            "needs_background": "light"
          }
        }
      ]
    },
    {
      "cell_type": "markdown",
      "metadata": {
        "id": "g_al-aGoCSm5",
        "colab_type": "text"
      },
      "source": [
        "### As expected; some roads are more dangerous than others"
      ]
    },
    {
      "cell_type": "code",
      "metadata": {
        "id": "c5qT2sWl8ThJ",
        "colab_type": "code",
        "colab": {
          "base_uri": "https://localhost:8080/",
          "height": 646
        },
        "outputId": "412c428f-88bd-49fb-8d56-796bfa3fcb26"
      },
      "source": [
        "# plot some more metrics\n",
        "fig, (ax1, ax2) = plt.subplots(nrows=1, ncols=2, figsize=(11,11)) \n",
        "\n",
        "cause = data.groupby('Cause').size()\n",
        "ax1 = cause.plot(ax=ax1, kind = 'barh')\n",
        "\n",
        "Subcause = data.groupby('Subcause').size()\n",
        "ax2 = Subcause.plot(ax=ax2, kind = 'barh')\n",
        "\n",
        "fig.subplots_adjust(hspace=.5, wspace=3)\n",
        "\n",
        "plt.show()"
      ],
      "execution_count": 17,
      "outputs": [
        {
          "output_type": "display_data",
          "data": {
            "image/png": "[encoded data removed]",
            "text/plain": [
              "<Figure size 792x792 with 2 Axes>"
            ]
          },
          "metadata": {
            "tags": [],
            "needs_background": "light"
          }
        }
      ]
    },
    {
      "cell_type": "code",
      "metadata": {
        "id": "QJj5r8IkB5Gt",
        "colab_type": "code",
        "colab": {
          "base_uri": "https://localhost:8080/",
          "height": 331
        },
        "outputId": "b4865277-eb2d-4f1a-8f84-15e1d7e9a35e"
      },
      "source": [
        "# plot some more metrics\n",
        "fig, ((ax1,ax2),(ax3,ax4)) = plt.subplots(nrows=2, ncols=2, figsize=(13,5))\n",
        "\n",
        "data['year'] = data['Occurrence Local Date Time'].dt.year\n",
        "year = data.groupby('year').size()\n",
        "ax1 = year.plot(ax=ax1, kind = 'bar')\n",
        "#ax[0, 0].set_title('Year')\n",
        "\n",
        "data['month'] = data['Occurrence Local Date Time'].dt.month\n",
        "month = data.groupby('month').size()\n",
        "ax2 = month.plot(ax=ax2, kind = 'bar')\n",
        "\n",
        "data['day'] = data['Occurrence Local Date Time'].dt.day\n",
        "day = data.groupby('day').size()\n",
        "ax3 = day.plot(ax=ax3,kind='bar')\n",
        "\n",
        "data['hour'] = data['Occurrence Local Date Time'].dt.hour\n",
        "hour = data.groupby('hour').size()\n",
        "ax4 = hour.plot(ax=ax4, kind = 'bar')\n",
        "\n",
        "data.drop('year', axis=1, inplace=True)\n",
        "data.drop('month', axis=1, inplace=True)\n",
        "data.drop('day', axis=1, inplace=True)\n",
        "data.drop('hour', axis=1, inplace=True)\n",
        "\n",
        "fig.tight_layout(pad=3.0)\n",
        "plt.show()"
      ],
      "execution_count": 24,
      "outputs": [
        {
          "output_type": "display_data",
          "data": {
            "image/png": "[encoded data removed]",
            "text/plain": [
              "<Figure size 936x360 with 4 Axes>"
            ]
          },
          "metadata": {
            "tags": [],
            "needs_background": "light"
          }
        }
      ]
    },
    {
      "cell_type": "markdown",
      "metadata": {
        "id": "6jxYDshGG0VV",
        "colab_type": "text"
      },
      "source": [
        "### I want to plot this so; convert to geopandas"
      ]
    },
    {
      "cell_type": "code",
      "metadata": {
        "id": "zrn_U-tNG4Qj",
        "colab_type": "code",
        "colab": {
          "base_uri": "https://localhost:8080/",
          "height": 484
        },
        "outputId": "9b7d7b92-6bb4-4711-9c75-d74197847c70"
      },
      "source": [
        "data[\"longitude\"] = pd.to_numeric(data[\"longitude\"])\n",
        "data[\"latitude\"] = pd.to_numeric(data[\"latitude\"])"
      ],
      "execution_count": 25,
      "outputs": [
        {
          "output_type": "error",
          "ename": "ValueError",
          "evalue": "ignored",
          "traceback": [
            "\u001b[0;31m---------------------------------------------------------------------------\u001b[0m",
            "\u001b[0;31mValueError\u001b[0m                                Traceback (most recent call last)",
            "\u001b[0;32mpandas/_libs/lib.pyx\u001b[0m in \u001b[0;36mpandas._libs.lib.maybe_convert_numeric\u001b[0;34m()\u001b[0m\n",
            "\u001b[0;31mValueError\u001b[0m: Unable to parse string \"Closed\"",
            "\nDuring handling of the above exception, another exception occurred:\n",
            "\u001b[0;31mValueError\u001b[0m                                Traceback (most recent call last)",
            "\u001b[0;32m<ipython-input-25-e4d114a61619>\u001b[0m in \u001b[0;36m<module>\u001b[0;34m()\u001b[0m\n\u001b[0;32m----> 1\u001b[0;31m \u001b[0mdata\u001b[0m\u001b[0;34m[\u001b[0m\u001b[0;34m\"longitude\"\u001b[0m\u001b[0;34m]\u001b[0m \u001b[0;34m=\u001b[0m \u001b[0mpd\u001b[0m\u001b[0;34m.\u001b[0m\u001b[0mto_numeric\u001b[0m\u001b[0;34m(\u001b[0m\u001b[0mdata\u001b[0m\u001b[0;34m[\u001b[0m\u001b[0;34m\"longitude\"\u001b[0m\u001b[0;34m]\u001b[0m\u001b[0;34m)\u001b[0m\u001b[0;34m\u001b[0m\u001b[0;34m\u001b[0m\u001b[0m\n\u001b[0m\u001b[1;32m      2\u001b[0m \u001b[0mdata\u001b[0m\u001b[0;34m[\u001b[0m\u001b[0;34m\"latitude\"\u001b[0m\u001b[0;34m]\u001b[0m \u001b[0;34m=\u001b[0m \u001b[0mpd\u001b[0m\u001b[0;34m.\u001b[0m\u001b[0mto_numeric\u001b[0m\u001b[0;34m(\u001b[0m\u001b[0mdata\u001b[0m\u001b[0;34m[\u001b[0m\u001b[0;34m\"latitude\"\u001b[0m\u001b[0;34m]\u001b[0m\u001b[0;34m)\u001b[0m\u001b[0;34m\u001b[0m\u001b[0;34m\u001b[0m\u001b[0m\n",
            "\u001b[0;32m/usr/local/lib/python3.6/dist-packages/pandas/core/tools/numeric.py\u001b[0m in \u001b[0;36mto_numeric\u001b[0;34m(arg, errors, downcast)\u001b[0m\n\u001b[1;32m    148\u001b[0m         \u001b[0;32mtry\u001b[0m\u001b[0;34m:\u001b[0m\u001b[0;34m\u001b[0m\u001b[0;34m\u001b[0m\u001b[0m\n\u001b[1;32m    149\u001b[0m             values = lib.maybe_convert_numeric(\n\u001b[0;32m--> 150\u001b[0;31m                 \u001b[0mvalues\u001b[0m\u001b[0;34m,\u001b[0m \u001b[0mset\u001b[0m\u001b[0;34m(\u001b[0m\u001b[0;34m)\u001b[0m\u001b[0;34m,\u001b[0m \u001b[0mcoerce_numeric\u001b[0m\u001b[0;34m=\u001b[0m\u001b[0mcoerce_numeric\u001b[0m\u001b[0;34m\u001b[0m\u001b[0;34m\u001b[0m\u001b[0m\n\u001b[0m\u001b[1;32m    151\u001b[0m             )\n\u001b[1;32m    152\u001b[0m         \u001b[0;32mexcept\u001b[0m \u001b[0;34m(\u001b[0m\u001b[0mValueError\u001b[0m\u001b[0;34m,\u001b[0m \u001b[0mTypeError\u001b[0m\u001b[0;34m)\u001b[0m\u001b[0;34m:\u001b[0m\u001b[0;34m\u001b[0m\u001b[0;34m\u001b[0m\u001b[0m\n",
            "\u001b[0;32mpandas/_libs/lib.pyx\u001b[0m in \u001b[0;36mpandas._libs.lib.maybe_convert_numeric\u001b[0;34m()\u001b[0m\n",
            "\u001b[0;31mValueError\u001b[0m: Unable to parse string \"Closed\" at position 16693"
          ]
        }
      ]
    },
    {
      "cell_type": "markdown",
      "metadata": {
        "id": "4Eaooe63G9Wl",
        "colab_type": "text"
      },
      "source": [
        "### Why did this happen? Somethings wrong with this data."
      ]
    },
    {
      "cell_type": "code",
      "metadata": {
        "id": "-COI1bGrG8f9",
        "colab_type": "code",
        "colab": {
          "base_uri": "https://localhost:8080/",
          "height": 201
        },
        "outputId": "080064db-dfce-4cb1-f787-55b9df9c026d"
      },
      "source": [
        "#look at the index where this happened\n",
        "print(data.loc[16693])"
      ],
      "execution_count": null,
      "outputs": [
        {
          "output_type": "stream",
          "text": [
            "EventId                                     88632\n",
            "Occurrence Local Date Time    2016-09-12 04:45:00\n",
            "Reporting Agency                              NaN\n",
            "Cause                                         Cam\n",
            "Subcause                                 Accident\n",
            "Status                             Single Vehicle\n",
            "longitude                                  Closed\n",
            "latitude                                  18.5642\n",
            "road_segment_id                    -33.9622761744\n",
            "Name: 16693, dtype: object\n"
          ],
          "name": "stdout"
        }
      ]
    },
    {
      "cell_type": "markdown",
      "metadata": {
        "id": "8Eo_umB9HFQy",
        "colab_type": "text"
      },
      "source": [
        "#### We see that the longitude and latitude are in the wrong columns. This is  likely to have happened more than once."
      ]
    },
    {
      "cell_type": "code",
      "metadata": {
        "id": "WmExb26fsE9K",
        "colab_type": "code",
        "colab": {}
      },
      "source": [
        "data.rename(columns={'Reporting Agency': 'Reporting_Agency'}, inplace=True)"
      ],
      "execution_count": 26,
      "outputs": []
    },
    {
      "cell_type": "code",
      "metadata": {
        "id": "tYFY59oisFAB",
        "colab_type": "code",
        "colab": {}
      },
      "source": [
        "def transform_row(r):\n",
        "    '''\n",
        "    Define a function to move cells along the same row when 'Closed' appears in ['longitude']\n",
        "    '''\n",
        "    if r.longitude == 'Closed':\n",
        "        r.Reporting_Agency = r.Cause\n",
        "        r.Cause = r.Subcause\n",
        "        r.Subcause = r.Status\n",
        "        r.Status = r.longitude\n",
        "        r.longitude = r.latitude\n",
        "        r.latitude = r.road_segment_id\n",
        "        r.road_segment_id = np.nan\n",
        "    return r"
      ],
      "execution_count": 27,
      "outputs": []
    },
    {
      "cell_type": "code",
      "metadata": {
        "id": "BwDCGTmesFDI",
        "colab_type": "code",
        "colab": {}
      },
      "source": [
        "data = data.apply(transform_row, axis=1)"
      ],
      "execution_count": 28,
      "outputs": []
    },
    {
      "cell_type": "code",
      "metadata": {
        "id": "OnJrQ4qxHTBe",
        "colab_type": "code",
        "colab": {
          "base_uri": "https://localhost:8080/",
          "height": 201
        },
        "outputId": "4ba97827-b1ab-46c7-d31d-ff5060029740"
      },
      "source": [
        "data.isna().sum()"
      ],
      "execution_count": 29,
      "outputs": [
        {
          "output_type": "execute_result",
          "data": {
            "text/plain": [
              "EventId                          0\n",
              "Occurrence Local Date Time       0\n",
              "Reporting_Agency              1614\n",
              "Cause                            0\n",
              "Subcause                         0\n",
              "Status                           0\n",
              "longitude                        0\n",
              "latitude                         0\n",
              "road_segment_id                  5\n",
              "dtype: int64"
            ]
          },
          "metadata": {
            "tags": []
          },
          "execution_count": 29
        }
      ]
    },
    {
      "cell_type": "markdown",
      "metadata": {
        "id": "RgrgmeHgHUAe",
        "colab_type": "text"
      },
      "source": [
        "### It happended 5 times; but its better than deleting 1614 rows."
      ]
    },
    {
      "cell_type": "code",
      "metadata": {
        "id": "NVAO-ydmsFGj",
        "colab_type": "code",
        "colab": {}
      },
      "source": [
        "# we don't need the Reporting Agency so leave that\n",
        "data.dropna(subset=['road_segment_id'],inplace=True)"
      ],
      "execution_count": 30,
      "outputs": []
    },
    {
      "cell_type": "markdown",
      "metadata": {
        "id": "AcrakdHvHeUb",
        "colab_type": "text"
      },
      "source": [
        "##### Lets try again"
      ]
    },
    {
      "cell_type": "code",
      "metadata": {
        "id": "W2B0w6jLsFKR",
        "colab_type": "code",
        "colab": {}
      },
      "source": [
        "data[\"longitude\"] = pd.to_numeric(data[\"longitude\"])\n",
        "data[\"latitude\"] = pd.to_numeric(data[\"latitude\"])"
      ],
      "execution_count": 31,
      "outputs": []
    },
    {
      "cell_type": "code",
      "metadata": {
        "id": "E_7d4Uqq8efi",
        "colab_type": "code",
        "colab": {
          "base_uri": "https://localhost:8080/",
          "height": 310
        },
        "outputId": "e9b164c4-af14-4d23-b8c4-d5454c7c2e80"
      },
      "source": [
        "geodata = gpd.GeoDataFrame(data, geometry=gpd.points_from_xy(data.longitude, data.latitude))\n",
        "geodata.head()"
      ],
      "execution_count": null,
      "outputs": [
        {
          "output_type": "execute_result",
          "data": {
            "text/html": [
              "<div>\n",
              "<style scoped>\n",
              "    .dataframe tbody tr th:only-of-type {\n",
              "        vertical-align: middle;\n",
              "    }\n",
              "\n",
              "    .dataframe tbody tr th {\n",
              "        vertical-align: top;\n",
              "    }\n",
              "\n",
              "    .dataframe thead th {\n",
              "        text-align: right;\n",
              "    }\n",
              "</style>\n",
              "<table border=\"1\" class=\"dataframe\">\n",
              "  <thead>\n",
              "    <tr style=\"text-align: right;\">\n",
              "      <th></th>\n",
              "      <th>EventId</th>\n",
              "      <th>Occurrence Local Date Time</th>\n",
              "      <th>Reporting_Agency</th>\n",
              "      <th>Cause</th>\n",
              "      <th>Subcause</th>\n",
              "      <th>Status</th>\n",
              "      <th>longitude</th>\n",
              "      <th>latitude</th>\n",
              "      <th>road_segment_id</th>\n",
              "      <th>geometry</th>\n",
              "    </tr>\n",
              "  </thead>\n",
              "  <tbody>\n",
              "    <tr>\n",
              "      <th>0</th>\n",
              "      <td>60558</td>\n",
              "      <td>2016-01-01 00:53:00</td>\n",
              "      <td>Cam</td>\n",
              "      <td>Stationary Vehicle</td>\n",
              "      <td>Vehicle On Shoulder</td>\n",
              "      <td>Closed</td>\n",
              "      <td>18.540896</td>\n",
              "      <td>-33.888275</td>\n",
              "      <td>S0B3CGQ</td>\n",
              "      <td>POINT (18.54090 -33.88827)</td>\n",
              "    </tr>\n",
              "    <tr>\n",
              "      <th>1</th>\n",
              "      <td>60559</td>\n",
              "      <td>2016-01-01 00:54:00</td>\n",
              "      <td>CAMERA</td>\n",
              "      <td>Accident</td>\n",
              "      <td>With A Fixed Object</td>\n",
              "      <td>Closed</td>\n",
              "      <td>18.930756</td>\n",
              "      <td>-34.140857</td>\n",
              "      <td>RYJYAPI</td>\n",
              "      <td>POINT (18.93076 -34.14086)</td>\n",
              "    </tr>\n",
              "    <tr>\n",
              "      <th>2</th>\n",
              "      <td>60560</td>\n",
              "      <td>2016-01-01 02:26:00</td>\n",
              "      <td>Law Enforcement</td>\n",
              "      <td>Accident</td>\n",
              "      <td>Multi Vehicle</td>\n",
              "      <td>Closed</td>\n",
              "      <td>18.553358</td>\n",
              "      <td>-33.959154</td>\n",
              "      <td>U3KP57C</td>\n",
              "      <td>POINT (18.55336 -33.95915)</td>\n",
              "    </tr>\n",
              "    <tr>\n",
              "      <th>3</th>\n",
              "      <td>60561</td>\n",
              "      <td>2016-01-01 02:56:00</td>\n",
              "      <td>CAMERA</td>\n",
              "      <td>Stationary Vehicle</td>\n",
              "      <td>Vehicle On Shoulder</td>\n",
              "      <td>Closed</td>\n",
              "      <td>18.677556</td>\n",
              "      <td>-33.895258</td>\n",
              "      <td>RY0TRQ8</td>\n",
              "      <td>POINT (18.67756 -33.89526)</td>\n",
              "    </tr>\n",
              "    <tr>\n",
              "      <th>4</th>\n",
              "      <td>60562</td>\n",
              "      <td>2016-01-01 03:40:00</td>\n",
              "      <td>CAMERA</td>\n",
              "      <td>Accident</td>\n",
              "      <td>Multi Vehicle</td>\n",
              "      <td>Closed</td>\n",
              "      <td>18.837132</td>\n",
              "      <td>-34.087051</td>\n",
              "      <td>8LOVJZ3</td>\n",
              "      <td>POINT (18.83713 -34.08705)</td>\n",
              "    </tr>\n",
              "  </tbody>\n",
              "</table>\n",
              "</div>"
            ],
            "text/plain": [
              "   EventId  ...                    geometry\n",
              "0    60558  ...  POINT (18.54090 -33.88827)\n",
              "1    60559  ...  POINT (18.93076 -34.14086)\n",
              "2    60560  ...  POINT (18.55336 -33.95915)\n",
              "3    60561  ...  POINT (18.67756 -33.89526)\n",
              "4    60562  ...  POINT (18.83713 -34.08705)\n",
              "\n",
              "[5 rows x 10 columns]"
            ]
          },
          "metadata": {
            "tags": []
          },
          "execution_count": 16
        }
      ]
    },
    {
      "cell_type": "code",
      "metadata": {
        "id": "3vyFYzZoHs-j",
        "colab_type": "code",
        "colab": {}
      },
      "source": [
        "#load the road_segments\n",
        "road_segments = gpd.read_file(path/'data/road_segments.shp')"
      ],
      "execution_count": 32,
      "outputs": []
    },
    {
      "cell_type": "code",
      "metadata": {
        "id": "K4o-oOQbHwkW",
        "colab_type": "code",
        "colab": {
          "base_uri": "https://localhost:8080/",
          "height": 289
        },
        "outputId": "226f897a-4e32-435e-e43c-6f5b833d964e"
      },
      "source": [
        "# plot\n",
        "fig, (ax1,ax2) = plt.subplots(nrows=1, ncols=2, figsize=(15,15)) \n",
        "\n",
        "ax1 = road_segments.plot(ax=ax1, column='segment_id', cmap='viridis')\n",
        "ax1.set_title('Road Segments')\n",
        "\n",
        "ax2 = geodata.plot(ax=ax2, marker='.', markersize = 8, column='Cause', cmap='cool')\n",
        "ax2.set_title('Events')\n",
        "plt.show()"
      ],
      "execution_count": null,
      "outputs": [
        {
          "output_type": "display_data",
          "data": {
            "image/png": "[encoded data removed]",
            "text/plain": [
              "<Figure size 1080x1080 with 2 Axes>"
            ]
          },
          "metadata": {
            "tags": [],
            "needs_background": "light"
          }
        }
      ]
    },
    {
      "cell_type": "code",
      "metadata": {
        "id": "_jCMeI-StInC",
        "colab_type": "code",
        "colab": {
          "base_uri": "https://localhost:8080/",
          "height": 143
        },
        "outputId": "4d9a8b46-2756-42a0-befc-3684998eb656"
      },
      "source": [
        "# harvest the mean locations of the road segments - as the competition is defined as \"per 500-meter segment\"\n",
        "locations = data.groupby('road_segment_id').mean()[['longitude', 'latitude']]\n",
        "locations.head(2)"
      ],
      "execution_count": 33,
      "outputs": [
        {
          "output_type": "execute_result",
          "data": {
            "text/html": [
              "<div>\n",
              "<style scoped>\n",
              "    .dataframe tbody tr th:only-of-type {\n",
              "        vertical-align: middle;\n",
              "    }\n",
              "\n",
              "    .dataframe tbody tr th {\n",
              "        vertical-align: top;\n",
              "    }\n",
              "\n",
              "    .dataframe thead th {\n",
              "        text-align: right;\n",
              "    }\n",
              "</style>\n",
              "<table border=\"1\" class=\"dataframe\">\n",
              "  <thead>\n",
              "    <tr style=\"text-align: right;\">\n",
              "      <th></th>\n",
              "      <th>longitude</th>\n",
              "      <th>latitude</th>\n",
              "    </tr>\n",
              "    <tr>\n",
              "      <th>road_segment_id</th>\n",
              "      <th></th>\n",
              "      <th></th>\n",
              "    </tr>\n",
              "  </thead>\n",
              "  <tbody>\n",
              "    <tr>\n",
              "      <th>03RHJ3G</th>\n",
              "      <td>18.460052</td>\n",
              "      <td>-33.943181</td>\n",
              "    </tr>\n",
              "    <tr>\n",
              "      <th>044ZYVD</th>\n",
              "      <td>18.555037</td>\n",
              "      <td>-33.890148</td>\n",
              "    </tr>\n",
              "  </tbody>\n",
              "</table>\n",
              "</div>"
            ],
            "text/plain": [
              "                 longitude   latitude\n",
              "road_segment_id                      \n",
              "03RHJ3G          18.460052 -33.943181\n",
              "044ZYVD          18.555037 -33.890148"
            ]
          },
          "metadata": {
            "tags": []
          },
          "execution_count": 33
        }
      ]
    },
    {
      "cell_type": "markdown",
      "metadata": {
        "id": "aQwDi1TuIW0d",
        "colab_type": "text"
      },
      "source": [
        "### Now we format, split the data into ```train``` and ```test``` sets and merge.\n",
        "\n",
        "\n",
        "> NOTE: To overcome any ```out-of-memory``` challenges because of large file size, and because I'm on a shoestring budget but want to learn, I'm training on a years data and testing on three months."
      ]
    },
    {
      "cell_type": "code",
      "metadata": {
        "id": "Vky6R7KGtIqZ",
        "colab_type": "code",
        "colab": {}
      },
      "source": [
        "# Train on 2017\n",
        "train = data.loc[data['Occurrence Local Date Time'] < '2018-01-01']\n",
        "train = train.loc[train['Occurrence Local Date Time'] >= '2017-01-01']\n",
        "\n",
        "# Test locally on the last part of 2018\n",
        "local_test = data.loc[data['Occurrence Local Date Time'] < '2019-01-01']\n",
        "local_test = local_test.loc[local_test['Occurrence Local Date Time'] >= '2018-09-01']"
      ],
      "execution_count": 53,
      "outputs": []
    },
    {
      "cell_type": "code",
      "metadata": {
        "id": "iR17JEANtIuR",
        "colab_type": "code",
        "colab": {
          "base_uri": "https://localhost:8080/",
          "height": 342
        },
        "outputId": "6e6154fc-dc23-449a-d9b8-e9fb67c85d4f"
      },
      "source": [
        "# Create a dataframe with a column for each segment_id (sid)\n",
        "# Each row represents an hour.\n",
        "\n",
        "sids = data['road_segment_id'].unique()\n",
        "\n",
        "dts = pd.date_range('2017-01-01',\n",
        "                    '2018-01-01',\n",
        "                    freq=\"1h\")\n",
        "tr = pd.DataFrame({'datetime':dts})\n",
        "\n",
        "for sid in sids:\n",
        "    tr[str(sid)] = 0\n",
        "    events = train.loc[train['road_segment_id'] == sid]\n",
        "    dts = events['Occurrence Local Date Time'].dt.round('H')\n",
        "    dates = dts.astype(str).unique()\n",
        "    tr.loc[tr['datetime'].isin(dates), sid] = 1\n",
        "tr.head()"
      ],
      "execution_count": 54,
      "outputs": [
        {
          "output_type": "execute_result",
          "data": {
            "text/html": [
              "<div>\n",
              "<style scoped>\n",
              "    .dataframe tbody tr th:only-of-type {\n",
              "        vertical-align: middle;\n",
              "    }\n",
              "\n",
              "    .dataframe tbody tr th {\n",
              "        vertical-align: top;\n",
              "    }\n",
              "\n",
              "    .dataframe thead th {\n",
              "        text-align: right;\n",
              "    }\n",
              "</style>\n",
              "<table border=\"1\" class=\"dataframe\">\n",
              "  <thead>\n",
              "    <tr style=\"text-align: right;\">\n",
              "      <th></th>\n",
              "      <th>datetime</th>\n",
              "      <th>S0B3CGQ</th>\n",
              "      <th>RYJYAPI</th>\n",
              "      <th>U3KP57C</th>\n",
              "      <th>RY0TRQ8</th>\n",
              "      <th>8LOVJZ3</th>\n",
              "      <th>X4UA382</th>\n",
              "      <th>0QR8FDW</th>\n",
              "      <th>DZABHQW</th>\n",
              "      <th>EKZN1VM</th>\n",
              "      <th>H9XYX9Q</th>\n",
              "      <th>03RHJ3G</th>\n",
              "      <th>FTX7LB8</th>\n",
              "      <th>Q03FQ74</th>\n",
              "      <th>5AC6YRF</th>\n",
              "      <th>1RWEBRU</th>\n",
              "      <th>DCB3LQM</th>\n",
              "      <th>HN83F3L</th>\n",
              "      <th>SPPGKO2</th>\n",
              "      <th>C1ERJ22</th>\n",
              "      <th>AJRKP0C</th>\n",
              "      <th>UUZT4OE</th>\n",
              "      <th>WAC029P</th>\n",
              "      <th>JT4HGZ2</th>\n",
              "      <th>8Z5P9T1</th>\n",
              "      <th>UAXX1ZE</th>\n",
              "      <th>74A6FL0</th>\n",
              "      <th>2M1UBKJ</th>\n",
              "      <th>E5D3KEB</th>\n",
              "      <th>NQSL7FX</th>\n",
              "      <th>S200A1J</th>\n",
              "      <th>ETFFDX5</th>\n",
              "      <th>R6JUSZT</th>\n",
              "      <th>EDXK0HP</th>\n",
              "      <th>N5NO82G</th>\n",
              "      <th>5DHNI4S</th>\n",
              "      <th>VUYACXV</th>\n",
              "      <th>VMCY8BI</th>\n",
              "      <th>927BHUF</th>\n",
              "      <th>3MW0MN9</th>\n",
              "      <th>...</th>\n",
              "      <th>J8FAZRB</th>\n",
              "      <th>P66KAPS</th>\n",
              "      <th>CJJI1XY</th>\n",
              "      <th>K3N8ADC</th>\n",
              "      <th>SG89YSS</th>\n",
              "      <th>XYFQJ1Q</th>\n",
              "      <th>QTT8QNT</th>\n",
              "      <th>LC8FONX</th>\n",
              "      <th>WJXP54Z</th>\n",
              "      <th>GVQD9D6</th>\n",
              "      <th>64QSPWU</th>\n",
              "      <th>LRCHHQJ</th>\n",
              "      <th>Q2HCM1O</th>\n",
              "      <th>F055OA5</th>\n",
              "      <th>SY568EU</th>\n",
              "      <th>QBSA1OR</th>\n",
              "      <th>8YJIRQ2</th>\n",
              "      <th>KVOVDD8</th>\n",
              "      <th>H983665</th>\n",
              "      <th>7T2W8WU</th>\n",
              "      <th>4NSOFJG</th>\n",
              "      <th>4UAL23D</th>\n",
              "      <th>956JU5F</th>\n",
              "      <th>B8NRA4K</th>\n",
              "      <th>PH8DIYU</th>\n",
              "      <th>F47NAGJ</th>\n",
              "      <th>1NG8I9K</th>\n",
              "      <th>ZP9STNM</th>\n",
              "      <th>D3349RH</th>\n",
              "      <th>E4L0I98</th>\n",
              "      <th>YVR8GT6</th>\n",
              "      <th>ZAVM3PJ</th>\n",
              "      <th>DS4NLQE</th>\n",
              "      <th>HR19LL7</th>\n",
              "      <th>1451FOG</th>\n",
              "      <th>2ON8NSO</th>\n",
              "      <th>NFUEAN5</th>\n",
              "      <th>4T821GV</th>\n",
              "      <th>J6A19TW</th>\n",
              "      <th>43RCYZH</th>\n",
              "    </tr>\n",
              "  </thead>\n",
              "  <tbody>\n",
              "    <tr>\n",
              "      <th>0</th>\n",
              "      <td>2017-01-01 00:00:00</td>\n",
              "      <td>0</td>\n",
              "      <td>0</td>\n",
              "      <td>0</td>\n",
              "      <td>0</td>\n",
              "      <td>0</td>\n",
              "      <td>0</td>\n",
              "      <td>0</td>\n",
              "      <td>0</td>\n",
              "      <td>0</td>\n",
              "      <td>0</td>\n",
              "      <td>0</td>\n",
              "      <td>0</td>\n",
              "      <td>0</td>\n",
              "      <td>0</td>\n",
              "      <td>0</td>\n",
              "      <td>0</td>\n",
              "      <td>0</td>\n",
              "      <td>0</td>\n",
              "      <td>0</td>\n",
              "      <td>0</td>\n",
              "      <td>0</td>\n",
              "      <td>0</td>\n",
              "      <td>0</td>\n",
              "      <td>0</td>\n",
              "      <td>0</td>\n",
              "      <td>0</td>\n",
              "      <td>0</td>\n",
              "      <td>0</td>\n",
              "      <td>0</td>\n",
              "      <td>0</td>\n",
              "      <td>0</td>\n",
              "      <td>0</td>\n",
              "      <td>0</td>\n",
              "      <td>0</td>\n",
              "      <td>0</td>\n",
              "      <td>0</td>\n",
              "      <td>0</td>\n",
              "      <td>0</td>\n",
              "      <td>0</td>\n",
              "      <td>...</td>\n",
              "      <td>0</td>\n",
              "      <td>0</td>\n",
              "      <td>0</td>\n",
              "      <td>0</td>\n",
              "      <td>0</td>\n",
              "      <td>0</td>\n",
              "      <td>0</td>\n",
              "      <td>0</td>\n",
              "      <td>0</td>\n",
              "      <td>0</td>\n",
              "      <td>0</td>\n",
              "      <td>0</td>\n",
              "      <td>0</td>\n",
              "      <td>0</td>\n",
              "      <td>0</td>\n",
              "      <td>0</td>\n",
              "      <td>0</td>\n",
              "      <td>0</td>\n",
              "      <td>0</td>\n",
              "      <td>0</td>\n",
              "      <td>0</td>\n",
              "      <td>0</td>\n",
              "      <td>0</td>\n",
              "      <td>0</td>\n",
              "      <td>0</td>\n",
              "      <td>0</td>\n",
              "      <td>0</td>\n",
              "      <td>0</td>\n",
              "      <td>0</td>\n",
              "      <td>0</td>\n",
              "      <td>0</td>\n",
              "      <td>0</td>\n",
              "      <td>0</td>\n",
              "      <td>0</td>\n",
              "      <td>0</td>\n",
              "      <td>0</td>\n",
              "      <td>0</td>\n",
              "      <td>0</td>\n",
              "      <td>0</td>\n",
              "      <td>0</td>\n",
              "    </tr>\n",
              "    <tr>\n",
              "      <th>1</th>\n",
              "      <td>2017-01-01 01:00:00</td>\n",
              "      <td>0</td>\n",
              "      <td>0</td>\n",
              "      <td>0</td>\n",
              "      <td>0</td>\n",
              "      <td>0</td>\n",
              "      <td>0</td>\n",
              "      <td>0</td>\n",
              "      <td>0</td>\n",
              "      <td>0</td>\n",
              "      <td>0</td>\n",
              "      <td>0</td>\n",
              "      <td>0</td>\n",
              "      <td>0</td>\n",
              "      <td>0</td>\n",
              "      <td>0</td>\n",
              "      <td>0</td>\n",
              "      <td>0</td>\n",
              "      <td>0</td>\n",
              "      <td>0</td>\n",
              "      <td>0</td>\n",
              "      <td>0</td>\n",
              "      <td>0</td>\n",
              "      <td>0</td>\n",
              "      <td>0</td>\n",
              "      <td>0</td>\n",
              "      <td>0</td>\n",
              "      <td>0</td>\n",
              "      <td>0</td>\n",
              "      <td>0</td>\n",
              "      <td>0</td>\n",
              "      <td>0</td>\n",
              "      <td>0</td>\n",
              "      <td>0</td>\n",
              "      <td>0</td>\n",
              "      <td>0</td>\n",
              "      <td>0</td>\n",
              "      <td>0</td>\n",
              "      <td>0</td>\n",
              "      <td>0</td>\n",
              "      <td>...</td>\n",
              "      <td>0</td>\n",
              "      <td>0</td>\n",
              "      <td>0</td>\n",
              "      <td>0</td>\n",
              "      <td>0</td>\n",
              "      <td>0</td>\n",
              "      <td>0</td>\n",
              "      <td>0</td>\n",
              "      <td>0</td>\n",
              "      <td>0</td>\n",
              "      <td>0</td>\n",
              "      <td>0</td>\n",
              "      <td>0</td>\n",
              "      <td>0</td>\n",
              "      <td>0</td>\n",
              "      <td>0</td>\n",
              "      <td>0</td>\n",
              "      <td>0</td>\n",
              "      <td>0</td>\n",
              "      <td>0</td>\n",
              "      <td>0</td>\n",
              "      <td>0</td>\n",
              "      <td>0</td>\n",
              "      <td>0</td>\n",
              "      <td>0</td>\n",
              "      <td>0</td>\n",
              "      <td>0</td>\n",
              "      <td>0</td>\n",
              "      <td>0</td>\n",
              "      <td>0</td>\n",
              "      <td>0</td>\n",
              "      <td>0</td>\n",
              "      <td>0</td>\n",
              "      <td>0</td>\n",
              "      <td>0</td>\n",
              "      <td>0</td>\n",
              "      <td>0</td>\n",
              "      <td>0</td>\n",
              "      <td>0</td>\n",
              "      <td>0</td>\n",
              "    </tr>\n",
              "    <tr>\n",
              "      <th>2</th>\n",
              "      <td>2017-01-01 02:00:00</td>\n",
              "      <td>0</td>\n",
              "      <td>0</td>\n",
              "      <td>0</td>\n",
              "      <td>0</td>\n",
              "      <td>0</td>\n",
              "      <td>0</td>\n",
              "      <td>0</td>\n",
              "      <td>0</td>\n",
              "      <td>0</td>\n",
              "      <td>0</td>\n",
              "      <td>0</td>\n",
              "      <td>0</td>\n",
              "      <td>0</td>\n",
              "      <td>0</td>\n",
              "      <td>0</td>\n",
              "      <td>0</td>\n",
              "      <td>0</td>\n",
              "      <td>0</td>\n",
              "      <td>0</td>\n",
              "      <td>0</td>\n",
              "      <td>0</td>\n",
              "      <td>0</td>\n",
              "      <td>0</td>\n",
              "      <td>0</td>\n",
              "      <td>0</td>\n",
              "      <td>0</td>\n",
              "      <td>0</td>\n",
              "      <td>0</td>\n",
              "      <td>0</td>\n",
              "      <td>0</td>\n",
              "      <td>0</td>\n",
              "      <td>0</td>\n",
              "      <td>0</td>\n",
              "      <td>0</td>\n",
              "      <td>0</td>\n",
              "      <td>0</td>\n",
              "      <td>0</td>\n",
              "      <td>0</td>\n",
              "      <td>0</td>\n",
              "      <td>...</td>\n",
              "      <td>0</td>\n",
              "      <td>0</td>\n",
              "      <td>0</td>\n",
              "      <td>0</td>\n",
              "      <td>0</td>\n",
              "      <td>0</td>\n",
              "      <td>0</td>\n",
              "      <td>0</td>\n",
              "      <td>0</td>\n",
              "      <td>0</td>\n",
              "      <td>0</td>\n",
              "      <td>0</td>\n",
              "      <td>0</td>\n",
              "      <td>0</td>\n",
              "      <td>0</td>\n",
              "      <td>0</td>\n",
              "      <td>0</td>\n",
              "      <td>0</td>\n",
              "      <td>0</td>\n",
              "      <td>0</td>\n",
              "      <td>0</td>\n",
              "      <td>0</td>\n",
              "      <td>0</td>\n",
              "      <td>0</td>\n",
              "      <td>0</td>\n",
              "      <td>0</td>\n",
              "      <td>0</td>\n",
              "      <td>0</td>\n",
              "      <td>0</td>\n",
              "      <td>0</td>\n",
              "      <td>0</td>\n",
              "      <td>0</td>\n",
              "      <td>0</td>\n",
              "      <td>0</td>\n",
              "      <td>0</td>\n",
              "      <td>0</td>\n",
              "      <td>0</td>\n",
              "      <td>0</td>\n",
              "      <td>0</td>\n",
              "      <td>0</td>\n",
              "    </tr>\n",
              "    <tr>\n",
              "      <th>3</th>\n",
              "      <td>2017-01-01 03:00:00</td>\n",
              "      <td>0</td>\n",
              "      <td>0</td>\n",
              "      <td>0</td>\n",
              "      <td>0</td>\n",
              "      <td>0</td>\n",
              "      <td>0</td>\n",
              "      <td>0</td>\n",
              "      <td>0</td>\n",
              "      <td>0</td>\n",
              "      <td>0</td>\n",
              "      <td>0</td>\n",
              "      <td>0</td>\n",
              "      <td>0</td>\n",
              "      <td>0</td>\n",
              "      <td>0</td>\n",
              "      <td>0</td>\n",
              "      <td>0</td>\n",
              "      <td>0</td>\n",
              "      <td>0</td>\n",
              "      <td>0</td>\n",
              "      <td>0</td>\n",
              "      <td>0</td>\n",
              "      <td>0</td>\n",
              "      <td>0</td>\n",
              "      <td>0</td>\n",
              "      <td>0</td>\n",
              "      <td>0</td>\n",
              "      <td>0</td>\n",
              "      <td>0</td>\n",
              "      <td>0</td>\n",
              "      <td>0</td>\n",
              "      <td>0</td>\n",
              "      <td>0</td>\n",
              "      <td>0</td>\n",
              "      <td>0</td>\n",
              "      <td>0</td>\n",
              "      <td>0</td>\n",
              "      <td>0</td>\n",
              "      <td>0</td>\n",
              "      <td>...</td>\n",
              "      <td>0</td>\n",
              "      <td>0</td>\n",
              "      <td>0</td>\n",
              "      <td>0</td>\n",
              "      <td>0</td>\n",
              "      <td>0</td>\n",
              "      <td>0</td>\n",
              "      <td>0</td>\n",
              "      <td>0</td>\n",
              "      <td>0</td>\n",
              "      <td>0</td>\n",
              "      <td>0</td>\n",
              "      <td>0</td>\n",
              "      <td>0</td>\n",
              "      <td>0</td>\n",
              "      <td>0</td>\n",
              "      <td>0</td>\n",
              "      <td>0</td>\n",
              "      <td>0</td>\n",
              "      <td>0</td>\n",
              "      <td>0</td>\n",
              "      <td>0</td>\n",
              "      <td>0</td>\n",
              "      <td>0</td>\n",
              "      <td>0</td>\n",
              "      <td>0</td>\n",
              "      <td>0</td>\n",
              "      <td>0</td>\n",
              "      <td>0</td>\n",
              "      <td>0</td>\n",
              "      <td>0</td>\n",
              "      <td>0</td>\n",
              "      <td>0</td>\n",
              "      <td>0</td>\n",
              "      <td>0</td>\n",
              "      <td>0</td>\n",
              "      <td>0</td>\n",
              "      <td>0</td>\n",
              "      <td>0</td>\n",
              "      <td>0</td>\n",
              "    </tr>\n",
              "    <tr>\n",
              "      <th>4</th>\n",
              "      <td>2017-01-01 04:00:00</td>\n",
              "      <td>0</td>\n",
              "      <td>0</td>\n",
              "      <td>0</td>\n",
              "      <td>0</td>\n",
              "      <td>0</td>\n",
              "      <td>0</td>\n",
              "      <td>0</td>\n",
              "      <td>0</td>\n",
              "      <td>0</td>\n",
              "      <td>0</td>\n",
              "      <td>0</td>\n",
              "      <td>0</td>\n",
              "      <td>0</td>\n",
              "      <td>0</td>\n",
              "      <td>0</td>\n",
              "      <td>0</td>\n",
              "      <td>0</td>\n",
              "      <td>0</td>\n",
              "      <td>0</td>\n",
              "      <td>0</td>\n",
              "      <td>0</td>\n",
              "      <td>0</td>\n",
              "      <td>0</td>\n",
              "      <td>0</td>\n",
              "      <td>0</td>\n",
              "      <td>0</td>\n",
              "      <td>0</td>\n",
              "      <td>0</td>\n",
              "      <td>0</td>\n",
              "      <td>0</td>\n",
              "      <td>0</td>\n",
              "      <td>0</td>\n",
              "      <td>0</td>\n",
              "      <td>0</td>\n",
              "      <td>0</td>\n",
              "      <td>0</td>\n",
              "      <td>0</td>\n",
              "      <td>0</td>\n",
              "      <td>0</td>\n",
              "      <td>...</td>\n",
              "      <td>0</td>\n",
              "      <td>0</td>\n",
              "      <td>0</td>\n",
              "      <td>0</td>\n",
              "      <td>0</td>\n",
              "      <td>0</td>\n",
              "      <td>0</td>\n",
              "      <td>0</td>\n",
              "      <td>0</td>\n",
              "      <td>0</td>\n",
              "      <td>0</td>\n",
              "      <td>0</td>\n",
              "      <td>0</td>\n",
              "      <td>0</td>\n",
              "      <td>0</td>\n",
              "      <td>0</td>\n",
              "      <td>0</td>\n",
              "      <td>0</td>\n",
              "      <td>0</td>\n",
              "      <td>0</td>\n",
              "      <td>0</td>\n",
              "      <td>0</td>\n",
              "      <td>0</td>\n",
              "      <td>0</td>\n",
              "      <td>0</td>\n",
              "      <td>0</td>\n",
              "      <td>0</td>\n",
              "      <td>0</td>\n",
              "      <td>0</td>\n",
              "      <td>0</td>\n",
              "      <td>0</td>\n",
              "      <td>0</td>\n",
              "      <td>0</td>\n",
              "      <td>0</td>\n",
              "      <td>0</td>\n",
              "      <td>0</td>\n",
              "      <td>0</td>\n",
              "      <td>0</td>\n",
              "      <td>0</td>\n",
              "      <td>0</td>\n",
              "    </tr>\n",
              "  </tbody>\n",
              "</table>\n",
              "<p>5 rows × 545 columns</p>\n",
              "</div>"
            ],
            "text/plain": [
              "             datetime  S0B3CGQ  RYJYAPI  ...  4T821GV  J6A19TW  43RCYZH\n",
              "0 2017-01-01 00:00:00        0        0  ...        0        0        0\n",
              "1 2017-01-01 01:00:00        0        0  ...        0        0        0\n",
              "2 2017-01-01 02:00:00        0        0  ...        0        0        0\n",
              "3 2017-01-01 03:00:00        0        0  ...        0        0        0\n",
              "4 2017-01-01 04:00:00        0        0  ...        0        0        0\n",
              "\n",
              "[5 rows x 545 columns]"
            ]
          },
          "metadata": {
            "tags": []
          },
          "execution_count": 54
        }
      ]
    },
    {
      "cell_type": "code",
      "metadata": {
        "id": "xgAR8urxtIyL",
        "colab_type": "code",
        "colab": {
          "base_uri": "https://localhost:8080/",
          "height": 206
        },
        "outputId": "53476bab-16bb-434f-f22f-f153713c32fe"
      },
      "source": [
        "# Reshape this as in sample submission\n",
        "# add some extra columns that may be useful\n",
        "train = pd.DataFrame({\n",
        "    'datetime x segment_id':np.concatenate([[str(x) + \" x \" + str(c) \n",
        "                                             for c in sids] \n",
        "                                            for x in tr['datetime']]),\n",
        "    'datetime':np.concatenate([[str(x) for c in sids] for x in tr['datetime']]),\n",
        "    'segment_id':np.concatenate([[str(c) for c in sids] for x in tr['datetime']]),\n",
        "    'y':tr[sids].values.flatten()\n",
        "})\n",
        "train.head()"
      ],
      "execution_count": 55,
      "outputs": [
        {
          "output_type": "execute_result",
          "data": {
            "text/html": [
              "<div>\n",
              "<style scoped>\n",
              "    .dataframe tbody tr th:only-of-type {\n",
              "        vertical-align: middle;\n",
              "    }\n",
              "\n",
              "    .dataframe tbody tr th {\n",
              "        vertical-align: top;\n",
              "    }\n",
              "\n",
              "    .dataframe thead th {\n",
              "        text-align: right;\n",
              "    }\n",
              "</style>\n",
              "<table border=\"1\" class=\"dataframe\">\n",
              "  <thead>\n",
              "    <tr style=\"text-align: right;\">\n",
              "      <th></th>\n",
              "      <th>datetime x segment_id</th>\n",
              "      <th>datetime</th>\n",
              "      <th>segment_id</th>\n",
              "      <th>y</th>\n",
              "    </tr>\n",
              "  </thead>\n",
              "  <tbody>\n",
              "    <tr>\n",
              "      <th>0</th>\n",
              "      <td>2017-01-01 00:00:00 x S0B3CGQ</td>\n",
              "      <td>2017-01-01 00:00:00</td>\n",
              "      <td>S0B3CGQ</td>\n",
              "      <td>0</td>\n",
              "    </tr>\n",
              "    <tr>\n",
              "      <th>1</th>\n",
              "      <td>2017-01-01 00:00:00 x RYJYAPI</td>\n",
              "      <td>2017-01-01 00:00:00</td>\n",
              "      <td>RYJYAPI</td>\n",
              "      <td>0</td>\n",
              "    </tr>\n",
              "    <tr>\n",
              "      <th>2</th>\n",
              "      <td>2017-01-01 00:00:00 x U3KP57C</td>\n",
              "      <td>2017-01-01 00:00:00</td>\n",
              "      <td>U3KP57C</td>\n",
              "      <td>0</td>\n",
              "    </tr>\n",
              "    <tr>\n",
              "      <th>3</th>\n",
              "      <td>2017-01-01 00:00:00 x RY0TRQ8</td>\n",
              "      <td>2017-01-01 00:00:00</td>\n",
              "      <td>RY0TRQ8</td>\n",
              "      <td>0</td>\n",
              "    </tr>\n",
              "    <tr>\n",
              "      <th>4</th>\n",
              "      <td>2017-01-01 00:00:00 x 8LOVJZ3</td>\n",
              "      <td>2017-01-01 00:00:00</td>\n",
              "      <td>8LOVJZ3</td>\n",
              "      <td>0</td>\n",
              "    </tr>\n",
              "  </tbody>\n",
              "</table>\n",
              "</div>"
            ],
            "text/plain": [
              "           datetime x segment_id             datetime segment_id  y\n",
              "0  2017-01-01 00:00:00 x S0B3CGQ  2017-01-01 00:00:00    S0B3CGQ  0\n",
              "1  2017-01-01 00:00:00 x RYJYAPI  2017-01-01 00:00:00    RYJYAPI  0\n",
              "2  2017-01-01 00:00:00 x U3KP57C  2017-01-01 00:00:00    U3KP57C  0\n",
              "3  2017-01-01 00:00:00 x RY0TRQ8  2017-01-01 00:00:00    RY0TRQ8  0\n",
              "4  2017-01-01 00:00:00 x 8LOVJZ3  2017-01-01 00:00:00    8LOVJZ3  0"
            ]
          },
          "metadata": {
            "tags": []
          },
          "execution_count": 55
        }
      ]
    },
    {
      "cell_type": "code",
      "metadata": {
        "id": "IFxaAO9stI1F",
        "colab_type": "code",
        "colab": {
          "base_uri": "https://localhost:8080/",
          "height": 206
        },
        "outputId": "0f74fca9-ac62-49a0-bb22-00ce4e2155b6"
      },
      "source": [
        "# Same for local test\n",
        "dts = pd.date_range('2018-09-01','2018-12-31',\n",
        "                    freq=\"1h\")\n",
        "tr = pd.DataFrame({'datetime':dts})\n",
        "\n",
        "for sid in sids:\n",
        "    tr[str(sid)] = 0\n",
        "    events = local_test.loc[local_test['road_segment_id'] == sid]\n",
        "    dts = events['Occurrence Local Date Time'].dt.round('H')\n",
        "    dates = dts.astype(str).unique()\n",
        "    tr.loc[tr['datetime'].isin(dates), sid] = 1\n",
        "    \n",
        "test = pd.DataFrame({\n",
        "    'datetime x segment_id':np.concatenate([[str(x) + \" x \" + str(c) \n",
        "                                             for c in sids] \n",
        "                                            for x in tr['datetime']]),\n",
        "    'datetime':np.concatenate([[str(x) for c in sids] for x in tr['datetime']]),\n",
        "    'segment_id':np.concatenate([[str(c) for c in sids] for x in tr['datetime']]),\n",
        "    'y':tr[sids].values.flatten()\n",
        "})\n",
        "test.head()"
      ],
      "execution_count": 56,
      "outputs": [
        {
          "output_type": "execute_result",
          "data": {
            "text/html": [
              "<div>\n",
              "<style scoped>\n",
              "    .dataframe tbody tr th:only-of-type {\n",
              "        vertical-align: middle;\n",
              "    }\n",
              "\n",
              "    .dataframe tbody tr th {\n",
              "        vertical-align: top;\n",
              "    }\n",
              "\n",
              "    .dataframe thead th {\n",
              "        text-align: right;\n",
              "    }\n",
              "</style>\n",
              "<table border=\"1\" class=\"dataframe\">\n",
              "  <thead>\n",
              "    <tr style=\"text-align: right;\">\n",
              "      <th></th>\n",
              "      <th>datetime x segment_id</th>\n",
              "      <th>datetime</th>\n",
              "      <th>segment_id</th>\n",
              "      <th>y</th>\n",
              "    </tr>\n",
              "  </thead>\n",
              "  <tbody>\n",
              "    <tr>\n",
              "      <th>0</th>\n",
              "      <td>2018-09-01 00:00:00 x S0B3CGQ</td>\n",
              "      <td>2018-09-01 00:00:00</td>\n",
              "      <td>S0B3CGQ</td>\n",
              "      <td>0</td>\n",
              "    </tr>\n",
              "    <tr>\n",
              "      <th>1</th>\n",
              "      <td>2018-09-01 00:00:00 x RYJYAPI</td>\n",
              "      <td>2018-09-01 00:00:00</td>\n",
              "      <td>RYJYAPI</td>\n",
              "      <td>0</td>\n",
              "    </tr>\n",
              "    <tr>\n",
              "      <th>2</th>\n",
              "      <td>2018-09-01 00:00:00 x U3KP57C</td>\n",
              "      <td>2018-09-01 00:00:00</td>\n",
              "      <td>U3KP57C</td>\n",
              "      <td>0</td>\n",
              "    </tr>\n",
              "    <tr>\n",
              "      <th>3</th>\n",
              "      <td>2018-09-01 00:00:00 x RY0TRQ8</td>\n",
              "      <td>2018-09-01 00:00:00</td>\n",
              "      <td>RY0TRQ8</td>\n",
              "      <td>0</td>\n",
              "    </tr>\n",
              "    <tr>\n",
              "      <th>4</th>\n",
              "      <td>2018-09-01 00:00:00 x 8LOVJZ3</td>\n",
              "      <td>2018-09-01 00:00:00</td>\n",
              "      <td>8LOVJZ3</td>\n",
              "      <td>0</td>\n",
              "    </tr>\n",
              "  </tbody>\n",
              "</table>\n",
              "</div>"
            ],
            "text/plain": [
              "           datetime x segment_id             datetime segment_id  y\n",
              "0  2018-09-01 00:00:00 x S0B3CGQ  2018-09-01 00:00:00    S0B3CGQ  0\n",
              "1  2018-09-01 00:00:00 x RYJYAPI  2018-09-01 00:00:00    RYJYAPI  0\n",
              "2  2018-09-01 00:00:00 x U3KP57C  2018-09-01 00:00:00    U3KP57C  0\n",
              "3  2018-09-01 00:00:00 x RY0TRQ8  2018-09-01 00:00:00    RY0TRQ8  0\n",
              "4  2018-09-01 00:00:00 x 8LOVJZ3  2018-09-01 00:00:00    8LOVJZ3  0"
            ]
          },
          "metadata": {
            "tags": []
          },
          "execution_count": 56
        }
      ]
    },
    {
      "cell_type": "code",
      "metadata": {
        "id": "jL4y4ZsItI4u",
        "colab_type": "code",
        "colab": {}
      },
      "source": [
        "#add some colums\n",
        "train['datetime'] = pd.to_datetime(train['datetime'])\n",
        "train['year'] = train['datetime'].dt.year\n",
        "train['month'] = train['datetime'].dt.month\n",
        "train['day'] = train['datetime'].dt.weekday\n",
        "train['hour'] = train['datetime'].dt.hour"
      ],
      "execution_count": 57,
      "outputs": []
    },
    {
      "cell_type": "code",
      "metadata": {
        "id": "ct3qxf_WtI7K",
        "colab_type": "code",
        "colab": {
          "base_uri": "https://localhost:8080/",
          "height": 206
        },
        "outputId": "16d3b1cf-877d-4beb-fb99-cd2107ae75d3"
      },
      "source": [
        "train.head()"
      ],
      "execution_count": null,
      "outputs": [
        {
          "output_type": "execute_result",
          "data": {
            "text/html": [
              "<div>\n",
              "<style scoped>\n",
              "    .dataframe tbody tr th:only-of-type {\n",
              "        vertical-align: middle;\n",
              "    }\n",
              "\n",
              "    .dataframe tbody tr th {\n",
              "        vertical-align: top;\n",
              "    }\n",
              "\n",
              "    .dataframe thead th {\n",
              "        text-align: right;\n",
              "    }\n",
              "</style>\n",
              "<table border=\"1\" class=\"dataframe\">\n",
              "  <thead>\n",
              "    <tr style=\"text-align: right;\">\n",
              "      <th></th>\n",
              "      <th>datetime x segment_id</th>\n",
              "      <th>datetime</th>\n",
              "      <th>segment_id</th>\n",
              "      <th>y</th>\n",
              "      <th>year</th>\n",
              "      <th>month</th>\n",
              "      <th>day</th>\n",
              "      <th>hour</th>\n",
              "    </tr>\n",
              "  </thead>\n",
              "  <tbody>\n",
              "    <tr>\n",
              "      <th>0</th>\n",
              "      <td>2017-01-01 00:00:00 x S0B3CGQ</td>\n",
              "      <td>2017-01-01</td>\n",
              "      <td>S0B3CGQ</td>\n",
              "      <td>0</td>\n",
              "      <td>2017</td>\n",
              "      <td>1</td>\n",
              "      <td>6</td>\n",
              "      <td>0</td>\n",
              "    </tr>\n",
              "    <tr>\n",
              "      <th>1</th>\n",
              "      <td>2017-01-01 00:00:00 x RYJYAPI</td>\n",
              "      <td>2017-01-01</td>\n",
              "      <td>RYJYAPI</td>\n",
              "      <td>0</td>\n",
              "      <td>2017</td>\n",
              "      <td>1</td>\n",
              "      <td>6</td>\n",
              "      <td>0</td>\n",
              "    </tr>\n",
              "    <tr>\n",
              "      <th>2</th>\n",
              "      <td>2017-01-01 00:00:00 x U3KP57C</td>\n",
              "      <td>2017-01-01</td>\n",
              "      <td>U3KP57C</td>\n",
              "      <td>0</td>\n",
              "      <td>2017</td>\n",
              "      <td>1</td>\n",
              "      <td>6</td>\n",
              "      <td>0</td>\n",
              "    </tr>\n",
              "    <tr>\n",
              "      <th>3</th>\n",
              "      <td>2017-01-01 00:00:00 x RY0TRQ8</td>\n",
              "      <td>2017-01-01</td>\n",
              "      <td>RY0TRQ8</td>\n",
              "      <td>0</td>\n",
              "      <td>2017</td>\n",
              "      <td>1</td>\n",
              "      <td>6</td>\n",
              "      <td>0</td>\n",
              "    </tr>\n",
              "    <tr>\n",
              "      <th>4</th>\n",
              "      <td>2017-01-01 00:00:00 x 8LOVJZ3</td>\n",
              "      <td>2017-01-01</td>\n",
              "      <td>8LOVJZ3</td>\n",
              "      <td>0</td>\n",
              "      <td>2017</td>\n",
              "      <td>1</td>\n",
              "      <td>6</td>\n",
              "      <td>0</td>\n",
              "    </tr>\n",
              "  </tbody>\n",
              "</table>\n",
              "</div>"
            ],
            "text/plain": [
              "           datetime x segment_id   datetime segment_id  ...  month  day  hour\n",
              "0  2017-01-01 00:00:00 x S0B3CGQ 2017-01-01    S0B3CGQ  ...      1    6     0\n",
              "1  2017-01-01 00:00:00 x RYJYAPI 2017-01-01    RYJYAPI  ...      1    6     0\n",
              "2  2017-01-01 00:00:00 x U3KP57C 2017-01-01    U3KP57C  ...      1    6     0\n",
              "3  2017-01-01 00:00:00 x RY0TRQ8 2017-01-01    RY0TRQ8  ...      1    6     0\n",
              "4  2017-01-01 00:00:00 x 8LOVJZ3 2017-01-01    8LOVJZ3  ...      1    6     0\n",
              "\n",
              "[5 rows x 8 columns]"
            ]
          },
          "metadata": {
            "tags": []
          },
          "execution_count": 26
        }
      ]
    },
    {
      "cell_type": "code",
      "metadata": {
        "id": "reQRjhWbPYVR",
        "colab_type": "code",
        "colab": {}
      },
      "source": [
        "#do the same for the test\n",
        "test['datetime'] = pd.to_datetime(test['datetime'])\n",
        "test['year'] = test['datetime'].dt.year\n",
        "test['month'] = test['datetime'].dt.month\n",
        "test['day'] = test['datetime'].dt.weekday\n",
        "test['hour'] = test['datetime'].dt.hour"
      ],
      "execution_count": 58,
      "outputs": []
    },
    {
      "cell_type": "code",
      "metadata": {
        "id": "-wFvZ61Xt_im",
        "colab_type": "code",
        "colab": {
          "base_uri": "https://localhost:8080/",
          "height": 143
        },
        "outputId": "217eb9a4-3ed1-4c16-e919-fd46671d3398"
      },
      "source": [
        "# add some more data - roads and location\n",
        "\n",
        "#locations\n",
        "train = pd.merge(train, locations, left_on='segment_id', right_on='road_segment_id')\n",
        "# road data\n",
        "train = pd.merge(train, road_segments[['segment_id','WIDTH','LANES']], on='segment_id', how='left')\n",
        "train.head(3)"
      ],
      "execution_count": 59,
      "outputs": [
        {
          "output_type": "execute_result",
          "data": {
            "text/html": [
              "<div>\n",
              "<style scoped>\n",
              "    .dataframe tbody tr th:only-of-type {\n",
              "        vertical-align: middle;\n",
              "    }\n",
              "\n",
              "    .dataframe tbody tr th {\n",
              "        vertical-align: top;\n",
              "    }\n",
              "\n",
              "    .dataframe thead th {\n",
              "        text-align: right;\n",
              "    }\n",
              "</style>\n",
              "<table border=\"1\" class=\"dataframe\">\n",
              "  <thead>\n",
              "    <tr style=\"text-align: right;\">\n",
              "      <th></th>\n",
              "      <th>datetime x segment_id</th>\n",
              "      <th>datetime</th>\n",
              "      <th>segment_id</th>\n",
              "      <th>y</th>\n",
              "      <th>year</th>\n",
              "      <th>month</th>\n",
              "      <th>day</th>\n",
              "      <th>hour</th>\n",
              "      <th>longitude</th>\n",
              "      <th>latitude</th>\n",
              "      <th>WIDTH</th>\n",
              "      <th>LANES</th>\n",
              "    </tr>\n",
              "  </thead>\n",
              "  <tbody>\n",
              "    <tr>\n",
              "      <th>0</th>\n",
              "      <td>2017-01-01 00:00:00 x S0B3CGQ</td>\n",
              "      <td>2017-01-01 00:00:00</td>\n",
              "      <td>S0B3CGQ</td>\n",
              "      <td>0</td>\n",
              "      <td>2017</td>\n",
              "      <td>1</td>\n",
              "      <td>6</td>\n",
              "      <td>0</td>\n",
              "      <td>18.541422</td>\n",
              "      <td>-33.888613</td>\n",
              "      <td>0.0</td>\n",
              "      <td>0</td>\n",
              "    </tr>\n",
              "    <tr>\n",
              "      <th>1</th>\n",
              "      <td>2017-01-01 01:00:00 x S0B3CGQ</td>\n",
              "      <td>2017-01-01 01:00:00</td>\n",
              "      <td>S0B3CGQ</td>\n",
              "      <td>0</td>\n",
              "      <td>2017</td>\n",
              "      <td>1</td>\n",
              "      <td>6</td>\n",
              "      <td>1</td>\n",
              "      <td>18.541422</td>\n",
              "      <td>-33.888613</td>\n",
              "      <td>0.0</td>\n",
              "      <td>0</td>\n",
              "    </tr>\n",
              "    <tr>\n",
              "      <th>2</th>\n",
              "      <td>2017-01-01 02:00:00 x S0B3CGQ</td>\n",
              "      <td>2017-01-01 02:00:00</td>\n",
              "      <td>S0B3CGQ</td>\n",
              "      <td>0</td>\n",
              "      <td>2017</td>\n",
              "      <td>1</td>\n",
              "      <td>6</td>\n",
              "      <td>2</td>\n",
              "      <td>18.541422</td>\n",
              "      <td>-33.888613</td>\n",
              "      <td>0.0</td>\n",
              "      <td>0</td>\n",
              "    </tr>\n",
              "  </tbody>\n",
              "</table>\n",
              "</div>"
            ],
            "text/plain": [
              "           datetime x segment_id            datetime  ... WIDTH  LANES\n",
              "0  2017-01-01 00:00:00 x S0B3CGQ 2017-01-01 00:00:00  ...   0.0      0\n",
              "1  2017-01-01 01:00:00 x S0B3CGQ 2017-01-01 01:00:00  ...   0.0      0\n",
              "2  2017-01-01 02:00:00 x S0B3CGQ 2017-01-01 02:00:00  ...   0.0      0\n",
              "\n",
              "[3 rows x 12 columns]"
            ]
          },
          "metadata": {
            "tags": []
          },
          "execution_count": 59
        }
      ]
    },
    {
      "cell_type": "code",
      "metadata": {
        "id": "_cITv2IjPvic",
        "colab_type": "code",
        "colab": {
          "base_uri": "https://localhost:8080/",
          "height": 143
        },
        "outputId": "b7569c6d-5dee-4111-c5f6-0bf4845cebd1"
      },
      "source": [
        "# Same for the test\n",
        "#locations\n",
        "test = pd.merge(test, locations, left_on='segment_id', right_on='road_segment_id')\n",
        "# road data\n",
        "test = pd.merge(test, road_segments[['segment_id','WIDTH','LANES']], on='segment_id', how='left')\n",
        "test.head(3)\n"
      ],
      "execution_count": 60,
      "outputs": [
        {
          "output_type": "execute_result",
          "data": {
            "text/html": [
              "<div>\n",
              "<style scoped>\n",
              "    .dataframe tbody tr th:only-of-type {\n",
              "        vertical-align: middle;\n",
              "    }\n",
              "\n",
              "    .dataframe tbody tr th {\n",
              "        vertical-align: top;\n",
              "    }\n",
              "\n",
              "    .dataframe thead th {\n",
              "        text-align: right;\n",
              "    }\n",
              "</style>\n",
              "<table border=\"1\" class=\"dataframe\">\n",
              "  <thead>\n",
              "    <tr style=\"text-align: right;\">\n",
              "      <th></th>\n",
              "      <th>datetime x segment_id</th>\n",
              "      <th>datetime</th>\n",
              "      <th>segment_id</th>\n",
              "      <th>y</th>\n",
              "      <th>year</th>\n",
              "      <th>month</th>\n",
              "      <th>day</th>\n",
              "      <th>hour</th>\n",
              "      <th>longitude</th>\n",
              "      <th>latitude</th>\n",
              "      <th>WIDTH</th>\n",
              "      <th>LANES</th>\n",
              "    </tr>\n",
              "  </thead>\n",
              "  <tbody>\n",
              "    <tr>\n",
              "      <th>0</th>\n",
              "      <td>2018-09-01 00:00:00 x S0B3CGQ</td>\n",
              "      <td>2018-09-01 00:00:00</td>\n",
              "      <td>S0B3CGQ</td>\n",
              "      <td>0</td>\n",
              "      <td>2018</td>\n",
              "      <td>9</td>\n",
              "      <td>5</td>\n",
              "      <td>0</td>\n",
              "      <td>18.541422</td>\n",
              "      <td>-33.888613</td>\n",
              "      <td>0.0</td>\n",
              "      <td>0</td>\n",
              "    </tr>\n",
              "    <tr>\n",
              "      <th>1</th>\n",
              "      <td>2018-09-01 01:00:00 x S0B3CGQ</td>\n",
              "      <td>2018-09-01 01:00:00</td>\n",
              "      <td>S0B3CGQ</td>\n",
              "      <td>0</td>\n",
              "      <td>2018</td>\n",
              "      <td>9</td>\n",
              "      <td>5</td>\n",
              "      <td>1</td>\n",
              "      <td>18.541422</td>\n",
              "      <td>-33.888613</td>\n",
              "      <td>0.0</td>\n",
              "      <td>0</td>\n",
              "    </tr>\n",
              "    <tr>\n",
              "      <th>2</th>\n",
              "      <td>2018-09-01 02:00:00 x S0B3CGQ</td>\n",
              "      <td>2018-09-01 02:00:00</td>\n",
              "      <td>S0B3CGQ</td>\n",
              "      <td>0</td>\n",
              "      <td>2018</td>\n",
              "      <td>9</td>\n",
              "      <td>5</td>\n",
              "      <td>2</td>\n",
              "      <td>18.541422</td>\n",
              "      <td>-33.888613</td>\n",
              "      <td>0.0</td>\n",
              "      <td>0</td>\n",
              "    </tr>\n",
              "  </tbody>\n",
              "</table>\n",
              "</div>"
            ],
            "text/plain": [
              "           datetime x segment_id            datetime  ... WIDTH  LANES\n",
              "0  2018-09-01 00:00:00 x S0B3CGQ 2018-09-01 00:00:00  ...   0.0      0\n",
              "1  2018-09-01 01:00:00 x S0B3CGQ 2018-09-01 01:00:00  ...   0.0      0\n",
              "2  2018-09-01 02:00:00 x S0B3CGQ 2018-09-01 02:00:00  ...   0.0      0\n",
              "\n",
              "[3 rows x 12 columns]"
            ]
          },
          "metadata": {
            "tags": []
          },
          "execution_count": 60
        }
      ]
    },
    {
      "cell_type": "markdown",
      "metadata": {
        "id": "ZBeQxWpnA1Wj",
        "colab_type": "text"
      },
      "source": [
        "### Save both ```train``` and ```test``` to load in the next ```notebook``` and add data too."
      ]
    },
    {
      "cell_type": "code",
      "metadata": {
        "id": "GZnfgy7wA0hK",
        "colab_type": "code",
        "colab": {}
      },
      "source": [
        "#save it\n",
        "train.to_csv(path/'data/train_basic.csv', index=False)\n",
        "\n",
        "test.to_csv(path/'data/test_basic.csv', index=False)"
      ],
      "execution_count": 61,
      "outputs": []
    },
    {
      "cell_type": "code",
      "metadata": {
        "id": "TzJ2vLIktI_v",
        "colab_type": "code",
        "colab": {}
      },
      "source": [
        "#clean up\n",
        "data, local_test = 0, 0"
      ],
      "execution_count": 62,
      "outputs": []
    },
    {
      "cell_type": "code",
      "metadata": {
        "id": "3joftEKM0ED-",
        "colab_type": "code",
        "colab": {}
      },
      "source": [
        "# define a list of column names to be used for training\n",
        "x_cols = ['month', 'day', 'hour', 'longitude', 'latitude', 'WIDTH', 'LANES']"
      ],
      "execution_count": 63,
      "outputs": []
    },
    {
      "cell_type": "markdown",
      "metadata": {
        "id": "-hEikz0zCNg0",
        "colab_type": "text"
      },
      "source": [
        "### Before we go any further: we need to do some more wrangling because our data is highly imbalanced."
      ]
    },
    {
      "cell_type": "code",
      "metadata": {
        "id": "2vSRD570YK6U",
        "colab_type": "code",
        "colab": {
          "base_uri": "https://localhost:8080/",
          "height": 315
        },
        "outputId": "2a5e3bc2-bef5-49e2-cefc-fa07e97ddda7"
      },
      "source": [
        "# count examples in each class\n",
        "train_count = train['y'].value_counts()\n",
        "print('Class 0:', train_count[0])\n",
        "print('Class 1:', train_count[1])\n",
        "train_count.plot(kind='bar', title='Count (train)')\n",
        "plt.show()"
      ],
      "execution_count": 64,
      "outputs": [
        {
          "output_type": "stream",
          "text": [
            "Class 0: 4751754\n",
            "Class 1: 14230\n"
          ],
          "name": "stdout"
        },
        {
          "output_type": "display_data",
          "data": {
            "image/png": "[encoded data removed]",
            "text/plain": [
              "<Figure size 432x288 with 1 Axes>"
            ]
          },
          "metadata": {
            "tags": [],
            "needs_background": "light"
          }
        }
      ]
    },
    {
      "cell_type": "markdown",
      "metadata": {
        "id": "7vf3Oz9QKn6E",
        "colab_type": "text"
      },
      "source": [
        "#### Why does this matter?\n",
        "\n",
        "> Lets run a quick example with the data 'as-is'.\n",
        "\n"
      ]
    },
    {
      "cell_type": "code",
      "metadata": {
        "id": "c-cKtwgiK0qz",
        "colab_type": "code",
        "colab": {
          "base_uri": "https://localhost:8080/",
          "height": 147
        },
        "outputId": "c98e1cc1-096b-47b8-8b91-6d216d023867"
      },
      "source": [
        "model = XGBClassifier(objective ='binary:logistic')              # set model\n",
        "model.fit(train[x_cols],train['y'])                              # what do you want to train with?\n",
        "preds = model.predict(train[x_cols])                             # what do you want to predict?\n",
        "print('')\n",
        "print(preds)                                                     # print the predictions\n",
        "# Get scores                                                     # lets look at some accuracy measures\n",
        "accuracy = accuracy_score(train['y'], preds)\n",
        "print('Accuracy: %.2f%%' % (accuracy * 100.0))\n",
        "rmse = mean_squared_error(train['y'], preds)\n",
        "print(\"RMSE: %f\" % (rmse))\n",
        "f1 = f1_score(train['y'], preds)\n",
        "print('f1-score: %.2f%%' % f1)"
      ],
      "execution_count": 65,
      "outputs": [
        {
          "output_type": "stream",
          "text": [
            "[12:47:56] WARNING: /workspace/src/gbm/gbtree.cc:139: Tree method is automatically selected to be 'approx' for faster speed. To use old behavior (exact greedy algorithm on single machine), set tree_method to 'exact'.\n",
            "\n",
            "[0 0 0 ... 0 0 0]\n",
            "Accuracy: 99.70%\n",
            "RMSE: 0.002984\n",
            "f1-score: 0.00%\n"
          ],
          "name": "stdout"
        }
      ]
    },
    {
      "cell_type": "markdown",
      "metadata": {
        "id": "tzrQLPDZMUvi",
        "colab_type": "text"
      },
      "source": [
        "#### Our ```accuracy``` is amazing but our ```f1-score``` is ```0```."
      ]
    },
    {
      "cell_type": "code",
      "metadata": {
        "id": "qdXlsiWHONSD",
        "colab_type": "code",
        "colab": {
          "base_uri": "https://localhost:8080/",
          "height": 366
        },
        "outputId": "2ee79887-2287-4ef2-cca8-db62f460e43a"
      },
      "source": [
        "cnf_matrix = confusion_matrix(train['y'], preds)\n",
        "plot_confusion_matrix(cnf_matrix, classes=['0', '1'],\n",
        "                      title='Confusion matrix, without normalization')"
      ],
      "execution_count": 70,
      "outputs": [
        {
          "output_type": "stream",
          "text": [
            "Confusion matrix, without normalization\n",
            "[[4751734      20]\n",
            " [  14204      26]]\n"
          ],
          "name": "stdout"
        },
        {
          "output_type": "display_data",
          "data": {
            "image/png": "[encoded data removed]",
            "text/plain": [
              "<Figure size 432x288 with 2 Axes>"
            ]
          },
          "metadata": {
            "tags": [],
            "needs_background": "light"
          }
        }
      ]
    },
    {
      "cell_type": "markdown",
      "metadata": {
        "id": "qVEyPT3sCb6n",
        "colab_type": "text"
      },
      "source": [
        "#### We're ```predict```ing ```0```'s and ```1```'s equally and not enough of iether. We need to add some kind of ```weight``` so that the algorithm knows to add more emphasis to one class. Luckily we can estimate a ```scale_pos_weight```..."
      ]
    },
    {
      "cell_type": "code",
      "metadata": {
        "id": "RuSRzkRnYt26",
        "colab_type": "code",
        "colab": {
          "base_uri": "https://localhost:8080/",
          "height": 35
        },
        "outputId": "3b8ad5fc-4730-46d7-ced9-81452f4d7a5d"
      },
      "source": [
        "# estimate scale_pos_weight value\n",
        "estimate = train_count[0] / train_count[1]\n",
        "print('Estimate (class imbalance): %.3f' % estimate)"
      ],
      "execution_count": 71,
      "outputs": [
        {
          "output_type": "stream",
          "text": [
            "Estimate (class imbalance): 333.925\n"
          ],
          "name": "stdout"
        }
      ]
    },
    {
      "cell_type": "code",
      "metadata": {
        "id": "oS4u1idmtI98",
        "colab_type": "code",
        "colab": {}
      },
      "source": [
        "# Create the model\n",
        "model = XGBClassifier(objective='binary:logistic', scale_pos_weight = 333.925)"
      ],
      "execution_count": 72,
      "outputs": []
    },
    {
      "cell_type": "markdown",
      "metadata": {
        "id": "lg9Dq6g9B6uN",
        "colab_type": "text"
      },
      "source": [
        "#### ... or perform a ```grid search``` - which I could not get to work."
      ]
    },
    {
      "cell_type": "code",
      "metadata": {
        "id": "LhyjMfNQ0Onj",
        "colab_type": "code",
        "colab": {}
      },
      "source": [
        "model = XGBClassifier(objective='binary:logistic')\n",
        "\n",
        "# define grid\n",
        "param_grid = {                           \n",
        "    'scale_pos_weight': [100, 300, 500] # these values can change\n",
        "    }\n",
        "\n",
        "# define evaluation procedure\n",
        "cv = RepeatedStratifiedKFold(n_splits=3, n_repeats=2, random_state=1)\n",
        "\n",
        "# define grid search\n",
        "grid = GridSearchCV(estimator=model, param_grid=param_grid, \n",
        "                    n_jobs=1, cv=cv, scoring='f1')\n",
        "\n",
        "# execute the grid search\n",
        "grid_result = grid.fit(train[x_cols], train['y'])\n",
        "\n",
        "# report the best configuration\n",
        "print(\"Best: %f using %s\" % (grid_result.best_score_, grid_result.best_params_))\n",
        "\n",
        "# report all configurations\n",
        "means = grid_result.cv_results_['mean_test_score']\n",
        "stds = grid_result.cv_results_['std_test_score']\n",
        "params = grid_result.cv_results_['params']\n",
        "for mean, stdev, param in zip(means, stds, params):\n",
        "    print(\"%f (%f) with: %r\" % (mean, stdev, param))"
      ],
      "execution_count": null,
      "outputs": []
    },
    {
      "cell_type": "markdown",
      "metadata": {
        "id": "_aUl9bLDS4Xh",
        "colab_type": "text"
      },
      "source": [
        "#### Lets continue with the estimated ```scale_pos_weight```"
      ]
    },
    {
      "cell_type": "code",
      "metadata": {
        "id": "rk4XP9xjwWeH",
        "colab_type": "code",
        "colab": {
          "base_uri": "https://localhost:8080/",
          "height": 221
        },
        "outputId": "4ea3fb85-6b60-46f8-cbe8-8fd6cee8587f"
      },
      "source": [
        "#fit\n",
        "model.fit(train[x_cols], train['y'])"
      ],
      "execution_count": 73,
      "outputs": [
        {
          "output_type": "stream",
          "text": [
            "[12:58:01] WARNING: /workspace/src/gbm/gbtree.cc:139: Tree method is automatically selected to be 'approx' for faster speed. To use old behavior (exact greedy algorithm on single machine), set tree_method to 'exact'.\n"
          ],
          "name": "stdout"
        },
        {
          "output_type": "execute_result",
          "data": {
            "text/plain": [
              "XGBClassifier(base_score=0.5, booster='gbtree', colsample_bylevel=1,\n",
              "              colsample_bynode=1, colsample_bytree=1, gamma=0, gpu_id=-1,\n",
              "              importance_type='gain', interaction_constraints='',\n",
              "              learning_rate=0.300000012, max_delta_step=0, max_depth=6,\n",
              "              min_child_weight=1, missing=nan, monotone_constraints='()',\n",
              "              n_estimators=100, n_jobs=0, num_parallel_tree=1,\n",
              "              objective='binary:logistic', random_state=0, reg_alpha=0,\n",
              "              reg_lambda=1, scale_pos_weight=333.925, subsample=1,\n",
              "              tree_method='approx', validate_parameters=1, verbosity=None)"
            ]
          },
          "metadata": {
            "tags": []
          },
          "execution_count": 73
        }
      ]
    },
    {
      "cell_type": "markdown",
      "metadata": {
        "id": "R8TOS41xe_Pe",
        "colab_type": "text"
      },
      "source": [
        "#### ```most_important``` features"
      ]
    },
    {
      "cell_type": "code",
      "metadata": {
        "id": "iuDRvU4R-QwM",
        "colab_type": "code",
        "colab": {
          "base_uri": "https://localhost:8080/",
          "height": 35
        },
        "outputId": "adfc1d44-9d95-4305-c960-613f790f20de"
      },
      "source": [
        "sorted_idx = np.argsort(model.feature_importances_)[::-1]\n",
        "sorted_idx\n"
      ],
      "execution_count": 74,
      "outputs": [
        {
          "output_type": "execute_result",
          "data": {
            "text/plain": [
              "array([3, 4, 5, 2, 0, 1, 6])"
            ]
          },
          "metadata": {
            "tags": []
          },
          "execution_count": 74
        }
      ]
    },
    {
      "cell_type": "code",
      "metadata": {
        "id": "cVrx9NHH_2Sv",
        "colab_type": "code",
        "colab": {
          "base_uri": "https://localhost:8080/",
          "height": 146
        },
        "outputId": "9f00adab-4f4e-45dd-853e-e482a66f16d4"
      },
      "source": [
        "for index in sorted_idx:\n",
        "    print([train.columns[index], model.feature_importances_[index]]) "
      ],
      "execution_count": 75,
      "outputs": [
        {
          "output_type": "stream",
          "text": [
            "['y', 0.3721216]\n",
            "['year', 0.18434048]\n",
            "['month', 0.17943902]\n",
            "['segment_id', 0.13803154]\n",
            "['datetime x segment_id', 0.07750761]\n",
            "['datetime', 0.048559785]\n",
            "['day', 0.0]\n"
          ],
          "name": "stdout"
        }
      ]
    },
    {
      "cell_type": "code",
      "metadata": {
        "id": "pwBvoAvt_r9c",
        "colab_type": "code",
        "colab": {
          "base_uri": "https://localhost:8080/",
          "height": 295
        },
        "outputId": "5b325500-0cf8-44dc-c2c8-c7a82551a76c"
      },
      "source": [
        "plot_importance(model, max_num_features = 7)\n",
        "pyplot.show()"
      ],
      "execution_count": 76,
      "outputs": [
        {
          "output_type": "display_data",
          "data": {
            "image/png": "[encoded data removed]",
            "text/plain": [
              "<Figure size 432x288 with 1 Axes>"
            ]
          },
          "metadata": {
            "tags": [],
            "needs_background": "light"
          }
        }
      ]
    },
    {
      "cell_type": "markdown",
      "metadata": {
        "id": "9L7TPy7zf8kz",
        "colab_type": "text"
      },
      "source": [
        "#### ```hour``` of the day!"
      ]
    },
    {
      "cell_type": "markdown",
      "metadata": {
        "id": "dO_QxpOM1eYL",
        "colab_type": "text"
      },
      "source": [
        "## Optimal Threshold for ROC Curve\n",
        "\n",
        "> A useful tool when predicting the probability of a binary outcome is the *Receiver Operating Characteristic* curve, or ROC curve.\n",
        "\n",
        "> It is a plot of the false positive rate (x-axis) versus the true positive rate (y-axis) for a number of different candidate threshold values between 0.0 and 1.0. In other words, it plots the false alarm rate versus the hit rate - There are many awesome resources online for detailed explanations. [Machine Learning Mastery](https://machinelearningmastery.com/) helped me.\n",
        "\n",
        "\n",
        "\n"
      ]
    },
    {
      "cell_type": "code",
      "metadata": {
        "id": "0p9kjbQOmFbX",
        "colab_type": "code",
        "colab": {}
      },
      "source": [
        "#lets predict *PROBABILITIES*  on the training-set\n",
        "y_pred_train = model.predict_proba(train[x_cols])"
      ],
      "execution_count": 77,
      "outputs": []
    },
    {
      "cell_type": "code",
      "metadata": {
        "id": "5gEPKPCdun0I",
        "colab_type": "code",
        "colab": {}
      },
      "source": [
        "# keep probabilities for the positive outcome only\n",
        "y_pred_train = y_pred_train[:, 1]\n",
        "# calculate roc curves\n",
        "fpr, tpr, thresholds = roc_curve(train['y'], y_pred_train)\n",
        "\n",
        "#same for the test\n",
        "y_pred_test = model.predict_proba(test[x_cols])\n",
        "y_pred_test =  y_pred_test[:, 1]\n",
        "fpr_test, tpr_test, thresholds_test = roc_curve(test['y'],y_pred_test)"
      ],
      "execution_count": 78,
      "outputs": []
    },
    {
      "cell_type": "code",
      "metadata": {
        "id": "XlNIHPn9v40b",
        "colab_type": "code",
        "colab": {
          "base_uri": "https://localhost:8080/",
          "height": 54
        },
        "outputId": "0c3b2e62-14f7-4eb3-ac1b-55c13f32f1f5"
      },
      "source": [
        "# calculate the g-mean for each threshold\n",
        "#the train\n",
        "gmeans = sqrt(tpr * (1-fpr))\n",
        "# locate the index of the largest g-mean\n",
        "ix = argmax(gmeans)\n",
        "print('Best ROC Training Threshold = %f, G-Mean=%.3f' % (thresholds[ix], gmeans[ix]))\n",
        "\n",
        "#the test\n",
        "gmeans_t = sqrt(tpr_test * (1-fpr_test))\n",
        "# locate the index of the largest g-mean\n",
        "ix_t = argmax(gmeans_t)\n",
        "print('Best ROC Test Threshold = %f, G-Mean=%.3f' % (thresholds_test[ix_t], gmeans_t[ix_t]))"
      ],
      "execution_count": 79,
      "outputs": [
        {
          "output_type": "stream",
          "text": [
            "Best ROC Training Threshold = 0.489447, G-Mean=0.837\n",
            "Best ROC Test Threshold = 0.306746, G-Mean=0.719\n"
          ],
          "name": "stdout"
        }
      ]
    },
    {
      "cell_type": "markdown",
      "metadata": {
        "id": "oUCjmYIwfsUm",
        "colab_type": "text"
      },
      "source": [
        "#### Plot ROC curves for both the ```training``` and ```test``` datasets"
      ]
    },
    {
      "cell_type": "code",
      "metadata": {
        "id": "aLuaDm0bIGWP",
        "colab_type": "code",
        "colab": {
          "base_uri": "https://localhost:8080/",
          "height": 279
        },
        "outputId": "d3b1ec5a-3624-4518-9d0c-ca08f7492899"
      },
      "source": [
        "#plot\n",
        "fig,ax = plt.subplots()\n",
        "plt.plot([0,1],[0,1],'r-',label='Random Guess',color='orange')#,lw=3)\n",
        "plt.plot(fpr,tpr,label='ROC (Train)')#,lw=3)\n",
        "plt.plot(fpr_test,tpr_test,'r:',label='ROC (Test)',color='steelblue')#,lw=3)\n",
        "#pyplot.scatter(fpr[ix], tpr[ix], marker='o', color='black', label='Best Train')\n",
        "#pyplot.scatter(fpr_test[ix_t], tpr_test[ix_t], marker='o', color='red', label='Best Test')\n",
        "plt.grid()\n",
        "plt.xlabel('False Positive Rate')\n",
        "plt.ylabel('True Positive Rate')\n",
        "plt.legend()\n",
        "plt.show()"
      ],
      "execution_count": 80,
      "outputs": [
        {
          "output_type": "display_data",
          "data": {
            "image/png": "[encoded data removed]",
            "text/plain": [
              "<Figure size 432x288 with 1 Axes>"
            ]
          },
          "metadata": {
            "tags": [],
            "needs_background": "light"
          }
        }
      ]
    },
    {
      "cell_type": "code",
      "metadata": {
        "id": "8amYnR0JgGsZ",
        "colab_type": "code",
        "colab": {
          "base_uri": "https://localhost:8080/",
          "height": 279
        },
        "outputId": "9a849dd1-7591-4daa-fa11-af7e99f5189b"
      },
      "source": [
        "plt.plot(thresholds,tpr,'r-',label='TPR (Train)',color='orange')#,lw=3)\n",
        "plt.plot(thresholds_test,tpr_test,'r:',label='TPR (Test',color='orange')#,lw=3)\n",
        "plt.plot(thresholds,fpr,'r-',label='FPR (Train)',color='steelblue')#,lw=3)\n",
        "plt.plot(thresholds_test,fpr_test,'r:',label='FPR (Test)',color='steelblue')#,lw=3)\n",
        "plt.gca().set_xbound(lower=0,upper=1)\n",
        "plt.xlabel('Threshold')\n",
        "plt.ylabel('True/False Positive Rate')\n",
        "plt.legend()\n",
        "plt.show()"
      ],
      "execution_count": 81,
      "outputs": [
        {
          "output_type": "display_data",
          "data": {
            "image/png": "[encoded data removed]",
            "text/plain": [
              "<Figure size 432x288 with 1 Axes>"
            ]
          },
          "metadata": {
            "tags": [],
            "needs_background": "light"
          }
        }
      ]
    },
    {
      "cell_type": "markdown",
      "metadata": {
        "id": "XeEJDQ-F5L7e",
        "colab_type": "text"
      },
      "source": [
        "## Optimal Threshold for Precision-Recall Curve\n",
        "\n",
        "> Precision: The fraction of the time we are correct when making a positive prediction (saying there is an accident)\n",
        "\n",
        "> Recall: The fraction of accidents we predict. \n",
        "\n",
        "#### We can calculate a Precision-Recall Curve with probabilities but to genereate a meaningful ```f1-score```/measure (the challenge requirement) we need to predict a class - a ```0``` or a ```1```.\n"
      ]
    },
    {
      "cell_type": "code",
      "metadata": {
        "id": "8UfY078qbOPD",
        "colab_type": "code",
        "colab": {
          "base_uri": "https://localhost:8080/",
          "height": 54
        },
        "outputId": "fcccc72d-fc03-4834-beea-cba1f9a08bf8"
      },
      "source": [
        "#for the training\n",
        "# predict class values\n",
        "yhat = model.predict(train[x_cols])\n",
        "lr_precision, lr_recall, thresh = precision_recall_curve(train['y'], y_pred_train)\n",
        "lr_f1, lr_auc = f1_score(train['y'], yhat), auc(lr_recall, lr_precision)\n",
        "# summarize scores\n",
        "print(' Training Classification: f1=%.3f auc=%.3f' % (lr_f1, lr_auc))\n",
        "\n",
        "#for the test\n",
        "# predict class values\n",
        "yhat_t = model.predict(test[x_cols])\n",
        "lr_precision_t, lr_recall_t, thresh_t = precision_recall_curve(test['y'], y_pred_test)\n",
        "lr_f1_t, lr_auc_t = f1_score(test['y'], yhat_t), auc(lr_recall_t, lr_precision_t)\n",
        "# summarize scores\n",
        "print('Test Classification: f1=%.3f auc=%.3f' % (lr_f1_t, lr_auc_t))"
      ],
      "execution_count": 82,
      "outputs": [
        {
          "output_type": "stream",
          "text": [
            " Training Classification: f1=0.026 auc=0.064\n",
            "Test Classification: f1=0.035 auc=0.021\n"
          ],
          "name": "stdout"
        }
      ]
    },
    {
      "cell_type": "code",
      "metadata": {
        "id": "9R9X8luD6gdS",
        "colab_type": "code",
        "colab": {
          "base_uri": "https://localhost:8080/",
          "height": 279
        },
        "outputId": "b2d4915a-e8cf-42a3-bb9b-1a797762b385"
      },
      "source": [
        "fig,ax = plt.subplots()\n",
        "plt.plot(lr_precision,lr_recall,label='PR (Train)')#,lw=3)\n",
        "plt.plot(lr_precision_t,lr_recall_t,label='PR (Test)')#,lw=3)\n",
        "#pyplot.scatter(recall[ix], precision[ix], marker='o', color='black', label='Best Training')\n",
        "#pyplot.scatter(recall_test[ix_t], precision_test[ix_t], marker='o', color='red', label='Best Test')\n",
        "plt.xlabel('Precision')\n",
        "plt.ylabel('Recall')\n",
        "plt.grid()\n",
        "plt.legend()\n",
        "plt.show()"
      ],
      "execution_count": 83,
      "outputs": [
        {
          "output_type": "display_data",
          "data": {
            "image/png": "[encoded data removed]",
            "text/plain": [
              "<Figure size 432x288 with 1 Axes>"
            ]
          },
          "metadata": {
            "tags": [],
            "needs_background": "light"
          }
        }
      ]
    },
    {
      "cell_type": "markdown",
      "metadata": {
        "id": "hH95-OTJo2pJ",
        "colab_type": "text"
      },
      "source": [
        "#### The scores show: the model that looked good according to the ```ROC Curve``` is in fact not so; when considering the ```precision and recall``` that focus on the positive class. The plot highlights that the model is just barely above the no skill line for most thresholds."
      ]
    },
    {
      "cell_type": "code",
      "metadata": {
        "id": "G5d7mVCMg-Zc",
        "colab_type": "code",
        "colab": {
          "base_uri": "https://localhost:8080/",
          "height": 279
        },
        "outputId": "12113c5f-b995-417c-e260-20e274256a3b"
      },
      "source": [
        "# threshold plot\n",
        "plt.plot(thresh,lr_precision[:-1],'r-',label='P (Train)',color='orange')#,lw=3)\n",
        "plt.plot(thresh_t,lr_precision_t[:-1],'r:',label='P (Test',color='orange')#,lw=3)\n",
        "plt.plot(thresh,lr_recall[:-1],'r-',label='R (Test)',color='steelblue')#,lw=3)\n",
        "plt.plot(thresh_t,lr_recall_t[:-1],'r:',label='R (Test)',color='steelblue')#,lw=3)\n",
        "#plt.plot([0,1],[0,1],'k-',lw=2)\n",
        "plt.gca().set_xbound(lower=0,upper=1)\n",
        "plt.xlabel('Threshold')\n",
        "plt.ylabel('Precision/Recall')\n",
        "plt.legend()\n",
        "plt.show()"
      ],
      "execution_count": 84,
      "outputs": [
        {
          "output_type": "display_data",
          "data": {
            "image/png": "[encoded data removed]",
            "text/plain": [
              "<Figure size 432x288 with 1 Axes>"
            ]
          },
          "metadata": {
            "tags": [],
            "needs_background": "light"
          }
        }
      ]
    },
    {
      "cell_type": "markdown",
      "metadata": {
        "id": "y_D-7TLt8Lf7",
        "colab_type": "text"
      },
      "source": [
        "## Threshold Tuning for F1-Score\n",
        "\n",
        "\n",
        "\n",
        "> Our ```proba```bilities are ok. Now we need to apply a ```threshold``` to maximize an ```f1-score```. Why do we care about the ```f1-score```/measure: because it is the harmonic mean between ```precision``` and ```recall```. We can search for one.\n",
        "\n"
      ]
    },
    {
      "cell_type": "code",
      "metadata": {
        "id": "ZemR9J5X_jo2",
        "colab_type": "code",
        "colab": {}
      },
      "source": [
        "# apply threshold to predictions to create labels\n",
        "def to_labels(pos_preds, threshold):\n",
        "  '''\n",
        "  define a function to take the prediction and threshold as an argument and return an array of integers in {0, 1}\n",
        "  '''\n",
        "  return (pos_preds >= threshold).astype(int)"
      ],
      "execution_count": 85,
      "outputs": []
    },
    {
      "cell_type": "code",
      "metadata": {
        "id": "lJEow1JfBIT2",
        "colab_type": "code",
        "colab": {}
      },
      "source": [
        "# define thresholds (start, stop, step)\n",
        "threshold = np.arange(0, 1, 0.002)"
      ],
      "execution_count": 86,
      "outputs": []
    },
    {
      "cell_type": "code",
      "metadata": {
        "id": "by9TvFT_BLeb",
        "colab_type": "code",
        "colab": {}
      },
      "source": [
        "# evaluate each threshold\n",
        "scores = [f1_score(train['y'], to_labels(y_pred_train, t)) for t in threshold]"
      ],
      "execution_count": 87,
      "outputs": []
    },
    {
      "cell_type": "code",
      "metadata": {
        "id": "8k_qRa6t_uu9",
        "colab_type": "code",
        "colab": {}
      },
      "source": [
        "# do the same for the test\n",
        "scores_t = [f1_score(test['y'], to_labels(y_pred_test, t)) for t in threshold]"
      ],
      "execution_count": 88,
      "outputs": []
    },
    {
      "cell_type": "code",
      "metadata": {
        "id": "ISSoKbOw8A9R",
        "colab_type": "code",
        "colab": {
          "base_uri": "https://localhost:8080/",
          "height": 54
        },
        "outputId": "04a7a626-23af-4446-cb22-1202f27f4d2f"
      },
      "source": [
        "# get best threshold\n",
        "ix = argmax(scores)\n",
        "ix_t = argmax(scores_t)\n",
        "\n",
        "print('Training Threshold = %.3f, F-Score = %.5f' % (threshold[ix], scores[ix]))\n",
        "print('Test Threshold = %.3f, F-Score = %.5f' % (threshold[ix_t], scores_t[ix_t]))"
      ],
      "execution_count": 89,
      "outputs": [
        {
          "output_type": "stream",
          "text": [
            "Training Threshold = 0.942, F-Score = 0.14315\n",
            "Test Threshold = 0.882, F-Score = 0.05676\n"
          ],
          "name": "stdout"
        }
      ]
    },
    {
      "cell_type": "markdown",
      "metadata": {
        "id": "IOU8rvfiAHgs",
        "colab_type": "text"
      },
      "source": [
        "#### The tuning confirms the Precision/Recall-Threshold ```plot``` above."
      ]
    },
    {
      "cell_type": "markdown",
      "metadata": {
        "id": "uT5FEGa2nmN7",
        "colab_type": "text"
      },
      "source": [
        "## Predicting"
      ]
    },
    {
      "cell_type": "code",
      "metadata": {
        "id": "v9iHMJc6jLjH",
        "colab_type": "code",
        "colab": {
          "base_uri": "https://localhost:8080/",
          "height": 290
        },
        "outputId": "28c69ec0-0b52-4686-9d25-02c006197e6c"
      },
      "source": [
        "print('Predicting on the Training-set with a Threshold of = %.3f' % 0.942)\n",
        "train['pred'] = (model.predict(train[x_cols]) > 0.942).astype(int)\n",
        "print(' Accuracy:',accuracy_score(train['y'],train['pred']))\n",
        "#rmse = np.sqrt(mean_squared_error(y_test, preds))\n",
        "print(\"RMSE: %f\" % (mean_squared_error(train['y'],train['pred'])))\n",
        "print(' f1-score for the + class:',f1_score(train['y'],train['pred']))\n",
        "print(' Precision for the + class:',precision_score(train['y'],train['pred']))\n",
        "print(' Recall for the + class:',recall_score(train['y'],train['pred']))\n",
        "#y_pred_train = model.predict(train[x_cols])\n",
        "print(' AUC:',roc_auc_score(train['y'],train['pred']))\n",
        "print(' Ave. Precision:',average_precision_score(train['y'],train['pred']))\n",
        "train.head(3)"
      ],
      "execution_count": 91,
      "outputs": [
        {
          "output_type": "stream",
          "text": [
            "Predicting on the Training-set with a Threshold of = 0.942\n",
            " Accuracy: 0.8074909609432176\n",
            "RMSE: 0.192509\n",
            " f1-score for the + class: 0.026174037180718673\n",
            " Precision for the + class: 0.013287711830158687\n",
            " Recall for the + class: 0.8664792691496838\n",
            " AUC: 0.8368967893854655\n",
            " Ave. Precision: 0.0119121853284559\n"
          ],
          "name": "stdout"
        },
        {
          "output_type": "execute_result",
          "data": {
            "text/html": [
              "<div>\n",
              "<style scoped>\n",
              "    .dataframe tbody tr th:only-of-type {\n",
              "        vertical-align: middle;\n",
              "    }\n",
              "\n",
              "    .dataframe tbody tr th {\n",
              "        vertical-align: top;\n",
              "    }\n",
              "\n",
              "    .dataframe thead th {\n",
              "        text-align: right;\n",
              "    }\n",
              "</style>\n",
              "<table border=\"1\" class=\"dataframe\">\n",
              "  <thead>\n",
              "    <tr style=\"text-align: right;\">\n",
              "      <th></th>\n",
              "      <th>datetime x segment_id</th>\n",
              "      <th>datetime</th>\n",
              "      <th>segment_id</th>\n",
              "      <th>y</th>\n",
              "      <th>year</th>\n",
              "      <th>month</th>\n",
              "      <th>day</th>\n",
              "      <th>hour</th>\n",
              "      <th>longitude</th>\n",
              "      <th>latitude</th>\n",
              "      <th>WIDTH</th>\n",
              "      <th>LANES</th>\n",
              "      <th>pred</th>\n",
              "    </tr>\n",
              "  </thead>\n",
              "  <tbody>\n",
              "    <tr>\n",
              "      <th>0</th>\n",
              "      <td>2017-01-01 00:00:00 x S0B3CGQ</td>\n",
              "      <td>2017-01-01 00:00:00</td>\n",
              "      <td>S0B3CGQ</td>\n",
              "      <td>0</td>\n",
              "      <td>2017</td>\n",
              "      <td>1</td>\n",
              "      <td>6</td>\n",
              "      <td>0</td>\n",
              "      <td>18.541422</td>\n",
              "      <td>-33.888613</td>\n",
              "      <td>0.0</td>\n",
              "      <td>0</td>\n",
              "      <td>0</td>\n",
              "    </tr>\n",
              "    <tr>\n",
              "      <th>1</th>\n",
              "      <td>2017-01-01 01:00:00 x S0B3CGQ</td>\n",
              "      <td>2017-01-01 01:00:00</td>\n",
              "      <td>S0B3CGQ</td>\n",
              "      <td>0</td>\n",
              "      <td>2017</td>\n",
              "      <td>1</td>\n",
              "      <td>6</td>\n",
              "      <td>1</td>\n",
              "      <td>18.541422</td>\n",
              "      <td>-33.888613</td>\n",
              "      <td>0.0</td>\n",
              "      <td>0</td>\n",
              "      <td>0</td>\n",
              "    </tr>\n",
              "    <tr>\n",
              "      <th>2</th>\n",
              "      <td>2017-01-01 02:00:00 x S0B3CGQ</td>\n",
              "      <td>2017-01-01 02:00:00</td>\n",
              "      <td>S0B3CGQ</td>\n",
              "      <td>0</td>\n",
              "      <td>2017</td>\n",
              "      <td>1</td>\n",
              "      <td>6</td>\n",
              "      <td>2</td>\n",
              "      <td>18.541422</td>\n",
              "      <td>-33.888613</td>\n",
              "      <td>0.0</td>\n",
              "      <td>0</td>\n",
              "      <td>0</td>\n",
              "    </tr>\n",
              "  </tbody>\n",
              "</table>\n",
              "</div>"
            ],
            "text/plain": [
              "           datetime x segment_id            datetime  ... LANES  pred\n",
              "0  2017-01-01 00:00:00 x S0B3CGQ 2017-01-01 00:00:00  ...     0     0\n",
              "1  2017-01-01 01:00:00 x S0B3CGQ 2017-01-01 01:00:00  ...     0     0\n",
              "2  2017-01-01 02:00:00 x S0B3CGQ 2017-01-01 02:00:00  ...     0     0\n",
              "\n",
              "[3 rows x 13 columns]"
            ]
          },
          "metadata": {
            "tags": []
          },
          "execution_count": 91
        }
      ]
    },
    {
      "cell_type": "code",
      "metadata": {
        "id": "WxuAm7T0SSq9",
        "colab_type": "code",
        "colab": {
          "base_uri": "https://localhost:8080/",
          "height": 35
        },
        "outputId": "b5bc2715-dd1c-4f84-bdd0-10693a06684c"
      },
      "source": [
        "# Show predicted classes\n",
        "print(np.unique(train['pred'], return_counts=True))"
      ],
      "execution_count": 92,
      "outputs": [
        {
          "output_type": "stream",
          "text": [
            "(array([0, 1]), array([3838059,  927925]))\n"
          ],
          "name": "stdout"
        }
      ]
    },
    {
      "cell_type": "code",
      "metadata": {
        "id": "Vw-8o7MmU5EO",
        "colab_type": "code",
        "colab": {
          "base_uri": "https://localhost:8080/",
          "height": 366
        },
        "outputId": "a593ff50-859a-44d1-9510-fa1035f4aa73"
      },
      "source": [
        "cnf_matrix = confusion_matrix(train['y'], train['pred'])\n",
        "plot_confusion_matrix(cnf_matrix, classes=['0', '1'],\n",
        "                      title='Confusion matrix, without normalization')"
      ],
      "execution_count": 93,
      "outputs": [
        {
          "output_type": "stream",
          "text": [
            "Confusion matrix, without normalization\n",
            "[[3836159  915595]\n",
            " [   1900   12330]]\n"
          ],
          "name": "stdout"
        },
        {
          "output_type": "display_data",
          "data": {
            "image/png": "[encoded data removed]",
            "text/plain": [
              "<Figure size 432x288 with 2 Axes>"
            ]
          },
          "metadata": {
            "tags": [],
            "needs_background": "light"
          }
        }
      ]
    },
    {
      "cell_type": "code",
      "metadata": {
        "id": "4iywxaXtpHQX",
        "colab_type": "code",
        "colab": {
          "base_uri": "https://localhost:8080/",
          "height": 54
        },
        "outputId": "b083e4f9-f9cb-4152-8919-5e6c3969f1f8"
      },
      "source": [
        "print(len(train))\n",
        "good = train.loc[train['pred'] == 1]\n",
        "print(len(good))"
      ],
      "execution_count": 94,
      "outputs": [
        {
          "output_type": "stream",
          "text": [
            "4765984\n",
            "927925\n"
          ],
          "name": "stdout"
        }
      ]
    },
    {
      "cell_type": "code",
      "metadata": {
        "id": "2IRCMh-bHR3B",
        "colab_type": "code",
        "colab": {
          "base_uri": "https://localhost:8080/",
          "height": 182
        },
        "outputId": "8400c176-d3d1-46b1-dc1f-27ae77f2476f"
      },
      "source": [
        "#have a look at the built-in report\n",
        "print(classification_report(train['y'], train['pred']))"
      ],
      "execution_count": 95,
      "outputs": [
        {
          "output_type": "stream",
          "text": [
            "              precision    recall  f1-score   support\n",
            "\n",
            "           0       1.00      0.81      0.89   4751754\n",
            "           1       0.01      0.87      0.03     14230\n",
            "\n",
            "    accuracy                           0.81   4765984\n",
            "   macro avg       0.51      0.84      0.46   4765984\n",
            "weighted avg       1.00      0.81      0.89   4765984\n",
            "\n"
          ],
          "name": "stdout"
        }
      ]
    },
    {
      "cell_type": "markdown",
      "metadata": {
        "id": "5gAs-KzWKOTA",
        "colab_type": "text"
      },
      "source": [
        "### Now the ```test```."
      ]
    },
    {
      "cell_type": "code",
      "metadata": {
        "id": "1hRQOoSFASY1",
        "colab_type": "code",
        "colab": {
          "base_uri": "https://localhost:8080/",
          "height": 290
        },
        "outputId": "831afd5b-c18c-48b5-c87f-95bea560f2ac"
      },
      "source": [
        "print('Predicting on the Test-set with a Threshold of = %.3f' % 0.882)\n",
        "test['pred'] = (model.predict(test[x_cols]) > 0.882).astype(int)\n",
        "print (' Accuracy:',accuracy_score(test['y'],test['pred']))\n",
        "#rmse = np.sqrt(mean_squared_error(y_test, preds))\n",
        "print(\"RMSE: %f\" % (mean_squared_error(test['y'], test['pred'])))\n",
        "print (' f1-score for the + class:',f1_score(test['y'],test['pred']))\n",
        "print (' Precision for the + class:',precision_score(test['y'],test['pred']))\n",
        "print (' Recall for the + class:',recall_score(test['y'],test['pred']))\n",
        "#y_pred_test = model.predict(test[x_cols])\n",
        "print (' AUC:',roc_auc_score(test['y'],test['pred']))\n",
        "print (' Ave. Precision:',average_precision_score(test['y'],test['pred']))\n",
        "test.head(3)"
      ],
      "execution_count": 96,
      "outputs": [
        {
          "output_type": "stream",
          "text": [
            "Predicting on the Test-set with a Threshold of = 0.882\n",
            " Accuracy: 0.834124101447808\n",
            "RMSE: 0.165876\n",
            " f1-score for the + class: 0.034589307219486685\n",
            " Precision for the + class: 0.017861557713446757\n",
            " Recall for the + class: 0.5449060106753307\n",
            " AUC: 0.690307980390188\n",
            " Ave. Precision: 0.012214646000948721\n"
          ],
          "name": "stdout"
        },
        {
          "output_type": "execute_result",
          "data": {
            "text/html": [
              "<div>\n",
              "<style scoped>\n",
              "    .dataframe tbody tr th:only-of-type {\n",
              "        vertical-align: middle;\n",
              "    }\n",
              "\n",
              "    .dataframe tbody tr th {\n",
              "        vertical-align: top;\n",
              "    }\n",
              "\n",
              "    .dataframe thead th {\n",
              "        text-align: right;\n",
              "    }\n",
              "</style>\n",
              "<table border=\"1\" class=\"dataframe\">\n",
              "  <thead>\n",
              "    <tr style=\"text-align: right;\">\n",
              "      <th></th>\n",
              "      <th>datetime x segment_id</th>\n",
              "      <th>datetime</th>\n",
              "      <th>segment_id</th>\n",
              "      <th>y</th>\n",
              "      <th>year</th>\n",
              "      <th>month</th>\n",
              "      <th>day</th>\n",
              "      <th>hour</th>\n",
              "      <th>longitude</th>\n",
              "      <th>latitude</th>\n",
              "      <th>WIDTH</th>\n",
              "      <th>LANES</th>\n",
              "      <th>pred</th>\n",
              "    </tr>\n",
              "  </thead>\n",
              "  <tbody>\n",
              "    <tr>\n",
              "      <th>0</th>\n",
              "      <td>2018-09-01 00:00:00 x S0B3CGQ</td>\n",
              "      <td>2018-09-01 00:00:00</td>\n",
              "      <td>S0B3CGQ</td>\n",
              "      <td>0</td>\n",
              "      <td>2018</td>\n",
              "      <td>9</td>\n",
              "      <td>5</td>\n",
              "      <td>0</td>\n",
              "      <td>18.541422</td>\n",
              "      <td>-33.888613</td>\n",
              "      <td>0.0</td>\n",
              "      <td>0</td>\n",
              "      <td>1</td>\n",
              "    </tr>\n",
              "    <tr>\n",
              "      <th>1</th>\n",
              "      <td>2018-09-01 01:00:00 x S0B3CGQ</td>\n",
              "      <td>2018-09-01 01:00:00</td>\n",
              "      <td>S0B3CGQ</td>\n",
              "      <td>0</td>\n",
              "      <td>2018</td>\n",
              "      <td>9</td>\n",
              "      <td>5</td>\n",
              "      <td>1</td>\n",
              "      <td>18.541422</td>\n",
              "      <td>-33.888613</td>\n",
              "      <td>0.0</td>\n",
              "      <td>0</td>\n",
              "      <td>1</td>\n",
              "    </tr>\n",
              "    <tr>\n",
              "      <th>2</th>\n",
              "      <td>2018-09-01 02:00:00 x S0B3CGQ</td>\n",
              "      <td>2018-09-01 02:00:00</td>\n",
              "      <td>S0B3CGQ</td>\n",
              "      <td>0</td>\n",
              "      <td>2018</td>\n",
              "      <td>9</td>\n",
              "      <td>5</td>\n",
              "      <td>2</td>\n",
              "      <td>18.541422</td>\n",
              "      <td>-33.888613</td>\n",
              "      <td>0.0</td>\n",
              "      <td>0</td>\n",
              "      <td>1</td>\n",
              "    </tr>\n",
              "  </tbody>\n",
              "</table>\n",
              "</div>"
            ],
            "text/plain": [
              "           datetime x segment_id            datetime  ... LANES  pred\n",
              "0  2018-09-01 00:00:00 x S0B3CGQ 2018-09-01 00:00:00  ...     0     1\n",
              "1  2018-09-01 01:00:00 x S0B3CGQ 2018-09-01 01:00:00  ...     0     1\n",
              "2  2018-09-01 02:00:00 x S0B3CGQ 2018-09-01 02:00:00  ...     0     1\n",
              "\n",
              "[3 rows x 13 columns]"
            ]
          },
          "metadata": {
            "tags": []
          },
          "execution_count": 96
        }
      ]
    },
    {
      "cell_type": "code",
      "metadata": {
        "id": "mgBuvoFORshW",
        "colab_type": "code",
        "colab": {
          "base_uri": "https://localhost:8080/",
          "height": 35
        },
        "outputId": "a02f3219-4998-498a-d6a6-57a65a581e89"
      },
      "source": [
        "# Show predicted classes\n",
        "print(np.unique(test['pred'], return_counts=True))"
      ],
      "execution_count": 97,
      "outputs": [
        {
          "output_type": "stream",
          "text": [
            "(array([0, 1]), array([1317409,  262911]))\n"
          ],
          "name": "stdout"
        }
      ]
    },
    {
      "cell_type": "code",
      "metadata": {
        "id": "rrRhGCm-VH3L",
        "colab_type": "code",
        "colab": {
          "base_uri": "https://localhost:8080/",
          "height": 366
        },
        "outputId": "00f78f36-bd92-42fd-86c2-3f310ec71fae"
      },
      "source": [
        "cnf_matrix = confusion_matrix(test['y'], test['pred'])\n",
        "plot_confusion_matrix(cnf_matrix, classes=['0', '1'],\n",
        "                      title='Confusion matrix, without normalization')"
      ],
      "execution_count": 98,
      "outputs": [
        {
          "output_type": "stream",
          "text": [
            "Confusion matrix, without normalization\n",
            "[[1313487  258215]\n",
            " [   3922    4696]]\n"
          ],
          "name": "stdout"
        },
        {
          "output_type": "display_data",
          "data": {
            "image/png": "[encoded data removed]",
            "text/plain": [
              "<Figure size 432x288 with 2 Axes>"
            ]
          },
          "metadata": {
            "tags": [],
            "needs_background": "light"
          }
        }
      ]
    },
    {
      "cell_type": "code",
      "metadata": {
        "id": "hC3mR8tZGGfL",
        "colab_type": "code",
        "colab": {
          "base_uri": "https://localhost:8080/",
          "height": 182
        },
        "outputId": "6f1114b7-1073-4c65-8717-f7eac2ddb06a"
      },
      "source": [
        "#have a look at the built-in report\n",
        "print(classification_report(test['y'], test['pred']))"
      ],
      "execution_count": 99,
      "outputs": [
        {
          "output_type": "stream",
          "text": [
            "              precision    recall  f1-score   support\n",
            "\n",
            "           0       1.00      0.84      0.91   1571702\n",
            "           1       0.02      0.54      0.03      8618\n",
            "\n",
            "    accuracy                           0.83   1580320\n",
            "   macro avg       0.51      0.69      0.47   1580320\n",
            "weighted avg       0.99      0.83      0.90   1580320\n",
            "\n"
          ],
          "name": "stdout"
        }
      ]
    },
    {
      "cell_type": "markdown",
      "metadata": {
        "id": "gzgfnnnBAr8t",
        "colab_type": "text"
      },
      "source": [
        "### Save only the events to visualize"
      ]
    },
    {
      "cell_type": "code",
      "metadata": {
        "id": "JWnVKQ21octg",
        "colab_type": "code",
        "colab": {
          "base_uri": "https://localhost:8080/",
          "height": 54
        },
        "outputId": "a814b980-5fb0-456c-ef0f-e7db7b1afc8e"
      },
      "source": [
        "print(len(test))\n",
        "good = test.loc[test['pred'] == 1]\n",
        "print(len(good))"
      ],
      "execution_count": 100,
      "outputs": [
        {
          "output_type": "stream",
          "text": [
            "1580320\n",
            "262911\n"
          ],
          "name": "stdout"
        }
      ]
    },
    {
      "cell_type": "code",
      "metadata": {
        "id": "dzwB3M7lpzJ7",
        "colab_type": "code",
        "colab": {
          "base_uri": "https://localhost:8080/",
          "height": 112
        },
        "outputId": "adb6f10e-c104-4c10-bf85-d0dd0b1efa4b"
      },
      "source": [
        "good.head(2)"
      ],
      "execution_count": 101,
      "outputs": [
        {
          "output_type": "execute_result",
          "data": {
            "text/html": [
              "<div>\n",
              "<style scoped>\n",
              "    .dataframe tbody tr th:only-of-type {\n",
              "        vertical-align: middle;\n",
              "    }\n",
              "\n",
              "    .dataframe tbody tr th {\n",
              "        vertical-align: top;\n",
              "    }\n",
              "\n",
              "    .dataframe thead th {\n",
              "        text-align: right;\n",
              "    }\n",
              "</style>\n",
              "<table border=\"1\" class=\"dataframe\">\n",
              "  <thead>\n",
              "    <tr style=\"text-align: right;\">\n",
              "      <th></th>\n",
              "      <th>datetime x segment_id</th>\n",
              "      <th>datetime</th>\n",
              "      <th>segment_id</th>\n",
              "      <th>y</th>\n",
              "      <th>year</th>\n",
              "      <th>month</th>\n",
              "      <th>day</th>\n",
              "      <th>hour</th>\n",
              "      <th>longitude</th>\n",
              "      <th>latitude</th>\n",
              "      <th>WIDTH</th>\n",
              "      <th>LANES</th>\n",
              "      <th>pred</th>\n",
              "    </tr>\n",
              "  </thead>\n",
              "  <tbody>\n",
              "    <tr>\n",
              "      <th>0</th>\n",
              "      <td>2018-09-01 00:00:00 x S0B3CGQ</td>\n",
              "      <td>2018-09-01 00:00:00</td>\n",
              "      <td>S0B3CGQ</td>\n",
              "      <td>0</td>\n",
              "      <td>2018</td>\n",
              "      <td>9</td>\n",
              "      <td>5</td>\n",
              "      <td>0</td>\n",
              "      <td>18.541422</td>\n",
              "      <td>-33.888613</td>\n",
              "      <td>0.0</td>\n",
              "      <td>0</td>\n",
              "      <td>1</td>\n",
              "    </tr>\n",
              "    <tr>\n",
              "      <th>1</th>\n",
              "      <td>2018-09-01 01:00:00 x S0B3CGQ</td>\n",
              "      <td>2018-09-01 01:00:00</td>\n",
              "      <td>S0B3CGQ</td>\n",
              "      <td>0</td>\n",
              "      <td>2018</td>\n",
              "      <td>9</td>\n",
              "      <td>5</td>\n",
              "      <td>1</td>\n",
              "      <td>18.541422</td>\n",
              "      <td>-33.888613</td>\n",
              "      <td>0.0</td>\n",
              "      <td>0</td>\n",
              "      <td>1</td>\n",
              "    </tr>\n",
              "  </tbody>\n",
              "</table>\n",
              "</div>"
            ],
            "text/plain": [
              "           datetime x segment_id            datetime  ... LANES  pred\n",
              "0  2018-09-01 00:00:00 x S0B3CGQ 2018-09-01 00:00:00  ...     0     1\n",
              "1  2018-09-01 01:00:00 x S0B3CGQ 2018-09-01 01:00:00  ...     0     1\n",
              "\n",
              "[2 rows x 13 columns]"
            ]
          },
          "metadata": {
            "tags": []
          },
          "execution_count": 101
        }
      ]
    },
    {
      "cell_type": "code",
      "metadata": {
        "id": "U8gQONu-A6o6",
        "colab_type": "code",
        "colab": {}
      },
      "source": [
        "#save it\n",
        "good[['segment_id', 'year', 'month', 'day', 'hour', 'latitude', 'longitude']].to_csv(path/'data/01_basicXGBoost.csv', \n",
        "                                                                                                 index=False)"
      ],
      "execution_count": 102,
      "outputs": []
    }
  ]
}