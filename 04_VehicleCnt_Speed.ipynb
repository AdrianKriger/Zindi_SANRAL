{
  "nbformat": 4,
  "nbformat_minor": 0,
  "metadata": {
    "colab": {
      "name": "04_VehicleCnt_Speed.ipynb",
      "provenance": [],
      "collapsed_sections": [],
      "authorship_tag": "ABX9TyOFj2vKHeHQqUd/C1TVHjLO"
    },
    "kernelspec": {
      "name": "python3",
      "display_name": "Python 3"
    }
  },
  "cells": [
    {
      "cell_type": "markdown",
      "metadata": {
        "id": "BCkw7CEZtXb3",
        "colab_type": "text"
      },
      "source": [
        "# Vehicle Count and Speed \n",
        "\n",
        "\n",
        "\n",
        "> The [SANRAL_v3](https://zindi.africa/competitions/uber-movement-sanral-cape-town-challenge/data) ```Vehicle detection sensor (VDS)``` data contains car count and speed limit data. We can add this and update our predictions.\n",
        "\n",
        "> It does however require some wrangling. "
      ]
    },
    {
      "cell_type": "code",
      "metadata": {
        "id": "epHY-RmyL4Ok",
        "colab_type": "code",
        "colab": {}
      },
      "source": [
        "#because we're on google colab\n",
        "!pip install pandas\n",
        "!pip install geopandas"
      ],
      "execution_count": null,
      "outputs": []
    },
    {
      "cell_type": "code",
      "metadata": {
        "id": "E5dLGsg3LMpS",
        "colab_type": "code",
        "colab": {}
      },
      "source": [
        "%matplotlib inline\n",
        "\n",
        "import os\n",
        "import pandas as pd\n",
        "import geopandas as gpd\n",
        "\n",
        "from pathlib import Path\n",
        "import glob"
      ],
      "execution_count": 2,
      "outputs": []
    },
    {
      "cell_type": "code",
      "metadata": {
        "id": "1S_kGqbeLz_2",
        "colab_type": "code",
        "colab": {}
      },
      "source": [
        "# mount google drive as a file system\n",
        "from google.colab import drive\n",
        "drive.mount('/content/gdrive', force_remount=True)"
      ],
      "execution_count": null,
      "outputs": []
    },
    {
      "cell_type": "code",
      "metadata": {
        "id": "9CJVTg6sMFNa",
        "colab_type": "code",
        "colab": {}
      },
      "source": [
        "#set path\n",
        "path = Path('/content/gdrive/My Drive/Zindi_Accident')"
      ],
      "execution_count": 4,
      "outputs": []
    },
    {
      "cell_type": "markdown",
      "metadata": {
        "id": "mrZ7HY01d3Lq",
        "colab_type": "text"
      },
      "source": [
        "#### Lets first create one single file that contains all the ```vds``` data. We're ```training``` with 2017 and our personal ```test``` is the last four months of 2018."
      ]
    },
    {
      "cell_type": "code",
      "metadata": {
        "id": "SbkkJNzFplaO",
        "colab_type": "code",
        "colab": {
          "base_uri": "https://localhost:8080/",
          "height": 315
        },
        "outputId": "e59cfe55-ec0f-484d-fba1-d2c3e505bd2a"
      },
      "source": [
        "#read the files in the folder\n",
        "vds = os.path.join(path/'data/vds/other/*.csv')\n",
        "all_files = glob.glob(vds)\n",
        "all_files"
      ],
      "execution_count": 5,
      "outputs": [
        {
          "output_type": "execute_result",
          "data": {
            "text/plain": [
              "['/content/gdrive/My Drive/Zindi_Accident/data/vds/other/WC February 2017 Hourly.csv',\n",
              " '/content/gdrive/My Drive/Zindi_Accident/data/vds/other/WC March 2017 Hourly.csv',\n",
              " '/content/gdrive/My Drive/Zindi_Accident/data/vds/other/WC April 2017 Hourly.csv',\n",
              " '/content/gdrive/My Drive/Zindi_Accident/data/vds/other/WC May 2017 Hourly.csv',\n",
              " '/content/gdrive/My Drive/Zindi_Accident/data/vds/other/WC June 2017 Hourly.csv',\n",
              " '/content/gdrive/My Drive/Zindi_Accident/data/vds/other/WC July 2017 Hourly.csv',\n",
              " '/content/gdrive/My Drive/Zindi_Accident/data/vds/other/WC August 2017 Hourly.csv',\n",
              " '/content/gdrive/My Drive/Zindi_Accident/data/vds/other/WC September 2017 Hourly.csv',\n",
              " '/content/gdrive/My Drive/Zindi_Accident/data/vds/other/WC October 2017 Hourly.csv',\n",
              " '/content/gdrive/My Drive/Zindi_Accident/data/vds/other/WC November 2017 Hourly.csv',\n",
              " '/content/gdrive/My Drive/Zindi_Accident/data/vds/other/WC December 2017 Hourly.csv',\n",
              " '/content/gdrive/My Drive/Zindi_Accident/data/vds/other/WC January 2017 Hourly.csv',\n",
              " '/content/gdrive/My Drive/Zindi_Accident/data/vds/other/WC October 2018 Hourly.csv',\n",
              " '/content/gdrive/My Drive/Zindi_Accident/data/vds/other/WC September 2018 Hourly.csv',\n",
              " '/content/gdrive/My Drive/Zindi_Accident/data/vds/other/WC December 2018 Hourly.csv',\n",
              " '/content/gdrive/My Drive/Zindi_Accident/data/vds/other/WC November 2018 Hourly.csv']"
            ]
          },
          "metadata": {
            "tags": []
          },
          "execution_count": 5
        }
      ]
    },
    {
      "cell_type": "code",
      "metadata": {
        "id": "pD90IneHMU7B",
        "colab_type": "code",
        "colab": {}
      },
      "source": [
        "#initializes df which will hold the csv files\n",
        "all_data = pd.DataFrame() \n",
        "\n",
        "#header from the '''csv```\n",
        "header_list = [\"Region\", \"Site_name\", \"date\", \"hour\", \"Vehicle_class\", \"Total_count\", \"ave_speed\"]\n",
        "\n",
        "for f in all_files:\n",
        "  #create dataframe with parameters\n",
        "  df = pd.read_csv(f, names=header_list, sep = ';', parse_dates = ['date'])\n",
        "  #appends df with each other\n",
        "  all_data = all_data.append(df, ignore_index=True)\n",
        "  #sort \n",
        "  all_data = all_data.sort_values('date').reset_index(drop=True)"
      ],
      "execution_count": 6,
      "outputs": []
    },
    {
      "cell_type": "code",
      "metadata": {
        "id": "nQlqEEstt9n2",
        "colab_type": "code",
        "colab": {
          "base_uri": "https://localhost:8080/",
          "height": 144
        },
        "outputId": "c874fd08-9678-42f5-e8e5-1d76eece4c07"
      },
      "source": [
        "all_data.head(3)"
      ],
      "execution_count": 7,
      "outputs": [
        {
          "output_type": "execute_result",
          "data": {
            "text/html": [
              "<div>\n",
              "<style scoped>\n",
              "    .dataframe tbody tr th:only-of-type {\n",
              "        vertical-align: middle;\n",
              "    }\n",
              "\n",
              "    .dataframe tbody tr th {\n",
              "        vertical-align: top;\n",
              "    }\n",
              "\n",
              "    .dataframe thead th {\n",
              "        text-align: right;\n",
              "    }\n",
              "</style>\n",
              "<table border=\"1\" class=\"dataframe\">\n",
              "  <thead>\n",
              "    <tr style=\"text-align: right;\">\n",
              "      <th></th>\n",
              "      <th>Region</th>\n",
              "      <th>Site_name</th>\n",
              "      <th>date</th>\n",
              "      <th>hour</th>\n",
              "      <th>Vehicle_class</th>\n",
              "      <th>Total_count</th>\n",
              "      <th>ave_speed</th>\n",
              "    </tr>\n",
              "  </thead>\n",
              "  <tbody>\n",
              "    <tr>\n",
              "      <th>0</th>\n",
              "      <td>WC</td>\n",
              "      <td>DS VDS 101 IB</td>\n",
              "      <td>2017-01-01</td>\n",
              "      <td>0</td>\n",
              "      <td>1</td>\n",
              "      <td>837</td>\n",
              "      <td>103.62</td>\n",
              "    </tr>\n",
              "    <tr>\n",
              "      <th>1</th>\n",
              "      <td>WC</td>\n",
              "      <td>DS VDS 104 IB</td>\n",
              "      <td>2017-01-01</td>\n",
              "      <td>16</td>\n",
              "      <td>3</td>\n",
              "      <td>9</td>\n",
              "      <td>95.65</td>\n",
              "    </tr>\n",
              "    <tr>\n",
              "      <th>2</th>\n",
              "      <td>WC</td>\n",
              "      <td>DS VDS 104 IB</td>\n",
              "      <td>2017-01-01</td>\n",
              "      <td>16</td>\n",
              "      <td>2</td>\n",
              "      <td>18</td>\n",
              "      <td>95.65</td>\n",
              "    </tr>\n",
              "  </tbody>\n",
              "</table>\n",
              "</div>"
            ],
            "text/plain": [
              "  Region      Site_name       date  hour  Vehicle_class  Total_count  ave_speed\n",
              "0     WC  DS VDS 101 IB 2017-01-01     0              1          837     103.62\n",
              "1     WC  DS VDS 104 IB 2017-01-01    16              3            9      95.65\n",
              "2     WC  DS VDS 104 IB 2017-01-01    16              2           18      95.65"
            ]
          },
          "metadata": {
            "tags": []
          },
          "execution_count": 7
        }
      ]
    },
    {
      "cell_type": "code",
      "metadata": {
        "id": "m55cEslqt-Zb",
        "colab_type": "code",
        "colab": {
          "base_uri": "https://localhost:8080/",
          "height": 144
        },
        "outputId": "0ba789f2-0b81-4569-8419-03feffffb967"
      },
      "source": [
        "all_data.tail(3)"
      ],
      "execution_count": 8,
      "outputs": [
        {
          "output_type": "execute_result",
          "data": {
            "text/html": [
              "<div>\n",
              "<style scoped>\n",
              "    .dataframe tbody tr th:only-of-type {\n",
              "        vertical-align: middle;\n",
              "    }\n",
              "\n",
              "    .dataframe tbody tr th {\n",
              "        vertical-align: top;\n",
              "    }\n",
              "\n",
              "    .dataframe thead th {\n",
              "        text-align: right;\n",
              "    }\n",
              "</style>\n",
              "<table border=\"1\" class=\"dataframe\">\n",
              "  <thead>\n",
              "    <tr style=\"text-align: right;\">\n",
              "      <th></th>\n",
              "      <th>Region</th>\n",
              "      <th>Site_name</th>\n",
              "      <th>date</th>\n",
              "      <th>hour</th>\n",
              "      <th>Vehicle_class</th>\n",
              "      <th>Total_count</th>\n",
              "      <th>ave_speed</th>\n",
              "    </tr>\n",
              "  </thead>\n",
              "  <tbody>\n",
              "    <tr>\n",
              "      <th>4123437</th>\n",
              "      <td>WC</td>\n",
              "      <td>DS VDS 111 OB</td>\n",
              "      <td>2018-12-31</td>\n",
              "      <td>12</td>\n",
              "      <td>1</td>\n",
              "      <td>3582</td>\n",
              "      <td>85.93</td>\n",
              "    </tr>\n",
              "    <tr>\n",
              "      <th>4123438</th>\n",
              "      <td>WC</td>\n",
              "      <td>VDS 914 OB</td>\n",
              "      <td>2018-12-31</td>\n",
              "      <td>9</td>\n",
              "      <td>2</td>\n",
              "      <td>22</td>\n",
              "      <td>74.35</td>\n",
              "    </tr>\n",
              "    <tr>\n",
              "      <th>4123439</th>\n",
              "      <td>WC</td>\n",
              "      <td>DS WTRNX 269A IB</td>\n",
              "      <td>2018-12-31</td>\n",
              "      <td>10</td>\n",
              "      <td>3</td>\n",
              "      <td>9</td>\n",
              "      <td>84.10</td>\n",
              "    </tr>\n",
              "  </tbody>\n",
              "</table>\n",
              "</div>"
            ],
            "text/plain": [
              "        Region         Site_name  ... Total_count  ave_speed\n",
              "4123437     WC     DS VDS 111 OB  ...        3582      85.93\n",
              "4123438     WC        VDS 914 OB  ...          22      74.35\n",
              "4123439     WC  DS WTRNX 269A IB  ...           9      84.10\n",
              "\n",
              "[3 rows x 7 columns]"
            ]
          },
          "metadata": {
            "tags": []
          },
          "execution_count": 8
        }
      ]
    },
    {
      "cell_type": "code",
      "metadata": {
        "id": "Q8i9CBNzt_yF",
        "colab_type": "code",
        "colab": {
          "base_uri": "https://localhost:8080/",
          "height": 36
        },
        "outputId": "eaa16873-1225-4a96-c34e-0b068e6fc928"
      },
      "source": [
        "all_data.shape"
      ],
      "execution_count": 9,
      "outputs": [
        {
          "output_type": "execute_result",
          "data": {
            "text/plain": [
              "(4123440, 7)"
            ]
          },
          "metadata": {
            "tags": []
          },
          "execution_count": 9
        }
      ]
    },
    {
      "cell_type": "code",
      "metadata": {
        "id": "YeTwz5WruBsy",
        "colab_type": "code",
        "colab": {
          "base_uri": "https://localhost:8080/",
          "height": 129
        },
        "outputId": "0c01d51b-0ae5-4d4e-96b7-ec390bcd1972"
      },
      "source": [
        "#check some values\n",
        "#months\n",
        "print(all_data.date.dt.month.unique())\n",
        "print('')\n",
        "#days\n",
        "print(all_data.date.dt.day.unique())\n",
        "print('')\n",
        "#amount of days\n",
        "print(all_data.date.dt.year.unique())"
      ],
      "execution_count": 10,
      "outputs": [
        {
          "output_type": "stream",
          "text": [
            "[ 1  2  3  4  5  6  7  8  9 10 11 12]\n",
            "\n",
            "[ 1  2  3  4  5  6  7  8  9 10 11 12 13 14 15 16 17 18 19 20 21 22 23 24\n",
            " 25 26 27 28 29 30 31]\n",
            "\n",
            "[2017 2018]\n"
          ],
          "name": "stdout"
        }
      ]
    },
    {
      "cell_type": "code",
      "metadata": {
        "id": "vhJDTvDLoPc-",
        "colab_type": "code",
        "colab": {
          "base_uri": "https://localhost:8080/",
          "height": 669
        },
        "outputId": "51101ffb-59dc-4717-9435-8e84b8a4c844"
      },
      "source": [
        "#check more some values\n",
        "#unique cameras\n",
        "print(all_data.Site_name.unique())\n",
        "print('')\n",
        "#amount of cameras\n",
        "print(all_data.Site_name.unique().size)"
      ],
      "execution_count": 11,
      "outputs": [
        {
          "output_type": "stream",
          "text": [
            "['DS VDS 101 IB' 'DS VDS 104 IB' 'DS VDS 101 OB' 'VDS 916 OB' 'VDS 914 OB'\n",
            " 'DS VDS 104 OB' 'VDS 914 IB' 'VDS 705 SB' 'VDS 705 NB' 'VDS 215 OB'\n",
            " 'VDS 215 IB' 'DS VDS 107 IB' 'DS VDS 118 IB' 'DS VDS 117 OB'\n",
            " 'DS VDS 117 IB' 'DS VDS 116 OB' 'DS VDS 116 IB' 'DS VDS 111 OB'\n",
            " 'DS VDS 111 IB' 'DS VDS 109 OB' 'DS VDS 109 IB' 'DS VDS 107 OB' 'VDS 214'\n",
            " 'DS WTRNX 406 IB' 'DS WTRNX 405 OB' 'DS WTRNX 269B S' 'DS WTRNX 269A IB'\n",
            " 'DS WTRNX 204 OB' 'DS WTRNX 204 IB' 'DS WTRNX 201 OB' 'DS WTRNX 139 OB'\n",
            " 'DS WTRNX 139 IB' 'DS VDS 913 OB' 'DS VDS 913 IB' 'DS WTRNX 407 IB'\n",
            " 'VDS 209 IB' 'VDS 207 IB' 'VDS 203 OB' 'VDS 203 IB' 'VDS 108 OB'\n",
            " 'VDS 108 IB' 'VDS 102 OB' 'VDS 102 IB' 'DS WTRNX 916 IB '\n",
            " 'DS WTRNX 407 OB' 'DS VDS 306 North' 'DS VDS 309 North' 'DS VDS 118 OB'\n",
            " 'DS VDS 230 OB' 'DS VDS 230 IB' 'DS VDS 229 OB' 'DS VDS 229 IB'\n",
            " 'DS VDS 224 OB' 'DS VDS 224 IB' 'DS VDS 222 OB' 'DS VDS 222 IB'\n",
            " 'DS VDS 217 OB' 'DS VDS 217 IB' 'DS VDS 214A OB' 'DS VDS 233 IB'\n",
            " 'DS VDS 308 South' 'DS VDS 309 South' 'DS VDS 308 North'\n",
            " 'DS VDS 306 South' 'DS VDS 304 South' 'DS VDS 304 North' 'DS VDS 235 OB'\n",
            " 'DS VDS 235 IB' 'DS VDS 233 OB' 'DS VDS 214A IB' 'DS VDS 207 OB'\n",
            " 'DS VDS 130 OB' 'DS VDS 130 IB' 'DS VDS 125 OB' 'DS VDS 125 IB'\n",
            " 'DS VDS 132 IB' 'DS VDS 123A IB' 'DS VDS 123 OB' 'DS VDS 121 OB'\n",
            " 'DS VDS 121 IB' 'DS VDS 119 IB' 'DS VDS 208 IB' 'DS VDS 212 IB'\n",
            " 'DS VDS 211 OB' 'DS VDS 209 OB' 'DS VDS 208 OB' 'DS VDS 132 OB'\n",
            " 'DS VDS 202 OB' 'DS VDS 202 IB' 'DS VDS 138 OB' 'DS VDS 138 IB'\n",
            " 'DS VDS 912 OB' 'DS VDS 803 OB' 'DS VDS 805 IB' 'DS VDS 703 North'\n",
            " 'DS VDS 702 South' 'DS VDS 702 North' 'DS VDS 700 OB' 'DS VDS 700 IB'\n",
            " 'DS VDS 505 South' 'DS VDS 504 South' 'DS VDS 504 North'\n",
            " 'DS VDS 503 South' 'DS VDS 503 North' 'DS VDS 404 OB' 'DS VDS 404 IB'\n",
            " 'DS VDS 912 IB' 'DS VDS 910 OB' 'DS VDS 910 IB' 'DS VDS 805 OB'\n",
            " 'DS VDS 703 South' 'DS VDS 803 IB' 'DS VDS 802A IB' 'DS VDS 802 OB'\n",
            " 'DS VDS 802 IB' 'DS VDS 312 South' 'DS VDS 312 North' 'DS VDS 403 OB'\n",
            " 'DS VDS 403 IB' 'DS VDS 314 South' 'DS VDS 314 North' 'DS WTRNX 266A IB'\n",
            " 'DS WTRNX 266B OB' 'VDS 206 OB' 'DS VDS 206 IB' 'DS VDS 135 IB'\n",
            " 'DS VDS 135 OB' 'DS VDS 220 OB' 'DS VDS 220 IB' 'DS WTRNX 113 OB'\n",
            " 'DS WTRNX 113B IB' 'DS WTRNX 113 IB' 'DS VDS 119 OB' 'DS WTRNX 405A OB']\n",
            "\n",
            "134\n"
          ],
          "name": "stdout"
        }
      ]
    },
    {
      "cell_type": "markdown",
      "metadata": {
        "id": "yONf_y_8s8xJ",
        "colab_type": "text"
      },
      "source": [
        "#### We need to change the name of these camera stations to match the location ```vds_location.csv```. \n",
        "\n",
        "> You'll notice I am grouping the inbound (IB) and outbound (OB) observations. This is due to the nature of the challenge and the available data. Had the ```road_segments.shp``` been separated into inbound and outbound lanes, and not a single vector, we could have applied the actual data to the appropriate road; as it is: we need to group.\n",
        "\n",
        "> This will also mean that the original ```train``` and ```test``` dataset will increase in size because  a ```road_segment``` if it contains both inbound and outbound data; will be duplicated.  "
      ]
    },
    {
      "cell_type": "code",
      "metadata": {
        "id": "j4zkoTaz4o0-",
        "colab_type": "code",
        "colab": {}
      },
      "source": [
        "def change_name(r):\n",
        "  '''\n",
        "  Define a function to change the name of the camera station\n",
        "  '''\n",
        "  if r.Site_name == 'DS VDS 101 IB':\n",
        "    r.Site_name = 'VDS101'\n",
        "  if r.Site_name == 'DS VDS 101 OB':\n",
        "    r.Site_name = 'VDS101'\n",
        "  if r.Site_name == 'DS VDS 104 IB':\n",
        "    r.Site_name = 'VDS104'\n",
        "  if r.Site_name == 'DS VDS 104 OB':\n",
        "    r.Site_name = 'VDS104'\n",
        "  if r.Site_name == 'DS VDS 107 IB':\n",
        "    r.Site_name = 'VDS107'\n",
        "  if r.Site_name == 'DS VDS 107 OB':\n",
        "     r.Site_name = 'VDS107'\n",
        "  if r.Site_name == 'DS VDS 109 IB':\n",
        "     r.Site_name = 'VDS109'\n",
        "  if r.Site_name == 'DS VDS 109 OB':\n",
        "    r.Site_name = 'VDS109'\n",
        "  if r.Site_name == 'DS VDS 111 IB':\n",
        "    r.Site_name = 'VDS111'\n",
        "  if r.Site_name == 'DS VDS 111 OB':\n",
        "    r.Site_name = 'VDS111'\n",
        "  if r.Site_name == 'DS VDS 113 IB':\n",
        "    r.Site_name = 'VDS113'\n",
        "  if r.Site_name == 'DS WTRNX 113 IB':\n",
        "    r.Site_name = 'VDS113'\n",
        "  if r.Site_name == 'DS WTRNX 113 OB':\n",
        "    r.Site_name = 'VDS113'\n",
        "  if r.Site_name == 'DS WTRNX 113B IB':\n",
        "    r.Site_name = 'VDS113'  \n",
        "  if r.Site_name == 'DS VDS 116 IB':\n",
        "    r.Site_name = 'VDS116'\n",
        "  if r.Site_name == 'DS VDS 116 OB':\n",
        "    r.Site_name = 'VDS116'\n",
        "  if r.Site_name == 'DS VDS 117 IB':\n",
        "    r.Site_name = 'VDS117'\n",
        "  if r.Site_name == 'DS VDS 117 OB':\n",
        "    r.Site_name = 'VDS117'\n",
        "  if r.Site_name == 'DS VDS 118 IB':\n",
        "    r.Site_name = 'VDS118'\n",
        "  if r.Site_name == 'DS VDS 118 OB':\n",
        "    r.Site_name = 'VDS118'\n",
        "  if r.Site_name == 'DS VDS 119 IB':\n",
        "    r.Site_name = 'VDS119'\n",
        "  if r.Site_name == 'DS VDS 119 OB':\n",
        "    r.Site_name = 'VDS119'\n",
        "  if r.Site_name == 'DS VDS 121 IB':\n",
        "    r.Site_name = 'VDS121'\n",
        "  if r.Site_name == 'DS VDS 121 OB':\n",
        "    r.Site_name = 'VDS121'\n",
        "  if r.Site_name == 'DS VDS 123 OB':\n",
        "    r.Site_name = 'VDS123'\n",
        "  if r.Site_name == 'DS VDS 123A IB':\n",
        "    r.Site_name = 'VDS123A'\n",
        "  if r.Site_name == 'DS VDS 125 IB':\n",
        "    r.Site_name = 'VDS125'\n",
        "  if r.Site_name == 'DS VDS 125 OB':\n",
        "    r.Site_name = 'VDS125'\n",
        "  if r.Site_name == 'DS VDS 130 IB':\n",
        "    r.Site_name = 'VDS130'\n",
        "  if r.Site_name == 'DS VDS 130 OB':\n",
        "    r.Site_name = 'VDS130'\n",
        "  if r.Site_name == 'DS VDS 132 IB':\n",
        "    r.Site_name = 'VDS132I'\n",
        "  if r.Site_name == 'DS VDS 132 OB':\n",
        "    r.Site_name = 'VDS132O'\n",
        "  if r.Site_name == 'DS VDS 135 IB':\n",
        "    r.Site_name = 'VDS135I'\n",
        "  if r.Site_name == 'DS VDS 135 OB':\n",
        "    r.Site_name = 'VDS135O'\n",
        "  if r.Site_name == 'DS VDS 138 IB':\n",
        "    r.Site_name = 'VDS138'\n",
        "  if r.Site_name == 'DS VDS 138 OB':\n",
        "    r.Site_name = 'VDS138'\n",
        "  if r.Site_name == 'DS WTRNX 139 IB':\n",
        "    r.Site_name = 'VDS139I'\n",
        "  if r.Site_name == 'DS WTRNX 139 OB':\n",
        "    r.Site_name = 'VDS139O'\n",
        "  if r.Site_name == 'DS VDS 202 IB':\n",
        "    r.Site_name = 'VDS202'\n",
        "  if r.Site_name == 'DS VDS 202 OB':\n",
        "    r.Site_name = 'VDS202'\n",
        "  if r.Site_name == 'DS VDS 207 OB':\n",
        "    r.Site_name = 'VDS207'\n",
        "  if r.Site_name == 'DS VDS 208 IB':\n",
        "    r.Site_name = 'VDS208'\n",
        "  if r.Site_name == 'DS VDS 208 OB':\n",
        "    r.Site_name = 'VDS208'\n",
        "  if r.Site_name == 'DS VDS 209 OB':\n",
        "    r.Site_name = 'VDS209'\n",
        "  if r.Site_name == 'DS VDS 211 OB':\n",
        "    r.Site_name = 'VDS211'\n",
        "  if r.Site_name == 'DS VDS 212 IB':\n",
        "    r.Site_name = 'VDS212'\n",
        "  if r.Site_name == 'VDS 214':\n",
        "    r.Site_name = 'VDS214'\n",
        "  if r.Site_name == 'DS VDS 214A IB':\n",
        "    r.Site_name = 'VDS214A'\n",
        "  if r.Site_name == 'DS VDS 214A OB':\n",
        "    r.Site_name = 'VDS214A'\n",
        "  if r.Site_name == 'VDS 215 IB':\n",
        "    r.Site_name = 'VDS215'\n",
        "  if r.Site_name == 'DS VDS 217 OB':\n",
        "    r.Site_name = 'VDS217'\n",
        "  if r.Site_name == 'DS VDS 217 IB':\n",
        "    r.Site_name = 'VDS217'\n",
        "  if r.Site_name == 'DS VDS 222 IB':\n",
        "    r.Site_name = 'VDS222'\n",
        "  if r.Site_name == 'DS VDS 222 OB':\n",
        "    r.Site_name = 'VDS222'\n",
        "  if r.Site_name == 'DS VDS 224 IB':\n",
        "    r.Site_name = 'VDS224'\n",
        "  if r.Site_name == 'DS VDS 224 OB':\n",
        "    r.Site_name = 'VDS224'\n",
        "  if r.Site_name == 'DS VDS 229 IB':\n",
        "    r.Site_name = 'VDS229'\n",
        "  if r.Site_name == 'DS VDS 229 OB':\n",
        "    r.Site_name = 'VDS229'\n",
        "  if r.Site_name == 'DS VDS 230 IB':\n",
        "    r.Site_name = 'VDS230I'\n",
        "  if r.Site_name == 'DS VDS 230 OB':\n",
        "    r.Site_name = 'VDS230O'\n",
        "  if r.Site_name == 'DS VDS 233 IB':\n",
        "    r.Site_name = 'VDS233'\n",
        "  if r.Site_name == 'DS VDS 233 OB':\n",
        "    r.Site_name = 'VDS233'\n",
        "  if r.Site_name == 'DS VDS 235 IB':\n",
        "    r.Site_name = 'VDS235'\n",
        "  if r.Site_name == 'DS VDS 235 OB':\n",
        "    r.Site_name = 'VDS235'\n",
        "  if r.Site_name == 'DS VDS 304 North':\n",
        "    r.Site_name = 'VDS304'\n",
        "  if r.Site_name == 'DS VDS 304 South':\n",
        "    r.Site_name = 'VDS304'\n",
        "  if r.Site_name == 'DS VDS 306 North':\n",
        "    r.Site_name = 'VDS306'\n",
        "  if r.Site_name == 'DS VDS 306 South':\n",
        "    r.Site_name = 'VDS306'\n",
        "  if r.Site_name == 'DS VDS 308 North':\n",
        "    r.Site_name = 'VDS308'\n",
        "  if r.Site_name == 'DS VDS 308 South':\n",
        "    r.Site_name = 'VDS308'\n",
        "  if r.Site_name ==  'DS VDS 309 North':\n",
        "    r.Site_name =  'VDS309'\n",
        "  if r.Site_name ==  'DS VDS 309 South':\n",
        "    r.Site_name =  'VDS309'\n",
        "  if r.Site_name == 'DS VDS 312 North':\n",
        "    r.Site_name = 'VDS312'\n",
        "  if r.Site_name == 'DS VDS 312 South':\n",
        "    r.Site_name = 'VDS312'\n",
        "  if r.Site_name == 'DS VDS 314 North':\n",
        "    r.Site_name = 'VDS314N'\n",
        "  if r.Site_name == 'DS VDS 314 South':\n",
        "    r.Site_name = 'VDS314S'\n",
        "  if r.Site_name == 'DS VDS 403 IB':\n",
        "    r.Site_name = 'VDS403'\n",
        "  if r.Site_name == 'DS VDS 403 OB':\n",
        "    r.Site_name = 'VDS403'\n",
        "  if r.Site_name == 'DS VDS 404 IB':\n",
        "    r.Site_name = 'VDS404I'\n",
        "  if r.Site_name == 'DS VDS 404 OB':\n",
        "    r.Site_name = 'VDS404O'\n",
        "  if r.Site_name == 'DS VDS 503 North':\n",
        "    r.Site_name = 'VDS503'\n",
        "  if r.Site_name == 'DS VDS 503 South':\n",
        "    r.Site_name = 'VDS503'\n",
        "  if r.Site_name == 'DS VDS 504 North':\n",
        "    r.Site_name = 'VDS504'\n",
        "  if r.Site_name == 'DS VDS 504 South':\n",
        "    r.Site_name = 'VDS504'\n",
        "  if r.Site_name == 'DS VDS 505 South':\n",
        "    r.Site_name = 'VDS505'\n",
        "  if r.Site_name == 'DS VDS 700 IB':\n",
        "    r.Site_name = 'VDS700I'\n",
        "  if r.Site_name == 'DS VDS 700 OB':\n",
        "    r.Site_name = 'VDS700O'\n",
        "  if r.Site_name == 'DS VDS 702 North':\n",
        "    r.Site_name = 'VDS702'\n",
        "  if r.Site_name == 'DS VDS 702 South':\n",
        "    r.Site_name = 'VDS702'\n",
        "  if r.Site_name == 'DS VDS 703 North':\n",
        "    r.Site_name = 'VDS703'\n",
        "  if r.Site_name == 'DS VDS 703 South':\n",
        "    r.Site_name = 'VDS703'\n",
        "  if r.Site_name == 'DS VDS 802 IB':\n",
        "    r.Site_name = 'VDS802'\n",
        "  if r.Site_name == 'DS VDS 802 OB':\n",
        "    r.Site_name = 'VDS802'\n",
        "  if r.Site_name == 'DS VDS 802A IB':\n",
        "    r.Site_name = 'VDS802A'\n",
        "  if r.Site_name == 'DS VDS 803 IB':\n",
        "    r.Site_name = 'VDS803'\n",
        "  if r.Site_name == 'DS VDS 803 OB':\n",
        "    r.Site_name = 'VDS803'\n",
        "  if r.Site_name == 'DS VDS 805 IB':\n",
        "    r.Site_name = 'VDS805'\n",
        "  if r.Site_name == 'DS VDS 805 OB':\n",
        "    r.Site_name = 'VDS805'\n",
        "  if r.Site_name == 'DS VDS 910 IB':\n",
        "    r.Site_name = 'VDS910'\n",
        "  if r.Site_name == 'DS VDS 910 OB':\n",
        "    r.Site_name = 'VDS910'\n",
        "  if r.Site_name == 'DS VDS 912 IB':\n",
        "    r.Site_name = 'VDS912I'\n",
        "  if r.Site_name == 'DS VDS 912 OB':\n",
        "    r.Site_name = 'VDS912O'\n",
        "  if r.Site_name == 'DS VDS 913 IB':\n",
        "    r.Site_name = 'VDS913I'\n",
        "  if r.Site_name == 'DS VDS 913 OB':\n",
        "    r.Site_name = 'VDS913O'\n",
        "  if r.Site_name == 'DS WTRNX 201 OB':\n",
        "    r.Site_name = 'VDS201'\n",
        "  if r.Site_name == 'DS WTRNX 204 IB':\n",
        "    r.Site_name = 'VDS204'\n",
        "  if r.Site_name == 'DS WTRNX 204 OB':\n",
        "    r.Site_name = 'VDS204'\n",
        "  if r.Site_name == 'DS VDS 206 IB':\n",
        "    r.Site_name = 'VDS206'\n",
        "  if r.Site_name == 'VDS 207 IB':\n",
        "    r.Site_name = 'VDS207'\n",
        "  if r.Site_name == 'VDS 203 IB':\n",
        "    r.Site_name =  'VDS203'\n",
        "  if r.Site_name == 'VDS 203 OB':\n",
        "    r.Site_name = 'VDS203'\n",
        "  if r.Site_name == 'VDS 206 OB':\n",
        "    r.Site_name = 'VDS206'\n",
        "  if r.Site_name == 'VDS 209 IB':\n",
        "    r.Site_name = 'VDS209'\n",
        "  if r.Site_name == 'VDS 102 IB':\n",
        "    r.Site_name = 'VDS102'\n",
        "  if r.Site_name == 'VDS 102 OB':\n",
        "    r.Site_name = 'VDS102'\n",
        "  if r.Site_name == 'VDS 108 IB':\n",
        "    r.Site_name = 'VDS108'\n",
        "  if r.Site_name == 'VDS 108 OB':\n",
        "    r.Site_name = 'VDS108'\n",
        "  if r.Site_name == 'VDS 215 OB':\n",
        "    r.Site_name = 'VDS215'\n",
        "  if r.Site_name == 'DS VDS 220 IB':\n",
        "    r.Site_name = 'VDS220A'\n",
        "  if r.Site_name == 'DS VDS 220 OB':\n",
        "    r.Site_name = 'VDS220A'\n",
        "  if r.Site_name == 'DS WTRNX 266B OB':\n",
        "    r.Site_name = 'VDS266'\n",
        "  if r.Site_name == 'DS WTRNX 266A IB':\n",
        "    r.Site_name = 'VDS266'\n",
        "  if r.Site_name == 'DS WTRNX 269A IB':\n",
        "    r.Site_name = 'VDS269'\n",
        "  if r.Site_name == 'DS WTRNX 269B S':\n",
        "    r.Site_name = 'VDS269'\n",
        "  if r.Site_name == 'DS WTRNX 405 OB':\n",
        "    r.Site_name = 'VDS405A'\n",
        "  if r.Site_name == 'DS WTRNX 405A OB':\n",
        "    r.Site_name = 'VDS405A'\n",
        "  if r.Site_name == 'DS WTRNX 406 IB':\n",
        "    r.Site_name =  'VDS406'\n",
        "  if r.Site_name == 'DS WTRNX 407 IB':\n",
        "    r.Site_name = 'VDS407'\n",
        "  if r.Site_name== 'DS WTRNX 407 OB':\n",
        "    r.Site_name = 'VDS407'\n",
        "  if r.Site_name == 'VDS 705 NB':\n",
        "    r.Site_name = 'VDS705'\n",
        "  if r.Site_name == 'VDS 705 SB':\n",
        "    r.Site_name = 'VDS705'\n",
        "  if r.Site_name == 'VDS 914 IB':\n",
        "    r.Site_name = 'VDS914I'\n",
        "  if r.Site_name == 'VDS 914 OB':\n",
        "    r.Site_name = 'VDS914O'\n",
        "  if r.Site_name == 'DS WTRNX 916 IB ':\n",
        "    r.Site_name = 'VDS916I'\n",
        "  if r.Site_name == 'VDS 916 OB':\n",
        "    r.Site_name = 'VDS916O'\n",
        "  return r\n"
      ],
      "execution_count": 12,
      "outputs": []
    },
    {
      "cell_type": "code",
      "metadata": {
        "id": "_wyz1qsry-rc",
        "colab_type": "code",
        "colab": {}
      },
      "source": [
        "#execute function\n",
        "all_data = all_data.apply(change_name, axis=1)"
      ],
      "execution_count": 13,
      "outputs": []
    },
    {
      "cell_type": "code",
      "metadata": {
        "id": "F1msHhpHkOyS",
        "colab_type": "code",
        "colab": {
          "base_uri": "https://localhost:8080/",
          "height": 222
        },
        "outputId": "1e190984-a717-43f4-c209-903fb1b6cc08"
      },
      "source": [
        "#check some  values\n",
        "print(all_data.Site_name.unique())"
      ],
      "execution_count": 14,
      "outputs": [
        {
          "output_type": "stream",
          "text": [
            "['VDS101' 'VDS104' 'VDS916O' 'VDS914O' 'VDS914I' 'VDS705' 'VDS215'\n",
            " 'VDS107' 'VDS118' 'VDS117' 'VDS116' 'VDS111' 'VDS109' 'VDS214' 'VDS406'\n",
            " 'VDS405A' 'VDS269' 'VDS204' 'VDS201' 'VDS139O' 'VDS139I' 'VDS913O'\n",
            " 'VDS913I' 'VDS407' 'VDS209' 'VDS207' 'VDS203' 'VDS108' 'VDS102' 'VDS916I'\n",
            " 'VDS306' 'VDS309' 'VDS230O' 'VDS230I' 'VDS229' 'VDS224' 'VDS222' 'VDS217'\n",
            " 'VDS214A' 'VDS233' 'VDS308' 'VDS304' 'VDS235' 'VDS130' 'VDS125' 'VDS132I'\n",
            " 'VDS123A' 'VDS123' 'VDS121' 'VDS119' 'VDS208' 'VDS212' 'VDS211' 'VDS132O'\n",
            " 'VDS202' 'VDS138' 'VDS912O' 'VDS803' 'VDS805' 'VDS703' 'VDS702' 'VDS700O'\n",
            " 'VDS700I' 'VDS505' 'VDS504' 'VDS503' 'VDS404O' 'VDS404I' 'VDS912I'\n",
            " 'VDS910' 'VDS802A' 'VDS802' 'VDS312' 'VDS403' 'VDS314S' 'VDS314N'\n",
            " 'VDS266' 'VDS206' 'VDS135I' 'VDS135O' 'VDS220A' 'VDS113']\n"
          ],
          "name": "stdout"
        }
      ]
    },
    {
      "cell_type": "markdown",
      "metadata": {
        "id": "Y3Amd97OeXWE",
        "colab_type": "text"
      },
      "source": [
        "#### We now ```group``` to ```sum``` and ```mean```: count and speed respectively."
      ]
    },
    {
      "cell_type": "code",
      "metadata": {
        "id": "eIikSyhWuKhx",
        "colab_type": "code",
        "colab": {}
      },
      "source": [
        "#create a DateTime column by adding the time to the date\n",
        "all_data['datetime'] = pd.to_datetime(all_data.date) + pd.to_timedelta(all_data.hour, unit='h')"
      ],
      "execution_count": 15,
      "outputs": []
    },
    {
      "cell_type": "code",
      "metadata": {
        "id": "Xe9XDlOmp8Tq",
        "colab_type": "code",
        "colab": {}
      },
      "source": [
        "#group the speed and vehicle count with the datetime\n",
        "g1 = all_data.groupby([\"datetime\", \"Site_name\"])['Total_count'].sum().reset_index()\n",
        "g2 = all_data.groupby([\"datetime\", \"Site_name\"])['ave_speed'].mean().reset_index()\n",
        "veh_count_speed = pd.merge(g1, g2, on = ['datetime', 'Site_name'], how='left')"
      ],
      "execution_count": 16,
      "outputs": []
    },
    {
      "cell_type": "code",
      "metadata": {
        "id": "JEQM7iJwofGO",
        "colab_type": "code",
        "colab": {
          "base_uri": "https://localhost:8080/",
          "height": 144
        },
        "outputId": "7e540b86-fe4b-4201-feac-cb9dcdb49e1f"
      },
      "source": [
        "veh_count_speed.head(3)"
      ],
      "execution_count": 17,
      "outputs": [
        {
          "output_type": "execute_result",
          "data": {
            "text/html": [
              "<div>\n",
              "<style scoped>\n",
              "    .dataframe tbody tr th:only-of-type {\n",
              "        vertical-align: middle;\n",
              "    }\n",
              "\n",
              "    .dataframe tbody tr th {\n",
              "        vertical-align: top;\n",
              "    }\n",
              "\n",
              "    .dataframe thead th {\n",
              "        text-align: right;\n",
              "    }\n",
              "</style>\n",
              "<table border=\"1\" class=\"dataframe\">\n",
              "  <thead>\n",
              "    <tr style=\"text-align: right;\">\n",
              "      <th></th>\n",
              "      <th>datetime</th>\n",
              "      <th>Site_name</th>\n",
              "      <th>Total_count</th>\n",
              "      <th>ave_speed</th>\n",
              "    </tr>\n",
              "  </thead>\n",
              "  <tbody>\n",
              "    <tr>\n",
              "      <th>0</th>\n",
              "      <td>2017-01-01</td>\n",
              "      <td>VDS101</td>\n",
              "      <td>2836</td>\n",
              "      <td>100.010</td>\n",
              "    </tr>\n",
              "    <tr>\n",
              "      <th>1</th>\n",
              "      <td>2017-01-01</td>\n",
              "      <td>VDS102</td>\n",
              "      <td>1425</td>\n",
              "      <td>101.385</td>\n",
              "    </tr>\n",
              "    <tr>\n",
              "      <th>2</th>\n",
              "      <td>2017-01-01</td>\n",
              "      <td>VDS104</td>\n",
              "      <td>2212</td>\n",
              "      <td>99.045</td>\n",
              "    </tr>\n",
              "  </tbody>\n",
              "</table>\n",
              "</div>"
            ],
            "text/plain": [
              "    datetime Site_name  Total_count  ave_speed\n",
              "0 2017-01-01    VDS101         2836    100.010\n",
              "1 2017-01-01    VDS102         1425    101.385\n",
              "2 2017-01-01    VDS104         2212     99.045"
            ]
          },
          "metadata": {
            "tags": []
          },
          "execution_count": 17
        }
      ]
    },
    {
      "cell_type": "code",
      "metadata": {
        "id": "xR5ZtYoX_zRW",
        "colab_type": "code",
        "colab": {
          "base_uri": "https://localhost:8080/",
          "height": 144
        },
        "outputId": "8ec020a2-2bcd-4bc2-94e0-32f44ffbf69c"
      },
      "source": [
        "veh_count_speed.tail(3)"
      ],
      "execution_count": 18,
      "outputs": [
        {
          "output_type": "execute_result",
          "data": {
            "text/html": [
              "<div>\n",
              "<style scoped>\n",
              "    .dataframe tbody tr th:only-of-type {\n",
              "        vertical-align: middle;\n",
              "    }\n",
              "\n",
              "    .dataframe tbody tr th {\n",
              "        vertical-align: top;\n",
              "    }\n",
              "\n",
              "    .dataframe thead th {\n",
              "        text-align: right;\n",
              "    }\n",
              "</style>\n",
              "<table border=\"1\" class=\"dataframe\">\n",
              "  <thead>\n",
              "    <tr style=\"text-align: right;\">\n",
              "      <th></th>\n",
              "      <th>datetime</th>\n",
              "      <th>Site_name</th>\n",
              "      <th>Total_count</th>\n",
              "      <th>ave_speed</th>\n",
              "    </tr>\n",
              "  </thead>\n",
              "  <tbody>\n",
              "    <tr>\n",
              "      <th>851066</th>\n",
              "      <td>2018-12-31 23:00:00</td>\n",
              "      <td>VDS914O</td>\n",
              "      <td>94</td>\n",
              "      <td>77.50</td>\n",
              "    </tr>\n",
              "    <tr>\n",
              "      <th>851067</th>\n",
              "      <td>2018-12-31 23:00:00</td>\n",
              "      <td>VDS916I</td>\n",
              "      <td>129</td>\n",
              "      <td>94.00</td>\n",
              "    </tr>\n",
              "    <tr>\n",
              "      <th>851068</th>\n",
              "      <td>2018-12-31 23:00:00</td>\n",
              "      <td>VDS916O</td>\n",
              "      <td>121</td>\n",
              "      <td>93.59</td>\n",
              "    </tr>\n",
              "  </tbody>\n",
              "</table>\n",
              "</div>"
            ],
            "text/plain": [
              "                  datetime Site_name  Total_count  ave_speed\n",
              "851066 2018-12-31 23:00:00   VDS914O           94      77.50\n",
              "851067 2018-12-31 23:00:00   VDS916I          129      94.00\n",
              "851068 2018-12-31 23:00:00   VDS916O          121      93.59"
            ]
          },
          "metadata": {
            "tags": []
          },
          "execution_count": 18
        }
      ]
    },
    {
      "cell_type": "code",
      "metadata": {
        "id": "dQg6HIVqiPFI",
        "colab_type": "code",
        "colab": {
          "base_uri": "https://localhost:8080/",
          "height": 36
        },
        "outputId": "54051ee6-4abe-40ce-d3cb-abdbd41ed8cf"
      },
      "source": [
        "veh_count_speed.shape"
      ],
      "execution_count": 19,
      "outputs": [
        {
          "output_type": "execute_result",
          "data": {
            "text/plain": [
              "(851069, 4)"
            ]
          },
          "metadata": {
            "tags": []
          },
          "execution_count": 19
        }
      ]
    },
    {
      "cell_type": "markdown",
      "metadata": {
        "id": "TnjcByl3e3l8",
        "colab_type": "text"
      },
      "source": [
        "#### And then we ```merge``` to get the locations."
      ]
    },
    {
      "cell_type": "code",
      "metadata": {
        "id": "kwWYIbgpWQ8b",
        "colab_type": "code",
        "colab": {}
      },
      "source": [
        "#read the vds locations\n",
        "vds_loc = pd.read_csv(path/'data/vds/vds_location.csv', sep = ';')"
      ],
      "execution_count": 20,
      "outputs": []
    },
    {
      "cell_type": "code",
      "metadata": {
        "id": "nzi5q1BritMI",
        "colab_type": "code",
        "colab": {
          "base_uri": "https://localhost:8080/",
          "height": 262
        },
        "outputId": "351f053b-deeb-4578-c93a-b86e65fafa77"
      },
      "source": [
        "vds_loc.head(4)"
      ],
      "execution_count": 21,
      "outputs": [
        {
          "output_type": "execute_result",
          "data": {
            "text/html": [
              "<div>\n",
              "<style scoped>\n",
              "    .dataframe tbody tr th:only-of-type {\n",
              "        vertical-align: middle;\n",
              "    }\n",
              "\n",
              "    .dataframe tbody tr th {\n",
              "        vertical-align: top;\n",
              "    }\n",
              "\n",
              "    .dataframe thead th {\n",
              "        text-align: right;\n",
              "    }\n",
              "</style>\n",
              "<table border=\"1\" class=\"dataframe\">\n",
              "  <thead>\n",
              "    <tr style=\"text-align: right;\">\n",
              "      <th></th>\n",
              "      <th>Asset Code</th>\n",
              "      <th>Asset Desc.</th>\n",
              "      <th>Asset Type</th>\n",
              "      <th>Org. Unit</th>\n",
              "      <th>Owner customer</th>\n",
              "      <th>Latitude</th>\n",
              "      <th>Longitude</th>\n",
              "      <th>Manufacturer</th>\n",
              "      <th>Model Number</th>\n",
              "      <th>Serial number</th>\n",
              "      <th>Identification Number</th>\n",
              "      <th>Commissioning Date</th>\n",
              "    </tr>\n",
              "  </thead>\n",
              "  <tbody>\n",
              "    <tr>\n",
              "      <th>0</th>\n",
              "      <td>VDS406-WC</td>\n",
              "      <td>VDS406</td>\n",
              "      <td>VDS Site</td>\n",
              "      <td>Western Cape</td>\n",
              "      <td>CoCT</td>\n",
              "      <td>-33.941590</td>\n",
              "      <td>18.458427</td>\n",
              "      <td>WaveTronics</td>\n",
              "      <td>NaN</td>\n",
              "      <td>NaN</td>\n",
              "      <td>IP 10.45.22.47</td>\n",
              "      <td>2012-11-27 09:48:00.0</td>\n",
              "    </tr>\n",
              "    <tr>\n",
              "      <th>1</th>\n",
              "      <td>VDS407-WC</td>\n",
              "      <td>VDS407</td>\n",
              "      <td>VDS Site</td>\n",
              "      <td>Western Cape</td>\n",
              "      <td>CoCT</td>\n",
              "      <td>-33.942175</td>\n",
              "      <td>NaN</td>\n",
              "      <td>WaveTronics</td>\n",
              "      <td>NaN</td>\n",
              "      <td>NaN</td>\n",
              "      <td>IP 10.45.22.46</td>\n",
              "      <td>2012-11-27 10:22:00.0</td>\n",
              "    </tr>\n",
              "    <tr>\n",
              "      <th>2</th>\n",
              "      <td>VDS201-WC</td>\n",
              "      <td>VDS201</td>\n",
              "      <td>VDS Site</td>\n",
              "      <td>Western Cape</td>\n",
              "      <td>CoCT</td>\n",
              "      <td>-33.945322</td>\n",
              "      <td>18.465930</td>\n",
              "      <td>WaveTronics</td>\n",
              "      <td>NaN</td>\n",
              "      <td>NaN</td>\n",
              "      <td>IP 10.45.22.201</td>\n",
              "      <td>2012-11-27 14:43:00.0</td>\n",
              "    </tr>\n",
              "    <tr>\n",
              "      <th>3</th>\n",
              "      <td>VDS204-WC</td>\n",
              "      <td>VDS204</td>\n",
              "      <td>VDS Site</td>\n",
              "      <td>Western Cape</td>\n",
              "      <td>PGWC</td>\n",
              "      <td>-33.943438</td>\n",
              "      <td>18.485996</td>\n",
              "      <td>WaveTronics</td>\n",
              "      <td>NaN</td>\n",
              "      <td>NaN</td>\n",
              "      <td>IP 10.45.22.204</td>\n",
              "      <td>2012-11-27 15:00:00.0</td>\n",
              "    </tr>\n",
              "  </tbody>\n",
              "</table>\n",
              "</div>"
            ],
            "text/plain": [
              "  Asset Code Asset Desc.  ... Identification Number     Commissioning Date\n",
              "0  VDS406-WC      VDS406  ...        IP 10.45.22.47  2012-11-27 09:48:00.0\n",
              "1  VDS407-WC      VDS407  ...        IP 10.45.22.46  2012-11-27 10:22:00.0\n",
              "2  VDS201-WC      VDS201  ...       IP 10.45.22.201  2012-11-27 14:43:00.0\n",
              "3  VDS204-WC      VDS204  ...       IP 10.45.22.204  2012-11-27 15:00:00.0\n",
              "\n",
              "[4 rows x 12 columns]"
            ]
          },
          "metadata": {
            "tags": []
          },
          "execution_count": 21
        }
      ]
    },
    {
      "cell_type": "code",
      "metadata": {
        "id": "-qnYEkwhOIQY",
        "colab_type": "code",
        "colab": {}
      },
      "source": [
        "#merge \n",
        "veh_count_speed = pd.merge(veh_count_speed, vds_loc[['Asset Desc.','Latitude','Longitude']], \n",
        "                           left_on='Site_name', right_on='Asset Desc.', how='left')"
      ],
      "execution_count": 22,
      "outputs": []
    },
    {
      "cell_type": "code",
      "metadata": {
        "id": "e81lyAJCTe32",
        "colab_type": "code",
        "colab": {
          "base_uri": "https://localhost:8080/",
          "height": 175
        },
        "outputId": "8652fbd3-81f9-4550-c72a-bdf118aee35d"
      },
      "source": [
        "veh_count_speed.head(4)"
      ],
      "execution_count": 23,
      "outputs": [
        {
          "output_type": "execute_result",
          "data": {
            "text/html": [
              "<div>\n",
              "<style scoped>\n",
              "    .dataframe tbody tr th:only-of-type {\n",
              "        vertical-align: middle;\n",
              "    }\n",
              "\n",
              "    .dataframe tbody tr th {\n",
              "        vertical-align: top;\n",
              "    }\n",
              "\n",
              "    .dataframe thead th {\n",
              "        text-align: right;\n",
              "    }\n",
              "</style>\n",
              "<table border=\"1\" class=\"dataframe\">\n",
              "  <thead>\n",
              "    <tr style=\"text-align: right;\">\n",
              "      <th></th>\n",
              "      <th>datetime</th>\n",
              "      <th>Site_name</th>\n",
              "      <th>Total_count</th>\n",
              "      <th>ave_speed</th>\n",
              "      <th>Asset Desc.</th>\n",
              "      <th>Latitude</th>\n",
              "      <th>Longitude</th>\n",
              "    </tr>\n",
              "  </thead>\n",
              "  <tbody>\n",
              "    <tr>\n",
              "      <th>0</th>\n",
              "      <td>2017-01-01</td>\n",
              "      <td>VDS101</td>\n",
              "      <td>2836</td>\n",
              "      <td>100.010</td>\n",
              "      <td>VDS101</td>\n",
              "      <td>-33.913614</td>\n",
              "      <td>18.494333</td>\n",
              "    </tr>\n",
              "    <tr>\n",
              "      <th>1</th>\n",
              "      <td>2017-01-01</td>\n",
              "      <td>VDS102</td>\n",
              "      <td>1425</td>\n",
              "      <td>101.385</td>\n",
              "      <td>VDS102</td>\n",
              "      <td>-33.903700</td>\n",
              "      <td>18.505800</td>\n",
              "    </tr>\n",
              "    <tr>\n",
              "      <th>2</th>\n",
              "      <td>2017-01-01</td>\n",
              "      <td>VDS104</td>\n",
              "      <td>2212</td>\n",
              "      <td>99.045</td>\n",
              "      <td>VDS104</td>\n",
              "      <td>-33.894000</td>\n",
              "      <td>18.516800</td>\n",
              "    </tr>\n",
              "    <tr>\n",
              "      <th>3</th>\n",
              "      <td>2017-01-01</td>\n",
              "      <td>VDS107</td>\n",
              "      <td>2937</td>\n",
              "      <td>101.025</td>\n",
              "      <td>VDS107</td>\n",
              "      <td>-33.891194</td>\n",
              "      <td>18.547839</td>\n",
              "    </tr>\n",
              "  </tbody>\n",
              "</table>\n",
              "</div>"
            ],
            "text/plain": [
              "    datetime Site_name  Total_count  ...  Asset Desc.   Latitude  Longitude\n",
              "0 2017-01-01    VDS101         2836  ...       VDS101 -33.913614  18.494333\n",
              "1 2017-01-01    VDS102         1425  ...       VDS102 -33.903700  18.505800\n",
              "2 2017-01-01    VDS104         2212  ...       VDS104 -33.894000  18.516800\n",
              "3 2017-01-01    VDS107         2937  ...       VDS107 -33.891194  18.547839\n",
              "\n",
              "[4 rows x 7 columns]"
            ]
          },
          "metadata": {
            "tags": []
          },
          "execution_count": 23
        }
      ]
    },
    {
      "cell_type": "code",
      "metadata": {
        "id": "xH6vLEf3BLPH",
        "colab_type": "code",
        "colab": {}
      },
      "source": [
        "#clean up\n",
        "veh_count_speed.drop(['Asset Desc.'], axis=1, inplace=True)"
      ],
      "execution_count": 24,
      "outputs": []
    },
    {
      "cell_type": "code",
      "metadata": {
        "id": "W34jXyDZRCxb",
        "colab_type": "code",
        "colab": {}
      },
      "source": [
        "#save it\n",
        "veh_count_speed.to_csv(path/'data/veh_count_speed.csv', sep = ';', index=False)"
      ],
      "execution_count": 25,
      "outputs": []
    },
    {
      "cell_type": "markdown",
      "metadata": {
        "id": "X87KgjwsuZvm",
        "colab_type": "text"
      },
      "source": [
        "#### I ran into some challenges executing a ```sjoin``` (spatial join) with Colab and did it elsewhere. Simply put; it consisted of:\n",
        "   \n",
        "\n",
        "*   converting the ```veh_count_speed.csv``` via geopandas;\n",
        "*   setting the projection to [WGS84](https://epsg.io/4326);\n",
        "*   and reprojecting to [UTM34S](https://epsg.io/32734) - This was necessary because the ```vds_locations``` did not always intersect the ```road_segments```;\n",
        "*  a ```buffer``` was required. I set the buffer to ```20-meter```;\n",
        "* then a (```left, intersects```)```sjoin```;\n",
        "* and finally a ```.drop_duplicates```.\n",
        "\n",
        "#### There were still many camera stations that did not intersect any road but I dared not make the ```buffer``` larger for fear of creating false values. The results are below."
      ]
    },
    {
      "cell_type": "code",
      "metadata": {
        "id": "ecItiNVm-CUM",
        "colab_type": "code",
        "colab": {
          "base_uri": "https://localhost:8080/",
          "height": 74
        },
        "outputId": "4f0083ae-0a0b-4354-e47e-552661d808fb"
      },
      "source": [
        "# read the new sjoin vehicle_count with road_segment_id\n",
        "header_list = [\"dt\", \"Site_name\", \"Total_count\", \"ave_speed\", \"Latitude\", \"Longitude\", \"Asset Desc.\",\t\"seg_id\"]\n",
        "\n",
        "veh_count_speed_segID = pd.read_csv(path/'data/vds/veh_count_speed_segmentID.csv', sep = ';', skiprows = 1,\n",
        "                                    names=header_list, parse_dates = ['dt'])"
      ],
      "execution_count": 26,
      "outputs": [
        {
          "output_type": "stream",
          "text": [
            "/usr/local/lib/python3.6/dist-packages/IPython/core/interactiveshell.py:2718: DtypeWarning: Columns (7) have mixed types.Specify dtype option on import or set low_memory=False.\n",
            "  interactivity=interactivity, compiler=compiler, result=result)\n"
          ],
          "name": "stderr"
        }
      ]
    },
    {
      "cell_type": "code",
      "metadata": {
        "id": "1bIbVTkqvoOa",
        "colab_type": "code",
        "colab": {
          "base_uri": "https://localhost:8080/",
          "height": 144
        },
        "outputId": "ec31f3ae-5f68-40da-dcad-50c1defaf7cd"
      },
      "source": [
        "veh_count_speed_segID.head(3)"
      ],
      "execution_count": 27,
      "outputs": [
        {
          "output_type": "execute_result",
          "data": {
            "text/html": [
              "<div>\n",
              "<style scoped>\n",
              "    .dataframe tbody tr th:only-of-type {\n",
              "        vertical-align: middle;\n",
              "    }\n",
              "\n",
              "    .dataframe tbody tr th {\n",
              "        vertical-align: top;\n",
              "    }\n",
              "\n",
              "    .dataframe thead th {\n",
              "        text-align: right;\n",
              "    }\n",
              "</style>\n",
              "<table border=\"1\" class=\"dataframe\">\n",
              "  <thead>\n",
              "    <tr style=\"text-align: right;\">\n",
              "      <th></th>\n",
              "      <th>dt</th>\n",
              "      <th>Site_name</th>\n",
              "      <th>Total_count</th>\n",
              "      <th>ave_speed</th>\n",
              "      <th>Latitude</th>\n",
              "      <th>Longitude</th>\n",
              "      <th>Asset Desc.</th>\n",
              "      <th>seg_id</th>\n",
              "    </tr>\n",
              "  </thead>\n",
              "  <tbody>\n",
              "    <tr>\n",
              "      <th>0</th>\n",
              "      <td>2017-01-01 00:00:00</td>\n",
              "      <td>VDS101</td>\n",
              "      <td>2836.0</td>\n",
              "      <td>100.010</td>\n",
              "      <td>-33.913614</td>\n",
              "      <td>18.494333</td>\n",
              "      <td>VDS101</td>\n",
              "      <td>ETFFDX5</td>\n",
              "    </tr>\n",
              "    <tr>\n",
              "      <th>1</th>\n",
              "      <td>2017-01-01 01:00:00</td>\n",
              "      <td>VDS101</td>\n",
              "      <td>3530.0</td>\n",
              "      <td>100.630</td>\n",
              "      <td>-33.913614</td>\n",
              "      <td>18.494333</td>\n",
              "      <td>VDS101</td>\n",
              "      <td>ETFFDX5</td>\n",
              "    </tr>\n",
              "    <tr>\n",
              "      <th>2</th>\n",
              "      <td>2017-01-01 02:00:00</td>\n",
              "      <td>VDS101</td>\n",
              "      <td>2988.0</td>\n",
              "      <td>102.505</td>\n",
              "      <td>-33.913614</td>\n",
              "      <td>18.494333</td>\n",
              "      <td>VDS101</td>\n",
              "      <td>ETFFDX5</td>\n",
              "    </tr>\n",
              "  </tbody>\n",
              "</table>\n",
              "</div>"
            ],
            "text/plain": [
              "                   dt Site_name  Total_count  ...  Longitude  Asset Desc.   seg_id\n",
              "0 2017-01-01 00:00:00    VDS101       2836.0  ...  18.494333       VDS101  ETFFDX5\n",
              "1 2017-01-01 01:00:00    VDS101       3530.0  ...  18.494333       VDS101  ETFFDX5\n",
              "2 2017-01-01 02:00:00    VDS101       2988.0  ...  18.494333       VDS101  ETFFDX5\n",
              "\n",
              "[3 rows x 8 columns]"
            ]
          },
          "metadata": {
            "tags": []
          },
          "execution_count": 27
        }
      ]
    },
    {
      "cell_type": "code",
      "metadata": {
        "id": "kycDqeR27LLG",
        "colab_type": "code",
        "colab": {
          "base_uri": "https://localhost:8080/",
          "height": 166
        },
        "outputId": "06f4aa97-b080-4204-8df8-d287e7b86af9"
      },
      "source": [
        "#check some  values\n",
        "print(veh_count_speed_segID.seg_id.unique())\n",
        "print('')\n",
        "print(veh_count_speed_segID.shape)"
      ],
      "execution_count": 28,
      "outputs": [
        {
          "output_type": "stream",
          "text": [
            "['ETFFDX5' '0GZ5KS3' nan 'TBYQ54D' 'HIUQ2RB' 'RZK0UM0' '9NXZ103' '24P30PE'\n",
            " 'F14EJLW' 'Z4VBV3L' 'E4L0I98' 'C1ERJ22' 'UB5HE92' 'W70WUF7' '1Q44FGG'\n",
            " '5093ZHY' '8PA0RQ9' '93O3U6U' 'K48Y5T9' 'WWFC10X' 'VWOSZKP' 'H7OMXI9'\n",
            " 'YGRV6SD' 'H48JVZQ' 'D5DGOZ9' 'GUA17R4' '6BYSPD6' '6A90XDM' 'QDRC5UW'\n",
            " '8ITYQ2Z' 'JRZWRIW' '7QBQK9L' 'HL23AIZ' '4HHV563' 'BDDVLQE' '47SP0JH'\n",
            " 'T7XSLG6' 'FSOOCGH' 'X9J910I' 'MX8CVMX']\n",
            "\n",
            "(851070, 8)\n"
          ],
          "name": "stdout"
        }
      ]
    },
    {
      "cell_type": "markdown",
      "metadata": {
        "id": "eAZOH6QDgBrM",
        "colab_type": "text"
      },
      "source": [
        "#### Now we update the ```train``` and ```test```."
      ]
    },
    {
      "cell_type": "code",
      "metadata": {
        "id": "rMzgsUjaARyQ",
        "colab_type": "code",
        "colab": {}
      },
      "source": [
        "#load the train and test\n",
        "train = pd.read_csv(path/'data/train_with_weather.csv', parse_dates = ['datetime'])\n",
        "test = pd.read_csv(path/'data/test_with_weather.csv', parse_dates = ['datetime'])"
      ],
      "execution_count": 29,
      "outputs": []
    },
    {
      "cell_type": "code",
      "metadata": {
        "id": "jrne3ZXqvnMo",
        "colab_type": "code",
        "colab": {
          "base_uri": "https://localhost:8080/",
          "height": 73
        },
        "outputId": "7ad89df8-cdf0-422d-b8fa-f16f13bf549f"
      },
      "source": [
        "#check some values\n",
        "print(train.shape)\n",
        "print('')\n",
        "print(test.shape)"
      ],
      "execution_count": null,
      "outputs": [
        {
          "output_type": "stream",
          "text": [
            "(4765984, 21)\n",
            "\n",
            "(1580320, 21)\n"
          ],
          "name": "stdout"
        }
      ]
    },
    {
      "cell_type": "code",
      "metadata": {
        "id": "bcSZvv0IvklN",
        "colab_type": "code",
        "colab": {
          "base_uri": "https://localhost:8080/",
          "height": 285
        },
        "outputId": "e050271b-3147-4244-b91b-12b499ad2282"
      },
      "source": [
        "train.head(3) "
      ],
      "execution_count": 30,
      "outputs": [
        {
          "output_type": "execute_result",
          "data": {
            "text/html": [
              "<div>\n",
              "<style scoped>\n",
              "    .dataframe tbody tr th:only-of-type {\n",
              "        vertical-align: middle;\n",
              "    }\n",
              "\n",
              "    .dataframe tbody tr th {\n",
              "        vertical-align: top;\n",
              "    }\n",
              "\n",
              "    .dataframe thead th {\n",
              "        text-align: right;\n",
              "    }\n",
              "</style>\n",
              "<table border=\"1\" class=\"dataframe\">\n",
              "  <thead>\n",
              "    <tr style=\"text-align: right;\">\n",
              "      <th></th>\n",
              "      <th>datetime x segment_id</th>\n",
              "      <th>datetime</th>\n",
              "      <th>segment_id</th>\n",
              "      <th>y</th>\n",
              "      <th>year</th>\n",
              "      <th>month</th>\n",
              "      <th>day</th>\n",
              "      <th>hour</th>\n",
              "      <th>longitude</th>\n",
              "      <th>latitude</th>\n",
              "      <th>WIDTH</th>\n",
              "      <th>LANES</th>\n",
              "      <th>STATION_NA</th>\n",
              "      <th>Air_temp</th>\n",
              "      <th>Atmos_press</th>\n",
              "      <th>Atmos_press_MeanSea</th>\n",
              "      <th>Humidity</th>\n",
              "      <th>MeanWindSpeed</th>\n",
              "      <th>Visibility</th>\n",
              "      <th>DewPoint</th>\n",
              "      <th>Rainfall</th>\n",
              "    </tr>\n",
              "  </thead>\n",
              "  <tbody>\n",
              "    <tr>\n",
              "      <th>0</th>\n",
              "      <td>2017-01-01 00:00:00 x S0B3CGQ</td>\n",
              "      <td>2017-01-01 00:00:00</td>\n",
              "      <td>S0B3CGQ</td>\n",
              "      <td>0</td>\n",
              "      <td>2017</td>\n",
              "      <td>1</td>\n",
              "      <td>6</td>\n",
              "      <td>0</td>\n",
              "      <td>18.541422</td>\n",
              "      <td>-33.888613</td>\n",
              "      <td>0.0</td>\n",
              "      <td>0</td>\n",
              "      <td>Ysterplaat</td>\n",
              "      <td>NaN</td>\n",
              "      <td>NaN</td>\n",
              "      <td>NaN</td>\n",
              "      <td>NaN</td>\n",
              "      <td>NaN</td>\n",
              "      <td>NaN</td>\n",
              "      <td>NaN</td>\n",
              "      <td>NaN</td>\n",
              "    </tr>\n",
              "    <tr>\n",
              "      <th>1</th>\n",
              "      <td>2017-01-01 01:00:00 x S0B3CGQ</td>\n",
              "      <td>2017-01-01 01:00:00</td>\n",
              "      <td>S0B3CGQ</td>\n",
              "      <td>0</td>\n",
              "      <td>2017</td>\n",
              "      <td>1</td>\n",
              "      <td>6</td>\n",
              "      <td>1</td>\n",
              "      <td>18.541422</td>\n",
              "      <td>-33.888613</td>\n",
              "      <td>0.0</td>\n",
              "      <td>0</td>\n",
              "      <td>Ysterplaat</td>\n",
              "      <td>NaN</td>\n",
              "      <td>NaN</td>\n",
              "      <td>NaN</td>\n",
              "      <td>NaN</td>\n",
              "      <td>NaN</td>\n",
              "      <td>NaN</td>\n",
              "      <td>NaN</td>\n",
              "      <td>NaN</td>\n",
              "    </tr>\n",
              "    <tr>\n",
              "      <th>2</th>\n",
              "      <td>2017-01-01 02:00:00 x S0B3CGQ</td>\n",
              "      <td>2017-01-01 02:00:00</td>\n",
              "      <td>S0B3CGQ</td>\n",
              "      <td>0</td>\n",
              "      <td>2017</td>\n",
              "      <td>1</td>\n",
              "      <td>6</td>\n",
              "      <td>2</td>\n",
              "      <td>18.541422</td>\n",
              "      <td>-33.888613</td>\n",
              "      <td>0.0</td>\n",
              "      <td>0</td>\n",
              "      <td>Ysterplaat</td>\n",
              "      <td>19.6</td>\n",
              "      <td>732.7</td>\n",
              "      <td>NaN</td>\n",
              "      <td>59.0</td>\n",
              "      <td>0.0</td>\n",
              "      <td>NaN</td>\n",
              "      <td>11.2</td>\n",
              "      <td>NaN</td>\n",
              "    </tr>\n",
              "  </tbody>\n",
              "</table>\n",
              "</div>"
            ],
            "text/plain": [
              "           datetime x segment_id            datetime  ... DewPoint  Rainfall\n",
              "0  2017-01-01 00:00:00 x S0B3CGQ 2017-01-01 00:00:00  ...      NaN       NaN\n",
              "1  2017-01-01 01:00:00 x S0B3CGQ 2017-01-01 01:00:00  ...      NaN       NaN\n",
              "2  2017-01-01 02:00:00 x S0B3CGQ 2017-01-01 02:00:00  ...     11.2       NaN\n",
              "\n",
              "[3 rows x 21 columns]"
            ]
          },
          "metadata": {
            "tags": []
          },
          "execution_count": 30
        }
      ]
    },
    {
      "cell_type": "code",
      "metadata": {
        "id": "3ZKS-lTUvh0P",
        "colab_type": "code",
        "colab": {}
      },
      "source": [
        "# update train and test\n",
        "cols = ['dt', 'Site_name', 'Total_count', 'ave_speed', 'seg_id']\n",
        "\n",
        "# we merge on two columns: time and weather station\n",
        "train = pd.merge(train, veh_count_speed_segID[cols], how='left', left_on=['datetime', 'segment_id'], right_on=['dt', 'seg_id'])\n",
        "\n",
        "test = pd.merge(test, veh_count_speed_segID[cols], how='left', left_on=['datetime', 'segment_id'], right_on=['dt', 'seg_id'])"
      ],
      "execution_count": 31,
      "outputs": []
    },
    {
      "cell_type": "code",
      "metadata": {
        "id": "i_IArIuXvh6m",
        "colab_type": "code",
        "colab": {
          "base_uri": "https://localhost:8080/",
          "height": 285
        },
        "outputId": "d4f6161a-5d39-439d-8946-8e4f3c0b6b3f"
      },
      "source": [
        "train.tail(3)"
      ],
      "execution_count": 32,
      "outputs": [
        {
          "output_type": "execute_result",
          "data": {
            "text/html": [
              "<div>\n",
              "<style scoped>\n",
              "    .dataframe tbody tr th:only-of-type {\n",
              "        vertical-align: middle;\n",
              "    }\n",
              "\n",
              "    .dataframe tbody tr th {\n",
              "        vertical-align: top;\n",
              "    }\n",
              "\n",
              "    .dataframe thead th {\n",
              "        text-align: right;\n",
              "    }\n",
              "</style>\n",
              "<table border=\"1\" class=\"dataframe\">\n",
              "  <thead>\n",
              "    <tr style=\"text-align: right;\">\n",
              "      <th></th>\n",
              "      <th>datetime x segment_id</th>\n",
              "      <th>datetime</th>\n",
              "      <th>segment_id</th>\n",
              "      <th>y</th>\n",
              "      <th>year</th>\n",
              "      <th>month</th>\n",
              "      <th>day</th>\n",
              "      <th>hour</th>\n",
              "      <th>longitude</th>\n",
              "      <th>latitude</th>\n",
              "      <th>WIDTH</th>\n",
              "      <th>LANES</th>\n",
              "      <th>STATION_NA</th>\n",
              "      <th>Air_temp</th>\n",
              "      <th>Atmos_press</th>\n",
              "      <th>Atmos_press_MeanSea</th>\n",
              "      <th>Humidity</th>\n",
              "      <th>MeanWindSpeed</th>\n",
              "      <th>Visibility</th>\n",
              "      <th>DewPoint</th>\n",
              "      <th>Rainfall</th>\n",
              "      <th>dt</th>\n",
              "      <th>Site_name</th>\n",
              "      <th>Total_count</th>\n",
              "      <th>ave_speed</th>\n",
              "      <th>seg_id</th>\n",
              "    </tr>\n",
              "  </thead>\n",
              "  <tbody>\n",
              "    <tr>\n",
              "      <th>4800040</th>\n",
              "      <td>2017-12-31 22:00:00 x 43RCYZH</td>\n",
              "      <td>2017-12-31 22:00:00</td>\n",
              "      <td>43RCYZH</td>\n",
              "      <td>0</td>\n",
              "      <td>2017</td>\n",
              "      <td>12</td>\n",
              "      <td>6</td>\n",
              "      <td>22</td>\n",
              "      <td>19.12523</td>\n",
              "      <td>-33.726606</td>\n",
              "      <td>20.2</td>\n",
              "      <td>2</td>\n",
              "      <td>Paarl</td>\n",
              "      <td>18.300000</td>\n",
              "      <td>749.500000</td>\n",
              "      <td>NaN</td>\n",
              "      <td>81.000000</td>\n",
              "      <td>2.0</td>\n",
              "      <td>NaN</td>\n",
              "      <td>14.8</td>\n",
              "      <td>NaN</td>\n",
              "      <td>NaT</td>\n",
              "      <td>NaN</td>\n",
              "      <td>NaN</td>\n",
              "      <td>NaN</td>\n",
              "      <td>NaN</td>\n",
              "    </tr>\n",
              "    <tr>\n",
              "      <th>4800041</th>\n",
              "      <td>2017-12-31 23:00:00 x 43RCYZH</td>\n",
              "      <td>2017-12-31 23:00:00</td>\n",
              "      <td>43RCYZH</td>\n",
              "      <td>0</td>\n",
              "      <td>2017</td>\n",
              "      <td>12</td>\n",
              "      <td>6</td>\n",
              "      <td>23</td>\n",
              "      <td>19.12523</td>\n",
              "      <td>-33.726606</td>\n",
              "      <td>20.2</td>\n",
              "      <td>2</td>\n",
              "      <td>Paarl</td>\n",
              "      <td>17.500000</td>\n",
              "      <td>749.900000</td>\n",
              "      <td>NaN</td>\n",
              "      <td>89.000000</td>\n",
              "      <td>2.0</td>\n",
              "      <td>NaN</td>\n",
              "      <td>15.6</td>\n",
              "      <td>NaN</td>\n",
              "      <td>NaT</td>\n",
              "      <td>NaN</td>\n",
              "      <td>NaN</td>\n",
              "      <td>NaN</td>\n",
              "      <td>NaN</td>\n",
              "    </tr>\n",
              "    <tr>\n",
              "      <th>4800042</th>\n",
              "      <td>2018-01-01 00:00:00 x 43RCYZH</td>\n",
              "      <td>2018-01-01 00:00:00</td>\n",
              "      <td>43RCYZH</td>\n",
              "      <td>0</td>\n",
              "      <td>2018</td>\n",
              "      <td>1</td>\n",
              "      <td>0</td>\n",
              "      <td>0</td>\n",
              "      <td>19.12523</td>\n",
              "      <td>-33.726606</td>\n",
              "      <td>20.2</td>\n",
              "      <td>2</td>\n",
              "      <td>Paarl</td>\n",
              "      <td>17.366667</td>\n",
              "      <td>750.033333</td>\n",
              "      <td>NaN</td>\n",
              "      <td>86.333333</td>\n",
              "      <td>2.0</td>\n",
              "      <td>NaN</td>\n",
              "      <td>15.0</td>\n",
              "      <td>NaN</td>\n",
              "      <td>NaT</td>\n",
              "      <td>NaN</td>\n",
              "      <td>NaN</td>\n",
              "      <td>NaN</td>\n",
              "      <td>NaN</td>\n",
              "    </tr>\n",
              "  </tbody>\n",
              "</table>\n",
              "</div>"
            ],
            "text/plain": [
              "                 datetime x segment_id            datetime  ... ave_speed  seg_id\n",
              "4800040  2017-12-31 22:00:00 x 43RCYZH 2017-12-31 22:00:00  ...       NaN     NaN\n",
              "4800041  2017-12-31 23:00:00 x 43RCYZH 2017-12-31 23:00:00  ...       NaN     NaN\n",
              "4800042  2018-01-01 00:00:00 x 43RCYZH 2018-01-01 00:00:00  ...       NaN     NaN\n",
              "\n",
              "[3 rows x 26 columns]"
            ]
          },
          "metadata": {
            "tags": []
          },
          "execution_count": 32
        }
      ]
    },
    {
      "cell_type": "code",
      "metadata": {
        "id": "_ESWImd9vh_r",
        "colab_type": "code",
        "colab": {
          "base_uri": "https://localhost:8080/",
          "height": 73
        },
        "outputId": "af9b5960-ec12-4d61-b6e8-432658958dd3"
      },
      "source": [
        "#check some values\n",
        "print(train.shape)\n",
        "print('')\n",
        "print(test.shape)"
      ],
      "execution_count": 33,
      "outputs": [
        {
          "output_type": "stream",
          "text": [
            "(4800043, 26)\n",
            "\n",
            "(1588346, 26)\n"
          ],
          "name": "stdout"
        }
      ]
    },
    {
      "cell_type": "markdown",
      "metadata": {
        "id": "bAgV3ViMTexr",
        "colab_type": "text"
      },
      "source": [
        "#### As mentioned our ```train``` and ```test``` datasets have increased in size because some ```road_segments``` have data (```Total_count``` and ```ave_speed```) from two cameras (inbound and outbound)."
      ]
    },
    {
      "cell_type": "code",
      "metadata": {
        "id": "g1y76cKnviOD",
        "colab_type": "code",
        "colab": {
          "base_uri": "https://localhost:8080/",
          "height": 285
        },
        "outputId": "ee79fe9c-8dc2-431f-dd93-d692c2dcd455"
      },
      "source": [
        "# Select all duplicate rows based on one column\n",
        "duplicateRowsDF = train[train.duplicated(['datetime', 'segment_id'])]\n",
        "duplicateRowsDF.head(3)"
      ],
      "execution_count": null,
      "outputs": [
        {
          "output_type": "execute_result",
          "data": {
            "text/html": [
              "<div>\n",
              "<style scoped>\n",
              "    .dataframe tbody tr th:only-of-type {\n",
              "        vertical-align: middle;\n",
              "    }\n",
              "\n",
              "    .dataframe tbody tr th {\n",
              "        vertical-align: top;\n",
              "    }\n",
              "\n",
              "    .dataframe thead th {\n",
              "        text-align: right;\n",
              "    }\n",
              "</style>\n",
              "<table border=\"1\" class=\"dataframe\">\n",
              "  <thead>\n",
              "    <tr style=\"text-align: right;\">\n",
              "      <th></th>\n",
              "      <th>datetime x segment_id</th>\n",
              "      <th>datetime</th>\n",
              "      <th>segment_id</th>\n",
              "      <th>y</th>\n",
              "      <th>year</th>\n",
              "      <th>month</th>\n",
              "      <th>day</th>\n",
              "      <th>hour</th>\n",
              "      <th>longitude</th>\n",
              "      <th>latitude</th>\n",
              "      <th>WIDTH</th>\n",
              "      <th>LANES</th>\n",
              "      <th>STATION_NA</th>\n",
              "      <th>Air_temp</th>\n",
              "      <th>Atmos_press</th>\n",
              "      <th>Atmos_press_MeanSea</th>\n",
              "      <th>Humidity</th>\n",
              "      <th>MeanWindSpeed</th>\n",
              "      <th>Visibility</th>\n",
              "      <th>DewPoint</th>\n",
              "      <th>Rainfall</th>\n",
              "      <th>dt</th>\n",
              "      <th>Site_name</th>\n",
              "      <th>Total_count</th>\n",
              "      <th>ave_speed</th>\n",
              "      <th>seg_id</th>\n",
              "    </tr>\n",
              "  </thead>\n",
              "  <tbody>\n",
              "    <tr>\n",
              "      <th>376724</th>\n",
              "      <td>2017-01-01 00:00:00 x UB5HE92</td>\n",
              "      <td>2017-01-01 00:00:00</td>\n",
              "      <td>UB5HE92</td>\n",
              "      <td>0</td>\n",
              "      <td>2017</td>\n",
              "      <td>1</td>\n",
              "      <td>6</td>\n",
              "      <td>0</td>\n",
              "      <td>18.972736</td>\n",
              "      <td>-33.764633</td>\n",
              "      <td>20.2</td>\n",
              "      <td>2</td>\n",
              "      <td>Paarl</td>\n",
              "      <td>NaN</td>\n",
              "      <td>NaN</td>\n",
              "      <td>NaN</td>\n",
              "      <td>NaN</td>\n",
              "      <td>NaN</td>\n",
              "      <td>NaN</td>\n",
              "      <td>NaN</td>\n",
              "      <td>NaN</td>\n",
              "      <td>2017-01-01 00:00:00</td>\n",
              "      <td>VDS139O</td>\n",
              "      <td>421.0</td>\n",
              "      <td>106.22</td>\n",
              "      <td>UB5HE92</td>\n",
              "    </tr>\n",
              "    <tr>\n",
              "      <th>376726</th>\n",
              "      <td>2017-01-01 01:00:00 x UB5HE92</td>\n",
              "      <td>2017-01-01 01:00:00</td>\n",
              "      <td>UB5HE92</td>\n",
              "      <td>0</td>\n",
              "      <td>2017</td>\n",
              "      <td>1</td>\n",
              "      <td>6</td>\n",
              "      <td>1</td>\n",
              "      <td>18.972736</td>\n",
              "      <td>-33.764633</td>\n",
              "      <td>20.2</td>\n",
              "      <td>2</td>\n",
              "      <td>Paarl</td>\n",
              "      <td>NaN</td>\n",
              "      <td>NaN</td>\n",
              "      <td>NaN</td>\n",
              "      <td>NaN</td>\n",
              "      <td>NaN</td>\n",
              "      <td>NaN</td>\n",
              "      <td>NaN</td>\n",
              "      <td>NaN</td>\n",
              "      <td>2017-01-01 01:00:00</td>\n",
              "      <td>VDS139O</td>\n",
              "      <td>166.0</td>\n",
              "      <td>105.50</td>\n",
              "      <td>UB5HE92</td>\n",
              "    </tr>\n",
              "    <tr>\n",
              "      <th>376728</th>\n",
              "      <td>2017-01-01 02:00:00 x UB5HE92</td>\n",
              "      <td>2017-01-01 02:00:00</td>\n",
              "      <td>UB5HE92</td>\n",
              "      <td>0</td>\n",
              "      <td>2017</td>\n",
              "      <td>1</td>\n",
              "      <td>6</td>\n",
              "      <td>2</td>\n",
              "      <td>18.972736</td>\n",
              "      <td>-33.764633</td>\n",
              "      <td>20.2</td>\n",
              "      <td>2</td>\n",
              "      <td>Paarl</td>\n",
              "      <td>20.0</td>\n",
              "      <td>750.2</td>\n",
              "      <td>NaN</td>\n",
              "      <td>74.0</td>\n",
              "      <td>1.0</td>\n",
              "      <td>NaN</td>\n",
              "      <td>15.3</td>\n",
              "      <td>NaN</td>\n",
              "      <td>2017-01-01 02:00:00</td>\n",
              "      <td>VDS139O</td>\n",
              "      <td>114.0</td>\n",
              "      <td>106.86</td>\n",
              "      <td>UB5HE92</td>\n",
              "    </tr>\n",
              "  </tbody>\n",
              "</table>\n",
              "</div>"
            ],
            "text/plain": [
              "                datetime x segment_id            datetime  ... ave_speed   seg_id\n",
              "376724  2017-01-01 00:00:00 x UB5HE92 2017-01-01 00:00:00  ...    106.22  UB5HE92\n",
              "376726  2017-01-01 01:00:00 x UB5HE92 2017-01-01 01:00:00  ...    105.50  UB5HE92\n",
              "376728  2017-01-01 02:00:00 x UB5HE92 2017-01-01 02:00:00  ...    106.86  UB5HE92\n",
              "\n",
              "[3 rows x 26 columns]"
            ]
          },
          "metadata": {
            "tags": []
          },
          "execution_count": 30
        }
      ]
    },
    {
      "cell_type": "code",
      "metadata": {
        "id": "oMwzr5UdviMY",
        "colab_type": "code",
        "colab": {}
      },
      "source": [
        "#clean up\n",
        "train.drop(['dt', 'seg_id'], axis=1, inplace=True)\n",
        "test.drop(['dt', 'seg_id'], axis=1, inplace=True)"
      ],
      "execution_count": 34,
      "outputs": []
    },
    {
      "cell_type": "code",
      "metadata": {
        "id": "j_HnxVQkviKW",
        "colab_type": "code",
        "colab": {}
      },
      "source": [
        "#save it\n",
        "train.to_csv(path/'data/train_with_weather_vds.csv', sep = ';', index=False)\n",
        "test.to_csv(path/'data/test_with_weather_vds.csv', sep = ';', index=False)"
      ],
      "execution_count": 35,
      "outputs": []
    },
    {
      "cell_type": "markdown",
      "metadata": {
        "id": "DZsvC-5y0Vi8",
        "colab_type": "text"
      },
      "source": [
        "#### Now we update our predictions"
      ]
    },
    {
      "cell_type": "code",
      "metadata": {
        "id": "koJ5RtzJerPk",
        "colab_type": "code",
        "colab": {}
      },
      "source": [
        "import xgboost as xgb\n",
        "from xgboost import XGBClassifier, plot_importance\n",
        "from sklearn.model_selection import cross_val_score, train_test_split\n",
        "from sklearn import metrics \n",
        "from sklearn.metrics import f1_score, classification_report, auc, log_loss, accuracy_score, confusion_matrix, precision_score, mean_squared_error, recall_score,roc_auc_score, roc_curve, average_precision_score,precision_recall_curve, mean_absolute_error"
      ],
      "execution_count": 43,
      "outputs": []
    },
    {
      "cell_type": "code",
      "metadata": {
        "id": "axjsPT8HRKZk",
        "colab_type": "code",
        "colab": {}
      },
      "source": [
        "import matplotlib.pyplot as plt\n",
        "import numpy as np\n",
        "from numpy import argmax"
      ],
      "execution_count": 61,
      "outputs": []
    },
    {
      "cell_type": "code",
      "metadata": {
        "id": "JZlblf5SiHSG",
        "colab_type": "code",
        "colab": {}
      },
      "source": [
        "import sys\n",
        "sys.path.append('/content/gdrive/My Drive/Zindi_Accident')\n",
        "\n",
        "# load a custom confusion_matrix tool for plotting \n",
        "# courtesy - leportella (https://github.com/leportella/federal-road-accidents)\n",
        "from tools import plot_confusion_matrix"
      ],
      "execution_count": 65,
      "outputs": []
    },
    {
      "cell_type": "code",
      "metadata": {
        "id": "GIi54Yf8vh4Q",
        "colab_type": "code",
        "colab": {}
      },
      "source": [
        "# define a list of column names to be used for training\n",
        "x_cols = ['month', 'day', 'hour', 'longitude', 'latitude', 'WIDTH', 'LANES', \n",
        "          'Air_temp', 'Atmos_press', 'Atmos_press_MeanSea', 'Humidity', 'MeanWindSpeed', 'Visibility', 'DewPoint', 'Rainfall', 'Total_count', 'ave_speed']"
      ],
      "execution_count": 36,
      "outputs": []
    },
    {
      "cell_type": "code",
      "metadata": {
        "id": "f-CLM8RUqfyl",
        "colab_type": "code",
        "colab": {}
      },
      "source": [
        "X, y = train[x_cols], train['y']"
      ],
      "execution_count": 37,
      "outputs": []
    },
    {
      "cell_type": "code",
      "metadata": {
        "id": "0ifvjBnWieTW",
        "colab_type": "code",
        "colab": {}
      },
      "source": [
        "X_train, X_test, y_train, y_test = train_test_split(X, y, test_size=0.25, random_state=42)"
      ],
      "execution_count": 40,
      "outputs": []
    },
    {
      "cell_type": "code",
      "metadata": {
        "id": "aP76zBXHg_fy",
        "colab_type": "code",
        "colab": {}
      },
      "source": [
        "#define evaluation metrics\n",
        "eval_set = [(X_train, y_train), (X_test, y_test)]\n",
        "eval_metric = [\"logloss\", 'error']"
      ],
      "execution_count": 41,
      "outputs": []
    },
    {
      "cell_type": "code",
      "metadata": {
        "id": "xR1YcgJQrSxU",
        "colab_type": "code",
        "colab": {}
      },
      "source": [
        "#define the model with the previous prelinimary parameters\n",
        "xgb_CountSpeed = XGBClassifier(\n",
        "    learning_rate=0.3,\n",
        "    n_estimators=495,\n",
        "    max_depth=9,\n",
        "    min_child_weight=1,\n",
        "    gamma=0,\n",
        "    subsample=0.8,\n",
        "    colsample_bytree=0.8,\n",
        "    max_delta_step=1,\n",
        "    objective= 'binary:logistic',\n",
        "    scale_pos_weight=18.291,\n",
        "    seed=27)"
      ],
      "execution_count": 44,
      "outputs": []
    },
    {
      "cell_type": "code",
      "metadata": {
        "id": "Mc409qVhrVdF",
        "colab_type": "code",
        "colab": {}
      },
      "source": [
        "#Fit the algorithm on the data\n",
        "%time xgb_CountSpeed.fit(X_train, y_train, eval_metric=eval_metric, eval_set=eval_set, verbose=True)"
      ],
      "execution_count": null,
      "outputs": []
    },
    {
      "cell_type": "code",
      "metadata": {
        "id": "4IoQSO69i_ji",
        "colab_type": "code",
        "colab": {}
      },
      "source": [
        "# save model to file\n",
        "pickle.dump(xgb_CountSpeed, open(path/'xgb_CountSpeed.dat', 'wb'))"
      ],
      "execution_count": null,
      "outputs": []
    },
    {
      "cell_type": "markdown",
      "metadata": {
        "id": "LoPB_YNaiyn8",
        "colab_type": "text"
      },
      "source": [
        "#### ```most_important``` features"
      ]
    },
    {
      "cell_type": "code",
      "metadata": {
        "id": "gcsCKEW-rU_s",
        "colab_type": "code",
        "colab": {
          "base_uri": "https://localhost:8080/",
          "height": 295
        },
        "outputId": "74bfd22b-eb10-45f8-d66d-51e6a46191af"
      },
      "source": [
        "plot_importance(xgb_CountSpeed, max_num_features = 17)\n",
        "plt.show()\n"
      ],
      "execution_count": 48,
      "outputs": [
        {
          "output_type": "display_data",
          "data": {
            "image/png": "[encoded data removed]",
            "text/plain": [
              "<Figure size 432x288 with 1 Axes>"
            ]
          },
          "metadata": {
            "tags": [],
            "needs_background": "light"
          }
        }
      ]
    },
    {
      "cell_type": "code",
      "metadata": {
        "id": "lpc9-CDHrcKi",
        "colab_type": "code",
        "colab": {}
      },
      "source": [
        "#lets predict *PROBABILITIES*  on the training-set\n",
        "y_pred_train = xgb_CountSpeed.predict_proba(X_train)\n",
        "# keep probabilities for the positive outcome only\n",
        "y_pred_train = y_pred_train[:, 1]\n",
        "# calculate roc curves\n",
        "fpr, tpr, thresholds = roc_curve(y_train, y_pred_train)\n",
        "\n",
        "#lets predict *PROBABILITIES*  on the test-set\n",
        "y_pred_test = xgb_CountSpeed.predict_proba(X_test)\n",
        "# keep probabilities for the positive outcome only\n",
        "y_pred_test = y_pred_test[:, 1]\n",
        "# calculate roc curves\n",
        "fpr_t, tpr_t, thresholds_t = roc_curve(y_test, y_pred_test)"
      ],
      "execution_count": 50,
      "outputs": []
    },
    {
      "cell_type": "code",
      "metadata": {
        "id": "q7xtMERHrfoQ",
        "colab_type": "code",
        "colab": {
          "base_uri": "https://localhost:8080/",
          "height": 73
        },
        "outputId": "65275501-0607-441f-f390-c6c30aa88290"
      },
      "source": [
        "print('Training log_loss:', log_loss(y_train, y_pred_train))\n",
        "print('')\n",
        "print('Test log_loss:', log_loss(y_test, y_pred_test))"
      ],
      "execution_count": 51,
      "outputs": [
        {
          "output_type": "stream",
          "text": [
            "Training log_loss: 0.01177640572084404\n",
            "\n",
            "Test log_loss: 0.024827722324079746\n"
          ],
          "name": "stdout"
        }
      ]
    },
    {
      "cell_type": "markdown",
      "metadata": {
        "id": "_Kct2_GHiuZw",
        "colab_type": "text"
      },
      "source": [
        "#### Plot ROC curves for both the ```training``` and ```test``` datasets\n"
      ]
    },
    {
      "cell_type": "code",
      "metadata": {
        "id": "qaR_yZ3ytVxU",
        "colab_type": "code",
        "colab": {
          "base_uri": "https://localhost:8080/",
          "height": 279
        },
        "outputId": "c2fbea37-0b14-4061-d03f-2dd388b20389"
      },
      "source": [
        "#plot\n",
        "fig,ax = plt.subplots()\n",
        "plt.plot([0,1],[0,1],'r-',label='Random Guess',color='orange')#,lw=3)\n",
        "plt.plot(fpr,tpr,label='ROC (Train)')#,lw=3)\n",
        "plt.plot(fpr_t,tpr_t,'r:',label='ROC (Test)',color='steelblue')#,lw=3)\n",
        "#pyplot.scatter(fpr[ix], tpr[ix], marker='o', color='black', label='Best Train')\n",
        "#pyplot.scatter(fpr_test[ix_t], tpr_test[ix_t], marker='o', color='red', label='Best Test')\n",
        "plt.grid()\n",
        "plt.xlabel('False Positive Rate')\n",
        "plt.ylabel('True Positive Rate')\n",
        "plt.legend()\n",
        "plt.show()"
      ],
      "execution_count": 52,
      "outputs": [
        {
          "output_type": "display_data",
          "data": {
            "image/png": "[encoded data removed]",
            "text/plain": [
              "<Figure size 432x288 with 1 Axes>"
            ]
          },
          "metadata": {
            "tags": [],
            "needs_background": "light"
          }
        }
      ]
    },
    {
      "cell_type": "markdown",
      "metadata": {
        "id": "9L2JHW6UinhM",
        "colab_type": "text"
      },
      "source": [
        "#### Precision-Recall Curve"
      ]
    },
    {
      "cell_type": "code",
      "metadata": {
        "id": "SV9OVJYpkgbA",
        "colab_type": "code",
        "colab": {
          "base_uri": "https://localhost:8080/",
          "height": 73
        },
        "outputId": "f8a0d6c5-5781-4717-ecf4-e1d2d742f0e5"
      },
      "source": [
        "#for the training\n",
        "# predict class values\n",
        "yhat = xgb_CountSpeed.predict(X_train)\n",
        "lr_precision, lr_recall, thresh = precision_recall_curve(y_train, y_pred_train)\n",
        "lr_f1, lr_auc = f1_score(y_train, yhat), auc(lr_recall, lr_precision)\n",
        "# summarize scores\n",
        "print(' Training Classification: f1=%.3f auc=%.3f' % (lr_f1, lr_auc))\n",
        "print('')\n",
        "#for the training\n",
        "# predict class values\n",
        "yhat_t = xgb_CountSpeed.predict(X_test)\n",
        "lr_precision_t, lr_recall_t, thresh_t = precision_recall_curve(y_test, y_pred_test)\n",
        "lr_f1_t, lr_auc_t = f1_score(y_test, yhat_t), auc(lr_recall_t, lr_precision_t)\n",
        "# summarize scores\n",
        "print(' Test Classification: f1=%.3f auc=%.3f' % (lr_f1_t, lr_auc_t))"
      ],
      "execution_count": 53,
      "outputs": [
        {
          "output_type": "stream",
          "text": [
            " Training Classification: f1=0.722 auc=0.875\n",
            "\n",
            " Test Classification: f1=0.109 auc=0.044\n"
          ],
          "name": "stdout"
        }
      ]
    },
    {
      "cell_type": "code",
      "metadata": {
        "id": "5gxqpn4tklSA",
        "colab_type": "code",
        "colab": {
          "base_uri": "https://localhost:8080/",
          "height": 279
        },
        "outputId": "506b9968-a952-4f4e-f766-dbd7c472a074"
      },
      "source": [
        "#plot\n",
        "fig,ax = plt.subplots()\n",
        "plt.plot(lr_precision,lr_recall,label='PR (Train)')#,lw=3)\n",
        "plt.plot(lr_precision_t,lr_recall_t,label='PR (Test)')#,lw=3)\n",
        "#pyplot.scatter(recall[ix], precision[ix], marker='o', color='black', label='Best Training')\n",
        "#pyplot.scatter(recall_test[ix_t], precision_test[ix_t], marker='o', color='red', label='Best Test')\n",
        "plt.xlabel('Precision')\n",
        "plt.ylabel('Recall')\n",
        "plt.grid()\n",
        "plt.legend()\n",
        "plt.show()"
      ],
      "execution_count": 54,
      "outputs": [
        {
          "output_type": "display_data",
          "data": {
            "image/png": "[encoded data removed]",
            "text/plain": [
              "<Figure size 432x288 with 1 Axes>"
            ]
          },
          "metadata": {
            "tags": [],
            "needs_background": "light"
          }
        }
      ]
    },
    {
      "cell_type": "markdown",
      "metadata": {
        "id": "9ZtuKacyiid3",
        "colab_type": "text"
      },
      "source": [
        "#### Optimal Threshold"
      ]
    },
    {
      "cell_type": "code",
      "metadata": {
        "id": "-TxVF-2uoAuT",
        "colab_type": "code",
        "colab": {
          "base_uri": "https://localhost:8080/",
          "height": 316
        },
        "outputId": "d0f7d4fd-9f8f-4be5-d452-f9db5c5a1e57"
      },
      "source": [
        "# threshold plot\n",
        "plt.plot(thresh,lr_precision[:-1],'r-',label='P (Train)',color='orange')#,lw=3)\n",
        "plt.plot(thresh,lr_recall[:-1],'r-',label='R (Train)',color='steelblue')#,lw=3)\n",
        "plt.plot(thresh_t,lr_precision_t[:-1],'--',label='P (Test)',color='orange')\n",
        "plt.plot(thresh_t,lr_recall_t[:-1],'--',label='R (Test)',color='steelblue')\n",
        "#plt.plot([0,1],[0,1],'k-',lw=2)\n",
        "plt.gca().set_xbound(lower=0,upper=1)\n",
        "plt.xlabel('Threshold')\n",
        "plt.ylabel('Precision/Recall')\n",
        "plt.legend()\n",
        "plt.show()"
      ],
      "execution_count": 55,
      "outputs": [
        {
          "output_type": "stream",
          "text": [
            "/usr/local/lib/python3.6/dist-packages/IPython/core/pylabtools.py:125: UserWarning: Creating legend with loc=\"best\" can be slow with large amounts of data.\n",
            "  fig.canvas.print_figure(bytes_io, **kw)\n"
          ],
          "name": "stderr"
        },
        {
          "output_type": "display_data",
          "data": {
            "image/png": "[encoded data removed]",
            "text/plain": [
              "<Figure size 432x288 with 1 Axes>"
            ]
          },
          "metadata": {
            "tags": [],
            "needs_background": "light"
          }
        }
      ]
    },
    {
      "cell_type": "markdown",
      "metadata": {
        "id": "i7La5Ew-ibdm",
        "colab_type": "text"
      },
      "source": [
        "#### Threshold Tuning for F1-Score"
      ]
    },
    {
      "cell_type": "code",
      "metadata": {
        "id": "K9qhyhgdoJ7k",
        "colab_type": "code",
        "colab": {}
      },
      "source": [
        "# apply threshold to predictions to create labels\n",
        "def to_labels(pos_preds, threshold):\n",
        "  '''\n",
        "  define a function to take the prediction and threshold as an argument and return an array of integers in {0, 1}\n",
        "  '''\n",
        "  return (pos_preds >= threshold).astype(int)"
      ],
      "execution_count": 56,
      "outputs": []
    },
    {
      "cell_type": "code",
      "metadata": {
        "id": "KWkYp7FLg27O",
        "colab_type": "code",
        "colab": {
          "base_uri": "https://localhost:8080/",
          "height": 36
        },
        "outputId": "9acc2116-82f8-4c29-8fe5-ae6a5c5c09d8"
      },
      "source": [
        "# define thresholds (start, stop, step)\n",
        "threshold = np.arange(0, 1, 0.002)\n",
        "\n",
        "# evaluate each threshold\n",
        "scores = [f1_score(y_train, to_labels(y_pred_train, t)) for t in threshold]\n",
        "\n",
        "# get best threshold\n",
        "ix = argmax(scores)\n",
        "print('Training Threshold = %.3f, F-Score = %.5f' % (threshold[ix], scores[ix]))"
      ],
      "execution_count": 62,
      "outputs": [
        {
          "output_type": "stream",
          "text": [
            "Training Threshold = 0.698, F-Score = 0.82784\n"
          ],
          "name": "stdout"
        }
      ]
    },
    {
      "cell_type": "markdown",
      "metadata": {
        "id": "cxhLnsPuiSxY",
        "colab_type": "text"
      },
      "source": [
        "## Predicting"
      ]
    },
    {
      "cell_type": "markdown",
      "metadata": {
        "id": "vW1UOETwiRi2",
        "colab_type": "text"
      },
      "source": [
        "#### First on the ```train``` - 2017."
      ]
    },
    {
      "cell_type": "code",
      "metadata": {
        "id": "uPCpixM-g239",
        "colab_type": "code",
        "colab": {
          "base_uri": "https://localhost:8080/",
          "height": 166
        },
        "outputId": "34d19049-a861-412a-8b8a-62ebda4a750d"
      },
      "source": [
        "print('Predicting on the Training-set with a Threshold of = %.3f' % 0.698)\n",
        "train['pred'] = (xgb_CountSpeed.predict(train[x_cols]) > 0.698).astype(int)\n",
        "print(' Accuracy:',accuracy_score(train['y'],train['pred']))\n",
        "#rmse = np.sqrt(mean_squared_error(y_test, preds))\n",
        "print(\"RMSE: %f\" % (mean_squared_error(train['y'],train['pred'])))\n",
        "print(' f1-score for the + class:',f1_score(train['y'],train['pred']))\n",
        "print(' Precision for the + class:',precision_score(train['y'],train['pred']))\n",
        "print(' Recall for the + class:',recall_score(train['y'],train['pred']))\n",
        "#y_pred_train = model.predict(train[x_cols])\n",
        "print(' AUC:',roc_auc_score(train['y'],train['pred']))\n",
        "print(' Ave. Precision:',average_precision_score(train['y'],train['pred']))"
      ],
      "execution_count": 63,
      "outputs": [
        {
          "output_type": "stream",
          "text": [
            "Predicting on the Training-set with a Threshold of = 0.698\n",
            " Accuracy: 0.9968233617907173\n",
            "RMSE: 0.003177\n",
            " f1-score for the + class: 0.5925173703901657\n",
            " Precision for the + class: 0.4804541908641761\n",
            " Recall for the + class: 0.7727589572006134\n",
            " AUC: 0.8851269964644757\n",
            " Ave. Precision: 0.371954440097385\n"
          ],
          "name": "stdout"
        }
      ]
    },
    {
      "cell_type": "code",
      "metadata": {
        "id": "aE84deSgg22I",
        "colab_type": "code",
        "colab": {
          "base_uri": "https://localhost:8080/",
          "height": 367
        },
        "outputId": "42da74d8-38da-4339-9d85-d37b0c9703cd"
      },
      "source": [
        "cnf_matrix = confusion_matrix(train['y'], train['pred'])\n",
        "plot_confusion_matrix(cnf_matrix, classes=['0', '1'],\n",
        "                      title='Confusion matrix, without normalization')"
      ],
      "execution_count": 66,
      "outputs": [
        {
          "output_type": "stream",
          "text": [
            "Confusion matrix, without normalization\n",
            "[[4773709   11988]\n",
            " [   3260   11086]]\n"
          ],
          "name": "stdout"
        },
        {
          "output_type": "display_data",
          "data": {
            "image/png": "[encoded data removed]",
            "text/plain": [
              "<Figure size 432x288 with 2 Axes>"
            ]
          },
          "metadata": {
            "tags": [],
            "needs_background": "light"
          }
        }
      ]
    },
    {
      "cell_type": "code",
      "metadata": {
        "id": "N6w9dgSdg2ym",
        "colab_type": "code",
        "colab": {
          "base_uri": "https://localhost:8080/",
          "height": 185
        },
        "outputId": "706cea9b-8929-46ec-c7b1-fe94cd44084e"
      },
      "source": [
        "#have a look at the built-in report\n",
        "print(classification_report(train['y'], train['pred']))"
      ],
      "execution_count": 67,
      "outputs": [
        {
          "output_type": "stream",
          "text": [
            "              precision    recall  f1-score   support\n",
            "\n",
            "           0       1.00      1.00      1.00   4785697\n",
            "           1       0.48      0.77      0.59     14346\n",
            "\n",
            "    accuracy                           1.00   4800043\n",
            "   macro avg       0.74      0.89      0.80   4800043\n",
            "weighted avg       1.00      1.00      1.00   4800043\n",
            "\n"
          ],
          "name": "stdout"
        }
      ]
    },
    {
      "cell_type": "markdown",
      "metadata": {
        "id": "q_fFBWwciGWf",
        "colab_type": "text"
      },
      "source": [
        "#### Now our personal ```test``` - 4 months towards the end of 2018."
      ]
    },
    {
      "cell_type": "code",
      "metadata": {
        "id": "t2uhf98pg2wZ",
        "colab_type": "code",
        "colab": {
          "base_uri": "https://localhost:8080/",
          "height": 166
        },
        "outputId": "0894361c-ea41-4ce0-cb7b-ed7368042d77"
      },
      "source": [
        "print('Predicting on the Test-set with a Threshold of = %.3f' % 0.698)\n",
        "test['pred'] = (xgb_CountSpeed.predict(test[x_cols]) > 0.698).astype(int)\n",
        "print (' Accuracy:',accuracy_score(test['y'],test['pred']))\n",
        "#rmse = np.sqrt(mean_squared_error(y_test, preds))\n",
        "print(\"RMSE: %f\" % (mean_squared_error(test['y'], test['pred'])))\n",
        "print (' f1-score for the + class:',f1_score(test['y'],test['pred']))\n",
        "print (' Precision for the + class:',precision_score(test['y'],test['pred']))\n",
        "print (' Recall for the + class:',recall_score(test['y'],test['pred']))\n",
        "#y_pred_test = model.predict(test[x_cols])\n",
        "print (' AUC:',roc_auc_score(test['y'],test['pred']))\n",
        "print (' Ave. Precision:',average_precision_score(test['y'],test['pred']))"
      ],
      "execution_count": 68,
      "outputs": [
        {
          "output_type": "stream",
          "text": [
            "Predicting on the Test-set with a Threshold of = 0.698\n",
            " Accuracy: 0.9933994230476231\n",
            "RMSE: 0.006601\n",
            " f1-score for the + class: 0.02619357235742151\n",
            " Precision for the + class: 0.06727099236641221\n",
            " Recall for the + class: 0.016262975778546712\n",
            " AUC: 0.5075126901104883\n",
            " Ave. Precision: 0.0064637633400205655\n"
          ],
          "name": "stdout"
        }
      ]
    },
    {
      "cell_type": "code",
      "metadata": {
        "id": "Yd19lgzYg2l-",
        "colab_type": "code",
        "colab": {
          "base_uri": "https://localhost:8080/",
          "height": 367
        },
        "outputId": "4c0960a2-a554-43ff-f962-28bd92426263"
      },
      "source": [
        "cnf_matrix = confusion_matrix(test['y'], test['pred'])\n",
        "plot_confusion_matrix(cnf_matrix, classes=['0', '1'],\n",
        "                      title='Confusion matrix, without normalization')"
      ],
      "execution_count": 69,
      "outputs": [
        {
          "output_type": "stream",
          "text": [
            "Confusion matrix, without normalization\n",
            "[[1577721    1955]\n",
            " [   8529     141]]\n"
          ],
          "name": "stdout"
        },
        {
          "output_type": "display_data",
          "data": {
            "image/png": "[encoded data removed]",
            "text/plain": [
              "<Figure size 432x288 with 2 Axes>"
            ]
          },
          "metadata": {
            "tags": [],
            "needs_background": "light"
          }
        }
      ]
    },
    {
      "cell_type": "code",
      "metadata": {
        "id": "1l0mjTZMW2G7",
        "colab_type": "code",
        "colab": {
          "base_uri": "https://localhost:8080/",
          "height": 185
        },
        "outputId": "47a1a0e7-6f07-4429-e13d-9c21eb79c1b5"
      },
      "source": [
        "#have a look at the built-in report\n",
        "print(classification_report(test['y'], test['pred']))"
      ],
      "execution_count": 70,
      "outputs": [
        {
          "output_type": "stream",
          "text": [
            "              precision    recall  f1-score   support\n",
            "\n",
            "           0       0.99      1.00      1.00   1579676\n",
            "           1       0.07      0.02      0.03      8670\n",
            "\n",
            "    accuracy                           0.99   1588346\n",
            "   macro avg       0.53      0.51      0.51   1588346\n",
            "weighted avg       0.99      0.99      0.99   1588346\n",
            "\n"
          ],
          "name": "stdout"
        }
      ]
    },
    {
      "cell_type": "code",
      "metadata": {
        "id": "23xmvJUcO4rM",
        "colab_type": "code",
        "colab": {
          "base_uri": "https://localhost:8080/",
          "height": 54
        },
        "outputId": "5d12ffbd-513a-4f1b-a951-b7c3e5be35a5"
      },
      "source": [
        "print(len(test))\n",
        "good = test.loc[test['pred'] == 1]\n",
        "print(len(good))"
      ],
      "execution_count": 72,
      "outputs": [
        {
          "output_type": "stream",
          "text": [
            "1588346\n",
            "2096\n"
          ],
          "name": "stdout"
        }
      ]
    },
    {
      "cell_type": "code",
      "metadata": {
        "id": "8HXvzuEQX6fr",
        "colab_type": "code",
        "colab": {}
      },
      "source": [
        "#save it\n",
        "test[['segment_id', 'y', 'year', 'month', 'day', 'hour', 'latitude', 'longitude', 'pred']].to_csv(path/'data/04_predictions.csv', \n",
        "                                                                                                 index=False)"
      ],
      "execution_count": 73,
      "outputs": []
    }
  ]
}