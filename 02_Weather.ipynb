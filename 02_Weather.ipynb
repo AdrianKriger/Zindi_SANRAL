{
  "nbformat": 4,
  "nbformat_minor": 0,
  "metadata": {
    "colab": {
      "name": "02_Weather.ipynb",
      "provenance": [],
      "collapsed_sections": []
    },
    "kernelspec": {
      "display_name": "Python 3",
      "language": "python",
      "name": "python3"
    },
    "language_info": {
      "codemirror_mode": {
        "name": "ipython",
        "version": 3
      },
      "file_extension": ".py",
      "mimetype": "text/x-python",
      "name": "python",
      "nbconvert_exporter": "python",
      "pygments_lexer": "ipython3",
      "version": "3.6.10"
    }
  },
  "cells": [
    {
      "cell_type": "markdown",
      "metadata": {
        "colab_type": "text",
        "id": "Nov4PD2bWvzW"
      },
      "source": [
        "# Weather Data\n",
        "\n",
        "> This notebook did not go as planned. The format of [NOAA Integrated Surface Database (ISD)](https://www.ncdc.noaa.gov/isd) data proved too challenging for me to understand. I did find [Jasper Slingsby's](http://www.ecologi.st/post/weather/) blog insightful  but its for ```R``` - if you happen to know how to transform it with ```python``` please let me know.\n",
        "\n",
        "> I reverted to the recommended [Reliable Prognosis](https://rp5.ru/Weather_in_the_world); where another problem arose.\n",
        "\n",
        "> Only one weather station, ```cape town airport METAR```, provides hourly data, the other stations have 2-to-3-hour gaps. \n",
        "\n",
        "> We are thus presented with a choice: \n",
        "\n",
        "1.   select the one, with consistent hourly data, and apply it everywhere;\n",
        "2.   select the other five and interpolate the data; then create a voronoi diagram, dividing the area into regions and assign each road segment its own weather based on a ```intersects``` and ```within```; ```spatial join```; i.e.: from the weather station closest to it.\n",
        "\n",
        "> We choose the second. Here [NOAA](https://www.ncdc.noaa.gov/isd) did however prove useful. Its ```isd-history.csv``` supplies wgs84 coordinates for most weather stations. These were harvested and used. A preliminary voronoi was viewed in Colab but polygons were created and some spatial manipulation were conducted with [QGIS](https://www.qgis.org/en/site/). \n",
        "\n",
        "> This ```notebook``` is mostly more data wrangling."
      ]
    },
    {
      "cell_type": "code",
      "metadata": {
        "colab_type": "code",
        "id": "FfLklF9nWvcj",
        "colab": {}
      },
      "source": [
        "#because we're on google colab\n",
        "!pip install --upgrade pandas\n",
        "!pip install --upgrade geopandas\n",
        "!pip install --upgrade seaborn"
      ],
      "execution_count": null,
      "outputs": []
    },
    {
      "cell_type": "code",
      "metadata": {
        "colab_type": "code",
        "id": "fYS5LT6EWeiO",
        "colab": {}
      },
      "source": [
        "#import the models that make the magic possible\n",
        "import pandas as pd\n",
        "import geopandas as gpd\n",
        "import numpy as np\n",
        "from datetime import datetime, timedelta\n",
        "from pathlib import Path\n",
        "\n",
        "import matplotlib.pyplot as plt\n",
        "from scipy.spatial import Voronoi,voronoi_plot_2d\n",
        "#import seaborn as sns"
      ],
      "execution_count": null,
      "outputs": []
    },
    {
      "cell_type": "code",
      "metadata": {
        "colab_type": "code",
        "id": "ABt-CrXsWuVs",
        "colab": {}
      },
      "source": [
        "# mount google drive as a file system\n",
        "from google.colab import drive\n",
        "drive.mount('/content/gdrive', force_remount=True)"
      ],
      "execution_count": null,
      "outputs": []
    },
    {
      "cell_type": "code",
      "metadata": {
        "colab_type": "code",
        "id": "cYCuRi82X0YD",
        "colab": {}
      },
      "source": [
        "#set path\n",
        "path = Path('/content/gdrive/My Drive/Zindi_Accident')"
      ],
      "execution_count": null,
      "outputs": []
    },
    {
      "cell_type": "markdown",
      "metadata": {
        "id": "OeaiTbzTO3ai",
        "colab_type": "text"
      },
      "source": [
        "#### Lets look at the [NOAA](https://www.ncdc.noaa.gov/isd) ```isd-history.csv```"
      ]
    },
    {
      "cell_type": "code",
      "metadata": {
        "id": "OXagQBix8YnA",
        "colab_type": "code",
        "colab": {
          "base_uri": "https://localhost:8080/",
          "height": 238
        },
        "outputId": "2471d0f6-7d8a-414a-f148-226dacda07c0"
      },
      "source": [
        "stations = pd.read_csv(path/'data/isd-history.csv',parse_dates=['BEGIN','END'])\n",
        "# Weather records are queried by a concatenation of USAF and WBAN.\n",
        "stations['station_id'] = stations.apply(lambda x: str(x['USAF'])+str(x['WBAN']), axis=1)\n",
        "stations = stations.rename({'STATION NAME':'STATION_NAME'}, axis=1)\n",
        "stations = stations.set_index('station_id')\n",
        "stations.head()"
      ],
      "execution_count": null,
      "outputs": [
        {
          "output_type": "execute_result",
          "data": {
            "text/html": [
              "<div>\n",
              "<style scoped>\n",
              "    .dataframe tbody tr th:only-of-type {\n",
              "        vertical-align: middle;\n",
              "    }\n",
              "\n",
              "    .dataframe tbody tr th {\n",
              "        vertical-align: top;\n",
              "    }\n",
              "\n",
              "    .dataframe thead th {\n",
              "        text-align: right;\n",
              "    }\n",
              "</style>\n",
              "<table border=\"1\" class=\"dataframe\">\n",
              "  <thead>\n",
              "    <tr style=\"text-align: right;\">\n",
              "      <th></th>\n",
              "      <th>USAF</th>\n",
              "      <th>WBAN</th>\n",
              "      <th>STATION_NAME</th>\n",
              "      <th>CTRY</th>\n",
              "      <th>STATE</th>\n",
              "      <th>ICAO</th>\n",
              "      <th>LAT</th>\n",
              "      <th>LON</th>\n",
              "      <th>ELEV(M)</th>\n",
              "      <th>BEGIN</th>\n",
              "      <th>END</th>\n",
              "    </tr>\n",
              "    <tr>\n",
              "      <th>station_id</th>\n",
              "      <th></th>\n",
              "      <th></th>\n",
              "      <th></th>\n",
              "      <th></th>\n",
              "      <th></th>\n",
              "      <th></th>\n",
              "      <th></th>\n",
              "      <th></th>\n",
              "      <th></th>\n",
              "      <th></th>\n",
              "      <th></th>\n",
              "    </tr>\n",
              "  </thead>\n",
              "  <tbody>\n",
              "    <tr>\n",
              "      <th>702699999</th>\n",
              "      <td>7026</td>\n",
              "      <td>99999</td>\n",
              "      <td>WXPOD 7026</td>\n",
              "      <td>AF</td>\n",
              "      <td>NaN</td>\n",
              "      <td>NaN</td>\n",
              "      <td>0.0</td>\n",
              "      <td>0.0</td>\n",
              "      <td>7026.0</td>\n",
              "      <td>2014-07-11</td>\n",
              "      <td>2017-08-22</td>\n",
              "    </tr>\n",
              "    <tr>\n",
              "      <th>707099999</th>\n",
              "      <td>7070</td>\n",
              "      <td>99999</td>\n",
              "      <td>WXPOD 7070</td>\n",
              "      <td>AF</td>\n",
              "      <td>NaN</td>\n",
              "      <td>NaN</td>\n",
              "      <td>0.0</td>\n",
              "      <td>0.0</td>\n",
              "      <td>7070.0</td>\n",
              "      <td>2014-09-23</td>\n",
              "      <td>2015-09-26</td>\n",
              "    </tr>\n",
              "    <tr>\n",
              "      <th>840399999</th>\n",
              "      <td>8403</td>\n",
              "      <td>99999</td>\n",
              "      <td>XM10</td>\n",
              "      <td>NaN</td>\n",
              "      <td>NaN</td>\n",
              "      <td>NaN</td>\n",
              "      <td>NaN</td>\n",
              "      <td>NaN</td>\n",
              "      <td>NaN</td>\n",
              "      <td>2014-01-01</td>\n",
              "      <td>2014-04-12</td>\n",
              "    </tr>\n",
              "    <tr>\n",
              "      <th>841199999</th>\n",
              "      <td>8411</td>\n",
              "      <td>99999</td>\n",
              "      <td>XM20</td>\n",
              "      <td>NaN</td>\n",
              "      <td>NaN</td>\n",
              "      <td>NaN</td>\n",
              "      <td>NaN</td>\n",
              "      <td>NaN</td>\n",
              "      <td>NaN</td>\n",
              "      <td>2014-01-02</td>\n",
              "      <td>2016-02-17</td>\n",
              "    </tr>\n",
              "    <tr>\n",
              "      <th>841499999</th>\n",
              "      <td>8414</td>\n",
              "      <td>99999</td>\n",
              "      <td>XM18</td>\n",
              "      <td>NaN</td>\n",
              "      <td>NaN</td>\n",
              "      <td>NaN</td>\n",
              "      <td>NaN</td>\n",
              "      <td>NaN</td>\n",
              "      <td>NaN</td>\n",
              "      <td>2014-01-01</td>\n",
              "      <td>2016-02-17</td>\n",
              "    </tr>\n",
              "  </tbody>\n",
              "</table>\n",
              "</div>"
            ],
            "text/plain": [
              "            USAF   WBAN STATION_NAME CTRY  ...  LON ELEV(M)      BEGIN        END\n",
              "station_id                                 ...                                   \n",
              "702699999   7026  99999   WXPOD 7026   AF  ...  0.0  7026.0 2014-07-11 2017-08-22\n",
              "707099999   7070  99999   WXPOD 7070   AF  ...  0.0  7070.0 2014-09-23 2015-09-26\n",
              "840399999   8403  99999         XM10  NaN  ...  NaN     NaN 2014-01-01 2014-04-12\n",
              "841199999   8411  99999         XM20  NaN  ...  NaN     NaN 2014-01-02 2016-02-17\n",
              "841499999   8414  99999         XM18  NaN  ...  NaN     NaN 2014-01-01 2016-02-17\n",
              "\n",
              "[5 rows x 11 columns]"
            ]
          },
          "metadata": {
            "tags": []
          },
          "execution_count": 5
        }
      ]
    },
    {
      "cell_type": "code",
      "metadata": {
        "id": "IMFnr9HR8YnG",
        "colab_type": "code",
        "colab": {
          "base_uri": "https://localhost:8080/",
          "height": 238
        },
        "outputId": "090944c1-488a-4ddb-e367-d1fb38cdee15"
      },
      "source": [
        "cpt_stations = stations.loc[stations['STATION_NAME'].isin(['PAARL', 'STRAND', 'YSTERPLANT(SAAFB)', 'MOLTENO RESERVIOR', 'CAPE TOWN INTL'])]\n",
        "cpt_stations.head(5)"
      ],
      "execution_count": null,
      "outputs": [
        {
          "output_type": "execute_result",
          "data": {
            "text/html": [
              "<div>\n",
              "<style scoped>\n",
              "    .dataframe tbody tr th:only-of-type {\n",
              "        vertical-align: middle;\n",
              "    }\n",
              "\n",
              "    .dataframe tbody tr th {\n",
              "        vertical-align: top;\n",
              "    }\n",
              "\n",
              "    .dataframe thead th {\n",
              "        text-align: right;\n",
              "    }\n",
              "</style>\n",
              "<table border=\"1\" class=\"dataframe\">\n",
              "  <thead>\n",
              "    <tr style=\"text-align: right;\">\n",
              "      <th></th>\n",
              "      <th>USAF</th>\n",
              "      <th>WBAN</th>\n",
              "      <th>STATION_NAME</th>\n",
              "      <th>CTRY</th>\n",
              "      <th>STATE</th>\n",
              "      <th>ICAO</th>\n",
              "      <th>LAT</th>\n",
              "      <th>LON</th>\n",
              "      <th>ELEV(M)</th>\n",
              "      <th>BEGIN</th>\n",
              "      <th>END</th>\n",
              "    </tr>\n",
              "    <tr>\n",
              "      <th>station_id</th>\n",
              "      <th></th>\n",
              "      <th></th>\n",
              "      <th></th>\n",
              "      <th></th>\n",
              "      <th></th>\n",
              "      <th></th>\n",
              "      <th></th>\n",
              "      <th></th>\n",
              "      <th></th>\n",
              "      <th></th>\n",
              "      <th></th>\n",
              "    </tr>\n",
              "  </thead>\n",
              "  <tbody>\n",
              "    <tr>\n",
              "      <th>68713099999</th>\n",
              "      <td>687130</td>\n",
              "      <td>99999</td>\n",
              "      <td>PAARL</td>\n",
              "      <td>SF</td>\n",
              "      <td>NaN</td>\n",
              "      <td>NaN</td>\n",
              "      <td>-33.717</td>\n",
              "      <td>18.967</td>\n",
              "      <td>104.0</td>\n",
              "      <td>2004-06-08</td>\n",
              "      <td>2018-01-30</td>\n",
              "    </tr>\n",
              "    <tr>\n",
              "      <th>68816099999</th>\n",
              "      <td>688160</td>\n",
              "      <td>99999</td>\n",
              "      <td>CAPE TOWN INTL</td>\n",
              "      <td>SF</td>\n",
              "      <td>NaN</td>\n",
              "      <td>FACT</td>\n",
              "      <td>-33.965</td>\n",
              "      <td>18.602</td>\n",
              "      <td>46.0</td>\n",
              "      <td>1949-01-01</td>\n",
              "      <td>2018-01-30</td>\n",
              "    </tr>\n",
              "    <tr>\n",
              "      <th>68819099999</th>\n",
              "      <td>688190</td>\n",
              "      <td>99999</td>\n",
              "      <td>MOLTENO RESERVIOR</td>\n",
              "      <td>SF</td>\n",
              "      <td>NaN</td>\n",
              "      <td>NaN</td>\n",
              "      <td>-33.933</td>\n",
              "      <td>18.417</td>\n",
              "      <td>97.0</td>\n",
              "      <td>2013-12-10</td>\n",
              "      <td>2018-01-30</td>\n",
              "    </tr>\n",
              "    <tr>\n",
              "      <th>68827099999</th>\n",
              "      <td>688270</td>\n",
              "      <td>99999</td>\n",
              "      <td>YSTERPLANT(SAAFB)</td>\n",
              "      <td>SF</td>\n",
              "      <td>NaN</td>\n",
              "      <td>NaN</td>\n",
              "      <td>-33.900</td>\n",
              "      <td>18.500</td>\n",
              "      <td>16.0</td>\n",
              "      <td>2004-02-24</td>\n",
              "      <td>2018-01-30</td>\n",
              "    </tr>\n",
              "    <tr>\n",
              "      <th>68911099999</th>\n",
              "      <td>689110</td>\n",
              "      <td>99999</td>\n",
              "      <td>STRAND</td>\n",
              "      <td>SF</td>\n",
              "      <td>NaN</td>\n",
              "      <td>NaN</td>\n",
              "      <td>-34.150</td>\n",
              "      <td>18.850</td>\n",
              "      <td>10.0</td>\n",
              "      <td>2004-05-25</td>\n",
              "      <td>2018-01-30</td>\n",
              "    </tr>\n",
              "  </tbody>\n",
              "</table>\n",
              "</div>"
            ],
            "text/plain": [
              "               USAF   WBAN       STATION_NAME  ... ELEV(M)      BEGIN        END\n",
              "station_id                                     ...                              \n",
              "68713099999  687130  99999              PAARL  ...   104.0 2004-06-08 2018-01-30\n",
              "68816099999  688160  99999     CAPE TOWN INTL  ...    46.0 1949-01-01 2018-01-30\n",
              "68819099999  688190  99999  MOLTENO RESERVIOR  ...    97.0 2013-12-10 2018-01-30\n",
              "68827099999  688270  99999  YSTERPLANT(SAAFB)  ...    16.0 2004-02-24 2018-01-30\n",
              "68911099999  689110  99999             STRAND  ...    10.0 2004-05-25 2018-01-30\n",
              "\n",
              "[5 rows x 11 columns]"
            ]
          },
          "metadata": {
            "tags": []
          },
          "execution_count": 6
        }
      ]
    },
    {
      "cell_type": "code",
      "metadata": {
        "id": "Q0nivo8j8YnN",
        "colab_type": "code",
        "colab": {
          "base_uri": "https://localhost:8080/",
          "height": 265
        },
        "outputId": "3a18eed9-8d1f-47ad-e8e4-763e654fa308"
      },
      "source": [
        "# Let's have a look at a preliminary voronoi\n",
        "start = pd.Timestamp(2017,1,1)\n",
        "end = pd.Timestamp(2018,12,31)\n",
        "valid_stations = cpt_stations[(cpt_stations.BEGIN < start) & (cpt_stations.END > start)]\n",
        "plt.figure()\n",
        "\n",
        "lons = valid_stations.LON.values\n",
        "lats = valid_stations.LAT.values\n",
        "plt.plot(lons, lats,'ko')\n",
        "\n",
        "\n",
        "vor = Voronoi(np.vstack((lons,lats)).T)\n",
        "voronoi_plot_2d(vor,ax=plt.gca())\n",
        "plt.gca().set_aspect(1)\n",
        "plt.show()"
      ],
      "execution_count": null,
      "outputs": [
        {
          "output_type": "display_data",
          "data": {
            "image/png": "[encoded data removed]",
            "text/plain": [
              "<Figure size 432x288 with 1 Axes>"
            ]
          },
          "metadata": {
            "tags": [],
            "needs_background": "light"
          }
        }
      ]
    },
    {
      "cell_type": "code",
      "metadata": {
        "id": "B6zxDXRKLGHK",
        "colab_type": "code",
        "colab": {}
      },
      "source": [
        "#save it\n",
        "cpt_stations.to_csv(path/'data/cpt_weather_stns.csv', index = False)"
      ],
      "execution_count": null,
      "outputs": []
    },
    {
      "cell_type": "markdown",
      "metadata": {
        "id": "NHrlk7-BLEkr",
        "colab_type": "text"
      },
      "source": [
        "#### Here I took the ```csv``` into QGIS to create proper voronio polygons and conduct a ```intersects``` and ```within```; ```spatial join``` with the SANRAL road segments. This meant every road was associated with its own weather station. The results are below. "
      ]
    },
    {
      "cell_type": "code",
      "metadata": {
        "id": "aC1G0gAf-XBY",
        "colab_type": "code",
        "colab": {
          "base_uri": "https://localhost:8080/",
          "height": 499
        },
        "outputId": "e7c0c4b6-79b4-47c8-f978-18e7245243fb"
      },
      "source": [
        "#load the voronoi and new road_segments\n",
        "voronoi = gpd.read_file(path/'data/voronoi.shp')\n",
        "road_voronoi = gpd.read_file(path/'data/roads_voronoi.shp')\n",
        "#rename a column\n",
        "road_voronoi = road_voronoi.rename({'STATION NA':'STATION_NA'}, axis=1)\n",
        "\n",
        "# plot\n",
        "#the voronoi polygons\n",
        "ax = voronoi.plot(cmap='inferno', linewidth=0.5, alpha=0.6,edgecolor='white', figsize=(20,8))\n",
        "#the weather stations\n",
        "ax.scatter(cpt_stations.LON, cpt_stations.LAT, zorder=1, c='b', s=10)\n",
        "#the new road_segments\n",
        "road_voronoi.plot(cmap='viridis', alpha=0.5, ax=ax)\n",
        "#plt.plot(ax=ax, lons, lats,)\n",
        "ax.set_title('Roads and Voronoi with Weather Stations')\n",
        "plt.show()"
      ],
      "execution_count": null,
      "outputs": [
        {
          "output_type": "display_data",
          "data": {
            "image/png": "[encoded data removed]",
            "text/plain": [
              "<Figure size 1440x576 with 1 Axes>"
            ]
          },
          "metadata": {
            "tags": [],
            "needs_background": "light"
          }
        }
      ]
    },
    {
      "cell_type": "markdown",
      "metadata": {
        "id": "F9BbqpdFMd_y",
        "colab_type": "text"
      },
      "source": [
        "#### Now lets have a look at the weather from [Reliable Prognosis](https://rp5.ru/Weather_in_the_world). We start with one; ```resample``` and then ```interpolate```. See how it works and then do the other 4."
      ]
    },
    {
      "cell_type": "code",
      "metadata": {
        "colab_type": "code",
        "id": "tx2JRqo9tGyA",
        "colab": {
          "base_uri": "https://localhost:8080/",
          "height": 144
        },
        "outputId": "d66b3cc8-18b5-4234-a62b-b54ed0dd48c4"
      },
      "source": [
        "#read the cape town airport weather station data\n",
        "cpt_air = pd.read_csv(path/'data/weather/cpt_air_weather.csv', sep = ';', skiprows=6, usecols=range(29),\n",
        "                      parse_dates = ['Local time in Cape Town (airport)'])\n",
        "#rename some columns\n",
        "cpt_air.rename(columns={'Local time in Cape Town (airport)': 'dt', 'T': 'Air_temp','Po': 'Atmos_press', 'P': 'Atmos_press_MeanSea', \n",
        "                        'U': 'Humidity', 'Pa': 'PressureTendency', 'Ff': 'MeanWindSpeed', 'VV': 'Visibility','Td':'DewPoint', \n",
        "                        'RRR': 'Rainfall'}, inplace=True)\n",
        "\n",
        "#delete some columns\n",
        "cpt_air.drop(['DD', 'ff10', 'ff3', 'N',  'WW','W1', 'W2', 'Tn', 'Tx', 'Cl', 'Nh', 'H', 'Cm', 'Ch',\n",
        "              'tR', 'E', 'Tg', 'E_' ,'sss',], axis=1, inplace=True)\n",
        "\n",
        "cpt_air.head(3)"
      ],
      "execution_count": null,
      "outputs": [
        {
          "output_type": "execute_result",
          "data": {
            "text/html": [
              "<div>\n",
              "<style scoped>\n",
              "    .dataframe tbody tr th:only-of-type {\n",
              "        vertical-align: middle;\n",
              "    }\n",
              "\n",
              "    .dataframe tbody tr th {\n",
              "        vertical-align: top;\n",
              "    }\n",
              "\n",
              "    .dataframe thead th {\n",
              "        text-align: right;\n",
              "    }\n",
              "</style>\n",
              "<table border=\"1\" class=\"dataframe\">\n",
              "  <thead>\n",
              "    <tr style=\"text-align: right;\">\n",
              "      <th></th>\n",
              "      <th>dt</th>\n",
              "      <th>Air_temp</th>\n",
              "      <th>Atmos_press</th>\n",
              "      <th>Atmos_press_MeanSea</th>\n",
              "      <th>PressureTendency</th>\n",
              "      <th>Humidity</th>\n",
              "      <th>MeanWindSpeed</th>\n",
              "      <th>Visibility</th>\n",
              "      <th>DewPoint</th>\n",
              "      <th>Rainfall</th>\n",
              "    </tr>\n",
              "  </thead>\n",
              "  <tbody>\n",
              "    <tr>\n",
              "      <th>0</th>\n",
              "      <td>2018-12-31 23:00:00</td>\n",
              "      <td>20.0</td>\n",
              "      <td>757.3</td>\n",
              "      <td>761.3</td>\n",
              "      <td>1.2</td>\n",
              "      <td>85.0</td>\n",
              "      <td>5.0</td>\n",
              "      <td>40.0</td>\n",
              "      <td>17.3</td>\n",
              "      <td>NaN</td>\n",
              "    </tr>\n",
              "    <tr>\n",
              "      <th>1</th>\n",
              "      <td>2018-12-31 20:00:00</td>\n",
              "      <td>26.7</td>\n",
              "      <td>756.1</td>\n",
              "      <td>760.0</td>\n",
              "      <td>0.0</td>\n",
              "      <td>41.0</td>\n",
              "      <td>5.0</td>\n",
              "      <td>55.0</td>\n",
              "      <td>12.2</td>\n",
              "      <td>NaN</td>\n",
              "    </tr>\n",
              "    <tr>\n",
              "      <th>2</th>\n",
              "      <td>2018-12-31 17:00:00</td>\n",
              "      <td>26.7</td>\n",
              "      <td>756.1</td>\n",
              "      <td>760.0</td>\n",
              "      <td>0.0</td>\n",
              "      <td>41.0</td>\n",
              "      <td>5.0</td>\n",
              "      <td>55.0</td>\n",
              "      <td>12.2</td>\n",
              "      <td>NaN</td>\n",
              "    </tr>\n",
              "  </tbody>\n",
              "</table>\n",
              "</div>"
            ],
            "text/plain": [
              "                   dt  Air_temp  Atmos_press  ...  Visibility  DewPoint  Rainfall\n",
              "0 2018-12-31 23:00:00      20.0        757.3  ...        40.0      17.3       NaN\n",
              "1 2018-12-31 20:00:00      26.7        756.1  ...        55.0      12.2       NaN\n",
              "2 2018-12-31 17:00:00      26.7        756.1  ...        55.0      12.2       NaN\n",
              "\n",
              "[3 rows x 10 columns]"
            ]
          },
          "metadata": {
            "tags": []
          },
          "execution_count": 7
        }
      ]
    },
    {
      "cell_type": "code",
      "metadata": {
        "colab_type": "code",
        "id": "BzPbvl3is3u2",
        "colab": {
          "base_uri": "https://localhost:8080/",
          "height": 144
        },
        "outputId": "c19236b5-5de9-4a8a-9f2d-181b5c6afe1c"
      },
      "source": [
        "cpt_air.tail(3)"
      ],
      "execution_count": null,
      "outputs": [
        {
          "output_type": "execute_result",
          "data": {
            "text/html": [
              "<div>\n",
              "<style scoped>\n",
              "    .dataframe tbody tr th:only-of-type {\n",
              "        vertical-align: middle;\n",
              "    }\n",
              "\n",
              "    .dataframe tbody tr th {\n",
              "        vertical-align: top;\n",
              "    }\n",
              "\n",
              "    .dataframe thead th {\n",
              "        text-align: right;\n",
              "    }\n",
              "</style>\n",
              "<table border=\"1\" class=\"dataframe\">\n",
              "  <thead>\n",
              "    <tr style=\"text-align: right;\">\n",
              "      <th></th>\n",
              "      <th>dt</th>\n",
              "      <th>Air_temp</th>\n",
              "      <th>Atmos_press</th>\n",
              "      <th>Atmos_press_MeanSea</th>\n",
              "      <th>PressureTendency</th>\n",
              "      <th>Humidity</th>\n",
              "      <th>MeanWindSpeed</th>\n",
              "      <th>Visibility</th>\n",
              "      <th>DewPoint</th>\n",
              "      <th>Rainfall</th>\n",
              "    </tr>\n",
              "  </thead>\n",
              "  <tbody>\n",
              "    <tr>\n",
              "      <th>5619</th>\n",
              "      <td>2017-01-01 08:00:00</td>\n",
              "      <td>23.2</td>\n",
              "      <td>755.0</td>\n",
              "      <td>759.0</td>\n",
              "      <td>0.1</td>\n",
              "      <td>65.0</td>\n",
              "      <td>4.0</td>\n",
              "      <td>30.0</td>\n",
              "      <td>16.2</td>\n",
              "      <td>NaN</td>\n",
              "    </tr>\n",
              "    <tr>\n",
              "      <th>5620</th>\n",
              "      <td>2017-01-01 05:00:00</td>\n",
              "      <td>20.1</td>\n",
              "      <td>754.9</td>\n",
              "      <td>759.0</td>\n",
              "      <td>-0.8</td>\n",
              "      <td>77.0</td>\n",
              "      <td>4.0</td>\n",
              "      <td>20.0</td>\n",
              "      <td>16.0</td>\n",
              "      <td>NaN</td>\n",
              "    </tr>\n",
              "    <tr>\n",
              "      <th>5621</th>\n",
              "      <td>2017-01-01 02:00:00</td>\n",
              "      <td>21.4</td>\n",
              "      <td>755.7</td>\n",
              "      <td>759.7</td>\n",
              "      <td>-1.5</td>\n",
              "      <td>70.0</td>\n",
              "      <td>5.0</td>\n",
              "      <td>30.0</td>\n",
              "      <td>15.7</td>\n",
              "      <td>NaN</td>\n",
              "    </tr>\n",
              "  </tbody>\n",
              "</table>\n",
              "</div>"
            ],
            "text/plain": [
              "                      dt  Air_temp  Atmos_press  ...  Visibility  DewPoint  Rainfall\n",
              "5619 2017-01-01 08:00:00      23.2        755.0  ...        30.0      16.2       NaN\n",
              "5620 2017-01-01 05:00:00      20.1        754.9  ...        20.0      16.0       NaN\n",
              "5621 2017-01-01 02:00:00      21.4        755.7  ...        30.0      15.7       NaN\n",
              "\n",
              "[3 rows x 10 columns]"
            ]
          },
          "metadata": {
            "tags": []
          },
          "execution_count": 8
        }
      ]
    },
    {
      "cell_type": "markdown",
      "metadata": {
        "id": "zuNUbFrFPSYl",
        "colab_type": "text"
      },
      "source": [
        "#### You can immediatley see the 3-hour gaps. Furthermore when you check the ```NaN``` the data has \"*holes*\"."
      ]
    },
    {
      "cell_type": "code",
      "metadata": {
        "colab_type": "code",
        "id": "9fe89VsIWACo",
        "colab": {
          "base_uri": "https://localhost:8080/",
          "height": 222
        },
        "outputId": "92ac3570-2dfa-4f03-e2a8-4ef7ae16fddf"
      },
      "source": [
        "#check NaN\n",
        "cpt_air.isnull().sum(axis = 0)"
      ],
      "execution_count": null,
      "outputs": [
        {
          "output_type": "execute_result",
          "data": {
            "text/plain": [
              "dt                        0\n",
              "Air_temp                  1\n",
              "Atmos_press               0\n",
              "Atmos_press_MeanSea       0\n",
              "PressureTendency        230\n",
              "Humidity                  2\n",
              "MeanWindSpeed            17\n",
              "Visibility                7\n",
              "DewPoint                  1\n",
              "Rainfall               5035\n",
              "dtype: int64"
            ]
          },
          "metadata": {
            "tags": []
          },
          "execution_count": 10
        }
      ]
    },
    {
      "cell_type": "code",
      "metadata": {
        "colab_type": "code",
        "id": "nq1SGFcYeFlV",
        "colab": {
          "base_uri": "https://localhost:8080/",
          "height": 331
        },
        "outputId": "7ffedcec-57d0-419d-e62f-ae2190555df9"
      },
      "source": [
        "cpt_air.info()"
      ],
      "execution_count": null,
      "outputs": [
        {
          "output_type": "stream",
          "text": [
            "<class 'pandas.core.frame.DataFrame'>\n",
            "RangeIndex: 5622 entries, 0 to 5621\n",
            "Data columns (total 10 columns):\n",
            " #   Column               Non-Null Count  Dtype         \n",
            "---  ------               --------------  -----         \n",
            " 0   dt                   5622 non-null   datetime64[ns]\n",
            " 1   Air_temp             5621 non-null   float64       \n",
            " 2   Atmos_press          5622 non-null   float64       \n",
            " 3   Atmos_press_MeanSea  5622 non-null   float64       \n",
            " 4   PressureTendency     5392 non-null   float64       \n",
            " 5   Humidity             5620 non-null   float64       \n",
            " 6   MeanWindSpeed        5605 non-null   float64       \n",
            " 7   Visibility           5615 non-null   float64       \n",
            " 8   DewPoint             5621 non-null   float64       \n",
            " 9   Rainfall             587 non-null    object        \n",
            "dtypes: datetime64[ns](1), float64(8), object(1)\n",
            "memory usage: 439.3+ KB\n"
          ],
          "name": "stdout"
        }
      ]
    },
    {
      "cell_type": "code",
      "metadata": {
        "colab_type": "code",
        "id": "8XMTFRUr_7wg",
        "colab": {
          "base_uri": "https://localhost:8080/",
          "height": 110
        },
        "outputId": "52a80eb2-ece9-42a0-aa7c-b34775ac4e92"
      },
      "source": [
        "#check some values\n",
        "cpt_air.Rainfall.unique()"
      ],
      "execution_count": null,
      "outputs": [
        {
          "output_type": "execute_result",
          "data": {
            "text/plain": [
              "array([nan, '3.0', '1.0', 'Trace of precipitation', '0.6', '2.0', '0.2',\n",
              "       '7.0', '9.0', '10.0', '5.0', '4.0', '0.4', '6.0', '13.0', '11.0',\n",
              "       'No precipitation', '0.8', '24.0', '22.0', '19.0', '8.0', '26.0',\n",
              "       '18.0', '15.0', '16.0', '30.0', '23.0', '34.0', '0.9', '17.0',\n",
              "       '25.0', '14.0'], dtype=object)"
            ]
          },
          "metadata": {
            "tags": []
          },
          "execution_count": 11
        }
      ]
    },
    {
      "cell_type": "markdown",
      "metadata": {
        "id": "xJin1tdqaIWS",
        "colab_type": "text"
      },
      "source": [
        "#### Right here you can see why I did not automate this process. Some columns contain unique ```text``` along with ```values```. These need to be transformed  as required."
      ]
    },
    {
      "cell_type": "code",
      "metadata": {
        "colab_type": "code",
        "id": "uXeqD8vvAm9U",
        "colab": {}
      },
      "source": [
        "#change some text\n",
        "cpt_air.loc[cpt_air['Rainfall'] ==  'Trace of precipitation', 'Rainfall'] = 0.1\n",
        "cpt_air.loc[cpt_air['Rainfall'] ==  'No precipitation', 'Rainfall'] = 0\n",
        "\n",
        "#transform to numeric\n",
        "cpt_air[\"Rainfall\"] = pd.to_numeric(cpt_air[\"Rainfall\"])"
      ],
      "execution_count": null,
      "outputs": []
    },
    {
      "cell_type": "code",
      "metadata": {
        "colab_type": "code",
        "id": "nTNi4YTmuNlS",
        "colab": {}
      },
      "source": [
        "#set as datetime index\n",
        "cpt_air = cpt_air.set_index(pd.DatetimeIndex(cpt_air['dt']))"
      ],
      "execution_count": null,
      "outputs": []
    },
    {
      "cell_type": "markdown",
      "metadata": {
        "colab_type": "text",
        "id": "juPPWeJ6Nyc9"
      },
      "source": [
        "#### ```resample``` to 1-hour periods and ```interpolate``` - we cannot ```interpolate```  over the entire timeperiod because our results would be false. We can however limit the ```interpolation``` to fill one ```NaN```either side of a value; if it exists. \n",
        "\n",
        "#### This means; that if values need to be ```interpolated```; they will follow the trend for one-hour but leave other ```NaN``` inplace."
      ]
    },
    {
      "cell_type": "code",
      "metadata": {
        "colab_type": "code",
        "id": "Nm65rb_tuOXl",
        "colab": {
          "base_uri": "https://localhost:8080/",
          "height": 206
        },
        "outputId": "78f72a59-2bae-4f9e-a690-58dae2756b6d"
      },
      "source": [
        "columns = ['Air_temp', 'Atmos_press', 'Atmos_press_MeanSea', 'PressureTendency', 'Humidity', 'MeanWindSpeed',\n",
        "           'Visibility', 'DewPoint', 'Rainfall']\n",
        "           \n",
        "#resample to every hour\n",
        "cpt_air_h = cpt_air.resample('H', on='dt').mean()\n",
        "\n",
        "# linear interpolation in both directions and fill only one consecutive NaN\n",
        "cpt_air_inter = cpt_air_h[columns].interpolate(limit_direction = 'both', method='linear', limit = 1)\n",
        "\n",
        "cpt_air_inter.head(4)"
      ],
      "execution_count": null,
      "outputs": [
        {
          "output_type": "execute_result",
          "data": {
            "text/html": [
              "<div>\n",
              "<style scoped>\n",
              "    .dataframe tbody tr th:only-of-type {\n",
              "        vertical-align: middle;\n",
              "    }\n",
              "\n",
              "    .dataframe tbody tr th {\n",
              "        vertical-align: top;\n",
              "    }\n",
              "\n",
              "    .dataframe thead th {\n",
              "        text-align: right;\n",
              "    }\n",
              "</style>\n",
              "<table border=\"1\" class=\"dataframe\">\n",
              "  <thead>\n",
              "    <tr style=\"text-align: right;\">\n",
              "      <th></th>\n",
              "      <th>Air_temp</th>\n",
              "      <th>Atmos_press</th>\n",
              "      <th>Atmos_press_MeanSea</th>\n",
              "      <th>PressureTendency</th>\n",
              "      <th>Humidity</th>\n",
              "      <th>MeanWindSpeed</th>\n",
              "      <th>Visibility</th>\n",
              "      <th>DewPoint</th>\n",
              "      <th>Rainfall</th>\n",
              "    </tr>\n",
              "    <tr>\n",
              "      <th>dt</th>\n",
              "      <th></th>\n",
              "      <th></th>\n",
              "      <th></th>\n",
              "      <th></th>\n",
              "      <th></th>\n",
              "      <th></th>\n",
              "      <th></th>\n",
              "      <th></th>\n",
              "      <th></th>\n",
              "    </tr>\n",
              "  </thead>\n",
              "  <tbody>\n",
              "    <tr>\n",
              "      <th>2017-01-01 02:00:00</th>\n",
              "      <td>21.400000</td>\n",
              "      <td>755.700000</td>\n",
              "      <td>759.700000</td>\n",
              "      <td>-1.500000</td>\n",
              "      <td>70.000000</td>\n",
              "      <td>5.000000</td>\n",
              "      <td>30.000000</td>\n",
              "      <td>15.7</td>\n",
              "      <td>NaN</td>\n",
              "    </tr>\n",
              "    <tr>\n",
              "      <th>2017-01-01 03:00:00</th>\n",
              "      <td>20.966667</td>\n",
              "      <td>755.433333</td>\n",
              "      <td>759.466667</td>\n",
              "      <td>-1.266667</td>\n",
              "      <td>72.333333</td>\n",
              "      <td>4.666667</td>\n",
              "      <td>26.666667</td>\n",
              "      <td>15.8</td>\n",
              "      <td>NaN</td>\n",
              "    </tr>\n",
              "    <tr>\n",
              "      <th>2017-01-01 04:00:00</th>\n",
              "      <td>20.533333</td>\n",
              "      <td>755.166667</td>\n",
              "      <td>759.233333</td>\n",
              "      <td>-1.033333</td>\n",
              "      <td>74.666667</td>\n",
              "      <td>4.333333</td>\n",
              "      <td>23.333333</td>\n",
              "      <td>15.9</td>\n",
              "      <td>NaN</td>\n",
              "    </tr>\n",
              "    <tr>\n",
              "      <th>2017-01-01 05:00:00</th>\n",
              "      <td>20.100000</td>\n",
              "      <td>754.900000</td>\n",
              "      <td>759.000000</td>\n",
              "      <td>-0.800000</td>\n",
              "      <td>77.000000</td>\n",
              "      <td>4.000000</td>\n",
              "      <td>20.000000</td>\n",
              "      <td>16.0</td>\n",
              "      <td>NaN</td>\n",
              "    </tr>\n",
              "  </tbody>\n",
              "</table>\n",
              "</div>"
            ],
            "text/plain": [
              "                      Air_temp  Atmos_press  ...  DewPoint  Rainfall\n",
              "dt                                           ...                    \n",
              "2017-01-01 02:00:00  21.400000   755.700000  ...      15.7       NaN\n",
              "2017-01-01 03:00:00  20.966667   755.433333  ...      15.8       NaN\n",
              "2017-01-01 04:00:00  20.533333   755.166667  ...      15.9       NaN\n",
              "2017-01-01 05:00:00  20.100000   754.900000  ...      16.0       NaN\n",
              "\n",
              "[4 rows x 9 columns]"
            ]
          },
          "metadata": {
            "tags": []
          },
          "execution_count": 11
        }
      ]
    },
    {
      "cell_type": "code",
      "metadata": {
        "id": "Xz_S0YV1VoJF",
        "colab_type": "code",
        "colab": {
          "base_uri": "https://localhost:8080/",
          "height": 206
        },
        "outputId": "cd94311e-ca80-4904-e5a4-6931f99f8db3"
      },
      "source": [
        "cpt_air_inter.tail(4)"
      ],
      "execution_count": null,
      "outputs": [
        {
          "output_type": "execute_result",
          "data": {
            "text/html": [
              "<div>\n",
              "<style scoped>\n",
              "    .dataframe tbody tr th:only-of-type {\n",
              "        vertical-align: middle;\n",
              "    }\n",
              "\n",
              "    .dataframe tbody tr th {\n",
              "        vertical-align: top;\n",
              "    }\n",
              "\n",
              "    .dataframe thead th {\n",
              "        text-align: right;\n",
              "    }\n",
              "</style>\n",
              "<table border=\"1\" class=\"dataframe\">\n",
              "  <thead>\n",
              "    <tr style=\"text-align: right;\">\n",
              "      <th></th>\n",
              "      <th>Air_temp</th>\n",
              "      <th>Atmos_press</th>\n",
              "      <th>Atmos_press_MeanSea</th>\n",
              "      <th>PressureTendency</th>\n",
              "      <th>Humidity</th>\n",
              "      <th>MeanWindSpeed</th>\n",
              "      <th>Visibility</th>\n",
              "      <th>DewPoint</th>\n",
              "      <th>Rainfall</th>\n",
              "    </tr>\n",
              "    <tr>\n",
              "      <th>dt</th>\n",
              "      <th></th>\n",
              "      <th></th>\n",
              "      <th></th>\n",
              "      <th></th>\n",
              "      <th></th>\n",
              "      <th></th>\n",
              "      <th></th>\n",
              "      <th></th>\n",
              "      <th></th>\n",
              "    </tr>\n",
              "  </thead>\n",
              "  <tbody>\n",
              "    <tr>\n",
              "      <th>2018-12-31 20:00:00</th>\n",
              "      <td>26.700000</td>\n",
              "      <td>756.1</td>\n",
              "      <td>760.000000</td>\n",
              "      <td>0.0</td>\n",
              "      <td>41.000000</td>\n",
              "      <td>5.0</td>\n",
              "      <td>55.0</td>\n",
              "      <td>12.2</td>\n",
              "      <td>NaN</td>\n",
              "    </tr>\n",
              "    <tr>\n",
              "      <th>2018-12-31 21:00:00</th>\n",
              "      <td>24.466667</td>\n",
              "      <td>756.5</td>\n",
              "      <td>760.433333</td>\n",
              "      <td>0.4</td>\n",
              "      <td>55.666667</td>\n",
              "      <td>5.0</td>\n",
              "      <td>50.0</td>\n",
              "      <td>13.9</td>\n",
              "      <td>NaN</td>\n",
              "    </tr>\n",
              "    <tr>\n",
              "      <th>2018-12-31 22:00:00</th>\n",
              "      <td>22.233333</td>\n",
              "      <td>756.9</td>\n",
              "      <td>760.866667</td>\n",
              "      <td>0.8</td>\n",
              "      <td>70.333333</td>\n",
              "      <td>5.0</td>\n",
              "      <td>45.0</td>\n",
              "      <td>15.6</td>\n",
              "      <td>NaN</td>\n",
              "    </tr>\n",
              "    <tr>\n",
              "      <th>2018-12-31 23:00:00</th>\n",
              "      <td>20.000000</td>\n",
              "      <td>757.3</td>\n",
              "      <td>761.300000</td>\n",
              "      <td>1.2</td>\n",
              "      <td>85.000000</td>\n",
              "      <td>5.0</td>\n",
              "      <td>40.0</td>\n",
              "      <td>17.3</td>\n",
              "      <td>NaN</td>\n",
              "    </tr>\n",
              "  </tbody>\n",
              "</table>\n",
              "</div>"
            ],
            "text/plain": [
              "                      Air_temp  Atmos_press  ...  DewPoint  Rainfall\n",
              "dt                                           ...                    \n",
              "2018-12-31 20:00:00  26.700000        756.1  ...      12.2       NaN\n",
              "2018-12-31 21:00:00  24.466667        756.5  ...      13.9       NaN\n",
              "2018-12-31 22:00:00  22.233333        756.9  ...      15.6       NaN\n",
              "2018-12-31 23:00:00  20.000000        757.3  ...      17.3       NaN\n",
              "\n",
              "[4 rows x 9 columns]"
            ]
          },
          "metadata": {
            "tags": []
          },
          "execution_count": 12
        }
      ]
    },
    {
      "cell_type": "code",
      "metadata": {
        "id": "o67PoH_tdvXc",
        "colab_type": "code",
        "colab": {}
      },
      "source": [
        "#check some values\n",
        "print(cpt_air_inter.Rainfall.unique())"
      ],
      "execution_count": null,
      "outputs": []
    },
    {
      "cell_type": "code",
      "metadata": {
        "colab_type": "code",
        "id": "EE81Sh26u2YF",
        "colab": {
          "base_uri": "https://localhost:8080/",
          "height": 206
        },
        "outputId": "22fce2ec-e796-432e-aa12-7867fe61d86a"
      },
      "source": [
        "cpt_air_inter.tail(4)"
      ],
      "execution_count": null,
      "outputs": [
        {
          "output_type": "execute_result",
          "data": {
            "text/html": [
              "<div>\n",
              "<style scoped>\n",
              "    .dataframe tbody tr th:only-of-type {\n",
              "        vertical-align: middle;\n",
              "    }\n",
              "\n",
              "    .dataframe tbody tr th {\n",
              "        vertical-align: top;\n",
              "    }\n",
              "\n",
              "    .dataframe thead th {\n",
              "        text-align: right;\n",
              "    }\n",
              "</style>\n",
              "<table border=\"1\" class=\"dataframe\">\n",
              "  <thead>\n",
              "    <tr style=\"text-align: right;\">\n",
              "      <th></th>\n",
              "      <th>Air_temp</th>\n",
              "      <th>Atmos_press</th>\n",
              "      <th>Atmos_press_MeanSea</th>\n",
              "      <th>Humidity</th>\n",
              "      <th>MeanWindSpeed</th>\n",
              "      <th>Visibility</th>\n",
              "      <th>DewPoint</th>\n",
              "      <th>Rainfall</th>\n",
              "    </tr>\n",
              "    <tr>\n",
              "      <th>dt</th>\n",
              "      <th></th>\n",
              "      <th></th>\n",
              "      <th></th>\n",
              "      <th></th>\n",
              "      <th></th>\n",
              "      <th></th>\n",
              "      <th></th>\n",
              "      <th></th>\n",
              "    </tr>\n",
              "  </thead>\n",
              "  <tbody>\n",
              "    <tr>\n",
              "      <th>2018-12-31 20:00:00</th>\n",
              "      <td>26.700000</td>\n",
              "      <td>756.1</td>\n",
              "      <td>760.000000</td>\n",
              "      <td>41.000000</td>\n",
              "      <td>5.0</td>\n",
              "      <td>55.0</td>\n",
              "      <td>12.2</td>\n",
              "      <td>NaN</td>\n",
              "    </tr>\n",
              "    <tr>\n",
              "      <th>2018-12-31 21:00:00</th>\n",
              "      <td>24.466667</td>\n",
              "      <td>756.5</td>\n",
              "      <td>760.433333</td>\n",
              "      <td>55.666667</td>\n",
              "      <td>5.0</td>\n",
              "      <td>50.0</td>\n",
              "      <td>13.9</td>\n",
              "      <td>NaN</td>\n",
              "    </tr>\n",
              "    <tr>\n",
              "      <th>2018-12-31 22:00:00</th>\n",
              "      <td>22.233333</td>\n",
              "      <td>756.9</td>\n",
              "      <td>760.866667</td>\n",
              "      <td>70.333333</td>\n",
              "      <td>5.0</td>\n",
              "      <td>45.0</td>\n",
              "      <td>15.6</td>\n",
              "      <td>NaN</td>\n",
              "    </tr>\n",
              "    <tr>\n",
              "      <th>2018-12-31 23:00:00</th>\n",
              "      <td>20.000000</td>\n",
              "      <td>757.3</td>\n",
              "      <td>761.300000</td>\n",
              "      <td>85.000000</td>\n",
              "      <td>5.0</td>\n",
              "      <td>40.0</td>\n",
              "      <td>17.3</td>\n",
              "      <td>NaN</td>\n",
              "    </tr>\n",
              "  </tbody>\n",
              "</table>\n",
              "</div>"
            ],
            "text/plain": [
              "                      Air_temp  Atmos_press  ...  DewPoint  Rainfall\n",
              "dt                                           ...                    \n",
              "2018-12-31 20:00:00  26.700000        756.1  ...      12.2       NaN\n",
              "2018-12-31 21:00:00  24.466667        756.5  ...      13.9       NaN\n",
              "2018-12-31 22:00:00  22.233333        756.9  ...      15.6       NaN\n",
              "2018-12-31 23:00:00  20.000000        757.3  ...      17.3       NaN\n",
              "\n",
              "[4 rows x 8 columns]"
            ]
          },
          "metadata": {
            "tags": []
          },
          "execution_count": 17
        }
      ]
    },
    {
      "cell_type": "markdown",
      "metadata": {
        "colab_type": "text",
        "id": "f3VD76ZOtp9u"
      },
      "source": [
        "#### Lets create some graphs to understand the data a bit better"
      ]
    },
    {
      "cell_type": "code",
      "metadata": {
        "colab_type": "code",
        "id": "zAPa24FPuiW8",
        "colab": {
          "base_uri": "https://localhost:8080/",
          "height": 671
        },
        "outputId": "19dd26d2-e5ea-4a98-9202-d608a324c893"
      },
      "source": [
        "fig, axes = plt.subplots(ncols = 1, nrows = 8, figsize=(17, 11))\n",
        "\n",
        "cols_plot = ['Air_temp', 'Atmos_press', 'Atmos_press_MeanSea', 'Humidity', 'MeanWindSpeed', 'Visibility', \n",
        "             'DewPoint', 'Rainfall']\n",
        "cpt_air_inter[cols_plot].plot(ax=axes, marker='.', alpha=0.5, linestyle='-', subplots=True)\n",
        "plt.subplots_adjust(hspace = 0.8, wspace= 0.3)\n",
        "plt.show()"
      ],
      "execution_count": null,
      "outputs": [
        {
          "output_type": "display_data",
          "data": {
            "image/png": "[encoded data removed]",
            "text/plain": [
              "<Figure size 1224x792 with 8 Axes>"
            ]
          },
          "metadata": {
            "tags": [],
            "needs_background": "light"
          }
        }
      ]
    },
    {
      "cell_type": "markdown",
      "metadata": {
        "colab_type": "text",
        "id": "GflEm9ePvz-K"
      },
      "source": [
        "#### Its a bit noisy. Lets look at two slices of time, three days in Summer (Feb.) and three in Winter (Jul)."
      ]
    },
    {
      "cell_type": "code",
      "metadata": {
        "colab_type": "code",
        "id": "t1YWlt-pwDEb",
        "colab": {
          "base_uri": "https://localhost:8080/",
          "height": 444
        },
        "outputId": "3cb0a112-5347-415c-a5f2-48a6560dbbfb"
      },
      "source": [
        "sum_start, sum_end = '2017-02-08', '2017-02-12'\n",
        "win_start, win_end = '2017-07-19', '2017-07-23'\n",
        "\n",
        "# Plot daily and weekly resampled time series together\n",
        "fig, ((ax1,ax2),(ax3,ax4),(ax5,ax6)) = plt.subplots(nrows=3, ncols=2, figsize=(17,7))\n",
        "\n",
        "ax1.plot(cpt_air_inter.loc[sum_start:sum_end, 'Air_temp'], color= 'red', linestyle='-',marker='.')\n",
        "ax1.set_title('Summer Air Temp')\n",
        "\n",
        "ax2.plot(cpt_air_inter.loc[win_start:win_end, 'Air_temp'],marker='.',  color = 'orange')\n",
        "ax2.set_title('Winter Air Temp')\n",
        "\n",
        "ax3.plot(cpt_air_inter.loc[sum_start:sum_end, 'Rainfall'], marker='.', linestyle='-', color = 'blue')\n",
        "ax3.set_title('Summer Rainfall')\n",
        "\n",
        "ax4.plot(cpt_air_inter.loc[win_start:win_end, 'Rainfall'], marker='.', linestyle='-', color = 'navy')\n",
        "ax4.set_title('Winter Rainfall')\n",
        "\n",
        "ax5.plot(cpt_air_inter.loc[sum_start:sum_end, 'Visibility'], marker='.', linestyle='-', color = 'brown')\n",
        "ax5.set_title('Summer Visibility')\n",
        "\n",
        "ax6.plot(cpt_air_inter.loc[win_start:win_end, 'Visibility'], marker='.', linestyle='-', color = 'brown')\n",
        "ax6.set_title('Winter Visibility')\n",
        "\n",
        "plt.subplots_adjust(hspace = 0.8, wspace= 0.3)\n",
        "\n",
        "plt.show()"
      ],
      "execution_count": null,
      "outputs": [
        {
          "output_type": "display_data",
          "data": {
            "image/png": "[encoded data removed]",
            "text/plain": [
              "<Figure size 1224x504 with 6 Axes>"
            ]
          },
          "metadata": {
            "tags": [],
            "needs_background": "light"
          }
        }
      ]
    },
    {
      "cell_type": "markdown",
      "metadata": {
        "id": "64klMvnOnDKc",
        "colab_type": "text"
      },
      "source": [
        "#### We can see the effect of restricting the interpolation to fill one ```NaN``` in either direction.  The gaps are *'narrower'* but still represent the general trend. I feel this is better.\n"
      ]
    },
    {
      "cell_type": "code",
      "metadata": {
        "colab_type": "code",
        "id": "0cXrdELvyOpe",
        "colab": {}
      },
      "source": [
        "#reset index\n",
        "cpt_air_inter.reset_index(inplace=True)\n",
        "\n",
        "# add a column to identify the weather station\n",
        "cpt_air_inter['Weather_Stn'] = 'Cape_Town_International'"
      ],
      "execution_count": null,
      "outputs": []
    },
    {
      "cell_type": "code",
      "metadata": {
        "colab_type": "code",
        "id": "3q0ZhwrdBsXn",
        "colab": {
          "base_uri": "https://localhost:8080/",
          "height": 144
        },
        "outputId": "b0195cde-4c79-4995-dcfc-a7aabb322c31"
      },
      "source": [
        "#have a look\n",
        "cpt_air_inter.head(3)"
      ],
      "execution_count": null,
      "outputs": [
        {
          "output_type": "execute_result",
          "data": {
            "text/html": [
              "<div>\n",
              "<style scoped>\n",
              "    .dataframe tbody tr th:only-of-type {\n",
              "        vertical-align: middle;\n",
              "    }\n",
              "\n",
              "    .dataframe tbody tr th {\n",
              "        vertical-align: top;\n",
              "    }\n",
              "\n",
              "    .dataframe thead th {\n",
              "        text-align: right;\n",
              "    }\n",
              "</style>\n",
              "<table border=\"1\" class=\"dataframe\">\n",
              "  <thead>\n",
              "    <tr style=\"text-align: right;\">\n",
              "      <th></th>\n",
              "      <th>dt</th>\n",
              "      <th>Air_temp</th>\n",
              "      <th>Atmos_press</th>\n",
              "      <th>Atmos_press_MeanSea</th>\n",
              "      <th>PressureTendency</th>\n",
              "      <th>Humidity</th>\n",
              "      <th>MeanWindSpeed</th>\n",
              "      <th>Visibility</th>\n",
              "      <th>DewPoint</th>\n",
              "      <th>Rainfall</th>\n",
              "      <th>Weather_Stn</th>\n",
              "    </tr>\n",
              "  </thead>\n",
              "  <tbody>\n",
              "    <tr>\n",
              "      <th>0</th>\n",
              "      <td>2017-01-01 02:00:00</td>\n",
              "      <td>21.400000</td>\n",
              "      <td>755.700000</td>\n",
              "      <td>759.700000</td>\n",
              "      <td>-1.500000</td>\n",
              "      <td>70.000000</td>\n",
              "      <td>5.000000</td>\n",
              "      <td>30.000000</td>\n",
              "      <td>15.7</td>\n",
              "      <td>NaN</td>\n",
              "      <td>Cape_Town_International</td>\n",
              "    </tr>\n",
              "    <tr>\n",
              "      <th>1</th>\n",
              "      <td>2017-01-01 03:00:00</td>\n",
              "      <td>20.966667</td>\n",
              "      <td>755.433333</td>\n",
              "      <td>759.466667</td>\n",
              "      <td>-1.266667</td>\n",
              "      <td>72.333333</td>\n",
              "      <td>4.666667</td>\n",
              "      <td>26.666667</td>\n",
              "      <td>15.8</td>\n",
              "      <td>NaN</td>\n",
              "      <td>Cape_Town_International</td>\n",
              "    </tr>\n",
              "    <tr>\n",
              "      <th>2</th>\n",
              "      <td>2017-01-01 04:00:00</td>\n",
              "      <td>20.533333</td>\n",
              "      <td>755.166667</td>\n",
              "      <td>759.233333</td>\n",
              "      <td>-1.033333</td>\n",
              "      <td>74.666667</td>\n",
              "      <td>4.333333</td>\n",
              "      <td>23.333333</td>\n",
              "      <td>15.9</td>\n",
              "      <td>NaN</td>\n",
              "      <td>Cape_Town_International</td>\n",
              "    </tr>\n",
              "  </tbody>\n",
              "</table>\n",
              "</div>"
            ],
            "text/plain": [
              "                   dt   Air_temp  ...  Rainfall              Weather_Stn\n",
              "0 2017-01-01 02:00:00  21.400000  ...       NaN  Cape_Town_International\n",
              "1 2017-01-01 03:00:00  20.966667  ...       NaN  Cape_Town_International\n",
              "2 2017-01-01 04:00:00  20.533333  ...       NaN  Cape_Town_International\n",
              "\n",
              "[3 rows x 11 columns]"
            ]
          },
          "metadata": {
            "tags": []
          },
          "execution_count": 16
        }
      ]
    },
    {
      "cell_type": "code",
      "metadata": {
        "id": "15sDvVSlrWXh",
        "colab_type": "code",
        "colab": {
          "base_uri": "https://localhost:8080/",
          "height": 36
        },
        "outputId": "c8caca92-9af2-412a-b6d4-9339ae97918a"
      },
      "source": [
        "cpt_air_inter.shape"
      ],
      "execution_count": null,
      "outputs": [
        {
          "output_type": "execute_result",
          "data": {
            "text/plain": [
              "(17518, 11)"
            ]
          },
          "metadata": {
            "tags": []
          },
          "execution_count": 17
        }
      ]
    },
    {
      "cell_type": "markdown",
      "metadata": {
        "id": "Pruyfwc78Yo0",
        "colab_type": "text"
      },
      "source": [
        "#### Now the other weather stations"
      ]
    },
    {
      "cell_type": "code",
      "metadata": {
        "colab_type": "code",
        "id": "F0RPxGY1Tu1S",
        "colab": {
          "base_uri": "https://localhost:8080/",
          "height": 144
        },
        "outputId": "8c9275c0-c0f9-40e9-d16d-aaceb5f69b54"
      },
      "source": [
        "#read the molteno weather station data\n",
        "mol_weat = pd.read_csv(path/'data/weather/molteno_weather.csv', sep = ';', skiprows=6, usecols=range(29),\n",
        "                      parse_dates = ['Local time in Cape Town / Molteno Reservoir'])\n",
        "#rename some columns\n",
        "mol_weat.rename(columns={'Local time in Cape Town / Molteno Reservoir': 'dt', 'T': 'Air_temp','Po': 'Atmos_press', \n",
        "                        'P': 'Atmos_press_MeanSea', 'U': 'Humidity', 'Pa': 'PressureTendency', 'Ff': 'MeanWindSpeed', \n",
        "                        'VV': 'Visibility','Td':'DewPoint', 'RRR': 'Rainfall'}, inplace=True)\n",
        "\n",
        "#delete some columns\n",
        "mol_weat.drop(['DD', 'ff10', 'ff3', 'N',  'WW','W1', 'W2', 'Tn', 'Tx', 'Cl', 'Nh', 'H', 'Cm', 'Ch',\n",
        "              'tR', 'E', 'Tg', 'E_' ,'sss',], axis=1, inplace=True)\n",
        "mol_weat.head(3)"
      ],
      "execution_count": null,
      "outputs": [
        {
          "output_type": "execute_result",
          "data": {
            "text/html": [
              "<div>\n",
              "<style scoped>\n",
              "    .dataframe tbody tr th:only-of-type {\n",
              "        vertical-align: middle;\n",
              "    }\n",
              "\n",
              "    .dataframe tbody tr th {\n",
              "        vertical-align: top;\n",
              "    }\n",
              "\n",
              "    .dataframe thead th {\n",
              "        text-align: right;\n",
              "    }\n",
              "</style>\n",
              "<table border=\"1\" class=\"dataframe\">\n",
              "  <thead>\n",
              "    <tr style=\"text-align: right;\">\n",
              "      <th></th>\n",
              "      <th>dt</th>\n",
              "      <th>Air_temp</th>\n",
              "      <th>Atmos_press</th>\n",
              "      <th>Atmos_press_MeanSea</th>\n",
              "      <th>PressureTendency</th>\n",
              "      <th>Humidity</th>\n",
              "      <th>MeanWindSpeed</th>\n",
              "      <th>Visibility</th>\n",
              "      <th>DewPoint</th>\n",
              "      <th>Rainfall</th>\n",
              "    </tr>\n",
              "  </thead>\n",
              "  <tbody>\n",
              "    <tr>\n",
              "      <th>0</th>\n",
              "      <td>2018-12-31 23:00:00</td>\n",
              "      <td>20.3</td>\n",
              "      <td>752.7</td>\n",
              "      <td>NaN</td>\n",
              "      <td>1.2</td>\n",
              "      <td>70</td>\n",
              "      <td>0</td>\n",
              "      <td>NaN</td>\n",
              "      <td>14.7</td>\n",
              "      <td>NaN</td>\n",
              "    </tr>\n",
              "    <tr>\n",
              "      <th>1</th>\n",
              "      <td>2018-12-31 20:00:00</td>\n",
              "      <td>22.9</td>\n",
              "      <td>751.5</td>\n",
              "      <td>NaN</td>\n",
              "      <td>1.4</td>\n",
              "      <td>62</td>\n",
              "      <td>2</td>\n",
              "      <td>NaN</td>\n",
              "      <td>15.1</td>\n",
              "      <td>NaN</td>\n",
              "    </tr>\n",
              "    <tr>\n",
              "      <th>2</th>\n",
              "      <td>2018-12-31 17:00:00</td>\n",
              "      <td>26.7</td>\n",
              "      <td>750.1</td>\n",
              "      <td>NaN</td>\n",
              "      <td>-0.9</td>\n",
              "      <td>40</td>\n",
              "      <td>4</td>\n",
              "      <td>NaN</td>\n",
              "      <td>11.8</td>\n",
              "      <td>NaN</td>\n",
              "    </tr>\n",
              "  </tbody>\n",
              "</table>\n",
              "</div>"
            ],
            "text/plain": [
              "                   dt  Air_temp  Atmos_press  ...  Visibility  DewPoint  Rainfall\n",
              "0 2018-12-31 23:00:00      20.3        752.7  ...         NaN      14.7       NaN\n",
              "1 2018-12-31 20:00:00      22.9        751.5  ...         NaN      15.1       NaN\n",
              "2 2018-12-31 17:00:00      26.7        750.1  ...         NaN      11.8       NaN\n",
              "\n",
              "[3 rows x 10 columns]"
            ]
          },
          "metadata": {
            "tags": []
          },
          "execution_count": 18
        }
      ]
    },
    {
      "cell_type": "code",
      "metadata": {
        "colab_type": "code",
        "id": "8Ht4lCwnU3C-",
        "colab": {
          "base_uri": "https://localhost:8080/",
          "height": 333
        },
        "outputId": "f90185bc-22bf-4c4a-d7f4-11ce893e5125"
      },
      "source": [
        "mol_weat.info()"
      ],
      "execution_count": null,
      "outputs": [
        {
          "output_type": "stream",
          "text": [
            "<class 'pandas.core.frame.DataFrame'>\n",
            "RangeIndex: 5512 entries, 0 to 5511\n",
            "Data columns (total 10 columns):\n",
            " #   Column               Non-Null Count  Dtype         \n",
            "---  ------               --------------  -----         \n",
            " 0   dt                   5512 non-null   datetime64[ns]\n",
            " 1   Air_temp             5512 non-null   float64       \n",
            " 2   Atmos_press          5512 non-null   float64       \n",
            " 3   Atmos_press_MeanSea  0 non-null      float64       \n",
            " 4   PressureTendency     5320 non-null   float64       \n",
            " 5   Humidity             5512 non-null   int64         \n",
            " 6   MeanWindSpeed        5512 non-null   int64         \n",
            " 7   Visibility           0 non-null      float64       \n",
            " 8   DewPoint             5512 non-null   float64       \n",
            " 9   Rainfall             690 non-null    float64       \n",
            "dtypes: datetime64[ns](1), float64(7), int64(2)\n",
            "memory usage: 430.8 KB\n"
          ],
          "name": "stdout"
        }
      ]
    },
    {
      "cell_type": "code",
      "metadata": {
        "colab_type": "code",
        "id": "dlCjxQX6VLHq",
        "colab": {
          "base_uri": "https://localhost:8080/",
          "height": 222
        },
        "outputId": "da1bc99d-7d36-45db-8df2-1cc7c1211f2b"
      },
      "source": [
        "mol_weat.isnull().sum(axis = 0)"
      ],
      "execution_count": null,
      "outputs": [
        {
          "output_type": "execute_result",
          "data": {
            "text/plain": [
              "dt                        0\n",
              "Air_temp                  0\n",
              "Atmos_press               0\n",
              "Atmos_press_MeanSea    5512\n",
              "PressureTendency        192\n",
              "Humidity                  0\n",
              "MeanWindSpeed             0\n",
              "Visibility             5512\n",
              "DewPoint                  0\n",
              "Rainfall               4822\n",
              "dtype: int64"
            ]
          },
          "metadata": {
            "tags": []
          },
          "execution_count": 30
        }
      ]
    },
    {
      "cell_type": "code",
      "metadata": {
        "colab_type": "code",
        "id": "JfPMW-QTVRTR",
        "colab": {
          "base_uri": "https://localhost:8080/",
          "height": 72
        },
        "outputId": "6229b4d4-7594-4b2c-d6f1-f7113e95c38e"
      },
      "source": [
        "#check some values\n",
        "mol_weat.Rainfall.unique()"
      ],
      "execution_count": null,
      "outputs": [
        {
          "output_type": "execute_result",
          "data": {
            "text/plain": [
              "array([ nan,  1. ,  0.2,  3. ,  7. ,  9. ,  0.6,  0.4, 14. ,  0.8,  2. ,\n",
              "        4. ,  5. ,  8. ,  6. , 20. , 18. , 17. , 12. , 27. , 24. , 13. ,\n",
              "       11. , 31. , 23. , 21. , 30. , 29. , 16. , 10. , 26. , 19. , 15. ])"
            ]
          },
          "metadata": {
            "tags": []
          },
          "execution_count": 150
        }
      ]
    },
    {
      "cell_type": "code",
      "metadata": {
        "colab_type": "code",
        "id": "9YUe-2MoVinZ",
        "colab": {
          "base_uri": "https://localhost:8080/",
          "height": 144
        },
        "outputId": "0c459feb-6fd1-46a7-849b-ec0c30168dc4"
      },
      "source": [
        "#set as datetime index\n",
        "mol_weat = mol_weat.set_index(pd.DatetimeIndex(mol_weat['dt']))\n",
        "\n",
        "#resample to every hour\n",
        "mol_weat_h = mol_weat.resample('H', on='dt').mean()\n",
        "\n",
        "# linear interpolation in both directions and fill only one consecutive NaN\n",
        "mol_weat_inter = mol_weat_h[columns].interpolate(limit_direction = 'both', method='linear', limit = 1)\n",
        "\n",
        "#reset index\n",
        "mol_weat_inter.reset_index(inplace=True)\n",
        "# add a column to identify the weather station and create a join field \n",
        "mol_weat_inter['Weather_Stn'] = 'Molteno'\n",
        "#have a look\n",
        "mol_weat_inter.head(3)"
      ],
      "execution_count": null,
      "outputs": [
        {
          "output_type": "execute_result",
          "data": {
            "text/html": [
              "<div>\n",
              "<style scoped>\n",
              "    .dataframe tbody tr th:only-of-type {\n",
              "        vertical-align: middle;\n",
              "    }\n",
              "\n",
              "    .dataframe tbody tr th {\n",
              "        vertical-align: top;\n",
              "    }\n",
              "\n",
              "    .dataframe thead th {\n",
              "        text-align: right;\n",
              "    }\n",
              "</style>\n",
              "<table border=\"1\" class=\"dataframe\">\n",
              "  <thead>\n",
              "    <tr style=\"text-align: right;\">\n",
              "      <th></th>\n",
              "      <th>dt</th>\n",
              "      <th>Air_temp</th>\n",
              "      <th>Atmos_press</th>\n",
              "      <th>Atmos_press_MeanSea</th>\n",
              "      <th>PressureTendency</th>\n",
              "      <th>Humidity</th>\n",
              "      <th>MeanWindSpeed</th>\n",
              "      <th>Visibility</th>\n",
              "      <th>DewPoint</th>\n",
              "      <th>Rainfall</th>\n",
              "      <th>Weather_Stn</th>\n",
              "    </tr>\n",
              "  </thead>\n",
              "  <tbody>\n",
              "    <tr>\n",
              "      <th>0</th>\n",
              "      <td>2017-01-01 02:00:00</td>\n",
              "      <td>22.000000</td>\n",
              "      <td>750.900000</td>\n",
              "      <td>NaN</td>\n",
              "      <td>-1.000000</td>\n",
              "      <td>64.000000</td>\n",
              "      <td>2.000000</td>\n",
              "      <td>NaN</td>\n",
              "      <td>14.900000</td>\n",
              "      <td>NaN</td>\n",
              "      <td>Molteno</td>\n",
              "    </tr>\n",
              "    <tr>\n",
              "      <th>1</th>\n",
              "      <td>2017-01-01 03:00:00</td>\n",
              "      <td>21.466667</td>\n",
              "      <td>750.733333</td>\n",
              "      <td>NaN</td>\n",
              "      <td>-0.833333</td>\n",
              "      <td>66.333333</td>\n",
              "      <td>1.333333</td>\n",
              "      <td>NaN</td>\n",
              "      <td>14.933333</td>\n",
              "      <td>NaN</td>\n",
              "      <td>Molteno</td>\n",
              "    </tr>\n",
              "    <tr>\n",
              "      <th>2</th>\n",
              "      <td>2017-01-01 04:00:00</td>\n",
              "      <td>20.933333</td>\n",
              "      <td>750.566667</td>\n",
              "      <td>NaN</td>\n",
              "      <td>-0.666667</td>\n",
              "      <td>68.666667</td>\n",
              "      <td>0.666667</td>\n",
              "      <td>NaN</td>\n",
              "      <td>14.966667</td>\n",
              "      <td>NaN</td>\n",
              "      <td>Molteno</td>\n",
              "    </tr>\n",
              "  </tbody>\n",
              "</table>\n",
              "</div>"
            ],
            "text/plain": [
              "                   dt   Air_temp  Atmos_press  ...   DewPoint  Rainfall  Weather_Stn\n",
              "0 2017-01-01 02:00:00  22.000000   750.900000  ...  14.900000       NaN      Molteno\n",
              "1 2017-01-01 03:00:00  21.466667   750.733333  ...  14.933333       NaN      Molteno\n",
              "2 2017-01-01 04:00:00  20.933333   750.566667  ...  14.966667       NaN      Molteno\n",
              "\n",
              "[3 rows x 11 columns]"
            ]
          },
          "metadata": {
            "tags": []
          },
          "execution_count": 20
        }
      ]
    },
    {
      "cell_type": "code",
      "metadata": {
        "id": "P-q6aIv4R4mD",
        "colab_type": "code",
        "colab": {
          "base_uri": "https://localhost:8080/",
          "height": 144
        },
        "outputId": "7b2d4190-c598-4b12-e486-4e1c237db48a"
      },
      "source": [
        "mol_weat_inter.tail(3)"
      ],
      "execution_count": null,
      "outputs": [
        {
          "output_type": "execute_result",
          "data": {
            "text/html": [
              "<div>\n",
              "<style scoped>\n",
              "    .dataframe tbody tr th:only-of-type {\n",
              "        vertical-align: middle;\n",
              "    }\n",
              "\n",
              "    .dataframe tbody tr th {\n",
              "        vertical-align: top;\n",
              "    }\n",
              "\n",
              "    .dataframe thead th {\n",
              "        text-align: right;\n",
              "    }\n",
              "</style>\n",
              "<table border=\"1\" class=\"dataframe\">\n",
              "  <thead>\n",
              "    <tr style=\"text-align: right;\">\n",
              "      <th></th>\n",
              "      <th>dt</th>\n",
              "      <th>Air_temp</th>\n",
              "      <th>Atmos_press</th>\n",
              "      <th>Atmos_press_MeanSea</th>\n",
              "      <th>PressureTendency</th>\n",
              "      <th>Humidity</th>\n",
              "      <th>MeanWindSpeed</th>\n",
              "      <th>Visibility</th>\n",
              "      <th>DewPoint</th>\n",
              "      <th>Rainfall</th>\n",
              "      <th>Weather_Stn</th>\n",
              "    </tr>\n",
              "  </thead>\n",
              "  <tbody>\n",
              "    <tr>\n",
              "      <th>17515</th>\n",
              "      <td>2018-12-31 21:00:00</td>\n",
              "      <td>22.033333</td>\n",
              "      <td>751.9</td>\n",
              "      <td>NaN</td>\n",
              "      <td>1.333333</td>\n",
              "      <td>64.666667</td>\n",
              "      <td>1.333333</td>\n",
              "      <td>NaN</td>\n",
              "      <td>14.966667</td>\n",
              "      <td>NaN</td>\n",
              "      <td>Molteno</td>\n",
              "    </tr>\n",
              "    <tr>\n",
              "      <th>17516</th>\n",
              "      <td>2018-12-31 22:00:00</td>\n",
              "      <td>21.166667</td>\n",
              "      <td>752.3</td>\n",
              "      <td>NaN</td>\n",
              "      <td>1.266667</td>\n",
              "      <td>67.333333</td>\n",
              "      <td>0.666667</td>\n",
              "      <td>NaN</td>\n",
              "      <td>14.833333</td>\n",
              "      <td>NaN</td>\n",
              "      <td>Molteno</td>\n",
              "    </tr>\n",
              "    <tr>\n",
              "      <th>17517</th>\n",
              "      <td>2018-12-31 23:00:00</td>\n",
              "      <td>20.300000</td>\n",
              "      <td>752.7</td>\n",
              "      <td>NaN</td>\n",
              "      <td>1.200000</td>\n",
              "      <td>70.000000</td>\n",
              "      <td>0.000000</td>\n",
              "      <td>NaN</td>\n",
              "      <td>14.700000</td>\n",
              "      <td>NaN</td>\n",
              "      <td>Molteno</td>\n",
              "    </tr>\n",
              "  </tbody>\n",
              "</table>\n",
              "</div>"
            ],
            "text/plain": [
              "                       dt   Air_temp  ...  Rainfall  Weather_Stn\n",
              "17515 2018-12-31 21:00:00  22.033333  ...       NaN      Molteno\n",
              "17516 2018-12-31 22:00:00  21.166667  ...       NaN      Molteno\n",
              "17517 2018-12-31 23:00:00  20.300000  ...       NaN      Molteno\n",
              "\n",
              "[3 rows x 11 columns]"
            ]
          },
          "metadata": {
            "tags": []
          },
          "execution_count": 21
        }
      ]
    },
    {
      "cell_type": "markdown",
      "metadata": {
        "id": "Gn29ef0q8YpS",
        "colab_type": "text"
      },
      "source": [
        "#### Lets create a ```weather``` df that contains all the weather"
      ]
    },
    {
      "cell_type": "code",
      "metadata": {
        "colab_type": "code",
        "id": "bGoCUAmMXfb4",
        "colab": {
          "base_uri": "https://localhost:8080/",
          "height": 73
        },
        "outputId": "67cf6fc1-96ab-401b-a2f8-68ba5b4fecfd"
      },
      "source": [
        "weather = cpt_air_inter.append(mol_weat_inter)\n",
        "#check some values\n",
        "print(weather.Weather_Stn.unique())\n",
        "print('')\n",
        "print(weather.shape)\n",
        "#weather.head(2)"
      ],
      "execution_count": null,
      "outputs": [
        {
          "output_type": "stream",
          "text": [
            "['Cape_Town_International' 'Molteno']\n",
            "\n",
            "(35036, 11)\n"
          ],
          "name": "stdout"
        }
      ]
    },
    {
      "cell_type": "markdown",
      "metadata": {
        "id": "Ooqg-A4M8YpX",
        "colab_type": "text"
      },
      "source": [
        "#### Now the next"
      ]
    },
    {
      "cell_type": "code",
      "metadata": {
        "colab_type": "code",
        "id": "Fez5jMLlX5zo",
        "colab": {
          "base_uri": "https://localhost:8080/",
          "height": 144
        },
        "outputId": "ae46140b-fe96-427b-b5e3-05966472d447"
      },
      "source": [
        "#read the ysterplaat weather station data\n",
        "yster_weat = pd.read_csv(path/'data/weather/yster_weath.csv', sep = ';', skiprows=6, usecols=range(29),\n",
        "                      parse_dates = ['Local time in Ysterplaat (airbase)'])\n",
        "#rename some columns\n",
        "yster_weat.rename(columns={'Local time in Ysterplaat (airbase)': 'dt', 'T': 'Air_temp','Po': 'Atmos_press', \n",
        "                           'P': 'Atmos_press_MeanSea', 'U': 'Humidity', 'Pa': 'PressureTendency', \n",
        "                           'Ff': 'MeanWindSpeed', 'VV': 'Visibility','Td':'DewPoint', 'RRR': 'Rainfall'},\n",
        "                  inplace=True)\n",
        "\n",
        "#delete some columns\n",
        "yster_weat.drop(['DD', 'ff10', 'ff3', 'N',  'WW','W1', 'W2', 'Tn', 'Tx', 'Cl', 'Nh', 'H', 'Cm', 'Ch',\n",
        "              'tR', 'E', 'Tg', 'E_' ,'sss',], axis=1, inplace=True)\n",
        "yster_weat.head(3)"
      ],
      "execution_count": null,
      "outputs": [
        {
          "output_type": "execute_result",
          "data": {
            "text/html": [
              "<div>\n",
              "<style scoped>\n",
              "    .dataframe tbody tr th:only-of-type {\n",
              "        vertical-align: middle;\n",
              "    }\n",
              "\n",
              "    .dataframe tbody tr th {\n",
              "        vertical-align: top;\n",
              "    }\n",
              "\n",
              "    .dataframe thead th {\n",
              "        text-align: right;\n",
              "    }\n",
              "</style>\n",
              "<table border=\"1\" class=\"dataframe\">\n",
              "  <thead>\n",
              "    <tr style=\"text-align: right;\">\n",
              "      <th></th>\n",
              "      <th>dt</th>\n",
              "      <th>Air_temp</th>\n",
              "      <th>Atmos_press</th>\n",
              "      <th>Atmos_press_MeanSea</th>\n",
              "      <th>PressureTendency</th>\n",
              "      <th>Humidity</th>\n",
              "      <th>MeanWindSpeed</th>\n",
              "      <th>Visibility</th>\n",
              "      <th>DewPoint</th>\n",
              "      <th>Rainfall</th>\n",
              "    </tr>\n",
              "  </thead>\n",
              "  <tbody>\n",
              "    <tr>\n",
              "      <th>0</th>\n",
              "      <td>2018-12-31 23:00:00</td>\n",
              "      <td>26.8</td>\n",
              "      <td>731.5</td>\n",
              "      <td>NaN</td>\n",
              "      <td>1.2</td>\n",
              "      <td>28.0</td>\n",
              "      <td>2</td>\n",
              "      <td>NaN</td>\n",
              "      <td>7.0</td>\n",
              "      <td>NaN</td>\n",
              "    </tr>\n",
              "    <tr>\n",
              "      <th>1</th>\n",
              "      <td>2018-12-31 20:00:00</td>\n",
              "      <td>29.8</td>\n",
              "      <td>730.3</td>\n",
              "      <td>NaN</td>\n",
              "      <td>3.1</td>\n",
              "      <td>32.0</td>\n",
              "      <td>4</td>\n",
              "      <td>NaN</td>\n",
              "      <td>11.6</td>\n",
              "      <td>NaN</td>\n",
              "    </tr>\n",
              "    <tr>\n",
              "      <th>2</th>\n",
              "      <td>2018-12-31 17:00:00</td>\n",
              "      <td>40.6</td>\n",
              "      <td>727.2</td>\n",
              "      <td>NaN</td>\n",
              "      <td>NaN</td>\n",
              "      <td>15.0</td>\n",
              "      <td>5</td>\n",
              "      <td>NaN</td>\n",
              "      <td>9.5</td>\n",
              "      <td>NaN</td>\n",
              "    </tr>\n",
              "  </tbody>\n",
              "</table>\n",
              "</div>"
            ],
            "text/plain": [
              "                   dt  Air_temp  Atmos_press  ...  Visibility  DewPoint  Rainfall\n",
              "0 2018-12-31 23:00:00      26.8        731.5  ...         NaN       7.0       NaN\n",
              "1 2018-12-31 20:00:00      29.8        730.3  ...         NaN      11.6       NaN\n",
              "2 2018-12-31 17:00:00      40.6        727.2  ...         NaN       9.5       NaN\n",
              "\n",
              "[3 rows x 10 columns]"
            ]
          },
          "metadata": {
            "tags": []
          },
          "execution_count": 23
        }
      ]
    },
    {
      "cell_type": "code",
      "metadata": {
        "colab_type": "code",
        "id": "KQHQpj5UcIZV",
        "colab": {
          "base_uri": "https://localhost:8080/",
          "height": 329
        },
        "outputId": "e6f61e20-2d03-42b4-ac7a-b43f23057ece"
      },
      "source": [
        "yster_weat.info()"
      ],
      "execution_count": null,
      "outputs": [
        {
          "output_type": "stream",
          "text": [
            "<class 'pandas.core.frame.DataFrame'>\n",
            "RangeIndex: 5246 entries, 0 to 5245\n",
            "Data columns (total 10 columns):\n",
            " #   Column                              Non-Null Count  Dtype         \n",
            "---  ------                              --------------  -----         \n",
            " 0   Local time in Ysterplaat (airbase)  5246 non-null   datetime64[ns]\n",
            " 1   Air_temp                            5224 non-null   float64       \n",
            " 2   Atmos_press                         5246 non-null   float64       \n",
            " 3   Atmos_press_MeanSea                 0 non-null      float64       \n",
            " 4   PressureTendency                    4790 non-null   float64       \n",
            " 5   Humidity                            5224 non-null   float64       \n",
            " 6   MeanWindSpeed                       5246 non-null   int64         \n",
            " 7   Visibility                          1636 non-null   object        \n",
            " 8   DewPoint                            5224 non-null   float64       \n",
            " 9   Rainfall                            367 non-null    float64       \n",
            "dtypes: datetime64[ns](1), float64(7), int64(1), object(1)\n",
            "memory usage: 410.0+ KB\n"
          ],
          "name": "stdout"
        }
      ]
    },
    {
      "cell_type": "code",
      "metadata": {
        "colab_type": "code",
        "id": "nl9FJYMccP1B",
        "colab": {
          "base_uri": "https://localhost:8080/",
          "height": 222
        },
        "outputId": "8290d1b4-62a5-4e18-f257-c077da8b04d4"
      },
      "source": [
        "yster_weat.isnull().sum(axis = 0)"
      ],
      "execution_count": null,
      "outputs": [
        {
          "output_type": "execute_result",
          "data": {
            "text/plain": [
              "dt                        0\n",
              "Air_temp                 22\n",
              "Atmos_press               0\n",
              "Atmos_press_MeanSea    5246\n",
              "PressureTendency        456\n",
              "Humidity                 22\n",
              "MeanWindSpeed             0\n",
              "Visibility             3610\n",
              "DewPoint                 22\n",
              "Rainfall               4879\n",
              "dtype: int64"
            ]
          },
          "metadata": {
            "tags": []
          },
          "execution_count": 34
        }
      ]
    },
    {
      "cell_type": "code",
      "metadata": {
        "colab_type": "code",
        "id": "34TwPolRcWRy",
        "colab": {
          "base_uri": "https://localhost:8080/",
          "height": 72
        },
        "outputId": "7b306c1b-8a97-4956-8ba4-f7edf469a009"
      },
      "source": [
        "#check some values\n",
        "yster_weat.Visibility.unique()"
      ],
      "execution_count": null,
      "outputs": [
        {
          "output_type": "execute_result",
          "data": {
            "text/plain": [
              "array([nan, '20.0', '10.0', '5.0', '2.0', '1.8', '4.5', '4.0', '0.7',\n",
              "       '3.0', 'less than 0.1', '0.5', '0.9', '1.2', '0.8', '28.0', '8.0'],\n",
              "      dtype=object)"
            ]
          },
          "metadata": {
            "tags": []
          },
          "execution_count": 160
        }
      ]
    },
    {
      "cell_type": "code",
      "metadata": {
        "colab_type": "code",
        "id": "_6yzIK-AcnmK",
        "colab": {}
      },
      "source": [
        "#change some text\n",
        "yster_weat.loc[yster_weat['Visibility'] ==  'less than 0.1', 'Visibility'] = 0.1\n",
        "\n",
        "#transform to numeric\n",
        "yster_weat[\"Visibility\"] = pd.to_numeric(yster_weat[\"Visibility\"])"
      ],
      "execution_count": null,
      "outputs": []
    },
    {
      "cell_type": "code",
      "metadata": {
        "colab_type": "code",
        "id": "710-aS2sdISt",
        "colab": {
          "base_uri": "https://localhost:8080/",
          "height": 144
        },
        "outputId": "dfd43022-9055-4ea5-8ca2-f007a3d9f6fd"
      },
      "source": [
        "#set as datetime index\n",
        "yster_weat = yster_weat.set_index(pd.DatetimeIndex(yster_weat['dt']))\n",
        "\n",
        "#resample to every hour\n",
        "yster_weat_h = yster_weat.resample('H', on='dt').mean()\n",
        "\n",
        "# linear interpolation in both directions and fill only one consecutive NaN\n",
        "yster_weat_inter = yster_weat_h[columns].interpolate(limit_direction = 'both', method='linear', limit = 1)\n",
        "\n",
        "#reset index\n",
        "yster_weat_inter.reset_index(inplace=True)\n",
        "# add a column to identify the weather station and create a join field \n",
        "yster_weat_inter['Weather_Stn'] = 'Ysterplaat'\n",
        "#have a look\n",
        "yster_weat_inter.head(3)"
      ],
      "execution_count": null,
      "outputs": [
        {
          "output_type": "execute_result",
          "data": {
            "text/html": [
              "<div>\n",
              "<style scoped>\n",
              "    .dataframe tbody tr th:only-of-type {\n",
              "        vertical-align: middle;\n",
              "    }\n",
              "\n",
              "    .dataframe tbody tr th {\n",
              "        vertical-align: top;\n",
              "    }\n",
              "\n",
              "    .dataframe thead th {\n",
              "        text-align: right;\n",
              "    }\n",
              "</style>\n",
              "<table border=\"1\" class=\"dataframe\">\n",
              "  <thead>\n",
              "    <tr style=\"text-align: right;\">\n",
              "      <th></th>\n",
              "      <th>dt</th>\n",
              "      <th>Air_temp</th>\n",
              "      <th>Atmos_press</th>\n",
              "      <th>Atmos_press_MeanSea</th>\n",
              "      <th>PressureTendency</th>\n",
              "      <th>Humidity</th>\n",
              "      <th>MeanWindSpeed</th>\n",
              "      <th>Visibility</th>\n",
              "      <th>DewPoint</th>\n",
              "      <th>Rainfall</th>\n",
              "      <th>Weather_Stn</th>\n",
              "    </tr>\n",
              "  </thead>\n",
              "  <tbody>\n",
              "    <tr>\n",
              "      <th>0</th>\n",
              "      <td>2017-01-01 02:00:00</td>\n",
              "      <td>19.600000</td>\n",
              "      <td>732.7</td>\n",
              "      <td>NaN</td>\n",
              "      <td>-0.700000</td>\n",
              "      <td>59.0</td>\n",
              "      <td>0.0</td>\n",
              "      <td>NaN</td>\n",
              "      <td>11.2</td>\n",
              "      <td>NaN</td>\n",
              "      <td>Ysterplaat</td>\n",
              "    </tr>\n",
              "    <tr>\n",
              "      <th>1</th>\n",
              "      <td>2017-01-01 03:00:00</td>\n",
              "      <td>18.833333</td>\n",
              "      <td>732.4</td>\n",
              "      <td>NaN</td>\n",
              "      <td>-0.766667</td>\n",
              "      <td>60.0</td>\n",
              "      <td>0.0</td>\n",
              "      <td>NaN</td>\n",
              "      <td>10.8</td>\n",
              "      <td>NaN</td>\n",
              "      <td>Ysterplaat</td>\n",
              "    </tr>\n",
              "    <tr>\n",
              "      <th>2</th>\n",
              "      <td>2017-01-01 04:00:00</td>\n",
              "      <td>18.066667</td>\n",
              "      <td>732.1</td>\n",
              "      <td>NaN</td>\n",
              "      <td>-0.833333</td>\n",
              "      <td>61.0</td>\n",
              "      <td>0.0</td>\n",
              "      <td>NaN</td>\n",
              "      <td>10.4</td>\n",
              "      <td>NaN</td>\n",
              "      <td>Ysterplaat</td>\n",
              "    </tr>\n",
              "  </tbody>\n",
              "</table>\n",
              "</div>"
            ],
            "text/plain": [
              "                   dt   Air_temp  Atmos_press  ...  DewPoint  Rainfall  Weather_Stn\n",
              "0 2017-01-01 02:00:00  19.600000        732.7  ...      11.2       NaN   Ysterplaat\n",
              "1 2017-01-01 03:00:00  18.833333        732.4  ...      10.8       NaN   Ysterplaat\n",
              "2 2017-01-01 04:00:00  18.066667        732.1  ...      10.4       NaN   Ysterplaat\n",
              "\n",
              "[3 rows x 11 columns]"
            ]
          },
          "metadata": {
            "tags": []
          },
          "execution_count": 25
        }
      ]
    },
    {
      "cell_type": "code",
      "metadata": {
        "colab_type": "code",
        "id": "QVl-U4aseOwO",
        "colab": {
          "base_uri": "https://localhost:8080/",
          "height": 73
        },
        "outputId": "3e5274d5-6efa-464f-c8ec-b4107ceee3ed"
      },
      "source": [
        "weather = weather.append(yster_weat_inter)\n",
        "#check some values\n",
        "print(weather.Weather_Stn.unique())\n",
        "print('')\n",
        "print(weather.shape)"
      ],
      "execution_count": null,
      "outputs": [
        {
          "output_type": "stream",
          "text": [
            "['Cape_Town_International' 'Molteno' 'Ysterplaat']\n",
            "\n",
            "(52554, 11)\n"
          ],
          "name": "stdout"
        }
      ]
    },
    {
      "cell_type": "code",
      "metadata": {
        "colab_type": "code",
        "id": "NAPrQ-VOeU1h",
        "colab": {
          "base_uri": "https://localhost:8080/",
          "height": 112
        },
        "outputId": "38ae8bd8-c104-4a61-8b67-5d8da4bf20ec"
      },
      "source": [
        "weather.tail(2)"
      ],
      "execution_count": null,
      "outputs": [
        {
          "output_type": "execute_result",
          "data": {
            "text/html": [
              "<div>\n",
              "<style scoped>\n",
              "    .dataframe tbody tr th:only-of-type {\n",
              "        vertical-align: middle;\n",
              "    }\n",
              "\n",
              "    .dataframe tbody tr th {\n",
              "        vertical-align: top;\n",
              "    }\n",
              "\n",
              "    .dataframe thead th {\n",
              "        text-align: right;\n",
              "    }\n",
              "</style>\n",
              "<table border=\"1\" class=\"dataframe\">\n",
              "  <thead>\n",
              "    <tr style=\"text-align: right;\">\n",
              "      <th></th>\n",
              "      <th>dt</th>\n",
              "      <th>Air_temp</th>\n",
              "      <th>Atmos_press</th>\n",
              "      <th>Atmos_press_MeanSea</th>\n",
              "      <th>PressureTendency</th>\n",
              "      <th>Humidity</th>\n",
              "      <th>MeanWindSpeed</th>\n",
              "      <th>Visibility</th>\n",
              "      <th>DewPoint</th>\n",
              "      <th>Rainfall</th>\n",
              "      <th>Weather_Stn</th>\n",
              "    </tr>\n",
              "  </thead>\n",
              "  <tbody>\n",
              "    <tr>\n",
              "      <th>17516</th>\n",
              "      <td>2018-12-31 22:00:00</td>\n",
              "      <td>27.8</td>\n",
              "      <td>731.1</td>\n",
              "      <td>NaN</td>\n",
              "      <td>1.833333</td>\n",
              "      <td>29.333333</td>\n",
              "      <td>2.666667</td>\n",
              "      <td>NaN</td>\n",
              "      <td>8.533333</td>\n",
              "      <td>NaN</td>\n",
              "      <td>Ysterplaat</td>\n",
              "    </tr>\n",
              "    <tr>\n",
              "      <th>17517</th>\n",
              "      <td>2018-12-31 23:00:00</td>\n",
              "      <td>26.8</td>\n",
              "      <td>731.5</td>\n",
              "      <td>NaN</td>\n",
              "      <td>1.200000</td>\n",
              "      <td>28.000000</td>\n",
              "      <td>2.000000</td>\n",
              "      <td>NaN</td>\n",
              "      <td>7.000000</td>\n",
              "      <td>NaN</td>\n",
              "      <td>Ysterplaat</td>\n",
              "    </tr>\n",
              "  </tbody>\n",
              "</table>\n",
              "</div>"
            ],
            "text/plain": [
              "                       dt  Air_temp  ...  Rainfall  Weather_Stn\n",
              "17516 2018-12-31 22:00:00      27.8  ...       NaN   Ysterplaat\n",
              "17517 2018-12-31 23:00:00      26.8  ...       NaN   Ysterplaat\n",
              "\n",
              "[2 rows x 11 columns]"
            ]
          },
          "metadata": {
            "tags": []
          },
          "execution_count": 27
        }
      ]
    },
    {
      "cell_type": "markdown",
      "metadata": {
        "id": "uzop4wIyhJ2K",
        "colab_type": "text"
      },
      "source": [
        "#### One more"
      ]
    },
    {
      "cell_type": "code",
      "metadata": {
        "colab_type": "code",
        "id": "bHaK0DrrepYr",
        "colab": {
          "base_uri": "https://localhost:8080/",
          "height": 144
        },
        "outputId": "ee40a765-df9e-4dec-9c2e-a8e82773b603"
      },
      "source": [
        "#read the paarl weather station data\n",
        "paarl_weat = pd.read_csv(path/'data/weather/paarl_weather.csv', sep = ';', skiprows=6, usecols=range(29),\n",
        "                      parse_dates = ['Local time in Paarl'])\n",
        "#rename some columns\n",
        "paarl_weat.rename(columns={'Local time in Paarl': 'dt', 'T': 'Air_temp','Po': 'Atmos_press', \n",
        "                        'P': 'Atmos_press_MeanSea', 'U': 'Humidity', 'Pa': 'PressureTendency', 'Ff': 'MeanWindSpeed', \n",
        "                        'VV': 'Visibility','Td':'DewPoint', 'RRR': 'Rainfall'}, inplace=True)\n",
        "\n",
        "#delete some columns\n",
        "paarl_weat.drop(['DD', 'ff10', 'ff3', 'N',  'WW','W1', 'W2', 'Tn', 'Tx', 'Cl', 'Nh', 'H', 'Cm', 'Ch',\n",
        "              'tR', 'E', 'Tg', 'E_' ,'sss'], axis=1, inplace=True)\n",
        "paarl_weat.head(3)"
      ],
      "execution_count": null,
      "outputs": [
        {
          "output_type": "execute_result",
          "data": {
            "text/html": [
              "<div>\n",
              "<style scoped>\n",
              "    .dataframe tbody tr th:only-of-type {\n",
              "        vertical-align: middle;\n",
              "    }\n",
              "\n",
              "    .dataframe tbody tr th {\n",
              "        vertical-align: top;\n",
              "    }\n",
              "\n",
              "    .dataframe thead th {\n",
              "        text-align: right;\n",
              "    }\n",
              "</style>\n",
              "<table border=\"1\" class=\"dataframe\">\n",
              "  <thead>\n",
              "    <tr style=\"text-align: right;\">\n",
              "      <th></th>\n",
              "      <th>dt</th>\n",
              "      <th>Air_temp</th>\n",
              "      <th>Atmos_press</th>\n",
              "      <th>Atmos_press_MeanSea</th>\n",
              "      <th>PressureTendency</th>\n",
              "      <th>Humidity</th>\n",
              "      <th>MeanWindSpeed</th>\n",
              "      <th>Visibility</th>\n",
              "      <th>DewPoint</th>\n",
              "      <th>Rainfall</th>\n",
              "    </tr>\n",
              "  </thead>\n",
              "  <tbody>\n",
              "    <tr>\n",
              "      <th>0</th>\n",
              "      <td>2018-12-31 23:00:00</td>\n",
              "      <td>20.9</td>\n",
              "      <td>751.6</td>\n",
              "      <td>NaN</td>\n",
              "      <td>1.5</td>\n",
              "      <td>68</td>\n",
              "      <td>2</td>\n",
              "      <td>NaN</td>\n",
              "      <td>14.8</td>\n",
              "      <td>NaN</td>\n",
              "    </tr>\n",
              "    <tr>\n",
              "      <th>1</th>\n",
              "      <td>2018-12-31 20:00:00</td>\n",
              "      <td>24.1</td>\n",
              "      <td>750.1</td>\n",
              "      <td>NaN</td>\n",
              "      <td>1.7</td>\n",
              "      <td>51</td>\n",
              "      <td>3</td>\n",
              "      <td>NaN</td>\n",
              "      <td>13.2</td>\n",
              "      <td>NaN</td>\n",
              "    </tr>\n",
              "    <tr>\n",
              "      <th>2</th>\n",
              "      <td>2018-12-31 17:00:00</td>\n",
              "      <td>34.6</td>\n",
              "      <td>748.4</td>\n",
              "      <td>NaN</td>\n",
              "      <td>-1.2</td>\n",
              "      <td>22</td>\n",
              "      <td>4</td>\n",
              "      <td>NaN</td>\n",
              "      <td>10.2</td>\n",
              "      <td>NaN</td>\n",
              "    </tr>\n",
              "  </tbody>\n",
              "</table>\n",
              "</div>"
            ],
            "text/plain": [
              "                   dt  Air_temp  Atmos_press  ...  Visibility  DewPoint  Rainfall\n",
              "0 2018-12-31 23:00:00      20.9        751.6  ...         NaN      14.8       NaN\n",
              "1 2018-12-31 20:00:00      24.1        750.1  ...         NaN      13.2       NaN\n",
              "2 2018-12-31 17:00:00      34.6        748.4  ...         NaN      10.2       NaN\n",
              "\n",
              "[3 rows x 10 columns]"
            ]
          },
          "metadata": {
            "tags": []
          },
          "execution_count": 28
        }
      ]
    },
    {
      "cell_type": "code",
      "metadata": {
        "colab_type": "code",
        "id": "fPW1QE4_epeE",
        "colab": {
          "base_uri": "https://localhost:8080/",
          "height": 329
        },
        "outputId": "153fb657-767e-436a-a3e4-ee3881119c8b"
      },
      "source": [
        "paarl_weat.info()"
      ],
      "execution_count": null,
      "outputs": [
        {
          "output_type": "stream",
          "text": [
            "<class 'pandas.core.frame.DataFrame'>\n",
            "RangeIndex: 5346 entries, 0 to 5345\n",
            "Data columns (total 10 columns):\n",
            " #   Column               Non-Null Count  Dtype         \n",
            "---  ------               --------------  -----         \n",
            " 0   dt                   5346 non-null   datetime64[ns]\n",
            " 1   Air_temp             5346 non-null   float64       \n",
            " 2   Atmos_press          5346 non-null   float64       \n",
            " 3   Atmos_press_MeanSea  0 non-null      float64       \n",
            " 4   PressureTendency     5248 non-null   float64       \n",
            " 5   Humidity             5346 non-null   int64         \n",
            " 6   MeanWindSpeed        5346 non-null   int64         \n",
            " 7   Visibility           0 non-null      float64       \n",
            " 8   DewPoint             5346 non-null   float64       \n",
            " 9   Rainfall             561 non-null    float64       \n",
            "dtypes: datetime64[ns](1), float64(7), int64(2)\n",
            "memory usage: 417.8 KB\n"
          ],
          "name": "stdout"
        }
      ]
    },
    {
      "cell_type": "code",
      "metadata": {
        "colab_type": "code",
        "id": "28ErL3Blepqc",
        "colab": {
          "base_uri": "https://localhost:8080/",
          "height": 222
        },
        "outputId": "aef98f3d-8633-4ba4-c081-b91068ee7443"
      },
      "source": [
        "paarl_weat.isnull().sum(axis = 0)"
      ],
      "execution_count": null,
      "outputs": [
        {
          "output_type": "execute_result",
          "data": {
            "text/plain": [
              "dt                        0\n",
              "Air_temp                  0\n",
              "Atmos_press               0\n",
              "Atmos_press_MeanSea    5346\n",
              "PressureTendency         98\n",
              "Humidity                  0\n",
              "MeanWindSpeed             0\n",
              "Visibility             5346\n",
              "DewPoint                  0\n",
              "Rainfall               4785\n",
              "dtype: int64"
            ]
          },
          "metadata": {
            "tags": []
          },
          "execution_count": 40
        }
      ]
    },
    {
      "cell_type": "code",
      "metadata": {
        "colab_type": "code",
        "id": "Y_PqgipRep2q",
        "colab": {
          "base_uri": "https://localhost:8080/",
          "height": 90
        },
        "outputId": "61ad027f-6349-4013-ef37-1e245e20b68d"
      },
      "source": [
        "#check some values\n",
        "paarl_weat.Rainfall.unique()"
      ],
      "execution_count": null,
      "outputs": [
        {
          "output_type": "execute_result",
          "data": {
            "text/plain": [
              "array([ nan,  7. ,  1. ,  2. , 12. ,  5. ,  0.8,  0.6,  3. ,  0.2,  6. ,\n",
              "        9. ,  0.4, 10. , 17. ,  4. ,  8. , 30. , 28. , 22. , 21. , 14. ,\n",
              "       11. , 18. , 13. , 32. , 27. , 26. , 23. , 35. , 34. , 33. , 19. ,\n",
              "       15. , 16. ])"
            ]
          },
          "metadata": {
            "tags": []
          },
          "execution_count": 169
        }
      ]
    },
    {
      "cell_type": "code",
      "metadata": {
        "colab_type": "code",
        "id": "YOBd_vfjepy4",
        "colab": {
          "base_uri": "https://localhost:8080/",
          "height": 144
        },
        "outputId": "6f82d217-f86d-41de-ddb3-03a3cca33c7d"
      },
      "source": [
        "#set as datetime index\n",
        "paarl_weat = paarl_weat.set_index(pd.DatetimeIndex(paarl_weat['dt']))\n",
        "\n",
        "#resample to every hour\n",
        "paarl_weat_h = paarl_weat.resample('H', on='dt').mean()\n",
        "\n",
        "# linear interpolation in both directions and fill only one consecutive NaN\n",
        "paarl_weat_inter = paarl_weat_h[columns].interpolate(limit_direction = 'both', method='linear', limit = 1)\n",
        "\n",
        "#reset index\n",
        "paarl_weat_inter.reset_index(inplace=True)\n",
        "# add a column to identify the weather station and create a join field \n",
        "paarl_weat_inter['Weather_Stn'] = 'Paarl'\n",
        "#have a look\n",
        "paarl_weat_inter.head(3)"
      ],
      "execution_count": null,
      "outputs": [
        {
          "output_type": "execute_result",
          "data": {
            "text/html": [
              "<div>\n",
              "<style scoped>\n",
              "    .dataframe tbody tr th:only-of-type {\n",
              "        vertical-align: middle;\n",
              "    }\n",
              "\n",
              "    .dataframe tbody tr th {\n",
              "        vertical-align: top;\n",
              "    }\n",
              "\n",
              "    .dataframe thead th {\n",
              "        text-align: right;\n",
              "    }\n",
              "</style>\n",
              "<table border=\"1\" class=\"dataframe\">\n",
              "  <thead>\n",
              "    <tr style=\"text-align: right;\">\n",
              "      <th></th>\n",
              "      <th>dt</th>\n",
              "      <th>Air_temp</th>\n",
              "      <th>Atmos_press</th>\n",
              "      <th>Atmos_press_MeanSea</th>\n",
              "      <th>PressureTendency</th>\n",
              "      <th>Humidity</th>\n",
              "      <th>MeanWindSpeed</th>\n",
              "      <th>Visibility</th>\n",
              "      <th>DewPoint</th>\n",
              "      <th>Rainfall</th>\n",
              "      <th>Weather_Stn</th>\n",
              "    </tr>\n",
              "  </thead>\n",
              "  <tbody>\n",
              "    <tr>\n",
              "      <th>0</th>\n",
              "      <td>2017-01-01 02:00:00</td>\n",
              "      <td>20.000000</td>\n",
              "      <td>750.200000</td>\n",
              "      <td>NaN</td>\n",
              "      <td>-0.500000</td>\n",
              "      <td>74.000000</td>\n",
              "      <td>1.000000</td>\n",
              "      <td>NaN</td>\n",
              "      <td>15.300000</td>\n",
              "      <td>NaN</td>\n",
              "      <td>Paarl</td>\n",
              "    </tr>\n",
              "    <tr>\n",
              "      <th>1</th>\n",
              "      <td>2017-01-01 03:00:00</td>\n",
              "      <td>19.466667</td>\n",
              "      <td>749.966667</td>\n",
              "      <td>NaN</td>\n",
              "      <td>-0.566667</td>\n",
              "      <td>76.333333</td>\n",
              "      <td>0.666667</td>\n",
              "      <td>NaN</td>\n",
              "      <td>15.233333</td>\n",
              "      <td>NaN</td>\n",
              "      <td>Paarl</td>\n",
              "    </tr>\n",
              "    <tr>\n",
              "      <th>2</th>\n",
              "      <td>2017-01-01 04:00:00</td>\n",
              "      <td>18.933333</td>\n",
              "      <td>749.733333</td>\n",
              "      <td>NaN</td>\n",
              "      <td>-0.633333</td>\n",
              "      <td>78.666667</td>\n",
              "      <td>0.333333</td>\n",
              "      <td>NaN</td>\n",
              "      <td>15.166667</td>\n",
              "      <td>NaN</td>\n",
              "      <td>Paarl</td>\n",
              "    </tr>\n",
              "  </tbody>\n",
              "</table>\n",
              "</div>"
            ],
            "text/plain": [
              "                   dt   Air_temp  Atmos_press  ...   DewPoint  Rainfall  Weather_Stn\n",
              "0 2017-01-01 02:00:00  20.000000   750.200000  ...  15.300000       NaN        Paarl\n",
              "1 2017-01-01 03:00:00  19.466667   749.966667  ...  15.233333       NaN        Paarl\n",
              "2 2017-01-01 04:00:00  18.933333   749.733333  ...  15.166667       NaN        Paarl\n",
              "\n",
              "[3 rows x 11 columns]"
            ]
          },
          "metadata": {
            "tags": []
          },
          "execution_count": 29
        }
      ]
    },
    {
      "cell_type": "code",
      "metadata": {
        "colab_type": "code",
        "id": "pWY4IIIPepvn",
        "colab": {
          "base_uri": "https://localhost:8080/",
          "height": 73
        },
        "outputId": "e25be694-a7b7-4e87-8d6a-3db9c4bccd4c"
      },
      "source": [
        "#append\n",
        "weather = weather.append(paarl_weat_inter)\n",
        "#check some values\n",
        "print(weather.Weather_Stn.unique())\n",
        "print('')\n",
        "print(weather.shape)\n",
        "#weather.tail(2)"
      ],
      "execution_count": null,
      "outputs": [
        {
          "output_type": "stream",
          "text": [
            "['Cape_Town_International' 'Molteno' 'Ysterplaat' 'Paarl']\n",
            "\n",
            "(70072, 11)\n"
          ],
          "name": "stdout"
        }
      ]
    },
    {
      "cell_type": "markdown",
      "metadata": {
        "id": "AWJzU9_YhUmF",
        "colab_type": "text"
      },
      "source": [
        "#### And the last one."
      ]
    },
    {
      "cell_type": "code",
      "metadata": {
        "colab_type": "code",
        "id": "rmXGpD5Ggm86",
        "colab": {
          "base_uri": "https://localhost:8080/",
          "height": 144
        },
        "outputId": "9d3735e1-3ef0-4389-c008-1da223fa21dd"
      },
      "source": [
        "#read the strand weather station data\n",
        "stra_weat = pd.read_csv(path/'data/weather/strand_weather.csv', sep = ';', skiprows=6, usecols=range(29),\n",
        "                      parse_dates = ['Local time in Strand'])\n",
        "#rename some columns\n",
        "stra_weat.rename(columns={'Local time in Strand': 'dt', 'T': 'Air_temp','Po': 'Atmos_press', \n",
        "                        'P': 'Atmos_press_MeanSea', 'U': 'Humidity', 'Pa': 'PressureTendency', 'Ff': 'MeanWindSpeed', \n",
        "                        'VV': 'Visibility','Td':'DewPoint', 'RRR': 'Rainfall'}, inplace=True)\n",
        "\n",
        "#delete some columns\n",
        "stra_weat.drop(['DD', 'ff10', 'ff3', 'N',  'WW','W1', 'W2', 'Tn', 'Tx', 'Cl', 'Nh', 'H', 'Cm', 'Ch',\n",
        "              'tR', 'E', 'Tg', 'E_' ,'sss',], axis=1, inplace=True)\n",
        "stra_weat.head(3)"
      ],
      "execution_count": null,
      "outputs": [
        {
          "output_type": "execute_result",
          "data": {
            "text/html": [
              "<div>\n",
              "<style scoped>\n",
              "    .dataframe tbody tr th:only-of-type {\n",
              "        vertical-align: middle;\n",
              "    }\n",
              "\n",
              "    .dataframe tbody tr th {\n",
              "        vertical-align: top;\n",
              "    }\n",
              "\n",
              "    .dataframe thead th {\n",
              "        text-align: right;\n",
              "    }\n",
              "</style>\n",
              "<table border=\"1\" class=\"dataframe\">\n",
              "  <thead>\n",
              "    <tr style=\"text-align: right;\">\n",
              "      <th></th>\n",
              "      <th>dt</th>\n",
              "      <th>Air_temp</th>\n",
              "      <th>Atmos_press</th>\n",
              "      <th>Atmos_press_MeanSea</th>\n",
              "      <th>PressureTendency</th>\n",
              "      <th>Humidity</th>\n",
              "      <th>MeanWindSpeed</th>\n",
              "      <th>Visibility</th>\n",
              "      <th>DewPoint</th>\n",
              "      <th>Rainfall</th>\n",
              "    </tr>\n",
              "  </thead>\n",
              "  <tbody>\n",
              "    <tr>\n",
              "      <th>0</th>\n",
              "      <td>2018-12-31 23:00:00</td>\n",
              "      <td>21.2</td>\n",
              "      <td>760.3</td>\n",
              "      <td>760.9</td>\n",
              "      <td>0.9</td>\n",
              "      <td>76.0</td>\n",
              "      <td>1.0</td>\n",
              "      <td>NaN</td>\n",
              "      <td>16.8</td>\n",
              "      <td>NaN</td>\n",
              "    </tr>\n",
              "    <tr>\n",
              "      <th>1</th>\n",
              "      <td>2018-12-31 20:00:00</td>\n",
              "      <td>22.7</td>\n",
              "      <td>759.4</td>\n",
              "      <td>760.0</td>\n",
              "      <td>1.4</td>\n",
              "      <td>72.0</td>\n",
              "      <td>3.0</td>\n",
              "      <td>NaN</td>\n",
              "      <td>17.4</td>\n",
              "      <td>NaN</td>\n",
              "    </tr>\n",
              "    <tr>\n",
              "      <th>2</th>\n",
              "      <td>2018-12-31 17:00:00</td>\n",
              "      <td>25.8</td>\n",
              "      <td>758.0</td>\n",
              "      <td>758.6</td>\n",
              "      <td>-0.8</td>\n",
              "      <td>54.0</td>\n",
              "      <td>6.0</td>\n",
              "      <td>NaN</td>\n",
              "      <td>15.9</td>\n",
              "      <td>NaN</td>\n",
              "    </tr>\n",
              "  </tbody>\n",
              "</table>\n",
              "</div>"
            ],
            "text/plain": [
              "                   dt  Air_temp  Atmos_press  ...  Visibility  DewPoint  Rainfall\n",
              "0 2018-12-31 23:00:00      21.2        760.3  ...         NaN      16.8       NaN\n",
              "1 2018-12-31 20:00:00      22.7        759.4  ...         NaN      17.4       NaN\n",
              "2 2018-12-31 17:00:00      25.8        758.0  ...         NaN      15.9       NaN\n",
              "\n",
              "[3 rows x 10 columns]"
            ]
          },
          "metadata": {
            "tags": []
          },
          "execution_count": 31
        }
      ]
    },
    {
      "cell_type": "code",
      "metadata": {
        "colab_type": "code",
        "id": "QNEIO4xJgnCB",
        "colab": {
          "base_uri": "https://localhost:8080/",
          "height": 331
        },
        "outputId": "991b8c12-f671-4ec6-d678-f2f2e80555af"
      },
      "source": [
        "stra_weat.info()"
      ],
      "execution_count": null,
      "outputs": [
        {
          "output_type": "stream",
          "text": [
            "<class 'pandas.core.frame.DataFrame'>\n",
            "RangeIndex: 5512 entries, 0 to 5511\n",
            "Data columns (total 10 columns):\n",
            " #   Column               Non-Null Count  Dtype         \n",
            "---  ------               --------------  -----         \n",
            " 0   dt                   5512 non-null   datetime64[ns]\n",
            " 1   Air_temp             5511 non-null   float64       \n",
            " 2   Atmos_press          5512 non-null   float64       \n",
            " 3   Atmos_press_MeanSea  5512 non-null   float64       \n",
            " 4   PressureTendency     5326 non-null   float64       \n",
            " 5   Humidity             5511 non-null   float64       \n",
            " 6   MeanWindSpeed        5481 non-null   float64       \n",
            " 7   Visibility           0 non-null      float64       \n",
            " 8   DewPoint             5512 non-null   float64       \n",
            " 9   Rainfall             569 non-null    float64       \n",
            "dtypes: datetime64[ns](1), float64(9)\n",
            "memory usage: 430.8 KB\n"
          ],
          "name": "stdout"
        }
      ]
    },
    {
      "cell_type": "code",
      "metadata": {
        "colab_type": "code",
        "id": "fSe7iw55gnI6",
        "colab": {
          "base_uri": "https://localhost:8080/",
          "height": 222
        },
        "outputId": "6bc962cd-63dc-424d-f0a4-8a33096361b4"
      },
      "source": [
        "stra_weat.isnull().sum(axis = 0)"
      ],
      "execution_count": null,
      "outputs": [
        {
          "output_type": "execute_result",
          "data": {
            "text/plain": [
              "dt                        0\n",
              "Air_temp                  1\n",
              "Atmos_press               0\n",
              "Atmos_press_MeanSea       0\n",
              "PressureTendency        186\n",
              "Humidity                  1\n",
              "MeanWindSpeed            31\n",
              "Visibility             5512\n",
              "DewPoint                  0\n",
              "Rainfall               4943\n",
              "dtype: int64"
            ]
          },
          "metadata": {
            "tags": []
          },
          "execution_count": 44
        }
      ]
    },
    {
      "cell_type": "code",
      "metadata": {
        "colab_type": "code",
        "id": "5djm_oZ0gnSZ",
        "colab": {
          "base_uri": "https://localhost:8080/",
          "height": 91
        },
        "outputId": "02fa9f5f-8eb0-4be1-f105-5d0fb2b1fa76"
      },
      "source": [
        "#check some values\n",
        "stra_weat.Rainfall.unique()"
      ],
      "execution_count": null,
      "outputs": [
        {
          "output_type": "execute_result",
          "data": {
            "text/plain": [
              "array([ nan,  8. ,  7. ,  0.2,  3. ,  2. ,  0.4,  0.6,  1. ,  4. , 11. ,\n",
              "        9. ,  0.8,  6. ,  5. , 10. , 16. , 12. , 17. , 13. , 24. , 23. ,\n",
              "       22. , 41. , 25. , 36. , 29. , 27. , 21. , 26. , 19. , 15. , 14. ,\n",
              "       20. , 30. ])"
            ]
          },
          "metadata": {
            "tags": []
          },
          "execution_count": 34
        }
      ]
    },
    {
      "cell_type": "code",
      "metadata": {
        "colab_type": "code",
        "id": "K1EC1oiOgnGB",
        "colab": {
          "base_uri": "https://localhost:8080/",
          "height": 144
        },
        "outputId": "cf108431-ccf5-4859-c3b7-cde0ef5b5d9d"
      },
      "source": [
        "#set as datetime index\n",
        "stra_weat = stra_weat.set_index(pd.DatetimeIndex(stra_weat['dt']))\n",
        "\n",
        "#resample to every hour\n",
        "stra_weat_h = stra_weat.resample('H', on='dt').mean()\n",
        "\n",
        "# linear interpolation in both directions and fill only one consecutive NaN\n",
        "stra_weat_inter = stra_weat_h[columns].interpolate(limit_direction = 'both', method='linear', limit = 1)\n",
        "\n",
        "#reset index\n",
        "stra_weat_inter.reset_index(inplace=True)\n",
        "# add a column to identify the weather station and create a join field \n",
        "stra_weat_inter['Weather_Stn'] = 'Strand'\n",
        "#have a look\n",
        "stra_weat_inter.head(3)"
      ],
      "execution_count": null,
      "outputs": [
        {
          "output_type": "execute_result",
          "data": {
            "text/html": [
              "<div>\n",
              "<style scoped>\n",
              "    .dataframe tbody tr th:only-of-type {\n",
              "        vertical-align: middle;\n",
              "    }\n",
              "\n",
              "    .dataframe tbody tr th {\n",
              "        vertical-align: top;\n",
              "    }\n",
              "\n",
              "    .dataframe thead th {\n",
              "        text-align: right;\n",
              "    }\n",
              "</style>\n",
              "<table border=\"1\" class=\"dataframe\">\n",
              "  <thead>\n",
              "    <tr style=\"text-align: right;\">\n",
              "      <th></th>\n",
              "      <th>dt</th>\n",
              "      <th>Air_temp</th>\n",
              "      <th>Atmos_press</th>\n",
              "      <th>Atmos_press_MeanSea</th>\n",
              "      <th>PressureTendency</th>\n",
              "      <th>Humidity</th>\n",
              "      <th>MeanWindSpeed</th>\n",
              "      <th>Visibility</th>\n",
              "      <th>DewPoint</th>\n",
              "      <th>Rainfall</th>\n",
              "      <th>Weather_Stn</th>\n",
              "    </tr>\n",
              "  </thead>\n",
              "  <tbody>\n",
              "    <tr>\n",
              "      <th>0</th>\n",
              "      <td>2017-01-01 02:00:00</td>\n",
              "      <td>22.200000</td>\n",
              "      <td>758.8</td>\n",
              "      <td>759.4</td>\n",
              "      <td>-1.400000</td>\n",
              "      <td>66.000000</td>\n",
              "      <td>6.000000</td>\n",
              "      <td>NaN</td>\n",
              "      <td>15.600000</td>\n",
              "      <td>NaN</td>\n",
              "      <td>Strand</td>\n",
              "    </tr>\n",
              "    <tr>\n",
              "      <th>1</th>\n",
              "      <td>2017-01-01 03:00:00</td>\n",
              "      <td>22.666667</td>\n",
              "      <td>758.6</td>\n",
              "      <td>759.2</td>\n",
              "      <td>-1.133333</td>\n",
              "      <td>60.666667</td>\n",
              "      <td>4.666667</td>\n",
              "      <td>NaN</td>\n",
              "      <td>14.533333</td>\n",
              "      <td>NaN</td>\n",
              "      <td>Strand</td>\n",
              "    </tr>\n",
              "    <tr>\n",
              "      <th>2</th>\n",
              "      <td>2017-01-01 04:00:00</td>\n",
              "      <td>23.133333</td>\n",
              "      <td>758.4</td>\n",
              "      <td>759.0</td>\n",
              "      <td>-0.866667</td>\n",
              "      <td>55.333333</td>\n",
              "      <td>3.333333</td>\n",
              "      <td>NaN</td>\n",
              "      <td>13.466667</td>\n",
              "      <td>NaN</td>\n",
              "      <td>Strand</td>\n",
              "    </tr>\n",
              "  </tbody>\n",
              "</table>\n",
              "</div>"
            ],
            "text/plain": [
              "                   dt   Air_temp  Atmos_press  ...   DewPoint  Rainfall  Weather_Stn\n",
              "0 2017-01-01 02:00:00  22.200000        758.8  ...  15.600000       NaN       Strand\n",
              "1 2017-01-01 03:00:00  22.666667        758.6  ...  14.533333       NaN       Strand\n",
              "2 2017-01-01 04:00:00  23.133333        758.4  ...  13.466667       NaN       Strand\n",
              "\n",
              "[3 rows x 11 columns]"
            ]
          },
          "metadata": {
            "tags": []
          },
          "execution_count": 32
        }
      ]
    },
    {
      "cell_type": "code",
      "metadata": {
        "colab_type": "code",
        "id": "sDpZc7iUgm58",
        "colab": {
          "base_uri": "https://localhost:8080/",
          "height": 73
        },
        "outputId": "d3657314-c953-4979-8b2a-32892c07a681"
      },
      "source": [
        "#append\n",
        "weather = weather.append(stra_weat_inter)\n",
        "print(weather.Weather_Stn.unique())\n",
        "print('')\n",
        "print(weather.shape)\n",
        "#weather.tail(2)"
      ],
      "execution_count": null,
      "outputs": [
        {
          "output_type": "stream",
          "text": [
            "['Cape_Town_International' 'Molteno' 'Ysterplaat' 'Paarl' 'Strand']\n",
            "\n",
            "(87590, 11)\n"
          ],
          "name": "stdout"
        }
      ]
    },
    {
      "cell_type": "code",
      "metadata": {
        "id": "3SIW_anf3hJX",
        "colab_type": "code",
        "colab": {
          "base_uri": "https://localhost:8080/",
          "height": 352
        },
        "outputId": "71adb33b-8caf-4314-d10f-bf6dd8e9d602"
      },
      "source": [
        "weather.info()"
      ],
      "execution_count": null,
      "outputs": [
        {
          "output_type": "stream",
          "text": [
            "<class 'pandas.core.frame.DataFrame'>\n",
            "Int64Index: 87590 entries, 0 to 17517\n",
            "Data columns (total 11 columns):\n",
            " #   Column               Non-Null Count  Dtype         \n",
            "---  ------               --------------  -----         \n",
            " 0   dt                   87590 non-null  datetime64[ns]\n",
            " 1   Air_temp             81632 non-null  float64       \n",
            " 2   Atmos_press          81704 non-null  float64       \n",
            " 3   Atmos_press_MeanSea  33398 non-null  float64       \n",
            " 4   PressureTendency     78218 non-null  float64       \n",
            " 5   Humidity             81629 non-null  float64       \n",
            " 6   MeanWindSpeed        81560 non-null  float64       \n",
            " 7   Visibility           21751 non-null  float64       \n",
            " 8   DewPoint             81635 non-null  float64       \n",
            " 9   Rainfall             8322 non-null   float64       \n",
            " 10  Weather_Stn          87590 non-null  object        \n",
            "dtypes: datetime64[ns](1), float64(9), object(1)\n",
            "memory usage: 8.0+ MB\n"
          ],
          "name": "stdout"
        }
      ]
    },
    {
      "cell_type": "markdown",
      "metadata": {
        "id": "Sik4VKkd8YrZ",
        "colab_type": "text"
      },
      "source": [
        "#### Then we update the ```train``` and ```test``` set with the new columns."
      ]
    },
    {
      "cell_type": "code",
      "metadata": {
        "id": "t7YOCy9E8Yra",
        "colab_type": "code",
        "colab": {}
      },
      "source": [
        "#load the train and from the previous notebook\n",
        "train = pd.read_csv(path/'data/train_basic.csv', parse_dates = ['datetime'])\n",
        "test = pd.read_csv(path/'data/test_basic.csv', parse_dates = ['datetime'])"
      ],
      "execution_count": null,
      "outputs": []
    },
    {
      "cell_type": "code",
      "metadata": {
        "id": "fnR8NY4zWDFy",
        "colab_type": "code",
        "colab": {
          "base_uri": "https://localhost:8080/",
          "height": 73
        },
        "outputId": "c5ea530f-2d91-4881-d6d6-b2533c55f249"
      },
      "source": [
        "print(train.shape)\n",
        "print('')\n",
        "print(test.shape)"
      ],
      "execution_count": null,
      "outputs": [
        {
          "output_type": "stream",
          "text": [
            "(4765984, 12)\n",
            "\n",
            "(1580320, 12)\n"
          ],
          "name": "stdout"
        }
      ]
    },
    {
      "cell_type": "code",
      "metadata": {
        "colab_type": "code",
        "id": "U1BMn_idirKs",
        "colab": {}
      },
      "source": [
        "#merge the [STATION NA] from the roads_voronoi\n",
        "train = pd.merge(train, road_voronoi[['segment_id', 'STATION_NA']], on='segment_id', how='left')\n",
        "test = pd.merge(test, road_voronoi[['segment_id', 'STATION_NA']], on='segment_id', how='left')"
      ],
      "execution_count": null,
      "outputs": []
    },
    {
      "cell_type": "code",
      "metadata": {
        "id": "ijrmjVYbhmN2",
        "colab_type": "code",
        "colab": {
          "base_uri": "https://localhost:8080/",
          "height": 73
        },
        "outputId": "288a1a09-c58f-40c2-abe0-5b7e5aeba982"
      },
      "source": [
        "#check some  values\n",
        "print(train.STATION_NA.unique())\n",
        "print('')\n",
        "print(test.STATION_NA.unique())\n",
        "#train.head(3)"
      ],
      "execution_count": null,
      "outputs": [
        {
          "output_type": "stream",
          "text": [
            "['Ysterplaat' 'Strand' 'Cape_Town_International' 'Molteno' 'Paarl']\n",
            "\n",
            "['Ysterplaat' 'Strand' 'Cape_Town_International' 'Molteno' 'Paarl']\n"
          ],
          "name": "stdout"
        }
      ]
    },
    {
      "cell_type": "code",
      "metadata": {
        "id": "D_oUpUIaTHGY",
        "colab_type": "code",
        "colab": {
          "base_uri": "https://localhost:8080/",
          "height": 144
        },
        "outputId": "e919dd6d-80c1-4573-dec0-ee8452052278"
      },
      "source": [
        "train.head(3)"
      ],
      "execution_count": null,
      "outputs": [
        {
          "output_type": "execute_result",
          "data": {
            "text/html": [
              "<div>\n",
              "<style scoped>\n",
              "    .dataframe tbody tr th:only-of-type {\n",
              "        vertical-align: middle;\n",
              "    }\n",
              "\n",
              "    .dataframe tbody tr th {\n",
              "        vertical-align: top;\n",
              "    }\n",
              "\n",
              "    .dataframe thead th {\n",
              "        text-align: right;\n",
              "    }\n",
              "</style>\n",
              "<table border=\"1\" class=\"dataframe\">\n",
              "  <thead>\n",
              "    <tr style=\"text-align: right;\">\n",
              "      <th></th>\n",
              "      <th>datetime x segment_id</th>\n",
              "      <th>datetime</th>\n",
              "      <th>segment_id</th>\n",
              "      <th>y</th>\n",
              "      <th>year</th>\n",
              "      <th>month</th>\n",
              "      <th>day</th>\n",
              "      <th>hour</th>\n",
              "      <th>longitude</th>\n",
              "      <th>latitude</th>\n",
              "      <th>WIDTH</th>\n",
              "      <th>LANES</th>\n",
              "      <th>STATION_NA</th>\n",
              "    </tr>\n",
              "  </thead>\n",
              "  <tbody>\n",
              "    <tr>\n",
              "      <th>0</th>\n",
              "      <td>2017-01-01 00:00:00 x S0B3CGQ</td>\n",
              "      <td>2017-01-01 00:00:00</td>\n",
              "      <td>S0B3CGQ</td>\n",
              "      <td>0</td>\n",
              "      <td>2017</td>\n",
              "      <td>1</td>\n",
              "      <td>6</td>\n",
              "      <td>0</td>\n",
              "      <td>18.541422</td>\n",
              "      <td>-33.888613</td>\n",
              "      <td>0.0</td>\n",
              "      <td>0</td>\n",
              "      <td>Ysterplaat</td>\n",
              "    </tr>\n",
              "    <tr>\n",
              "      <th>1</th>\n",
              "      <td>2017-01-01 01:00:00 x S0B3CGQ</td>\n",
              "      <td>2017-01-01 01:00:00</td>\n",
              "      <td>S0B3CGQ</td>\n",
              "      <td>0</td>\n",
              "      <td>2017</td>\n",
              "      <td>1</td>\n",
              "      <td>6</td>\n",
              "      <td>1</td>\n",
              "      <td>18.541422</td>\n",
              "      <td>-33.888613</td>\n",
              "      <td>0.0</td>\n",
              "      <td>0</td>\n",
              "      <td>Ysterplaat</td>\n",
              "    </tr>\n",
              "    <tr>\n",
              "      <th>2</th>\n",
              "      <td>2017-01-01 02:00:00 x S0B3CGQ</td>\n",
              "      <td>2017-01-01 02:00:00</td>\n",
              "      <td>S0B3CGQ</td>\n",
              "      <td>0</td>\n",
              "      <td>2017</td>\n",
              "      <td>1</td>\n",
              "      <td>6</td>\n",
              "      <td>2</td>\n",
              "      <td>18.541422</td>\n",
              "      <td>-33.888613</td>\n",
              "      <td>0.0</td>\n",
              "      <td>0</td>\n",
              "      <td>Ysterplaat</td>\n",
              "    </tr>\n",
              "  </tbody>\n",
              "</table>\n",
              "</div>"
            ],
            "text/plain": [
              "           datetime x segment_id            datetime  ... LANES  STATION_NA\n",
              "0  2017-01-01 00:00:00 x S0B3CGQ 2017-01-01 00:00:00  ...     0  Ysterplaat\n",
              "1  2017-01-01 01:00:00 x S0B3CGQ 2017-01-01 01:00:00  ...     0  Ysterplaat\n",
              "2  2017-01-01 02:00:00 x S0B3CGQ 2017-01-01 02:00:00  ...     0  Ysterplaat\n",
              "\n",
              "[3 rows x 13 columns]"
            ]
          },
          "metadata": {
            "tags": []
          },
          "execution_count": 40
        }
      ]
    },
    {
      "cell_type": "code",
      "metadata": {
        "id": "q2WgHQa7U4yl",
        "colab_type": "code",
        "colab": {
          "base_uri": "https://localhost:8080/",
          "height": 144
        },
        "outputId": "ac50c9b3-508d-4566-9366-ad3c7c4b085a"
      },
      "source": [
        "train.tail(3)"
      ],
      "execution_count": null,
      "outputs": [
        {
          "output_type": "execute_result",
          "data": {
            "text/html": [
              "<div>\n",
              "<style scoped>\n",
              "    .dataframe tbody tr th:only-of-type {\n",
              "        vertical-align: middle;\n",
              "    }\n",
              "\n",
              "    .dataframe tbody tr th {\n",
              "        vertical-align: top;\n",
              "    }\n",
              "\n",
              "    .dataframe thead th {\n",
              "        text-align: right;\n",
              "    }\n",
              "</style>\n",
              "<table border=\"1\" class=\"dataframe\">\n",
              "  <thead>\n",
              "    <tr style=\"text-align: right;\">\n",
              "      <th></th>\n",
              "      <th>datetime x segment_id</th>\n",
              "      <th>datetime</th>\n",
              "      <th>segment_id</th>\n",
              "      <th>y</th>\n",
              "      <th>year</th>\n",
              "      <th>month</th>\n",
              "      <th>day</th>\n",
              "      <th>hour</th>\n",
              "      <th>longitude</th>\n",
              "      <th>latitude</th>\n",
              "      <th>WIDTH</th>\n",
              "      <th>LANES</th>\n",
              "      <th>STATION_NA</th>\n",
              "    </tr>\n",
              "  </thead>\n",
              "  <tbody>\n",
              "    <tr>\n",
              "      <th>4765981</th>\n",
              "      <td>2017-12-31 22:00:00 x 43RCYZH</td>\n",
              "      <td>2017-12-31 22:00:00</td>\n",
              "      <td>43RCYZH</td>\n",
              "      <td>0</td>\n",
              "      <td>2017</td>\n",
              "      <td>12</td>\n",
              "      <td>6</td>\n",
              "      <td>22</td>\n",
              "      <td>19.12523</td>\n",
              "      <td>-33.726606</td>\n",
              "      <td>20.2</td>\n",
              "      <td>2</td>\n",
              "      <td>Paarl</td>\n",
              "    </tr>\n",
              "    <tr>\n",
              "      <th>4765982</th>\n",
              "      <td>2017-12-31 23:00:00 x 43RCYZH</td>\n",
              "      <td>2017-12-31 23:00:00</td>\n",
              "      <td>43RCYZH</td>\n",
              "      <td>0</td>\n",
              "      <td>2017</td>\n",
              "      <td>12</td>\n",
              "      <td>6</td>\n",
              "      <td>23</td>\n",
              "      <td>19.12523</td>\n",
              "      <td>-33.726606</td>\n",
              "      <td>20.2</td>\n",
              "      <td>2</td>\n",
              "      <td>Paarl</td>\n",
              "    </tr>\n",
              "    <tr>\n",
              "      <th>4765983</th>\n",
              "      <td>2018-01-01 00:00:00 x 43RCYZH</td>\n",
              "      <td>2018-01-01 00:00:00</td>\n",
              "      <td>43RCYZH</td>\n",
              "      <td>0</td>\n",
              "      <td>2018</td>\n",
              "      <td>1</td>\n",
              "      <td>0</td>\n",
              "      <td>0</td>\n",
              "      <td>19.12523</td>\n",
              "      <td>-33.726606</td>\n",
              "      <td>20.2</td>\n",
              "      <td>2</td>\n",
              "      <td>Paarl</td>\n",
              "    </tr>\n",
              "  </tbody>\n",
              "</table>\n",
              "</div>"
            ],
            "text/plain": [
              "                 datetime x segment_id            datetime  ... LANES  STATION_NA\n",
              "4765981  2017-12-31 22:00:00 x 43RCYZH 2017-12-31 22:00:00  ...     2       Paarl\n",
              "4765982  2017-12-31 23:00:00 x 43RCYZH 2017-12-31 23:00:00  ...     2       Paarl\n",
              "4765983  2018-01-01 00:00:00 x 43RCYZH 2018-01-01 00:00:00  ...     2       Paarl\n",
              "\n",
              "[3 rows x 13 columns]"
            ]
          },
          "metadata": {
            "tags": []
          },
          "execution_count": 41
        }
      ]
    },
    {
      "cell_type": "markdown",
      "metadata": {
        "id": "923T46UHXC9T",
        "colab_type": "text"
      },
      "source": [
        "#### Now we add the weather "
      ]
    },
    {
      "cell_type": "code",
      "metadata": {
        "colab_type": "code",
        "id": "YYGfWwa6irVG",
        "colab": {}
      },
      "source": [
        "# update train\n",
        "cols = ['dt', 'Air_temp', 'Atmos_press', 'Atmos_press_MeanSea', 'Humidity', 'MeanWindSpeed',\n",
        "        'Visibility', 'DewPoint', 'Rainfall', 'Weather_Stn']\n",
        "\n",
        "# we merge on two columns: time and weather station\n",
        "train = pd.merge(train,  weather[cols], left_on=['datetime', 'STATION_NA'],\n",
        "                 right_on=['dt', 'Weather_Stn'], how='left')\n",
        "test = pd.merge(test,  weather[cols], left_on=['datetime', 'STATION_NA'],\n",
        "                 right_on=['dt', 'Weather_Stn'], how='left')"
      ],
      "execution_count": null,
      "outputs": []
    },
    {
      "cell_type": "code",
      "metadata": {
        "id": "8FWkfhBqVs7r",
        "colab_type": "code",
        "colab": {
          "base_uri": "https://localhost:8080/",
          "height": 285
        },
        "outputId": "6079365d-3326-48f2-a4ce-4c614701ff7c"
      },
      "source": [
        "train.tail(3)"
      ],
      "execution_count": null,
      "outputs": [
        {
          "output_type": "execute_result",
          "data": {
            "text/html": [
              "<div>\n",
              "<style scoped>\n",
              "    .dataframe tbody tr th:only-of-type {\n",
              "        vertical-align: middle;\n",
              "    }\n",
              "\n",
              "    .dataframe tbody tr th {\n",
              "        vertical-align: top;\n",
              "    }\n",
              "\n",
              "    .dataframe thead th {\n",
              "        text-align: right;\n",
              "    }\n",
              "</style>\n",
              "<table border=\"1\" class=\"dataframe\">\n",
              "  <thead>\n",
              "    <tr style=\"text-align: right;\">\n",
              "      <th></th>\n",
              "      <th>datetime x segment_id</th>\n",
              "      <th>datetime</th>\n",
              "      <th>segment_id</th>\n",
              "      <th>y</th>\n",
              "      <th>year</th>\n",
              "      <th>month</th>\n",
              "      <th>day</th>\n",
              "      <th>hour</th>\n",
              "      <th>longitude</th>\n",
              "      <th>latitude</th>\n",
              "      <th>WIDTH</th>\n",
              "      <th>LANES</th>\n",
              "      <th>STATION_NA</th>\n",
              "      <th>dt</th>\n",
              "      <th>Air_temp</th>\n",
              "      <th>Atmos_press</th>\n",
              "      <th>Atmos_press_MeanSea</th>\n",
              "      <th>Humidity</th>\n",
              "      <th>MeanWindSpeed</th>\n",
              "      <th>Visibility</th>\n",
              "      <th>DewPoint</th>\n",
              "      <th>Rainfall</th>\n",
              "      <th>Weather_Stn</th>\n",
              "    </tr>\n",
              "  </thead>\n",
              "  <tbody>\n",
              "    <tr>\n",
              "      <th>4765981</th>\n",
              "      <td>2017-12-31 22:00:00 x 43RCYZH</td>\n",
              "      <td>2017-12-31 22:00:00</td>\n",
              "      <td>43RCYZH</td>\n",
              "      <td>0</td>\n",
              "      <td>2017</td>\n",
              "      <td>12</td>\n",
              "      <td>6</td>\n",
              "      <td>22</td>\n",
              "      <td>19.12523</td>\n",
              "      <td>-33.726606</td>\n",
              "      <td>20.2</td>\n",
              "      <td>2</td>\n",
              "      <td>Paarl</td>\n",
              "      <td>2017-12-31 22:00:00</td>\n",
              "      <td>18.300000</td>\n",
              "      <td>749.500000</td>\n",
              "      <td>NaN</td>\n",
              "      <td>81.000000</td>\n",
              "      <td>2.0</td>\n",
              "      <td>NaN</td>\n",
              "      <td>14.8</td>\n",
              "      <td>NaN</td>\n",
              "      <td>Paarl</td>\n",
              "    </tr>\n",
              "    <tr>\n",
              "      <th>4765982</th>\n",
              "      <td>2017-12-31 23:00:00 x 43RCYZH</td>\n",
              "      <td>2017-12-31 23:00:00</td>\n",
              "      <td>43RCYZH</td>\n",
              "      <td>0</td>\n",
              "      <td>2017</td>\n",
              "      <td>12</td>\n",
              "      <td>6</td>\n",
              "      <td>23</td>\n",
              "      <td>19.12523</td>\n",
              "      <td>-33.726606</td>\n",
              "      <td>20.2</td>\n",
              "      <td>2</td>\n",
              "      <td>Paarl</td>\n",
              "      <td>2017-12-31 23:00:00</td>\n",
              "      <td>17.500000</td>\n",
              "      <td>749.900000</td>\n",
              "      <td>NaN</td>\n",
              "      <td>89.000000</td>\n",
              "      <td>2.0</td>\n",
              "      <td>NaN</td>\n",
              "      <td>15.6</td>\n",
              "      <td>NaN</td>\n",
              "      <td>Paarl</td>\n",
              "    </tr>\n",
              "    <tr>\n",
              "      <th>4765983</th>\n",
              "      <td>2018-01-01 00:00:00 x 43RCYZH</td>\n",
              "      <td>2018-01-01 00:00:00</td>\n",
              "      <td>43RCYZH</td>\n",
              "      <td>0</td>\n",
              "      <td>2018</td>\n",
              "      <td>1</td>\n",
              "      <td>0</td>\n",
              "      <td>0</td>\n",
              "      <td>19.12523</td>\n",
              "      <td>-33.726606</td>\n",
              "      <td>20.2</td>\n",
              "      <td>2</td>\n",
              "      <td>Paarl</td>\n",
              "      <td>2018-01-01 00:00:00</td>\n",
              "      <td>17.366667</td>\n",
              "      <td>750.033333</td>\n",
              "      <td>NaN</td>\n",
              "      <td>86.333333</td>\n",
              "      <td>2.0</td>\n",
              "      <td>NaN</td>\n",
              "      <td>15.0</td>\n",
              "      <td>NaN</td>\n",
              "      <td>Paarl</td>\n",
              "    </tr>\n",
              "  </tbody>\n",
              "</table>\n",
              "</div>"
            ],
            "text/plain": [
              "                 datetime x segment_id  ... Weather_Stn\n",
              "4765981  2017-12-31 22:00:00 x 43RCYZH  ...       Paarl\n",
              "4765982  2017-12-31 23:00:00 x 43RCYZH  ...       Paarl\n",
              "4765983  2018-01-01 00:00:00 x 43RCYZH  ...       Paarl\n",
              "\n",
              "[3 rows x 23 columns]"
            ]
          },
          "metadata": {
            "tags": []
          },
          "execution_count": 53
        }
      ]
    },
    {
      "cell_type": "code",
      "metadata": {
        "id": "7HKnwkf3V8i9",
        "colab_type": "code",
        "colab": {
          "base_uri": "https://localhost:8080/",
          "height": 73
        },
        "outputId": "ff509faf-2b7e-42a9-e110-429ca4a66ebd"
      },
      "source": [
        "print(train.shape)\n",
        "print('')\n",
        "print(test.shape)"
      ],
      "execution_count": null,
      "outputs": [
        {
          "output_type": "stream",
          "text": [
            "(4765984, 23)\n",
            "\n",
            "(1580320, 23)\n"
          ],
          "name": "stdout"
        }
      ]
    },
    {
      "cell_type": "code",
      "metadata": {
        "id": "dKHJhh4fjM2P",
        "colab_type": "code",
        "colab": {
          "base_uri": "https://localhost:8080/",
          "height": 576
        },
        "outputId": "ffcee899-67db-4b0e-d494-469905ae51af"
      },
      "source": [
        "train.info()"
      ],
      "execution_count": null,
      "outputs": [
        {
          "output_type": "stream",
          "text": [
            "<class 'pandas.core.frame.DataFrame'>\n",
            "Int64Index: 4765984 entries, 0 to 4765983\n",
            "Data columns (total 23 columns):\n",
            " #   Column                 Dtype         \n",
            "---  ------                 -----         \n",
            " 0   datetime x segment_id  object        \n",
            " 1   datetime               datetime64[ns]\n",
            " 2   segment_id             object        \n",
            " 3   y                      int64         \n",
            " 4   year                   int64         \n",
            " 5   month                  int64         \n",
            " 6   day                    int64         \n",
            " 7   hour                   int64         \n",
            " 8   longitude              float64       \n",
            " 9   latitude               float64       \n",
            " 10  WIDTH                  float64       \n",
            " 11  LANES                  int64         \n",
            " 12  STATION_NA             object        \n",
            " 13  dt                     datetime64[ns]\n",
            " 14  Air_temp               float64       \n",
            " 15  Atmos_press            float64       \n",
            " 16  Atmos_press_MeanSea    float64       \n",
            " 17  Humidity               float64       \n",
            " 18  MeanWindSpeed          float64       \n",
            " 19  Visibility             float64       \n",
            " 20  DewPoint               float64       \n",
            " 21  Rainfall               float64       \n",
            " 22  Weather_Stn            object        \n",
            "dtypes: datetime64[ns](2), float64(11), int64(6), object(4)\n",
            "memory usage: 872.7+ MB\n"
          ],
          "name": "stdout"
        }
      ]
    },
    {
      "cell_type": "code",
      "metadata": {
        "id": "YChB1k2b8Yrq",
        "colab_type": "code",
        "colab": {}
      },
      "source": [
        "#delete\n",
        "train.drop(['dt', 'Weather_Stn'], axis=1, inplace=True)\n",
        "test.drop(['dt', 'Weather_Stn'], axis=1, inplace=True)\n"
      ],
      "execution_count": null,
      "outputs": []
    },
    {
      "cell_type": "markdown",
      "metadata": {
        "id": "shg3qJzop-0Y",
        "colab_type": "text"
      },
      "source": [
        "#### Save it to add car-count and travel time data later."
      ]
    },
    {
      "cell_type": "code",
      "metadata": {
        "id": "eypup6w_p8Ad",
        "colab_type": "code",
        "colab": {}
      },
      "source": [
        "#save it\n",
        "train.to_csv(path/'data/train_with_weather.csv', index = False)\n",
        "test.to_csv(path/'data/test_with_weather.csv', index = False)\n",
        "\n",
        "#save the weather as well\n",
        "weather.to_csv(path/'data/weather/weather_all.csv', index = False)"
      ],
      "execution_count": null,
      "outputs": []
    },
    {
      "cell_type": "code",
      "metadata": {
        "id": "z69UDJzsmVSe",
        "colab_type": "code",
        "colab": {}
      },
      "source": [
        "#clean up\n",
        "stra_weat_inter, paarl_weat_inter, cpt_air_inter, yster_weat_inter, mol_weat_inter = 0, 0, 0, 0, 0\n",
        "stra_weat_h, paarl_weat_h, cpt_air_h, yster_weat_h, mol_weat_h = 0, 0, 0, 0, 0\n",
        "stra_weat, paarl_weat, cpt_air, yster_weat, mol_weat = 0, 0, 0, 0, 0\n",
        "inter_columns, weather, stations, cpt_stations = 0, 0, 0, 0"
      ],
      "execution_count": null,
      "outputs": []
    }
  ]
}